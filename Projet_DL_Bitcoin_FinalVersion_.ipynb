{
  "nbformat": 4,
  "nbformat_minor": 0,
  "metadata": {
    "kernelspec": {
      "name": "python3",
      "display_name": "Python 3"
    },
    "language_info": {
      "codemirror_mode": {
        "name": "ipython",
        "version": 3
      },
      "file_extension": ".py",
      "mimetype": "text/x-python",
      "name": "python",
      "nbconvert_exporter": "python",
      "pygments_lexer": "ipython3",
      "version": "3.6.7"
    },
    "colab": {
      "name": "Projet_DL_Bitcoin_FinalVersion .ipynb",
      "provenance": [],
      "collapsed_sections": [],
      "include_colab_link": true
    },
    "accelerator": "GPU"
  },
  "cells": [
    {
      "cell_type": "markdown",
      "metadata": {
        "id": "view-in-github",
        "colab_type": "text"
      },
      "source": [
        "<a href=\"https://colab.research.google.com/github/IsmailHaris/Bitcoin-Prediction/blob/master/Projet_DL_Bitcoin_FinalVersion_.ipynb\" target=\"_parent\"><img src=\"https://colab.research.google.com/assets/colab-badge.svg\" alt=\"Open In Colab\"/></a>"
      ]
    },
    {
      "cell_type": "markdown",
      "metadata": {
        "id": "oQ_60whMDaxM",
        "colab_type": "text"
      },
      "source": [
        "# Bitcoin Price Prediction using Deep Learning \n"
      ]
    },
    {
      "cell_type": "code",
      "metadata": {
        "id": "Y9dHiCosDvdr",
        "colab_type": "code",
        "outputId": "4e0953f2-4751-4c52-a49c-297711104801",
        "colab": {
          "base_uri": "https://localhost:8080/",
          "height": 661
        }
      },
      "source": [
        "%tensorflow_version 2.x\n",
        "!pip uninstall -y tensorflow\n",
        "!pip install tensorflow-gpu==1.14.0"
      ],
      "execution_count": 0,
      "outputs": [
        {
          "output_type": "stream",
          "text": [
            "Uninstalling tensorflow-2.2.0rc2:\n",
            "  Successfully uninstalled tensorflow-2.2.0rc2\n",
            "Collecting tensorflow-gpu==1.14.0\n",
            "\u001b[?25l  Downloading https://files.pythonhosted.org/packages/76/04/43153bfdfcf6c9a4c38ecdb971ca9a75b9a791bb69a764d652c359aca504/tensorflow_gpu-1.14.0-cp36-cp36m-manylinux1_x86_64.whl (377.0MB)\n",
            "\u001b[K     |████████████████████████████████| 377.0MB 43kB/s \n",
            "\u001b[?25hRequirement already satisfied: astor>=0.6.0 in /usr/local/lib/python3.6/dist-packages (from tensorflow-gpu==1.14.0) (0.8.1)\n",
            "Requirement already satisfied: google-pasta>=0.1.6 in /usr/local/lib/python3.6/dist-packages (from tensorflow-gpu==1.14.0) (0.2.0)\n",
            "Requirement already satisfied: gast>=0.2.0 in /usr/local/lib/python3.6/dist-packages (from tensorflow-gpu==1.14.0) (0.3.3)\n",
            "Requirement already satisfied: keras-applications>=1.0.6 in /usr/local/lib/python3.6/dist-packages (from tensorflow-gpu==1.14.0) (1.0.8)\n",
            "Requirement already satisfied: protobuf>=3.6.1 in /usr/local/lib/python3.6/dist-packages (from tensorflow-gpu==1.14.0) (3.10.0)\n",
            "Requirement already satisfied: six>=1.10.0 in /usr/local/lib/python3.6/dist-packages (from tensorflow-gpu==1.14.0) (1.12.0)\n",
            "Requirement already satisfied: wheel>=0.26 in /usr/local/lib/python3.6/dist-packages (from tensorflow-gpu==1.14.0) (0.34.2)\n",
            "Requirement already satisfied: grpcio>=1.8.6 in /usr/local/lib/python3.6/dist-packages (from tensorflow-gpu==1.14.0) (1.28.1)\n",
            "Requirement already satisfied: absl-py>=0.7.0 in /usr/local/lib/python3.6/dist-packages (from tensorflow-gpu==1.14.0) (0.9.0)\n",
            "Requirement already satisfied: termcolor>=1.1.0 in /usr/local/lib/python3.6/dist-packages (from tensorflow-gpu==1.14.0) (1.1.0)\n",
            "Requirement already satisfied: wrapt>=1.11.1 in /usr/local/lib/python3.6/dist-packages (from tensorflow-gpu==1.14.0) (1.12.1)\n",
            "Collecting tensorboard<1.15.0,>=1.14.0\n",
            "\u001b[?25l  Downloading https://files.pythonhosted.org/packages/91/2d/2ed263449a078cd9c8a9ba50ebd50123adf1f8cfbea1492f9084169b89d9/tensorboard-1.14.0-py3-none-any.whl (3.1MB)\n",
            "\u001b[K     |████████████████████████████████| 3.2MB 39.9MB/s \n",
            "\u001b[?25hRequirement already satisfied: numpy<2.0,>=1.14.5 in /usr/local/lib/python3.6/dist-packages (from tensorflow-gpu==1.14.0) (1.18.2)\n",
            "Collecting tensorflow-estimator<1.15.0rc0,>=1.14.0rc0\n",
            "\u001b[?25l  Downloading https://files.pythonhosted.org/packages/3c/d5/21860a5b11caf0678fbc8319341b0ae21a07156911132e0e71bffed0510d/tensorflow_estimator-1.14.0-py2.py3-none-any.whl (488kB)\n",
            "\u001b[K     |████████████████████████████████| 491kB 40.8MB/s \n",
            "\u001b[?25hRequirement already satisfied: keras-preprocessing>=1.0.5 in /usr/local/lib/python3.6/dist-packages (from tensorflow-gpu==1.14.0) (1.1.0)\n",
            "Requirement already satisfied: h5py in /usr/local/lib/python3.6/dist-packages (from keras-applications>=1.0.6->tensorflow-gpu==1.14.0) (2.10.0)\n",
            "Requirement already satisfied: setuptools in /usr/local/lib/python3.6/dist-packages (from protobuf>=3.6.1->tensorflow-gpu==1.14.0) (46.1.3)\n",
            "Requirement already satisfied: markdown>=2.6.8 in /usr/local/lib/python3.6/dist-packages (from tensorboard<1.15.0,>=1.14.0->tensorflow-gpu==1.14.0) (3.2.1)\n",
            "Requirement already satisfied: werkzeug>=0.11.15 in /usr/local/lib/python3.6/dist-packages (from tensorboard<1.15.0,>=1.14.0->tensorflow-gpu==1.14.0) (1.0.1)\n",
            "Installing collected packages: tensorboard, tensorflow-estimator, tensorflow-gpu\n",
            "  Found existing installation: tensorboard 2.2.0\n",
            "    Uninstalling tensorboard-2.2.0:\n",
            "      Successfully uninstalled tensorboard-2.2.0\n",
            "  Found existing installation: tensorflow-estimator 2.2.0rc0\n",
            "    Uninstalling tensorflow-estimator-2.2.0rc0:\n",
            "      Successfully uninstalled tensorflow-estimator-2.2.0rc0\n",
            "Successfully installed tensorboard-1.14.0 tensorflow-estimator-1.14.0 tensorflow-gpu-1.14.0\n"
          ],
          "name": "stdout"
        }
      ]
    },
    {
      "cell_type": "markdown",
      "metadata": {
        "id": "ESK9ZtBQDaxN",
        "colab_type": "text"
      },
      "source": [
        "The goal of this work is to use different Deep Learning algorithms to predict the evolution of the Bircoin price. We'll compare the usual ARIMA time series with the Multilayer Perceptron MLP, the LSTM (1 and 2 layers), Multiple 1D CNN, and the GRU (1 and 2 layers). This work is based on a research paper from University of California Berkeley ('A gated recurrent unit approach to Bitcoin Price Prediction) released in December 2019. "
      ]
    },
    {
      "cell_type": "markdown",
      "metadata": {
        "id": "AqoosBcwDaxO",
        "colab_type": "text"
      },
      "source": [
        "Bitcoin is the first decentralized digital currency. This means it is not governed by any central bank or some other authority. This cryptocurrency was created in 2009 but it became extremely popular in 2017. Some experts call bitcoin \"the currency of the future\" or even lead it as an example of the social revolution. The bitcoin price has increased several times during the 2017 year. At the same time, it is very volatile. Many economic entities are interested in tools for predicting the bitcoin prices. It is especially important for existing or potential investors and for government structures. The last needs to be ready to significant price movements to prepare a consistent economic policy. So, the demand for Bitcoin price prediction mechanism is high."
      ]
    },
    {
      "cell_type": "markdown",
      "metadata": {
        "id": "zIz-XWYSDaxQ",
        "colab_type": "text"
      },
      "source": [
        "# Imports \n",
        "\n",
        "The first thing we do is importing all the necessary python libraries."
      ]
    },
    {
      "cell_type": "code",
      "metadata": {
        "id": "U7eVm7gbDaxR",
        "colab_type": "code",
        "outputId": "956e7914-3d61-41c1-caef-20886192d40f",
        "colab": {
          "base_uri": "https://localhost:8080/",
          "height": 540
        }
      },
      "source": [
        "import pandas as pd\n",
        "import sys\n",
        "import numpy as np\n",
        "import tensorflow as tf\n",
        "import matplotlib.pyplot as plt\n",
        "from datetime import datetime\n",
        "from sklearn.preprocessing import MinMaxScaler\n",
        "from sklearn.preprocessing import LabelEncoder\n",
        "from sklearn.metrics import mean_squared_error\n",
        "from keras.models import Sequential\n",
        "from keras.layers import Dense\n",
        "from keras.layers import Dropout\n",
        "from keras.layers import LSTM\n",
        "import plotly.offline as py\n",
        "import time\n",
        "import plotly.graph_objs as go\n",
        "import seaborn as sns\n",
        "import statsmodels.api as sm\n",
        "from scipy import stats\n",
        "from math import sqrt\n",
        "from random import randint\n",
        "from keras.layers import GRU\n",
        "from keras.callbacks import EarlyStopping\n",
        "from keras import initializers\n",
        "from keras import regularizers\n",
        "from matplotlib import pyplot\n",
        "from datetime import datetime\n",
        "import plotly.offline as py\n",
        "import plotly.graph_objs as go\n",
        "import seaborn as sns\n",
        "import sklearn as sk\n",
        "sns.set()"
      ],
      "execution_count": 0,
      "outputs": [
        {
          "output_type": "stream",
          "text": [
            "/usr/local/lib/python3.6/dist-packages/tensorflow/python/framework/dtypes.py:516: FutureWarning: Passing (type, 1) or '1type' as a synonym of type is deprecated; in a future version of numpy, it will be understood as (type, (1,)) / '(1,)type'.\n",
            "  _np_qint8 = np.dtype([(\"qint8\", np.int8, 1)])\n",
            "/usr/local/lib/python3.6/dist-packages/tensorflow/python/framework/dtypes.py:517: FutureWarning: Passing (type, 1) or '1type' as a synonym of type is deprecated; in a future version of numpy, it will be understood as (type, (1,)) / '(1,)type'.\n",
            "  _np_quint8 = np.dtype([(\"quint8\", np.uint8, 1)])\n",
            "/usr/local/lib/python3.6/dist-packages/tensorflow/python/framework/dtypes.py:518: FutureWarning: Passing (type, 1) or '1type' as a synonym of type is deprecated; in a future version of numpy, it will be understood as (type, (1,)) / '(1,)type'.\n",
            "  _np_qint16 = np.dtype([(\"qint16\", np.int16, 1)])\n",
            "/usr/local/lib/python3.6/dist-packages/tensorflow/python/framework/dtypes.py:519: FutureWarning: Passing (type, 1) or '1type' as a synonym of type is deprecated; in a future version of numpy, it will be understood as (type, (1,)) / '(1,)type'.\n",
            "  _np_quint16 = np.dtype([(\"quint16\", np.uint16, 1)])\n",
            "/usr/local/lib/python3.6/dist-packages/tensorflow/python/framework/dtypes.py:520: FutureWarning: Passing (type, 1) or '1type' as a synonym of type is deprecated; in a future version of numpy, it will be understood as (type, (1,)) / '(1,)type'.\n",
            "  _np_qint32 = np.dtype([(\"qint32\", np.int32, 1)])\n",
            "/usr/local/lib/python3.6/dist-packages/tensorflow/python/framework/dtypes.py:525: FutureWarning: Passing (type, 1) or '1type' as a synonym of type is deprecated; in a future version of numpy, it will be understood as (type, (1,)) / '(1,)type'.\n",
            "  np_resource = np.dtype([(\"resource\", np.ubyte, 1)])\n",
            "/usr/local/lib/python3.6/dist-packages/tensorboard/compat/tensorflow_stub/dtypes.py:541: FutureWarning: Passing (type, 1) or '1type' as a synonym of type is deprecated; in a future version of numpy, it will be understood as (type, (1,)) / '(1,)type'.\n",
            "  _np_qint8 = np.dtype([(\"qint8\", np.int8, 1)])\n",
            "/usr/local/lib/python3.6/dist-packages/tensorboard/compat/tensorflow_stub/dtypes.py:542: FutureWarning: Passing (type, 1) or '1type' as a synonym of type is deprecated; in a future version of numpy, it will be understood as (type, (1,)) / '(1,)type'.\n",
            "  _np_quint8 = np.dtype([(\"quint8\", np.uint8, 1)])\n",
            "/usr/local/lib/python3.6/dist-packages/tensorboard/compat/tensorflow_stub/dtypes.py:543: FutureWarning: Passing (type, 1) or '1type' as a synonym of type is deprecated; in a future version of numpy, it will be understood as (type, (1,)) / '(1,)type'.\n",
            "  _np_qint16 = np.dtype([(\"qint16\", np.int16, 1)])\n",
            "/usr/local/lib/python3.6/dist-packages/tensorboard/compat/tensorflow_stub/dtypes.py:544: FutureWarning: Passing (type, 1) or '1type' as a synonym of type is deprecated; in a future version of numpy, it will be understood as (type, (1,)) / '(1,)type'.\n",
            "  _np_quint16 = np.dtype([(\"quint16\", np.uint16, 1)])\n",
            "/usr/local/lib/python3.6/dist-packages/tensorboard/compat/tensorflow_stub/dtypes.py:545: FutureWarning: Passing (type, 1) or '1type' as a synonym of type is deprecated; in a future version of numpy, it will be understood as (type, (1,)) / '(1,)type'.\n",
            "  _np_qint32 = np.dtype([(\"qint32\", np.int32, 1)])\n",
            "/usr/local/lib/python3.6/dist-packages/tensorboard/compat/tensorflow_stub/dtypes.py:550: FutureWarning: Passing (type, 1) or '1type' as a synonym of type is deprecated; in a future version of numpy, it will be understood as (type, (1,)) / '(1,)type'.\n",
            "  np_resource = np.dtype([(\"resource\", np.ubyte, 1)])\n",
            "Using TensorFlow backend.\n",
            "/usr/local/lib/python3.6/dist-packages/statsmodels/tools/_testing.py:19: FutureWarning:\n",
            "\n",
            "pandas.util.testing is deprecated. Use the functions in the public API at pandas.testing instead.\n",
            "\n"
          ],
          "name": "stderr"
        }
      ]
    },
    {
      "cell_type": "code",
      "metadata": {
        "id": "1ddkaJTqDaxX",
        "colab_type": "code",
        "outputId": "02798092-796d-48e9-c294-6fd13e52f9bb",
        "colab": {
          "base_uri": "https://localhost:8080/",
          "height": 87
        }
      },
      "source": [
        "print('Using python {}.{}, with modules versions'.format(sys.version_info.major, sys.version_info.minor))\n",
        "print('-'*40)\n",
        "print('numpy == {}'.format(np.__version__))\n",
        "print('torch == {}'.format(tf.__version__))  "
      ],
      "execution_count": 0,
      "outputs": [
        {
          "output_type": "stream",
          "text": [
            "Using python 3.6, with modules versions\n",
            "----------------------------------------\n",
            "numpy == 1.18.2\n",
            "torch == 1.14.0\n"
          ],
          "name": "stdout"
        }
      ]
    },
    {
      "cell_type": "markdown",
      "metadata": {
        "id": "fJt2pir7Daxe",
        "colab_type": "text"
      },
      "source": [
        "# Load Dataset"
      ]
    },
    {
      "cell_type": "code",
      "metadata": {
        "id": "5wfuOqOwDaxf",
        "colab_type": "code",
        "outputId": "63a21364-80d2-40e5-f22f-432ecb0100e7",
        "colab": {
          "resources": {
            "http://localhost:8080/nbextensions/google.colab/files.js": {
              "data": "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",
              "ok": true,
              "headers": [
                [
                  "content-type",
                  "application/javascript"
                ]
              ],
              "status": 200,
              "status_text": ""
            }
          },
          "base_uri": "https://localhost:8080/",
          "height": 75
        }
      },
      "source": [
        "from google.colab import files\n",
        "uploaded = files.upload()"
      ],
      "execution_count": 0,
      "outputs": [
        {
          "output_type": "display_data",
          "data": {
            "text/html": [
              "\n",
              "     <input type=\"file\" id=\"files-e19abad3-12db-4c3b-9970-0aad6e357277\" name=\"files[]\" multiple disabled />\n",
              "     <output id=\"result-e19abad3-12db-4c3b-9970-0aad6e357277\">\n",
              "      Upload widget is only available when the cell has been executed in the\n",
              "      current browser session. Please rerun this cell to enable.\n",
              "      </output>\n",
              "      <script src=\"/nbextensions/google.colab/files.js\"></script> "
            ],
            "text/plain": [
              "<IPython.core.display.HTML object>"
            ]
          },
          "metadata": {
            "tags": []
          }
        },
        {
          "output_type": "stream",
          "text": [
            "Saving Bitcoindata.csv to Bitcoindata.csv\n"
          ],
          "name": "stdout"
        }
      ]
    },
    {
      "cell_type": "code",
      "metadata": {
        "id": "f-AJw0eADaxl",
        "colab_type": "code",
        "outputId": "5f95a3b5-6dd7-4074-918b-4fbaf8ebde24",
        "colab": {
          "base_uri": "https://localhost:8080/",
          "height": 202
        }
      },
      "source": [
        "data = pd.read_csv(\"Bitcoindata.csv\", sep=';') \n",
        "data.head()"
      ],
      "execution_count": 0,
      "outputs": [
        {
          "output_type": "execute_result",
          "data": {
            "text/html": [
              "<div>\n",
              "<style scoped>\n",
              "    .dataframe tbody tr th:only-of-type {\n",
              "        vertical-align: middle;\n",
              "    }\n",
              "\n",
              "    .dataframe tbody tr th {\n",
              "        vertical-align: top;\n",
              "    }\n",
              "\n",
              "    .dataframe thead th {\n",
              "        text-align: right;\n",
              "    }\n",
              "</style>\n",
              "<table border=\"1\" class=\"dataframe\">\n",
              "  <thead>\n",
              "    <tr style=\"text-align: right;\">\n",
              "      <th></th>\n",
              "      <th>Date</th>\n",
              "      <th>Bitcoin Core (BTC) Price</th>\n",
              "      <th>Money Supply</th>\n",
              "      <th>Price Volatility</th>\n",
              "      <th>Daily Transactions</th>\n",
              "      <th>Block Size</th>\n",
              "      <th>Transaction Fees</th>\n",
              "      <th>Inflation Rate</th>\n",
              "    </tr>\n",
              "  </thead>\n",
              "  <tbody>\n",
              "    <tr>\n",
              "      <th>0</th>\n",
              "      <td>06/02/2011</td>\n",
              "      <td>0.89</td>\n",
              "      <td>5321500.0</td>\n",
              "      <td>164.844710</td>\n",
              "      <td>876</td>\n",
              "      <td>1586</td>\n",
              "      <td>0.178263</td>\n",
              "      <td>174.722</td>\n",
              "    </tr>\n",
              "    <tr>\n",
              "      <th>1</th>\n",
              "      <td>07/02/2011</td>\n",
              "      <td>0.89</td>\n",
              "      <td>5330350.0</td>\n",
              "      <td>164.987700</td>\n",
              "      <td>861</td>\n",
              "      <td>1685</td>\n",
              "      <td>0.101126</td>\n",
              "      <td>173.646</td>\n",
              "    </tr>\n",
              "    <tr>\n",
              "      <th>2</th>\n",
              "      <td>08/02/2011</td>\n",
              "      <td>0.88</td>\n",
              "      <td>5340500.0</td>\n",
              "      <td>165.328338</td>\n",
              "      <td>888</td>\n",
              "      <td>1316</td>\n",
              "      <td>0.315472</td>\n",
              "      <td>172.767</td>\n",
              "    </tr>\n",
              "    <tr>\n",
              "      <th>3</th>\n",
              "      <td>09/02/2011</td>\n",
              "      <td>0.91</td>\n",
              "      <td>5348900.0</td>\n",
              "      <td>164.880682</td>\n",
              "      <td>879</td>\n",
              "      <td>1615</td>\n",
              "      <td>0.177370</td>\n",
              "      <td>171.759</td>\n",
              "    </tr>\n",
              "    <tr>\n",
              "      <th>4</th>\n",
              "      <td>10/02/2011</td>\n",
              "      <td>1.03</td>\n",
              "      <td>5358500.0</td>\n",
              "      <td>167.764321</td>\n",
              "      <td>1246</td>\n",
              "      <td>1973</td>\n",
              "      <td>0.065517</td>\n",
              "      <td>171.090</td>\n",
              "    </tr>\n",
              "  </tbody>\n",
              "</table>\n",
              "</div>"
            ],
            "text/plain": [
              "         Date  Bitcoin Core (BTC) Price  ...  Transaction Fees  Inflation Rate\n",
              "0  06/02/2011                      0.89  ...          0.178263         174.722\n",
              "1  07/02/2011                      0.89  ...          0.101126         173.646\n",
              "2  08/02/2011                      0.88  ...          0.315472         172.767\n",
              "3  09/02/2011                      0.91  ...          0.177370         171.759\n",
              "4  10/02/2011                      1.03  ...          0.065517         171.090\n",
              "\n",
              "[5 rows x 8 columns]"
            ]
          },
          "metadata": {
            "tags": []
          },
          "execution_count": 5
        }
      ]
    },
    {
      "cell_type": "markdown",
      "metadata": {
        "id": "5h0kZc3iDaxr",
        "colab_type": "text"
      },
      "source": [
        "Dataset source : https://charts.bitcoin.com\n",
        "\n",
        "* Bitcoin Core Price BTC : Bitcoin prices\n",
        "\n",
        "* Monney Supply : The amount of Bitcoin Core (BTC) in circulation\n",
        "\n",
        "* Price Volatility : The annualized daily volatility of price changes. Price\n",
        "volatility is computed as the standard deviation of daily\n",
        "returns, scaled by the square root of 365 to annualize, and\n",
        "expressed as a decimal.\n",
        "\n",
        "* Daily Transactions : The number of transactions included in the blockchain each day\n",
        "\n",
        "* Block Size : Miners collect Bitcoin Core (BTC) transactions into distinct\n",
        "packets of data called blocks. Each block is cryptographically\n",
        "linked to the preceding block, forming a \"blockchain.\" As more\n",
        "people use the Bitcoin Core (BTC) network for Bitcoin Core\n",
        "(BTC) transactions, the block size increases\n",
        "\n",
        "* Transaction Fees : Total amount of Bitcoin Core (BTC) fees earned by all miners in\n",
        "24-hour period, measured in Bitcoin Core (BTC).\n",
        "\n",
        "* Inflation rate : The federal funds rate decide the shape of the future interest\n",
        "rates in the economy."
      ]
    },
    {
      "cell_type": "markdown",
      "metadata": {
        "id": "oC1tr3fjDaxs",
        "colab_type": "text"
      },
      "source": [
        "# Exploratory Data Analysis"
      ]
    },
    {
      "cell_type": "code",
      "metadata": {
        "id": "TeqCjr4WDaxt",
        "colab_type": "code",
        "outputId": "49ed5815-bead-4fdc-ff94-642deca46622",
        "colab": {
          "base_uri": "https://localhost:8080/",
          "height": 277
        }
      },
      "source": [
        "data.info()"
      ],
      "execution_count": 0,
      "outputs": [
        {
          "output_type": "stream",
          "text": [
            "<class 'pandas.core.frame.DataFrame'>\n",
            "RangeIndex: 3333 entries, 0 to 3332\n",
            "Data columns (total 8 columns):\n",
            " #   Column                    Non-Null Count  Dtype  \n",
            "---  ------                    --------------  -----  \n",
            " 0   Date                      3333 non-null   object \n",
            " 1   Bitcoin Core (BTC) Price  3333 non-null   float64\n",
            " 2   Money Supply              3333 non-null   float64\n",
            " 3   Price Volatility          3333 non-null   float64\n",
            " 4   Daily Transactions        3333 non-null   int64  \n",
            " 5   Block Size                3333 non-null   int64  \n",
            " 6   Transaction Fees          3333 non-null   float64\n",
            " 7   Inflation Rate            3333 non-null   float64\n",
            "dtypes: float64(5), int64(2), object(1)\n",
            "memory usage: 208.4+ KB\n"
          ],
          "name": "stdout"
        }
      ]
    },
    {
      "cell_type": "markdown",
      "metadata": {
        "id": "wbEYFzdwDaxx",
        "colab_type": "text"
      },
      "source": [
        "Bitcoin price shape through time "
      ]
    },
    {
      "cell_type": "code",
      "metadata": {
        "id": "MMzHW_50Daxz",
        "colab_type": "code",
        "outputId": "f41ed2d6-23a7-4d82-8b3e-9dd4d7447445",
        "colab": {
          "base_uri": "https://localhost:8080/",
          "height": 542
        }
      },
      "source": [
        "btc_trace = go.Scatter(x=data['Date'], y=data['Bitcoin Core (BTC) Price'], name= 'Price')\n",
        "py.iplot([btc_trace])"
      ],
      "execution_count": 0,
      "outputs": [
        {
          "output_type": "display_data",
          "data": {
            "text/html": [
              "<html>\n",
              "<head><meta charset=\"utf-8\" /></head>\n",
              "<body>\n",
              "    <div>\n",
              "            <script src=\"https://cdnjs.cloudflare.com/ajax/libs/mathjax/2.7.5/MathJax.js?config=TeX-AMS-MML_SVG\"></script><script type=\"text/javascript\">if (window.MathJax) {MathJax.Hub.Config({SVG: {font: \"STIX-Web\"}});}</script>\n",
              "                <script type=\"text/javascript\">window.PlotlyConfig = {MathJaxConfig: 'local'};</script>\n",
              "        <script src=\"https://cdn.plot.ly/plotly-latest.min.js\"></script>    \n",
              "            <div id=\"52b9f42c-a4ee-4eaa-8b8a-1fcec02defed\" class=\"plotly-graph-div\" style=\"height:525px; width:100%;\"></div>\n",
              "            <script type=\"text/javascript\">\n",
              "                \n",
              "                    window.PLOTLYENV=window.PLOTLYENV || {};\n",
              "                    \n",
              "                if (document.getElementById(\"52b9f42c-a4ee-4eaa-8b8a-1fcec02defed\")) {\n",
              "                    Plotly.newPlot(\n",
              "                        '52b9f42c-a4ee-4eaa-8b8a-1fcec02defed',\n",
              "                        [{\"name\": \"Price\", \"type\": \"scatter\", \"x\": [\"06/02/2011\", \"07/02/2011\", \"08/02/2011\", \"09/02/2011\", \"10/02/2011\", \"11/02/2011\", \"12/02/2011\", \"13/02/2011\", \"14/02/2011\", \"15/02/2011\", \"16/02/2011\", \"17/02/2011\", \"18/02/2011\", \"19/02/2011\", \"20/02/2011\", \"21/02/2011\", \"22/02/2011\", \"23/02/2011\", \"24/02/2011\", \"25/02/2011\", \"26/02/2011\", \"27/02/2011\", \"28/02/2011\", \"01/03/2011\", \"02/03/2011\", \"03/03/2011\", \"04/03/2011\", \"05/03/2011\", \"06/03/2011\", \"07/03/2011\", \"08/03/2011\", \"09/03/2011\", \"10/03/2011\", \"11/03/2011\", \"12/03/2011\", \"13/03/2011\", \"14/03/2011\", \"15/03/2011\", \"16/03/2011\", \"17/03/2011\", \"18/03/2011\", \"19/03/2011\", \"20/03/2011\", \"21/03/2011\", \"22/03/2011\", \"23/03/2011\", \"24/03/2011\", \"25/03/2011\", \"26/03/2011\", \"27/03/2011\", \"28/03/2011\", \"29/03/2011\", \"30/03/2011\", \"31/03/2011\", \"01/04/2011\", \"02/04/2011\", \"03/04/2011\", \"04/04/2011\", \"05/04/2011\", \"06/04/2011\", \"07/04/2011\", \"08/04/2011\", \"09/04/2011\", \"10/04/2011\", \"11/04/2011\", \"12/04/2011\", \"13/04/2011\", \"14/04/2011\", \"15/04/2011\", \"16/04/2011\", \"17/04/2011\", \"18/04/2011\", \"19/04/2011\", \"20/04/2011\", \"21/04/2011\", \"22/04/2011\", \"23/04/2011\", \"24/04/2011\", \"25/04/2011\", \"26/04/2011\", \"27/04/2011\", \"28/04/2011\", \"29/04/2011\", \"30/04/2011\", \"01/05/2011\", \"02/05/2011\", \"03/05/2011\", \"04/05/2011\", \"05/05/2011\", \"06/05/2011\", \"07/05/2011\", \"08/05/2011\", \"09/05/2011\", \"10/05/2011\", \"11/05/2011\", \"12/05/2011\", \"13/05/2011\", \"14/05/2011\", \"15/05/2011\", \"16/05/2011\", \"17/05/2011\", \"18/05/2011\", \"19/05/2011\", \"20/05/2011\", \"21/05/2011\", \"22/05/2011\", \"23/05/2011\", \"24/05/2011\", \"25/05/2011\", \"26/05/2011\", \"27/05/2011\", \"28/05/2011\", \"29/05/2011\", \"30/05/2011\", \"31/05/2011\", \"01/06/2011\", \"02/06/2011\", \"03/06/2011\", \"04/06/2011\", \"05/06/2011\", \"06/06/2011\", \"07/06/2011\", \"08/06/2011\", \"09/06/2011\", \"10/06/2011\", \"11/06/2011\", \"12/06/2011\", \"13/06/2011\", \"14/06/2011\", \"15/06/2011\", \"16/06/2011\", \"17/06/2011\", \"18/06/2011\", \"19/06/2011\", \"20/06/2011\", \"21/06/2011\", \"22/06/2011\", \"23/06/2011\", \"24/06/2011\", \"25/06/2011\", \"26/06/2011\", \"27/06/2011\", \"28/06/2011\", \"29/06/2011\", \"30/06/2011\", \"01/07/2011\", \"02/07/2011\", \"03/07/2011\", \"04/07/2011\", \"05/07/2011\", \"06/07/2011\", \"07/07/2011\", \"08/07/2011\", \"09/07/2011\", \"10/07/2011\", \"11/07/2011\", \"12/07/2011\", \"13/07/2011\", \"14/07/2011\", \"15/07/2011\", \"16/07/2011\", \"17/07/2011\", \"18/07/2011\", \"19/07/2011\", \"20/07/2011\", \"21/07/2011\", \"22/07/2011\", \"23/07/2011\", \"24/07/2011\", \"25/07/2011\", \"26/07/2011\", \"27/07/2011\", \"28/07/2011\", \"29/07/2011\", \"30/07/2011\", \"31/07/2011\", \"01/08/2011\", \"02/08/2011\", \"03/08/2011\", \"04/08/2011\", \"05/08/2011\", \"06/08/2011\", \"07/08/2011\", \"08/08/2011\", \"09/08/2011\", \"10/08/2011\", \"11/08/2011\", \"12/08/2011\", \"13/08/2011\", \"14/08/2011\", \"15/08/2011\", \"16/08/2011\", \"17/08/2011\", \"18/08/2011\", \"19/08/2011\", \"20/08/2011\", \"21/08/2011\", \"22/08/2011\", \"23/08/2011\", \"24/08/2011\", \"25/08/2011\", \"26/08/2011\", \"27/08/2011\", \"28/08/2011\", \"29/08/2011\", \"30/08/2011\", \"31/08/2011\", \"01/09/2011\", \"02/09/2011\", \"03/09/2011\", \"04/09/2011\", \"05/09/2011\", \"06/09/2011\", \"07/09/2011\", \"08/09/2011\", \"09/09/2011\", \"10/09/2011\", \"11/09/2011\", \"12/09/2011\", \"13/09/2011\", \"14/09/2011\", \"15/09/2011\", \"16/09/2011\", \"17/09/2011\", \"18/09/2011\", \"19/09/2011\", \"20/09/2011\", \"21/09/2011\", \"22/09/2011\", \"23/09/2011\", \"24/09/2011\", \"25/09/2011\", \"26/09/2011\", \"27/09/2011\", \"28/09/2011\", \"29/09/2011\", \"30/09/2011\", \"01/10/2011\", \"02/10/2011\", \"03/10/2011\", \"04/10/2011\", \"05/10/2011\", \"06/10/2011\", \"07/10/2011\", \"08/10/2011\", \"09/10/2011\", \"10/10/2011\", \"11/10/2011\", \"12/10/2011\", \"13/10/2011\", \"14/10/2011\", \"15/10/2011\", \"16/10/2011\", \"17/10/2011\", \"18/10/2011\", \"19/10/2011\", \"20/10/2011\", \"21/10/2011\", \"22/10/2011\", \"23/10/2011\", \"24/10/2011\", \"25/10/2011\", \"26/10/2011\", \"27/10/2011\", \"28/10/2011\", \"29/10/2011\", \"30/10/2011\", \"31/10/2011\", \"01/11/2011\", \"02/11/2011\", \"03/11/2011\", \"04/11/2011\", \"05/11/2011\", \"06/11/2011\", \"07/11/2011\", \"08/11/2011\", \"09/11/2011\", \"10/11/2011\", \"11/11/2011\", \"12/11/2011\", \"13/11/2011\", \"14/11/2011\", \"15/11/2011\", \"16/11/2011\", \"17/11/2011\", \"18/11/2011\", \"19/11/2011\", \"20/11/2011\", \"21/11/2011\", \"22/11/2011\", \"23/11/2011\", \"24/11/2011\", \"25/11/2011\", \"26/11/2011\", \"27/11/2011\", \"28/11/2011\", \"29/11/2011\", \"30/11/2011\", \"01/12/2011\", \"02/12/2011\", \"03/12/2011\", \"04/12/2011\", \"05/12/2011\", \"06/12/2011\", \"07/12/2011\", \"08/12/2011\", \"09/12/2011\", \"10/12/2011\", \"11/12/2011\", \"12/12/2011\", \"13/12/2011\", \"14/12/2011\", \"15/12/2011\", \"16/12/2011\", \"17/12/2011\", \"18/12/2011\", \"19/12/2011\", \"20/12/2011\", \"21/12/2011\", \"22/12/2011\", \"23/12/2011\", \"24/12/2011\", \"25/12/2011\", \"26/12/2011\", \"27/12/2011\", \"28/12/2011\", \"29/12/2011\", \"30/12/2011\", \"31/12/2011\", \"01/01/2012\", \"02/01/2012\", \"03/01/2012\", \"04/01/2012\", \"05/01/2012\", \"06/01/2012\", \"07/01/2012\", \"08/01/2012\", \"09/01/2012\", \"10/01/2012\", \"11/01/2012\", \"12/01/2012\", \"13/01/2012\", \"14/01/2012\", \"15/01/2012\", \"16/01/2012\", \"17/01/2012\", \"18/01/2012\", \"19/01/2012\", \"20/01/2012\", \"21/01/2012\", \"22/01/2012\", \"23/01/2012\", \"24/01/2012\", \"25/01/2012\", \"26/01/2012\", \"27/01/2012\", \"28/01/2012\", \"29/01/2012\", \"30/01/2012\", \"31/01/2012\", \"01/02/2012\", \"02/02/2012\", \"03/02/2012\", \"04/02/2012\", \"05/02/2012\", \"06/02/2012\", \"07/02/2012\", \"08/02/2012\", \"09/02/2012\", \"10/02/2012\", \"11/02/2012\", \"12/02/2012\", \"13/02/2012\", \"14/02/2012\", \"15/02/2012\", \"16/02/2012\", \"17/02/2012\", \"18/02/2012\", \"19/02/2012\", \"20/02/2012\", \"21/02/2012\", \"22/02/2012\", \"23/02/2012\", \"24/02/2012\", \"25/02/2012\", \"26/02/2012\", \"27/02/2012\", \"28/02/2012\", \"29/02/2012\", \"01/03/2012\", \"02/03/2012\", \"03/03/2012\", \"04/03/2012\", \"05/03/2012\", \"06/03/2012\", \"07/03/2012\", \"08/03/2012\", \"09/03/2012\", \"10/03/2012\", \"11/03/2012\", \"12/03/2012\", \"13/03/2012\", \"14/03/2012\", \"15/03/2012\", \"16/03/2012\", \"17/03/2012\", \"18/03/2012\", \"19/03/2012\", \"20/03/2012\", \"21/03/2012\", \"22/03/2012\", \"23/03/2012\", \"24/03/2012\", \"25/03/2012\", \"26/03/2012\", \"27/03/2012\", \"28/03/2012\", \"29/03/2012\", \"30/03/2012\", \"31/03/2012\", \"01/04/2012\", \"02/04/2012\", \"03/04/2012\", \"04/04/2012\", \"05/04/2012\", \"06/04/2012\", \"07/04/2012\", \"08/04/2012\", \"09/04/2012\", \"10/04/2012\", \"11/04/2012\", \"12/04/2012\", \"13/04/2012\", \"14/04/2012\", \"15/04/2012\", \"16/04/2012\", \"17/04/2012\", \"18/04/2012\", \"19/04/2012\", \"20/04/2012\", \"21/04/2012\", \"22/04/2012\", \"23/04/2012\", \"24/04/2012\", \"25/04/2012\", \"26/04/2012\", \"27/04/2012\", \"28/04/2012\", \"29/04/2012\", \"30/04/2012\", \"01/05/2012\", \"02/05/2012\", \"03/05/2012\", \"04/05/2012\", \"05/05/2012\", \"06/05/2012\", \"07/05/2012\", \"08/05/2012\", \"09/05/2012\", \"10/05/2012\", \"11/05/2012\", \"12/05/2012\", \"13/05/2012\", \"14/05/2012\", \"15/05/2012\", \"16/05/2012\", \"17/05/2012\", \"18/05/2012\", \"19/05/2012\", \"20/05/2012\", \"21/05/2012\", \"22/05/2012\", \"23/05/2012\", \"24/05/2012\", \"25/05/2012\", \"26/05/2012\", \"27/05/2012\", \"28/05/2012\", \"29/05/2012\", \"30/05/2012\", \"31/05/2012\", \"01/06/2012\", \"02/06/2012\", \"03/06/2012\", \"04/06/2012\", \"05/06/2012\", \"06/06/2012\", \"07/06/2012\", \"08/06/2012\", \"09/06/2012\", \"10/06/2012\", \"11/06/2012\", \"12/06/2012\", \"13/06/2012\", \"14/06/2012\", \"15/06/2012\", \"16/06/2012\", \"17/06/2012\", \"18/06/2012\", \"19/06/2012\", \"20/06/2012\", \"21/06/2012\", \"22/06/2012\", \"23/06/2012\", \"24/06/2012\", \"25/06/2012\", \"26/06/2012\", \"27/06/2012\", \"28/06/2012\", \"29/06/2012\", \"30/06/2012\", \"01/07/2012\", \"02/07/2012\", \"03/07/2012\", \"04/07/2012\", \"05/07/2012\", \"06/07/2012\", \"07/07/2012\", \"08/07/2012\", \"09/07/2012\", \"10/07/2012\", \"11/07/2012\", \"12/07/2012\", \"13/07/2012\", \"14/07/2012\", \"15/07/2012\", \"16/07/2012\", \"17/07/2012\", \"18/07/2012\", \"19/07/2012\", \"20/07/2012\", \"21/07/2012\", \"22/07/2012\", \"23/07/2012\", \"24/07/2012\", \"25/07/2012\", \"26/07/2012\", \"27/07/2012\", \"28/07/2012\", \"29/07/2012\", \"30/07/2012\", \"31/07/2012\", \"01/08/2012\", \"02/08/2012\", \"03/08/2012\", \"04/08/2012\", \"05/08/2012\", \"06/08/2012\", \"07/08/2012\", \"08/08/2012\", \"09/08/2012\", \"10/08/2012\", \"11/08/2012\", \"12/08/2012\", \"13/08/2012\", \"14/08/2012\", \"15/08/2012\", \"16/08/2012\", \"17/08/2012\", \"18/08/2012\", \"19/08/2012\", \"20/08/2012\", \"21/08/2012\", \"22/08/2012\", \"23/08/2012\", \"24/08/2012\", \"25/08/2012\", \"26/08/2012\", \"27/08/2012\", \"28/08/2012\", \"29/08/2012\", \"30/08/2012\", \"31/08/2012\", \"01/09/2012\", \"02/09/2012\", \"03/09/2012\", \"04/09/2012\", \"05/09/2012\", \"06/09/2012\", \"07/09/2012\", \"08/09/2012\", \"09/09/2012\", \"10/09/2012\", \"11/09/2012\", \"12/09/2012\", \"13/09/2012\", \"14/09/2012\", \"15/09/2012\", \"16/09/2012\", \"17/09/2012\", \"18/09/2012\", \"19/09/2012\", \"20/09/2012\", \"21/09/2012\", \"22/09/2012\", \"23/09/2012\", \"24/09/2012\", \"25/09/2012\", \"26/09/2012\", \"27/09/2012\", \"28/09/2012\", \"29/09/2012\", \"30/09/2012\", \"01/10/2012\", \"02/10/2012\", \"03/10/2012\", \"04/10/2012\", \"05/10/2012\", \"06/10/2012\", \"07/10/2012\", \"08/10/2012\", \"09/10/2012\", \"10/10/2012\", \"11/10/2012\", \"12/10/2012\", \"13/10/2012\", \"14/10/2012\", \"15/10/2012\", \"16/10/2012\", \"17/10/2012\", \"18/10/2012\", \"19/10/2012\", \"20/10/2012\", \"21/10/2012\", \"22/10/2012\", \"23/10/2012\", \"24/10/2012\", \"25/10/2012\", \"26/10/2012\", \"27/10/2012\", \"28/10/2012\", \"29/10/2012\", \"30/10/2012\", \"31/10/2012\", \"01/11/2012\", \"02/11/2012\", \"03/11/2012\", \"04/11/2012\", \"05/11/2012\", \"06/11/2012\", \"07/11/2012\", \"08/11/2012\", \"09/11/2012\", \"10/11/2012\", \"11/11/2012\", \"12/11/2012\", \"13/11/2012\", \"14/11/2012\", \"15/11/2012\", \"16/11/2012\", \"17/11/2012\", \"18/11/2012\", \"19/11/2012\", \"20/11/2012\", \"21/11/2012\", \"22/11/2012\", \"23/11/2012\", \"24/11/2012\", \"25/11/2012\", \"26/11/2012\", \"27/11/2012\", \"28/11/2012\", \"29/11/2012\", \"30/11/2012\", \"01/12/2012\", \"02/12/2012\", \"03/12/2012\", \"04/12/2012\", \"05/12/2012\", \"06/12/2012\", \"07/12/2012\", \"08/12/2012\", \"09/12/2012\", \"10/12/2012\", \"11/12/2012\", \"12/12/2012\", \"13/12/2012\", \"14/12/2012\", \"15/12/2012\", \"16/12/2012\", \"17/12/2012\", \"18/12/2012\", \"19/12/2012\", \"20/12/2012\", \"21/12/2012\", \"22/12/2012\", \"23/12/2012\", \"24/12/2012\", \"25/12/2012\", \"26/12/2012\", \"27/12/2012\", \"28/12/2012\", \"29/12/2012\", \"30/12/2012\", \"31/12/2012\", \"01/01/2013\", \"02/01/2013\", \"03/01/2013\", \"04/01/2013\", \"05/01/2013\", \"06/01/2013\", \"07/01/2013\", \"08/01/2013\", \"09/01/2013\", \"10/01/2013\", \"11/01/2013\", \"12/01/2013\", \"13/01/2013\", \"14/01/2013\", \"15/01/2013\", \"16/01/2013\", \"17/01/2013\", \"18/01/2013\", \"19/01/2013\", \"20/01/2013\", \"21/01/2013\", \"22/01/2013\", \"23/01/2013\", \"24/01/2013\", \"25/01/2013\", \"26/01/2013\", \"27/01/2013\", \"28/01/2013\", \"29/01/2013\", \"30/01/2013\", \"31/01/2013\", \"01/02/2013\", \"02/02/2013\", \"03/02/2013\", \"04/02/2013\", \"05/02/2013\", \"06/02/2013\", \"07/02/2013\", \"08/02/2013\", \"09/02/2013\", \"10/02/2013\", \"11/02/2013\", \"12/02/2013\", \"13/02/2013\", \"14/02/2013\", \"15/02/2013\", \"16/02/2013\", \"17/02/2013\", \"18/02/2013\", \"19/02/2013\", \"20/02/2013\", \"21/02/2013\", \"22/02/2013\", \"23/02/2013\", \"24/02/2013\", \"25/02/2013\", \"26/02/2013\", \"27/02/2013\", \"28/02/2013\", \"01/03/2013\", \"02/03/2013\", \"03/03/2013\", \"04/03/2013\", \"05/03/2013\", \"06/03/2013\", \"07/03/2013\", \"08/03/2013\", \"09/03/2013\", \"10/03/2013\", \"11/03/2013\", \"12/03/2013\", \"13/03/2013\", \"14/03/2013\", \"15/03/2013\", \"16/03/2013\", \"17/03/2013\", \"18/03/2013\", \"19/03/2013\", \"20/03/2013\", \"21/03/2013\", \"22/03/2013\", \"23/03/2013\", \"24/03/2013\", \"25/03/2013\", \"26/03/2013\", \"27/03/2013\", \"28/03/2013\", \"29/03/2013\", \"30/03/2013\", \"31/03/2013\", \"01/04/2013\", \"02/04/2013\", \"03/04/2013\", \"04/04/2013\", \"05/04/2013\", \"06/04/2013\", \"07/04/2013\", \"08/04/2013\", \"09/04/2013\", \"10/04/2013\", \"11/04/2013\", \"12/04/2013\", \"13/04/2013\", \"14/04/2013\", \"15/04/2013\", \"16/04/2013\", \"17/04/2013\", \"18/04/2013\", \"19/04/2013\", \"20/04/2013\", \"21/04/2013\", \"22/04/2013\", \"23/04/2013\", \"24/04/2013\", \"25/04/2013\", \"26/04/2013\", \"27/04/2013\", \"28/04/2013\", \"29/04/2013\", \"30/04/2013\", \"01/05/2013\", \"02/05/2013\", \"03/05/2013\", \"04/05/2013\", \"05/05/2013\", \"06/05/2013\", \"07/05/2013\", \"08/05/2013\", \"09/05/2013\", \"10/05/2013\", \"11/05/2013\", \"12/05/2013\", \"13/05/2013\", \"14/05/2013\", \"15/05/2013\", \"16/05/2013\", \"17/05/2013\", \"18/05/2013\", \"19/05/2013\", \"20/05/2013\", \"21/05/2013\", \"22/05/2013\", \"23/05/2013\", \"24/05/2013\", \"25/05/2013\", \"26/05/2013\", \"27/05/2013\", \"28/05/2013\", \"29/05/2013\", \"30/05/2013\", \"31/05/2013\", \"01/06/2013\", \"02/06/2013\", \"03/06/2013\", \"04/06/2013\", \"05/06/2013\", \"06/06/2013\", \"07/06/2013\", \"08/06/2013\", \"09/06/2013\", \"10/06/2013\", \"11/06/2013\", \"12/06/2013\", \"13/06/2013\", \"14/06/2013\", \"15/06/2013\", \"16/06/2013\", \"17/06/2013\", \"18/06/2013\", \"19/06/2013\", \"20/06/2013\", \"21/06/2013\", \"22/06/2013\", \"23/06/2013\", \"24/06/2013\", \"25/06/2013\", \"26/06/2013\", \"27/06/2013\", \"28/06/2013\", \"29/06/2013\", \"30/06/2013\", \"01/07/2013\", \"02/07/2013\", \"03/07/2013\", \"04/07/2013\", \"05/07/2013\", \"06/07/2013\", \"07/07/2013\", \"08/07/2013\", \"09/07/2013\", \"10/07/2013\", \"11/07/2013\", \"12/07/2013\", \"13/07/2013\", \"14/07/2013\", \"15/07/2013\", \"16/07/2013\", \"17/07/2013\", \"18/07/2013\", \"19/07/2013\", \"20/07/2013\", \"21/07/2013\", \"22/07/2013\", \"23/07/2013\", \"24/07/2013\", \"25/07/2013\", \"26/07/2013\", \"27/07/2013\", \"28/07/2013\", \"29/07/2013\", \"30/07/2013\", \"31/07/2013\", \"01/08/2013\", \"02/08/2013\", \"03/08/2013\", \"04/08/2013\", \"05/08/2013\", \"06/08/2013\", \"07/08/2013\", \"08/08/2013\", \"09/08/2013\", \"10/08/2013\", \"11/08/2013\", \"12/08/2013\", \"13/08/2013\", \"14/08/2013\", \"15/08/2013\", \"16/08/2013\", \"17/08/2013\", \"18/08/2013\", \"19/08/2013\", \"20/08/2013\", \"21/08/2013\", \"22/08/2013\", \"23/08/2013\", \"24/08/2013\", \"25/08/2013\", \"26/08/2013\", \"27/08/2013\", \"28/08/2013\", \"29/08/2013\", \"30/08/2013\", \"31/08/2013\", \"01/09/2013\", \"02/09/2013\", \"03/09/2013\", \"04/09/2013\", \"05/09/2013\", \"06/09/2013\", \"07/09/2013\", \"08/09/2013\", \"09/09/2013\", \"10/09/2013\", \"11/09/2013\", \"12/09/2013\", \"13/09/2013\", \"14/09/2013\", \"15/09/2013\", \"16/09/2013\", \"17/09/2013\", \"18/09/2013\", \"19/09/2013\", \"20/09/2013\", \"21/09/2013\", \"22/09/2013\", \"23/09/2013\", \"24/09/2013\", \"25/09/2013\", \"26/09/2013\", \"27/09/2013\", \"28/09/2013\", \"29/09/2013\", \"30/09/2013\", \"01/10/2013\", \"02/10/2013\", \"03/10/2013\", \"04/10/2013\", \"05/10/2013\", \"06/10/2013\", \"07/10/2013\", \"08/10/2013\", \"09/10/2013\", \"10/10/2013\", \"11/10/2013\", \"12/10/2013\", \"13/10/2013\", \"14/10/2013\", \"15/10/2013\", \"16/10/2013\", \"17/10/2013\", \"18/10/2013\", \"19/10/2013\", \"20/10/2013\", \"21/10/2013\", \"22/10/2013\", \"23/10/2013\", \"24/10/2013\", \"25/10/2013\", \"26/10/2013\", \"27/10/2013\", \"28/10/2013\", \"29/10/2013\", \"30/10/2013\", \"31/10/2013\", \"01/11/2013\", \"02/11/2013\", \"03/11/2013\", \"04/11/2013\", \"05/11/2013\", \"06/11/2013\", \"07/11/2013\", \"08/11/2013\", \"09/11/2013\", \"10/11/2013\", \"11/11/2013\", \"12/11/2013\", \"13/11/2013\", \"14/11/2013\", \"15/11/2013\", \"16/11/2013\", \"17/11/2013\", \"18/11/2013\", \"19/11/2013\", \"20/11/2013\", \"21/11/2013\", \"22/11/2013\", \"23/11/2013\", \"24/11/2013\", \"25/11/2013\", \"26/11/2013\", \"27/11/2013\", \"28/11/2013\", \"29/11/2013\", \"30/11/2013\", \"01/12/2013\", \"02/12/2013\", \"03/12/2013\", \"04/12/2013\", \"05/12/2013\", \"06/12/2013\", \"07/12/2013\", \"08/12/2013\", \"09/12/2013\", \"10/12/2013\", \"11/12/2013\", \"12/12/2013\", \"13/12/2013\", \"14/12/2013\", \"15/12/2013\", \"16/12/2013\", \"17/12/2013\", \"18/12/2013\", \"19/12/2013\", \"20/12/2013\", \"21/12/2013\", \"22/12/2013\", \"23/12/2013\", \"24/12/2013\", \"25/12/2013\", \"26/12/2013\", \"27/12/2013\", \"28/12/2013\", \"29/12/2013\", \"30/12/2013\", \"31/12/2013\", \"01/01/2014\", \"02/01/2014\", \"03/01/2014\", \"04/01/2014\", \"05/01/2014\", \"06/01/2014\", \"07/01/2014\", \"08/01/2014\", \"09/01/2014\", \"10/01/2014\", \"11/01/2014\", \"12/01/2014\", \"13/01/2014\", \"14/01/2014\", \"15/01/2014\", \"16/01/2014\", \"17/01/2014\", \"18/01/2014\", \"19/01/2014\", \"20/01/2014\", \"21/01/2014\", \"22/01/2014\", \"23/01/2014\", \"24/01/2014\", \"25/01/2014\", \"26/01/2014\", \"27/01/2014\", \"28/01/2014\", \"29/01/2014\", \"30/01/2014\", \"31/01/2014\", \"01/02/2014\", \"02/02/2014\", \"03/02/2014\", \"04/02/2014\", \"05/02/2014\", \"06/02/2014\", \"07/02/2014\", \"08/02/2014\", \"09/02/2014\", \"10/02/2014\", \"11/02/2014\", \"12/02/2014\", \"13/02/2014\", \"14/02/2014\", \"15/02/2014\", \"16/02/2014\", \"17/02/2014\", \"18/02/2014\", \"19/02/2014\", \"20/02/2014\", \"21/02/2014\", \"22/02/2014\", \"23/02/2014\", \"24/02/2014\", \"25/02/2014\", \"26/02/2014\", \"27/02/2014\", \"28/02/2014\", \"01/03/2014\", \"02/03/2014\", \"03/03/2014\", \"04/03/2014\", \"05/03/2014\", \"06/03/2014\", \"07/03/2014\", \"08/03/2014\", \"09/03/2014\", \"10/03/2014\", \"11/03/2014\", \"12/03/2014\", \"13/03/2014\", \"14/03/2014\", \"15/03/2014\", \"16/03/2014\", \"17/03/2014\", \"18/03/2014\", \"19/03/2014\", \"20/03/2014\", \"21/03/2014\", \"22/03/2014\", \"23/03/2014\", \"24/03/2014\", \"25/03/2014\", \"26/03/2014\", \"27/03/2014\", \"28/03/2014\", \"29/03/2014\", \"30/03/2014\", \"31/03/2014\", \"01/04/2014\", \"02/04/2014\", \"03/04/2014\", \"04/04/2014\", \"05/04/2014\", \"06/04/2014\", \"07/04/2014\", \"08/04/2014\", \"09/04/2014\", \"10/04/2014\", \"11/04/2014\", \"12/04/2014\", \"13/04/2014\", \"14/04/2014\", \"15/04/2014\", \"16/04/2014\", \"17/04/2014\", \"18/04/2014\", \"19/04/2014\", \"20/04/2014\", \"21/04/2014\", \"22/04/2014\", \"23/04/2014\", \"24/04/2014\", \"25/04/2014\", \"26/04/2014\", \"27/04/2014\", \"28/04/2014\", \"29/04/2014\", \"30/04/2014\", \"01/05/2014\", \"02/05/2014\", \"03/05/2014\", \"04/05/2014\", \"05/05/2014\", \"06/05/2014\", \"07/05/2014\", \"08/05/2014\", \"09/05/2014\", \"10/05/2014\", \"11/05/2014\", \"12/05/2014\", \"13/05/2014\", \"14/05/2014\", \"15/05/2014\", \"16/05/2014\", \"17/05/2014\", \"18/05/2014\", \"19/05/2014\", \"20/05/2014\", \"21/05/2014\", \"22/05/2014\", \"23/05/2014\", \"24/05/2014\", \"25/05/2014\", \"26/05/2014\", \"27/05/2014\", \"28/05/2014\", \"29/05/2014\", \"30/05/2014\", \"31/05/2014\", \"01/06/2014\", \"02/06/2014\", \"03/06/2014\", \"04/06/2014\", \"05/06/2014\", \"06/06/2014\", \"07/06/2014\", \"08/06/2014\", \"09/06/2014\", \"10/06/2014\", \"11/06/2014\", \"12/06/2014\", \"13/06/2014\", \"14/06/2014\", \"15/06/2014\", \"16/06/2014\", \"17/06/2014\", \"18/06/2014\", \"19/06/2014\", \"20/06/2014\", \"21/06/2014\", \"22/06/2014\", \"23/06/2014\", \"24/06/2014\", \"25/06/2014\", \"26/06/2014\", \"27/06/2014\", \"28/06/2014\", \"29/06/2014\", \"30/06/2014\", \"01/07/2014\", \"02/07/2014\", \"03/07/2014\", \"04/07/2014\", \"05/07/2014\", \"06/07/2014\", \"07/07/2014\", \"08/07/2014\", \"09/07/2014\", \"10/07/2014\", \"11/07/2014\", \"12/07/2014\", \"13/07/2014\", \"14/07/2014\", \"15/07/2014\", \"16/07/2014\", \"17/07/2014\", \"18/07/2014\", \"19/07/2014\", \"20/07/2014\", \"21/07/2014\", \"22/07/2014\", \"23/07/2014\", \"24/07/2014\", \"25/07/2014\", \"26/07/2014\", \"27/07/2014\", \"28/07/2014\", \"29/07/2014\", \"30/07/2014\", \"31/07/2014\", \"01/08/2014\", \"02/08/2014\", \"03/08/2014\", \"04/08/2014\", \"05/08/2014\", \"06/08/2014\", \"07/08/2014\", \"08/08/2014\", \"09/08/2014\", \"10/08/2014\", \"11/08/2014\", \"12/08/2014\", \"13/08/2014\", \"14/08/2014\", \"15/08/2014\", \"16/08/2014\", \"17/08/2014\", \"18/08/2014\", \"19/08/2014\", \"20/08/2014\", \"21/08/2014\", \"22/08/2014\", \"23/08/2014\", \"24/08/2014\", \"25/08/2014\", \"26/08/2014\", \"27/08/2014\", \"28/08/2014\", \"29/08/2014\", \"30/08/2014\", \"31/08/2014\", \"01/09/2014\", \"02/09/2014\", \"03/09/2014\", \"04/09/2014\", \"05/09/2014\", \"06/09/2014\", \"07/09/2014\", \"08/09/2014\", \"09/09/2014\", \"10/09/2014\", \"11/09/2014\", \"12/09/2014\", \"13/09/2014\", \"14/09/2014\", \"15/09/2014\", \"16/09/2014\", \"17/09/2014\", \"18/09/2014\", \"19/09/2014\", \"20/09/2014\", \"21/09/2014\", \"22/09/2014\", \"23/09/2014\", \"24/09/2014\", \"25/09/2014\", \"26/09/2014\", \"27/09/2014\", \"28/09/2014\", \"29/09/2014\", \"30/09/2014\", \"01/10/2014\", \"02/10/2014\", \"03/10/2014\", \"04/10/2014\", \"05/10/2014\", \"06/10/2014\", \"07/10/2014\", \"08/10/2014\", \"09/10/2014\", \"10/10/2014\", \"11/10/2014\", \"12/10/2014\", \"13/10/2014\", \"14/10/2014\", \"15/10/2014\", \"16/10/2014\", \"17/10/2014\", \"18/10/2014\", \"19/10/2014\", \"20/10/2014\", \"21/10/2014\", \"22/10/2014\", \"23/10/2014\", \"24/10/2014\", \"25/10/2014\", \"26/10/2014\", \"27/10/2014\", \"28/10/2014\", \"29/10/2014\", \"30/10/2014\", \"31/10/2014\", \"01/11/2014\", \"02/11/2014\", \"03/11/2014\", \"04/11/2014\", \"05/11/2014\", \"06/11/2014\", \"07/11/2014\", \"08/11/2014\", \"09/11/2014\", \"10/11/2014\", \"11/11/2014\", \"12/11/2014\", \"13/11/2014\", \"14/11/2014\", \"15/11/2014\", \"16/11/2014\", \"17/11/2014\", \"18/11/2014\", \"19/11/2014\", \"20/11/2014\", \"21/11/2014\", \"22/11/2014\", \"23/11/2014\", \"24/11/2014\", \"25/11/2014\", \"26/11/2014\", \"27/11/2014\", \"28/11/2014\", \"29/11/2014\", \"30/11/2014\", \"01/12/2014\", \"02/12/2014\", \"03/12/2014\", \"04/12/2014\", \"05/12/2014\", \"06/12/2014\", \"07/12/2014\", \"08/12/2014\", \"09/12/2014\", \"10/12/2014\", \"11/12/2014\", \"12/12/2014\", \"13/12/2014\", \"14/12/2014\", \"15/12/2014\", \"16/12/2014\", \"17/12/2014\", \"18/12/2014\", \"19/12/2014\", \"20/12/2014\", \"21/12/2014\", \"22/12/2014\", \"23/12/2014\", \"24/12/2014\", \"25/12/2014\", \"26/12/2014\", \"27/12/2014\", \"28/12/2014\", \"29/12/2014\", \"30/12/2014\", \"31/12/2014\", \"01/01/2015\", \"02/01/2015\", \"03/01/2015\", \"04/01/2015\", \"05/01/2015\", \"06/01/2015\", \"07/01/2015\", \"08/01/2015\", \"09/01/2015\", \"10/01/2015\", \"11/01/2015\", \"12/01/2015\", \"13/01/2015\", \"14/01/2015\", \"15/01/2015\", \"16/01/2015\", \"17/01/2015\", \"18/01/2015\", \"19/01/2015\", \"20/01/2015\", \"21/01/2015\", \"22/01/2015\", \"23/01/2015\", \"24/01/2015\", \"25/01/2015\", \"26/01/2015\", \"27/01/2015\", \"28/01/2015\", \"29/01/2015\", \"30/01/2015\", \"31/01/2015\", \"01/02/2015\", \"02/02/2015\", \"03/02/2015\", \"04/02/2015\", \"05/02/2015\", \"06/02/2015\", \"07/02/2015\", \"08/02/2015\", \"09/02/2015\", \"10/02/2015\", \"11/02/2015\", \"12/02/2015\", \"13/02/2015\", \"14/02/2015\", \"15/02/2015\", \"16/02/2015\", \"17/02/2015\", \"18/02/2015\", \"19/02/2015\", \"20/02/2015\", \"21/02/2015\", \"22/02/2015\", \"23/02/2015\", \"24/02/2015\", \"25/02/2015\", \"26/02/2015\", \"27/02/2015\", \"28/02/2015\", \"01/03/2015\", \"02/03/2015\", \"03/03/2015\", \"04/03/2015\", \"05/03/2015\", \"06/03/2015\", \"07/03/2015\", \"08/03/2015\", \"09/03/2015\", \"10/03/2015\", \"11/03/2015\", \"12/03/2015\", \"13/03/2015\", \"14/03/2015\", \"15/03/2015\", \"16/03/2015\", \"17/03/2015\", \"18/03/2015\", \"19/03/2015\", \"20/03/2015\", \"21/03/2015\", \"22/03/2015\", \"23/03/2015\", \"24/03/2015\", \"25/03/2015\", \"26/03/2015\", \"27/03/2015\", \"28/03/2015\", \"29/03/2015\", \"30/03/2015\", \"31/03/2015\", \"01/04/2015\", \"02/04/2015\", \"03/04/2015\", \"04/04/2015\", \"05/04/2015\", \"06/04/2015\", \"07/04/2015\", \"08/04/2015\", \"09/04/2015\", \"10/04/2015\", \"11/04/2015\", \"12/04/2015\", \"13/04/2015\", \"14/04/2015\", \"15/04/2015\", \"16/04/2015\", \"17/04/2015\", \"18/04/2015\", \"19/04/2015\", \"20/04/2015\", \"21/04/2015\", \"22/04/2015\", \"23/04/2015\", \"24/04/2015\", \"25/04/2015\", \"26/04/2015\", \"27/04/2015\", \"28/04/2015\", \"29/04/2015\", \"30/04/2015\", \"01/05/2015\", \"02/05/2015\", \"03/05/2015\", \"04/05/2015\", \"05/05/2015\", \"06/05/2015\", \"07/05/2015\", \"08/05/2015\", \"09/05/2015\", \"10/05/2015\", \"11/05/2015\", \"12/05/2015\", \"13/05/2015\", \"14/05/2015\", \"15/05/2015\", \"16/05/2015\", \"17/05/2015\", \"18/05/2015\", \"19/05/2015\", \"20/05/2015\", \"21/05/2015\", \"22/05/2015\", \"23/05/2015\", \"24/05/2015\", \"25/05/2015\", \"26/05/2015\", \"27/05/2015\", \"28/05/2015\", \"29/05/2015\", \"30/05/2015\", \"31/05/2015\", \"01/06/2015\", \"02/06/2015\", \"03/06/2015\", \"04/06/2015\", \"05/06/2015\", \"06/06/2015\", \"07/06/2015\", \"08/06/2015\", \"09/06/2015\", \"10/06/2015\", \"11/06/2015\", \"12/06/2015\", \"13/06/2015\", \"14/06/2015\", \"15/06/2015\", \"16/06/2015\", \"17/06/2015\", \"18/06/2015\", \"19/06/2015\", \"20/06/2015\", \"21/06/2015\", \"22/06/2015\", \"23/06/2015\", \"24/06/2015\", \"25/06/2015\", \"26/06/2015\", \"27/06/2015\", \"28/06/2015\", \"29/06/2015\", \"30/06/2015\", \"01/07/2015\", \"02/07/2015\", \"03/07/2015\", \"04/07/2015\", \"05/07/2015\", \"06/07/2015\", \"07/07/2015\", \"08/07/2015\", \"09/07/2015\", \"10/07/2015\", \"11/07/2015\", \"12/07/2015\", \"13/07/2015\", \"14/07/2015\", \"15/07/2015\", \"16/07/2015\", \"17/07/2015\", \"18/07/2015\", \"19/07/2015\", \"20/07/2015\", \"21/07/2015\", \"22/07/2015\", \"23/07/2015\", \"24/07/2015\", \"25/07/2015\", \"26/07/2015\", \"27/07/2015\", \"28/07/2015\", \"29/07/2015\", \"30/07/2015\", \"31/07/2015\", \"01/08/2015\", \"02/08/2015\", \"03/08/2015\", \"04/08/2015\", \"05/08/2015\", \"06/08/2015\", \"07/08/2015\", \"08/08/2015\", \"09/08/2015\", \"10/08/2015\", \"11/08/2015\", \"12/08/2015\", \"13/08/2015\", \"14/08/2015\", \"15/08/2015\", \"16/08/2015\", \"17/08/2015\", \"18/08/2015\", \"19/08/2015\", \"20/08/2015\", \"21/08/2015\", \"22/08/2015\", \"23/08/2015\", \"24/08/2015\", \"25/08/2015\", \"26/08/2015\", \"27/08/2015\", \"28/08/2015\", \"29/08/2015\", \"30/08/2015\", \"31/08/2015\", \"01/09/2015\", \"02/09/2015\", \"03/09/2015\", \"04/09/2015\", \"05/09/2015\", \"06/09/2015\", \"07/09/2015\", \"08/09/2015\", \"09/09/2015\", \"10/09/2015\", \"11/09/2015\", \"12/09/2015\", \"13/09/2015\", \"14/09/2015\", \"15/09/2015\", \"16/09/2015\", \"17/09/2015\", \"18/09/2015\", \"19/09/2015\", \"20/09/2015\", \"21/09/2015\", \"22/09/2015\", \"23/09/2015\", \"24/09/2015\", \"25/09/2015\", \"26/09/2015\", \"27/09/2015\", \"28/09/2015\", \"29/09/2015\", \"30/09/2015\", \"01/10/2015\", \"02/10/2015\", \"03/10/2015\", \"04/10/2015\", \"05/10/2015\", \"06/10/2015\", \"07/10/2015\", \"08/10/2015\", \"09/10/2015\", \"10/10/2015\", \"11/10/2015\", \"12/10/2015\", \"13/10/2015\", \"14/10/2015\", \"15/10/2015\", \"16/10/2015\", \"17/10/2015\", \"18/10/2015\", \"19/10/2015\", \"20/10/2015\", \"21/10/2015\", \"22/10/2015\", \"23/10/2015\", \"24/10/2015\", \"25/10/2015\", \"26/10/2015\", \"27/10/2015\", \"28/10/2015\", \"29/10/2015\", \"30/10/2015\", \"31/10/2015\", \"01/11/2015\", \"02/11/2015\", \"03/11/2015\", \"04/11/2015\", \"05/11/2015\", \"06/11/2015\", \"07/11/2015\", \"08/11/2015\", \"09/11/2015\", \"10/11/2015\", \"11/11/2015\", \"12/11/2015\", \"13/11/2015\", \"14/11/2015\", \"15/11/2015\", \"16/11/2015\", \"17/11/2015\", \"18/11/2015\", \"19/11/2015\", \"20/11/2015\", \"21/11/2015\", \"22/11/2015\", \"23/11/2015\", \"24/11/2015\", \"25/11/2015\", \"26/11/2015\", \"27/11/2015\", \"28/11/2015\", \"29/11/2015\", \"30/11/2015\", \"01/12/2015\", \"02/12/2015\", \"03/12/2015\", \"04/12/2015\", \"05/12/2015\", \"06/12/2015\", \"07/12/2015\", \"08/12/2015\", \"09/12/2015\", \"10/12/2015\", \"11/12/2015\", \"12/12/2015\", \"13/12/2015\", \"14/12/2015\", \"15/12/2015\", \"16/12/2015\", \"17/12/2015\", \"18/12/2015\", \"19/12/2015\", \"20/12/2015\", \"21/12/2015\", \"22/12/2015\", \"23/12/2015\", \"24/12/2015\", \"25/12/2015\", \"26/12/2015\", \"27/12/2015\", \"28/12/2015\", \"29/12/2015\", \"30/12/2015\", \"31/12/2015\", \"01/01/2016\", \"02/01/2016\", \"03/01/2016\", \"04/01/2016\", \"05/01/2016\", \"06/01/2016\", \"07/01/2016\", \"08/01/2016\", \"09/01/2016\", \"10/01/2016\", \"11/01/2016\", \"12/01/2016\", \"13/01/2016\", \"14/01/2016\", \"15/01/2016\", \"16/01/2016\", \"17/01/2016\", \"18/01/2016\", \"19/01/2016\", \"20/01/2016\", \"21/01/2016\", \"22/01/2016\", \"23/01/2016\", \"24/01/2016\", \"25/01/2016\", \"26/01/2016\", \"27/01/2016\", \"28/01/2016\", \"29/01/2016\", \"30/01/2016\", \"31/01/2016\", \"01/02/2016\", \"02/02/2016\", \"03/02/2016\", \"04/02/2016\", \"05/02/2016\", \"06/02/2016\", \"07/02/2016\", \"08/02/2016\", \"09/02/2016\", \"10/02/2016\", \"11/02/2016\", \"12/02/2016\", \"13/02/2016\", \"14/02/2016\", \"15/02/2016\", \"16/02/2016\", \"17/02/2016\", \"18/02/2016\", \"19/02/2016\", \"20/02/2016\", \"21/02/2016\", \"22/02/2016\", \"23/02/2016\", \"24/02/2016\", \"25/02/2016\", \"26/02/2016\", \"27/02/2016\", \"28/02/2016\", \"29/02/2016\", \"01/03/2016\", \"02/03/2016\", \"03/03/2016\", \"04/03/2016\", \"05/03/2016\", \"06/03/2016\", \"07/03/2016\", \"08/03/2016\", \"09/03/2016\", \"10/03/2016\", \"11/03/2016\", \"12/03/2016\", \"13/03/2016\", \"14/03/2016\", \"15/03/2016\", \"16/03/2016\", \"17/03/2016\", \"18/03/2016\", \"19/03/2016\", \"20/03/2016\", \"21/03/2016\", \"22/03/2016\", \"23/03/2016\", \"24/03/2016\", \"25/03/2016\", \"26/03/2016\", \"27/03/2016\", \"28/03/2016\", \"29/03/2016\", \"30/03/2016\", \"31/03/2016\", \"01/04/2016\", \"02/04/2016\", \"03/04/2016\", \"04/04/2016\", \"05/04/2016\", \"06/04/2016\", \"07/04/2016\", \"08/04/2016\", \"09/04/2016\", \"10/04/2016\", \"11/04/2016\", \"12/04/2016\", \"13/04/2016\", \"14/04/2016\", \"15/04/2016\", \"16/04/2016\", \"17/04/2016\", \"18/04/2016\", \"19/04/2016\", \"20/04/2016\", \"21/04/2016\", \"22/04/2016\", \"23/04/2016\", \"24/04/2016\", \"25/04/2016\", \"26/04/2016\", \"27/04/2016\", \"28/04/2016\", \"29/04/2016\", \"30/04/2016\", \"01/05/2016\", \"02/05/2016\", \"03/05/2016\", \"04/05/2016\", \"05/05/2016\", \"06/05/2016\", \"07/05/2016\", \"08/05/2016\", \"09/05/2016\", \"10/05/2016\", \"11/05/2016\", \"12/05/2016\", \"13/05/2016\", \"14/05/2016\", \"15/05/2016\", \"16/05/2016\", \"17/05/2016\", \"18/05/2016\", \"19/05/2016\", \"20/05/2016\", \"21/05/2016\", \"22/05/2016\", \"23/05/2016\", \"24/05/2016\", \"25/05/2016\", \"26/05/2016\", \"27/05/2016\", \"28/05/2016\", \"29/05/2016\", \"30/05/2016\", \"31/05/2016\", \"01/06/2016\", \"02/06/2016\", \"03/06/2016\", \"04/06/2016\", \"05/06/2016\", \"06/06/2016\", \"07/06/2016\", \"08/06/2016\", \"09/06/2016\", \"10/06/2016\", \"11/06/2016\", \"12/06/2016\", \"13/06/2016\", \"14/06/2016\", \"15/06/2016\", \"16/06/2016\", \"17/06/2016\", \"18/06/2016\", \"19/06/2016\", \"20/06/2016\", \"21/06/2016\", \"22/06/2016\", \"23/06/2016\", \"24/06/2016\", \"25/06/2016\", \"26/06/2016\", \"27/06/2016\", \"28/06/2016\", \"29/06/2016\", \"30/06/2016\", \"01/07/2016\", \"02/07/2016\", \"03/07/2016\", \"04/07/2016\", \"05/07/2016\", \"06/07/2016\", \"07/07/2016\", \"08/07/2016\", \"09/07/2016\", \"10/07/2016\", \"11/07/2016\", \"12/07/2016\", \"13/07/2016\", \"14/07/2016\", \"15/07/2016\", \"16/07/2016\", \"17/07/2016\", \"18/07/2016\", \"19/07/2016\", \"20/07/2016\", \"21/07/2016\", \"22/07/2016\", \"23/07/2016\", \"24/07/2016\", \"25/07/2016\", \"26/07/2016\", \"27/07/2016\", \"28/07/2016\", \"29/07/2016\", \"30/07/2016\", \"31/07/2016\", \"01/08/2016\", \"02/08/2016\", \"03/08/2016\", \"04/08/2016\", \"05/08/2016\", \"06/08/2016\", \"07/08/2016\", \"08/08/2016\", \"09/08/2016\", \"10/08/2016\", \"11/08/2016\", \"12/08/2016\", \"13/08/2016\", \"14/08/2016\", \"15/08/2016\", \"16/08/2016\", \"17/08/2016\", \"18/08/2016\", \"19/08/2016\", \"20/08/2016\", \"21/08/2016\", \"22/08/2016\", \"23/08/2016\", \"24/08/2016\", \"25/08/2016\", \"26/08/2016\", \"27/08/2016\", \"28/08/2016\", \"29/08/2016\", \"30/08/2016\", \"31/08/2016\", \"01/09/2016\", \"02/09/2016\", \"03/09/2016\", \"04/09/2016\", \"05/09/2016\", \"06/09/2016\", \"07/09/2016\", \"08/09/2016\", \"09/09/2016\", \"10/09/2016\", \"11/09/2016\", \"12/09/2016\", \"13/09/2016\", \"14/09/2016\", \"15/09/2016\", \"16/09/2016\", \"17/09/2016\", \"18/09/2016\", \"19/09/2016\", \"20/09/2016\", \"21/09/2016\", \"22/09/2016\", \"23/09/2016\", \"24/09/2016\", \"25/09/2016\", \"26/09/2016\", \"27/09/2016\", \"28/09/2016\", \"29/09/2016\", \"30/09/2016\", \"01/10/2016\", \"02/10/2016\", \"03/10/2016\", \"04/10/2016\", \"05/10/2016\", \"06/10/2016\", \"07/10/2016\", \"08/10/2016\", \"09/10/2016\", \"10/10/2016\", \"11/10/2016\", \"12/10/2016\", \"13/10/2016\", \"14/10/2016\", \"15/10/2016\", \"16/10/2016\", \"17/10/2016\", \"18/10/2016\", \"19/10/2016\", \"20/10/2016\", \"21/10/2016\", \"22/10/2016\", \"23/10/2016\", \"24/10/2016\", \"25/10/2016\", \"26/10/2016\", \"27/10/2016\", \"28/10/2016\", \"29/10/2016\", \"30/10/2016\", \"31/10/2016\", \"01/11/2016\", \"02/11/2016\", \"03/11/2016\", \"04/11/2016\", \"05/11/2016\", \"06/11/2016\", \"07/11/2016\", \"08/11/2016\", \"09/11/2016\", \"10/11/2016\", \"11/11/2016\", \"12/11/2016\", \"13/11/2016\", \"14/11/2016\", \"15/11/2016\", \"16/11/2016\", \"17/11/2016\", \"18/11/2016\", \"19/11/2016\", \"20/11/2016\", \"21/11/2016\", \"22/11/2016\", \"23/11/2016\", \"24/11/2016\", \"25/11/2016\", \"26/11/2016\", \"27/11/2016\", \"28/11/2016\", \"29/11/2016\", \"30/11/2016\", \"01/12/2016\", \"02/12/2016\", \"03/12/2016\", \"04/12/2016\", \"05/12/2016\", \"06/12/2016\", \"07/12/2016\", \"08/12/2016\", \"09/12/2016\", \"10/12/2016\", \"11/12/2016\", \"12/12/2016\", \"13/12/2016\", \"14/12/2016\", \"15/12/2016\", \"16/12/2016\", \"17/12/2016\", \"18/12/2016\", \"19/12/2016\", \"20/12/2016\", \"21/12/2016\", \"22/12/2016\", \"23/12/2016\", \"24/12/2016\", \"25/12/2016\", \"26/12/2016\", \"27/12/2016\", \"28/12/2016\", \"29/12/2016\", \"30/12/2016\", \"31/12/2016\", \"01/01/2017\", \"02/01/2017\", \"03/01/2017\", \"04/01/2017\", \"05/01/2017\", \"06/01/2017\", \"07/01/2017\", \"08/01/2017\", \"09/01/2017\", \"10/01/2017\", \"11/01/2017\", \"12/01/2017\", \"13/01/2017\", \"14/01/2017\", \"15/01/2017\", \"16/01/2017\", \"17/01/2017\", \"18/01/2017\", \"19/01/2017\", \"20/01/2017\", \"21/01/2017\", \"22/01/2017\", \"23/01/2017\", \"24/01/2017\", \"25/01/2017\", \"26/01/2017\", \"27/01/2017\", \"28/01/2017\", \"29/01/2017\", \"30/01/2017\", \"31/01/2017\", \"01/02/2017\", \"02/02/2017\", \"03/02/2017\", \"04/02/2017\", \"05/02/2017\", \"06/02/2017\", \"07/02/2017\", \"08/02/2017\", \"09/02/2017\", \"10/02/2017\", \"11/02/2017\", \"12/02/2017\", \"13/02/2017\", \"14/02/2017\", \"15/02/2017\", \"16/02/2017\", \"17/02/2017\", \"18/02/2017\", \"19/02/2017\", \"20/02/2017\", \"21/02/2017\", \"22/02/2017\", \"23/02/2017\", \"24/02/2017\", \"25/02/2017\", \"26/02/2017\", \"27/02/2017\", \"28/02/2017\", \"01/03/2017\", \"02/03/2017\", \"03/03/2017\", \"04/03/2017\", \"05/03/2017\", \"06/03/2017\", \"07/03/2017\", \"08/03/2017\", \"09/03/2017\", \"10/03/2017\", \"11/03/2017\", \"12/03/2017\", \"13/03/2017\", \"14/03/2017\", \"15/03/2017\", \"16/03/2017\", \"17/03/2017\", \"18/03/2017\", \"19/03/2017\", \"20/03/2017\", \"21/03/2017\", \"22/03/2017\", \"23/03/2017\", \"24/03/2017\", \"25/03/2017\", \"26/03/2017\", \"27/03/2017\", \"28/03/2017\", \"29/03/2017\", \"30/03/2017\", \"31/03/2017\", \"01/04/2017\", \"02/04/2017\", \"03/04/2017\", \"04/04/2017\", \"05/04/2017\", \"06/04/2017\", \"07/04/2017\", \"08/04/2017\", \"09/04/2017\", \"10/04/2017\", \"11/04/2017\", \"12/04/2017\", \"13/04/2017\", \"14/04/2017\", \"15/04/2017\", \"16/04/2017\", \"17/04/2017\", \"18/04/2017\", \"19/04/2017\", \"20/04/2017\", \"21/04/2017\", \"22/04/2017\", \"23/04/2017\", \"24/04/2017\", \"25/04/2017\", \"26/04/2017\", \"27/04/2017\", \"28/04/2017\", \"29/04/2017\", \"30/04/2017\", \"01/05/2017\", \"02/05/2017\", \"03/05/2017\", \"04/05/2017\", \"05/05/2017\", \"06/05/2017\", \"07/05/2017\", \"08/05/2017\", \"09/05/2017\", \"10/05/2017\", \"11/05/2017\", \"12/05/2017\", \"13/05/2017\", \"14/05/2017\", \"15/05/2017\", \"16/05/2017\", \"17/05/2017\", \"18/05/2017\", \"19/05/2017\", \"20/05/2017\", \"21/05/2017\", \"22/05/2017\", \"23/05/2017\", \"24/05/2017\", \"25/05/2017\", \"26/05/2017\", \"27/05/2017\", \"28/05/2017\", \"29/05/2017\", \"30/05/2017\", \"31/05/2017\", \"01/06/2017\", \"02/06/2017\", \"03/06/2017\", \"04/06/2017\", \"05/06/2017\", \"06/06/2017\", \"07/06/2017\", \"08/06/2017\", \"09/06/2017\", \"10/06/2017\", \"11/06/2017\", \"12/06/2017\", \"13/06/2017\", \"14/06/2017\", \"15/06/2017\", \"16/06/2017\", \"17/06/2017\", \"18/06/2017\", \"19/06/2017\", \"20/06/2017\", \"21/06/2017\", \"22/06/2017\", \"23/06/2017\", \"24/06/2017\", \"25/06/2017\", \"26/06/2017\", \"27/06/2017\", \"28/06/2017\", \"29/06/2017\", \"30/06/2017\", \"01/07/2017\", \"02/07/2017\", \"03/07/2017\", \"04/07/2017\", \"05/07/2017\", \"06/07/2017\", \"07/07/2017\", \"08/07/2017\", \"09/07/2017\", \"10/07/2017\", \"11/07/2017\", \"12/07/2017\", \"13/07/2017\", \"14/07/2017\", \"15/07/2017\", \"16/07/2017\", \"17/07/2017\", \"18/07/2017\", \"19/07/2017\", \"20/07/2017\", \"21/07/2017\", \"22/07/2017\", \"23/07/2017\", \"24/07/2017\", \"25/07/2017\", \"26/07/2017\", \"27/07/2017\", \"28/07/2017\", \"29/07/2017\", \"30/07/2017\", \"31/07/2017\", \"01/08/2017\", \"02/08/2017\", \"03/08/2017\", \"04/08/2017\", \"05/08/2017\", \"06/08/2017\", \"07/08/2017\", \"08/08/2017\", \"09/08/2017\", \"10/08/2017\", \"11/08/2017\", \"12/08/2017\", \"13/08/2017\", \"14/08/2017\", \"15/08/2017\", \"16/08/2017\", \"17/08/2017\", \"18/08/2017\", \"19/08/2017\", \"20/08/2017\", \"21/08/2017\", \"22/08/2017\", \"23/08/2017\", \"24/08/2017\", \"25/08/2017\", \"26/08/2017\", \"27/08/2017\", \"28/08/2017\", \"29/08/2017\", \"30/08/2017\", \"31/08/2017\", \"01/09/2017\", \"02/09/2017\", \"03/09/2017\", \"04/09/2017\", \"05/09/2017\", \"06/09/2017\", \"07/09/2017\", \"08/09/2017\", \"09/09/2017\", \"10/09/2017\", \"11/09/2017\", \"12/09/2017\", \"13/09/2017\", \"14/09/2017\", \"15/09/2017\", \"16/09/2017\", \"17/09/2017\", \"18/09/2017\", \"19/09/2017\", \"20/09/2017\", \"21/09/2017\", \"22/09/2017\", \"23/09/2017\", \"24/09/2017\", \"25/09/2017\", \"26/09/2017\", \"27/09/2017\", \"28/09/2017\", \"29/09/2017\", \"30/09/2017\", \"01/10/2017\", \"02/10/2017\", \"03/10/2017\", \"04/10/2017\", \"05/10/2017\", \"06/10/2017\", \"07/10/2017\", \"08/10/2017\", \"09/10/2017\", \"10/10/2017\", \"11/10/2017\", \"12/10/2017\", \"13/10/2017\", \"14/10/2017\", \"15/10/2017\", \"16/10/2017\", \"17/10/2017\", \"18/10/2017\", \"19/10/2017\", \"20/10/2017\", \"21/10/2017\", \"22/10/2017\", \"23/10/2017\", \"24/10/2017\", \"25/10/2017\", \"26/10/2017\", \"27/10/2017\", \"28/10/2017\", \"29/10/2017\", \"30/10/2017\", \"31/10/2017\", \"01/11/2017\", \"02/11/2017\", \"03/11/2017\", \"04/11/2017\", \"05/11/2017\", \"06/11/2017\", \"07/11/2017\", \"08/11/2017\", \"09/11/2017\", \"10/11/2017\", \"11/11/2017\", \"12/11/2017\", \"13/11/2017\", \"14/11/2017\", \"15/11/2017\", \"16/11/2017\", \"17/11/2017\", \"18/11/2017\", \"19/11/2017\", \"20/11/2017\", \"21/11/2017\", \"22/11/2017\", \"23/11/2017\", \"24/11/2017\", \"25/11/2017\", \"26/11/2017\", \"27/11/2017\", \"28/11/2017\", \"29/11/2017\", \"30/11/2017\", \"01/12/2017\", \"02/12/2017\", \"03/12/2017\", \"04/12/2017\", \"05/12/2017\", \"06/12/2017\", \"07/12/2017\", \"08/12/2017\", \"09/12/2017\", \"10/12/2017\", \"11/12/2017\", \"12/12/2017\", \"13/12/2017\", \"14/12/2017\", \"15/12/2017\", \"16/12/2017\", \"17/12/2017\", \"18/12/2017\", \"19/12/2017\", \"20/12/2017\", \"21/12/2017\", \"22/12/2017\", \"23/12/2017\", \"24/12/2017\", \"25/12/2017\", \"26/12/2017\", \"27/12/2017\", \"28/12/2017\", \"29/12/2017\", \"30/12/2017\", \"31/12/2017\", \"01/01/2018\", \"02/01/2018\", \"03/01/2018\", \"04/01/2018\", \"05/01/2018\", \"06/01/2018\", \"07/01/2018\", \"08/01/2018\", \"09/01/2018\", \"10/01/2018\", \"11/01/2018\", \"12/01/2018\", \"13/01/2018\", \"14/01/2018\", \"15/01/2018\", \"16/01/2018\", \"17/01/2018\", \"18/01/2018\", \"19/01/2018\", \"20/01/2018\", \"21/01/2018\", \"22/01/2018\", \"23/01/2018\", \"24/01/2018\", \"25/01/2018\", \"26/01/2018\", \"27/01/2018\", \"28/01/2018\", \"29/01/2018\", \"30/01/2018\", \"31/01/2018\", \"01/02/2018\", \"02/02/2018\", \"03/02/2018\", \"04/02/2018\", \"05/02/2018\", \"06/02/2018\", \"07/02/2018\", \"08/02/2018\", \"09/02/2018\", \"10/02/2018\", \"11/02/2018\", \"12/02/2018\", \"13/02/2018\", \"14/02/2018\", \"15/02/2018\", \"16/02/2018\", \"17/02/2018\", \"18/02/2018\", \"19/02/2018\", \"20/02/2018\", \"21/02/2018\", \"22/02/2018\", \"23/02/2018\", \"24/02/2018\", \"25/02/2018\", \"26/02/2018\", \"27/02/2018\", \"28/02/2018\", \"01/03/2018\", \"02/03/2018\", \"03/03/2018\", \"04/03/2018\", \"05/03/2018\", \"06/03/2018\", \"07/03/2018\", \"08/03/2018\", \"09/03/2018\", \"10/03/2018\", \"11/03/2018\", \"12/03/2018\", \"13/03/2018\", \"14/03/2018\", \"15/03/2018\", \"16/03/2018\", \"17/03/2018\", \"18/03/2018\", \"19/03/2018\", \"20/03/2018\", \"21/03/2018\", \"22/03/2018\", \"23/03/2018\", \"24/03/2018\", \"25/03/2018\", \"26/03/2018\", \"27/03/2018\", \"28/03/2018\", \"29/03/2018\", \"30/03/2018\", \"31/03/2018\", \"01/04/2018\", \"02/04/2018\", \"03/04/2018\", \"04/04/2018\", \"05/04/2018\", \"06/04/2018\", \"07/04/2018\", \"08/04/2018\", \"09/04/2018\", \"10/04/2018\", \"11/04/2018\", \"12/04/2018\", \"13/04/2018\", \"14/04/2018\", \"15/04/2018\", \"16/04/2018\", \"17/04/2018\", \"18/04/2018\", \"19/04/2018\", \"20/04/2018\", \"21/04/2018\", \"22/04/2018\", \"23/04/2018\", \"24/04/2018\", \"25/04/2018\", \"26/04/2018\", \"27/04/2018\", \"28/04/2018\", \"29/04/2018\", \"30/04/2018\", \"01/05/2018\", \"02/05/2018\", \"03/05/2018\", \"04/05/2018\", \"05/05/2018\", \"06/05/2018\", \"07/05/2018\", \"08/05/2018\", \"09/05/2018\", \"10/05/2018\", \"11/05/2018\", \"12/05/2018\", \"13/05/2018\", \"14/05/2018\", \"15/05/2018\", \"16/05/2018\", \"17/05/2018\", \"18/05/2018\", \"19/05/2018\", \"20/05/2018\", \"21/05/2018\", \"22/05/2018\", \"23/05/2018\", \"24/05/2018\", \"25/05/2018\", \"26/05/2018\", \"27/05/2018\", \"28/05/2018\", \"29/05/2018\", \"30/05/2018\", \"31/05/2018\", \"01/06/2018\", \"02/06/2018\", \"03/06/2018\", \"04/06/2018\", \"05/06/2018\", \"06/06/2018\", \"07/06/2018\", \"08/06/2018\", \"09/06/2018\", \"10/06/2018\", \"11/06/2018\", \"12/06/2018\", \"13/06/2018\", \"14/06/2018\", \"15/06/2018\", \"16/06/2018\", \"17/06/2018\", \"18/06/2018\", \"19/06/2018\", \"20/06/2018\", \"21/06/2018\", \"22/06/2018\", \"23/06/2018\", \"24/06/2018\", \"25/06/2018\", \"26/06/2018\", \"27/06/2018\", \"28/06/2018\", \"29/06/2018\", \"30/06/2018\", \"01/07/2018\", \"02/07/2018\", \"03/07/2018\", \"04/07/2018\", \"05/07/2018\", \"06/07/2018\", \"07/07/2018\", \"08/07/2018\", \"09/07/2018\", \"10/07/2018\", \"11/07/2018\", \"12/07/2018\", \"13/07/2018\", \"14/07/2018\", \"15/07/2018\", \"16/07/2018\", \"17/07/2018\", \"18/07/2018\", \"19/07/2018\", \"20/07/2018\", \"21/07/2018\", \"22/07/2018\", \"23/07/2018\", \"24/07/2018\", \"25/07/2018\", \"26/07/2018\", \"27/07/2018\", \"28/07/2018\", \"29/07/2018\", \"30/07/2018\", \"31/07/2018\", \"01/08/2018\", \"02/08/2018\", \"03/08/2018\", \"04/08/2018\", \"05/08/2018\", \"06/08/2018\", \"07/08/2018\", \"08/08/2018\", \"09/08/2018\", \"10/08/2018\", \"11/08/2018\", \"12/08/2018\", \"13/08/2018\", \"14/08/2018\", \"15/08/2018\", \"16/08/2018\", \"17/08/2018\", \"18/08/2018\", \"19/08/2018\", \"20/08/2018\", \"21/08/2018\", \"22/08/2018\", \"23/08/2018\", \"24/08/2018\", \"25/08/2018\", \"26/08/2018\", \"27/08/2018\", \"28/08/2018\", \"29/08/2018\", \"30/08/2018\", \"31/08/2018\", \"01/09/2018\", \"02/09/2018\", \"03/09/2018\", \"04/09/2018\", \"05/09/2018\", \"06/09/2018\", \"07/09/2018\", \"08/09/2018\", \"09/09/2018\", \"10/09/2018\", \"11/09/2018\", \"12/09/2018\", \"13/09/2018\", \"14/09/2018\", \"15/09/2018\", \"16/09/2018\", \"17/09/2018\", \"18/09/2018\", \"19/09/2018\", \"20/09/2018\", \"21/09/2018\", \"22/09/2018\", \"23/09/2018\", \"24/09/2018\", \"25/09/2018\", \"26/09/2018\", \"27/09/2018\", \"28/09/2018\", \"29/09/2018\", \"30/09/2018\", \"01/10/2018\", \"02/10/2018\", \"03/10/2018\", \"04/10/2018\", \"05/10/2018\", \"06/10/2018\", \"07/10/2018\", \"08/10/2018\", \"09/10/2018\", \"10/10/2018\", \"11/10/2018\", \"12/10/2018\", \"13/10/2018\", \"14/10/2018\", \"15/10/2018\", \"16/10/2018\", \"17/10/2018\", \"18/10/2018\", \"19/10/2018\", \"20/10/2018\", \"21/10/2018\", \"22/10/2018\", \"23/10/2018\", \"24/10/2018\", \"25/10/2018\", \"26/10/2018\", \"27/10/2018\", \"28/10/2018\", \"29/10/2018\", \"30/10/2018\", \"31/10/2018\", \"01/11/2018\", \"02/11/2018\", \"03/11/2018\", \"04/11/2018\", \"05/11/2018\", \"06/11/2018\", \"07/11/2018\", \"08/11/2018\", \"09/11/2018\", \"10/11/2018\", \"11/11/2018\", \"12/11/2018\", \"13/11/2018\", \"14/11/2018\", \"15/11/2018\", \"16/11/2018\", \"17/11/2018\", \"18/11/2018\", \"19/11/2018\", \"20/11/2018\", \"21/11/2018\", \"22/11/2018\", \"23/11/2018\", \"24/11/2018\", \"25/11/2018\", \"26/11/2018\", \"27/11/2018\", \"28/11/2018\", \"29/11/2018\", \"30/11/2018\", \"01/12/2018\", \"02/12/2018\", \"03/12/2018\", \"04/12/2018\", \"05/12/2018\", \"06/12/2018\", \"07/12/2018\", \"08/12/2018\", \"09/12/2018\", \"10/12/2018\", \"11/12/2018\", \"12/12/2018\", \"13/12/2018\", \"14/12/2018\", \"15/12/2018\", \"16/12/2018\", \"17/12/2018\", \"18/12/2018\", \"19/12/2018\", \"20/12/2018\", \"21/12/2018\", \"22/12/2018\", \"23/12/2018\", \"24/12/2018\", \"25/12/2018\", \"26/12/2018\", \"27/12/2018\", \"28/12/2018\", \"29/12/2018\", \"30/12/2018\", \"31/12/2018\", \"01/01/2019\", \"02/01/2019\", \"03/01/2019\", \"04/01/2019\", \"05/01/2019\", \"06/01/2019\", \"07/01/2019\", \"08/01/2019\", \"09/01/2019\", \"10/01/2019\", \"11/01/2019\", \"12/01/2019\", \"13/01/2019\", \"14/01/2019\", \"15/01/2019\", \"16/01/2019\", \"17/01/2019\", \"18/01/2019\", \"19/01/2019\", \"20/01/2019\", \"21/01/2019\", \"22/01/2019\", \"23/01/2019\", \"24/01/2019\", \"25/01/2019\", \"26/01/2019\", \"27/01/2019\", \"28/01/2019\", \"29/01/2019\", \"30/01/2019\", \"31/01/2019\", \"01/02/2019\", \"02/02/2019\", \"03/02/2019\", \"04/02/2019\", \"05/02/2019\", \"06/02/2019\", \"07/02/2019\", \"08/02/2019\", \"09/02/2019\", \"10/02/2019\", \"11/02/2019\", \"12/02/2019\", \"13/02/2019\", \"14/02/2019\", \"15/02/2019\", \"16/02/2019\", \"17/02/2019\", \"18/02/2019\", \"19/02/2019\", \"20/02/2019\", \"21/02/2019\", \"22/02/2019\", \"23/02/2019\", \"24/02/2019\", \"25/02/2019\", \"26/02/2019\", \"27/02/2019\", \"28/02/2019\", \"01/03/2019\", \"02/03/2019\", \"03/03/2019\", \"04/03/2019\", \"05/03/2019\", \"06/03/2019\", \"07/03/2019\", \"08/03/2019\", \"09/03/2019\", \"10/03/2019\", \"11/03/2019\", \"12/03/2019\", \"13/03/2019\", \"14/03/2019\", \"15/03/2019\", \"16/03/2019\", \"17/03/2019\", \"18/03/2019\", \"19/03/2019\", \"20/03/2019\", \"21/03/2019\", \"22/03/2019\", \"23/03/2019\", \"24/03/2019\", \"25/03/2019\", \"26/03/2019\", \"27/03/2019\", \"28/03/2019\", \"29/03/2019\", \"30/03/2019\", \"31/03/2019\", \"01/04/2019\", \"02/04/2019\", \"03/04/2019\", \"04/04/2019\", \"05/04/2019\", \"06/04/2019\", \"07/04/2019\", \"08/04/2019\", \"09/04/2019\", \"10/04/2019\", \"11/04/2019\", \"12/04/2019\", \"13/04/2019\", \"14/04/2019\", \"15/04/2019\", \"16/04/2019\", \"17/04/2019\", \"18/04/2019\", \"19/04/2019\", \"20/04/2019\", \"21/04/2019\", \"22/04/2019\", \"23/04/2019\", \"24/04/2019\", \"25/04/2019\", \"26/04/2019\", \"27/04/2019\", \"28/04/2019\", \"29/04/2019\", \"30/04/2019\", \"01/05/2019\", \"02/05/2019\", \"03/05/2019\", \"04/05/2019\", \"05/05/2019\", \"06/05/2019\", \"07/05/2019\", \"08/05/2019\", \"09/05/2019\", \"10/05/2019\", \"11/05/2019\", \"12/05/2019\", \"13/05/2019\", \"14/05/2019\", \"15/05/2019\", \"16/05/2019\", \"17/05/2019\", \"18/05/2019\", \"19/05/2019\", \"20/05/2019\", \"21/05/2019\", \"22/05/2019\", \"23/05/2019\", \"24/05/2019\", \"25/05/2019\", \"26/05/2019\", \"27/05/2019\", \"28/05/2019\", \"29/05/2019\", \"30/05/2019\", \"31/05/2019\", \"01/06/2019\", \"02/06/2019\", \"03/06/2019\", \"04/06/2019\", \"05/06/2019\", \"06/06/2019\", \"07/06/2019\", \"08/06/2019\", \"09/06/2019\", \"10/06/2019\", \"11/06/2019\", \"12/06/2019\", \"13/06/2019\", \"14/06/2019\", \"15/06/2019\", \"16/06/2019\", \"17/06/2019\", \"18/06/2019\", \"19/06/2019\", \"20/06/2019\", \"21/06/2019\", \"22/06/2019\", \"23/06/2019\", \"24/06/2019\", \"25/06/2019\", \"26/06/2019\", \"27/06/2019\", \"28/06/2019\", \"29/06/2019\", \"30/06/2019\", \"01/07/2019\", \"02/07/2019\", \"03/07/2019\", \"04/07/2019\", \"05/07/2019\", \"06/07/2019\", \"07/07/2019\", \"08/07/2019\", \"09/07/2019\", \"10/07/2019\", \"11/07/2019\", \"12/07/2019\", \"13/07/2019\", \"14/07/2019\", \"15/07/2019\", \"16/07/2019\", \"17/07/2019\", \"18/07/2019\", \"19/07/2019\", \"20/07/2019\", \"21/07/2019\", \"22/07/2019\", \"23/07/2019\", \"24/07/2019\", \"25/07/2019\", \"26/07/2019\", \"27/07/2019\", \"28/07/2019\", \"29/07/2019\", \"30/07/2019\", \"31/07/2019\", \"01/08/2019\", \"02/08/2019\", \"03/08/2019\", \"04/08/2019\", \"05/08/2019\", \"06/08/2019\", \"07/08/2019\", \"08/08/2019\", \"09/08/2019\", \"10/08/2019\", \"11/08/2019\", \"12/08/2019\", \"13/08/2019\", \"14/08/2019\", \"15/08/2019\", \"16/08/2019\", \"17/08/2019\", \"18/08/2019\", \"19/08/2019\", \"20/08/2019\", \"21/08/2019\", \"22/08/2019\", \"23/08/2019\", \"24/08/2019\", \"25/08/2019\", \"26/08/2019\", \"27/08/2019\", \"28/08/2019\", \"29/08/2019\", \"30/08/2019\", \"31/08/2019\", \"01/09/2019\", \"02/09/2019\", \"03/09/2019\", \"04/09/2019\", \"05/09/2019\", \"06/09/2019\", \"07/09/2019\", \"08/09/2019\", \"09/09/2019\", \"10/09/2019\", \"11/09/2019\", \"12/09/2019\", \"13/09/2019\", \"14/09/2019\", \"15/09/2019\", \"16/09/2019\", \"17/09/2019\", \"18/09/2019\", \"19/09/2019\", \"20/09/2019\", \"21/09/2019\", \"22/09/2019\", \"23/09/2019\", \"24/09/2019\", \"25/09/2019\", \"26/09/2019\", \"27/09/2019\", \"28/09/2019\", \"29/09/2019\", \"30/09/2019\", \"01/10/2019\", \"02/10/2019\", \"03/10/2019\", \"04/10/2019\", \"05/10/2019\", \"06/10/2019\", \"07/10/2019\", \"08/10/2019\", \"09/10/2019\", \"10/10/2019\", \"11/10/2019\", \"12/10/2019\", \"13/10/2019\", \"14/10/2019\", \"15/10/2019\", \"16/10/2019\", \"17/10/2019\", \"18/10/2019\", \"19/10/2019\", \"20/10/2019\", \"21/10/2019\", \"22/10/2019\", \"23/10/2019\", \"24/10/2019\", \"25/10/2019\", \"26/10/2019\", \"27/10/2019\", \"28/10/2019\", \"29/10/2019\", \"30/10/2019\", \"31/10/2019\", \"01/11/2019\", \"02/11/2019\", \"03/11/2019\", \"04/11/2019\", \"05/11/2019\", \"06/11/2019\", \"07/11/2019\", \"08/11/2019\", \"09/11/2019\", \"10/11/2019\", \"11/11/2019\", \"12/11/2019\", \"13/11/2019\", \"14/11/2019\", \"15/11/2019\", \"16/11/2019\", \"17/11/2019\", \"18/11/2019\", \"19/11/2019\", \"20/11/2019\", \"21/11/2019\", \"22/11/2019\", \"23/11/2019\", \"24/11/2019\", \"25/11/2019\", \"26/11/2019\", \"27/11/2019\", \"28/11/2019\", \"29/11/2019\", \"30/11/2019\", \"01/12/2019\", \"02/12/2019\", \"03/12/2019\", \"04/12/2019\", \"05/12/2019\", \"06/12/2019\", \"07/12/2019\", \"08/12/2019\", \"09/12/2019\", \"10/12/2019\", \"11/12/2019\", \"12/12/2019\", \"13/12/2019\", \"14/12/2019\", \"15/12/2019\", \"16/12/2019\", \"17/12/2019\", \"18/12/2019\", \"19/12/2019\", \"20/12/2019\", \"21/12/2019\", \"22/12/2019\", \"23/12/2019\", \"24/12/2019\", \"25/12/2019\", \"26/12/2019\", \"27/12/2019\", \"28/12/2019\", \"29/12/2019\", \"30/12/2019\", \"31/12/2019\", \"01/01/2020\", \"02/01/2020\", \"03/01/2020\", \"04/01/2020\", \"05/01/2020\", \"06/01/2020\", \"07/01/2020\", \"08/01/2020\", \"09/01/2020\", \"10/01/2020\", \"11/01/2020\", \"12/01/2020\", \"13/01/2020\", \"14/01/2020\", \"15/01/2020\", \"16/01/2020\", \"17/01/2020\", \"18/01/2020\", \"19/01/2020\", \"20/01/2020\", \"21/01/2020\", \"22/01/2020\", \"23/01/2020\", \"24/01/2020\", \"25/01/2020\", \"26/01/2020\", \"27/01/2020\", \"28/01/2020\", \"29/01/2020\", \"30/01/2020\", \"31/01/2020\", \"01/02/2020\", \"02/02/2020\", \"03/02/2020\", \"04/02/2020\", \"05/02/2020\", \"06/02/2020\", \"07/02/2020\", \"08/02/2020\", \"09/02/2020\", \"10/02/2020\", \"11/02/2020\", \"12/02/2020\", \"13/02/2020\", \"14/02/2020\", \"15/02/2020\", \"16/02/2020\", \"17/02/2020\", \"18/02/2020\", \"19/02/2020\", \"20/02/2020\", \"21/02/2020\", \"22/02/2020\", \"23/02/2020\", \"24/02/2020\", \"25/02/2020\", \"26/02/2020\", \"27/02/2020\", \"28/02/2020\", \"29/02/2020\", \"01/03/2020\", \"02/03/2020\", \"03/03/2020\", \"04/03/2020\", \"05/03/2020\", \"06/03/2020\", \"07/03/2020\", \"08/03/2020\", \"09/03/2020\", \"10/03/2020\", \"11/03/2020\", \"12/03/2020\", \"13/03/2020\", \"14/03/2020\", \"15/03/2020\", \"16/03/2020\", \"17/03/2020\", \"18/03/2020\", \"19/03/2020\", \"20/03/2020\", \"21/03/2020\", \"22/03/2020\"], \"y\": [0.89, 0.89, 0.88, 0.91, 1.03, 0.97, 1.03, 1.07, 1.05, 1.07, 1.05, 1.05, 1.04, 0.9, 0.93, 0.85, 0.84, 0.87, 0.9, 0.98, 0.94, 0.95, 0.91, 0.87, 0.94, 0.93, 0.93, 0.91, 0.9, 0.87, 0.89, 0.87, 0.86, 0.91, 0.89, 0.91, 0.9, 0.89, 0.87, 0.86, 0.84, 0.8, 0.77, 0.76, 0.75, 0.8, 0.84, 0.87, 0.88, 0.87, 0.83, 0.81, 0.79, 0.79, 0.78, 0.78, 0.78, 0.78, 0.69, 0.69, 0.73, 0.75, 0.75, 0.74, 0.74, 0.77, 0.86, 0.93, 0.98, 1.0, 1.05, 1.1, 1.16, 1.19, 1.15, 1.2, 1.35, 1.62, 1.65, 1.57, 1.73, 1.9, 2.12, 2.74, 3.4, 3.09, 3.22, 3.37, 3.43, 3.37, 3.47, 3.63, 3.82, 3.8, 5.28, 5.43, 6.07, 7.84, 7.53, 6.87, 7.9, 7.35, 7.01, 6.88, 5.94, 6.05, 6.58, 7.13, 7.33, 8.19, 8.68, 8.59, 8.38, 8.37, 8.76, 8.81, 9.39, 10.36, 13.69, 17.65, 17.01, 18.51, 21.91, 28.43, 29.25, 24.31, 16.13, 17.38, 19.98, 19.26, 19.59, 17.93, 15.6, 16.46, 17.64, 17.51, 17.51, 17.51, 17.51, 17.51, 17.51, 16.02, 16.88, 16.94, 16.86, 16.31, 15.65, 15.47, 15.46, 14.17, 12.86, 14.79, 14.97, 14.33, 14.39, 14.99, 14.29, 14.08, 13.99, 13.96, 13.85, 13.67, 13.25, 13.26, 13.95, 13.69, 13.64, 13.68, 13.66, 13.92, 14.13, 13.9, 13.95, 13.55, 13.51, 13.53, 13.44, 13.13, 12.22, 9.86, 10.67, 10.04, 7.19, 7.81, 7.77, 9.86, 9.99, 9.47, 9.39, 9.97, 10.71, 11.23, 11.01, 10.92, 10.87, 11.53, 11.47, 11.35, 10.97, 10.99, 10.9, 9.84, 8.42, 8.61, 9.02, 8.95, 8.79, 8.27, 8.22, 8.54, 8.51, 8.18, 7.62, 6.8, 7.11, 6.67, 5.17, 4.9, 5.96, 6.06, 5.8, 5.59, 4.91, 4.82, 4.77, 5.16, 5.36, 6.11, 5.62, 5.46, 5.57, 5.44, 5.33, 4.91, 4.88, 4.76, 4.74, 5.08, 5.04, 5.01, 4.98, 4.93, 4.87, 4.71, 4.28, 4.02, 4.15, 4.1, 3.94, 4.11, 4.07, 4.0, 3.87, 3.6, 2.71, 2.52, 2.28, 2.33, 2.56, 3.09, 3.13, 2.68, 2.76, 2.76, 2.98, 3.15, 3.56, 3.33, 3.22, 3.17, 3.24, 3.18, 3.12, 2.99, 2.96, 3.01, 3.07, 2.98, 2.86, 3.03, 3.05, 3.0, 2.37, 2.32, 2.51, 2.24, 2.09, 2.19, 2.24, 2.26, 2.32, 2.33, 2.43, 2.49, 2.48, 2.47, 2.53, 2.77, 2.94, 3.06, 3.11, 2.86, 2.79, 2.88, 3.01, 3.0, 2.97, 2.98, 3.05, 3.23, 3.16, 3.23, 3.13, 3.19, 3.19, 3.2, 3.2, 3.47, 3.96, 3.91, 3.84, 3.93, 3.93, 4.18, 4.03, 4.05, 4.17, 4.19, 4.22, 4.66, 5.21, 5.22, 4.89, 5.41, 6.48, 6.72, 6.76, 7.08, 6.33, 6.4, 6.85, 6.76, 6.52, 6.7, 6.95, 6.71, 5.99, 5.93, 6.23, 6.47, 6.25, 6.32, 6.32, 6.31, 5.8, 5.51, 5.29, 5.62, 5.42, 5.5, 5.52, 5.85, 6.07, 5.95, 5.83, 5.65, 5.55, 5.67, 5.61, 5.7, 5.89, 5.65, 5.55, 5.34, 4.55, 4.46, 4.23, 4.43, 4.24, 4.44, 4.36, 4.3, 4.45, 4.95, 4.96, 4.82, 4.96, 4.95, 4.86, 4.79, 4.93, 4.7, 4.64, 4.82, 4.94, 4.97, 4.92, 4.9, 4.88, 4.89, 4.89, 4.88, 5.22, 5.37, 5.26, 5.34, 5.29, 5.24, 4.81, 4.77, 4.8, 4.74, 4.69, 4.66, 4.58, 4.63, 4.72, 4.79, 4.77, 4.83, 4.89, 4.79, 4.94, 4.91, 4.89, 4.91, 4.95, 4.74, 4.76, 4.82, 4.81, 4.9, 4.88, 4.89, 4.97, 4.93, 4.91, 4.96, 5.1, 5.14, 5.27, 5.26, 5.18, 5.07, 5.07, 5.12, 5.08, 5.09, 4.96, 4.95, 4.95, 4.97, 5.06, 5.1, 5.08, 5.04, 5.04, 5.05, 5.03, 5.01, 4.92, 4.93, 4.94, 4.94, 5.01, 5.0, 5.08, 5.08, 5.11, 5.09, 5.1, 5.08, 5.08, 5.11, 5.12, 5.11, 5.09, 5.1, 5.12, 5.14, 5.14, 5.16, 5.25, 5.22, 5.26, 5.24, 5.41, 5.44, 5.53, 5.61, 5.56, 5.46, 5.52, 5.67, 5.97, 5.91, 6.25, 6.42, 6.24, 6.36, 6.46, 6.63, 6.66, 6.57, 6.43, 6.35, 6.3, 6.39, 6.58, 6.59, 6.61, 6.67, 6.6, 6.72, 6.53, 6.5, 6.66, 6.65, 6.76, 6.88, 6.88, 7.12, 7.12, 7.43, 7.74, 7.57, 7.57, 8.22, 8.55, 8.97, 9.02, 8.41, 8.86, 8.51, 8.58, 8.61, 8.64, 8.82, 8.88, 8.97, 8.74, 9.01, 9.29, 9.45, 10.36, 10.89, 10.99, 10.64, 10.86, 11.03, 11.04, 11.22, 11.39, 11.5, 11.93, 11.82, 12.07, 12.88, 13.35, 11.97, 11.73, 8.41, 9.75, 10.02, 10.06, 10.05, 10.41, 10.48, 10.57, 10.9, 10.94, 10.86, 10.76, 10.15, 10.1, 10.13, 10.42, 10.34, 10.79, 11.04, 11.08, 11.01, 11.02, 11.1, 11.27, 11.29, 11.36, 11.63, 11.71, 11.94, 11.88, 12.12, 12.5, 12.41, 12.26, 12.21, 12.09, 12.09, 12.13, 12.25, 12.3, 12.35, 12.38, 12.38, 12.41, 12.66, 12.8, 12.84, 12.71, 12.37, 11.88, 11.49, 11.93, 12.07, 11.97, 12.01, 11.85, 11.82, 11.76, 11.78, 11.84, 11.88, 11.72, 11.7, 11.53, 11.67, 11.69, 11.64, 10.91, 10.27, 10.35, 10.58, 10.59, 10.75, 10.95, 10.82, 10.5, 10.54, 10.6, 10.7, 10.82, 10.92, 10.9, 10.81, 10.86, 10.75, 10.96, 10.94, 10.93, 11.23, 11.6, 11.7, 11.67, 11.74, 11.81, 11.72, 12.15, 12.3, 12.38, 12.43, 12.34, 12.13, 12.28, 12.42, 12.59, 12.54, 12.52, 12.58, 13.15, 13.32, 13.41, 13.42, 13.42, 13.3, 13.44, 13.52, 13.64, 13.67, 13.5, 13.47, 13.33, 13.24, 13.24, 13.43, 13.42, 13.46, 13.34, 13.24, 13.37, 13.33, 13.36, 13.35, 13.39, 13.44, 13.41, 13.46, 13.25, 13.28, 13.33, 13.46, 13.4, 13.45, 13.5, 13.71, 13.81, 14.08, 14.14, 14.19, 14.08, 14.44, 14.23, 14.62, 15.34, 15.65, 15.9, 15.66, 16.58, 17.23, 17.36, 17.33, 17.09, 17.42, 17.7, 18.51, 19.52, 19.59, 20.63, 20.67, 19.59, 20.64, 20.37, 20.56, 21.12, 21.88, 22.99, 23.5, 23.64, 24.32, 25.24, 25.5, 26.5, 27.01, 27.17, 26.54, 27.51, 28.96, 29.6, 29.75, 30.42, 29.73, 29.81, 30.25, 31.02, 31.13, 33.56, 34.36, 33.99, 34.2, 35.71, 41.1, 44.04, 41.79, 43.58, 46.05, 46.3, 47.83, 44.23, 46.59, 47.0, 47.95, 46.78, 47.09, 49.64, 57.1, 64.85, 70.31, 70.35, 63.08, 70.32, 77.64, 77.76, 87.1, 88.26, 89.49, 97.38, 92.69, 101.88, 112.04, 130.42, 140.22, 140.78, 141.56, 157.81, 184.48, 198.5, 165.09, 112.62, 95.84, 100.49, 93.41, 86.21, 67.27, 88.87, 100.95, 120.32, 124.55, 118.26, 124.42, 137.42, 146.94, 143.28, 133.92, 128.67, 133.23, 134.83, 138.17, 117.34, 105.81, 93.84, 110.8, 115.28, 115.65, 107.6, 113.15, 112.89, 117.48, 115.26, 114.32, 117.14, 114.07, 111.01, 115.66, 121.59, 121.86, 120.41, 120.86, 121.36, 121.56, 124.69, 130.38, 130.92, 133.39, 128.8, 127.99, 129.27, 128.86, 128.15, 128.54, 121.84, 119.15, 120.85, 121.64, 119.39, 111.63, 107.59, 99.48, 105.19, 107.77, 108.67, 104.43, 100.34, 100.2, 99.85, 101.21, 106.34, 107.36, 110.7, 108.23, 106.33, 103.5, 101.44, 102.97, 102.69, 100.94, 93.1, 94.75, 95.29, 87.39, 88.04, 78.25, 78.38, 68.04, 68.04, 71.14, 77.79, 74.74, 82.19, 88.26, 92.0, 91.74, 92.38, 95.28, 93.63, 92.63, 87.31, 88.99, 87.88, 86.79, 87.26, 89.17, 90.06, 91.57, 92.28, 91.22, 95.32, 96.25, 97.72, 101.28, 99.08, 99.01, 98.75, 99.58, 99.4, 100.61, 98.03, 96.81, 95.37, 95.48, 98.03, 99.54, 101.2, 104.0, 102.32, 101.2, 104.21, 104.52, 108.11, 111.43, 113.84, 112.92, 111.21, 112.55, 113.13, 114.43, 122.06, 121.7, 120.57, 127.83, 134.31, 131.89, 132.11, 132.48, 126.74, 122.25, 120.79, 120.98, 121.07, 124.93, 126.57, 129.0, 130.6, 129.69, 127.37, 128.29, 127.87, 129.67, 129.39, 127.23, 126.31, 125.84, 126.13, 125.16, 125.92, 127.22, 127.68, 129.85, 132.96, 129.74, 129.84, 127.69, 111.32, 122.84, 126.11, 124.17, 125.45, 124.77, 127.2, 127.89, 129.28, 133.07, 132.18, 135.38, 138.33, 141.6, 146.54, 148.02, 158.35, 167.51, 171.37, 183.73, 195.52, 199.84, 185.46, 177.58, 186.44, 188.72, 195.37, 201.5, 198.65, 205.55, 203.25, 204.16, 212.03, 227.65, 260.9, 267.87, 294.77, 333.74, 338.13, 335.45, 340.03, 358.66, 406.2, 413.8, 456.96, 444.98, 504.52, 653.75, 545.07, 644.17, 694.61, 772.31, 768.95, 773.23, 853.12, 901.68, 963.83, 1049.35, 1102.54, 1094.99, 951.58, 1031.68, 1080.61, 1091.44, 992.26, 776.36, 730.1, 817.61, 897.54, 946.85, 873.03, 894.43, 881.59, 859.13, 808.14, 706.87, 623.38, 562.33, 694.1, 626.2, 624.07, 629.45, 663.41, 669.09, 702.13, 760.84, 734.62, 725.49, 742.42, 757.71, 760.91, 771.3, 811.47, 819.23, 864.65, 957.35, 939.27, 842.64, 843.84, 842.98, 888.05, 897.51, 857.75, 845.5, 834.26, 866.23, 845.19, 817.63, 837.4, 855.48, 874.82, 870.64, 853.58, 833.93, 805.12, 854.89, 887.98, 787.18, 825.6, 821.93, 822.31, 827.55, 846.43, 831.2, 809.57, 841.51, 815.39, 785.62, 715.76, 680.58, 687.89, 673.81, 662.36, 653.72, 614.82, 659.26, 648.36, 608.54, 624.95, 614.93, 622.34, 562.62, 568.16, 600.64, 594.46, 547.14, 529.19, 581.0, 579.03, 567.93, 565.62, 557.3, 662.28, 665.0, 655.51, 658.71, 627.36, 616.06, 637.04, 626.45, 629.08, 633.59, 639.1, 627.99, 629.35, 630.53, 622.9, 613.84, 610.04, 583.67, 578.36, 562.2, 564.25, 574.88, 563.9, 581.1, 512.9, 501.32, 497.05, 462.2, 457.6, 478.67, 449.1, 442.61, 447.95, 457.53, 460.37, 449.64, 450.79, 437.47, 386.66, 414.53, 422.03, 413.6, 465.45, 500.99, 518.77, 498.45, 481.16, 496.48, 498.76, 494.62, 489.03, 486.85, 481.38, 461.23, 457.93, 440.41, 439.29, 443.31, 446.22, 455.13, 448.08, 436.12, 434.63, 430.67, 427.55, 438.17, 438.25, 446.24, 451.43, 439.36, 438.87, 437.84, 443.26, 444.92, 446.33, 446.42, 444.9, 460.48, 478.49, 490.43, 517.66, 524.19, 535.36, 566.38, 581.56, 573.32, 571.84, 583.53, 607.55, 619.78, 637.66, 644.3, 660.72, 639.39, 654.25, 650.66, 652.67, 647.99, 649.14, 651.43, 637.21, 605.43, 593.12, 570.85, 576.37, 594.26, 602.02, 603.48, 599.77, 591.11, 591.8, 599.1, 587.56, 584.29, 566.76, 579.23, 596.02, 606.34, 596.2, 631.09, 646.47, 649.16, 638.62, 632.62, 629.67, 633.77, 623.46, 622.52, 623.51, 617.73, 628.09, 632.6, 625.94, 620.97, 621.6, 617.79, 621.45, 624.57, 627.44, 623.25, 620.22, 620.65, 612.94, 602.84, 600.16, 595.1, 592.2, 583.73, 582.82, 571.0, 578.48, 594.19, 587.64, 585.39, 587.23, 584.01, 583.18, 586.43, 590.94, 588.25, 589.48, 578.94, 555.19, 548.18, 515.44, 499.4, 510.15, 496.57, 465.59, 481.54, 504.05, 519.8, 512.16, 500.74, 507.97, 503.12, 510.97, 508.96, 509.12, 508.91, 502.63, 482.43, 478.48, 477.75, 476.97, 487.62, 483.33, 482.07, 482.93, 472.59, 470.93, 480.79, 475.53, 474.44, 478.16, 477.25, 473.9, 455.35, 454.89, 426.72, 398.59, 408.04, 402.66, 399.96, 425.2, 425.22, 410.39, 399.63, 400.86, 384.12, 376.68, 384.7, 373.14, 375.96, 362.11, 334.94, 315.09, 333.68, 331.0, 345.6, 366.31, 359.67, 366.33, 369.74, 383.29, 402.46, 392.54, 381.82, 380.69, 387.64, 388.46, 381.29, 378.31, 381.92, 362.39, 356.69, 348.43, 350.32, 352.32, 353.86, 340.2, 342.12, 336.23, 326.35, 324.45, 326.45, 327.98, 341.03, 346.86, 342.99, 344.23, 357.54, 374.76, 366.74, 413.77, 418.8, 396.8, 379.74, 386.74, 388.9, 376.57, 376.93, 361.7, 351.01, 355.25, 363.06, 378.3, 377.93, 369.61, 369.79, 375.03, 376.28, 377.59, 379.24, 381.39, 377.54, 372.21, 372.56, 375.12, 375.34, 365.7, 352.35, 348.02, 349.98, 352.15, 347.43, 351.11, 340.24, 330.69, 320.79, 312.43, 314.99, 326.96, 322.57, 330.07, 334.74, 325.19, 318.48, 326.1, 316.53, 316.67, 314.42, 309.81, 316.9, 315.23, 315.03, 293.11, 271.68, 271.39, 282.85, 293.46, 287.17, 278.13, 277.14, 268.93, 268.91, 234.63, 192.13, 208.79, 208.81, 200.21, 209.06, 215.72, 211.52, 220.0, 232.36, 232.38, 246.29, 250.55, 273.97, 261.86, 240.7, 232.02, 228.99, 223.65, 223.54, 230.6, 229.09, 226.62, 218.86, 222.08, 227.2, 223.57, 220.59, 219.78, 220.27, 221.35, 236.64, 251.7, 239.64, 234.86, 241.45, 237.79, 239.72, 243.0, 244.41, 237.8, 239.13, 238.4, 237.49, 236.25, 252.63, 257.25, 253.49, 267.96, 279.85, 275.94, 273.65, 273.22, 275.99, 275.01, 286.53, 292.42, 295.09, 294.94, 287.83, 282.82, 282.14, 290.83, 287.38, 265.06, 258.2, 260.33, 259.99, 265.45, 265.95, 250.16, 246.17, 249.6, 247.5, 252.13, 243.86, 247.6, 244.67, 245.31, 251.39, 253.7, 253.04, 257.89, 255.91, 254.27, 246.78, 240.83, 236.57, 236.38, 236.41, 227.79, 220.4, 222.02, 228.26, 223.66, 223.03, 225.62, 224.39, 229.94, 235.37, 235.27, 229.53, 227.86, 218.85, 224.7, 225.68, 228.85, 235.08, 234.19, 235.37, 240.72, 238.75, 236.09, 233.32, 235.98, 242.98, 241.63, 240.85, 242.35, 241.84, 240.56, 238.53, 237.88, 236.94, 237.05, 235.09, 234.29, 234.42, 235.84, 239.64, 239.79, 240.56, 237.99, 237.61, 237.62, 237.88, 235.22, 233.87, 231.75, 224.65, 225.62, 226.09, 225.45, 225.47, 226.07, 224.38, 228.58, 230.18, 229.69, 230.41, 231.01, 234.94, 234.14, 236.98, 246.68, 250.58, 248.16, 246.24, 244.8, 244.19, 246.66, 244.9, 242.2, 243.07, 242.98, 249.0, 251.31, 254.95, 262.37, 259.0, 256.05, 258.58, 259.03, 268.72, 271.16, 266.53, 274.68, 269.38, 285.13, 292.12, 307.26, 289.22, 289.16, 288.1, 279.14, 278.05, 275.93, 273.69, 277.54, 277.66, 276.76, 280.17, 286.01, 288.34, 291.47, 292.7, 291.9, 290.83, 287.88, 285.02, 281.18, 281.43, 282.55, 284.78, 282.66, 279.43, 275.92, 267.89, 264.02, 264.33, 268.01, 266.05, 264.91, 265.8, 263.84, 258.76, 252.11, 241.71, 230.14, 234.01, 233.09, 227.41, 228.45, 215.25, 219.01, 226.32, 226.6, 230.39, 230.08, 228.79, 230.45, 229.36, 229.03, 228.22, 230.52, 234.14, 240.17, 240.43, 243.59, 240.26, 239.02, 238.35, 236.7, 231.66, 230.23, 230.4, 229.78, 233.01, 233.06, 232.09, 231.68, 229.18, 230.49, 230.88, 234.34, 235.38, 235.73, 233.55, 238.39, 237.95, 237.2, 238.9, 237.91, 239.33, 239.55, 240.01, 245.88, 244.84, 243.91, 244.77, 245.82, 249.43, 246.25, 249.49, 253.14, 255.27, 264.73, 269.65, 264.74, 264.43, 270.15, 272.37, 273.89, 277.57, 281.75, 288.55, 293.23, 294.32, 302.13, 311.67, 326.27, 334.23, 320.98, 347.73, 392.01, 438.82, 393.37, 372.47, 384.45, 379.37, 378.42, 346.11, 314.08, 330.86, 334.88, 333.9, 325.14, 327.75, 335.44, 334.99, 329.2, 321.77, 326.15, 323.97, 323.24, 321.26, 335.8, 347.14, 357.35, 356.8, 366.64, 373.97, 364.56, 358.25, 362.24, 362.1, 388.16, 392.95, 394.58, 404.63, 416.85, 423.3, 444.94, 431.9, 436.16, 442.7, 461.23, 455.18, 454.77, 461.99, 461.95, 447.36, 437.06, 437.05, 442.7, 454.47, 446.76, 422.72, 420.68, 422.21, 429.29, 428.74, 428.85, 433.36, 433.36, 428.82, 435.9, 432.62, 430.49, 454.29, 453.71, 447.46, 447.29, 448.09, 442.4, 430.24, 416.78, 380.95, 381.85, 383.97, 384.97, 384.51, 409.94, 406.89, 386.5, 391.01, 400.44, 393.52, 393.96, 392.71, 381.27, 378.36, 378.5, 374.88, 373.13, 374.48, 373.58, 386.49, 384.98, 377.2, 376.51, 374.29, 375.99, 380.99, 379.23, 385.62, 394.46, 404.94, 403.65, 409.41, 418.71, 421.63, 423.68, 437.93, 439.65, 436.45, 423.36, 424.75, 424.8, 429.78, 432.82, 435.08, 437.51, 434.55, 427.17, 420.8, 412.45, 402.65, 407.74, 413.29, 413.25, 413.98, 417.69, 419.3, 413.29, 414.15, 415.69, 416.77, 417.92, 418.18, 409.92, 409.34, 411.86, 412.92, 417.59, 417.98, 416.66, 417.48, 418.81, 424.96, 422.26, 416.09, 414.15, 416.24, 417.55, 419.67, 419.65, 420.1, 422.4, 422.05, 421.8, 419.27, 418.68, 421.14, 423.21, 425.64, 424.27, 425.59, 430.05, 430.95, 428.62, 429.08, 435.11, 441.91, 448.44, 447.37, 451.34, 459.43, 462.29, 465.64, 449.52, 448.45, 454.02, 449.95, 450.76, 445.11, 449.21, 447.35, 449.21, 457.04, 459.48, 459.14, 460.46, 453.25, 452.83, 454.16, 456.0, 456.43, 458.46, 454.84, 454.47, 454.04, 442.93, 443.0, 443.52, 440.85, 444.24, 447.5, 450.46, 458.82, 480.71, 519.5, 533.44, 536.13, 532.91, 536.41, 541.83, 568.92, 574.1, 577.44, 584.11, 578.53, 580.91, 577.38, 580.7, 609.23, 666.1, 695.99, 685.76, 703.27, 756.96, 749.43, 758.16, 760.72, 726.2, 664.82, 615.0, 623.81, 663.66, 659.88, 633.42, 649.79, 644.97, 641.99, 670.4, 678.97, 693.16, 665.83, 675.93, 670.73, 668.43, 639.53, 656.05, 648.43, 648.54, 650.82, 663.68, 657.95, 660.7, 664.16, 665.75, 677.95, 673.77, 671.58, 666.01, 663.35, 653.96, 654.82, 659.19, 654.34, 652.15, 654.89, 655.8, 656.77, 650.56, 627.19, 608.86, 561.26, 563.07, 573.72, 573.62, 585.3, 591.09, 589.47, 586.74, 593.06, 589.23, 586.74, 583.75, 571.4, 568.61, 575.18, 572.87, 573.67, 575.09, 580.42, 581.42, 584.55, 581.99, 578.49, 576.11, 576.8, 570.15, 573.09, 574.39, 576.07, 573.29, 572.76, 575.56, 594.74, 608.02, 607.17, 610.42, 615.4, 623.76, 622.15, 622.29, 609.66, 607.07, 609.27, 609.1, 607.0, 607.16, 606.6, 609.46, 608.92, 602.68, 596.37, 596.34, 600.93, 600.97, 601.05, 606.0, 605.04, 604.29, 605.28, 608.21, 613.11, 610.33, 611.83, 610.27, 611.69, 612.34, 616.53, 617.46, 615.92, 621.1, 638.59, 637.22, 636.96, 639.45, 639.44, 641.09, 638.6, 635.85, 629.88, 630.08, 634.82, 654.05, 654.27, 653.58, 658.22, 676.93, 686.52, 693.55, 712.68, 703.13, 706.55, 729.04, 734.42, 699.55, 700.93, 705.95, 709.35, 706.28, 713.46, 723.19, 716.1, 715.56, 704.13, 702.71, 707.86, 718.43, 744.33, 745.91, 751.72, 751.6, 732.22, 738.53, 746.4, 741.43, 736.84, 737.08, 732.94, 731.0, 732.66, 734.0, 743.7, 756.81, 770.05, 765.82, 764.46, 754.05, 759.35, 765.8, 768.6, 771.74, 771.81, 770.1, 777.76, 778.03, 777.17, 777.63, 782.79, 788.14, 789.11, 790.75, 799.83, 832.92, 867.8, 908.24, 892.53, 891.95, 906.13, 934.96, 971.26, 966.64, 959.17, 967.6, 998.47, 1018.93, 1042.13, 1069.46, 992.45, 898.86, 899.39, 905.82, 897.35, 905.32, 797.6, 801.07, 821.27, 822.58, 818.98, 829.9, 896.46, 881.82, 898.68, 895.04, 921.48, 923.12, 914.3, 895.79, 894.56, 912.27, 917.55, 919.37, 913.77, 919.74, 957.02, 979.44, 1007.74, 1015.85, 1029.74, 1014.3, 1027.61, 1052.05, 1053.24, 979.24, 988.37, 1006.0, 999.5, 996.44, 1007.11, 1005.64, 1035.36, 1053.75, 1057.42, 1050.18, 1075.77, 1119.49, 1124.24, 1166.59, 1180.2, 1155.41, 1171.8, 1189.75, 1190.78, 1220.69, 1254.34, 1283.18, 1266.32, 1269.77, 1277.18, 1241.31, 1162.5, 1189.32, 1168.54, 1174.23, 1218.8, 1235.7, 1243.19, 1253.64, 1188.47, 1097.86, 992.72, 1022.5, 1040.55, 1106.7, 1038.95, 1035.41, 957.65, 952.68, 969.14, 1026.35, 1040.31, 1037.62, 1036.26, 1071.48, 1085.68, 1096.49, 1143.25, 1141.36, 1132.11, 1182.22, 1191.87, 1184.14, 1205.29, 1210.73, 1221.11, 1217.87, 1180.0, 1183.99, 1184.81, 1189.64, 1202.6, 1225.09, 1220.89, 1246.95, 1253.9, 1256.99, 1257.14, 1257.79, 1275.97, 1300.72, 1332.63, 1331.93, 1345.21, 1354.21, 1419.6, 1458.51, 1502.55, 1544.1, 1525.61, 1557.53, 1561.38, 1642.64, 1726.86, 1762.71, 1819.41, 1692.17, 1760.03, 1777.28, 1715.82, 1739.92, 1813.39, 1887.5, 1956.63, 2039.08, 2040.21, 2144.5, 2268.61, 2446.23, 2371.91, 2190.33, 2059.53, 2159.79, 2269.87, 2199.49, 2308.08, 2410.23, 2475.83, 2535.45, 2531.68, 2686.69, 2873.92, 2712.76, 2795.43, 2822.56, 2897.36, 2975.06, 2599.09, 2720.31, 2486.74, 2390.09, 2496.72, 2642.5, 2535.85, 2606.43, 2749.84, 2670.47, 2714.27, 2718.16, 2573.94, 2533.68, 2412.9, 2516.81, 2553.2, 2546.49, 2483.5, 2419.08, 2498.3, 2554.45, 2592.27, 2615.64, 2597.26, 2502.91, 2555.82, 2519.9, 2355.84, 2307.77, 2387.18, 2335.12, 2207.39, 2018.56, 1910.74, 2186.44, 2324.21, 2266.1, 2757.24, 2656.16, 2823.79, 2757.3, 2755.6, 2537.31, 2513.18, 2686.49, 2786.1, 2722.54, 2744.35, 2839.18, 2739.62, 2709.04, 2797.9, 2863.03, 3278.08, 3247.63, 3394.42, 3418.58, 3353.59, 3426.56, 3633.9, 3892.27, 4073.66, 4292.2, 4140.85, 4375.24, 4283.55, 4103.82, 4145.42, 4101.29, 4016.63, 4106.26, 4162.99, 4310.29, 4374.7, 4354.81, 4358.25, 4392.05, 4602.79, 4591.82, 4744.69, 4912.84, 4591.78, 4594.15, 4253.94, 4414.4, 4598.57, 4622.97, 4303.02, 4283.53, 4234.37, 4201.06, 4145.49, 3836.92, 3299.19, 3688.98, 3689.4, 3702.57, 4061.73, 3906.99, 3899.36, 3619.53, 3599.27, 3771.92, 3664.88, 3924.17, 3892.88, 4193.75, 4178.37, 4164.54, 4348.09, 4372.26, 4394.02, 4306.58, 4214.6, 4321.89, 4358.79, 4412.17, 4592.29, 4774.47, 4794.91, 4906.84, 5459.5, 5627.23, 5765.86, 5647.47, 5743.45, 5594.47, 5495.7, 5683.66, 5989.8, 6020.3, 5937.62, 5879.95, 5577.92, 5694.34, 5885.37, 5764.85, 5735.73, 6111.17, 6120.82, 6404.92, 6709.49, 6978.53, 7201.52, 7379.54, 7424.23, 7007.85, 7080.14, 7365.18, 7164.93, 6545.88, 6295.68, 5953.76, 6475.15, 6607.45, 7264.52, 7819.38, 7706.59, 7761.98, 8040.05, 8233.46, 8120.11, 8219.51, 8051.32, 8216.59, 8730.57, 9305.8, 9642.59, 9907.62, 9772.29, 9858.82, 10772.12, 10908.85, 11373.09, 11491.09, 11716.71, 13442.23, 16219.12, 15653.64, 14486.62, 15230.39, 16803.56, 17284.59, 16316.95, 16525.63, 17575.08, 19193.72, 18987.29, 18936.21, 17534.59, 16496.8, 15695.79, 14048.59, 14436.77, 13969.42, 13927.91, 15661.17, 15417.13, 14438.05, 14437.32, 12618.55, 13805.34, 13458.79, 14755.98, 15139.61, 15134.61, 16880.48, 17095.19, 16083.1, 14951.05, 14407.21, 14881.95, 13138.43, 13874.01, 14191.06, 13623.61, 13571.21, 11504.56, 11033.58, 11274.29, 11561.56, 12739.89, 11553.79, 10797.45, 10854.93, 11382.11, 11141.34, 11122.14, 11417.62, 11677.52, 11157.56, 9976.43, 10162.78, 9002.8, 8822.06, 9184.39, 8242.03, 7003.06, 7744.27, 7655.3, 8218.58, 8750.99, 8508.35, 8094.53, 8897.55, 8528.87, 9443.91, 10033.82, 10146.78, 11083.01, 10413.23, 11167.99, 11166.86, 10405.73, 9751.88, 10154.74, 9647.38, 9589.72, 10319.77, 10570.91, 10285.33, 10913.05, 11038.13, 11423.62, 11464.59, 11392.99, 10722.96, 9910.96, 9323.68, 9277.5, 8764.24, 9546.36, 9104.62, 9168.13, 8218.92, 8285.09, 8273.12, 7858.96, 8256.4, 8572.45, 8913.9, 8896.42, 8705.42, 8915.86, 8527.32, 8457.48, 8156.53, 7795.21, 7938.14, 7089.22, 6855.61, 6946.3, 6804.15, 7058.09, 7414.48, 6786.98, 6778.28, 6618.33, 6898.57, 7025.95, 6775.45, 6831.58, 6942.33, 7936.65, 7873.43, 8021.41, 8354.69, 8050.08, 7892.2, 8160.94, 8281.26, 8862.02, 8908.73, 8791.7, 8935.74, 9644.63, 8836.12, 9271.67, 8937.57, 9347.32, 9397.83, 9232.82, 9072.29, 9220.91, 9669.56, 9691.52, 9822.5, 9622.49, 9365.64, 9175.76, 9309.57, 8989.42, 8423.83, 8480.4, 8680.21, 8686.04, 8472.71, 8346.51, 8057.03, 8245.38, 8233.97, 8522.48, 8397.13, 7991.25, 7515.67, 7577.51, 7458.49, 7328.8, 7343.16, 7110.37, 7460.28, 7373.11, 7490.13, 7518.42, 7636.52, 7711.4, 7493.28, 7618.61, 7659.78, 7685.48, 7627.4, 7480.61, 6757.63, 6873.35, 6550.71, 6306.56, 6639.64, 6401.44, 6488.2, 6447.37, 6711.18, 6738.96, 6757.24, 6718.89, 6060.15, 6175.69, 6149.39, 6249.09, 6067.8, 6133.29, 5859.18, 6204.71, 6393.05, 6345.92, 6613.32, 6506.53, 6584.48, 6533.08, 6603.0, 6760.16, 6702.21, 6659.28, 6301.96, 6380.61, 6240.6, 6218.98, 6248.85, 6350.27, 6725.32, 7316.26, 7376.25, 7462.4, 7326.49, 7396.23, 7394.55, 7719.93, 8405.46, 8173.67, 7930.85, 8188.49, 8231.43, 8201.29, 8165.5, 7727.35, 7603.7, 7527.9, 7409.28, 7009.08, 7029.59, 6944.25, 6711.13, 6285.01, 6538.5, 6144.31, 6233.76, 6317.55, 6252.78, 6198.11, 6271.17, 6313.87, 6582.78, 6396.03, 6487.38, 6257.47, 6477.14, 6356.09, 6527.15, 6691.75, 6734.8, 6703.7, 6907.81, 7075.48, 7035.4, 6982.78, 7018.84, 7191.7, 7297.1, 7259.32, 7359.24, 6686.42, 6490.88, 6402.04, 6183.56, 6243.43, 6304.96, 6280.94, 6329.36, 6488.81, 6485.62, 6517.68, 6500.83, 6255.62, 6332.84, 6391.09, 6498.69, 6763.5, 6712.71, 6698.44, 6574.97, 6430.19, 6460.87, 6687.8, 6617.99, 6580.34, 6608.23, 6577.71, 6500.94, 6468.2, 6556.23, 6595.71, 6559.61, 6579.36, 6618.53, 6601.18, 6540.4, 6165.43, 6206.32, 6218.36, 6206.87, 6489.6, 6507.03, 6488.52, 6429.99, 6407.63, 6441.34, 6438.81, 6433.51, 6419.69, 6435.66, 6414.94, 6425.26, 6423.45, 6421.33, 6279.14, 6279.37, 6315.56, 6353.43, 6362.3, 6341.84, 6436.37, 6412.48, 6456.74, 6513.18, 6418.96, 6347.8, 6361.86, 6381.05, 6345.39, 6287.95, 5627.61, 5598.8, 5531.84, 5526.52, 5569.85, 4759.6, 4353.33, 4566.09, 4275.78, 4310.6, 3810.39, 3956.8, 3743.98, 3795.22, 4237.82, 4257.24, 3983.59, 4161.68, 4112.17, 3845.71, 3918.02, 3715.49, 3449.0, 3392.71, 3416.96, 3555.06, 3428.28, 3361.62, 3450.23, 3276.47, 3209.44, 3201.92, 3215.21, 3525.41, 3688.2, 3702.35, 4086.64, 3869.89, 4013.32, 3976.16, 4055.87, 3800.6, 3814.74, 3616.47, 3916.6, 3761.19, 3858.69, 3718.28, 3849.62, 3918.98, 3807.55, 3845.39, 3819.95, 4070.99, 4027.17, 4012.91, 4018.26, 3645.21, 3647.35, 3637.05, 3528.83, 3684.56, 3592.85, 3620.02, 3654.29, 3621.43, 3696.61, 3546.52, 3542.81, 3589.02, 3565.89, 3585.26, 3573.89, 3569.86, 3543.65, 3444.74, 3408.43, 3458.48, 3429.25, 3453.89, 3474.95, 3432.83, 3429.09, 3448.29, 3380.94, 3373.17, 3642.07, 3642.04, 3661.26, 3605.45, 3605.57, 3592.4, 3579.0, 3584.86, 3598.75, 3645.88, 3894.02, 3910.12, 3957.86, 3951.3, 3972.86, 4112.7, 3874.73, 3833.6, 3814.74, 3799.0, 3841.23, 3834.36, 3831.79, 3809.45, 3749.58, 3842.22, 3874.59, 3883.76, 3866.92, 3933.56, 3927.09, 3880.92, 3875.1, 3875.67, 3873.69, 3915.71, 4020.32, 3992.04, 3990.6, 4015.74, 4044.31, 4003.29, 3999.82, 4005.69, 3987.63, 3929.61, 3931.18, 4018.94, 4036.34, 4092.97, 4113.26, 4108.95, 4133.96, 4767.74, 5025.47, 4925.43, 5020.52, 5072.38, 5179.59, 5270.58, 5210.35, 5321.99, 5101.79, 5053.77, 5083.7, 5138.86, 5056.37, 5172.09, 5235.11, 5284.47, 5288.53, 5323.97, 5296.71, 5374.46, 5521.71, 5480.86, 5187.65, 5234.3, 5229.68, 5276.84, 5228.58, 5327.91, 5389.78, 5495.94, 5717.26, 5797.49, 5791.94, 5741.93, 5860.52, 5935.44, 6129.95, 6326.21, 7045.63, 7070.34, 7659.14, 7976.19, 8123.48, 7949.55, 7324.0, 7309.12, 7984.74, 7942.32, 7947.65, 7700.18, 7799.53, 7991.15, 8055.78, 8539.02, 8788.72, 8689.91, 8633.71, 8408.12, 8447.93, 8547.02, 8713.49, 8250.16, 7728.36, 7771.55, 7735.65, 7975.59, 7928.44, 7690.62, 7910.69, 7900.67, 8112.65, 8211.42, 8575.52, 8812.12, 9027.35, 9282.59, 9114.93, 9233.78, 9476.23, 10058.02, 10669.23, 10885.38, 10932.95, 11560.24, 12805.72, 11501.06, 11979.06, 11863.78, 11105.34, 10594.13, 10575.63, 11704.39, 11339.98, 11056.13, 11301.06, 11414.49, 12077.51, 12513.37, 12232.76, 11439.22, 11653.72, 11342.52, 10510.07, 10697.58, 9807.99, 9613.57, 10335.07, 10488.01, 10749.9, 10576.56, 10349.86, 9955.96, 9743.29, 9922.75, 9810.43, 9619.1, 9452.78, 9522.53, 9587.09, 9970.3, 10299.08, 10512.69, 10765.95, 10896.73, 11638.1, 11617.47, 11871.94, 11886.12, 11859.78, 11437.28, 11442.97, 11390.89, 10986.09, 10211.76, 10137.8, 10251.72, 10226.28, 10307.97, 10766.41, 10765.66, 10229.67, 10056.87, 10333.23, 10152.95, 10131.52, 10386.41, 10188.63, 9820.24, 9507.72, 9555.88, 9587.9, 9732.61, 10251.17, 10581.42, 10596.78, 10568.73, 10438.84, 10463.64, 10410.64, 10309.37, 10129.36, 10113.95, 10341.2, 10307.47, 10351.92, 10317.79, 10247.44, 10202.19, 10161.78, 10142.19, 10180.75, 10017.68, 10002.75, 9761.31, 8730.06, 8458.13, 8085.85, 8138.43, 8207.73, 8070.25, 8175.83, 8346.33, 8335.25, 8239.99, 8140.65, 8132.25, 7923.52, 8130.56, 8208.47, 8503.69, 8574.35, 8402.87, 8326.5, 8298.99, 8337.72, 8209.0, 8027.05, 8057.02, 7967.7, 7982.27, 8170.57, 8236.01, 8094.44, 7578.09, 7437.84, 8380.43, 9408.17, 9505.95, 9393.08, 9374.14, 9191.98, 9179.61, 9221.88, 9311.12, 9222.04, 9395.61, 9326.67, 9350.03, 9214.29, 8863.64, 8806.87, 9001.53, 8780.36, 8767.66, 8768.75, 8658.55, 8523.18, 8488.18, 8511.93, 8228.03, 8115.81, 8110.89, 7697.31, 7274.34, 7283.63, 7018.28, 7049.29, 7177.34, 7399.27, 7479.05, 7708.68, 7604.42, 7410.89, 7308.29, 7319.18, 7328.47, 7364.92, 7510.42, 7538.21, 7516.19, 7411.61, 7255.07, 7206.26, 7198.07, 7252.72, 7109.07, 7119.85, 6946.65, 6694.84, 7122.59, 7183.36, 7176.99, 7152.71, 7421.74, 7400.38, 7276.61, 7197.68, 7248.75, 7203.17, 7303.75, 7398.78, 7261.34, 7194.26, 7192.02, 7005.85, 7238.71, 7345.19, 7380.0, 7667.5, 8065.15, 8103.65, 7854.69, 8062.1, 8082.77, 8124.35, 8109.04, 8649.19, 8766.63, 8714.23, 8865.31, 8898.21, 8761.49, 8627.1, 8668.67, 8670.45, 8431.17, 8398.68, 8340.3, 8521.05, 8837.03, 9272.6, 9309.43, 9427.43, 9350.67, 9380.23, 9325.45, 9354.54, 9192.84, 9534.16, 9722.76, 9799.53, 9848.57, 10094.95, 9906.06, 10154.39, 10354.74, 10262.32, 10304.4, 9992.88, 9880.27, 9713.65, 10067.21, 9700.48, 9575.87, 9681.15, 9657.62, 9906.42, 9705.79, 9386.76, 8893.82, 8781.86, 8689.01, 8601.19, 8562.14, 8828.38, 8778.85, 8766.53, 9021.12, 9126.69, 8972.68, 8257.87, 7924.45, 7923.76, 7873.38, 5587.5, 5292.19, 5273.61, 5447.67, 4971.74, 5295.56, 5325.03, 6016.76, 6271.22, 6181.23]}],\n",
              "                        {\"template\": {\"data\": {\"bar\": [{\"error_x\": {\"color\": \"#2a3f5f\"}, \"error_y\": {\"color\": \"#2a3f5f\"}, \"marker\": {\"line\": {\"color\": \"#E5ECF6\", \"width\": 0.5}}, \"type\": \"bar\"}], \"barpolar\": [{\"marker\": {\"line\": {\"color\": \"#E5ECF6\", \"width\": 0.5}}, \"type\": \"barpolar\"}], \"carpet\": [{\"aaxis\": {\"endlinecolor\": \"#2a3f5f\", \"gridcolor\": \"white\", \"linecolor\": \"white\", \"minorgridcolor\": \"white\", \"startlinecolor\": \"#2a3f5f\"}, \"baxis\": {\"endlinecolor\": \"#2a3f5f\", \"gridcolor\": \"white\", \"linecolor\": \"white\", \"minorgridcolor\": \"white\", \"startlinecolor\": \"#2a3f5f\"}, \"type\": \"carpet\"}], \"choropleth\": [{\"colorbar\": {\"outlinewidth\": 0, \"ticks\": \"\"}, \"type\": \"choropleth\"}], \"contour\": [{\"colorbar\": {\"outlinewidth\": 0, \"ticks\": \"\"}, \"colorscale\": [[0.0, \"#0d0887\"], [0.1111111111111111, \"#46039f\"], [0.2222222222222222, \"#7201a8\"], [0.3333333333333333, \"#9c179e\"], [0.4444444444444444, \"#bd3786\"], [0.5555555555555556, \"#d8576b\"], [0.6666666666666666, \"#ed7953\"], [0.7777777777777778, \"#fb9f3a\"], [0.8888888888888888, \"#fdca26\"], [1.0, \"#f0f921\"]], \"type\": \"contour\"}], \"contourcarpet\": [{\"colorbar\": {\"outlinewidth\": 0, \"ticks\": \"\"}, \"type\": \"contourcarpet\"}], \"heatmap\": [{\"colorbar\": {\"outlinewidth\": 0, \"ticks\": \"\"}, \"colorscale\": [[0.0, \"#0d0887\"], [0.1111111111111111, \"#46039f\"], [0.2222222222222222, \"#7201a8\"], [0.3333333333333333, \"#9c179e\"], [0.4444444444444444, \"#bd3786\"], [0.5555555555555556, \"#d8576b\"], [0.6666666666666666, \"#ed7953\"], [0.7777777777777778, \"#fb9f3a\"], [0.8888888888888888, \"#fdca26\"], [1.0, \"#f0f921\"]], \"type\": \"heatmap\"}], \"heatmapgl\": [{\"colorbar\": {\"outlinewidth\": 0, \"ticks\": \"\"}, \"colorscale\": [[0.0, \"#0d0887\"], [0.1111111111111111, \"#46039f\"], [0.2222222222222222, \"#7201a8\"], [0.3333333333333333, \"#9c179e\"], [0.4444444444444444, \"#bd3786\"], [0.5555555555555556, \"#d8576b\"], [0.6666666666666666, \"#ed7953\"], [0.7777777777777778, \"#fb9f3a\"], [0.8888888888888888, \"#fdca26\"], [1.0, \"#f0f921\"]], \"type\": \"heatmapgl\"}], \"histogram\": [{\"marker\": {\"colorbar\": {\"outlinewidth\": 0, \"ticks\": \"\"}}, \"type\": \"histogram\"}], \"histogram2d\": [{\"colorbar\": {\"outlinewidth\": 0, \"ticks\": \"\"}, \"colorscale\": [[0.0, \"#0d0887\"], [0.1111111111111111, \"#46039f\"], [0.2222222222222222, \"#7201a8\"], [0.3333333333333333, \"#9c179e\"], [0.4444444444444444, \"#bd3786\"], [0.5555555555555556, \"#d8576b\"], [0.6666666666666666, \"#ed7953\"], [0.7777777777777778, \"#fb9f3a\"], [0.8888888888888888, \"#fdca26\"], [1.0, \"#f0f921\"]], \"type\": \"histogram2d\"}], \"histogram2dcontour\": [{\"colorbar\": {\"outlinewidth\": 0, \"ticks\": \"\"}, \"colorscale\": [[0.0, \"#0d0887\"], [0.1111111111111111, \"#46039f\"], [0.2222222222222222, \"#7201a8\"], [0.3333333333333333, \"#9c179e\"], [0.4444444444444444, \"#bd3786\"], [0.5555555555555556, \"#d8576b\"], [0.6666666666666666, \"#ed7953\"], [0.7777777777777778, \"#fb9f3a\"], [0.8888888888888888, \"#fdca26\"], [1.0, \"#f0f921\"]], \"type\": \"histogram2dcontour\"}], \"mesh3d\": [{\"colorbar\": {\"outlinewidth\": 0, \"ticks\": \"\"}, \"type\": \"mesh3d\"}], \"parcoords\": [{\"line\": {\"colorbar\": {\"outlinewidth\": 0, \"ticks\": \"\"}}, \"type\": \"parcoords\"}], \"pie\": [{\"automargin\": true, \"type\": \"pie\"}], \"scatter\": [{\"marker\": {\"colorbar\": {\"outlinewidth\": 0, \"ticks\": \"\"}}, \"type\": \"scatter\"}], \"scatter3d\": [{\"line\": {\"colorbar\": {\"outlinewidth\": 0, \"ticks\": \"\"}}, \"marker\": {\"colorbar\": {\"outlinewidth\": 0, \"ticks\": \"\"}}, \"type\": \"scatter3d\"}], \"scattercarpet\": [{\"marker\": {\"colorbar\": {\"outlinewidth\": 0, \"ticks\": \"\"}}, \"type\": \"scattercarpet\"}], \"scattergeo\": [{\"marker\": {\"colorbar\": {\"outlinewidth\": 0, \"ticks\": \"\"}}, \"type\": \"scattergeo\"}], \"scattergl\": [{\"marker\": {\"colorbar\": {\"outlinewidth\": 0, \"ticks\": \"\"}}, \"type\": \"scattergl\"}], \"scattermapbox\": [{\"marker\": {\"colorbar\": {\"outlinewidth\": 0, \"ticks\": \"\"}}, \"type\": \"scattermapbox\"}], \"scatterpolar\": [{\"marker\": {\"colorbar\": {\"outlinewidth\": 0, \"ticks\": \"\"}}, \"type\": \"scatterpolar\"}], \"scatterpolargl\": [{\"marker\": {\"colorbar\": {\"outlinewidth\": 0, \"ticks\": \"\"}}, \"type\": \"scatterpolargl\"}], \"scatterternary\": [{\"marker\": {\"colorbar\": {\"outlinewidth\": 0, \"ticks\": \"\"}}, \"type\": \"scatterternary\"}], \"surface\": [{\"colorbar\": {\"outlinewidth\": 0, \"ticks\": \"\"}, \"colorscale\": [[0.0, \"#0d0887\"], [0.1111111111111111, \"#46039f\"], [0.2222222222222222, \"#7201a8\"], [0.3333333333333333, \"#9c179e\"], [0.4444444444444444, \"#bd3786\"], [0.5555555555555556, \"#d8576b\"], [0.6666666666666666, \"#ed7953\"], [0.7777777777777778, \"#fb9f3a\"], [0.8888888888888888, \"#fdca26\"], [1.0, \"#f0f921\"]], \"type\": \"surface\"}], \"table\": [{\"cells\": {\"fill\": {\"color\": \"#EBF0F8\"}, \"line\": {\"color\": \"white\"}}, \"header\": {\"fill\": {\"color\": \"#C8D4E3\"}, \"line\": {\"color\": \"white\"}}, \"type\": \"table\"}]}, \"layout\": {\"annotationdefaults\": {\"arrowcolor\": \"#2a3f5f\", \"arrowhead\": 0, \"arrowwidth\": 1}, \"coloraxis\": {\"colorbar\": {\"outlinewidth\": 0, \"ticks\": \"\"}}, \"colorscale\": {\"diverging\": [[0, \"#8e0152\"], [0.1, \"#c51b7d\"], [0.2, \"#de77ae\"], [0.3, \"#f1b6da\"], [0.4, \"#fde0ef\"], [0.5, \"#f7f7f7\"], [0.6, \"#e6f5d0\"], [0.7, \"#b8e186\"], [0.8, \"#7fbc41\"], [0.9, \"#4d9221\"], [1, \"#276419\"]], \"sequential\": [[0.0, \"#0d0887\"], [0.1111111111111111, \"#46039f\"], [0.2222222222222222, \"#7201a8\"], [0.3333333333333333, \"#9c179e\"], [0.4444444444444444, \"#bd3786\"], [0.5555555555555556, \"#d8576b\"], [0.6666666666666666, \"#ed7953\"], [0.7777777777777778, \"#fb9f3a\"], [0.8888888888888888, \"#fdca26\"], [1.0, \"#f0f921\"]], \"sequentialminus\": [[0.0, \"#0d0887\"], [0.1111111111111111, \"#46039f\"], [0.2222222222222222, \"#7201a8\"], [0.3333333333333333, \"#9c179e\"], [0.4444444444444444, \"#bd3786\"], [0.5555555555555556, \"#d8576b\"], [0.6666666666666666, \"#ed7953\"], [0.7777777777777778, \"#fb9f3a\"], [0.8888888888888888, \"#fdca26\"], [1.0, \"#f0f921\"]]}, \"colorway\": [\"#636efa\", \"#EF553B\", \"#00cc96\", \"#ab63fa\", \"#FFA15A\", \"#19d3f3\", \"#FF6692\", \"#B6E880\", \"#FF97FF\", \"#FECB52\"], \"font\": {\"color\": \"#2a3f5f\"}, \"geo\": {\"bgcolor\": \"white\", \"lakecolor\": \"white\", \"landcolor\": \"#E5ECF6\", \"showlakes\": true, \"showland\": true, \"subunitcolor\": \"white\"}, \"hoverlabel\": {\"align\": \"left\"}, \"hovermode\": \"closest\", \"mapbox\": {\"style\": \"light\"}, \"paper_bgcolor\": \"white\", \"plot_bgcolor\": \"#E5ECF6\", \"polar\": {\"angularaxis\": {\"gridcolor\": \"white\", \"linecolor\": \"white\", \"ticks\": \"\"}, \"bgcolor\": \"#E5ECF6\", \"radialaxis\": {\"gridcolor\": \"white\", \"linecolor\": \"white\", \"ticks\": \"\"}}, \"scene\": {\"xaxis\": {\"backgroundcolor\": \"#E5ECF6\", \"gridcolor\": \"white\", \"gridwidth\": 2, \"linecolor\": \"white\", \"showbackground\": true, \"ticks\": \"\", \"zerolinecolor\": \"white\"}, \"yaxis\": {\"backgroundcolor\": \"#E5ECF6\", \"gridcolor\": \"white\", \"gridwidth\": 2, \"linecolor\": \"white\", \"showbackground\": true, \"ticks\": \"\", \"zerolinecolor\": \"white\"}, \"zaxis\": {\"backgroundcolor\": \"#E5ECF6\", \"gridcolor\": \"white\", \"gridwidth\": 2, \"linecolor\": \"white\", \"showbackground\": true, \"ticks\": \"\", \"zerolinecolor\": \"white\"}}, \"shapedefaults\": {\"line\": {\"color\": \"#2a3f5f\"}}, \"ternary\": {\"aaxis\": {\"gridcolor\": \"white\", \"linecolor\": \"white\", \"ticks\": \"\"}, \"baxis\": {\"gridcolor\": \"white\", \"linecolor\": \"white\", \"ticks\": \"\"}, \"bgcolor\": \"#E5ECF6\", \"caxis\": {\"gridcolor\": \"white\", \"linecolor\": \"white\", \"ticks\": \"\"}}, \"title\": {\"x\": 0.05}, \"xaxis\": {\"automargin\": true, \"gridcolor\": \"white\", \"linecolor\": \"white\", \"ticks\": \"\", \"title\": {\"standoff\": 15}, \"zerolinecolor\": \"white\", \"zerolinewidth\": 2}, \"yaxis\": {\"automargin\": true, \"gridcolor\": \"white\", \"linecolor\": \"white\", \"ticks\": \"\", \"title\": {\"standoff\": 15}, \"zerolinecolor\": \"white\", \"zerolinewidth\": 2}}}},\n",
              "                        {\"responsive\": true}\n",
              "                    ).then(function(){\n",
              "                            \n",
              "var gd = document.getElementById('52b9f42c-a4ee-4eaa-8b8a-1fcec02defed');\n",
              "var x = new MutationObserver(function (mutations, observer) {{\n",
              "        var display = window.getComputedStyle(gd).display;\n",
              "        if (!display || display === 'none') {{\n",
              "            console.log([gd, 'removed!']);\n",
              "            Plotly.purge(gd);\n",
              "            observer.disconnect();\n",
              "        }}\n",
              "}});\n",
              "\n",
              "// Listen for the removal of the full notebook cells\n",
              "var notebookContainer = gd.closest('#notebook-container');\n",
              "if (notebookContainer) {{\n",
              "    x.observe(notebookContainer, {childList: true});\n",
              "}}\n",
              "\n",
              "// Listen for the clearing of the current output cell\n",
              "var outputEl = gd.closest('.output');\n",
              "if (outputEl) {{\n",
              "    x.observe(outputEl, {childList: true});\n",
              "}}\n",
              "\n",
              "                        })\n",
              "                };\n",
              "                \n",
              "            </script>\n",
              "        </div>\n",
              "</body>\n",
              "</html>"
            ]
          },
          "metadata": {
            "tags": []
          }
        }
      ]
    },
    {
      "cell_type": "markdown",
      "metadata": {
        "id": "yQqyzeBfDax2",
        "colab_type": "text"
      },
      "source": [
        "Features correlation"
      ]
    },
    {
      "cell_type": "code",
      "metadata": {
        "id": "GWJD2lynDax3",
        "colab_type": "code",
        "outputId": "7b62036f-1856-45f3-8c34-e19ce95501fe",
        "colab": {
          "base_uri": "https://localhost:8080/",
          "height": 362
        }
      },
      "source": [
        "#Let's have a look at the correlation between the features and the Bitcoin price\n",
        "corr = data.corr()\n",
        "ax = sns.heatmap(\n",
        "    corr, \n",
        "    vmin=-1, vmax=1, center=0,\n",
        "    cmap=sns.diverging_palette(20, 220, n=300),\n",
        "    square=True\n",
        ")\n",
        "ax.set_xticklabels(\n",
        "    ax.get_xticklabels(),\n",
        "    rotation=45,\n",
        "    horizontalalignment='right'\n",
        ");"
      ],
      "execution_count": 0,
      "outputs": [
        {
          "output_type": "display_data",
          "data": {
            "image/png": "[encoded data removed]",
            "text/plain": [
              "<Figure size 432x288 with 2 Axes>"
            ]
          },
          "metadata": {
            "tags": []
          }
        }
      ]
    },
    {
      "cell_type": "markdown",
      "metadata": {
        "id": "xKvXK2FCDax8",
        "colab_type": "text"
      },
      "source": [
        "Before forecasting time series we want to check if the data is stationary. This means that our data is influenced by such factors as trend or seasonality.\n",
        "We perform a seasonal decomposition of the data to estimate its trend and seasonality. You can see the actual price movements on the plot below (\"observed\") as well as the trend and seasonality in our data."
      ]
    },
    {
      "cell_type": "code",
      "metadata": {
        "id": "AtbRzSAGDax9",
        "colab_type": "code",
        "outputId": "20b51081-b724-4dba-9529-401ced5d6f99",
        "colab": {
          "base_uri": "https://localhost:8080/",
          "height": 542
        }
      },
      "source": [
        "working_data = data.reset_index()\n",
        "working_data['Date'] = pd.to_datetime(working_data['Date'])\n",
        "working_data = working_data.set_index('Date')\n",
        "\n",
        "s = sm.tsa.seasonal_decompose(working_data['Bitcoin Core (BTC) Price'].values, freq=60)\n",
        "\n",
        "trace1 = go.Scatter(x = np.arange(0, len(s.trend), 1),y = s.trend,mode = 'lines',name = 'Trend',\n",
        "    line = dict(color = ('rgb(244, 146, 65)'), width = 4))\n",
        "trace2 = go.Scatter(x = np.arange(0, len(s.seasonal), 1),y = s.seasonal,mode = 'lines',name = 'Seasonal',\n",
        "    line = dict(color = ('rgb(66, 244, 155)'), width = 2))\n",
        "\n",
        "trace3 = go.Scatter(x = np.arange(0, len(s.resid), 1),y = s.resid,mode = 'lines',name = 'Residual',\n",
        "    line = dict(color = ('rgb(209, 244, 66)'), width = 2))\n",
        "\n",
        "trace4 = go.Scatter(x = np.arange(0, len(s.observed), 1),y = s.observed,mode = 'lines',name = 'Observed',\n",
        "    line = dict(color = ('rgb(66, 134, 244)'), width = 2))\n",
        "\n",
        "data = [trace1, trace2, trace3, trace4]\n",
        "layout = dict(title = 'Seasonal decomposition', xaxis = dict(title = 'Time'), yaxis = dict(title = 'Price, USD'))\n",
        "fig = dict(data=data, layout=layout)\n",
        "py.iplot(fig, filename='seasonal_decomposition')"
      ],
      "execution_count": 0,
      "outputs": [
        {
          "output_type": "display_data",
          "data": {
            "text/html": [
              "<html>\n",
              "<head><meta charset=\"utf-8\" /></head>\n",
              "<body>\n",
              "    <div>\n",
              "            <script src=\"https://cdnjs.cloudflare.com/ajax/libs/mathjax/2.7.5/MathJax.js?config=TeX-AMS-MML_SVG\"></script><script type=\"text/javascript\">if (window.MathJax) {MathJax.Hub.Config({SVG: {font: \"STIX-Web\"}});}</script>\n",
              "                <script type=\"text/javascript\">window.PlotlyConfig = {MathJaxConfig: 'local'};</script>\n",
              "        <script src=\"https://cdn.plot.ly/plotly-latest.min.js\"></script>    \n",
              "            <div id=\"e0647bed-7198-44b8-b158-0f0d8d0663db\" class=\"plotly-graph-div\" style=\"height:525px; width:100%;\"></div>\n",
              "            <script type=\"text/javascript\">\n",
              "                \n",
              "                    window.PLOTLYENV=window.PLOTLYENV || {};\n",
              "                    \n",
              "                if (document.getElementById(\"e0647bed-7198-44b8-b158-0f0d8d0663db\")) {\n",
              "                    Plotly.newPlot(\n",
              "                        'e0647bed-7198-44b8-b158-0f0d8d0663db',\n",
              "                        [{\"line\": {\"color\": \"rgb(244, 146, 65)\", \"width\": 4}, \"mode\": \"lines\", \"name\": \"Trend\", \"type\": \"scatter\", \"x\": [0, 1, 2, 3, 4, 5, 6, 7, 8, 9, 10, 11, 12, 13, 14, 15, 16, 17, 18, 19, 20, 21, 22, 23, 24, 25, 26, 27, 28, 29, 30, 31, 32, 33, 34, 35, 36, 37, 38, 39, 40, 41, 42, 43, 44, 45, 46, 47, 48, 49, 50, 51, 52, 53, 54, 55, 56, 57, 58, 59, 60, 61, 62, 63, 64, 65, 66, 67, 68, 69, 70, 71, 72, 73, 74, 75, 76, 77, 78, 79, 80, 81, 82, 83, 84, 85, 86, 87, 88, 89, 90, 91, 92, 93, 94, 95, 96, 97, 98, 99, 100, 101, 102, 103, 104, 105, 106, 107, 108, 109, 110, 111, 112, 113, 114, 115, 116, 117, 118, 119, 120, 121, 122, 123, 124, 125, 126, 127, 128, 129, 130, 131, 132, 133, 134, 135, 136, 137, 138, 139, 140, 141, 142, 143, 144, 145, 146, 147, 148, 149, 150, 151, 152, 153, 154, 155, 156, 157, 158, 159, 160, 161, 162, 163, 164, 165, 166, 167, 168, 169, 170, 171, 172, 173, 174, 175, 176, 177, 178, 179, 180, 181, 182, 183, 184, 185, 186, 187, 188, 189, 190, 191, 192, 193, 194, 195, 196, 197, 198, 199, 200, 201, 202, 203, 204, 205, 206, 207, 208, 209, 210, 211, 212, 213, 214, 215, 216, 217, 218, 219, 220, 221, 222, 223, 224, 225, 226, 227, 228, 229, 230, 231, 232, 233, 234, 235, 236, 237, 238, 239, 240, 241, 242, 243, 244, 245, 246, 247, 248, 249, 250, 251, 252, 253, 254, 255, 256, 257, 258, 259, 260, 261, 262, 263, 264, 265, 266, 267, 268, 269, 270, 271, 272, 273, 274, 275, 276, 277, 278, 279, 280, 281, 282, 283, 284, 285, 286, 287, 288, 289, 290, 291, 292, 293, 294, 295, 296, 297, 298, 299, 300, 301, 302, 303, 304, 305, 306, 307, 308, 309, 310, 311, 312, 313, 314, 315, 316, 317, 318, 319, 320, 321, 322, 323, 324, 325, 326, 327, 328, 329, 330, 331, 332, 333, 334, 335, 336, 337, 338, 339, 340, 341, 342, 343, 344, 345, 346, 347, 348, 349, 350, 351, 352, 353, 354, 355, 356, 357, 358, 359, 360, 361, 362, 363, 364, 365, 366, 367, 368, 369, 370, 371, 372, 373, 374, 375, 376, 377, 378, 379, 380, 381, 382, 383, 384, 385, 386, 387, 388, 389, 390, 391, 392, 393, 394, 395, 396, 397, 398, 399, 400, 401, 402, 403, 404, 405, 406, 407, 408, 409, 410, 411, 412, 413, 414, 415, 416, 417, 418, 419, 420, 421, 422, 423, 424, 425, 426, 427, 428, 429, 430, 431, 432, 433, 434, 435, 436, 437, 438, 439, 440, 441, 442, 443, 444, 445, 446, 447, 448, 449, 450, 451, 452, 453, 454, 455, 456, 457, 458, 459, 460, 461, 462, 463, 464, 465, 466, 467, 468, 469, 470, 471, 472, 473, 474, 475, 476, 477, 478, 479, 480, 481, 482, 483, 484, 485, 486, 487, 488, 489, 490, 491, 492, 493, 494, 495, 496, 497, 498, 499, 500, 501, 502, 503, 504, 505, 506, 507, 508, 509, 510, 511, 512, 513, 514, 515, 516, 517, 518, 519, 520, 521, 522, 523, 524, 525, 526, 527, 528, 529, 530, 531, 532, 533, 534, 535, 536, 537, 538, 539, 540, 541, 542, 543, 544, 545, 546, 547, 548, 549, 550, 551, 552, 553, 554, 555, 556, 557, 558, 559, 560, 561, 562, 563, 564, 565, 566, 567, 568, 569, 570, 571, 572, 573, 574, 575, 576, 577, 578, 579, 580, 581, 582, 583, 584, 585, 586, 587, 588, 589, 590, 591, 592, 593, 594, 595, 596, 597, 598, 599, 600, 601, 602, 603, 604, 605, 606, 607, 608, 609, 610, 611, 612, 613, 614, 615, 616, 617, 618, 619, 620, 621, 622, 623, 624, 625, 626, 627, 628, 629, 630, 631, 632, 633, 634, 635, 636, 637, 638, 639, 640, 641, 642, 643, 644, 645, 646, 647, 648, 649, 650, 651, 652, 653, 654, 655, 656, 657, 658, 659, 660, 661, 662, 663, 664, 665, 666, 667, 668, 669, 670, 671, 672, 673, 674, 675, 676, 677, 678, 679, 680, 681, 682, 683, 684, 685, 686, 687, 688, 689, 690, 691, 692, 693, 694, 695, 696, 697, 698, 699, 700, 701, 702, 703, 704, 705, 706, 707, 708, 709, 710, 711, 712, 713, 714, 715, 716, 717, 718, 719, 720, 721, 722, 723, 724, 725, 726, 727, 728, 729, 730, 731, 732, 733, 734, 735, 736, 737, 738, 739, 740, 741, 742, 743, 744, 745, 746, 747, 748, 749, 750, 751, 752, 753, 754, 755, 756, 757, 758, 759, 760, 761, 762, 763, 764, 765, 766, 767, 768, 769, 770, 771, 772, 773, 774, 775, 776, 777, 778, 779, 780, 781, 782, 783, 784, 785, 786, 787, 788, 789, 790, 791, 792, 793, 794, 795, 796, 797, 798, 799, 800, 801, 802, 803, 804, 805, 806, 807, 808, 809, 810, 811, 812, 813, 814, 815, 816, 817, 818, 819, 820, 821, 822, 823, 824, 825, 826, 827, 828, 829, 830, 831, 832, 833, 834, 835, 836, 837, 838, 839, 840, 841, 842, 843, 844, 845, 846, 847, 848, 849, 850, 851, 852, 853, 854, 855, 856, 857, 858, 859, 860, 861, 862, 863, 864, 865, 866, 867, 868, 869, 870, 871, 872, 873, 874, 875, 876, 877, 878, 879, 880, 881, 882, 883, 884, 885, 886, 887, 888, 889, 890, 891, 892, 893, 894, 895, 896, 897, 898, 899, 900, 901, 902, 903, 904, 905, 906, 907, 908, 909, 910, 911, 912, 913, 914, 915, 916, 917, 918, 919, 920, 921, 922, 923, 924, 925, 926, 927, 928, 929, 930, 931, 932, 933, 934, 935, 936, 937, 938, 939, 940, 941, 942, 943, 944, 945, 946, 947, 948, 949, 950, 951, 952, 953, 954, 955, 956, 957, 958, 959, 960, 961, 962, 963, 964, 965, 966, 967, 968, 969, 970, 971, 972, 973, 974, 975, 976, 977, 978, 979, 980, 981, 982, 983, 984, 985, 986, 987, 988, 989, 990, 991, 992, 993, 994, 995, 996, 997, 998, 999, 1000, 1001, 1002, 1003, 1004, 1005, 1006, 1007, 1008, 1009, 1010, 1011, 1012, 1013, 1014, 1015, 1016, 1017, 1018, 1019, 1020, 1021, 1022, 1023, 1024, 1025, 1026, 1027, 1028, 1029, 1030, 1031, 1032, 1033, 1034, 1035, 1036, 1037, 1038, 1039, 1040, 1041, 1042, 1043, 1044, 1045, 1046, 1047, 1048, 1049, 1050, 1051, 1052, 1053, 1054, 1055, 1056, 1057, 1058, 1059, 1060, 1061, 1062, 1063, 1064, 1065, 1066, 1067, 1068, 1069, 1070, 1071, 1072, 1073, 1074, 1075, 1076, 1077, 1078, 1079, 1080, 1081, 1082, 1083, 1084, 1085, 1086, 1087, 1088, 1089, 1090, 1091, 1092, 1093, 1094, 1095, 1096, 1097, 1098, 1099, 1100, 1101, 1102, 1103, 1104, 1105, 1106, 1107, 1108, 1109, 1110, 1111, 1112, 1113, 1114, 1115, 1116, 1117, 1118, 1119, 1120, 1121, 1122, 1123, 1124, 1125, 1126, 1127, 1128, 1129, 1130, 1131, 1132, 1133, 1134, 1135, 1136, 1137, 1138, 1139, 1140, 1141, 1142, 1143, 1144, 1145, 1146, 1147, 1148, 1149, 1150, 1151, 1152, 1153, 1154, 1155, 1156, 1157, 1158, 1159, 1160, 1161, 1162, 1163, 1164, 1165, 1166, 1167, 1168, 1169, 1170, 1171, 1172, 1173, 1174, 1175, 1176, 1177, 1178, 1179, 1180, 1181, 1182, 1183, 1184, 1185, 1186, 1187, 1188, 1189, 1190, 1191, 1192, 1193, 1194, 1195, 1196, 1197, 1198, 1199, 1200, 1201, 1202, 1203, 1204, 1205, 1206, 1207, 1208, 1209, 1210, 1211, 1212, 1213, 1214, 1215, 1216, 1217, 1218, 1219, 1220, 1221, 1222, 1223, 1224, 1225, 1226, 1227, 1228, 1229, 1230, 1231, 1232, 1233, 1234, 1235, 1236, 1237, 1238, 1239, 1240, 1241, 1242, 1243, 1244, 1245, 1246, 1247, 1248, 1249, 1250, 1251, 1252, 1253, 1254, 1255, 1256, 1257, 1258, 1259, 1260, 1261, 1262, 1263, 1264, 1265, 1266, 1267, 1268, 1269, 1270, 1271, 1272, 1273, 1274, 1275, 1276, 1277, 1278, 1279, 1280, 1281, 1282, 1283, 1284, 1285, 1286, 1287, 1288, 1289, 1290, 1291, 1292, 1293, 1294, 1295, 1296, 1297, 1298, 1299, 1300, 1301, 1302, 1303, 1304, 1305, 1306, 1307, 1308, 1309, 1310, 1311, 1312, 1313, 1314, 1315, 1316, 1317, 1318, 1319, 1320, 1321, 1322, 1323, 1324, 1325, 1326, 1327, 1328, 1329, 1330, 1331, 1332, 1333, 1334, 1335, 1336, 1337, 1338, 1339, 1340, 1341, 1342, 1343, 1344, 1345, 1346, 1347, 1348, 1349, 1350, 1351, 1352, 1353, 1354, 1355, 1356, 1357, 1358, 1359, 1360, 1361, 1362, 1363, 1364, 1365, 1366, 1367, 1368, 1369, 1370, 1371, 1372, 1373, 1374, 1375, 1376, 1377, 1378, 1379, 1380, 1381, 1382, 1383, 1384, 1385, 1386, 1387, 1388, 1389, 1390, 1391, 1392, 1393, 1394, 1395, 1396, 1397, 1398, 1399, 1400, 1401, 1402, 1403, 1404, 1405, 1406, 1407, 1408, 1409, 1410, 1411, 1412, 1413, 1414, 1415, 1416, 1417, 1418, 1419, 1420, 1421, 1422, 1423, 1424, 1425, 1426, 1427, 1428, 1429, 1430, 1431, 1432, 1433, 1434, 1435, 1436, 1437, 1438, 1439, 1440, 1441, 1442, 1443, 1444, 1445, 1446, 1447, 1448, 1449, 1450, 1451, 1452, 1453, 1454, 1455, 1456, 1457, 1458, 1459, 1460, 1461, 1462, 1463, 1464, 1465, 1466, 1467, 1468, 1469, 1470, 1471, 1472, 1473, 1474, 1475, 1476, 1477, 1478, 1479, 1480, 1481, 1482, 1483, 1484, 1485, 1486, 1487, 1488, 1489, 1490, 1491, 1492, 1493, 1494, 1495, 1496, 1497, 1498, 1499, 1500, 1501, 1502, 1503, 1504, 1505, 1506, 1507, 1508, 1509, 1510, 1511, 1512, 1513, 1514, 1515, 1516, 1517, 1518, 1519, 1520, 1521, 1522, 1523, 1524, 1525, 1526, 1527, 1528, 1529, 1530, 1531, 1532, 1533, 1534, 1535, 1536, 1537, 1538, 1539, 1540, 1541, 1542, 1543, 1544, 1545, 1546, 1547, 1548, 1549, 1550, 1551, 1552, 1553, 1554, 1555, 1556, 1557, 1558, 1559, 1560, 1561, 1562, 1563, 1564, 1565, 1566, 1567, 1568, 1569, 1570, 1571, 1572, 1573, 1574, 1575, 1576, 1577, 1578, 1579, 1580, 1581, 1582, 1583, 1584, 1585, 1586, 1587, 1588, 1589, 1590, 1591, 1592, 1593, 1594, 1595, 1596, 1597, 1598, 1599, 1600, 1601, 1602, 1603, 1604, 1605, 1606, 1607, 1608, 1609, 1610, 1611, 1612, 1613, 1614, 1615, 1616, 1617, 1618, 1619, 1620, 1621, 1622, 1623, 1624, 1625, 1626, 1627, 1628, 1629, 1630, 1631, 1632, 1633, 1634, 1635, 1636, 1637, 1638, 1639, 1640, 1641, 1642, 1643, 1644, 1645, 1646, 1647, 1648, 1649, 1650, 1651, 1652, 1653, 1654, 1655, 1656, 1657, 1658, 1659, 1660, 1661, 1662, 1663, 1664, 1665, 1666, 1667, 1668, 1669, 1670, 1671, 1672, 1673, 1674, 1675, 1676, 1677, 1678, 1679, 1680, 1681, 1682, 1683, 1684, 1685, 1686, 1687, 1688, 1689, 1690, 1691, 1692, 1693, 1694, 1695, 1696, 1697, 1698, 1699, 1700, 1701, 1702, 1703, 1704, 1705, 1706, 1707, 1708, 1709, 1710, 1711, 1712, 1713, 1714, 1715, 1716, 1717, 1718, 1719, 1720, 1721, 1722, 1723, 1724, 1725, 1726, 1727, 1728, 1729, 1730, 1731, 1732, 1733, 1734, 1735, 1736, 1737, 1738, 1739, 1740, 1741, 1742, 1743, 1744, 1745, 1746, 1747, 1748, 1749, 1750, 1751, 1752, 1753, 1754, 1755, 1756, 1757, 1758, 1759, 1760, 1761, 1762, 1763, 1764, 1765, 1766, 1767, 1768, 1769, 1770, 1771, 1772, 1773, 1774, 1775, 1776, 1777, 1778, 1779, 1780, 1781, 1782, 1783, 1784, 1785, 1786, 1787, 1788, 1789, 1790, 1791, 1792, 1793, 1794, 1795, 1796, 1797, 1798, 1799, 1800, 1801, 1802, 1803, 1804, 1805, 1806, 1807, 1808, 1809, 1810, 1811, 1812, 1813, 1814, 1815, 1816, 1817, 1818, 1819, 1820, 1821, 1822, 1823, 1824, 1825, 1826, 1827, 1828, 1829, 1830, 1831, 1832, 1833, 1834, 1835, 1836, 1837, 1838, 1839, 1840, 1841, 1842, 1843, 1844, 1845, 1846, 1847, 1848, 1849, 1850, 1851, 1852, 1853, 1854, 1855, 1856, 1857, 1858, 1859, 1860, 1861, 1862, 1863, 1864, 1865, 1866, 1867, 1868, 1869, 1870, 1871, 1872, 1873, 1874, 1875, 1876, 1877, 1878, 1879, 1880, 1881, 1882, 1883, 1884, 1885, 1886, 1887, 1888, 1889, 1890, 1891, 1892, 1893, 1894, 1895, 1896, 1897, 1898, 1899, 1900, 1901, 1902, 1903, 1904, 1905, 1906, 1907, 1908, 1909, 1910, 1911, 1912, 1913, 1914, 1915, 1916, 1917, 1918, 1919, 1920, 1921, 1922, 1923, 1924, 1925, 1926, 1927, 1928, 1929, 1930, 1931, 1932, 1933, 1934, 1935, 1936, 1937, 1938, 1939, 1940, 1941, 1942, 1943, 1944, 1945, 1946, 1947, 1948, 1949, 1950, 1951, 1952, 1953, 1954, 1955, 1956, 1957, 1958, 1959, 1960, 1961, 1962, 1963, 1964, 1965, 1966, 1967, 1968, 1969, 1970, 1971, 1972, 1973, 1974, 1975, 1976, 1977, 1978, 1979, 1980, 1981, 1982, 1983, 1984, 1985, 1986, 1987, 1988, 1989, 1990, 1991, 1992, 1993, 1994, 1995, 1996, 1997, 1998, 1999, 2000, 2001, 2002, 2003, 2004, 2005, 2006, 2007, 2008, 2009, 2010, 2011, 2012, 2013, 2014, 2015, 2016, 2017, 2018, 2019, 2020, 2021, 2022, 2023, 2024, 2025, 2026, 2027, 2028, 2029, 2030, 2031, 2032, 2033, 2034, 2035, 2036, 2037, 2038, 2039, 2040, 2041, 2042, 2043, 2044, 2045, 2046, 2047, 2048, 2049, 2050, 2051, 2052, 2053, 2054, 2055, 2056, 2057, 2058, 2059, 2060, 2061, 2062, 2063, 2064, 2065, 2066, 2067, 2068, 2069, 2070, 2071, 2072, 2073, 2074, 2075, 2076, 2077, 2078, 2079, 2080, 2081, 2082, 2083, 2084, 2085, 2086, 2087, 2088, 2089, 2090, 2091, 2092, 2093, 2094, 2095, 2096, 2097, 2098, 2099, 2100, 2101, 2102, 2103, 2104, 2105, 2106, 2107, 2108, 2109, 2110, 2111, 2112, 2113, 2114, 2115, 2116, 2117, 2118, 2119, 2120, 2121, 2122, 2123, 2124, 2125, 2126, 2127, 2128, 2129, 2130, 2131, 2132, 2133, 2134, 2135, 2136, 2137, 2138, 2139, 2140, 2141, 2142, 2143, 2144, 2145, 2146, 2147, 2148, 2149, 2150, 2151, 2152, 2153, 2154, 2155, 2156, 2157, 2158, 2159, 2160, 2161, 2162, 2163, 2164, 2165, 2166, 2167, 2168, 2169, 2170, 2171, 2172, 2173, 2174, 2175, 2176, 2177, 2178, 2179, 2180, 2181, 2182, 2183, 2184, 2185, 2186, 2187, 2188, 2189, 2190, 2191, 2192, 2193, 2194, 2195, 2196, 2197, 2198, 2199, 2200, 2201, 2202, 2203, 2204, 2205, 2206, 2207, 2208, 2209, 2210, 2211, 2212, 2213, 2214, 2215, 2216, 2217, 2218, 2219, 2220, 2221, 2222, 2223, 2224, 2225, 2226, 2227, 2228, 2229, 2230, 2231, 2232, 2233, 2234, 2235, 2236, 2237, 2238, 2239, 2240, 2241, 2242, 2243, 2244, 2245, 2246, 2247, 2248, 2249, 2250, 2251, 2252, 2253, 2254, 2255, 2256, 2257, 2258, 2259, 2260, 2261, 2262, 2263, 2264, 2265, 2266, 2267, 2268, 2269, 2270, 2271, 2272, 2273, 2274, 2275, 2276, 2277, 2278, 2279, 2280, 2281, 2282, 2283, 2284, 2285, 2286, 2287, 2288, 2289, 2290, 2291, 2292, 2293, 2294, 2295, 2296, 2297, 2298, 2299, 2300, 2301, 2302, 2303, 2304, 2305, 2306, 2307, 2308, 2309, 2310, 2311, 2312, 2313, 2314, 2315, 2316, 2317, 2318, 2319, 2320, 2321, 2322, 2323, 2324, 2325, 2326, 2327, 2328, 2329, 2330, 2331, 2332, 2333, 2334, 2335, 2336, 2337, 2338, 2339, 2340, 2341, 2342, 2343, 2344, 2345, 2346, 2347, 2348, 2349, 2350, 2351, 2352, 2353, 2354, 2355, 2356, 2357, 2358, 2359, 2360, 2361, 2362, 2363, 2364, 2365, 2366, 2367, 2368, 2369, 2370, 2371, 2372, 2373, 2374, 2375, 2376, 2377, 2378, 2379, 2380, 2381, 2382, 2383, 2384, 2385, 2386, 2387, 2388, 2389, 2390, 2391, 2392, 2393, 2394, 2395, 2396, 2397, 2398, 2399, 2400, 2401, 2402, 2403, 2404, 2405, 2406, 2407, 2408, 2409, 2410, 2411, 2412, 2413, 2414, 2415, 2416, 2417, 2418, 2419, 2420, 2421, 2422, 2423, 2424, 2425, 2426, 2427, 2428, 2429, 2430, 2431, 2432, 2433, 2434, 2435, 2436, 2437, 2438, 2439, 2440, 2441, 2442, 2443, 2444, 2445, 2446, 2447, 2448, 2449, 2450, 2451, 2452, 2453, 2454, 2455, 2456, 2457, 2458, 2459, 2460, 2461, 2462, 2463, 2464, 2465, 2466, 2467, 2468, 2469, 2470, 2471, 2472, 2473, 2474, 2475, 2476, 2477, 2478, 2479, 2480, 2481, 2482, 2483, 2484, 2485, 2486, 2487, 2488, 2489, 2490, 2491, 2492, 2493, 2494, 2495, 2496, 2497, 2498, 2499, 2500, 2501, 2502, 2503, 2504, 2505, 2506, 2507, 2508, 2509, 2510, 2511, 2512, 2513, 2514, 2515, 2516, 2517, 2518, 2519, 2520, 2521, 2522, 2523, 2524, 2525, 2526, 2527, 2528, 2529, 2530, 2531, 2532, 2533, 2534, 2535, 2536, 2537, 2538, 2539, 2540, 2541, 2542, 2543, 2544, 2545, 2546, 2547, 2548, 2549, 2550, 2551, 2552, 2553, 2554, 2555, 2556, 2557, 2558, 2559, 2560, 2561, 2562, 2563, 2564, 2565, 2566, 2567, 2568, 2569, 2570, 2571, 2572, 2573, 2574, 2575, 2576, 2577, 2578, 2579, 2580, 2581, 2582, 2583, 2584, 2585, 2586, 2587, 2588, 2589, 2590, 2591, 2592, 2593, 2594, 2595, 2596, 2597, 2598, 2599, 2600, 2601, 2602, 2603, 2604, 2605, 2606, 2607, 2608, 2609, 2610, 2611, 2612, 2613, 2614, 2615, 2616, 2617, 2618, 2619, 2620, 2621, 2622, 2623, 2624, 2625, 2626, 2627, 2628, 2629, 2630, 2631, 2632, 2633, 2634, 2635, 2636, 2637, 2638, 2639, 2640, 2641, 2642, 2643, 2644, 2645, 2646, 2647, 2648, 2649, 2650, 2651, 2652, 2653, 2654, 2655, 2656, 2657, 2658, 2659, 2660, 2661, 2662, 2663, 2664, 2665, 2666, 2667, 2668, 2669, 2670, 2671, 2672, 2673, 2674, 2675, 2676, 2677, 2678, 2679, 2680, 2681, 2682, 2683, 2684, 2685, 2686, 2687, 2688, 2689, 2690, 2691, 2692, 2693, 2694, 2695, 2696, 2697, 2698, 2699, 2700, 2701, 2702, 2703, 2704, 2705, 2706, 2707, 2708, 2709, 2710, 2711, 2712, 2713, 2714, 2715, 2716, 2717, 2718, 2719, 2720, 2721, 2722, 2723, 2724, 2725, 2726, 2727, 2728, 2729, 2730, 2731, 2732, 2733, 2734, 2735, 2736, 2737, 2738, 2739, 2740, 2741, 2742, 2743, 2744, 2745, 2746, 2747, 2748, 2749, 2750, 2751, 2752, 2753, 2754, 2755, 2756, 2757, 2758, 2759, 2760, 2761, 2762, 2763, 2764, 2765, 2766, 2767, 2768, 2769, 2770, 2771, 2772, 2773, 2774, 2775, 2776, 2777, 2778, 2779, 2780, 2781, 2782, 2783, 2784, 2785, 2786, 2787, 2788, 2789, 2790, 2791, 2792, 2793, 2794, 2795, 2796, 2797, 2798, 2799, 2800, 2801, 2802, 2803, 2804, 2805, 2806, 2807, 2808, 2809, 2810, 2811, 2812, 2813, 2814, 2815, 2816, 2817, 2818, 2819, 2820, 2821, 2822, 2823, 2824, 2825, 2826, 2827, 2828, 2829, 2830, 2831, 2832, 2833, 2834, 2835, 2836, 2837, 2838, 2839, 2840, 2841, 2842, 2843, 2844, 2845, 2846, 2847, 2848, 2849, 2850, 2851, 2852, 2853, 2854, 2855, 2856, 2857, 2858, 2859, 2860, 2861, 2862, 2863, 2864, 2865, 2866, 2867, 2868, 2869, 2870, 2871, 2872, 2873, 2874, 2875, 2876, 2877, 2878, 2879, 2880, 2881, 2882, 2883, 2884, 2885, 2886, 2887, 2888, 2889, 2890, 2891, 2892, 2893, 2894, 2895, 2896, 2897, 2898, 2899, 2900, 2901, 2902, 2903, 2904, 2905, 2906, 2907, 2908, 2909, 2910, 2911, 2912, 2913, 2914, 2915, 2916, 2917, 2918, 2919, 2920, 2921, 2922, 2923, 2924, 2925, 2926, 2927, 2928, 2929, 2930, 2931, 2932, 2933, 2934, 2935, 2936, 2937, 2938, 2939, 2940, 2941, 2942, 2943, 2944, 2945, 2946, 2947, 2948, 2949, 2950, 2951, 2952, 2953, 2954, 2955, 2956, 2957, 2958, 2959, 2960, 2961, 2962, 2963, 2964, 2965, 2966, 2967, 2968, 2969, 2970, 2971, 2972, 2973, 2974, 2975, 2976, 2977, 2978, 2979, 2980, 2981, 2982, 2983, 2984, 2985, 2986, 2987, 2988, 2989, 2990, 2991, 2992, 2993, 2994, 2995, 2996, 2997, 2998, 2999, 3000, 3001, 3002, 3003, 3004, 3005, 3006, 3007, 3008, 3009, 3010, 3011, 3012, 3013, 3014, 3015, 3016, 3017, 3018, 3019, 3020, 3021, 3022, 3023, 3024, 3025, 3026, 3027, 3028, 3029, 3030, 3031, 3032, 3033, 3034, 3035, 3036, 3037, 3038, 3039, 3040, 3041, 3042, 3043, 3044, 3045, 3046, 3047, 3048, 3049, 3050, 3051, 3052, 3053, 3054, 3055, 3056, 3057, 3058, 3059, 3060, 3061, 3062, 3063, 3064, 3065, 3066, 3067, 3068, 3069, 3070, 3071, 3072, 3073, 3074, 3075, 3076, 3077, 3078, 3079, 3080, 3081, 3082, 3083, 3084, 3085, 3086, 3087, 3088, 3089, 3090, 3091, 3092, 3093, 3094, 3095, 3096, 3097, 3098, 3099, 3100, 3101, 3102, 3103, 3104, 3105, 3106, 3107, 3108, 3109, 3110, 3111, 3112, 3113, 3114, 3115, 3116, 3117, 3118, 3119, 3120, 3121, 3122, 3123, 3124, 3125, 3126, 3127, 3128, 3129, 3130, 3131, 3132, 3133, 3134, 3135, 3136, 3137, 3138, 3139, 3140, 3141, 3142, 3143, 3144, 3145, 3146, 3147, 3148, 3149, 3150, 3151, 3152, 3153, 3154, 3155, 3156, 3157, 3158, 3159, 3160, 3161, 3162, 3163, 3164, 3165, 3166, 3167, 3168, 3169, 3170, 3171, 3172, 3173, 3174, 3175, 3176, 3177, 3178, 3179, 3180, 3181, 3182, 3183, 3184, 3185, 3186, 3187, 3188, 3189, 3190, 3191, 3192, 3193, 3194, 3195, 3196, 3197, 3198, 3199, 3200, 3201, 3202, 3203, 3204, 3205, 3206, 3207, 3208, 3209, 3210, 3211, 3212, 3213, 3214, 3215, 3216, 3217, 3218, 3219, 3220, 3221, 3222, 3223, 3224, 3225, 3226, 3227, 3228, 3229, 3230, 3231, 3232, 3233, 3234, 3235, 3236, 3237, 3238, 3239, 3240, 3241, 3242, 3243, 3244, 3245, 3246, 3247, 3248, 3249, 3250, 3251, 3252, 3253, 3254, 3255, 3256, 3257, 3258, 3259, 3260, 3261, 3262, 3263, 3264, 3265, 3266, 3267, 3268, 3269, 3270, 3271, 3272, 3273, 3274, 3275, 3276, 3277, 3278, 3279, 3280, 3281, 3282, 3283, 3284, 3285, 3286, 3287, 3288, 3289, 3290, 3291, 3292, 3293, 3294, 3295, 3296, 3297, 3298, 3299, 3300, 3301, 3302, 3303, 3304, 3305, 3306, 3307, 3308, 3309, 3310, 3311, 3312, 3313, 3314, 3315, 3316, 3317, 3318, 3319, 3320, 3321, 3322, 3323, 3324, 3325, 3326, 3327, 3328, 3329, 3330, 3331, 3332], \"y\": [null, null, null, null, null, null, null, null, null, null, null, null, null, null, null, null, null, null, null, null, null, null, null, null, null, null, null, null, null, null, 0.8836666666666666, 0.8811666666666664, 0.8789166666666665, 0.8764166666666665, 0.8725833333333332, 0.8684999999999998, 0.8654166666666665, 0.8628333333333332, 0.8610833333333331, 0.8599166666666663, 0.8593333333333332, 0.8597499999999998, 0.8611666666666664, 0.8645833333333331, 0.8688333333333331, 0.8735833333333333, 0.8807499999999999, 0.89125, 0.9037499999999999, 0.9149166666666665, 0.9264166666666666, 0.9409166666666667, 0.9589166666666668, 0.9845833333333334, 1.0206666666666666, 1.0591666666666666, 1.09625, 1.1358333333333335, 1.1774166666666668, 1.2193333333333332, 1.2616666666666667, 1.3061666666666665, 1.3538333333333334, 1.4025833333333335, 1.46325, 1.5374999999999999, 1.6182500000000002, 1.71925, 1.8326666666666669, 1.9382500000000003, 2.0471666666666666, 2.1605833333333333, 2.2671666666666668, 2.3701666666666665, 2.4644166666666667, 2.5514166666666664, 2.6430000000000002, 2.7429999999999994, 2.8489166666666663, 2.9636666666666662, 3.0900833333333333, 3.2203333333333326, 3.3484166666666666, 3.474833333333333, 3.6045, 3.7379166666666666, 3.8765833333333335, 4.0281666666666665, 4.216333333333333, 4.466, 4.742999999999999, 5.026666666666666, 5.351000000000001, 5.7580833333333326, 6.226416666666667, 6.660166666666666, 6.983583333333333, 7.247916666666667, 7.543333333333332, 7.853833333333333, 8.160499999999999, 8.455249999999998, 8.715833333333332, 8.963416666666665, 9.22808333333333, 9.501416666666664, 9.771999999999997, 10.03908333333333, 10.303666666666663, 10.568666666666664, 10.832999999999997, 11.082166666666662, 11.322833333333328, 11.564166666666662, 11.794666666666663, 12.016999999999996, 12.230749999999997, 12.435166666666666, 12.636249999999999, 12.826500000000001, 12.994750000000002, 13.166000000000002, 13.35191666666667, 13.532583333333335, 13.696250000000003, 13.851833333333337, 14.000000000000005, 14.120500000000002, 14.226333333333336, 14.339250000000003, 14.44791666666667, 14.55016666666667, 14.654833333333334, 14.76, 14.879916666666668, 15.010333333333334, 15.132833333333334, 15.246250000000003, 15.353583333333335, 15.454083333333333, 15.547249999999998, 15.636916666666664, 15.727583333333333, 15.817166666666667, 15.899916666666668, 15.978833333333334, 16.051916666666667, 16.10875, 16.119583333333335, 16.042416666666668, 15.924666666666665, 15.801250000000001, 15.608, 15.313500000000005, 14.962666666666667, 14.66325, 14.491666666666667, 14.374583333333332, 14.220416666666665, 14.054749999999999, 13.903333333333332, 13.7735, 13.679416666666665, 13.594999999999997, 13.492416666666664, 13.386166666666664, 13.286, 13.18433333333333, 13.078499999999998, 12.969666666666665, 12.86025, 12.753666666666668, 12.631666666666666, 12.491749999999998, 12.356999999999998, 12.23033333333333, 12.11183333333333, 11.994666666666664, 11.874333333333329, 11.76708333333333, 11.683916666666665, 11.59258333333333, 11.476249999999997, 11.352249999999998, 11.228833333333332, 11.09883333333333, 10.953499999999998, 10.801, 10.657583333333335, 10.524833333333333, 10.391916666666669, 10.257499999999999, 10.120666666666667, 9.980833333333335, 9.834000000000001, 9.686416666666668, 9.546333333333335, 9.414250000000003, 9.284166666666671, 9.146666666666672, 9.004833333333336, 8.863000000000001, 8.720666666666668, 8.576833333333333, 8.432916666666667, 8.287916666666668, 8.142333333333333, 8.002749999999999, 7.875833333333333, 7.7755833333333335, 7.687749999999999, 7.597749999999999, 7.535833333333332, 7.490666666666667, 7.43575, 7.357999999999999, 7.260666666666666, 7.167250000000001, 7.0770833333333325, 6.982833333333333, 6.878666666666667, 6.763083333333334, 6.643333333333334, 6.522833333333334, 6.393833333333333, 6.25075, 6.0990833333333345, 5.947333333333334, 5.802083333333334, 5.666166666666667, 5.535583333333334, 5.4111666666666665, 5.304333333333333, 5.2084166666666665, 5.109333333333334, 5.010666666666667, 4.918750000000002, 4.8340000000000005, 4.751166666666668, 4.6647500000000015, 4.576083333333335, 4.490500000000001, 4.411333333333332, 4.342083333333333, 4.275749999999999, 4.210666666666665, 4.1626666666666665, 4.129166666666667, 4.0873333333333335, 4.036249999999999, 3.988083333333333, 3.943583333333333, 3.9008333333333325, 3.8588333333333327, 3.8191666666666664, 3.776, 3.724416666666666, 3.6645, 3.6036666666666664, 3.548833333333333, 3.495083333333333, 3.4420833333333336, 3.3919999999999995, 3.3476666666666666, 3.3075, 3.268416666666667, 3.2309166666666664, 3.19325, 3.1565000000000003, 3.122750000000001, 3.090916666666667, 3.0580833333333333, 3.0235000000000007, 2.9909166666666667, 2.9650833333333337, 2.946, 2.9276666666666666, 2.9085000000000005, 2.8917499999999996, 2.877, 2.862083333333333, 2.8480833333333333, 2.8354999999999997, 2.825916666666666, 2.8265, 2.8361666666666667, 2.8495, 2.8666666666666663, 2.887833333333333, 2.906333333333333, 2.9190833333333335, 2.9354166666666663, 2.9555833333333337, 2.9771666666666667, 2.9977500000000004, 3.0140000000000002, 3.0265833333333334, 3.0388333333333333, 3.054333333333333, 3.075083333333333, 3.1039166666666667, 3.1373333333333333, 3.1690833333333335, 3.2039999999999997, 3.2535, 3.31375, 3.3754166666666667, 3.4403333333333337, 3.503416666666667, 3.560416666666667, 3.6201666666666665, 3.683166666666667, 3.749083333333334, 3.820166666666667, 3.893666666666667, 3.967916666666667, 4.0376666666666665, 4.101333333333334, 4.165750000000001, 4.2340833333333325, 4.301916666666666, 4.367916666666668, 4.433583333333335, 4.497833333333334, 4.557333333333332, 4.610333333333333, 4.658666666666666, 4.705416666666667, 4.749833333333333, 4.7908333333333335, 4.831250000000001, 4.87625, 4.9285, 4.981416666666667, 5.030500000000001, 5.076083333333334, 5.119666666666666, 5.163583333333334, 5.2073333333333345, 5.24925, 5.292583333333333, 5.3355, 5.375833333333332, 5.413916666666666, 5.443166666666667, 5.465, 5.4840833333333325, 5.500666666666667, 5.511, 5.51775, 5.5265, 5.533916666666667, 5.541333333333333, 5.552083333333333, 5.566249999999999, 5.580416666666666, 5.593416666666665, 5.606333333333331, 5.617999999999997, 5.624416666666664, 5.623166666666664, 5.616499999999998, 5.610083333333331, 5.603083333333331, 5.585333333333332, 5.557916666666665, 5.528, 5.494499999999999, 5.46425, 5.439583333333333, 5.410666666666668, 5.378666666666667, 5.352166666666667, 5.3302499999999995, 5.305083333333334, 5.279583333333333, 5.262333333333334, 5.250750000000001, 5.233166666666667, 5.207166666666667, 5.1809166666666675, 5.155666666666669, 5.128916666666667, 5.101583333333334, 5.0776666666666666, 5.060166666666667, 5.0480833333333335, 5.036416666666668, 5.024083333333334, 5.013083333333334, 5.002250000000001, 4.988166666666666, 4.969916666666666, 4.951833333333333, 4.935333333333333, 4.921333333333334, 4.910166666666666, 4.8974166666666665, 4.882583333333332, 4.868166666666666, 4.8518333333333326, 4.836583333333333, 4.824749999999999, 4.815416666666666, 4.8151666666666655, 4.822583333333332, 4.832166666666667, 4.84225, 4.853833333333333, 4.866833333333333, 4.88025, 4.895833333333333, 4.909916666666666, 4.916999999999999, 4.918916666666665, 4.922333333333333, 4.925833333333332, 4.928, 4.93, 4.932166666666666, 4.933666666666666, 4.936083333333332, 4.941833333333332, 4.947666666666666, 4.951166666666666, 4.952916666666665, 4.954499999999998, 4.956749999999997, 4.959249999999998, 4.9615, 4.962749999999998, 4.963416666666665, 4.9615, 4.9555833333333315, 4.949916666666667, 4.945, 4.940416666666667, 4.937333333333333, 4.9384999999999994, 4.943666666666667, 4.948833333333335, 4.954166666666667, 4.96025, 4.96725, 4.9755, 4.984, 4.991083333333334, 4.9967500000000005, 5.00225, 5.007750000000001, 5.012416666666668, 5.0175833333333335, 5.023250000000002, 5.0284166666666685, 5.034083333333334, 5.039916666666667, 5.046500000000001, 5.056166666666667, 5.068416666666667, 5.081416666666667, 5.09425, 5.1051666666666655, 5.115166666666666, 5.126999999999999, 5.141833333333332, 5.158333333333331, 5.177666666666664, 5.200999999999998, 5.222666666666665, 5.242333333333332, 5.262416666666665, 5.2837499999999995, 5.307499999999999, 5.332333333333334, 5.356166666666665, 5.37775, 5.398166666666666, 5.419166666666667, 5.4435, 5.470666666666666, 5.498166666666666, 5.526166666666666, 5.553166666666665, 5.5794999999999995, 5.605083333333333, 5.629333333333332, 5.655, 5.681833333333333, 5.709583333333333, 5.739583333333332, 5.7715, 5.806083333333333, 5.842499999999999, 5.881416666666667, 5.924916666666666, 5.969083333333334, 6.01125, 6.058166666666667, 6.113, 6.174000000000001, 6.239, 6.2994166666666676, 6.358666666666666, 6.4185, 6.475666666666667, 6.533666666666666, 6.592416666666666, 6.653, 6.715333333333334, 6.778583333333334, 6.8405, 6.902583333333334, 6.968333333333333, 7.037250000000001, 7.115, 7.204583333333333, 7.298166666666666, 7.387999999999999, 7.475749999999999, 7.565333333333332, 7.656166666666665, 7.749833333333332, 7.846749999999999, 7.944249999999999, 8.0425, 8.141416666666666, 8.239166666666666, 8.3415, 8.454583333333334, 8.560583333333334, 8.651250000000001, 8.71, 8.750583333333337, 8.805083333333336, 8.864083333333333, 8.925166666666668, 8.990250000000001, 9.058583333333335, 9.125916666666669, 9.195083333333336, 9.267083333333334, 9.338083333333337, 9.407666666666668, 9.470916666666666, 9.529250000000001, 9.58925, 9.650833333333335, 9.712916666666668, 9.777250000000002, 9.845500000000001, 9.915166666666666, 9.982583333333332, 10.047500000000001, 10.110583333333333, 10.170583333333335, 10.231000000000002, 10.293583333333336, 10.353583333333336, 10.408333333333335, 10.45941666666667, 10.508000000000004, 10.562750000000003, 10.624000000000004, 10.686833333333338, 10.750000000000005, 10.81066666666667, 10.86941666666667, 10.925416666666669, 10.979750000000001, 11.034166666666666, 11.091166666666666, 11.148666666666667, 11.20225, 11.252416666666665, 11.293916666666664, 11.325749999999998, 11.355583333333334, 11.388999999999998, 11.42275, 11.449333333333335, 11.4675, 11.476750000000001, 11.483499999999998, 11.492749999999997, 11.497833333333332, 11.49975, 11.499500000000001, 11.488833333333332, 11.46675, 11.451916666666664, 11.451249999999998, 11.481083333333332, 11.526416666666666, 11.556833333333332, 11.583083333333333, 11.608833333333335, 11.633, 11.653333333333332, 11.665833333333333, 11.663416666666668, 11.653250000000002, 11.646, 11.642250000000002, 11.645833333333336, 11.65791666666667, 11.670750000000002, 11.677166666666668, 11.679500000000003, 11.679583333333335, 11.67516666666667, 11.670166666666665, 11.66725, 11.665500000000002, 11.662083333333333, 11.656250000000002, 11.648333333333332, 11.6405, 11.631416666666665, 11.619166666666667, 11.60675, 11.598499999999998, 11.592666666666666, 11.58225, 11.56975, 11.560416666666665, 11.552583333333333, 11.549000000000001, 11.551250000000001, 11.555083333333334, 11.558666666666669, 11.5605, 11.559, 11.556333333333335, 11.555833333333334, 11.557666666666666, 11.558166666666667, 11.554833333333335, 11.550333333333333, 11.551833333333335, 11.563416666666665, 11.58408333333333, 11.612916666666663, 11.641416666666665, 11.664083333333332, 11.686583333333333, 11.711416666666665, 11.738916666666666, 11.76925, 11.799166666666666, 11.827749999999998, 11.854249999999999, 11.877999999999998, 11.902, 11.929083333333335, 11.95925, 11.989916666666666, 12.018583333333334, 12.045666666666667, 12.0795, 12.125499999999999, 12.176083333333333, 12.22425, 12.270666666666667, 12.316416666666665, 12.359333333333332, 12.401833333333332, 12.44675, 12.492500000000001, 12.538083333333331, 12.583833333333335, 12.628333333333336, 12.670916666666665, 12.713666666666667, 12.7595, 12.80825, 12.860583333333334, 12.914833333333334, 12.96841666666667, 13.02175, 13.074750000000002, 13.12341666666667, 13.169666666666668, 13.224583333333335, 13.287750000000003, 13.354416666666669, 13.421333333333337, 13.491083333333334, 13.569083333333335, 13.651666666666666, 13.733999999999998, 13.814416666666666, 13.898083333333332, 13.987333333333334, 14.083249999999998, 14.19175, 14.30825, 14.43458333333333, 14.569583333333329, 14.690666666666662, 14.80533333333333, 14.92433333333333, 15.04183333333333, 15.165499999999996, 15.301166666666662, 15.452249999999998, 15.614999999999995, 15.781499999999996, 15.953583333333329, 16.140166666666666, 16.33825, 16.54825, 16.77275, 17.003583333333335, 17.22891666666667, 17.455583333333337, 17.70216666666667, 17.966833333333334, 18.239916666666666, 18.51958333333333, 18.798333333333336, 19.072083333333335, 19.35, 19.63775, 19.932083333333335, 20.24741666666667, 20.589500000000008, 20.936500000000002, 21.283666666666672, 21.644500000000004, 22.06133333333334, 22.547000000000004, 23.0385, 23.52533333333334, 24.0455, 24.585749999999997, 25.13775, 25.66975, 26.1905, 26.734833333333327, 27.288416666666667, 27.838916666666666, 28.38075, 28.937166666666673, 29.568416666666668, 30.32175, 31.18508333333334, 32.08858333333334, 32.91875, 33.74216666666667, 34.68608333333333, 35.694250000000004, 36.780499999999996, 37.94916666666666, 39.12866666666666, 40.36899999999999, 41.626999999999995, 42.91325, 44.35175, 46.036750000000005, 47.95683333333334, 49.95675000000001, 51.96850000000001, 54.11591666666667, 56.61000000000002, 59.427583333333345, 62.07008333333334, 63.991499999999995, 65.329, 66.55208333333334, 67.74508333333334, 68.80858333333333, 69.64166666666667, 70.49133333333333, 71.62558333333334, 73.01908333333334, 74.58908333333333, 76.12450000000001, 77.65225000000002, 79.33283333333335, 81.20125000000002, 83.12358333333336, 84.93308333333336, 86.61075000000001, 88.27533333333334, 89.97008333333335, 91.67908333333334, 93.23875000000002, 94.53008333333335, 95.61125000000001, 96.67649999999999, 97.851, 99.06016666666667, 100.20916666666668, 101.30183333333332, 102.41591666666667, 103.55125000000002, 104.72358333333332, 105.87991666666667, 107.02883333333335, 108.16433333333332, 109.25058333333334, 110.35725, 111.52825, 112.6675, 113.67016666666667, 114.55441666666667, 115.40075000000002, 116.31316666666667, 117.25358333333332, 118.14616666666664, 119.02866666666665, 119.85741666666667, 120.58100000000002, 121.23966666666665, 121.82624999999999, 122.39341666666667, 122.91374999999998, 123.27016666666665, 123.33616666666666, 123.08908333333332, 122.74741666666667, 122.41533333333334, 121.92916666666666, 121.00191666666666, 119.63725000000001, 118.33291666666665, 117.72425, 117.76175, 117.92933333333333, 118.08933333333334, 118.29891666666667, 118.69108333333332, 119.05699999999999, 119.15066666666668, 119.03633333333335, 118.77658333333332, 118.57033333333332, 118.37241666666668, 117.97841666666666, 117.3573333333333, 116.64666666666666, 116.04008333333331, 115.56566666666666, 115.08008333333335, 114.46324999999999, 113.75366666666667, 113.20808333333332, 112.87083333333332, 112.66899999999998, 112.34941666666664, 111.77066666666664, 111.06641666666664, 110.33999999999999, 109.66024999999998, 109.01766666666666, 108.36899999999997, 107.73724999999997, 107.24449999999997, 106.81783333333331, 106.42224999999996, 106.08091666666664, 105.7558333333333, 105.35299999999997, 104.87641666666664, 104.35699999999999, 103.81558333333332, 103.27099999999999, 102.70224999999999, 102.10058333333333, 101.44525, 100.76133333333334, 100.07233333333333, 99.41950000000003, 98.80875, 98.21941666666669, 97.66475000000003, 97.1394166666667, 96.65866666666666, 96.24183333333336, 95.88433333333333, 95.53233333333333, 95.16433333333333, 94.81391666666664, 94.55549999999998, 94.384, 94.28208333333332, 94.17799999999997, 93.99374999999998, 93.80266666666664, 93.67324999999997, 93.63966666666666, 93.67849999999999, 93.73075, 93.75125, 93.73341666666666, 93.692, 93.64675, 93.65183333333336, 93.74108333333335, 93.88216666666669, 94.04208333333335, 94.20333333333335, 94.37016666666668, 94.56958333333333, 94.92333333333333, 95.38925, 95.82450000000001, 96.37216666666669, 97.09475, 97.92733333333335, 98.82208333333332, 99.80683333333334, 100.83300000000001, 101.74808333333334, 102.53233333333336, 103.27600000000001, 103.98533333333334, 104.61491666666666, 105.20858333333334, 105.80716666666666, 106.43616666666668, 107.04141666666666, 107.60933333333334, 108.18766666666667, 108.82283333333332, 109.49983333333333, 110.18474999999998, 110.86766666666665, 111.53008333333332, 112.16108333333332, 112.76725, 113.34774999999999, 113.90799999999999, 114.4883333333333, 115.05799999999996, 115.60766666666665, 116.18133333333333, 116.71216666666662, 117.20566666666662, 117.70099999999996, 118.04474999999998, 118.34333333333332, 118.75974999999998, 119.17866666666664, 119.6035, 120.06499999999998, 120.56325, 121.09858333333332, 121.62908333333333, 122.16891666666669, 122.70650000000002, 123.2261666666667, 123.78775, 124.42450000000001, 125.11391666666667, 125.8291666666667, 126.61033333333333, 127.49633333333334, 128.44308333333333, 129.51258333333334, 130.80525, 132.23525, 133.56541666666666, 134.69441666666668, 135.75716666666665, 136.85216666666668, 138.03400000000002, 139.27125, 140.4213333333333, 141.57133333333334, 142.778, 143.96816666666666, 145.27625, 146.86533333333333, 148.91124999999997, 151.30291666666662, 153.97449999999995, 157.1620833333333, 160.6651666666666, 164.14858333333328, 167.61424999999997, 171.2675833333333, 175.49925, 180.20208333333335, 185.32375000000002, 190.69375000000002, 196.44741666666667, 203.9611666666667, 211.83850000000004, 219.6475833333334, 228.7043333333334, 238.83458333333337, 249.58608333333333, 260.3280833333334, 271.75683333333336, 284.23408333333333, 297.5899166666667, 312.17724999999996, 327.9465, 344.1131666666667, 359.1761666666667, 373.75200000000007, 389.2798333333334, 405.2945833333333, 420.5785833333334, 433.2319166666668, 443.686, 454.45783333333344, 466.60766666666666, 479.7913333333334, 492.74658333333343, 505.24575, 517.765, 529.93825, 541.4310000000002, 551.6014166666668, 560.1337500000001, 567.2991666666668, 574.9454166666668, 582.9887500000002, 590.2472500000002, 597.3985833333335, 604.9615833333332, 613.0404166666666, 621.43375, 630.4988333333333, 639.76025, 648.6205833333335, 657.5185833333333, 666.6513333333332, 675.8998333333332, 685.2731666666665, 694.9946666666666, 704.9198333333333, 714.8809166666666, 725.6578333333333, 736.7743333333333, 746.386, 754.8410833333332, 763.2847499999998, 772.0809999999998, 781.1382499999999, 789.3915833333332, 796.752, 803.4936666666666, 810.1482499999998, 816.4975833333333, 820.7021666666666, 824.5039166666667, 828.7009166666667, 831.9635833333333, 834.2847499999999, 835.8094166666667, 837.0205, 837.1263333333334, 836.3364166666668, 835.3144166666666, 832.4975833333334, 828.005, 823.4216666666666, 820.0689166666666, 817.2905833333333, 813.6379999999999, 809.5178333333332, 805.82675, 804.8472499999999, 806.1009166666668, 806.5450833333334, 804.7636666666667, 801.0299166666668, 797.2681666666667, 793.8868333333335, 790.2214166666668, 786.6827500000002, 783.3600000000002, 781.3522500000001, 781.1636666666668, 781.7569166666667, 781.5657500000001, 780.8955833333335, 780.7872500000001, 780.2159166666668, 778.8652500000001, 777.5010833333334, 776.0334166666668, 773.3553333333333, 769.8625833333332, 766.9465833333334, 764.3809166666666, 761.4378333333332, 758.2289166666666, 754.8181666666667, 751.7915833333333, 749.2630833333332, 746.2349999999999, 742.0034999999999, 736.9155833333333, 732.4281666666668, 728.8166666666666, 725.2889166666668, 721.3264166666668, 716.969, 712.9475833333335, 709.3129166666668, 705.7927500000001, 702.1209999999999, 698.3044166666666, 694.7537499999999, 691.1608333333332, 687.0010833333332, 682.2654999999999, 677.2246666666665, 672.2432499999999, 667.6734166666666, 663.5044999999999, 659.2127499999999, 653.8054999999999, 648.2976666666665, 643.1775833333331, 637.4419166666665, 631.4049166666666, 625.4583333333333, 619.2399166666665, 612.6905833333333, 606.4388333333334, 600.2255, 594.0671666666667, 588.3088333333334, 583.3009166666667, 579.0669166666667, 574.5307499999999, 569.8598333333333, 565.6964166666666, 561.6926666666665, 558.4469166666664, 555.8832500000001, 553.4844166666666, 551.4870833333333, 549.3714166666668, 547.1860833333333, 545.1691666666667, 543.5726666666667, 542.3465833333333, 540.7389166666666, 538.8483333333331, 537.1900833333332, 535.8803333333334, 534.1149166666667, 531.7788333333333, 529.5758333333333, 527.5423333333333, 525.6959166666667, 523.0595000000001, 519.3671666666668, 515.6191666666668, 511.87816666666674, 508.3127500000001, 505.16525000000007, 502.0262500000002, 498.8679166666668, 495.8857500000001, 492.78675000000015, 489.4995833333335, 486.2464166666668, 483.1110833333334, 480.0135833333335, 476.99541666666676, 474.12883333333343, 471.3575000000001, 468.9547500000001, 467.09591666666677, 465.66558333333336, 464.67925, 463.86858333333333, 463.2083333333333, 462.84783333333326, 463.29733333333326, 464.4694999999999, 465.69274999999993, 467.3270833333333, 469.5877499999999, 472.0132499999999, 474.7604999999999, 478.0125833333332, 481.46641666666653, 484.75499999999994, 487.8861666666666, 491.1769999999999, 494.5345, 497.97116666666665, 501.91283333333325, 506.0743333333333, 509.84166666666664, 513.2334166666666, 515.8959166666666, 517.5419999999999, 518.6041666666666, 519.8825833333333, 521.6881666666666, 523.587, 525.3204166666666, 526.96625, 528.62675, 530.4185833333333, 532.2388333333333, 534.1491666666667, 536.0815833333332, 538.1453333333333, 540.6082499999999, 543.2729166666666, 545.8813333333334, 548.5975000000001, 551.7170833333333, 555.1456666666667, 558.6209166666666, 562.00375, 565.3710000000001, 568.6853333333335, 571.8587500000001, 574.8711666666667, 577.7741666666666, 580.6945833333333, 583.7578333333332, 586.9576666666665, 590.1029999999998, 593.0924166666664, 596.0200833333332, 598.9087499999999, 601.8080833333333, 604.6467499999999, 607.2554166666666, 609.6034999999999, 611.5649999999999, 613.2235000000001, 614.6738333333334, 615.6241666666667, 616.083, 616.4194999999999, 616.7706666666666, 616.9419999999999, 616.7375833333334, 616.1249999999999, 615.2253333333332, 614.3145833333333, 613.2880000000001, 612.2289999999999, 611.2205, 610.1065833333332, 608.9720833333332, 607.88, 606.882, 605.8705, 604.9462499999998, 604.3277499999999, 603.7909166666666, 603.2859166666666, 602.58925, 601.291, 599.7349166666669, 598.078416666667, 596.0693333333335, 594.0380833333335, 592.3937500000001, 591.0016666666669, 589.7125000000001, 588.3879166666667, 587.20175, 586.0775833333333, 584.7345833333333, 583.2143333333333, 581.6771666666666, 579.9333333333332, 577.7165, 575.1284166666667, 572.4045, 569.7794166666666, 567.2163333333332, 564.7259166666665, 562.3402499999997, 560.0020833333333, 557.6601666666667, 555.2791666666667, 552.7599999999999, 550.1852499999999, 547.6667499999999, 545.19225, 542.7758333333333, 540.4093333333333, 538.0085833333334, 535.3688333333333, 532.52075, 529.4450833333334, 525.9604166666667, 522.34175, 518.8176666666667, 515.3746666666666, 512.226, 509.35233333333326, 506.42158333333333, 503.37233333333324, 500.3218333333333, 497.24816666666663, 494.00916666666666, 490.58174999999994, 487.0485, 483.51574999999997, 479.8945, 475.94291666666663, 471.63325000000003, 467.2929166666667, 463.0205000000001, 458.83225000000004, 454.95041666666674, 451.2634166666667, 447.8623333333334, 444.8015000000001, 442.21325, 440.30416666666673, 438.51625, 436.5799166666667, 434.9161666666667, 433.42616666666663, 431.6804166666667, 429.5629166666667, 427.29325, 425.1876666666667, 422.9843333333334, 420.5509166666667, 417.97616666666676, 415.29966666666667, 412.67099999999994, 410.07224999999994, 407.4265833333333, 404.90375, 402.54908333333333, 400.102, 397.5693333333334, 394.95525000000004, 392.31758333333335, 389.8476666666668, 387.5384166666667, 385.32450000000006, 383.18866666666673, 381.10575000000006, 379.2389166666667, 377.5016666666667, 376.0675833333333, 375.0439166666667, 373.91433333333333, 372.64174999999994, 371.44374999999997, 370.5606666666667, 370.062, 369.61924999999997, 369.0186666666667, 368.26941666666664, 367.2785833333333, 366.1776666666667, 365.39225, 364.9440000000001, 364.50275000000005, 364.1229166666667, 363.98975, 363.90583333333336, 363.87275000000005, 363.93716666666666, 364.1251666666667, 364.6408333333333, 365.47183333333334, 366.27183333333335, 366.9635, 367.57900000000006, 367.82175, 367.7556666666667, 367.54208333333344, 367.22483333333344, 366.8006666666667, 366.0825833333334, 365.2787500000002, 364.5870000000001, 363.8238333333334, 362.85008333333343, 361.65941666666674, 360.47333333333347, 359.4929166666668, 358.5704166666668, 357.80650000000014, 357.3542500000001, 356.9776666666668, 356.5186666666667, 356.0348333333333, 355.50525000000005, 354.9980833333334, 354.5711666666667, 354.12016666666676, 353.8212500000001, 353.6656666666667, 353.4936666666667, 353.1079166666667, 352.23941666666667, 351.0325833333334, 349.9025000000001, 348.97825, 347.96875000000006, 346.5770833333334, 345.02516666666673, 343.0715, 340.6154166666667, 338.0149166666667, 335.1000833333334, 332.05375, 329.07008333333334, 326.0996666666666, 323.2310833333332, 320.6156666666666, 318.2367499999999, 315.9472499999999, 313.73099999999994, 311.4258333333333, 309.11283333333324, 307.0236666666666, 305.2329999999999, 303.4914166666666, 301.41849999999994, 299.07558333333327, 296.61041666666665, 294.0438333333333, 291.446, 288.98258333333337, 286.6069166666667, 284.1738333333334, 281.63233333333335, 279.13149999999996, 276.89174999999994, 274.81174999999996, 272.6964166666666, 270.5150833333333, 268.35233333333326, 266.2113333333333, 264.26666666666665, 262.7450833333334, 261.41058333333336, 260.08791666666673, 258.8286666666667, 257.47275, 256.03925, 254.62324999999998, 253.14491666666666, 251.66391666666667, 250.27441666666667, 248.88233333333335, 247.49283333333332, 246.164, 244.9789166666667, 244.026, 243.0595833333333, 242.13725, 241.4501666666667, 241.01391666666663, 240.88724999999997, 240.91891666666666, 240.87699999999995, 240.6660833333333, 240.50699999999995, 240.62074999999993, 240.8894166666666, 241.25574999999995, 241.63016666666667, 242.18941666666666, 243.34108333333333, 244.77483333333333, 246.11325, 247.30841666666666, 248.25833333333335, 249.03958333333338, 249.81525000000002, 250.5979166666667, 251.2565833333334, 251.68466666666671, 251.83183333333335, 251.8229166666667, 251.59441666666666, 251.29275, 251.238, 251.39416666666668, 251.65466666666669, 251.96583333333336, 252.37841666666668, 252.80300000000003, 253.19508333333332, 253.65525, 254.22458333333336, 254.80158333333333, 255.233, 255.54, 255.817, 256.0885, 256.3613333333333, 256.54949999999997, 256.4678333333333, 256.0851666666667, 255.74300000000002, 255.55483333333336, 255.30800000000002, 255.05308333333335, 254.8239166666667, 254.58733333333336, 254.40316666666672, 254.30675000000005, 254.2056666666667, 254.03783333333337, 253.79466666666664, 253.54308333333333, 253.22225, 252.76100000000002, 252.37091666666666, 251.93608333333336, 251.28400000000002, 250.61983333333333, 250.0355, 249.43525, 248.77024999999998, 248.08941666666666, 247.40125, 246.61508333333333, 245.73983333333328, 244.84958333333327, 244.02808333333329, 243.2926666666666, 242.5770833333333, 241.77241666666663, 240.91083333333327, 240.25708333333327, 239.83108333333328, 239.42149999999998, 238.99141666666662, 238.5315833333333, 238.06558333333334, 237.7599166666667, 237.62675000000002, 237.48325000000003, 237.30408333333335, 237.10075000000003, 236.93000000000004, 236.77700000000002, 236.58383333333333, 236.38083333333333, 236.04500000000002, 235.58816666666667, 235.12958333333333, 234.63466666666667, 234.11066666666667, 233.622, 233.20033333333333, 232.9115833333333, 232.75625, 232.64724999999999, 232.54149999999998, 232.51833333333337, 232.66633333333334, 232.88850000000002, 233.06216666666666, 233.32666666666665, 233.7480833333333, 234.1655, 234.53541666666663, 234.84133333333335, 235.0386666666667, 235.20708333333337, 235.43008333333336, 235.67766666666668, 235.99900000000002, 236.35316666666665, 236.69983333333334, 237.0813333333333, 237.43408333333332, 237.8345, 238.26625000000004, 238.59091666666666, 238.88391666666666, 239.24033333333333, 239.72650000000002, 240.3146666666667, 240.80408333333332, 241.27575000000004, 241.78891666666672, 242.3831666666667, 243.15866666666668, 244.1335, 245.11175, 245.9615, 246.81516666666667, 247.59225, 248.301, 249.00599999999997, 249.68025000000003, 250.355, 251.01933333333332, 251.64425, 252.28241666666668, 253.0126666666667, 253.83558333333332, 254.70708333333332, 255.61266666666663, 256.5418333333333, 257.4888333333333, 258.43125, 259.4020833333333, 260.36816666666664, 261.2923333333333, 262.2293333333333, 263.19941666666665, 264.16524999999996, 265.09558333333337, 265.9488333333333, 266.6575833333333, 267.2579166666667, 267.8266666666666, 268.41766666666666, 268.98525000000006, 269.5009166666666, 269.99749999999995, 270.3806666666667, 270.59183333333334, 270.69291666666663, 270.68808333333334, 270.52816666666666, 270.32116666666667, 270.12325, 269.86441666666667, 269.6040833333334, 269.2576666666667, 268.8260833333334, 268.43733333333336, 268.04241666666667, 267.63183333333336, 267.1580833333333, 266.6372500000001, 266.1721666666667, 265.7153333333334, 265.22183333333334, 264.63433333333336, 263.95816666666667, 263.3495833333333, 262.7920833333333, 262.26325, 261.67583333333334, 260.8975, 259.89666666666665, 258.90408333333335, 258.04300000000006, 257.13550000000004, 256.25758333333334, 255.45291666666665, 254.67125, 253.94766666666666, 253.238, 252.4875833333333, 251.73216666666664, 250.9315833333333, 250.04399999999998, 249.1025, 248.14758333333333, 247.19383333333334, 246.24808333333334, 245.30266666666668, 244.4129166666667, 243.60825, 242.84950000000003, 242.12858333333338, 241.4021666666667, 240.65141666666668, 239.91341666666665, 239.22566666666665, 238.64683333333332, 238.20441666666667, 237.84475000000003, 237.5141666666667, 237.16625000000002, 236.84283333333335, 236.54883333333333, 236.25741666666667, 236.03233333333333, 235.91408333333334, 235.99016666666668, 236.32816666666668, 236.84933333333333, 237.39116666666666, 237.95349999999996, 238.63699999999994, 239.3903333333333, 240.2883333333333, 241.33049999999997, 242.37191666666664, 243.44574999999998, 244.53375, 245.66691666666668, 246.958, 248.44716666666667, 250.11958333333337, 251.75975000000005, 253.52191666666673, 255.8635833333334, 258.9150000000001, 261.8973333333334, 264.27433333333346, 266.5485000000001, 268.8815833333334, 271.2025000000001, 273.26216666666676, 274.805, 276.2765, 277.9752500000001, 279.70983333333334, 281.36699999999996, 282.9511666666666, 284.5938333333333, 286.3044999999999, 287.9746666666666, 289.5589166666666, 291.12766666666664, 292.7005833333333, 294.2171666666667, 295.67366666666675, 297.22325000000006, 299.0037500000001, 300.9416666666667, 302.9234166666667, 304.99250000000006, 307.19674999999995, 309.37775000000005, 311.4241666666666, 313.43758333333335, 315.47741666666667, 317.68050000000005, 320.1004166666667, 322.59025, 325.17800000000005, 327.93541666666675, 330.80958333333336, 333.91425000000004, 337.0900833333334, 340.13533333333334, 343.2224166666667, 346.4218333333333, 349.60541666666666, 352.73508333333336, 355.965, 359.20966666666664, 362.26625, 365.08425, 367.773, 370.44325000000003, 373.16716666666673, 375.8292500000001, 378.17866666666674, 380.2365833333335, 382.1456666666667, 383.9253333333334, 385.5714166666667, 387.25791666666674, 388.8704166666667, 389.92858333333334, 390.1898333333334, 390.46091666666666, 391.3165833333333, 392.2015, 393.2095, 394.46124999999995, 395.93324999999993, 397.8879166666666, 399.97491666666656, 401.84783333333326, 403.5466666666666, 405.1131666666666, 406.3201666666666, 407.1502499999999, 407.94516666666664, 408.8180833333333, 409.80566666666664, 411.02674999999994, 412.416, 413.63416666666666, 414.7425833333333, 415.8625, 416.78766666666667, 417.47925000000004, 418.08358333333337, 418.50474999999994, 418.6632499999999, 418.81599999999986, 419.07075, 419.30008333333325, 419.49399999999997, 419.4756666666666, 419.3003333333333, 419.1665, 418.85791666666665, 418.29316666666665, 417.54858333333334, 416.56558333333334, 415.56675, 414.6680833333334, 413.718, 412.68591666666674, 411.7108333333334, 410.8661666666668, 410.0020000000001, 409.2035000000002, 408.6287500000001, 408.3028333333334, 408.1986666666667, 408.1805833333334, 408.0050000000001, 407.65983333333344, 407.4817500000001, 407.533, 407.63041666666663, 407.72291666666666, 407.8051666666666, 407.9301666666666, 408.0122499999999, 407.9705833333332, 407.85216666666656, 407.58991666666657, 407.14474999999993, 406.7054166666666, 406.17416666666657, 405.4953333333333, 404.8791666666666, 404.35349999999994, 403.86691666666667, 403.38441666666665, 403.00775000000004, 402.86458333333337, 403.1539999999999, 403.75308333333334, 404.3387499999999, 404.83174999999994, 405.2465833333333, 405.46950000000004, 405.53574999999995, 405.8450833333333, 406.32891666666666, 406.6888333333333, 407.0236666666666, 407.43041666666676, 407.90625000000006, 408.5165833333334, 409.1725833333335, 409.78408333333346, 410.4258333333334, 411.1406666666668, 411.88741666666675, 412.6479166666668, 413.3119166666668, 413.9038333333334, 414.58941666666675, 415.34058333333337, 416.0928333333334, 416.82341666666673, 417.5137500000001, 418.2148333333334, 418.9148333333334, 419.49675, 419.9172500000001, 420.30933333333337, 420.7088333333334, 420.9709166666667, 421.1155833333334, 421.2729166666667, 421.4013333333334, 421.50775000000004, 421.67199999999997, 421.9961666666666, 422.51833333333326, 423.11974999999995, 423.73100000000005, 424.169, 424.4195833333333, 424.66858333333334, 424.9345, 425.25941666666665, 425.6585833333334, 426.1675000000001, 426.8463333333334, 427.5644166666668, 428.2745833333334, 429.02441666666664, 429.786, 430.51875, 431.1580833333333, 431.7704999999999, 432.43341666666663, 433.10274999999996, 433.76916666666665, 434.43749999999994, 435.0808333333333, 435.7575833333334, 436.5013333333334, 437.13275000000004, 437.6423333333334, 438.10908333333344, 438.5157500000001, 438.9361666666668, 439.41616666666675, 439.93008333333336, 440.47600000000006, 441.24525000000006, 442.5940833333334, 444.44991666666675, 446.44308333333345, 448.40350000000007, 450.33766666666673, 452.3286666666667, 454.58700000000005, 457.0913333333334, 459.6504166666668, 462.29791666666677, 464.9776666666667, 467.6567500000001, 470.31066666666675, 472.92508333333325, 475.7674166666666, 479.3125833333334, 483.5811666666667, 487.96541666666667, 492.3656666666667, 497.3711666666666, 502.77691666666664, 508.13858333333326, 513.4874166666666, 518.4588333333332, 522.5855833333334, 525.7615000000001, 528.4951666666667, 531.5430833333332, 534.8398333333333, 537.9910000000001, 541.2013333333334, 544.4704166666667, 547.662, 551.0926666666668, 554.8718333333334, 558.8535833333333, 562.7071666666667, 566.4171666666666, 570.08725, 573.6092500000001, 576.8537500000001, 579.9869166666667, 583.2433333333333, 586.50075, 589.7705000000001, 593.1399999999999, 596.55, 599.9146666666666, 603.3443333333333, 606.8493333333332, 610.4759166666666, 614.2654999999999, 618.0939999999999, 621.8529166666666, 625.5611666666666, 629.163, 632.6383333333332, 636.1054166666667, 639.4741666666666, 642.5321666666667, 645.0890833333333, 647.2370000000001, 649.262, 651.2477499999999, 652.9846666666665, 654.2997499999999, 654.7944999999999, 654.6387499999997, 654.5158333333331, 654.3974166666666, 654.3664166666666, 654.5076666666665, 654.6932499999999, 654.8443333333332, 654.7599166666666, 653.9845833333334, 652.4335833333333, 650.6730833333334, 648.7240833333334, 646.0555833333334, 643.0339166666666, 640.03775, 636.9349166666666, 634.1169166666665, 632.154333333333, 631.1711666666665, 630.5641666666667, 629.5564166666666, 628.1975833333332, 627.0417499999999, 625.9559166666666, 624.7241666666666, 623.5264999999999, 622.1522500000001, 620.4946666666667, 618.6382500000001, 616.8637500000002, 615.2517500000002, 613.7820833333336, 612.6454166666668, 611.8723333333335, 611.2224166666667, 610.5669166666668, 610.0851666666667, 609.6397499999999, 609.0559166666666, 608.3085833333331, 607.4592499999998, 606.5549166666666, 605.6254166666665, 604.562083333333, 603.4157499999999, 602.3191666666664, 601.3064166666666, 600.3815833333332, 599.5006666666667, 598.58625, 597.5754166666667, 596.6065833333331, 595.7349999999999, 594.8598333333331, 593.9961666666666, 593.1500833333333, 592.3334166666665, 591.7652499999999, 591.5772499999999, 592.0039166666667, 592.8298333333333, 593.5412499999999, 594.1642499999999, 594.6895833333331, 595.0865833333332, 595.4891666666665, 595.9706666666666, 596.4171666666666, 596.8732500000001, 597.5709166666668, 598.4485833333333, 599.4404999999999, 600.5771666666667, 601.703, 602.807, 603.9165833333335, 604.964, 605.8824999999999, 606.7001666666666, 607.5245833333335, 608.5440000000001, 609.7760000000002, 611.0530833333335, 612.3771666666668, 613.9455000000002, 615.7805833333334, 617.7188333333334, 619.85025, 622.0706666666667, 624.2675833333334, 626.6615, 629.1045, 631.0312499999999, 632.5753333333333, 634.1527500000001, 635.7317500000001, 637.2023333333335, 638.650916666667, 640.2526666666668, 641.9805, 643.7715833333333, 645.4661666666667, 647.0367500000001, 648.6573333333333, 650.4250833333333, 652.5000833333335, 654.7849166666666, 657.112, 659.543, 661.9160833333334, 664.2330833333333, 666.63025, 669.0130000000001, 671.3150833333335, 673.539, 675.6971666666668, 677.8189166666668, 679.9363333333334, 682.0460833333334, 684.1825833333335, 686.4915000000001, 689.030666666667, 691.6454166666668, 694.2147500000001, 696.6687500000002, 699.0398333333334, 701.4661666666667, 703.9746666666667, 706.5023333333334, 708.8678333333334, 711.0853333333334, 713.3660000000001, 715.6941666666668, 717.9967500000001, 720.2823333333334, 722.62175, 725.0924166666668, 727.6884166666669, 730.3542500000002, 733.0682500000003, 735.933916666667, 739.2039166666669, 743.1055000000002, 747.1802500000002, 750.9246666666668, 754.5465833333334, 758.3884166666667, 762.5550000000001, 766.90575, 771.2068333333334, 775.3000000000002, 779.4884166666668, 784.3503333333334, 789.8551666666668, 795.72775, 801.1161666666667, 805.0801666666667, 808.2344166666669, 811.3057500000001, 814.3380833333335, 817.4298333333334, 819.7900833333333, 821.3886666666665, 823.1534166666667, 824.9664166666665, 826.4564166666665, 827.7784166666667, 829.6845, 831.9758333333333, 834.4481666666667, 837.1395833333332, 839.9028333333332, 842.8759166666666, 845.8688333333331, 848.6702499999999, 851.3396666666665, 854.1970833333332, 857.2484166666666, 860.3339166666666, 863.2959166666665, 866.0709166666666, 868.9867499999998, 872.3249999999999, 876.1324999999998, 880.3414999999999, 884.7764166666666, 889.1004999999999, 893.3297499999998, 897.8240833333333, 902.5052499999999, 906.5933333333332, 910.0912499999998, 913.7460833333332, 917.4985833333333, 921.1747499999999, 924.8674999999998, 928.5493333333333, 932.4139166666668, 936.6576666666667, 940.9959166666666, 944.953, 948.4965833333333, 951.9900833333332, 955.6814166666667, 959.9010000000001, 964.4735833333334, 968.5945833333334, 972.1028333333334, 975.63325, 979.4225833333334, 983.4617499999999, 987.7030833333333, 992.0374166666667, 996.10775, 999.6452499999999, 1003.6872499999998, 1008.9137499999998, 1013.9600833333332, 1018.5151666666665, 1023.1375833333333, 1027.6384166666664, 1033.3893333333333, 1040.5212499999998, 1047.6591666666668, 1054.7673333333332, 1061.4385833333333, 1066.7506666666668, 1069.7858333333334, 1071.7603333333332, 1074.1149166666667, 1077.0610000000001, 1079.8037500000003, 1081.7184166666666, 1083.0154166666669, 1083.85075, 1084.9463333333333, 1086.5185, 1088.4921666666667, 1090.5005833333335, 1092.50675, 1094.7920000000001, 1097.1286666666667, 1099.17625, 1101.2809166666666, 1103.4560833333333, 1105.3550833333334, 1107.6074999999998, 1110.3756666666666, 1112.8452499999996, 1115.213083333333, 1118.40925, 1122.277833333333, 1125.9829166666668, 1129.2526666666665, 1132.3197500000003, 1135.3635000000002, 1138.3776666666668, 1141.3046666666671, 1144.126166666667, 1146.91625, 1149.91825, 1153.0424166666667, 1155.6726666666664, 1157.9259999999997, 1159.7934999999998, 1161.3515833333333, 1163.3605833333336, 1165.9117500000002, 1168.4368333333334, 1170.9085833333334, 1173.308166666667, 1175.7980000000002, 1178.63625, 1182.0659166666667, 1186.3205833333336, 1190.6769166666668, 1195.3823333333335, 1201.3415000000005, 1208.443166666667, 1216.8735, 1226.4301666666665, 1236.3392499999998, 1245.1482499999997, 1253.2591666666665, 1261.9298333333331, 1270.6880833333332, 1280.4331666666665, 1292.622583333333, 1306.6698333333331, 1321.5121666666664, 1336.9159999999997, 1353.0296666666663, 1370.6159166666666, 1390.7829999999997, 1414.1539166666664, 1438.2899166666666, 1459.6794999999997, 1477.8728333333331, 1495.71775, 1515.3492499999998, 1535.0294166666663, 1554.6161666666662, 1575.7506666666666, 1597.803333333333, 1620.525583333333, 1643.8060833333332, 1668.0064166666664, 1694.5607499999999, 1721.3163333333334, 1747.3059999999998, 1773.9890833333334, 1801.38975, 1830.0017500000001, 1856.4707500000002, 1881.0991666666669, 1904.75125, 1925.6044166666668, 1946.3925000000004, 1968.9885833333335, 1991.7583333333337, 2014.0453333333337, 2037.8405000000002, 2062.085666666667, 2086.007416666667, 2110.319916666667, 2133.3060833333334, 2154.3971666666666, 2173.6740833333333, 2192.5503333333336, 2212.490916666667, 2232.4931666666666, 2251.2946666666667, 2268.1652500000005, 2284.4679166666674, 2301.1854166666667, 2318.493833333334, 2336.2002500000003, 2353.6501666666672, 2369.4514166666672, 2383.528333333333, 2396.74625, 2407.526416666667, 2417.126666666667, 2427.4829166666673, 2437.357833333334, 2446.102916666667, 2452.521333333334, 2455.6545833333344, 2458.9570000000003, 2464.511333333334, 2469.4663333333338, 2477.333416666667, 2487.5725000000007, 2496.4628333333335, 2503.6815833333335, 2509.47125, 2515.5601666666666, 2522.2320833333333, 2530.401666666667, 2539.0927500000007, 2547.753416666667, 2555.74775, 2562.9579166666667, 2568.7307500000006, 2572.3755833333335, 2576.040666666667, 2579.728666666667, 2584.5661666666674, 2592.3914166666673, 2601.84025, 2611.798666666667, 2620.567416666667, 2628.1318333333343, 2640.5177500000004, 2658.907500000001, 2681.8981666666673, 2710.9734166666676, 2740.5254166666673, 2768.666000000001, 2797.6696666666676, 2824.7120833333342, 2848.8201666666673, 2872.373500000001, 2895.150000000001, 2917.5705000000003, 2942.3800833333335, 2970.42725, 3001.5806666666676, 3033.2456666666667, 3063.6044166666666, 3094.026166666667, 3127.0665833333323, 3162.8334999999993, 3199.659583333332, 3238.0327499999994, 3274.348583333332, 3307.4987499999997, 3337.791999999999, 3367.5267499999995, 3400.4787499999993, 3435.0272499999996, 3468.7793333333325, 3501.4705, 3533.3284166666667, 3564.271166666666, 3595.9714999999997, 3627.275333333333, 3653.9987499999997, 3678.090333333333, 3701.9880833333327, 3725.335249999999, 3748.176583333333, 3769.470916666666, 3788.8575833333325, 3805.005916666666, 3819.2217499999997, 3836.540749999999, 3856.4266666666663, 3876.3381666666664, 3895.875333333333, 3917.3585833333327, 3941.5688333333333, 3964.563666666667, 3989.0122500000007, 4016.2763333333332, 4043.4375000000005, 4068.7680833333334, 4088.602, 4105.3585, 4122.347083333334, 4138.663416666667, 4157.265833333333, 4178.820916666667, 4199.7285833333335, 4217.858416666667, 4237.8618333333325, 4260.53575, 4285.2027499999995, 4309.346416666666, 4332.114166666666, 4356.702083333334, 4380.3765, 4404.81525, 4434.44475, 4466.838166666666, 4497.577083333333, 4525.446166666667, 4548.553499999999, 4569.743083333334, 4593.631833333333, 4617.797833333333, 4638.678999999999, 4660.781416666667, 4684.910416666667, 4708.812166666667, 4738.89375, 4776.411166666666, 4820.844166666667, 4870.1168333333335, 4918.373499999999, 4961.794666666667, 5004.811333333333, 5053.634416666667, 5103.736166666666, 5147.697666666666, 5185.156083333332, 5220.714666666665, 5264.821333333332, 5315.608249999999, 5369.7215, 5433.820916666666, 5498.5014999999985, 5561.000249999999, 5627.630916666666, 5700.586083333334, 5776.7091666666665, 5851.446083333334, 5925.063000000001, 5997.386833333335, 6073.471083333335, 6156.3855833333355, 6244.521166666667, 6337.915333333335, 6430.9760000000015, 6521.899000000002, 6620.771166666668, 6728.940916666668, 6843.613916666668, 6963.011333333335, 7084.070666666667, 7220.637166666667, 7392.777916666668, 7580.327916666668, 7751.751916666669, 7918.545750000002, 8099.109166666669, 8290.787666666669, 8475.858083333334, 8654.43516666667, 8843.683416666669, 9055.60741666667, 9281.364416666669, 9504.232250000003, 9710.876750000001, 9894.3875, 10063.00975, 10212.399833333333, 10354.295583333333, 10497.078333333331, 10633.058499999997, 10782.548999999997, 10945.696666666665, 11095.765666666664, 11234.460499999997, 11355.544916666664, 11466.457249999998, 11579.591499999999, 11696.547499999999, 11824.168583333332, 11953.088999999998, 12099.614083333332, 12265.344749999997, 12421.452833333333, 12558.986499999999, 12689.381916666665, 12826.44525, 12957.869749999998, 13079.399166666666, 13204.253083333333, 13320.442249999998, 13421.366583333333, 13500.948249999998, 13559.861333333332, 13614.076666666666, 13668.762833333334, 13734.995166666666, 13801.279, 13851.949083333333, 13896.819666666666, 13940.901999999998, 13978.294333333331, 14005.92008333333, 14030.833000000002, 14059.29325, 14085.993, 14090.185083333334, 14077.337083333334, 14051.367416666664, 14009.373083333334, 13966.028499999999, 13901.590833333332, 13781.455333333333, 13638.743416666668, 13515.904333333334, 13400.544916666666, 13275.008416666667, 13134.768333333333, 12993.112833333334, 12861.025333333335, 12722.072916666668, 12565.439416666668, 12409.578749999999, 12261.72125, 12134.71283333333, 12030.253249999998, 11941.825166666666, 11880.079083333332, 11822.472666666663, 11753.734499999997, 11687.145249999996, 11605.587249999995, 11506.91058333333, 11424.029833333332, 11357.490749999997, 11305.827166666664, 11262.281249999998, 11218.006666666664, 11170.06483333333, 11111.669999999998, 11049.864666666665, 10967.37183333333, 10856.190583333333, 10739.993499999999, 10636.385416666666, 10542.081083333333, 10450.593083333335, 10372.51475, 10299.684000000001, 10210.700499999999, 10116.445000000002, 10027.806583333331, 9953.275833333337, 9899.752666666669, 9854.094166666668, 9809.515000000001, 9755.422250000001, 9699.656916666667, 9660.240583333336, 9625.163916666668, 9581.39525, 9532.149916666667, 9479.552083333334, 9422.831999999999, 9355.600499999997, 9281.515083333332, 9220.414416666667, 9167.17475, 9122.98025, 9095.044500000002, 9063.336250000002, 9031.15991666667, 9015.755916666667, 9005.502333333336, 8993.210250000002, 8975.939583333335, 8947.91841666667, 8918.873166666668, 8904.507333333333, 8894.657333333333, 8881.894166666667, 8868.588500000002, 8842.980500000001, 8807.661166666667, 8764.522416666667, 8722.405416666666, 8685.422583333333, 8647.388416666668, 8615.120416666665, 8594.868999999999, 8583.816916666665, 8572.805499999999, 8563.394583333333, 8549.225833333332, 8527.510916666668, 8509.918500000002, 8488.52075, 8458.136833333332, 8423.398916666665, 8390.084416666668, 8360.946916666668, 8339.264166666666, 8329.356416666667, 8327.302166666666, 8326.803999999998, 8330.500583333333, 8330.403833333332, 8320.089416666666, 8308.685083333334, 8306.798083333331, 8313.983416666664, 8318.987916666667, 8324.714083333332, 8327.115583333334, 8322.728583333332, 8314.336916666667, 8305.554666666667, 8299.869416666666, 8289.59525, 8273.45975, 8257.69625, 8244.546166666669, 8234.842416666668, 8225.997500000001, 8221.215583333335, 8226.43075, 8235.026416666668, 8244.29966666667, 8253.852250000002, 8259.538666666667, 8269.0925, 8282.754333333332, 8297.048333333334, 8311.727416666667, 8323.566916666667, 8336.162583333333, 8348.670750000001, 8352.540166666664, 8342.140166666664, 8322.256666666666, 8296.943583333332, 8268.361083333333, 8240.330333333333, 8214.891666666666, 8188.911916666666, 8161.548166666666, 8130.772000000001, 8095.150749999999, 8059.9482499999995, 8018.711583333334, 7965.840499999999, 7914.543249999999, 7866.965666666665, 7817.8627499999975, 7767.164416666665, 7710.892083333332, 7656.169083333332, 7608.607833333333, 7562.322583333333, 7512.895666666666, 7460.885416666665, 7407.360333333333, 7354.63175, 7305.864666666666, 7262.712666666667, 7220.854666666667, 7179.708833333333, 7142.60875, 7107.428250000002, 7069.599916666668, 7028.711, 6989.619999999999, 6954.452499999999, 6926.719583333333, 6907.879333333333, 6892.989, 6877.007333333333, 6859.251333333333, 6845.370833333333, 6839.402999999999, 6839.580499999999, 6848.65875, 6863.590749999999, 6875.52875, 6889.4105, 6904.821083333334, 6918.148833333334, 6930.678416666667, 6938.047583333334, 6939.515166666667, 6937.7125, 6935.4833333333345, 6929.703916666666, 6919.372916666666, 6907.944416666665, 6894.131916666666, 6876.532999999999, 6864.743583333334, 6856.842166666667, 6848.125583333333, 6845.575916666667, 6842.443666666667, 6837.5254166666655, 6834.022416666666, 6831.101333333332, 6828.918833333331, 6824.991083333332, 6819.884499999997, 6813.790499999997, 6813.420249999997, 6818.3984999999975, 6823.049833333332, 6829.886666666665, 6839.1338333333315, 6849.445583333332, 6862.937583333333, 6878.932583333332, 6891.541916666666, 6902.202, 6910.8885, 6919.977583333333, 6931.625833333334, 6943.616333333334, 6955.970333333335, 6961.657833333334, 6959.282250000001, 6955.3775000000005, 6952.247166666666, 6950.1173333333345, 6949.5105, 6950.563166666667, 6951.750416666664, 6953.575833333332, 6952.732833333332, 6944.080499999999, 6930.1304999999975, 6912.778833333331, 6894.441916666666, 6877.785333333331, 6861.943666666664, 6846.507916666664, 6824.431416666665, 6798.031583333332, 6774.438999999999, 6748.487499999998, 6719.0803333333315, 6691.713249999998, 6666.204916666665, 6643.7505833333325, 6625.896583333331, 6609.682749999998, 6594.194999999998, 6582.118166666665, 6573.666166666665, 6566.816999999998, 6562.64983333333, 6563.840083333333, 6566.959916666665, 6571.434083333333, 6577.796666666665, 6579.084333333332, 6577.429499999999, 6577.211083333332, 6576.843999999999, 6577.7725833333325, 6578.605750000001, 6578.74525, 6579.0377499999995, 6579.810833333334, 6580.763833333333, 6581.154833333333, 6581.063833333333, 6578.016333333334, 6573.256333333334, 6568.357166666668, 6561.9295833333335, 6552.47475, 6541.923916666667, 6530.943, 6518.917083333335, 6505.453666666666, 6490.288583333333, 6474.949500000001, 6458.996, 6448.433916666667, 6445.696833333334, 6445.499333333333, 6448.702, 6452.9115833333335, 6454.731333333334, 6455.762666666667, 6456.867750000001, 6456.1033333333335, 6453.260916666667, 6444.196416666667, 6429.262250000001, 6415.713833333333, 6402.963000000001, 6389.400000000001, 6368.063916666667, 6333.486750000001, 6295.513500000002, 6257.436166666667, 6218.377583333335, 6177.676166666668, 6134.977250000002, 6089.578166666668, 6041.523250000001, 5998.479166666667, 5959.366583333333, 5918.157333333333, 5877.045833333334, 5837.918416666667, 5795.697166666666, 5750.795416666666, 5704.780333333333, 5654.993, 5602.024833333334, 5548.607833333334, 5497.194833333334, 5449.507416666668, 5402.992000000001, 5356.2184166666675, 5308.730666666667, 5256.976000000001, 5202.098750000001, 5147.278583333334, 5095.796166666667, 5048.929416666667, 5003.4425833333335, 4961.01625, 4920.051333333333, 4878.634749999999, 4838.085833333333, 4797.931083333333, 4756.400000000001, 4712.788583333333, 4667.675499999999, 4624.613833333333, 4583.9411666666665, 4542.482416666666, 4500.048916666666, 4457.150333333332, 4416.020833333333, 4373.9235, 4330.624249999999, 4287.258583333332, 4244.933749999999, 4204.650583333333, 4165.261583333333, 4126.274166666666, 4083.9454999999994, 4038.663166666666, 3994.088666666666, 3954.507999999999, 3921.066166666665, 3888.9559166666663, 3856.9101666666656, 3825.0596666666656, 3799.611916666666, 3784.6544999999996, 3770.6854166666667, 3756.0809166666663, 3743.9596666666666, 3735.9089999999997, 3730.7753333333335, 3726.2617499999997, 3722.9663333333338, 3715.3035833333333, 3702.748000000001, 3691.184166666667, 3680.5311666666666, 3668.9801666666667, 3660.0239999999994, 3653.0665833333333, 3647.0188333333335, 3644.497416666667, 3644.794666666666, 3644.957666666667, 3643.1417500000002, 3643.4075833333336, 3647.5260000000003, 3651.621416666667, 3656.1215000000007, 3662.164083333334, 3668.7191666666668, 3675.00475, 3678.53175, 3678.2817500000006, 3677.06575, 3674.99, 3673.7200833333327, 3673.5931666666665, 3672.9238333333324, 3672.0249166666663, 3673.9339999999993, 3677.0347499999993, 3679.3440833333334, 3680.3046666666664, 3679.770916666667, 3679.9405, 3680.7623333333336, 3681.5810833333344, 3680.51975, 3679.1239166666674, 3678.6144166666672, 3679.0433333333335, 3677.9384166666673, 3675.0427499999996, 3673.046083333333, 3671.625083333333, 3672.8295833333327, 3676.691749999999, 3680.5781666666658, 3685.4404999999992, 3690.2405833333323, 3695.729083333333, 3702.3914999999997, 3708.2942500000004, 3714.3827499999998, 3720.566166666667, 3727.270083333333, 3734.884916666667, 3742.165583333334, 3749.1523333333344, 3755.536416666667, 3761.3834166666675, 3768.103166666667, 3775.95125, 3785.458916666667, 3796.734416666667, 3808.0285833333337, 3819.3217500000005, 3836.143083333334, 3860.0128333333337, 3885.372166666667, 3911.072416666667, 3937.8684166666667, 3966.39125, 3997.1917499999995, 4026.0724999999993, 4053.1410833333325, 4079.1450833333324, 4103.218833333332, 4127.6059166666655, 4152.810833333332, 4178.009416666666, 4203.547749999999, 4230.411, 4257.70225, 4282.978083333333, 4306.381083333334, 4329.320250000001, 4352.337000000001, 4377.10375, 4401.412166666667, 4423.7545, 4446.368, 4469.831666666668, 4493.938166666668, 4517.814750000001, 4541.822250000001, 4567.25175, 4594.289083333334, 4624.7405, 4657.43175, 4689.703583333333, 4721.166250000001, 4753.2643333333335, 4786.560000000001, 4821.5995, 4860.334083333333, 4907.132583333333, 4960.175916666667, 5018.343583333333, 5083.726333333333, 5151.756666666665, 5218.928916666666, 5279.6865, 5334.9096666666655, 5395.191416666667, 5460.853583333333, 5526.577416666666, 5590.263416666666, 5652.8166666666675, 5718.428666666668, 5786.646500000001, 5858.6855, 5935.956, 6013.867000000002, 6089.845250000001, 6163.342083333334, 6235.118250000001, 6302.562000000002, 6364.789500000001, 6423.2290833333345, 6473.500500000001, 6518.558916666666, 6562.3525, 6606.194749999999, 6651.387249999998, 6693.7765833333315, 6736.922666666664, 6784.054333333332, 6833.019749999998, 6883.865666666664, 6938.796583333331, 6998.456416666665, 7060.391999999998, 7125.311666666665, 7190.515999999999, 7254.984416666666, 7322.395499999999, 7396.254499999999, 7478.180166666666, 7566.113833333333, 7659.028999999999, 7759.622666666666, 7875.4725, 7990.474666666666, 8098.597166666666, 8209.31675, 8311.412, 8401.526583333334, 8484.497916666667, 8574.2085, 8669.666333333334, 8760.185000000001, 8849.807833333334, 8940.804416666668, 9036.026166666668, 9137.148833333335, 9231.934583333335, 9311.568000000001, 9381.263500000003, 9442.604416666669, 9490.545416666666, 9533.333916666668, 9576.934083333332, 9616.83775, 9655.627583333331, 9696.427749999999, 9740.993916666665, 9788.315833333334, 9833.538416666668, 9871.164583333335, 9901.600583333335, 9927.194250000002, 9947.239583333336, 9963.497083333335, 9978.065916666668, 9994.17825, 10012.958000000004, 10034.311666666668, 10059.385583333336, 10091.453250000002, 10135.620916666669, 10186.977333333334, 10245.540916666667, 10308.410333333335, 10371.621833333335, 10439.446833333333, 10507.318416666669, 10569.699250000001, 10626.923666666666, 10681.171916666668, 10727.755583333335, 10759.507333333335, 10780.42475, 10797.754583333335, 10815.091916666668, 10833.30475, 10853.007833333333, 10869.656333333332, 10871.890333333333, 10861.323083333333, 10849.421166666665, 10832.696083333332, 10798.683666666664, 10767.109916666666, 10742.900916666664, 10710.951166666664, 10680.608166666665, 10658.64258333333, 10641.759416666666, 10617.096833333333, 10591.591916666664, 10578.56258333333, 10568.737666666666, 10555.820666666663, 10535.11708333333, 10504.380416666663, 10472.114999999996, 10447.515249999999, 10425.39683333333, 10402.45575, 10390.810416666665, 10386.15225, 10387.434083333332, 10397.835333333333, 10402.973583333332, 10399.861499999997, 10392.578666666665, 10384.057916666665, 10379.028916666664, 10378.133999999996, 10380.810499999996, 10381.62733333333, 10371.278916666663, 10352.60108333333, 10331.535249999997, 10308.609999999997, 10285.581166666663, 10258.252749999996, 10224.725249999998, 10188.978499999997, 10150.669666666663, 10108.274333333333, 10056.989416666665, 9998.800499999998, 9936.853499999997, 9872.653666666663, 9810.92975, 9756.055583333335, 9707.703833333333, 9658.898500000001, 9611.835083333335, 9573.732083333334, 9542.791666666668, 9510.768333333333, 9475.418750000003, 9438.333916666668, 9396.253416666666, 9349.735916666667, 9309.381833333335, 9277.048833333334, 9243.218416666665, 9203.104666666666, 9159.200166666666, 9120.036333333332, 9096.815999999999, 9087.693083333334, 9084.118666666667, 9081.648833333335, 9076.835000000003, 9068.927333333337, 9055.741583333336, 9036.578333333335, 9014.536333333335, 8993.304166666667, 8974.260083333334, 8955.711916666667, 8936.46225, 8914.444916666669, 8891.376416666668, 8871.085500000001, 8848.808333333334, 8822.969583333334, 8796.94475, 8769.924666666668, 8741.728833333333, 8713.076583333332, 8685.044416666664, 8655.34433333333, 8622.185166666666, 8589.087416666664, 8553.985499999999, 8514.04875, 8481.270416666664, 8457.218083333333, 8436.581333333332, 8419.934249999998, 8405.187999999998, 8393.524166666666, 8384.704583333332, 8374.629083333333, 8360.7435, 8345.276333333331, 8330.666583333334, 8317.122833333335, 8305.769666666667, 8295.946833333333, 8285.193500000001, 8271.378833333332, 8253.460166666666, 8234.205666666667, 8215.305333333334, 8196.795666666667, 8178.5796666666665, 8160.371916666666, 8143.645833333332, 8126.832749999999, 8106.972499999999, 8089.2013333333325, 8073.810583333332, 8056.758666666667, 8040.085749999999, 8030.935083333333, 8029.32, 8019.809333333333, 7992.190083333332, 7954.959333333333, 7917.900083333334, 7882.397583333334, 7850.201000000001, 7819.272083333335, 7786.389666666668, 7751.833666666667, 7715.70625, 7679.263833333334, 7644.777333333334, 7611.848083333334, 7582.541249999999, 7562.99725, 7550.482999999999, 7535.065833333333, 7519.523333333333, 7507.830416666667, 7496.752999999999, 7486.803749999999, 7483.274583333333, 7486.645083333333, 7490.651333333331, 7497.647833333333, 7509.4785, 7521.420166666665, 7534.590083333333, 7553.957749999999, 7577.133999999999, 7600.464916666666, 7623.483916666665, 7644.420166666665, 7663.459666666667, 7684.124333333332, 7708.473499999998, 7735.714583333332, 7766.727499999999, 7800.551833333331, 7834.747083333332, 7868.5639999999985, 7901.785666666666, 7932.3859999999995, 7963.039083333331, 7998.060083333332, 8036.347499999999, 8077.859333333332, 8123.544249999999, 8170.18325, 8216.930416666666, 8268.158249999999, 8321.392749999999, 8375.561249999999, 8431.026166666665, 8481.4905, 8525.556916666666, 8570.72783333333, 8616.044416666666, 8655.226916666665, 8692.184416666665, 8731.032583333332, 8773.447166666667, 8816.495333333334, 8855.16725, 8886.614416666667, 8911.390666666668, 8934.813583333334, 8958.43525, 8981.577333333333, 9008.182749999998, 9036.204999999998, 9060.883999999998, 9086.404499999999, 9112.240416666664, 9131.963083333332, 9140.811000000002, 9142.677500000002, 9142.106000000002, 9139.208250000003, 9116.32291666667, 9071.708750000002, 9020.105166666666, 8964.317333333334, 8905.471916666667, 8844.53658333333, 8785.012166666666, 8732.362916666665, 8689.857833333333, 8649.496833333333, null, null, null, null, null, null, null, null, null, null, null, null, null, null, null, null, null, null, null, null, null, null, null, null, null, null, null, null, null, null]}, {\"line\": {\"color\": \"rgb(66, 244, 155)\", \"width\": 2}, \"mode\": \"lines\", \"name\": \"Seasonal\", \"type\": \"scatter\", \"x\": [0, 1, 2, 3, 4, 5, 6, 7, 8, 9, 10, 11, 12, 13, 14, 15, 16, 17, 18, 19, 20, 21, 22, 23, 24, 25, 26, 27, 28, 29, 30, 31, 32, 33, 34, 35, 36, 37, 38, 39, 40, 41, 42, 43, 44, 45, 46, 47, 48, 49, 50, 51, 52, 53, 54, 55, 56, 57, 58, 59, 60, 61, 62, 63, 64, 65, 66, 67, 68, 69, 70, 71, 72, 73, 74, 75, 76, 77, 78, 79, 80, 81, 82, 83, 84, 85, 86, 87, 88, 89, 90, 91, 92, 93, 94, 95, 96, 97, 98, 99, 100, 101, 102, 103, 104, 105, 106, 107, 108, 109, 110, 111, 112, 113, 114, 115, 116, 117, 118, 119, 120, 121, 122, 123, 124, 125, 126, 127, 128, 129, 130, 131, 132, 133, 134, 135, 136, 137, 138, 139, 140, 141, 142, 143, 144, 145, 146, 147, 148, 149, 150, 151, 152, 153, 154, 155, 156, 157, 158, 159, 160, 161, 162, 163, 164, 165, 166, 167, 168, 169, 170, 171, 172, 173, 174, 175, 176, 177, 178, 179, 180, 181, 182, 183, 184, 185, 186, 187, 188, 189, 190, 191, 192, 193, 194, 195, 196, 197, 198, 199, 200, 201, 202, 203, 204, 205, 206, 207, 208, 209, 210, 211, 212, 213, 214, 215, 216, 217, 218, 219, 220, 221, 222, 223, 224, 225, 226, 227, 228, 229, 230, 231, 232, 233, 234, 235, 236, 237, 238, 239, 240, 241, 242, 243, 244, 245, 246, 247, 248, 249, 250, 251, 252, 253, 254, 255, 256, 257, 258, 259, 260, 261, 262, 263, 264, 265, 266, 267, 268, 269, 270, 271, 272, 273, 274, 275, 276, 277, 278, 279, 280, 281, 282, 283, 284, 285, 286, 287, 288, 289, 290, 291, 292, 293, 294, 295, 296, 297, 298, 299, 300, 301, 302, 303, 304, 305, 306, 307, 308, 309, 310, 311, 312, 313, 314, 315, 316, 317, 318, 319, 320, 321, 322, 323, 324, 325, 326, 327, 328, 329, 330, 331, 332, 333, 334, 335, 336, 337, 338, 339, 340, 341, 342, 343, 344, 345, 346, 347, 348, 349, 350, 351, 352, 353, 354, 355, 356, 357, 358, 359, 360, 361, 362, 363, 364, 365, 366, 367, 368, 369, 370, 371, 372, 373, 374, 375, 376, 377, 378, 379, 380, 381, 382, 383, 384, 385, 386, 387, 388, 389, 390, 391, 392, 393, 394, 395, 396, 397, 398, 399, 400, 401, 402, 403, 404, 405, 406, 407, 408, 409, 410, 411, 412, 413, 414, 415, 416, 417, 418, 419, 420, 421, 422, 423, 424, 425, 426, 427, 428, 429, 430, 431, 432, 433, 434, 435, 436, 437, 438, 439, 440, 441, 442, 443, 444, 445, 446, 447, 448, 449, 450, 451, 452, 453, 454, 455, 456, 457, 458, 459, 460, 461, 462, 463, 464, 465, 466, 467, 468, 469, 470, 471, 472, 473, 474, 475, 476, 477, 478, 479, 480, 481, 482, 483, 484, 485, 486, 487, 488, 489, 490, 491, 492, 493, 494, 495, 496, 497, 498, 499, 500, 501, 502, 503, 504, 505, 506, 507, 508, 509, 510, 511, 512, 513, 514, 515, 516, 517, 518, 519, 520, 521, 522, 523, 524, 525, 526, 527, 528, 529, 530, 531, 532, 533, 534, 535, 536, 537, 538, 539, 540, 541, 542, 543, 544, 545, 546, 547, 548, 549, 550, 551, 552, 553, 554, 555, 556, 557, 558, 559, 560, 561, 562, 563, 564, 565, 566, 567, 568, 569, 570, 571, 572, 573, 574, 575, 576, 577, 578, 579, 580, 581, 582, 583, 584, 585, 586, 587, 588, 589, 590, 591, 592, 593, 594, 595, 596, 597, 598, 599, 600, 601, 602, 603, 604, 605, 606, 607, 608, 609, 610, 611, 612, 613, 614, 615, 616, 617, 618, 619, 620, 621, 622, 623, 624, 625, 626, 627, 628, 629, 630, 631, 632, 633, 634, 635, 636, 637, 638, 639, 640, 641, 642, 643, 644, 645, 646, 647, 648, 649, 650, 651, 652, 653, 654, 655, 656, 657, 658, 659, 660, 661, 662, 663, 664, 665, 666, 667, 668, 669, 670, 671, 672, 673, 674, 675, 676, 677, 678, 679, 680, 681, 682, 683, 684, 685, 686, 687, 688, 689, 690, 691, 692, 693, 694, 695, 696, 697, 698, 699, 700, 701, 702, 703, 704, 705, 706, 707, 708, 709, 710, 711, 712, 713, 714, 715, 716, 717, 718, 719, 720, 721, 722, 723, 724, 725, 726, 727, 728, 729, 730, 731, 732, 733, 734, 735, 736, 737, 738, 739, 740, 741, 742, 743, 744, 745, 746, 747, 748, 749, 750, 751, 752, 753, 754, 755, 756, 757, 758, 759, 760, 761, 762, 763, 764, 765, 766, 767, 768, 769, 770, 771, 772, 773, 774, 775, 776, 777, 778, 779, 780, 781, 782, 783, 784, 785, 786, 787, 788, 789, 790, 791, 792, 793, 794, 795, 796, 797, 798, 799, 800, 801, 802, 803, 804, 805, 806, 807, 808, 809, 810, 811, 812, 813, 814, 815, 816, 817, 818, 819, 820, 821, 822, 823, 824, 825, 826, 827, 828, 829, 830, 831, 832, 833, 834, 835, 836, 837, 838, 839, 840, 841, 842, 843, 844, 845, 846, 847, 848, 849, 850, 851, 852, 853, 854, 855, 856, 857, 858, 859, 860, 861, 862, 863, 864, 865, 866, 867, 868, 869, 870, 871, 872, 873, 874, 875, 876, 877, 878, 879, 880, 881, 882, 883, 884, 885, 886, 887, 888, 889, 890, 891, 892, 893, 894, 895, 896, 897, 898, 899, 900, 901, 902, 903, 904, 905, 906, 907, 908, 909, 910, 911, 912, 913, 914, 915, 916, 917, 918, 919, 920, 921, 922, 923, 924, 925, 926, 927, 928, 929, 930, 931, 932, 933, 934, 935, 936, 937, 938, 939, 940, 941, 942, 943, 944, 945, 946, 947, 948, 949, 950, 951, 952, 953, 954, 955, 956, 957, 958, 959, 960, 961, 962, 963, 964, 965, 966, 967, 968, 969, 970, 971, 972, 973, 974, 975, 976, 977, 978, 979, 980, 981, 982, 983, 984, 985, 986, 987, 988, 989, 990, 991, 992, 993, 994, 995, 996, 997, 998, 999, 1000, 1001, 1002, 1003, 1004, 1005, 1006, 1007, 1008, 1009, 1010, 1011, 1012, 1013, 1014, 1015, 1016, 1017, 1018, 1019, 1020, 1021, 1022, 1023, 1024, 1025, 1026, 1027, 1028, 1029, 1030, 1031, 1032, 1033, 1034, 1035, 1036, 1037, 1038, 1039, 1040, 1041, 1042, 1043, 1044, 1045, 1046, 1047, 1048, 1049, 1050, 1051, 1052, 1053, 1054, 1055, 1056, 1057, 1058, 1059, 1060, 1061, 1062, 1063, 1064, 1065, 1066, 1067, 1068, 1069, 1070, 1071, 1072, 1073, 1074, 1075, 1076, 1077, 1078, 1079, 1080, 1081, 1082, 1083, 1084, 1085, 1086, 1087, 1088, 1089, 1090, 1091, 1092, 1093, 1094, 1095, 1096, 1097, 1098, 1099, 1100, 1101, 1102, 1103, 1104, 1105, 1106, 1107, 1108, 1109, 1110, 1111, 1112, 1113, 1114, 1115, 1116, 1117, 1118, 1119, 1120, 1121, 1122, 1123, 1124, 1125, 1126, 1127, 1128, 1129, 1130, 1131, 1132, 1133, 1134, 1135, 1136, 1137, 1138, 1139, 1140, 1141, 1142, 1143, 1144, 1145, 1146, 1147, 1148, 1149, 1150, 1151, 1152, 1153, 1154, 1155, 1156, 1157, 1158, 1159, 1160, 1161, 1162, 1163, 1164, 1165, 1166, 1167, 1168, 1169, 1170, 1171, 1172, 1173, 1174, 1175, 1176, 1177, 1178, 1179, 1180, 1181, 1182, 1183, 1184, 1185, 1186, 1187, 1188, 1189, 1190, 1191, 1192, 1193, 1194, 1195, 1196, 1197, 1198, 1199, 1200, 1201, 1202, 1203, 1204, 1205, 1206, 1207, 1208, 1209, 1210, 1211, 1212, 1213, 1214, 1215, 1216, 1217, 1218, 1219, 1220, 1221, 1222, 1223, 1224, 1225, 1226, 1227, 1228, 1229, 1230, 1231, 1232, 1233, 1234, 1235, 1236, 1237, 1238, 1239, 1240, 1241, 1242, 1243, 1244, 1245, 1246, 1247, 1248, 1249, 1250, 1251, 1252, 1253, 1254, 1255, 1256, 1257, 1258, 1259, 1260, 1261, 1262, 1263, 1264, 1265, 1266, 1267, 1268, 1269, 1270, 1271, 1272, 1273, 1274, 1275, 1276, 1277, 1278, 1279, 1280, 1281, 1282, 1283, 1284, 1285, 1286, 1287, 1288, 1289, 1290, 1291, 1292, 1293, 1294, 1295, 1296, 1297, 1298, 1299, 1300, 1301, 1302, 1303, 1304, 1305, 1306, 1307, 1308, 1309, 1310, 1311, 1312, 1313, 1314, 1315, 1316, 1317, 1318, 1319, 1320, 1321, 1322, 1323, 1324, 1325, 1326, 1327, 1328, 1329, 1330, 1331, 1332, 1333, 1334, 1335, 1336, 1337, 1338, 1339, 1340, 1341, 1342, 1343, 1344, 1345, 1346, 1347, 1348, 1349, 1350, 1351, 1352, 1353, 1354, 1355, 1356, 1357, 1358, 1359, 1360, 1361, 1362, 1363, 1364, 1365, 1366, 1367, 1368, 1369, 1370, 1371, 1372, 1373, 1374, 1375, 1376, 1377, 1378, 1379, 1380, 1381, 1382, 1383, 1384, 1385, 1386, 1387, 1388, 1389, 1390, 1391, 1392, 1393, 1394, 1395, 1396, 1397, 1398, 1399, 1400, 1401, 1402, 1403, 1404, 1405, 1406, 1407, 1408, 1409, 1410, 1411, 1412, 1413, 1414, 1415, 1416, 1417, 1418, 1419, 1420, 1421, 1422, 1423, 1424, 1425, 1426, 1427, 1428, 1429, 1430, 1431, 1432, 1433, 1434, 1435, 1436, 1437, 1438, 1439, 1440, 1441, 1442, 1443, 1444, 1445, 1446, 1447, 1448, 1449, 1450, 1451, 1452, 1453, 1454, 1455, 1456, 1457, 1458, 1459, 1460, 1461, 1462, 1463, 1464, 1465, 1466, 1467, 1468, 1469, 1470, 1471, 1472, 1473, 1474, 1475, 1476, 1477, 1478, 1479, 1480, 1481, 1482, 1483, 1484, 1485, 1486, 1487, 1488, 1489, 1490, 1491, 1492, 1493, 1494, 1495, 1496, 1497, 1498, 1499, 1500, 1501, 1502, 1503, 1504, 1505, 1506, 1507, 1508, 1509, 1510, 1511, 1512, 1513, 1514, 1515, 1516, 1517, 1518, 1519, 1520, 1521, 1522, 1523, 1524, 1525, 1526, 1527, 1528, 1529, 1530, 1531, 1532, 1533, 1534, 1535, 1536, 1537, 1538, 1539, 1540, 1541, 1542, 1543, 1544, 1545, 1546, 1547, 1548, 1549, 1550, 1551, 1552, 1553, 1554, 1555, 1556, 1557, 1558, 1559, 1560, 1561, 1562, 1563, 1564, 1565, 1566, 1567, 1568, 1569, 1570, 1571, 1572, 1573, 1574, 1575, 1576, 1577, 1578, 1579, 1580, 1581, 1582, 1583, 1584, 1585, 1586, 1587, 1588, 1589, 1590, 1591, 1592, 1593, 1594, 1595, 1596, 1597, 1598, 1599, 1600, 1601, 1602, 1603, 1604, 1605, 1606, 1607, 1608, 1609, 1610, 1611, 1612, 1613, 1614, 1615, 1616, 1617, 1618, 1619, 1620, 1621, 1622, 1623, 1624, 1625, 1626, 1627, 1628, 1629, 1630, 1631, 1632, 1633, 1634, 1635, 1636, 1637, 1638, 1639, 1640, 1641, 1642, 1643, 1644, 1645, 1646, 1647, 1648, 1649, 1650, 1651, 1652, 1653, 1654, 1655, 1656, 1657, 1658, 1659, 1660, 1661, 1662, 1663, 1664, 1665, 1666, 1667, 1668, 1669, 1670, 1671, 1672, 1673, 1674, 1675, 1676, 1677, 1678, 1679, 1680, 1681, 1682, 1683, 1684, 1685, 1686, 1687, 1688, 1689, 1690, 1691, 1692, 1693, 1694, 1695, 1696, 1697, 1698, 1699, 1700, 1701, 1702, 1703, 1704, 1705, 1706, 1707, 1708, 1709, 1710, 1711, 1712, 1713, 1714, 1715, 1716, 1717, 1718, 1719, 1720, 1721, 1722, 1723, 1724, 1725, 1726, 1727, 1728, 1729, 1730, 1731, 1732, 1733, 1734, 1735, 1736, 1737, 1738, 1739, 1740, 1741, 1742, 1743, 1744, 1745, 1746, 1747, 1748, 1749, 1750, 1751, 1752, 1753, 1754, 1755, 1756, 1757, 1758, 1759, 1760, 1761, 1762, 1763, 1764, 1765, 1766, 1767, 1768, 1769, 1770, 1771, 1772, 1773, 1774, 1775, 1776, 1777, 1778, 1779, 1780, 1781, 1782, 1783, 1784, 1785, 1786, 1787, 1788, 1789, 1790, 1791, 1792, 1793, 1794, 1795, 1796, 1797, 1798, 1799, 1800, 1801, 1802, 1803, 1804, 1805, 1806, 1807, 1808, 1809, 1810, 1811, 1812, 1813, 1814, 1815, 1816, 1817, 1818, 1819, 1820, 1821, 1822, 1823, 1824, 1825, 1826, 1827, 1828, 1829, 1830, 1831, 1832, 1833, 1834, 1835, 1836, 1837, 1838, 1839, 1840, 1841, 1842, 1843, 1844, 1845, 1846, 1847, 1848, 1849, 1850, 1851, 1852, 1853, 1854, 1855, 1856, 1857, 1858, 1859, 1860, 1861, 1862, 1863, 1864, 1865, 1866, 1867, 1868, 1869, 1870, 1871, 1872, 1873, 1874, 1875, 1876, 1877, 1878, 1879, 1880, 1881, 1882, 1883, 1884, 1885, 1886, 1887, 1888, 1889, 1890, 1891, 1892, 1893, 1894, 1895, 1896, 1897, 1898, 1899, 1900, 1901, 1902, 1903, 1904, 1905, 1906, 1907, 1908, 1909, 1910, 1911, 1912, 1913, 1914, 1915, 1916, 1917, 1918, 1919, 1920, 1921, 1922, 1923, 1924, 1925, 1926, 1927, 1928, 1929, 1930, 1931, 1932, 1933, 1934, 1935, 1936, 1937, 1938, 1939, 1940, 1941, 1942, 1943, 1944, 1945, 1946, 1947, 1948, 1949, 1950, 1951, 1952, 1953, 1954, 1955, 1956, 1957, 1958, 1959, 1960, 1961, 1962, 1963, 1964, 1965, 1966, 1967, 1968, 1969, 1970, 1971, 1972, 1973, 1974, 1975, 1976, 1977, 1978, 1979, 1980, 1981, 1982, 1983, 1984, 1985, 1986, 1987, 1988, 1989, 1990, 1991, 1992, 1993, 1994, 1995, 1996, 1997, 1998, 1999, 2000, 2001, 2002, 2003, 2004, 2005, 2006, 2007, 2008, 2009, 2010, 2011, 2012, 2013, 2014, 2015, 2016, 2017, 2018, 2019, 2020, 2021, 2022, 2023, 2024, 2025, 2026, 2027, 2028, 2029, 2030, 2031, 2032, 2033, 2034, 2035, 2036, 2037, 2038, 2039, 2040, 2041, 2042, 2043, 2044, 2045, 2046, 2047, 2048, 2049, 2050, 2051, 2052, 2053, 2054, 2055, 2056, 2057, 2058, 2059, 2060, 2061, 2062, 2063, 2064, 2065, 2066, 2067, 2068, 2069, 2070, 2071, 2072, 2073, 2074, 2075, 2076, 2077, 2078, 2079, 2080, 2081, 2082, 2083, 2084, 2085, 2086, 2087, 2088, 2089, 2090, 2091, 2092, 2093, 2094, 2095, 2096, 2097, 2098, 2099, 2100, 2101, 2102, 2103, 2104, 2105, 2106, 2107, 2108, 2109, 2110, 2111, 2112, 2113, 2114, 2115, 2116, 2117, 2118, 2119, 2120, 2121, 2122, 2123, 2124, 2125, 2126, 2127, 2128, 2129, 2130, 2131, 2132, 2133, 2134, 2135, 2136, 2137, 2138, 2139, 2140, 2141, 2142, 2143, 2144, 2145, 2146, 2147, 2148, 2149, 2150, 2151, 2152, 2153, 2154, 2155, 2156, 2157, 2158, 2159, 2160, 2161, 2162, 2163, 2164, 2165, 2166, 2167, 2168, 2169, 2170, 2171, 2172, 2173, 2174, 2175, 2176, 2177, 2178, 2179, 2180, 2181, 2182, 2183, 2184, 2185, 2186, 2187, 2188, 2189, 2190, 2191, 2192, 2193, 2194, 2195, 2196, 2197, 2198, 2199, 2200, 2201, 2202, 2203, 2204, 2205, 2206, 2207, 2208, 2209, 2210, 2211, 2212, 2213, 2214, 2215, 2216, 2217, 2218, 2219, 2220, 2221, 2222, 2223, 2224, 2225, 2226, 2227, 2228, 2229, 2230, 2231, 2232, 2233, 2234, 2235, 2236, 2237, 2238, 2239, 2240, 2241, 2242, 2243, 2244, 2245, 2246, 2247, 2248, 2249, 2250, 2251, 2252, 2253, 2254, 2255, 2256, 2257, 2258, 2259, 2260, 2261, 2262, 2263, 2264, 2265, 2266, 2267, 2268, 2269, 2270, 2271, 2272, 2273, 2274, 2275, 2276, 2277, 2278, 2279, 2280, 2281, 2282, 2283, 2284, 2285, 2286, 2287, 2288, 2289, 2290, 2291, 2292, 2293, 2294, 2295, 2296, 2297, 2298, 2299, 2300, 2301, 2302, 2303, 2304, 2305, 2306, 2307, 2308, 2309, 2310, 2311, 2312, 2313, 2314, 2315, 2316, 2317, 2318, 2319, 2320, 2321, 2322, 2323, 2324, 2325, 2326, 2327, 2328, 2329, 2330, 2331, 2332, 2333, 2334, 2335, 2336, 2337, 2338, 2339, 2340, 2341, 2342, 2343, 2344, 2345, 2346, 2347, 2348, 2349, 2350, 2351, 2352, 2353, 2354, 2355, 2356, 2357, 2358, 2359, 2360, 2361, 2362, 2363, 2364, 2365, 2366, 2367, 2368, 2369, 2370, 2371, 2372, 2373, 2374, 2375, 2376, 2377, 2378, 2379, 2380, 2381, 2382, 2383, 2384, 2385, 2386, 2387, 2388, 2389, 2390, 2391, 2392, 2393, 2394, 2395, 2396, 2397, 2398, 2399, 2400, 2401, 2402, 2403, 2404, 2405, 2406, 2407, 2408, 2409, 2410, 2411, 2412, 2413, 2414, 2415, 2416, 2417, 2418, 2419, 2420, 2421, 2422, 2423, 2424, 2425, 2426, 2427, 2428, 2429, 2430, 2431, 2432, 2433, 2434, 2435, 2436, 2437, 2438, 2439, 2440, 2441, 2442, 2443, 2444, 2445, 2446, 2447, 2448, 2449, 2450, 2451, 2452, 2453, 2454, 2455, 2456, 2457, 2458, 2459, 2460, 2461, 2462, 2463, 2464, 2465, 2466, 2467, 2468, 2469, 2470, 2471, 2472, 2473, 2474, 2475, 2476, 2477, 2478, 2479, 2480, 2481, 2482, 2483, 2484, 2485, 2486, 2487, 2488, 2489, 2490, 2491, 2492, 2493, 2494, 2495, 2496, 2497, 2498, 2499, 2500, 2501, 2502, 2503, 2504, 2505, 2506, 2507, 2508, 2509, 2510, 2511, 2512, 2513, 2514, 2515, 2516, 2517, 2518, 2519, 2520, 2521, 2522, 2523, 2524, 2525, 2526, 2527, 2528, 2529, 2530, 2531, 2532, 2533, 2534, 2535, 2536, 2537, 2538, 2539, 2540, 2541, 2542, 2543, 2544, 2545, 2546, 2547, 2548, 2549, 2550, 2551, 2552, 2553, 2554, 2555, 2556, 2557, 2558, 2559, 2560, 2561, 2562, 2563, 2564, 2565, 2566, 2567, 2568, 2569, 2570, 2571, 2572, 2573, 2574, 2575, 2576, 2577, 2578, 2579, 2580, 2581, 2582, 2583, 2584, 2585, 2586, 2587, 2588, 2589, 2590, 2591, 2592, 2593, 2594, 2595, 2596, 2597, 2598, 2599, 2600, 2601, 2602, 2603, 2604, 2605, 2606, 2607, 2608, 2609, 2610, 2611, 2612, 2613, 2614, 2615, 2616, 2617, 2618, 2619, 2620, 2621, 2622, 2623, 2624, 2625, 2626, 2627, 2628, 2629, 2630, 2631, 2632, 2633, 2634, 2635, 2636, 2637, 2638, 2639, 2640, 2641, 2642, 2643, 2644, 2645, 2646, 2647, 2648, 2649, 2650, 2651, 2652, 2653, 2654, 2655, 2656, 2657, 2658, 2659, 2660, 2661, 2662, 2663, 2664, 2665, 2666, 2667, 2668, 2669, 2670, 2671, 2672, 2673, 2674, 2675, 2676, 2677, 2678, 2679, 2680, 2681, 2682, 2683, 2684, 2685, 2686, 2687, 2688, 2689, 2690, 2691, 2692, 2693, 2694, 2695, 2696, 2697, 2698, 2699, 2700, 2701, 2702, 2703, 2704, 2705, 2706, 2707, 2708, 2709, 2710, 2711, 2712, 2713, 2714, 2715, 2716, 2717, 2718, 2719, 2720, 2721, 2722, 2723, 2724, 2725, 2726, 2727, 2728, 2729, 2730, 2731, 2732, 2733, 2734, 2735, 2736, 2737, 2738, 2739, 2740, 2741, 2742, 2743, 2744, 2745, 2746, 2747, 2748, 2749, 2750, 2751, 2752, 2753, 2754, 2755, 2756, 2757, 2758, 2759, 2760, 2761, 2762, 2763, 2764, 2765, 2766, 2767, 2768, 2769, 2770, 2771, 2772, 2773, 2774, 2775, 2776, 2777, 2778, 2779, 2780, 2781, 2782, 2783, 2784, 2785, 2786, 2787, 2788, 2789, 2790, 2791, 2792, 2793, 2794, 2795, 2796, 2797, 2798, 2799, 2800, 2801, 2802, 2803, 2804, 2805, 2806, 2807, 2808, 2809, 2810, 2811, 2812, 2813, 2814, 2815, 2816, 2817, 2818, 2819, 2820, 2821, 2822, 2823, 2824, 2825, 2826, 2827, 2828, 2829, 2830, 2831, 2832, 2833, 2834, 2835, 2836, 2837, 2838, 2839, 2840, 2841, 2842, 2843, 2844, 2845, 2846, 2847, 2848, 2849, 2850, 2851, 2852, 2853, 2854, 2855, 2856, 2857, 2858, 2859, 2860, 2861, 2862, 2863, 2864, 2865, 2866, 2867, 2868, 2869, 2870, 2871, 2872, 2873, 2874, 2875, 2876, 2877, 2878, 2879, 2880, 2881, 2882, 2883, 2884, 2885, 2886, 2887, 2888, 2889, 2890, 2891, 2892, 2893, 2894, 2895, 2896, 2897, 2898, 2899, 2900, 2901, 2902, 2903, 2904, 2905, 2906, 2907, 2908, 2909, 2910, 2911, 2912, 2913, 2914, 2915, 2916, 2917, 2918, 2919, 2920, 2921, 2922, 2923, 2924, 2925, 2926, 2927, 2928, 2929, 2930, 2931, 2932, 2933, 2934, 2935, 2936, 2937, 2938, 2939, 2940, 2941, 2942, 2943, 2944, 2945, 2946, 2947, 2948, 2949, 2950, 2951, 2952, 2953, 2954, 2955, 2956, 2957, 2958, 2959, 2960, 2961, 2962, 2963, 2964, 2965, 2966, 2967, 2968, 2969, 2970, 2971, 2972, 2973, 2974, 2975, 2976, 2977, 2978, 2979, 2980, 2981, 2982, 2983, 2984, 2985, 2986, 2987, 2988, 2989, 2990, 2991, 2992, 2993, 2994, 2995, 2996, 2997, 2998, 2999, 3000, 3001, 3002, 3003, 3004, 3005, 3006, 3007, 3008, 3009, 3010, 3011, 3012, 3013, 3014, 3015, 3016, 3017, 3018, 3019, 3020, 3021, 3022, 3023, 3024, 3025, 3026, 3027, 3028, 3029, 3030, 3031, 3032, 3033, 3034, 3035, 3036, 3037, 3038, 3039, 3040, 3041, 3042, 3043, 3044, 3045, 3046, 3047, 3048, 3049, 3050, 3051, 3052, 3053, 3054, 3055, 3056, 3057, 3058, 3059, 3060, 3061, 3062, 3063, 3064, 3065, 3066, 3067, 3068, 3069, 3070, 3071, 3072, 3073, 3074, 3075, 3076, 3077, 3078, 3079, 3080, 3081, 3082, 3083, 3084, 3085, 3086, 3087, 3088, 3089, 3090, 3091, 3092, 3093, 3094, 3095, 3096, 3097, 3098, 3099, 3100, 3101, 3102, 3103, 3104, 3105, 3106, 3107, 3108, 3109, 3110, 3111, 3112, 3113, 3114, 3115, 3116, 3117, 3118, 3119, 3120, 3121, 3122, 3123, 3124, 3125, 3126, 3127, 3128, 3129, 3130, 3131, 3132, 3133, 3134, 3135, 3136, 3137, 3138, 3139, 3140, 3141, 3142, 3143, 3144, 3145, 3146, 3147, 3148, 3149, 3150, 3151, 3152, 3153, 3154, 3155, 3156, 3157, 3158, 3159, 3160, 3161, 3162, 3163, 3164, 3165, 3166, 3167, 3168, 3169, 3170, 3171, 3172, 3173, 3174, 3175, 3176, 3177, 3178, 3179, 3180, 3181, 3182, 3183, 3184, 3185, 3186, 3187, 3188, 3189, 3190, 3191, 3192, 3193, 3194, 3195, 3196, 3197, 3198, 3199, 3200, 3201, 3202, 3203, 3204, 3205, 3206, 3207, 3208, 3209, 3210, 3211, 3212, 3213, 3214, 3215, 3216, 3217, 3218, 3219, 3220, 3221, 3222, 3223, 3224, 3225, 3226, 3227, 3228, 3229, 3230, 3231, 3232, 3233, 3234, 3235, 3236, 3237, 3238, 3239, 3240, 3241, 3242, 3243, 3244, 3245, 3246, 3247, 3248, 3249, 3250, 3251, 3252, 3253, 3254, 3255, 3256, 3257, 3258, 3259, 3260, 3261, 3262, 3263, 3264, 3265, 3266, 3267, 3268, 3269, 3270, 3271, 3272, 3273, 3274, 3275, 3276, 3277, 3278, 3279, 3280, 3281, 3282, 3283, 3284, 3285, 3286, 3287, 3288, 3289, 3290, 3291, 3292, 3293, 3294, 3295, 3296, 3297, 3298, 3299, 3300, 3301, 3302, 3303, 3304, 3305, 3306, 3307, 3308, 3309, 3310, 3311, 3312, 3313, 3314, 3315, 3316, 3317, 3318, 3319, 3320, 3321, 3322, 3323, 3324, 3325, 3326, 3327, 3328, 3329, 3330, 3331, 3332], \"y\": [51.729355504115226, 75.74853429199389, 69.58642520108485, 101.74607228301534, 121.86572969042258, 151.91454913486717, 163.64868956696597, 117.58116487560778, 82.31475746820041, 44.021995122521396, 29.170030616348594, 36.681200369434926, -35.893819692293256, -22.67378419846619, -10.363933889824299, 2.9250722830153126, 12.677334628694254, -11.25922247007112, -32.10551413673788, -3.1612764824166004, 5.955575369435107, 13.727198826225163, -19.654500247848862, -72.60759747007094, -98.26215919846605, -42.48245240834252, -29.65960672933016, -40.35777339599684, -38.75772401328074, -67.47996784044135, -79.92338540497565, -100.07949298073302, -92.46479298073311, -108.05534298073312, -124.21643843527875, -138.8207475261877, -133.09871873830895, -102.06302934436962, -65.53249298073332, -63.08121419285455, -52.197812677703105, -25.278676314066665, -23.34468237467266, -23.220042980733375, -1.455527829218068, 4.090896413206232, 56.61369035260022, 62.458826716236544, 58.53785701926668, 66.45890701926673, 45.72224035259997, 48.63019186775166, 15.638967625327265, 9.178437322296976, -6.073908132248491, 18.375678231388008, 27.54479641320614, 44.10855853441833, 51.1808176253273, 73.79208732229691, 51.729355504115226, 75.74853429199389, 69.58642520108485, 101.74607228301534, 121.86572969042258, 151.91454913486717, 163.64868956696597, 117.58116487560778, 82.31475746820041, 44.021995122521396, 29.170030616348594, 36.681200369434926, -35.893819692293256, -22.67378419846619, -10.363933889824299, 2.9250722830153126, 12.677334628694254, -11.25922247007112, -32.10551413673788, -3.1612764824166004, 5.955575369435107, 13.727198826225163, -19.654500247848862, -72.60759747007094, -98.26215919846605, -42.48245240834252, -29.65960672933016, -40.35777339599684, -38.75772401328074, -67.47996784044135, -79.92338540497565, -100.07949298073302, -92.46479298073311, -108.05534298073312, -124.21643843527875, -138.8207475261877, -133.09871873830895, -102.06302934436962, -65.53249298073332, -63.08121419285455, -52.197812677703105, -25.278676314066665, -23.34468237467266, -23.220042980733375, -1.455527829218068, 4.090896413206232, 56.61369035260022, 62.458826716236544, 58.53785701926668, 66.45890701926673, 45.72224035259997, 48.63019186775166, 15.638967625327265, 9.178437322296976, -6.073908132248491, 18.375678231388008, 27.54479641320614, 44.10855853441833, 51.1808176253273, 73.79208732229691, 51.729355504115226, 75.74853429199389, 69.58642520108485, 101.74607228301534, 121.86572969042258, 151.91454913486717, 163.64868956696597, 117.58116487560778, 82.31475746820041, 44.021995122521396, 29.170030616348594, 36.681200369434926, -35.893819692293256, -22.67378419846619, -10.363933889824299, 2.9250722830153126, 12.677334628694254, -11.25922247007112, -32.10551413673788, -3.1612764824166004, 5.955575369435107, 13.727198826225163, -19.654500247848862, -72.60759747007094, -98.26215919846605, -42.48245240834252, -29.65960672933016, -40.35777339599684, -38.75772401328074, -67.47996784044135, -79.92338540497565, -100.07949298073302, -92.46479298073311, -108.05534298073312, -124.21643843527875, -138.8207475261877, -133.09871873830895, -102.06302934436962, -65.53249298073332, -63.08121419285455, -52.197812677703105, -25.278676314066665, -23.34468237467266, -23.220042980733375, -1.455527829218068, 4.090896413206232, 56.61369035260022, 62.458826716236544, 58.53785701926668, 66.45890701926673, 45.72224035259997, 48.63019186775166, 15.638967625327265, 9.178437322296976, -6.073908132248491, 18.375678231388008, 27.54479641320614, 44.10855853441833, 51.1808176253273, 73.79208732229691, 51.729355504115226, 75.74853429199389, 69.58642520108485, 101.74607228301534, 121.86572969042258, 151.91454913486717, 163.64868956696597, 117.58116487560778, 82.31475746820041, 44.021995122521396, 29.170030616348594, 36.681200369434926, -35.893819692293256, -22.67378419846619, -10.363933889824299, 2.9250722830153126, 12.677334628694254, -11.25922247007112, -32.10551413673788, -3.1612764824166004, 5.955575369435107, 13.727198826225163, -19.654500247848862, -72.60759747007094, -98.26215919846605, -42.48245240834252, -29.65960672933016, -40.35777339599684, -38.75772401328074, -67.47996784044135, -79.92338540497565, -100.07949298073302, -92.46479298073311, -108.05534298073312, -124.21643843527875, -138.8207475261877, -133.09871873830895, -102.06302934436962, -65.53249298073332, -63.08121419285455, -52.197812677703105, -25.278676314066665, -23.34468237467266, -23.220042980733375, -1.455527829218068, 4.090896413206232, 56.61369035260022, 62.458826716236544, 58.53785701926668, 66.45890701926673, 45.72224035259997, 48.63019186775166, 15.638967625327265, 9.178437322296976, -6.073908132248491, 18.375678231388008, 27.54479641320614, 44.10855853441833, 51.1808176253273, 73.79208732229691, 51.729355504115226, 75.74853429199389, 69.58642520108485, 101.74607228301534, 121.86572969042258, 151.91454913486717, 163.64868956696597, 117.58116487560778, 82.31475746820041, 44.021995122521396, 29.170030616348594, 36.681200369434926, -35.893819692293256, -22.67378419846619, -10.363933889824299, 2.9250722830153126, 12.677334628694254, -11.25922247007112, -32.10551413673788, -3.1612764824166004, 5.955575369435107, 13.727198826225163, -19.654500247848862, -72.60759747007094, -98.26215919846605, -42.48245240834252, -29.65960672933016, -40.35777339599684, -38.75772401328074, -67.47996784044135, -79.92338540497565, -100.07949298073302, -92.46479298073311, -108.05534298073312, -124.21643843527875, -138.8207475261877, -133.09871873830895, -102.06302934436962, -65.53249298073332, -63.08121419285455, -52.197812677703105, -25.278676314066665, -23.34468237467266, -23.220042980733375, -1.455527829218068, 4.090896413206232, 56.61369035260022, 62.458826716236544, 58.53785701926668, 66.45890701926673, 45.72224035259997, 48.63019186775166, 15.638967625327265, 9.178437322296976, -6.073908132248491, 18.375678231388008, 27.54479641320614, 44.10855853441833, 51.1808176253273, 73.79208732229691, 51.729355504115226, 75.74853429199389, 69.58642520108485, 101.74607228301534, 121.86572969042258, 151.91454913486717, 163.64868956696597, 117.58116487560778, 82.31475746820041, 44.021995122521396, 29.170030616348594, 36.681200369434926, -35.893819692293256, -22.67378419846619, -10.363933889824299, 2.9250722830153126, 12.677334628694254, -11.25922247007112, -32.10551413673788, -3.1612764824166004, 5.955575369435107, 13.727198826225163, -19.654500247848862, -72.60759747007094, -98.26215919846605, -42.48245240834252, -29.65960672933016, -40.35777339599684, -38.75772401328074, -67.47996784044135, -79.92338540497565, -100.07949298073302, -92.46479298073311, -108.05534298073312, -124.21643843527875, -138.8207475261877, -133.09871873830895, -102.06302934436962, -65.53249298073332, -63.08121419285455, -52.197812677703105, -25.278676314066665, -23.34468237467266, -23.220042980733375, -1.455527829218068, 4.090896413206232, 56.61369035260022, 62.458826716236544, 58.53785701926668, 66.45890701926673, 45.72224035259997, 48.63019186775166, 15.638967625327265, 9.178437322296976, -6.073908132248491, 18.375678231388008, 27.54479641320614, 44.10855853441833, 51.1808176253273, 73.79208732229691, 51.729355504115226, 75.74853429199389, 69.58642520108485, 101.74607228301534, 121.86572969042258, 151.91454913486717, 163.64868956696597, 117.58116487560778, 82.31475746820041, 44.021995122521396, 29.170030616348594, 36.681200369434926, -35.893819692293256, -22.67378419846619, -10.363933889824299, 2.9250722830153126, 12.677334628694254, -11.25922247007112, -32.10551413673788, -3.1612764824166004, 5.955575369435107, 13.727198826225163, -19.654500247848862, -72.60759747007094, -98.26215919846605, -42.48245240834252, -29.65960672933016, -40.35777339599684, -38.75772401328074, -67.47996784044135, -79.92338540497565, -100.07949298073302, -92.46479298073311, -108.05534298073312, -124.21643843527875, -138.8207475261877, -133.09871873830895, -102.06302934436962, -65.53249298073332, -63.08121419285455, -52.197812677703105, -25.278676314066665, -23.34468237467266, -23.220042980733375, -1.455527829218068, 4.090896413206232, 56.61369035260022, 62.458826716236544, 58.53785701926668, 66.45890701926673, 45.72224035259997, 48.63019186775166, 15.638967625327265, 9.178437322296976, -6.073908132248491, 18.375678231388008, 27.54479641320614, 44.10855853441833, 51.1808176253273, 73.79208732229691, 51.729355504115226, 75.74853429199389, 69.58642520108485, 101.74607228301534, 121.86572969042258, 151.91454913486717, 163.64868956696597, 117.58116487560778, 82.31475746820041, 44.021995122521396, 29.170030616348594, 36.681200369434926, -35.893819692293256, -22.67378419846619, -10.363933889824299, 2.9250722830153126, 12.677334628694254, -11.25922247007112, -32.10551413673788, -3.1612764824166004, 5.955575369435107, 13.727198826225163, -19.654500247848862, -72.60759747007094, -98.26215919846605, -42.48245240834252, -29.65960672933016, -40.35777339599684, -38.75772401328074, -67.47996784044135, -79.92338540497565, -100.07949298073302, -92.46479298073311, -108.05534298073312, -124.21643843527875, -138.8207475261877, -133.09871873830895, -102.06302934436962, -65.53249298073332, -63.08121419285455, -52.197812677703105, -25.278676314066665, -23.34468237467266, -23.220042980733375, -1.455527829218068, 4.090896413206232, 56.61369035260022, 62.458826716236544, 58.53785701926668, 66.45890701926673, 45.72224035259997, 48.63019186775166, 15.638967625327265, 9.178437322296976, -6.073908132248491, 18.375678231388008, 27.54479641320614, 44.10855853441833, 51.1808176253273, 73.79208732229691, 51.729355504115226, 75.74853429199389, 69.58642520108485, 101.74607228301534, 121.86572969042258, 151.91454913486717, 163.64868956696597, 117.58116487560778, 82.31475746820041, 44.021995122521396, 29.170030616348594, 36.681200369434926, -35.893819692293256, -22.67378419846619, -10.363933889824299, 2.9250722830153126, 12.677334628694254, -11.25922247007112, -32.10551413673788, -3.1612764824166004, 5.955575369435107, 13.727198826225163, -19.654500247848862, -72.60759747007094, -98.26215919846605, -42.48245240834252, -29.65960672933016, -40.35777339599684, -38.75772401328074, -67.47996784044135, -79.92338540497565, -100.07949298073302, -92.46479298073311, -108.05534298073312, -124.21643843527875, -138.8207475261877, -133.09871873830895, -102.06302934436962, -65.53249298073332, -63.08121419285455, -52.197812677703105, -25.278676314066665, -23.34468237467266, -23.220042980733375, -1.455527829218068, 4.090896413206232, 56.61369035260022, 62.458826716236544, 58.53785701926668, 66.45890701926673, 45.72224035259997, 48.63019186775166, 15.638967625327265, 9.178437322296976, -6.073908132248491, 18.375678231388008, 27.54479641320614, 44.10855853441833, 51.1808176253273, 73.79208732229691, 51.729355504115226, 75.74853429199389, 69.58642520108485, 101.74607228301534, 121.86572969042258, 151.91454913486717, 163.64868956696597, 117.58116487560778, 82.31475746820041, 44.021995122521396, 29.170030616348594, 36.681200369434926, -35.893819692293256, -22.67378419846619, -10.363933889824299, 2.9250722830153126, 12.677334628694254, -11.25922247007112, -32.10551413673788, -3.1612764824166004, 5.955575369435107, 13.727198826225163, -19.654500247848862, -72.60759747007094, -98.26215919846605, -42.48245240834252, -29.65960672933016, -40.35777339599684, -38.75772401328074, -67.47996784044135, -79.92338540497565, -100.07949298073302, -92.46479298073311, -108.05534298073312, -124.21643843527875, -138.8207475261877, -133.09871873830895, -102.06302934436962, -65.53249298073332, -63.08121419285455, -52.197812677703105, -25.278676314066665, -23.34468237467266, -23.220042980733375, -1.455527829218068, 4.090896413206232, 56.61369035260022, 62.458826716236544, 58.53785701926668, 66.45890701926673, 45.72224035259997, 48.63019186775166, 15.638967625327265, 9.178437322296976, -6.073908132248491, 18.375678231388008, 27.54479641320614, 44.10855853441833, 51.1808176253273, 73.79208732229691, 51.729355504115226, 75.74853429199389, 69.58642520108485, 101.74607228301534, 121.86572969042258, 151.91454913486717, 163.64868956696597, 117.58116487560778, 82.31475746820041, 44.021995122521396, 29.170030616348594, 36.681200369434926, -35.893819692293256, -22.67378419846619, -10.363933889824299, 2.9250722830153126, 12.677334628694254, -11.25922247007112, -32.10551413673788, -3.1612764824166004, 5.955575369435107, 13.727198826225163, -19.654500247848862, -72.60759747007094, -98.26215919846605, -42.48245240834252, -29.65960672933016, -40.35777339599684, -38.75772401328074, -67.47996784044135, -79.92338540497565, -100.07949298073302, -92.46479298073311, -108.05534298073312, -124.21643843527875, -138.8207475261877, -133.09871873830895, -102.06302934436962, -65.53249298073332, -63.08121419285455, -52.197812677703105, -25.278676314066665, -23.34468237467266, -23.220042980733375, -1.455527829218068, 4.090896413206232, 56.61369035260022, 62.458826716236544, 58.53785701926668, 66.45890701926673, 45.72224035259997, 48.63019186775166, 15.638967625327265, 9.178437322296976, -6.073908132248491, 18.375678231388008, 27.54479641320614, 44.10855853441833, 51.1808176253273, 73.79208732229691, 51.729355504115226, 75.74853429199389, 69.58642520108485, 101.74607228301534, 121.86572969042258, 151.91454913486717, 163.64868956696597, 117.58116487560778, 82.31475746820041, 44.021995122521396, 29.170030616348594, 36.681200369434926, -35.893819692293256, -22.67378419846619, -10.363933889824299, 2.9250722830153126, 12.677334628694254, -11.25922247007112, -32.10551413673788, -3.1612764824166004, 5.955575369435107, 13.727198826225163, -19.654500247848862, -72.60759747007094, -98.26215919846605, -42.48245240834252, -29.65960672933016, -40.35777339599684, -38.75772401328074, -67.47996784044135, -79.92338540497565, -100.07949298073302, -92.46479298073311, -108.05534298073312, -124.21643843527875, -138.8207475261877, -133.09871873830895, -102.06302934436962, -65.53249298073332, -63.08121419285455, -52.197812677703105, -25.278676314066665, -23.34468237467266, -23.220042980733375, -1.455527829218068, 4.090896413206232, 56.61369035260022, 62.458826716236544, 58.53785701926668, 66.45890701926673, 45.72224035259997, 48.63019186775166, 15.638967625327265, 9.178437322296976, -6.073908132248491, 18.375678231388008, 27.54479641320614, 44.10855853441833, 51.1808176253273, 73.79208732229691, 51.729355504115226, 75.74853429199389, 69.58642520108485, 101.74607228301534, 121.86572969042258, 151.91454913486717, 163.64868956696597, 117.58116487560778, 82.31475746820041, 44.021995122521396, 29.170030616348594, 36.681200369434926, -35.893819692293256, -22.67378419846619, -10.363933889824299, 2.9250722830153126, 12.677334628694254, -11.25922247007112, -32.10551413673788, -3.1612764824166004, 5.955575369435107, 13.727198826225163, -19.654500247848862, -72.60759747007094, -98.26215919846605, -42.48245240834252, -29.65960672933016, -40.35777339599684, -38.75772401328074, -67.47996784044135, -79.92338540497565, -100.07949298073302, -92.46479298073311, -108.05534298073312, -124.21643843527875, -138.8207475261877, -133.09871873830895, -102.06302934436962, -65.53249298073332, -63.08121419285455, -52.197812677703105, -25.278676314066665, -23.34468237467266, -23.220042980733375, -1.455527829218068, 4.090896413206232, 56.61369035260022, 62.458826716236544, 58.53785701926668, 66.45890701926673, 45.72224035259997, 48.63019186775166, 15.638967625327265, 9.178437322296976, -6.073908132248491, 18.375678231388008, 27.54479641320614, 44.10855853441833, 51.1808176253273, 73.79208732229691, 51.729355504115226, 75.74853429199389, 69.58642520108485, 101.74607228301534, 121.86572969042258, 151.91454913486717, 163.64868956696597, 117.58116487560778, 82.31475746820041, 44.021995122521396, 29.170030616348594, 36.681200369434926, -35.893819692293256, -22.67378419846619, -10.363933889824299, 2.9250722830153126, 12.677334628694254, -11.25922247007112, -32.10551413673788, -3.1612764824166004, 5.955575369435107, 13.727198826225163, -19.654500247848862, -72.60759747007094, -98.26215919846605, -42.48245240834252, -29.65960672933016, -40.35777339599684, -38.75772401328074, -67.47996784044135, -79.92338540497565, -100.07949298073302, -92.46479298073311, -108.05534298073312, -124.21643843527875, -138.8207475261877, -133.09871873830895, -102.06302934436962, -65.53249298073332, -63.08121419285455, -52.197812677703105, -25.278676314066665, -23.34468237467266, -23.220042980733375, -1.455527829218068, 4.090896413206232, 56.61369035260022, 62.458826716236544, 58.53785701926668, 66.45890701926673, 45.72224035259997, 48.63019186775166, 15.638967625327265, 9.178437322296976, -6.073908132248491, 18.375678231388008, 27.54479641320614, 44.10855853441833, 51.1808176253273, 73.79208732229691, 51.729355504115226, 75.74853429199389, 69.58642520108485, 101.74607228301534, 121.86572969042258, 151.91454913486717, 163.64868956696597, 117.58116487560778, 82.31475746820041, 44.021995122521396, 29.170030616348594, 36.681200369434926, -35.893819692293256, -22.67378419846619, -10.363933889824299, 2.9250722830153126, 12.677334628694254, -11.25922247007112, -32.10551413673788, -3.1612764824166004, 5.955575369435107, 13.727198826225163, -19.654500247848862, -72.60759747007094, -98.26215919846605, -42.48245240834252, -29.65960672933016, -40.35777339599684, -38.75772401328074, -67.47996784044135, -79.92338540497565, -100.07949298073302, -92.46479298073311, -108.05534298073312, -124.21643843527875, -138.8207475261877, -133.09871873830895, -102.06302934436962, -65.53249298073332, -63.08121419285455, -52.197812677703105, -25.278676314066665, -23.34468237467266, -23.220042980733375, -1.455527829218068, 4.090896413206232, 56.61369035260022, 62.458826716236544, 58.53785701926668, 66.45890701926673, 45.72224035259997, 48.63019186775166, 15.638967625327265, 9.178437322296976, -6.073908132248491, 18.375678231388008, 27.54479641320614, 44.10855853441833, 51.1808176253273, 73.79208732229691, 51.729355504115226, 75.74853429199389, 69.58642520108485, 101.74607228301534, 121.86572969042258, 151.91454913486717, 163.64868956696597, 117.58116487560778, 82.31475746820041, 44.021995122521396, 29.170030616348594, 36.681200369434926, -35.893819692293256, -22.67378419846619, -10.363933889824299, 2.9250722830153126, 12.677334628694254, -11.25922247007112, -32.10551413673788, -3.1612764824166004, 5.955575369435107, 13.727198826225163, -19.654500247848862, -72.60759747007094, -98.26215919846605, -42.48245240834252, -29.65960672933016, -40.35777339599684, -38.75772401328074, -67.47996784044135, -79.92338540497565, -100.07949298073302, -92.46479298073311, -108.05534298073312, -124.21643843527875, -138.8207475261877, -133.09871873830895, -102.06302934436962, -65.53249298073332, -63.08121419285455, -52.197812677703105, -25.278676314066665, -23.34468237467266, -23.220042980733375, -1.455527829218068, 4.090896413206232, 56.61369035260022, 62.458826716236544, 58.53785701926668, 66.45890701926673, 45.72224035259997, 48.63019186775166, 15.638967625327265, 9.178437322296976, -6.073908132248491, 18.375678231388008, 27.54479641320614, 44.10855853441833, 51.1808176253273, 73.79208732229691, 51.729355504115226, 75.74853429199389, 69.58642520108485, 101.74607228301534, 121.86572969042258, 151.91454913486717, 163.64868956696597, 117.58116487560778, 82.31475746820041, 44.021995122521396, 29.170030616348594, 36.681200369434926, -35.893819692293256, -22.67378419846619, -10.363933889824299, 2.9250722830153126, 12.677334628694254, -11.25922247007112, -32.10551413673788, -3.1612764824166004, 5.955575369435107, 13.727198826225163, -19.654500247848862, -72.60759747007094, -98.26215919846605, -42.48245240834252, -29.65960672933016, -40.35777339599684, -38.75772401328074, -67.47996784044135, -79.92338540497565, -100.07949298073302, -92.46479298073311, -108.05534298073312, -124.21643843527875, -138.8207475261877, -133.09871873830895, -102.06302934436962, -65.53249298073332, -63.08121419285455, -52.197812677703105, -25.278676314066665, -23.34468237467266, -23.220042980733375, -1.455527829218068, 4.090896413206232, 56.61369035260022, 62.458826716236544, 58.53785701926668, 66.45890701926673, 45.72224035259997, 48.63019186775166, 15.638967625327265, 9.178437322296976, -6.073908132248491, 18.375678231388008, 27.54479641320614, 44.10855853441833, 51.1808176253273, 73.79208732229691, 51.729355504115226, 75.74853429199389, 69.58642520108485, 101.74607228301534, 121.86572969042258, 151.91454913486717, 163.64868956696597, 117.58116487560778, 82.31475746820041, 44.021995122521396, 29.170030616348594, 36.681200369434926, -35.893819692293256, -22.67378419846619, -10.363933889824299, 2.9250722830153126, 12.677334628694254, -11.25922247007112, -32.10551413673788, -3.1612764824166004, 5.955575369435107, 13.727198826225163, -19.654500247848862, -72.60759747007094, -98.26215919846605, -42.48245240834252, -29.65960672933016, -40.35777339599684, -38.75772401328074, -67.47996784044135, -79.92338540497565, -100.07949298073302, -92.46479298073311, -108.05534298073312, -124.21643843527875, -138.8207475261877, -133.09871873830895, -102.06302934436962, -65.53249298073332, -63.08121419285455, -52.197812677703105, -25.278676314066665, -23.34468237467266, -23.220042980733375, -1.455527829218068, 4.090896413206232, 56.61369035260022, 62.458826716236544, 58.53785701926668, 66.45890701926673, 45.72224035259997, 48.63019186775166, 15.638967625327265, 9.178437322296976, -6.073908132248491, 18.375678231388008, 27.54479641320614, 44.10855853441833, 51.1808176253273, 73.79208732229691, 51.729355504115226, 75.74853429199389, 69.58642520108485, 101.74607228301534, 121.86572969042258, 151.91454913486717, 163.64868956696597, 117.58116487560778, 82.31475746820041, 44.021995122521396, 29.170030616348594, 36.681200369434926, -35.893819692293256, -22.67378419846619, -10.363933889824299, 2.9250722830153126, 12.677334628694254, -11.25922247007112, -32.10551413673788, -3.1612764824166004, 5.955575369435107, 13.727198826225163, -19.654500247848862, -72.60759747007094, -98.26215919846605, -42.48245240834252, -29.65960672933016, -40.35777339599684, -38.75772401328074, -67.47996784044135, -79.92338540497565, -100.07949298073302, -92.46479298073311, -108.05534298073312, -124.21643843527875, -138.8207475261877, -133.09871873830895, -102.06302934436962, -65.53249298073332, -63.08121419285455, -52.197812677703105, -25.278676314066665, -23.34468237467266, -23.220042980733375, -1.455527829218068, 4.090896413206232, 56.61369035260022, 62.458826716236544, 58.53785701926668, 66.45890701926673, 45.72224035259997, 48.63019186775166, 15.638967625327265, 9.178437322296976, -6.073908132248491, 18.375678231388008, 27.54479641320614, 44.10855853441833, 51.1808176253273, 73.79208732229691, 51.729355504115226, 75.74853429199389, 69.58642520108485, 101.74607228301534, 121.86572969042258, 151.91454913486717, 163.64868956696597, 117.58116487560778, 82.31475746820041, 44.021995122521396, 29.170030616348594, 36.681200369434926, -35.893819692293256, -22.67378419846619, -10.363933889824299, 2.9250722830153126, 12.677334628694254, -11.25922247007112, -32.10551413673788, -3.1612764824166004, 5.955575369435107, 13.727198826225163, -19.654500247848862, -72.60759747007094, -98.26215919846605, -42.48245240834252, -29.65960672933016, -40.35777339599684, -38.75772401328074, -67.47996784044135, -79.92338540497565, -100.07949298073302, -92.46479298073311, -108.05534298073312, -124.21643843527875, -138.8207475261877, -133.09871873830895, -102.06302934436962, -65.53249298073332, -63.08121419285455, -52.197812677703105, -25.278676314066665, -23.34468237467266, -23.220042980733375, -1.455527829218068, 4.090896413206232, 56.61369035260022, 62.458826716236544, 58.53785701926668, 66.45890701926673, 45.72224035259997, 48.63019186775166, 15.638967625327265, 9.178437322296976, -6.073908132248491, 18.375678231388008, 27.54479641320614, 44.10855853441833, 51.1808176253273, 73.79208732229691, 51.729355504115226, 75.74853429199389, 69.58642520108485, 101.74607228301534, 121.86572969042258, 151.91454913486717, 163.64868956696597, 117.58116487560778, 82.31475746820041, 44.021995122521396, 29.170030616348594, 36.681200369434926, -35.893819692293256, -22.67378419846619, -10.363933889824299, 2.9250722830153126, 12.677334628694254, -11.25922247007112, -32.10551413673788, -3.1612764824166004, 5.955575369435107, 13.727198826225163, -19.654500247848862, -72.60759747007094, -98.26215919846605, -42.48245240834252, -29.65960672933016, -40.35777339599684, -38.75772401328074, -67.47996784044135, -79.92338540497565, -100.07949298073302, -92.46479298073311, -108.05534298073312, -124.21643843527875, -138.8207475261877, -133.09871873830895, -102.06302934436962, -65.53249298073332, -63.08121419285455, -52.197812677703105, -25.278676314066665, -23.34468237467266, -23.220042980733375, -1.455527829218068, 4.090896413206232, 56.61369035260022, 62.458826716236544, 58.53785701926668, 66.45890701926673, 45.72224035259997, 48.63019186775166, 15.638967625327265, 9.178437322296976, -6.073908132248491, 18.375678231388008, 27.54479641320614, 44.10855853441833, 51.1808176253273, 73.79208732229691, 51.729355504115226, 75.74853429199389, 69.58642520108485, 101.74607228301534, 121.86572969042258, 151.91454913486717, 163.64868956696597, 117.58116487560778, 82.31475746820041, 44.021995122521396, 29.170030616348594, 36.681200369434926, -35.893819692293256, -22.67378419846619, -10.363933889824299, 2.9250722830153126, 12.677334628694254, -11.25922247007112, -32.10551413673788, -3.1612764824166004, 5.955575369435107, 13.727198826225163, -19.654500247848862, -72.60759747007094, -98.26215919846605, -42.48245240834252, -29.65960672933016, -40.35777339599684, -38.75772401328074, -67.47996784044135, -79.92338540497565, -100.07949298073302, -92.46479298073311, -108.05534298073312, -124.21643843527875, -138.8207475261877, -133.09871873830895, -102.06302934436962, -65.53249298073332, -63.08121419285455, -52.197812677703105, -25.278676314066665, -23.34468237467266, -23.220042980733375, -1.455527829218068, 4.090896413206232, 56.61369035260022, 62.458826716236544, 58.53785701926668, 66.45890701926673, 45.72224035259997, 48.63019186775166, 15.638967625327265, 9.178437322296976, -6.073908132248491, 18.375678231388008, 27.54479641320614, 44.10855853441833, 51.1808176253273, 73.79208732229691, 51.729355504115226, 75.74853429199389, 69.58642520108485, 101.74607228301534, 121.86572969042258, 151.91454913486717, 163.64868956696597, 117.58116487560778, 82.31475746820041, 44.021995122521396, 29.170030616348594, 36.681200369434926, -35.893819692293256, -22.67378419846619, -10.363933889824299, 2.9250722830153126, 12.677334628694254, -11.25922247007112, -32.10551413673788, -3.1612764824166004, 5.955575369435107, 13.727198826225163, -19.654500247848862, -72.60759747007094, -98.26215919846605, -42.48245240834252, -29.65960672933016, -40.35777339599684, -38.75772401328074, -67.47996784044135, -79.92338540497565, -100.07949298073302, -92.46479298073311, -108.05534298073312, -124.21643843527875, -138.8207475261877, -133.09871873830895, -102.06302934436962, -65.53249298073332, -63.08121419285455, -52.197812677703105, -25.278676314066665, -23.34468237467266, -23.220042980733375, -1.455527829218068, 4.090896413206232, 56.61369035260022, 62.458826716236544, 58.53785701926668, 66.45890701926673, 45.72224035259997, 48.63019186775166, 15.638967625327265, 9.178437322296976, -6.073908132248491, 18.375678231388008, 27.54479641320614, 44.10855853441833, 51.1808176253273, 73.79208732229691, 51.729355504115226, 75.74853429199389, 69.58642520108485, 101.74607228301534, 121.86572969042258, 151.91454913486717, 163.64868956696597, 117.58116487560778, 82.31475746820041, 44.021995122521396, 29.170030616348594, 36.681200369434926, -35.893819692293256, -22.67378419846619, -10.363933889824299, 2.9250722830153126, 12.677334628694254, -11.25922247007112, -32.10551413673788, -3.1612764824166004, 5.955575369435107, 13.727198826225163, -19.654500247848862, -72.60759747007094, -98.26215919846605, -42.48245240834252, -29.65960672933016, -40.35777339599684, -38.75772401328074, -67.47996784044135, -79.92338540497565, -100.07949298073302, -92.46479298073311, -108.05534298073312, -124.21643843527875, -138.8207475261877, -133.09871873830895, -102.06302934436962, -65.53249298073332, -63.08121419285455, -52.197812677703105, -25.278676314066665, -23.34468237467266, -23.220042980733375, -1.455527829218068, 4.090896413206232, 56.61369035260022, 62.458826716236544, 58.53785701926668, 66.45890701926673, 45.72224035259997, 48.63019186775166, 15.638967625327265, 9.178437322296976, -6.073908132248491, 18.375678231388008, 27.54479641320614, 44.10855853441833, 51.1808176253273, 73.79208732229691, 51.729355504115226, 75.74853429199389, 69.58642520108485, 101.74607228301534, 121.86572969042258, 151.91454913486717, 163.64868956696597, 117.58116487560778, 82.31475746820041, 44.021995122521396, 29.170030616348594, 36.681200369434926, -35.893819692293256, -22.67378419846619, -10.363933889824299, 2.9250722830153126, 12.677334628694254, -11.25922247007112, -32.10551413673788, -3.1612764824166004, 5.955575369435107, 13.727198826225163, -19.654500247848862, -72.60759747007094, -98.26215919846605, -42.48245240834252, -29.65960672933016, -40.35777339599684, -38.75772401328074, -67.47996784044135, -79.92338540497565, -100.07949298073302, -92.46479298073311, -108.05534298073312, -124.21643843527875, -138.8207475261877, -133.09871873830895, -102.06302934436962, -65.53249298073332, -63.08121419285455, -52.197812677703105, -25.278676314066665, -23.34468237467266, -23.220042980733375, -1.455527829218068, 4.090896413206232, 56.61369035260022, 62.458826716236544, 58.53785701926668, 66.45890701926673, 45.72224035259997, 48.63019186775166, 15.638967625327265, 9.178437322296976, -6.073908132248491, 18.375678231388008, 27.54479641320614, 44.10855853441833, 51.1808176253273, 73.79208732229691, 51.729355504115226, 75.74853429199389, 69.58642520108485, 101.74607228301534, 121.86572969042258, 151.91454913486717, 163.64868956696597, 117.58116487560778, 82.31475746820041, 44.021995122521396, 29.170030616348594, 36.681200369434926, -35.893819692293256, -22.67378419846619, -10.363933889824299, 2.9250722830153126, 12.677334628694254, -11.25922247007112, -32.10551413673788, -3.1612764824166004, 5.955575369435107, 13.727198826225163, -19.654500247848862, -72.60759747007094, -98.26215919846605, -42.48245240834252, -29.65960672933016, -40.35777339599684, -38.75772401328074, -67.47996784044135, -79.92338540497565, -100.07949298073302, -92.46479298073311, -108.05534298073312, -124.21643843527875, -138.8207475261877, -133.09871873830895, -102.06302934436962, -65.53249298073332, -63.08121419285455, -52.197812677703105, -25.278676314066665, -23.34468237467266, -23.220042980733375, -1.455527829218068, 4.090896413206232, 56.61369035260022, 62.458826716236544, 58.53785701926668, 66.45890701926673, 45.72224035259997, 48.63019186775166, 15.638967625327265, 9.178437322296976, -6.073908132248491, 18.375678231388008, 27.54479641320614, 44.10855853441833, 51.1808176253273, 73.79208732229691, 51.729355504115226, 75.74853429199389, 69.58642520108485, 101.74607228301534, 121.86572969042258, 151.91454913486717, 163.64868956696597, 117.58116487560778, 82.31475746820041, 44.021995122521396, 29.170030616348594, 36.681200369434926, -35.893819692293256, -22.67378419846619, -10.363933889824299, 2.9250722830153126, 12.677334628694254, -11.25922247007112, -32.10551413673788, -3.1612764824166004, 5.955575369435107, 13.727198826225163, -19.654500247848862, -72.60759747007094, -98.26215919846605, -42.48245240834252, -29.65960672933016, -40.35777339599684, -38.75772401328074, -67.47996784044135, -79.92338540497565, -100.07949298073302, -92.46479298073311, -108.05534298073312, -124.21643843527875, -138.8207475261877, -133.09871873830895, -102.06302934436962, -65.53249298073332, -63.08121419285455, -52.197812677703105, -25.278676314066665, -23.34468237467266, -23.220042980733375, -1.455527829218068, 4.090896413206232, 56.61369035260022, 62.458826716236544, 58.53785701926668, 66.45890701926673, 45.72224035259997, 48.63019186775166, 15.638967625327265, 9.178437322296976, -6.073908132248491, 18.375678231388008, 27.54479641320614, 44.10855853441833, 51.1808176253273, 73.79208732229691, 51.729355504115226, 75.74853429199389, 69.58642520108485, 101.74607228301534, 121.86572969042258, 151.91454913486717, 163.64868956696597, 117.58116487560778, 82.31475746820041, 44.021995122521396, 29.170030616348594, 36.681200369434926, -35.893819692293256, -22.67378419846619, -10.363933889824299, 2.9250722830153126, 12.677334628694254, -11.25922247007112, -32.10551413673788, -3.1612764824166004, 5.955575369435107, 13.727198826225163, -19.654500247848862, -72.60759747007094, -98.26215919846605, -42.48245240834252, -29.65960672933016, -40.35777339599684, -38.75772401328074, -67.47996784044135, -79.92338540497565, -100.07949298073302, -92.46479298073311, -108.05534298073312, -124.21643843527875, -138.8207475261877, -133.09871873830895, -102.06302934436962, -65.53249298073332, -63.08121419285455, -52.197812677703105, -25.278676314066665, -23.34468237467266, -23.220042980733375, -1.455527829218068, 4.090896413206232, 56.61369035260022, 62.458826716236544, 58.53785701926668, 66.45890701926673, 45.72224035259997, 48.63019186775166, 15.638967625327265, 9.178437322296976, -6.073908132248491, 18.375678231388008, 27.54479641320614, 44.10855853441833, 51.1808176253273, 73.79208732229691, 51.729355504115226, 75.74853429199389, 69.58642520108485, 101.74607228301534, 121.86572969042258, 151.91454913486717, 163.64868956696597, 117.58116487560778, 82.31475746820041, 44.021995122521396, 29.170030616348594, 36.681200369434926, -35.893819692293256, -22.67378419846619, -10.363933889824299, 2.9250722830153126, 12.677334628694254, -11.25922247007112, -32.10551413673788, -3.1612764824166004, 5.955575369435107, 13.727198826225163, -19.654500247848862, -72.60759747007094, -98.26215919846605, -42.48245240834252, -29.65960672933016, -40.35777339599684, -38.75772401328074, -67.47996784044135, -79.92338540497565, -100.07949298073302, -92.46479298073311, -108.05534298073312, -124.21643843527875, -138.8207475261877, -133.09871873830895, -102.06302934436962, -65.53249298073332, -63.08121419285455, -52.197812677703105, -25.278676314066665, -23.34468237467266, -23.220042980733375, -1.455527829218068, 4.090896413206232, 56.61369035260022, 62.458826716236544, 58.53785701926668, 66.45890701926673, 45.72224035259997, 48.63019186775166, 15.638967625327265, 9.178437322296976, -6.073908132248491, 18.375678231388008, 27.54479641320614, 44.10855853441833, 51.1808176253273, 73.79208732229691, 51.729355504115226, 75.74853429199389, 69.58642520108485, 101.74607228301534, 121.86572969042258, 151.91454913486717, 163.64868956696597, 117.58116487560778, 82.31475746820041, 44.021995122521396, 29.170030616348594, 36.681200369434926, -35.893819692293256, -22.67378419846619, -10.363933889824299, 2.9250722830153126, 12.677334628694254, -11.25922247007112, -32.10551413673788, -3.1612764824166004, 5.955575369435107, 13.727198826225163, -19.654500247848862, -72.60759747007094, -98.26215919846605, -42.48245240834252, -29.65960672933016, -40.35777339599684, -38.75772401328074, -67.47996784044135, -79.92338540497565, -100.07949298073302, -92.46479298073311, -108.05534298073312, -124.21643843527875, -138.8207475261877, -133.09871873830895, -102.06302934436962, -65.53249298073332, -63.08121419285455, -52.197812677703105, -25.278676314066665, -23.34468237467266, -23.220042980733375, -1.455527829218068, 4.090896413206232, 56.61369035260022, 62.458826716236544, 58.53785701926668, 66.45890701926673, 45.72224035259997, 48.63019186775166, 15.638967625327265, 9.178437322296976, -6.073908132248491, 18.375678231388008, 27.54479641320614, 44.10855853441833, 51.1808176253273, 73.79208732229691, 51.729355504115226, 75.74853429199389, 69.58642520108485, 101.74607228301534, 121.86572969042258, 151.91454913486717, 163.64868956696597, 117.58116487560778, 82.31475746820041, 44.021995122521396, 29.170030616348594, 36.681200369434926, -35.893819692293256, -22.67378419846619, -10.363933889824299, 2.9250722830153126, 12.677334628694254, -11.25922247007112, -32.10551413673788, -3.1612764824166004, 5.955575369435107, 13.727198826225163, -19.654500247848862, -72.60759747007094, -98.26215919846605, -42.48245240834252, -29.65960672933016, -40.35777339599684, -38.75772401328074, -67.47996784044135, -79.92338540497565, -100.07949298073302, -92.46479298073311, -108.05534298073312, -124.21643843527875, -138.8207475261877, -133.09871873830895, -102.06302934436962, -65.53249298073332, -63.08121419285455, -52.197812677703105, -25.278676314066665, -23.34468237467266, -23.220042980733375, -1.455527829218068, 4.090896413206232, 56.61369035260022, 62.458826716236544, 58.53785701926668, 66.45890701926673, 45.72224035259997, 48.63019186775166, 15.638967625327265, 9.178437322296976, -6.073908132248491, 18.375678231388008, 27.54479641320614, 44.10855853441833, 51.1808176253273, 73.79208732229691, 51.729355504115226, 75.74853429199389, 69.58642520108485, 101.74607228301534, 121.86572969042258, 151.91454913486717, 163.64868956696597, 117.58116487560778, 82.31475746820041, 44.021995122521396, 29.170030616348594, 36.681200369434926, -35.893819692293256, -22.67378419846619, -10.363933889824299, 2.9250722830153126, 12.677334628694254, -11.25922247007112, -32.10551413673788, -3.1612764824166004, 5.955575369435107, 13.727198826225163, -19.654500247848862, -72.60759747007094, -98.26215919846605, -42.48245240834252, -29.65960672933016, -40.35777339599684, -38.75772401328074, -67.47996784044135, -79.92338540497565, -100.07949298073302, -92.46479298073311, -108.05534298073312, -124.21643843527875, -138.8207475261877, -133.09871873830895, -102.06302934436962, -65.53249298073332, -63.08121419285455, -52.197812677703105, -25.278676314066665, -23.34468237467266, -23.220042980733375, -1.455527829218068, 4.090896413206232, 56.61369035260022, 62.458826716236544, 58.53785701926668, 66.45890701926673, 45.72224035259997, 48.63019186775166, 15.638967625327265, 9.178437322296976, -6.073908132248491, 18.375678231388008, 27.54479641320614, 44.10855853441833, 51.1808176253273, 73.79208732229691, 51.729355504115226, 75.74853429199389, 69.58642520108485, 101.74607228301534, 121.86572969042258, 151.91454913486717, 163.64868956696597, 117.58116487560778, 82.31475746820041, 44.021995122521396, 29.170030616348594, 36.681200369434926, -35.893819692293256, -22.67378419846619, -10.363933889824299, 2.9250722830153126, 12.677334628694254, -11.25922247007112, -32.10551413673788, -3.1612764824166004, 5.955575369435107, 13.727198826225163, -19.654500247848862, -72.60759747007094, -98.26215919846605, -42.48245240834252, -29.65960672933016, -40.35777339599684, -38.75772401328074, -67.47996784044135, -79.92338540497565, -100.07949298073302, -92.46479298073311, -108.05534298073312, -124.21643843527875, -138.8207475261877, -133.09871873830895, -102.06302934436962, -65.53249298073332, -63.08121419285455, -52.197812677703105, -25.278676314066665, -23.34468237467266, -23.220042980733375, -1.455527829218068, 4.090896413206232, 56.61369035260022, 62.458826716236544, 58.53785701926668, 66.45890701926673, 45.72224035259997, 48.63019186775166, 15.638967625327265, 9.178437322296976, -6.073908132248491, 18.375678231388008, 27.54479641320614, 44.10855853441833, 51.1808176253273, 73.79208732229691, 51.729355504115226, 75.74853429199389, 69.58642520108485, 101.74607228301534, 121.86572969042258, 151.91454913486717, 163.64868956696597, 117.58116487560778, 82.31475746820041, 44.021995122521396, 29.170030616348594, 36.681200369434926, -35.893819692293256, -22.67378419846619, -10.363933889824299, 2.9250722830153126, 12.677334628694254, -11.25922247007112, -32.10551413673788, -3.1612764824166004, 5.955575369435107, 13.727198826225163, -19.654500247848862, -72.60759747007094, -98.26215919846605, -42.48245240834252, -29.65960672933016, -40.35777339599684, -38.75772401328074, -67.47996784044135, -79.92338540497565, -100.07949298073302, -92.46479298073311, -108.05534298073312, -124.21643843527875, -138.8207475261877, -133.09871873830895, -102.06302934436962, -65.53249298073332, -63.08121419285455, -52.197812677703105, -25.278676314066665, -23.34468237467266, -23.220042980733375, -1.455527829218068, 4.090896413206232, 56.61369035260022, 62.458826716236544, 58.53785701926668, 66.45890701926673, 45.72224035259997, 48.63019186775166, 15.638967625327265, 9.178437322296976, -6.073908132248491, 18.375678231388008, 27.54479641320614, 44.10855853441833, 51.1808176253273, 73.79208732229691, 51.729355504115226, 75.74853429199389, 69.58642520108485, 101.74607228301534, 121.86572969042258, 151.91454913486717, 163.64868956696597, 117.58116487560778, 82.31475746820041, 44.021995122521396, 29.170030616348594, 36.681200369434926, -35.893819692293256, -22.67378419846619, -10.363933889824299, 2.9250722830153126, 12.677334628694254, -11.25922247007112, -32.10551413673788, -3.1612764824166004, 5.955575369435107, 13.727198826225163, -19.654500247848862, -72.60759747007094, -98.26215919846605, -42.48245240834252, -29.65960672933016, -40.35777339599684, -38.75772401328074, -67.47996784044135, -79.92338540497565, -100.07949298073302, -92.46479298073311, -108.05534298073312, -124.21643843527875, -138.8207475261877, -133.09871873830895, -102.06302934436962, -65.53249298073332, -63.08121419285455, -52.197812677703105, -25.278676314066665, -23.34468237467266, -23.220042980733375, -1.455527829218068, 4.090896413206232, 56.61369035260022, 62.458826716236544, 58.53785701926668, 66.45890701926673, 45.72224035259997, 48.63019186775166, 15.638967625327265, 9.178437322296976, -6.073908132248491, 18.375678231388008, 27.54479641320614, 44.10855853441833, 51.1808176253273, 73.79208732229691, 51.729355504115226, 75.74853429199389, 69.58642520108485, 101.74607228301534, 121.86572969042258, 151.91454913486717, 163.64868956696597, 117.58116487560778, 82.31475746820041, 44.021995122521396, 29.170030616348594, 36.681200369434926, -35.893819692293256, -22.67378419846619, -10.363933889824299, 2.9250722830153126, 12.677334628694254, -11.25922247007112, -32.10551413673788, -3.1612764824166004, 5.955575369435107, 13.727198826225163, -19.654500247848862, -72.60759747007094, -98.26215919846605, -42.48245240834252, -29.65960672933016, -40.35777339599684, -38.75772401328074, -67.47996784044135, -79.92338540497565, -100.07949298073302, -92.46479298073311, -108.05534298073312, -124.21643843527875, -138.8207475261877, -133.09871873830895, -102.06302934436962, -65.53249298073332, -63.08121419285455, -52.197812677703105, -25.278676314066665, -23.34468237467266, -23.220042980733375, -1.455527829218068, 4.090896413206232, 56.61369035260022, 62.458826716236544, 58.53785701926668, 66.45890701926673, 45.72224035259997, 48.63019186775166, 15.638967625327265, 9.178437322296976, -6.073908132248491, 18.375678231388008, 27.54479641320614, 44.10855853441833, 51.1808176253273, 73.79208732229691, 51.729355504115226, 75.74853429199389, 69.58642520108485, 101.74607228301534, 121.86572969042258, 151.91454913486717, 163.64868956696597, 117.58116487560778, 82.31475746820041, 44.021995122521396, 29.170030616348594, 36.681200369434926, -35.893819692293256, -22.67378419846619, -10.363933889824299, 2.9250722830153126, 12.677334628694254, -11.25922247007112, -32.10551413673788, -3.1612764824166004, 5.955575369435107, 13.727198826225163, -19.654500247848862, -72.60759747007094, -98.26215919846605, -42.48245240834252, -29.65960672933016, -40.35777339599684, -38.75772401328074, -67.47996784044135, -79.92338540497565, -100.07949298073302, -92.46479298073311, -108.05534298073312, -124.21643843527875, -138.8207475261877, -133.09871873830895, -102.06302934436962, -65.53249298073332, -63.08121419285455, -52.197812677703105, -25.278676314066665, -23.34468237467266, -23.220042980733375, -1.455527829218068, 4.090896413206232, 56.61369035260022, 62.458826716236544, 58.53785701926668, 66.45890701926673, 45.72224035259997, 48.63019186775166, 15.638967625327265, 9.178437322296976, -6.073908132248491, 18.375678231388008, 27.54479641320614, 44.10855853441833, 51.1808176253273, 73.79208732229691, 51.729355504115226, 75.74853429199389, 69.58642520108485, 101.74607228301534, 121.86572969042258, 151.91454913486717, 163.64868956696597, 117.58116487560778, 82.31475746820041, 44.021995122521396, 29.170030616348594, 36.681200369434926, -35.893819692293256, -22.67378419846619, -10.363933889824299, 2.9250722830153126, 12.677334628694254, -11.25922247007112, -32.10551413673788, -3.1612764824166004, 5.955575369435107, 13.727198826225163, -19.654500247848862, -72.60759747007094, -98.26215919846605, -42.48245240834252, -29.65960672933016, -40.35777339599684, -38.75772401328074, -67.47996784044135, -79.92338540497565, -100.07949298073302, -92.46479298073311, -108.05534298073312, -124.21643843527875, -138.8207475261877, -133.09871873830895, -102.06302934436962, -65.53249298073332, -63.08121419285455, -52.197812677703105, -25.278676314066665, -23.34468237467266, -23.220042980733375, -1.455527829218068, 4.090896413206232, 56.61369035260022, 62.458826716236544, 58.53785701926668, 66.45890701926673, 45.72224035259997, 48.63019186775166, 15.638967625327265, 9.178437322296976, -6.073908132248491, 18.375678231388008, 27.54479641320614, 44.10855853441833, 51.1808176253273, 73.79208732229691, 51.729355504115226, 75.74853429199389, 69.58642520108485, 101.74607228301534, 121.86572969042258, 151.91454913486717, 163.64868956696597, 117.58116487560778, 82.31475746820041, 44.021995122521396, 29.170030616348594, 36.681200369434926, -35.893819692293256, -22.67378419846619, -10.363933889824299, 2.9250722830153126, 12.677334628694254, -11.25922247007112, -32.10551413673788, -3.1612764824166004, 5.955575369435107, 13.727198826225163, -19.654500247848862, -72.60759747007094, -98.26215919846605, -42.48245240834252, -29.65960672933016, -40.35777339599684, -38.75772401328074, -67.47996784044135, -79.92338540497565, -100.07949298073302, -92.46479298073311, -108.05534298073312, -124.21643843527875, -138.8207475261877, -133.09871873830895, -102.06302934436962, -65.53249298073332, -63.08121419285455, -52.197812677703105, -25.278676314066665, -23.34468237467266, -23.220042980733375, -1.455527829218068, 4.090896413206232, 56.61369035260022, 62.458826716236544, 58.53785701926668, 66.45890701926673, 45.72224035259997, 48.63019186775166, 15.638967625327265, 9.178437322296976, -6.073908132248491, 18.375678231388008, 27.54479641320614, 44.10855853441833, 51.1808176253273, 73.79208732229691, 51.729355504115226, 75.74853429199389, 69.58642520108485, 101.74607228301534, 121.86572969042258, 151.91454913486717, 163.64868956696597, 117.58116487560778, 82.31475746820041, 44.021995122521396, 29.170030616348594, 36.681200369434926, -35.893819692293256, -22.67378419846619, -10.363933889824299, 2.9250722830153126, 12.677334628694254, -11.25922247007112, -32.10551413673788, -3.1612764824166004, 5.955575369435107, 13.727198826225163, -19.654500247848862, -72.60759747007094, -98.26215919846605, -42.48245240834252, -29.65960672933016, -40.35777339599684, -38.75772401328074, -67.47996784044135, -79.92338540497565, -100.07949298073302, -92.46479298073311, -108.05534298073312, -124.21643843527875, -138.8207475261877, -133.09871873830895, -102.06302934436962, -65.53249298073332, -63.08121419285455, -52.197812677703105, -25.278676314066665, -23.34468237467266, -23.220042980733375, -1.455527829218068, 4.090896413206232, 56.61369035260022, 62.458826716236544, 58.53785701926668, 66.45890701926673, 45.72224035259997, 48.63019186775166, 15.638967625327265, 9.178437322296976, -6.073908132248491, 18.375678231388008, 27.54479641320614, 44.10855853441833, 51.1808176253273, 73.79208732229691, 51.729355504115226, 75.74853429199389, 69.58642520108485, 101.74607228301534, 121.86572969042258, 151.91454913486717, 163.64868956696597, 117.58116487560778, 82.31475746820041, 44.021995122521396, 29.170030616348594, 36.681200369434926, -35.893819692293256, -22.67378419846619, -10.363933889824299, 2.9250722830153126, 12.677334628694254, -11.25922247007112, -32.10551413673788, -3.1612764824166004, 5.955575369435107, 13.727198826225163, -19.654500247848862, -72.60759747007094, -98.26215919846605, -42.48245240834252, -29.65960672933016, -40.35777339599684, -38.75772401328074, -67.47996784044135, -79.92338540497565, -100.07949298073302, -92.46479298073311, -108.05534298073312, -124.21643843527875, -138.8207475261877, -133.09871873830895, -102.06302934436962, -65.53249298073332, -63.08121419285455, -52.197812677703105, -25.278676314066665, -23.34468237467266, -23.220042980733375, -1.455527829218068, 4.090896413206232, 56.61369035260022, 62.458826716236544, 58.53785701926668, 66.45890701926673, 45.72224035259997, 48.63019186775166, 15.638967625327265, 9.178437322296976, -6.073908132248491, 18.375678231388008, 27.54479641320614, 44.10855853441833, 51.1808176253273, 73.79208732229691, 51.729355504115226, 75.74853429199389, 69.58642520108485, 101.74607228301534, 121.86572969042258, 151.91454913486717, 163.64868956696597, 117.58116487560778, 82.31475746820041, 44.021995122521396, 29.170030616348594, 36.681200369434926, -35.893819692293256, -22.67378419846619, -10.363933889824299, 2.9250722830153126, 12.677334628694254, -11.25922247007112, -32.10551413673788, -3.1612764824166004, 5.955575369435107, 13.727198826225163, -19.654500247848862, -72.60759747007094, -98.26215919846605, -42.48245240834252, -29.65960672933016, -40.35777339599684, -38.75772401328074, -67.47996784044135, -79.92338540497565, -100.07949298073302, -92.46479298073311, -108.05534298073312, -124.21643843527875, -138.8207475261877, -133.09871873830895, -102.06302934436962, -65.53249298073332, -63.08121419285455, -52.197812677703105, -25.278676314066665, -23.34468237467266, -23.220042980733375, -1.455527829218068, 4.090896413206232, 56.61369035260022, 62.458826716236544, 58.53785701926668, 66.45890701926673, 45.72224035259997, 48.63019186775166, 15.638967625327265, 9.178437322296976, -6.073908132248491, 18.375678231388008, 27.54479641320614, 44.10855853441833, 51.1808176253273, 73.79208732229691, 51.729355504115226, 75.74853429199389, 69.58642520108485, 101.74607228301534, 121.86572969042258, 151.91454913486717, 163.64868956696597, 117.58116487560778, 82.31475746820041, 44.021995122521396, 29.170030616348594, 36.681200369434926, -35.893819692293256, -22.67378419846619, -10.363933889824299, 2.9250722830153126, 12.677334628694254, -11.25922247007112, -32.10551413673788, -3.1612764824166004, 5.955575369435107, 13.727198826225163, -19.654500247848862, -72.60759747007094, -98.26215919846605, -42.48245240834252, -29.65960672933016, -40.35777339599684, -38.75772401328074, -67.47996784044135, -79.92338540497565, -100.07949298073302, -92.46479298073311, -108.05534298073312, -124.21643843527875, -138.8207475261877, -133.09871873830895, -102.06302934436962, -65.53249298073332, -63.08121419285455, -52.197812677703105, -25.278676314066665, -23.34468237467266, -23.220042980733375, -1.455527829218068, 4.090896413206232, 56.61369035260022, 62.458826716236544, 58.53785701926668, 66.45890701926673, 45.72224035259997, 48.63019186775166, 15.638967625327265, 9.178437322296976, -6.073908132248491, 18.375678231388008, 27.54479641320614, 44.10855853441833, 51.1808176253273, 73.79208732229691, 51.729355504115226, 75.74853429199389, 69.58642520108485, 101.74607228301534, 121.86572969042258, 151.91454913486717, 163.64868956696597, 117.58116487560778, 82.31475746820041, 44.021995122521396, 29.170030616348594, 36.681200369434926, -35.893819692293256, -22.67378419846619, -10.363933889824299, 2.9250722830153126, 12.677334628694254, -11.25922247007112, -32.10551413673788, -3.1612764824166004, 5.955575369435107, 13.727198826225163, -19.654500247848862, -72.60759747007094, -98.26215919846605, -42.48245240834252, -29.65960672933016, -40.35777339599684, -38.75772401328074, -67.47996784044135, -79.92338540497565, -100.07949298073302, -92.46479298073311, -108.05534298073312, -124.21643843527875, -138.8207475261877, -133.09871873830895, -102.06302934436962, -65.53249298073332, -63.08121419285455, -52.197812677703105, -25.278676314066665, -23.34468237467266, -23.220042980733375, -1.455527829218068, 4.090896413206232, 56.61369035260022, 62.458826716236544, 58.53785701926668, 66.45890701926673, 45.72224035259997, 48.63019186775166, 15.638967625327265, 9.178437322296976, -6.073908132248491, 18.375678231388008, 27.54479641320614, 44.10855853441833, 51.1808176253273, 73.79208732229691, 51.729355504115226, 75.74853429199389, 69.58642520108485, 101.74607228301534, 121.86572969042258, 151.91454913486717, 163.64868956696597, 117.58116487560778, 82.31475746820041, 44.021995122521396, 29.170030616348594, 36.681200369434926, -35.893819692293256, -22.67378419846619, -10.363933889824299, 2.9250722830153126, 12.677334628694254, -11.25922247007112, -32.10551413673788, -3.1612764824166004, 5.955575369435107, 13.727198826225163, -19.654500247848862, -72.60759747007094, -98.26215919846605, -42.48245240834252, -29.65960672933016, -40.35777339599684, -38.75772401328074, -67.47996784044135, -79.92338540497565, -100.07949298073302, -92.46479298073311, -108.05534298073312, -124.21643843527875, -138.8207475261877, -133.09871873830895, -102.06302934436962, -65.53249298073332, -63.08121419285455, -52.197812677703105, -25.278676314066665, -23.34468237467266, -23.220042980733375, -1.455527829218068, 4.090896413206232, 56.61369035260022, 62.458826716236544, 58.53785701926668, 66.45890701926673, 45.72224035259997, 48.63019186775166, 15.638967625327265, 9.178437322296976, -6.073908132248491, 18.375678231388008, 27.54479641320614, 44.10855853441833, 51.1808176253273, 73.79208732229691, 51.729355504115226, 75.74853429199389, 69.58642520108485, 101.74607228301534, 121.86572969042258, 151.91454913486717, 163.64868956696597, 117.58116487560778, 82.31475746820041, 44.021995122521396, 29.170030616348594, 36.681200369434926, -35.893819692293256, -22.67378419846619, -10.363933889824299, 2.9250722830153126, 12.677334628694254, -11.25922247007112, -32.10551413673788, -3.1612764824166004, 5.955575369435107, 13.727198826225163, -19.654500247848862, -72.60759747007094, -98.26215919846605, -42.48245240834252, -29.65960672933016, -40.35777339599684, -38.75772401328074, -67.47996784044135, -79.92338540497565, -100.07949298073302, -92.46479298073311, -108.05534298073312, -124.21643843527875, -138.8207475261877, -133.09871873830895, -102.06302934436962, -65.53249298073332, -63.08121419285455, -52.197812677703105, -25.278676314066665, -23.34468237467266, -23.220042980733375, -1.455527829218068, 4.090896413206232, 56.61369035260022, 62.458826716236544, 58.53785701926668, 66.45890701926673, 45.72224035259997, 48.63019186775166, 15.638967625327265, 9.178437322296976, -6.073908132248491, 18.375678231388008, 27.54479641320614, 44.10855853441833, 51.1808176253273, 73.79208732229691, 51.729355504115226, 75.74853429199389, 69.58642520108485, 101.74607228301534, 121.86572969042258, 151.91454913486717, 163.64868956696597, 117.58116487560778, 82.31475746820041, 44.021995122521396, 29.170030616348594, 36.681200369434926, -35.893819692293256, -22.67378419846619, -10.363933889824299, 2.9250722830153126, 12.677334628694254, -11.25922247007112, -32.10551413673788, -3.1612764824166004, 5.955575369435107, 13.727198826225163, -19.654500247848862, -72.60759747007094, -98.26215919846605, -42.48245240834252, -29.65960672933016, -40.35777339599684, -38.75772401328074, -67.47996784044135, -79.92338540497565, -100.07949298073302, -92.46479298073311, -108.05534298073312, -124.21643843527875, -138.8207475261877, -133.09871873830895, -102.06302934436962, -65.53249298073332, -63.08121419285455, -52.197812677703105, -25.278676314066665, -23.34468237467266, -23.220042980733375, -1.455527829218068, 4.090896413206232, 56.61369035260022, 62.458826716236544, 58.53785701926668, 66.45890701926673, 45.72224035259997, 48.63019186775166, 15.638967625327265, 9.178437322296976, -6.073908132248491, 18.375678231388008, 27.54479641320614, 44.10855853441833, 51.1808176253273, 73.79208732229691, 51.729355504115226, 75.74853429199389, 69.58642520108485, 101.74607228301534, 121.86572969042258, 151.91454913486717, 163.64868956696597, 117.58116487560778, 82.31475746820041, 44.021995122521396, 29.170030616348594, 36.681200369434926, -35.893819692293256, -22.67378419846619, -10.363933889824299, 2.9250722830153126, 12.677334628694254, -11.25922247007112, -32.10551413673788, -3.1612764824166004, 5.955575369435107, 13.727198826225163, -19.654500247848862, -72.60759747007094, -98.26215919846605, -42.48245240834252, -29.65960672933016, -40.35777339599684, -38.75772401328074, -67.47996784044135, -79.92338540497565, -100.07949298073302, -92.46479298073311, -108.05534298073312, -124.21643843527875, -138.8207475261877, -133.09871873830895, -102.06302934436962, -65.53249298073332, -63.08121419285455, -52.197812677703105, -25.278676314066665, -23.34468237467266, -23.220042980733375, -1.455527829218068, 4.090896413206232, 56.61369035260022, 62.458826716236544, 58.53785701926668, 66.45890701926673, 45.72224035259997, 48.63019186775166, 15.638967625327265, 9.178437322296976, -6.073908132248491, 18.375678231388008, 27.54479641320614, 44.10855853441833, 51.1808176253273, 73.79208732229691, 51.729355504115226, 75.74853429199389, 69.58642520108485, 101.74607228301534, 121.86572969042258, 151.91454913486717, 163.64868956696597, 117.58116487560778, 82.31475746820041, 44.021995122521396, 29.170030616348594, 36.681200369434926, -35.893819692293256, -22.67378419846619, -10.363933889824299, 2.9250722830153126, 12.677334628694254, -11.25922247007112, -32.10551413673788, -3.1612764824166004, 5.955575369435107, 13.727198826225163, -19.654500247848862, -72.60759747007094, -98.26215919846605, -42.48245240834252, -29.65960672933016, -40.35777339599684, -38.75772401328074, -67.47996784044135, -79.92338540497565, -100.07949298073302, -92.46479298073311, -108.05534298073312, -124.21643843527875, -138.8207475261877, -133.09871873830895, -102.06302934436962, -65.53249298073332, -63.08121419285455, -52.197812677703105, -25.278676314066665, -23.34468237467266, -23.220042980733375, -1.455527829218068, 4.090896413206232, 56.61369035260022, 62.458826716236544, 58.53785701926668, 66.45890701926673, 45.72224035259997, 48.63019186775166, 15.638967625327265, 9.178437322296976, -6.073908132248491, 18.375678231388008, 27.54479641320614, 44.10855853441833, 51.1808176253273, 73.79208732229691, 51.729355504115226, 75.74853429199389, 69.58642520108485, 101.74607228301534, 121.86572969042258, 151.91454913486717, 163.64868956696597, 117.58116487560778, 82.31475746820041, 44.021995122521396, 29.170030616348594, 36.681200369434926, -35.893819692293256, -22.67378419846619, -10.363933889824299, 2.9250722830153126, 12.677334628694254, -11.25922247007112, -32.10551413673788, -3.1612764824166004, 5.955575369435107, 13.727198826225163, -19.654500247848862, -72.60759747007094, -98.26215919846605, -42.48245240834252, -29.65960672933016, -40.35777339599684, -38.75772401328074, -67.47996784044135, -79.92338540497565, -100.07949298073302, -92.46479298073311, -108.05534298073312, -124.21643843527875, -138.8207475261877, -133.09871873830895, -102.06302934436962, -65.53249298073332, -63.08121419285455, -52.197812677703105, -25.278676314066665, -23.34468237467266, -23.220042980733375, -1.455527829218068, 4.090896413206232, 56.61369035260022, 62.458826716236544, 58.53785701926668, 66.45890701926673, 45.72224035259997, 48.63019186775166, 15.638967625327265, 9.178437322296976, -6.073908132248491, 18.375678231388008, 27.54479641320614, 44.10855853441833, 51.1808176253273, 73.79208732229691, 51.729355504115226, 75.74853429199389, 69.58642520108485, 101.74607228301534, 121.86572969042258, 151.91454913486717, 163.64868956696597, 117.58116487560778, 82.31475746820041, 44.021995122521396, 29.170030616348594, 36.681200369434926, -35.893819692293256, -22.67378419846619, -10.363933889824299, 2.9250722830153126, 12.677334628694254, -11.25922247007112, -32.10551413673788, -3.1612764824166004, 5.955575369435107, 13.727198826225163, -19.654500247848862, -72.60759747007094, -98.26215919846605, -42.48245240834252, -29.65960672933016, -40.35777339599684, -38.75772401328074, -67.47996784044135, -79.92338540497565, -100.07949298073302, -92.46479298073311, -108.05534298073312, -124.21643843527875, -138.8207475261877, -133.09871873830895, -102.06302934436962, -65.53249298073332, -63.08121419285455, -52.197812677703105, -25.278676314066665, -23.34468237467266, -23.220042980733375, -1.455527829218068, 4.090896413206232, 56.61369035260022, 62.458826716236544, 58.53785701926668, 66.45890701926673, 45.72224035259997, 48.63019186775166, 15.638967625327265, 9.178437322296976, -6.073908132248491, 18.375678231388008, 27.54479641320614, 44.10855853441833, 51.1808176253273, 73.79208732229691, 51.729355504115226, 75.74853429199389, 69.58642520108485, 101.74607228301534, 121.86572969042258, 151.91454913486717, 163.64868956696597, 117.58116487560778, 82.31475746820041, 44.021995122521396, 29.170030616348594, 36.681200369434926, -35.893819692293256, -22.67378419846619, -10.363933889824299, 2.9250722830153126, 12.677334628694254, -11.25922247007112, -32.10551413673788, -3.1612764824166004, 5.955575369435107, 13.727198826225163, -19.654500247848862, -72.60759747007094, -98.26215919846605, -42.48245240834252, -29.65960672933016, -40.35777339599684, -38.75772401328074, -67.47996784044135, -79.92338540497565, -100.07949298073302, -92.46479298073311, -108.05534298073312, -124.21643843527875, -138.8207475261877, -133.09871873830895, -102.06302934436962, -65.53249298073332, -63.08121419285455, -52.197812677703105, -25.278676314066665, -23.34468237467266, -23.220042980733375, -1.455527829218068, 4.090896413206232, 56.61369035260022, 62.458826716236544, 58.53785701926668, 66.45890701926673, 45.72224035259997, 48.63019186775166, 15.638967625327265, 9.178437322296976, -6.073908132248491, 18.375678231388008, 27.54479641320614, 44.10855853441833, 51.1808176253273, 73.79208732229691, 51.729355504115226, 75.74853429199389, 69.58642520108485, 101.74607228301534, 121.86572969042258, 151.91454913486717, 163.64868956696597, 117.58116487560778, 82.31475746820041, 44.021995122521396, 29.170030616348594, 36.681200369434926, -35.893819692293256, -22.67378419846619, -10.363933889824299, 2.9250722830153126, 12.677334628694254, -11.25922247007112, -32.10551413673788, -3.1612764824166004, 5.955575369435107, 13.727198826225163, -19.654500247848862, -72.60759747007094, -98.26215919846605, -42.48245240834252, -29.65960672933016, -40.35777339599684, -38.75772401328074, -67.47996784044135, -79.92338540497565, -100.07949298073302, -92.46479298073311, -108.05534298073312, -124.21643843527875, -138.8207475261877, -133.09871873830895, -102.06302934436962, -65.53249298073332, -63.08121419285455, -52.197812677703105, -25.278676314066665, -23.34468237467266, -23.220042980733375, -1.455527829218068, 4.090896413206232, 56.61369035260022, 62.458826716236544, 58.53785701926668, 66.45890701926673, 45.72224035259997, 48.63019186775166, 15.638967625327265, 9.178437322296976, -6.073908132248491, 18.375678231388008, 27.54479641320614, 44.10855853441833, 51.1808176253273, 73.79208732229691, 51.729355504115226, 75.74853429199389, 69.58642520108485, 101.74607228301534, 121.86572969042258, 151.91454913486717, 163.64868956696597, 117.58116487560778, 82.31475746820041, 44.021995122521396, 29.170030616348594, 36.681200369434926, -35.893819692293256, -22.67378419846619, -10.363933889824299, 2.9250722830153126, 12.677334628694254, -11.25922247007112, -32.10551413673788, -3.1612764824166004, 5.955575369435107, 13.727198826225163, -19.654500247848862, -72.60759747007094, -98.26215919846605, -42.48245240834252, -29.65960672933016, -40.35777339599684, -38.75772401328074, -67.47996784044135, -79.92338540497565, -100.07949298073302, -92.46479298073311, -108.05534298073312, -124.21643843527875, -138.8207475261877, -133.09871873830895, -102.06302934436962, -65.53249298073332, -63.08121419285455, -52.197812677703105, -25.278676314066665, -23.34468237467266, -23.220042980733375, -1.455527829218068, 4.090896413206232, 56.61369035260022, 62.458826716236544, 58.53785701926668, 66.45890701926673, 45.72224035259997, 48.63019186775166, 15.638967625327265, 9.178437322296976, -6.073908132248491, 18.375678231388008, 27.54479641320614, 44.10855853441833, 51.1808176253273, 73.79208732229691, 51.729355504115226, 75.74853429199389, 69.58642520108485, 101.74607228301534, 121.86572969042258, 151.91454913486717, 163.64868956696597, 117.58116487560778, 82.31475746820041, 44.021995122521396, 29.170030616348594, 36.681200369434926, -35.893819692293256, -22.67378419846619, -10.363933889824299, 2.9250722830153126, 12.677334628694254, -11.25922247007112, -32.10551413673788, -3.1612764824166004, 5.955575369435107, 13.727198826225163, -19.654500247848862, -72.60759747007094, -98.26215919846605, -42.48245240834252, -29.65960672933016, -40.35777339599684, -38.75772401328074, -67.47996784044135, -79.92338540497565, -100.07949298073302, -92.46479298073311, -108.05534298073312, -124.21643843527875, -138.8207475261877, -133.09871873830895, -102.06302934436962, -65.53249298073332, -63.08121419285455, -52.197812677703105, -25.278676314066665, -23.34468237467266, -23.220042980733375, -1.455527829218068, 4.090896413206232, 56.61369035260022, 62.458826716236544, 58.53785701926668, 66.45890701926673, 45.72224035259997, 48.63019186775166, 15.638967625327265, 9.178437322296976, -6.073908132248491, 18.375678231388008, 27.54479641320614, 44.10855853441833, 51.1808176253273, 73.79208732229691, 51.729355504115226, 75.74853429199389, 69.58642520108485, 101.74607228301534, 121.86572969042258, 151.91454913486717, 163.64868956696597, 117.58116487560778, 82.31475746820041, 44.021995122521396, 29.170030616348594, 36.681200369434926, -35.893819692293256, -22.67378419846619, -10.363933889824299, 2.9250722830153126, 12.677334628694254, -11.25922247007112, -32.10551413673788, -3.1612764824166004, 5.955575369435107, 13.727198826225163, -19.654500247848862, -72.60759747007094, -98.26215919846605, -42.48245240834252, -29.65960672933016, -40.35777339599684, -38.75772401328074, -67.47996784044135, -79.92338540497565, -100.07949298073302, -92.46479298073311]}, {\"line\": {\"color\": \"rgb(209, 244, 66)\", \"width\": 2}, \"mode\": \"lines\", \"name\": \"Residual\", \"type\": \"scatter\", \"x\": [0, 1, 2, 3, 4, 5, 6, 7, 8, 9, 10, 11, 12, 13, 14, 15, 16, 17, 18, 19, 20, 21, 22, 23, 24, 25, 26, 27, 28, 29, 30, 31, 32, 33, 34, 35, 36, 37, 38, 39, 40, 41, 42, 43, 44, 45, 46, 47, 48, 49, 50, 51, 52, 53, 54, 55, 56, 57, 58, 59, 60, 61, 62, 63, 64, 65, 66, 67, 68, 69, 70, 71, 72, 73, 74, 75, 76, 77, 78, 79, 80, 81, 82, 83, 84, 85, 86, 87, 88, 89, 90, 91, 92, 93, 94, 95, 96, 97, 98, 99, 100, 101, 102, 103, 104, 105, 106, 107, 108, 109, 110, 111, 112, 113, 114, 115, 116, 117, 118, 119, 120, 121, 122, 123, 124, 125, 126, 127, 128, 129, 130, 131, 132, 133, 134, 135, 136, 137, 138, 139, 140, 141, 142, 143, 144, 145, 146, 147, 148, 149, 150, 151, 152, 153, 154, 155, 156, 157, 158, 159, 160, 161, 162, 163, 164, 165, 166, 167, 168, 169, 170, 171, 172, 173, 174, 175, 176, 177, 178, 179, 180, 181, 182, 183, 184, 185, 186, 187, 188, 189, 190, 191, 192, 193, 194, 195, 196, 197, 198, 199, 200, 201, 202, 203, 204, 205, 206, 207, 208, 209, 210, 211, 212, 213, 214, 215, 216, 217, 218, 219, 220, 221, 222, 223, 224, 225, 226, 227, 228, 229, 230, 231, 232, 233, 234, 235, 236, 237, 238, 239, 240, 241, 242, 243, 244, 245, 246, 247, 248, 249, 250, 251, 252, 253, 254, 255, 256, 257, 258, 259, 260, 261, 262, 263, 264, 265, 266, 267, 268, 269, 270, 271, 272, 273, 274, 275, 276, 277, 278, 279, 280, 281, 282, 283, 284, 285, 286, 287, 288, 289, 290, 291, 292, 293, 294, 295, 296, 297, 298, 299, 300, 301, 302, 303, 304, 305, 306, 307, 308, 309, 310, 311, 312, 313, 314, 315, 316, 317, 318, 319, 320, 321, 322, 323, 324, 325, 326, 327, 328, 329, 330, 331, 332, 333, 334, 335, 336, 337, 338, 339, 340, 341, 342, 343, 344, 345, 346, 347, 348, 349, 350, 351, 352, 353, 354, 355, 356, 357, 358, 359, 360, 361, 362, 363, 364, 365, 366, 367, 368, 369, 370, 371, 372, 373, 374, 375, 376, 377, 378, 379, 380, 381, 382, 383, 384, 385, 386, 387, 388, 389, 390, 391, 392, 393, 394, 395, 396, 397, 398, 399, 400, 401, 402, 403, 404, 405, 406, 407, 408, 409, 410, 411, 412, 413, 414, 415, 416, 417, 418, 419, 420, 421, 422, 423, 424, 425, 426, 427, 428, 429, 430, 431, 432, 433, 434, 435, 436, 437, 438, 439, 440, 441, 442, 443, 444, 445, 446, 447, 448, 449, 450, 451, 452, 453, 454, 455, 456, 457, 458, 459, 460, 461, 462, 463, 464, 465, 466, 467, 468, 469, 470, 471, 472, 473, 474, 475, 476, 477, 478, 479, 480, 481, 482, 483, 484, 485, 486, 487, 488, 489, 490, 491, 492, 493, 494, 495, 496, 497, 498, 499, 500, 501, 502, 503, 504, 505, 506, 507, 508, 509, 510, 511, 512, 513, 514, 515, 516, 517, 518, 519, 520, 521, 522, 523, 524, 525, 526, 527, 528, 529, 530, 531, 532, 533, 534, 535, 536, 537, 538, 539, 540, 541, 542, 543, 544, 545, 546, 547, 548, 549, 550, 551, 552, 553, 554, 555, 556, 557, 558, 559, 560, 561, 562, 563, 564, 565, 566, 567, 568, 569, 570, 571, 572, 573, 574, 575, 576, 577, 578, 579, 580, 581, 582, 583, 584, 585, 586, 587, 588, 589, 590, 591, 592, 593, 594, 595, 596, 597, 598, 599, 600, 601, 602, 603, 604, 605, 606, 607, 608, 609, 610, 611, 612, 613, 614, 615, 616, 617, 618, 619, 620, 621, 622, 623, 624, 625, 626, 627, 628, 629, 630, 631, 632, 633, 634, 635, 636, 637, 638, 639, 640, 641, 642, 643, 644, 645, 646, 647, 648, 649, 650, 651, 652, 653, 654, 655, 656, 657, 658, 659, 660, 661, 662, 663, 664, 665, 666, 667, 668, 669, 670, 671, 672, 673, 674, 675, 676, 677, 678, 679, 680, 681, 682, 683, 684, 685, 686, 687, 688, 689, 690, 691, 692, 693, 694, 695, 696, 697, 698, 699, 700, 701, 702, 703, 704, 705, 706, 707, 708, 709, 710, 711, 712, 713, 714, 715, 716, 717, 718, 719, 720, 721, 722, 723, 724, 725, 726, 727, 728, 729, 730, 731, 732, 733, 734, 735, 736, 737, 738, 739, 740, 741, 742, 743, 744, 745, 746, 747, 748, 749, 750, 751, 752, 753, 754, 755, 756, 757, 758, 759, 760, 761, 762, 763, 764, 765, 766, 767, 768, 769, 770, 771, 772, 773, 774, 775, 776, 777, 778, 779, 780, 781, 782, 783, 784, 785, 786, 787, 788, 789, 790, 791, 792, 793, 794, 795, 796, 797, 798, 799, 800, 801, 802, 803, 804, 805, 806, 807, 808, 809, 810, 811, 812, 813, 814, 815, 816, 817, 818, 819, 820, 821, 822, 823, 824, 825, 826, 827, 828, 829, 830, 831, 832, 833, 834, 835, 836, 837, 838, 839, 840, 841, 842, 843, 844, 845, 846, 847, 848, 849, 850, 851, 852, 853, 854, 855, 856, 857, 858, 859, 860, 861, 862, 863, 864, 865, 866, 867, 868, 869, 870, 871, 872, 873, 874, 875, 876, 877, 878, 879, 880, 881, 882, 883, 884, 885, 886, 887, 888, 889, 890, 891, 892, 893, 894, 895, 896, 897, 898, 899, 900, 901, 902, 903, 904, 905, 906, 907, 908, 909, 910, 911, 912, 913, 914, 915, 916, 917, 918, 919, 920, 921, 922, 923, 924, 925, 926, 927, 928, 929, 930, 931, 932, 933, 934, 935, 936, 937, 938, 939, 940, 941, 942, 943, 944, 945, 946, 947, 948, 949, 950, 951, 952, 953, 954, 955, 956, 957, 958, 959, 960, 961, 962, 963, 964, 965, 966, 967, 968, 969, 970, 971, 972, 973, 974, 975, 976, 977, 978, 979, 980, 981, 982, 983, 984, 985, 986, 987, 988, 989, 990, 991, 992, 993, 994, 995, 996, 997, 998, 999, 1000, 1001, 1002, 1003, 1004, 1005, 1006, 1007, 1008, 1009, 1010, 1011, 1012, 1013, 1014, 1015, 1016, 1017, 1018, 1019, 1020, 1021, 1022, 1023, 1024, 1025, 1026, 1027, 1028, 1029, 1030, 1031, 1032, 1033, 1034, 1035, 1036, 1037, 1038, 1039, 1040, 1041, 1042, 1043, 1044, 1045, 1046, 1047, 1048, 1049, 1050, 1051, 1052, 1053, 1054, 1055, 1056, 1057, 1058, 1059, 1060, 1061, 1062, 1063, 1064, 1065, 1066, 1067, 1068, 1069, 1070, 1071, 1072, 1073, 1074, 1075, 1076, 1077, 1078, 1079, 1080, 1081, 1082, 1083, 1084, 1085, 1086, 1087, 1088, 1089, 1090, 1091, 1092, 1093, 1094, 1095, 1096, 1097, 1098, 1099, 1100, 1101, 1102, 1103, 1104, 1105, 1106, 1107, 1108, 1109, 1110, 1111, 1112, 1113, 1114, 1115, 1116, 1117, 1118, 1119, 1120, 1121, 1122, 1123, 1124, 1125, 1126, 1127, 1128, 1129, 1130, 1131, 1132, 1133, 1134, 1135, 1136, 1137, 1138, 1139, 1140, 1141, 1142, 1143, 1144, 1145, 1146, 1147, 1148, 1149, 1150, 1151, 1152, 1153, 1154, 1155, 1156, 1157, 1158, 1159, 1160, 1161, 1162, 1163, 1164, 1165, 1166, 1167, 1168, 1169, 1170, 1171, 1172, 1173, 1174, 1175, 1176, 1177, 1178, 1179, 1180, 1181, 1182, 1183, 1184, 1185, 1186, 1187, 1188, 1189, 1190, 1191, 1192, 1193, 1194, 1195, 1196, 1197, 1198, 1199, 1200, 1201, 1202, 1203, 1204, 1205, 1206, 1207, 1208, 1209, 1210, 1211, 1212, 1213, 1214, 1215, 1216, 1217, 1218, 1219, 1220, 1221, 1222, 1223, 1224, 1225, 1226, 1227, 1228, 1229, 1230, 1231, 1232, 1233, 1234, 1235, 1236, 1237, 1238, 1239, 1240, 1241, 1242, 1243, 1244, 1245, 1246, 1247, 1248, 1249, 1250, 1251, 1252, 1253, 1254, 1255, 1256, 1257, 1258, 1259, 1260, 1261, 1262, 1263, 1264, 1265, 1266, 1267, 1268, 1269, 1270, 1271, 1272, 1273, 1274, 1275, 1276, 1277, 1278, 1279, 1280, 1281, 1282, 1283, 1284, 1285, 1286, 1287, 1288, 1289, 1290, 1291, 1292, 1293, 1294, 1295, 1296, 1297, 1298, 1299, 1300, 1301, 1302, 1303, 1304, 1305, 1306, 1307, 1308, 1309, 1310, 1311, 1312, 1313, 1314, 1315, 1316, 1317, 1318, 1319, 1320, 1321, 1322, 1323, 1324, 1325, 1326, 1327, 1328, 1329, 1330, 1331, 1332, 1333, 1334, 1335, 1336, 1337, 1338, 1339, 1340, 1341, 1342, 1343, 1344, 1345, 1346, 1347, 1348, 1349, 1350, 1351, 1352, 1353, 1354, 1355, 1356, 1357, 1358, 1359, 1360, 1361, 1362, 1363, 1364, 1365, 1366, 1367, 1368, 1369, 1370, 1371, 1372, 1373, 1374, 1375, 1376, 1377, 1378, 1379, 1380, 1381, 1382, 1383, 1384, 1385, 1386, 1387, 1388, 1389, 1390, 1391, 1392, 1393, 1394, 1395, 1396, 1397, 1398, 1399, 1400, 1401, 1402, 1403, 1404, 1405, 1406, 1407, 1408, 1409, 1410, 1411, 1412, 1413, 1414, 1415, 1416, 1417, 1418, 1419, 1420, 1421, 1422, 1423, 1424, 1425, 1426, 1427, 1428, 1429, 1430, 1431, 1432, 1433, 1434, 1435, 1436, 1437, 1438, 1439, 1440, 1441, 1442, 1443, 1444, 1445, 1446, 1447, 1448, 1449, 1450, 1451, 1452, 1453, 1454, 1455, 1456, 1457, 1458, 1459, 1460, 1461, 1462, 1463, 1464, 1465, 1466, 1467, 1468, 1469, 1470, 1471, 1472, 1473, 1474, 1475, 1476, 1477, 1478, 1479, 1480, 1481, 1482, 1483, 1484, 1485, 1486, 1487, 1488, 1489, 1490, 1491, 1492, 1493, 1494, 1495, 1496, 1497, 1498, 1499, 1500, 1501, 1502, 1503, 1504, 1505, 1506, 1507, 1508, 1509, 1510, 1511, 1512, 1513, 1514, 1515, 1516, 1517, 1518, 1519, 1520, 1521, 1522, 1523, 1524, 1525, 1526, 1527, 1528, 1529, 1530, 1531, 1532, 1533, 1534, 1535, 1536, 1537, 1538, 1539, 1540, 1541, 1542, 1543, 1544, 1545, 1546, 1547, 1548, 1549, 1550, 1551, 1552, 1553, 1554, 1555, 1556, 1557, 1558, 1559, 1560, 1561, 1562, 1563, 1564, 1565, 1566, 1567, 1568, 1569, 1570, 1571, 1572, 1573, 1574, 1575, 1576, 1577, 1578, 1579, 1580, 1581, 1582, 1583, 1584, 1585, 1586, 1587, 1588, 1589, 1590, 1591, 1592, 1593, 1594, 1595, 1596, 1597, 1598, 1599, 1600, 1601, 1602, 1603, 1604, 1605, 1606, 1607, 1608, 1609, 1610, 1611, 1612, 1613, 1614, 1615, 1616, 1617, 1618, 1619, 1620, 1621, 1622, 1623, 1624, 1625, 1626, 1627, 1628, 1629, 1630, 1631, 1632, 1633, 1634, 1635, 1636, 1637, 1638, 1639, 1640, 1641, 1642, 1643, 1644, 1645, 1646, 1647, 1648, 1649, 1650, 1651, 1652, 1653, 1654, 1655, 1656, 1657, 1658, 1659, 1660, 1661, 1662, 1663, 1664, 1665, 1666, 1667, 1668, 1669, 1670, 1671, 1672, 1673, 1674, 1675, 1676, 1677, 1678, 1679, 1680, 1681, 1682, 1683, 1684, 1685, 1686, 1687, 1688, 1689, 1690, 1691, 1692, 1693, 1694, 1695, 1696, 1697, 1698, 1699, 1700, 1701, 1702, 1703, 1704, 1705, 1706, 1707, 1708, 1709, 1710, 1711, 1712, 1713, 1714, 1715, 1716, 1717, 1718, 1719, 1720, 1721, 1722, 1723, 1724, 1725, 1726, 1727, 1728, 1729, 1730, 1731, 1732, 1733, 1734, 1735, 1736, 1737, 1738, 1739, 1740, 1741, 1742, 1743, 1744, 1745, 1746, 1747, 1748, 1749, 1750, 1751, 1752, 1753, 1754, 1755, 1756, 1757, 1758, 1759, 1760, 1761, 1762, 1763, 1764, 1765, 1766, 1767, 1768, 1769, 1770, 1771, 1772, 1773, 1774, 1775, 1776, 1777, 1778, 1779, 1780, 1781, 1782, 1783, 1784, 1785, 1786, 1787, 1788, 1789, 1790, 1791, 1792, 1793, 1794, 1795, 1796, 1797, 1798, 1799, 1800, 1801, 1802, 1803, 1804, 1805, 1806, 1807, 1808, 1809, 1810, 1811, 1812, 1813, 1814, 1815, 1816, 1817, 1818, 1819, 1820, 1821, 1822, 1823, 1824, 1825, 1826, 1827, 1828, 1829, 1830, 1831, 1832, 1833, 1834, 1835, 1836, 1837, 1838, 1839, 1840, 1841, 1842, 1843, 1844, 1845, 1846, 1847, 1848, 1849, 1850, 1851, 1852, 1853, 1854, 1855, 1856, 1857, 1858, 1859, 1860, 1861, 1862, 1863, 1864, 1865, 1866, 1867, 1868, 1869, 1870, 1871, 1872, 1873, 1874, 1875, 1876, 1877, 1878, 1879, 1880, 1881, 1882, 1883, 1884, 1885, 1886, 1887, 1888, 1889, 1890, 1891, 1892, 1893, 1894, 1895, 1896, 1897, 1898, 1899, 1900, 1901, 1902, 1903, 1904, 1905, 1906, 1907, 1908, 1909, 1910, 1911, 1912, 1913, 1914, 1915, 1916, 1917, 1918, 1919, 1920, 1921, 1922, 1923, 1924, 1925, 1926, 1927, 1928, 1929, 1930, 1931, 1932, 1933, 1934, 1935, 1936, 1937, 1938, 1939, 1940, 1941, 1942, 1943, 1944, 1945, 1946, 1947, 1948, 1949, 1950, 1951, 1952, 1953, 1954, 1955, 1956, 1957, 1958, 1959, 1960, 1961, 1962, 1963, 1964, 1965, 1966, 1967, 1968, 1969, 1970, 1971, 1972, 1973, 1974, 1975, 1976, 1977, 1978, 1979, 1980, 1981, 1982, 1983, 1984, 1985, 1986, 1987, 1988, 1989, 1990, 1991, 1992, 1993, 1994, 1995, 1996, 1997, 1998, 1999, 2000, 2001, 2002, 2003, 2004, 2005, 2006, 2007, 2008, 2009, 2010, 2011, 2012, 2013, 2014, 2015, 2016, 2017, 2018, 2019, 2020, 2021, 2022, 2023, 2024, 2025, 2026, 2027, 2028, 2029, 2030, 2031, 2032, 2033, 2034, 2035, 2036, 2037, 2038, 2039, 2040, 2041, 2042, 2043, 2044, 2045, 2046, 2047, 2048, 2049, 2050, 2051, 2052, 2053, 2054, 2055, 2056, 2057, 2058, 2059, 2060, 2061, 2062, 2063, 2064, 2065, 2066, 2067, 2068, 2069, 2070, 2071, 2072, 2073, 2074, 2075, 2076, 2077, 2078, 2079, 2080, 2081, 2082, 2083, 2084, 2085, 2086, 2087, 2088, 2089, 2090, 2091, 2092, 2093, 2094, 2095, 2096, 2097, 2098, 2099, 2100, 2101, 2102, 2103, 2104, 2105, 2106, 2107, 2108, 2109, 2110, 2111, 2112, 2113, 2114, 2115, 2116, 2117, 2118, 2119, 2120, 2121, 2122, 2123, 2124, 2125, 2126, 2127, 2128, 2129, 2130, 2131, 2132, 2133, 2134, 2135, 2136, 2137, 2138, 2139, 2140, 2141, 2142, 2143, 2144, 2145, 2146, 2147, 2148, 2149, 2150, 2151, 2152, 2153, 2154, 2155, 2156, 2157, 2158, 2159, 2160, 2161, 2162, 2163, 2164, 2165, 2166, 2167, 2168, 2169, 2170, 2171, 2172, 2173, 2174, 2175, 2176, 2177, 2178, 2179, 2180, 2181, 2182, 2183, 2184, 2185, 2186, 2187, 2188, 2189, 2190, 2191, 2192, 2193, 2194, 2195, 2196, 2197, 2198, 2199, 2200, 2201, 2202, 2203, 2204, 2205, 2206, 2207, 2208, 2209, 2210, 2211, 2212, 2213, 2214, 2215, 2216, 2217, 2218, 2219, 2220, 2221, 2222, 2223, 2224, 2225, 2226, 2227, 2228, 2229, 2230, 2231, 2232, 2233, 2234, 2235, 2236, 2237, 2238, 2239, 2240, 2241, 2242, 2243, 2244, 2245, 2246, 2247, 2248, 2249, 2250, 2251, 2252, 2253, 2254, 2255, 2256, 2257, 2258, 2259, 2260, 2261, 2262, 2263, 2264, 2265, 2266, 2267, 2268, 2269, 2270, 2271, 2272, 2273, 2274, 2275, 2276, 2277, 2278, 2279, 2280, 2281, 2282, 2283, 2284, 2285, 2286, 2287, 2288, 2289, 2290, 2291, 2292, 2293, 2294, 2295, 2296, 2297, 2298, 2299, 2300, 2301, 2302, 2303, 2304, 2305, 2306, 2307, 2308, 2309, 2310, 2311, 2312, 2313, 2314, 2315, 2316, 2317, 2318, 2319, 2320, 2321, 2322, 2323, 2324, 2325, 2326, 2327, 2328, 2329, 2330, 2331, 2332, 2333, 2334, 2335, 2336, 2337, 2338, 2339, 2340, 2341, 2342, 2343, 2344, 2345, 2346, 2347, 2348, 2349, 2350, 2351, 2352, 2353, 2354, 2355, 2356, 2357, 2358, 2359, 2360, 2361, 2362, 2363, 2364, 2365, 2366, 2367, 2368, 2369, 2370, 2371, 2372, 2373, 2374, 2375, 2376, 2377, 2378, 2379, 2380, 2381, 2382, 2383, 2384, 2385, 2386, 2387, 2388, 2389, 2390, 2391, 2392, 2393, 2394, 2395, 2396, 2397, 2398, 2399, 2400, 2401, 2402, 2403, 2404, 2405, 2406, 2407, 2408, 2409, 2410, 2411, 2412, 2413, 2414, 2415, 2416, 2417, 2418, 2419, 2420, 2421, 2422, 2423, 2424, 2425, 2426, 2427, 2428, 2429, 2430, 2431, 2432, 2433, 2434, 2435, 2436, 2437, 2438, 2439, 2440, 2441, 2442, 2443, 2444, 2445, 2446, 2447, 2448, 2449, 2450, 2451, 2452, 2453, 2454, 2455, 2456, 2457, 2458, 2459, 2460, 2461, 2462, 2463, 2464, 2465, 2466, 2467, 2468, 2469, 2470, 2471, 2472, 2473, 2474, 2475, 2476, 2477, 2478, 2479, 2480, 2481, 2482, 2483, 2484, 2485, 2486, 2487, 2488, 2489, 2490, 2491, 2492, 2493, 2494, 2495, 2496, 2497, 2498, 2499, 2500, 2501, 2502, 2503, 2504, 2505, 2506, 2507, 2508, 2509, 2510, 2511, 2512, 2513, 2514, 2515, 2516, 2517, 2518, 2519, 2520, 2521, 2522, 2523, 2524, 2525, 2526, 2527, 2528, 2529, 2530, 2531, 2532, 2533, 2534, 2535, 2536, 2537, 2538, 2539, 2540, 2541, 2542, 2543, 2544, 2545, 2546, 2547, 2548, 2549, 2550, 2551, 2552, 2553, 2554, 2555, 2556, 2557, 2558, 2559, 2560, 2561, 2562, 2563, 2564, 2565, 2566, 2567, 2568, 2569, 2570, 2571, 2572, 2573, 2574, 2575, 2576, 2577, 2578, 2579, 2580, 2581, 2582, 2583, 2584, 2585, 2586, 2587, 2588, 2589, 2590, 2591, 2592, 2593, 2594, 2595, 2596, 2597, 2598, 2599, 2600, 2601, 2602, 2603, 2604, 2605, 2606, 2607, 2608, 2609, 2610, 2611, 2612, 2613, 2614, 2615, 2616, 2617, 2618, 2619, 2620, 2621, 2622, 2623, 2624, 2625, 2626, 2627, 2628, 2629, 2630, 2631, 2632, 2633, 2634, 2635, 2636, 2637, 2638, 2639, 2640, 2641, 2642, 2643, 2644, 2645, 2646, 2647, 2648, 2649, 2650, 2651, 2652, 2653, 2654, 2655, 2656, 2657, 2658, 2659, 2660, 2661, 2662, 2663, 2664, 2665, 2666, 2667, 2668, 2669, 2670, 2671, 2672, 2673, 2674, 2675, 2676, 2677, 2678, 2679, 2680, 2681, 2682, 2683, 2684, 2685, 2686, 2687, 2688, 2689, 2690, 2691, 2692, 2693, 2694, 2695, 2696, 2697, 2698, 2699, 2700, 2701, 2702, 2703, 2704, 2705, 2706, 2707, 2708, 2709, 2710, 2711, 2712, 2713, 2714, 2715, 2716, 2717, 2718, 2719, 2720, 2721, 2722, 2723, 2724, 2725, 2726, 2727, 2728, 2729, 2730, 2731, 2732, 2733, 2734, 2735, 2736, 2737, 2738, 2739, 2740, 2741, 2742, 2743, 2744, 2745, 2746, 2747, 2748, 2749, 2750, 2751, 2752, 2753, 2754, 2755, 2756, 2757, 2758, 2759, 2760, 2761, 2762, 2763, 2764, 2765, 2766, 2767, 2768, 2769, 2770, 2771, 2772, 2773, 2774, 2775, 2776, 2777, 2778, 2779, 2780, 2781, 2782, 2783, 2784, 2785, 2786, 2787, 2788, 2789, 2790, 2791, 2792, 2793, 2794, 2795, 2796, 2797, 2798, 2799, 2800, 2801, 2802, 2803, 2804, 2805, 2806, 2807, 2808, 2809, 2810, 2811, 2812, 2813, 2814, 2815, 2816, 2817, 2818, 2819, 2820, 2821, 2822, 2823, 2824, 2825, 2826, 2827, 2828, 2829, 2830, 2831, 2832, 2833, 2834, 2835, 2836, 2837, 2838, 2839, 2840, 2841, 2842, 2843, 2844, 2845, 2846, 2847, 2848, 2849, 2850, 2851, 2852, 2853, 2854, 2855, 2856, 2857, 2858, 2859, 2860, 2861, 2862, 2863, 2864, 2865, 2866, 2867, 2868, 2869, 2870, 2871, 2872, 2873, 2874, 2875, 2876, 2877, 2878, 2879, 2880, 2881, 2882, 2883, 2884, 2885, 2886, 2887, 2888, 2889, 2890, 2891, 2892, 2893, 2894, 2895, 2896, 2897, 2898, 2899, 2900, 2901, 2902, 2903, 2904, 2905, 2906, 2907, 2908, 2909, 2910, 2911, 2912, 2913, 2914, 2915, 2916, 2917, 2918, 2919, 2920, 2921, 2922, 2923, 2924, 2925, 2926, 2927, 2928, 2929, 2930, 2931, 2932, 2933, 2934, 2935, 2936, 2937, 2938, 2939, 2940, 2941, 2942, 2943, 2944, 2945, 2946, 2947, 2948, 2949, 2950, 2951, 2952, 2953, 2954, 2955, 2956, 2957, 2958, 2959, 2960, 2961, 2962, 2963, 2964, 2965, 2966, 2967, 2968, 2969, 2970, 2971, 2972, 2973, 2974, 2975, 2976, 2977, 2978, 2979, 2980, 2981, 2982, 2983, 2984, 2985, 2986, 2987, 2988, 2989, 2990, 2991, 2992, 2993, 2994, 2995, 2996, 2997, 2998, 2999, 3000, 3001, 3002, 3003, 3004, 3005, 3006, 3007, 3008, 3009, 3010, 3011, 3012, 3013, 3014, 3015, 3016, 3017, 3018, 3019, 3020, 3021, 3022, 3023, 3024, 3025, 3026, 3027, 3028, 3029, 3030, 3031, 3032, 3033, 3034, 3035, 3036, 3037, 3038, 3039, 3040, 3041, 3042, 3043, 3044, 3045, 3046, 3047, 3048, 3049, 3050, 3051, 3052, 3053, 3054, 3055, 3056, 3057, 3058, 3059, 3060, 3061, 3062, 3063, 3064, 3065, 3066, 3067, 3068, 3069, 3070, 3071, 3072, 3073, 3074, 3075, 3076, 3077, 3078, 3079, 3080, 3081, 3082, 3083, 3084, 3085, 3086, 3087, 3088, 3089, 3090, 3091, 3092, 3093, 3094, 3095, 3096, 3097, 3098, 3099, 3100, 3101, 3102, 3103, 3104, 3105, 3106, 3107, 3108, 3109, 3110, 3111, 3112, 3113, 3114, 3115, 3116, 3117, 3118, 3119, 3120, 3121, 3122, 3123, 3124, 3125, 3126, 3127, 3128, 3129, 3130, 3131, 3132, 3133, 3134, 3135, 3136, 3137, 3138, 3139, 3140, 3141, 3142, 3143, 3144, 3145, 3146, 3147, 3148, 3149, 3150, 3151, 3152, 3153, 3154, 3155, 3156, 3157, 3158, 3159, 3160, 3161, 3162, 3163, 3164, 3165, 3166, 3167, 3168, 3169, 3170, 3171, 3172, 3173, 3174, 3175, 3176, 3177, 3178, 3179, 3180, 3181, 3182, 3183, 3184, 3185, 3186, 3187, 3188, 3189, 3190, 3191, 3192, 3193, 3194, 3195, 3196, 3197, 3198, 3199, 3200, 3201, 3202, 3203, 3204, 3205, 3206, 3207, 3208, 3209, 3210, 3211, 3212, 3213, 3214, 3215, 3216, 3217, 3218, 3219, 3220, 3221, 3222, 3223, 3224, 3225, 3226, 3227, 3228, 3229, 3230, 3231, 3232, 3233, 3234, 3235, 3236, 3237, 3238, 3239, 3240, 3241, 3242, 3243, 3244, 3245, 3246, 3247, 3248, 3249, 3250, 3251, 3252, 3253, 3254, 3255, 3256, 3257, 3258, 3259, 3260, 3261, 3262, 3263, 3264, 3265, 3266, 3267, 3268, 3269, 3270, 3271, 3272, 3273, 3274, 3275, 3276, 3277, 3278, 3279, 3280, 3281, 3282, 3283, 3284, 3285, 3286, 3287, 3288, 3289, 3290, 3291, 3292, 3293, 3294, 3295, 3296, 3297, 3298, 3299, 3300, 3301, 3302, 3303, 3304, 3305, 3306, 3307, 3308, 3309, 3310, 3311, 3312, 3313, 3314, 3315, 3316, 3317, 3318, 3319, 3320, 3321, 3322, 3323, 3324, 3325, 3326, 3327, 3328, 3329, 3330, 3331, 3332], \"y\": [null, null, null, null, null, null, null, null, null, null, null, null, null, null, null, null, null, null, null, null, null, null, null, null, null, null, null, null, null, null, 79.92971873830898, 100.06832631406635, 92.44587631406644, 108.08892631406646, 124.23385510194541, 138.8622475261877, 133.13330207164228, 102.0901960110363, 65.54140964739999, 63.08129752618789, 52.17847934436977, 25.218926314066664, 23.253515708005995, 23.11545964740004, 1.3366944958847349, -4.164479746539565, -56.654440352600226, -62.480076716236546, -58.56160701926668, -66.5038236859334, -45.81865701926664, -48.76110853441833, -15.80788429199393, -9.37302065563031, 5.833241465581824, -18.654844898054673, -27.86104641320614, -44.464391867751665, -51.66823429199397, -74.32142065563023, -52.26102217078189, -76.30470095866056, -70.19025853441818, -102.40865561634867, -122.58897969042258, -152.68204913486719, -164.40693956696597, -118.37041487560778, -83.16742413486708, -44.9602451225214, -30.16719728301526, -37.74178370276826, 34.78665302562659, 21.493617531799522, 9.049517223157633, -4.276488949681979, -13.970334628694253, 10.13622247007112, 30.906597470071215, 1.7676098157499343, -7.31565870276844, -15.047532159558495, 18.426083581182194, 71.87276413673762, 98.05765919846606, 41.83453574167585, 29.003023395996827, 39.69960672933017, 37.97139067994741, 66.38396784044134, 78.65038540497565, 98.68282631406636, 90.9337929807331, 106.09725964739978, 123.27002176861208, 137.59058085952103, 132.18513540497563, 102.65511267770296, 65.51915964739999, 62.09738085952122, 51.937312677703105, 24.173426314066667, 21.638849041339327, 21.13662631406671, -1.8325555041152621, -7.542313079872896, -59.80569035260022, -65.36791004956987, -61.51152368593334, -68.83757368593339, -47.87524035259997, -51.122358534418325, -18.581800958660594, -12.372603988963638, 3.039241465581828, -21.582678231388, -30.385546413206136, -46.183725201085, -50.1270676253273, -68.96858732229691, -47.714105504115224, -70.4045342919939, -61.02834186775152, -86.84865561634868, -106.31197969042259, -141.4563824682005, -161.51868956696597, -114.32166487560778, -76.56109080153375, -39.1012451225214, -24.027947283015266, -33.301367036101595, 36.83898635895992, 24.37378419846619, 13.124017223157631, -0.4254056163486446, -10.300167962027587, 13.522972470071117, 34.261930803404546, 5.217193149083268, -3.9928253694351037, -13.344115492891827, 20.806916914515526, 73.73043080340427, 99.22224253179938, 42.813619075009186, 29.257690062663492, 39.719023395996835, 38.098140679947406, 65.60755117377468, 76.85871873830898, 99.06824298073302, 91.8267929807331, 107.07184298073311, 123.64377176861208, 139.1474975261877, 132.8970520716423, 101.76844601103629, 65.30207631406665, 62.986464192854555, 52.14447934436977, 25.175176314066665, 22.915265708005997, 22.885042980733378, 1.9131111625514037, -3.7870630798728966, -56.259690352600224, -61.96316004956987, -57.956357019266676, -65.5085736859334, -44.452490352599966, -47.48385853441833, -14.320634291993931, -8.120187322296973, 7.226908132248493, -17.07601156472134, -26.216629746539468, -42.97322520108499, -50.83515095866063, -75.69917065563024, -52.74327217078189, -77.30111762532722, -73.87267520108485, -105.28832228301533, -125.32456302375591, -153.1533824682005, -164.61218956696598, -118.91216487560779, -83.58234080153375, -44.57682845585473, -28.851947283015264, -35.70870036943492, 36.78315302562659, 23.612950865132856, 11.399933889824297, -1.0814889496819813, -10.753667962027588, 13.194972470071116, 33.79134747007121, 5.004609815749928, -4.060408702768442, -12.750198826225164, 19.353833581182194, 72.6407641367376, 98.84924253179938, 43.14453574167585, 30.307273395996827, 40.625023395996834, 39.10189067994741, 68.24438450710801, 80.74563540497564, 100.66174298073302, 92.54895964739978, 107.36467631406644, 123.89068843527875, 138.1327475261877, 131.00805207164228, 99.79577934436962, 64.4154096474, 62.158380859521216, 51.119146011036435, 24.10559298073333, 21.611349041339327, 21.51720964740004, -0.16830550411526568, -5.181646413206232, -57.352773685933556, -62.29616004956988, -58.71994035260001, -66.6650736859334, -45.6878236859333, -48.60135853441833, -15.613300958660599, -9.476853988963642, 5.844574798915157, -18.626344898054676, -27.72354641320614, -43.862558534418326, -50.89198429199397, -73.44683732229691, -51.32543883744856, -75.3090342919939, -69.12775853441818, -101.37815561634866, -121.86147969042258, -152.10521580153383, -163.66135623363263, -117.61033154227445, -82.46209080153375, -43.94824512252139, -29.088113949681926, -36.62478370276826, 35.86298635895992, 22.41495086513286, 9.254767223157632, -4.181072283015313, -14.12175129536092, 9.924722470071119, 31.061847470071214, 2.702443149083267, -6.320658702768441, -14.489282159558496, 19.02250024784886, 72.01993080340428, 97.93465919846605, 42.36403574167585, 29.988690062663494, 40.494523395996836, 38.82122401328074, 67.52721784044135, 80.07246873830898, 100.20140964739969, 92.56129298073311, 108.05442631406645, 124.21135510194541, 138.88474752618768, 133.2410520716423, 102.13452934436962, 65.50074298073332, 63.23421419285455, 52.38572934436977, 25.43059298073333, 22.879182374672663, 22.714126314066707, 1.139027829218068, -4.687063079872898, -57.373190352600226, -63.13549338290321, -59.18569035260001, -67.10524035260006, -46.3213236859333, -49.235608534418326, -16.164550958660598, -9.665603988963642, 5.55615813224849, -18.91967823138801, -28.041379746539473, -44.37739186775166, -51.295150958660635, -73.80717065563024, -51.72327217078189, -76.02586762532722, -69.96550853441818, -102.07007228301534, -122.10922969042258, -152.22829913486717, -164.05410623363264, -118.04149820894112, -82.76817413486708, -44.35241178918806, -29.63019728301526, -37.134367036101594, 35.27473635895992, 22.043617531799523, 9.660267223157632, -3.6929889496819794, -13.515001295360921, 10.627889136737785, 31.89976413673788, 2.837193149083268, -6.417492036101773, -14.16511549289183, 19.150916914515527, 72.2897641367376, 97.73482586513272, 41.922119075009185, 29.170940062663494, 39.84235672933017, 38.22789067994741, 67.34913450710802, 80.30213540497564, 100.42324298073302, 92.42629298073311, 108.48392631406645, 125.66593843527875, 140.46466419285434, 134.73905207164228, 103.97944601103629, 66.65515964739998, 64.23196419285455, 53.75522934436977, 26.703176314066667, 24.48884904133933, 24.50612631406671, 2.962361162551401, -2.8458964132062317, -56.10777368593355, -62.02949338290321, -57.81885701926668, -65.50665701926673, -44.99874035259997, -47.84410853441833, -14.860300958660599, -8.420520655630309, 6.307658132248491, -18.446094898054675, -27.848213079872806, -44.094891867751656, -51.3788176253273, -73.91650398896357, -51.83252217078189, -75.51503429199389, -69.12650853441818, -101.39915561634866, -121.62106302375591, -151.82246580153384, -163.62668956696598, -117.40566487560778, -82.1690074682004, -43.76157845585473, -28.69069728301526, -36.409867036101595, 36.09165302562659, 22.68353419846619, 9.608850556490964, -3.7446556163486457, -13.709667962027588, 10.438472470071119, 31.112347470071214, 2.394109815749934, -6.776492036101774, -14.58286549289183, 18.975583581182196, 72.45601413673761, 98.14449253179939, 42.24228574167585, 29.571523395996827, 40.27135672933017, 38.59364067994741, 67.25688450710801, 79.85113540497565, 99.79132631406635, 92.13487631406645, 107.92350964739978, 124.22110510194541, 138.86941419285435, 133.1085520716423, 102.06561267770296, 65.52990964739999, 63.103047526187886, 52.235979344369774, 25.32209298073333, 23.739932374672662, 23.77462631406671, 1.9003611625514023, -3.5734797465395642, -56.15585701926689, -62.06107671623654, -58.58169035260001, -66.55574035260007, -45.80249035259997, -48.786025201084996, -15.858884291993931, -9.435437322296973, 5.7349914655818255, -18.66801156472134, -27.750629746539474, -44.24655853441833, -51.340817625327304, -73.89425398896357, -51.77302217078189, -75.89461762532723, -69.58825853441819, -101.783738949682, -121.92689635708925, -151.95746580153383, -163.65318956696598, -117.79791487560777, -82.5140074682004, -44.1634951225214, -29.32278061634859, -36.74461703610159, 35.81231969229326, 22.608200865132858, 10.384017223157631, -2.940072283015313, -12.707751295360922, 11.281889136737785, 32.267014136737885, 3.357609815749933, -5.634408702768442, -13.42136549289183, 19.874250247848863, 72.71034747007094, 98.35665919846605, 42.61845240834252, 29.748523395996827, 40.451023395996835, 38.71547401328074, 67.42221784044135, 79.86096873830898, 100.03190964739969, 92.5015429807331, 108.12692631406645, 124.26235510194542, 138.820830859521, 133.09221873830896, 102.05686267770295, 65.49407631406666, 63.00979752618789, 52.023562677703104, 25.1035096474, 23.169515708005996, 23.033042980733377, 1.323694495884736, -4.249229746539563, -56.711357019266885, -62.57982671623654, -58.650523685933344, -66.61124035260006, -45.88465701926663, -48.83394186775166, -15.866467625327264, -9.400770655630309, 5.837741465581826, -18.643428231388008, -27.852963079872804, -44.427725201084996, -51.5043176253273, -74.12275398896358, -52.087522170781895, -76.11470095866056, -69.88959186775152, -102.10557228301533, -122.21081302375592, -152.3038824682005, -163.89368956696597, -117.82299820894112, -82.49434080153374, -44.151578455854725, -29.381530616348595, -37.02728370276826, 35.57131969229326, 22.462367531799522, 10.409017223157633, -2.9841556163486462, -12.438584628694255, 11.621055803404452, 32.23251413673788, 3.3472764824165995, -5.734575369435107, -13.39661549289183, 19.955833581182198, 72.75909747007094, 98.21649253179939, 42.29878574167585, 29.367190062663497, 40.09477339599684, 38.62239067994741, 67.291384507108, 79.69288540497564, 99.84690964739968, 92.09645964739977, 107.73809298073311, 123.63143843527875, 138.11616419285434, 132.46055207164227, 101.32502934436963, 64.81674298073332, 62.39588085952122, 51.421646011036444, 24.648842980733335, 22.617932374672662, 22.705792980733374, 1.1530278292180678, -4.662313079872898, -57.282857019266885, -62.58032671623654, -58.442440352600016, -66.04949035260006, -45.35349035259997, -48.93019186775166, -15.529550958660602, -9.473520655630312, 5.7898247989151574, -18.690844898054678, -27.89504641320614, -44.34714186775166, -51.42673429199397, -74.01717065563024, -52.256438837448556, -76.07661762532723, -69.70409186775152, -101.766988949682, -121.03497969042259, -150.61379913486718, -162.3095229002993, -116.65408154227445, -81.23200746820041, -42.837495122521396, -28.045197283015263, -35.44378370276826, 37.23631969229326, 24.063200865132856, 12.123350556490964, -1.336072283015314, -10.90091796202759, 13.785639136737784, 35.047180803404544, 4.671859815749931, -4.733575369435111, -15.879948826225165, 18.780500247848856, 71.9407641367376, 97.57215919846604, 41.721785741675845, 29.20019006266349, 39.91235672933017, 38.34797401328074, 67.34580117377467, 79.77221873830898, 99.79082631406635, 92.0225429807331, 106.95292631406645, 123.02252176861208, 137.62499752618768, 132.1631354049756, 101.01402934436963, 64.89974298073332, 62.67188085952122, 51.81031267770311, 24.811926314066664, 22.88118237467266, 22.827292980733375, 1.2276944958847351, -4.300646413206233, -56.75319035260023, -62.317660049569874, -58.29460701926668, -65.9708236859334, -45.29349035259997, -47.991275201084996, -14.66538429199393, -8.325270655630307, 6.750824798915158, -17.774511564721344, -27.08779641320614, -43.67189186775166, -50.71665095866064, -73.20550398896357, -51.08260550411523, -75.0445342919939, -68.84867520108486, -101.01190561634867, -121.11364635708925, -150.92529913486717, -162.52585623363262, -116.42066487560778, -81.28434080153374, -43.32716178918807, -28.96019728301526, -36.85845036943493, 36.158319692293254, 23.08170086513286, 10.677683889824298, -2.5634056163486445, -12.467834628694254, 11.447805803404455, 32.246347470071214, 3.3345264824166, -5.714075369435105, -13.439865492891828, 19.792250247848862, 72.73784747007095, 98.23174253179938, 42.59986907500918, 29.80060672933016, 40.446523395996834, 38.11264067994741, 66.19130117377468, 78.71288540497565, 99.10049298073302, 91.49845964739977, 107.24950964739978, 123.60877176861209, 138.08258085952102, 132.0438854049756, 101.05269601103629, 64.58065964739998, 62.21779752618789, 51.43372934436977, 24.585759647400003, 22.603265708006, 22.365959647400043, 0.6289444958847343, -5.052313079872897, -57.39260701926689, -63.288076716236546, -59.407023685933346, -67.05665701926674, -45.97649035259997, -48.80819186775166, -15.870967625327264, -9.36752065563031, 5.92465813224849, -18.645594898054675, -27.413379746539473, -43.854225201084994, -50.8803176253273, -73.4875873222969, -51.56543883744856, -75.8427842919939, -69.57709186775152, -101.642488949682, -121.63506302375592, -151.7763824682005, -163.57543956696597, -117.49366487560778, -81.70284080153374, -43.28582845585473, -28.38836394968193, -35.93211703610159, 36.60015302562659, 23.214284198466192, 10.9956838898243, -2.2656556163486474, -11.952167962027588, 11.96080580340445, 32.583764136737884, 3.5565264824165994, -5.748992036101776, -13.65686549289183, 19.669916914515525, 72.74984747007093, 98.32774253179939, 42.52111907500918, 29.508523395996825, 40.0286900626635, 38.47605734661408, 67.07596784044135, 79.46896873830897, 99.53140964739968, 91.86745964739977, 107.41209298073312, 123.43468843527874, 137.97249752618768, 131.9141354049756, 100.7734460110363, 64.17182631406666, 61.735880859521224, 50.673479344369774, 23.686842980733335, 21.679182374672664, 21.628876314066716, -0.1867221707819291, -5.625896413206227, -58.255190352600216, -64.22241004956987, -60.59802368593335, -68.35715701926674, -48.04049035259997, -50.78294186775166, -17.3025509586606, -10.757353988963645, 4.518324798915154, -20.41784489805468, -28.931629746539475, -45.11847520108499, -52.34040095866063, -75.26042065563024, -53.71143883744856, -77.67853429199388, -71.52417520108486, -103.16815561634867, -122.59314635708925, -152.91404913486718, -163.95518956696597, -118.19483154227446, -84.36925746820042, -45.44332845585474, -31.347030616348597, -39.15970036943493, 33.48848635895992, 20.50828419846619, 8.7681838898243, -4.562822283015313, -14.707084628694254, 9.38872247007112, 30.610680803404552, 1.3728598157499339, -7.294492036101773, -15.09794882622516, 17.88733358118219, 69.57918080340427, 95.45040919846605, 40.25736907500918, 27.171023395996823, 37.189023395996834, 35.435557346614075, 62.52388450710802, 74.03913540497564, 93.54899298073303, 85.53562631406645, 100.05667631406645, 117.40743843527875, 131.5537475261877, 124.17546873830895, 91.91127934436963, 55.20574298073332, 56.22438085952121, 46.2810626777031, 15.100176314066651, 12.80876570800599, 12.660042980733351, -11.67205550411528, -18.330979746539576, -76.37519035260021, -81.19782671623653, -78.08994035260002, -86.25399035260007, -67.7508236859333, -71.18185853441832, -36.4903009586606, -23.704020655630313, -2.0951752010848566, -22.65476156472134, -33.31929641320616, -58.680808534418354, -60.19365095866066, -77.35333732229692, -57.09293883744858, -73.58161762532725, -67.93717520108486, -100.53140561634868, -114.45581302375594, -150.9036324682005, -155.007439566966, -100.07124820894113, -47.50600746820044, -0.4784951225213874, 13.758969383651408, 5.818632963898402, 93.49465302562658, 105.85195086513286, 106.44801722315762, 58.61367771698467, -4.780917962027573, 1.219305803404449, 25.566680803404523, -11.593056850916721, -28.99615870276845, -56.81444882622516, -3.0037497521511334, 60.89009747007094, 104.91199253179937, 52.478035741675846, 32.51885672933015, 48.464606729330164, 58.924140679947406, 96.2738011737747, 104.174718738309, 114.14207631406634, 100.55379298073308, 120.04567631406645, 137.22018843527877, 154.597330859521, 127.52496873830897, 84.60286267770297, 36.03632631406667, 50.79213085952123, 44.73039601103644, 18.513342980733334, 9.015515708005996, 15.368126314066721, -5.29172217078194, -4.943813079872876, -59.077940352600216, -65.90057671623656, -59.32719035260001, -70.47824035260008, -53.01115701926663, -51.66127520108499, -13.10596762532725, -6.469103988963656, 7.4475747989151415, -16.29226156472133, -24.755129746539463, -40.92097520108501, -44.46923429199396, -60.76942065563021, -37.4560221707819, -58.39861762532722, -56.3520918677515, -88.83615561634869, -107.05897969042256, -136.80821580153383, -148.70677290029928, -101.91199820894111, -73.14375746820039, -37.22141178918803, -20.090697283015242, -26.107617036101566, 44.94381969229327, 24.64353419846621, 8.936267223157646, -11.81407228301528, -15.224584628694231, 11.784722470071141, 33.95768080340457, 1.1690264824166445, -11.696492036101741, -19.28303215955846, 14.15150024784889, 68.9411808034043, 100.24515919846607, 46.026869075009195, 37.08860672933018, 45.88552339599685, 42.98714067994741, 69.53471784044135, 80.6020520716423, 102.97715964739969, 95.73529298073308, 110.18659298073311, 119.09702176861205, 135.90599752618766, 131.24930207164226, 92.79436267770296, 57.33065964739997, 45.44688085952122, 35.045479344369774, -1.8456570192666604, -3.429234291993975, -0.19545701926660541, -15.138472170781926, -23.632979746539554, -68.6016903526002, -68.19257671623652, -60.34052368593332, -68.3921570192667, -46.98190701926663, -47.02869186775165, -15.73971762532727, -10.299687322296979, -0.3495085344181632, -23.077678231388006, -33.311546413206145, -50.97039186775168, -57.661900958660645, -78.5042539889636, -55.711438837448576, -78.38186762532725, -71.67659186775153, -105.09565561634867, -121.46906302375592, -151.05379913486718, -161.753189566966, -112.67333154227447, -80.32950746820042, -42.93932845585474, -29.24211394968192, -36.90803370276827, 34.46081969229325, 21.53570086513285, 5.861600556490945, -9.39107228301532, -21.292667962027593, 2.1243058034044644, 24.926930803404545, -3.1058901842500535, -11.191742036101783, -16.768615492891826, 14.365166914515516, 65.61993080340427, 93.64932586513272, 37.502619075009186, 27.58485672933018, 40.92010672933019, 41.067640679947424, 68.23888450710803, 78.36613540497564, 99.28174298073303, 91.68679298073312, 107.99700964739982, 131.21843843527878, 144.91308085952105, 137.4873854049756, 113.180862677703, 82.63682631406671, 77.27021419285458, 66.26306267770315, 39.415342980733335, 31.324932374672674, 26.29137631406673, 2.6420278292180774, -3.1758964132062113, -56.106940352600226, -58.62741004956986, -53.596940352600015, -59.62782368593342, -37.82874035259999, -42.166358534418364, -12.056717625327263, -5.3129373222969924, 8.829991465581827, -14.534844898054715, -24.765129746539483, -44.374891867751664, -53.31390095866063, -77.46467065563024, -56.40460550411523, -82.8237842919939, -77.23184186775151, -109.22048894968202, -129.94289635708924, -158.91671580153385, -168.72268956696598, -127.11241487560778, -92.89609080153372, -57.90332845585474, -60.628030616348596, -57.809367036101584, 16.72756969229325, -0.021549134867132835, -13.097316110175665, -29.457988949681933, -39.4518346286942, -18.01286086326218, 0.7203474700712746, -27.917306850916685, -41.38982536943507, -49.61478215955847, -17.514749752151115, 34.00551413673759, 59.478409198466025, -0.19129759165749505, -8.437809937336514, 3.9066067293301145, -1.710775986719291, 31.56238450710795, 46.73905207164225, 61.084909647399655, 28.33870964739978, 25.307259647399746, 38.89960510194538, 43.306664192854356, 30.87880207164227, -8.614220655630334, -63.764007019266685, -75.48195247381213, -103.72835398896359, -144.3133236859334, -153.90515095866073, -154.42454035259993, -158.2230555041154, -169.452813079873, -205.52969035260023, -183.17666004957, -187.01552368593335, -210.80024035260016, -198.43882368593341, -195.2159418677516, -127.20396762532727, -125.316687322297, -78.39709186775168, -124.99709489805474, -83.15854641320624, 42.34227479891488, -81.05623429199406, -12.610837322297158, 52.63339449588455, 99.16288237467258, 94.40199146558196, 58.44351105031808, 109.82052030957739, 119.26661753179945, 160.42106043303403, 283.14825179105867, 362.7066591984663, 384.3166715441454, 246.5101360503183, 309.72563296389865, 421.5091530256266, 409.193950865133, 287.74301722315766, 47.77709438365139, -19.35166796202752, 82.48322247007117, 174.8044308034046, 186.72652648241683, 94.99342463056507, 99.56455117377493, 111.8529169145157, 134.98559747007099, 102.90849253179941, -60.795797591657326, -163.45797660400314, -218.0143932706697, -91.6461926533859, -135.02094882622526, -127.9701979283576, -104.75525701926685, -79.93462368593364, -59.87515701926682, -10.779894898054636, 63.324330859520956, 32.40430207164235, -4.944553988963776, -20.052507019266713, -2.630452473812035, -6.961103988963536, -20.711907019266683, 21.17668237467277, 32.93220964740018, 60.2787778292181, 148.41185358679388, 76.55539298073299, -26.36391004956998, -19.461523685933372, -24.508823685933564, 45.05959298073326, 54.99297479891486, 51.88961570800598, 49.63881267770286, 56.97390813224824, 66.50207176861187, 36.4815369201271, -8.235475201085045, 4.653432374672583, 0.7923293443695627, 42.30339449588474, 14.675549041339323, 5.128324798915131, -45.31715561634883, -92.77914635708935, -70.37988246820049, -45.53127290029914, -97.3477482089412, -21.09567413486701, 16.47017154414538, 34.91105271698477, 36.050632963898344, 130.53223635895992, 104.61070086513308, 73.69893388982445, 96.58142771698476, 65.79708203797243, 64.45105580340432, 19.048847470071266, -41.547640184250106, -39.3919920361019, -56.88619882622527, -30.93308308548458, 17.014680803404218, 7.289409198466032, -0.37854759165735885, -20.284809937336437, -45.855976604003054, -27.453109320052455, -4.591115492891916, 19.99788540497582, -14.525173685933481, -11.618457019266799, 41.02192631406646, 55.17193843527889, 26.74799752618776, 8.483218738309063, 34.76536267770314, 1.384909647400164, -6.43070247381204, -13.587103988963513, -42.87965701926664, 66.38476570800609, 75.5294596474001, 50.52669449588468, 54.393603586793795, -23.320857019266917, -34.70766004956998, -4.798773685933412, -19.075823685933344, 8.827009647400175, 15.099974798915056, 57.764615708006204, 57.11889601103657, 76.97699146558209, 56.271071768611876, 41.87078692012727, 18.244358132248387, 9.487765708005817, -37.30817065563022, -18.538522170781896, -57.12120095866054, -47.68300853441819, -67.60498894968191, -96.81406302375574, -108.00463246820033, -186.6290229002994, -150.37608154227445, -117.0435908015337, -111.39782845585472, -99.11236394968189, -83.70711703610158, -38.06568030770679, -54.08338246820057, -57.30523277684256, -57.27323894968208, -60.62008462869436, -44.26602752992896, -19.130735863262274, -58.236640184250184, -115.18132536943517, -91.98394882622534, -47.815083085484645, -0.038819196595824224, 80.60107586513264, 63.45886907500904, 71.43419006266339, 64.6789400626634, 48.560224013280695, 95.00521784044126, 111.58746873830887, 129.03390964739967, 116.81554298073306, 131.0367596473998, 142.38810510194543, 137.20291419285445, 127.7313854049757, 78.00352934436972, 39.12974298073341, 39.06413085952126, 28.830062677703218, 8.395426314066746, -3.3358176253272767, -18.672540352599846, -45.38088883744847, -58.175896413206154, -116.94985701926683, -115.46582671623644, -114.82235701926666, -118.19007368593337, -96.20507368593321, -115.34452520108495, -86.6106342919939, -84.57185398896358, -66.56200853441813, -90.99767823138791, -99.81896307987279, -117.5711418677516, -127.9689842919939, -136.89908732229688, -98.5597721707818, -112.28478429199383, -80.5531752010849, -107.97465561634863, -118.7445630237559, -119.68371580153388, -118.17027290029927, -82.406498208941, -51.083007468200265, -3.764911789187984, 32.498636050317984, 34.501299630564965, 121.83673635895988, 111.82811753179948, 112.46301722315769, 74.46117771698471, 76.20166537130565, 93.23388913673763, 112.91676413673774, 76.28010981574992, 65.41025796389829, 57.00821784044149, 73.10666691451567, 91.07993080340444, 101.27915919846622, 20.240035741676145, 10.009523395996947, 35.70902339599689, 38.96964067994738, 66.31321784044148, 72.437968738309, 81.5859929807331, 72.69979298073312, 93.93184298073308, 97.1026051019453, 107.48658085952093, 83.77571873830897, 64.87352934436979, 44.78182631406675, 52.47921419285469, 31.660229344369732, 40.24367631406681, 54.58934904133949, 58.06545964740004, 26.787527829217947, 16.300103586793846, -38.16419035260028, -38.79541004956978, -44.04994035259986, -51.818907019266746, -29.094240352599925, -36.77069186775164, 7.504782374672917, 19.093812677703124, 28.222991465581956, -0.691594898054575, -8.53404641320611, -27.60955853441842, -29.465734291994146, -47.30050398896381, -20.358688837448646, -46.53661762532737, -41.76017520108489, -72.09773894968225, -98.63822969042262, -137.46246580153382, -150.69043956696595, -108.5587482089411, -74.84934080153363, -43.50632845585472, -28.027197283015152, -45.61453370276809, 36.65731969229328, 41.73536753179957, 25.5994338898243, 12.68551105031804, 7.336332037972582, 30.543305803404575, 52.94526413673809, 29.589193149083247, 27.32425796389828, 19.24363450710814, 56.374500247849, 101.36234747007111, 105.78540919846624, 45.47020240834252, 2.3237733959969624, -0.6515599373364651, 10.899140679947344, 28.681134507108013, 12.992635404975601, 52.17440964739964, 70.55437631406645, 105.51359298073302, 117.55877176861202, 124.1860808595211, 128.84271873830897, 95.83069601103637, 70.08090964740002, 68.6688808595213, 60.99597934436981, 36.940509647400056, 31.965515708006, 15.068292980733439, -7.112972170781903, -9.8566464132062, -59.53819035260019, -50.78174338290317, -46.84110701926673, -51.68182368593345, -25.812740352600045, -34.87244186775173, 0.34061570800600194, 20.348146011036317, 33.74157479891504, 11.2628217686119, 8.40195358679387, -7.16272520108506, -15.797067625327337, -55.022003988963576, -31.755522170781937, -82.4547009586605, -102.67684186775158, -123.26898894968201, -146.49897969042257, -177.1422158015339, -161.43302290029936, -112.91208154227445, -89.90092413486718, -59.69166178918807, -40.98103061634852, -62.63345036943486, 5.147236358959937, 2.470034198466177, -19.045149443509043, -27.067072283015307, -48.13666796202766, -48.756027529928915, -45.12206919659549, -53.00639018425017, -62.493992036101815, -53.4516988262252, 2.7758335811821304, 51.1718474700709, 85.35324253179935, 34.720785741675805, 36.882023395996896, 67.77385672933013, 57.38339067994743, 76.6582178404414, 89.16963540497568, 117.15882631406632, 110.86279298073308, 119.72609298073317, 133.50777176861203, 152.47133085952106, 128.21013540497563, 92.57536267770291, 48.57024298073334, 48.45721419285447, 40.01506267770305, 15.015759647399982, -0.4450676253273649, 1.4342096474000172, -26.18722217078197, -41.678063079872864, -96.28885701926694, -100.64966004956987, -96.0296903526, -91.7007403526001, -65.82574035259996, -73.21919186775172, -39.23071762532726, -19.39410398896364, 13.291824798915044, -18.860511564721435, 19.424536920127142, 8.608858132248294, -19.659567625327462, -58.639087322297, -28.813188837448642, -49.698617625327344, -54.6758418677516, -85.2894056163488, -119.65864635708941, -159.47496580153398, -166.2051895669661, -111.87541487560787, -60.99242413486718, -22.610661789188107, -15.594863949681905, -22.39645036943495, 55.92573635895983, 44.38261753179944, 33.83376722315751, 22.49367771698462, 15.046998704639023, 35.30555580340446, 51.20759747007115, 23.48185981574993, 18.13184129723152, 11.710301173774724, 36.376250247848844, 76.98884747007091, 99.70507586513263, 47.4372857416758, 38.73810672933013, 47.17235672933014, 51.852807346614064, 72.61988450710798, 78.55963540497567, 91.7994096473997, 78.7951263140665, 99.81425964739995, 130.56077176861214, 143.15399752618777, 147.22146873830906, 123.0720293443697, 79.29665964740003, 72.44838085952134, 71.27414601103652, 36.57567631406675, 36.52326570800605, 36.22154298073345, 12.1899444958848, 16.198686920127095, -35.42752368593349, -38.8748267162366, -54.410440352600034, -81.3858236859334, -58.50607368593337, -47.41252520108499, -1.3104676253272451, 1.0998126777030954, 9.392158132248525, -13.932094898054629, -29.129879746539412, -43.55089186775157, -82.76215095866061, -145.92875398896356, -105.68443883744865, -128.34911762532727, -129.46434186775156, -151.51473894968206, -163.6184796904226, -196.43379913486714, -198.27193956696595, -138.36608154227443, -101.59867413486708, -48.00641178918807, -27.502363949681932, -10.204033702768221, 51.58981969229328, 18.394867531799488, -1.6420661101757013, -16.99465561634861, -31.164584628694243, -6.650944196595578, 21.691597470071244, -8.635973517583363, -20.254492036101762, -35.7441988262251, 1.0684169145155842, 59.30059747007098, 81.21140919846611, 22.18303574167593, 8.183856729330213, 18.99760672933018, 17.91830734661408, 60.778884507108, 86.8485520716423, 93.60624298073301, 80.01637631406646, 101.24700964739975, 112.96685510194536, 128.72549752618767, 125.50080207164225, 95.21644601103623, 51.64782631406662, 50.3793808595212, 38.7748960110364, 11.174259647400014, 8.30193237467265, 24.61204298073337, 7.311361162551391, -2.255563079872908, -40.61952368593361, -34.9872433829032, -35.40085701926671, -46.00399035260007, -26.157490352599936, -26.86477520108501, 4.5694490413394, 22.118562677702993, 42.953908132248515, 20.89732176861196, 11.306703586793848, -12.639891867751622, -24.910317625327274, -48.11992065563024, -16.984522170781922, -44.11153429199392, -60.08125853441821, -98.85407228301537, -116.58881302375595, -146.74846580153385, -152.78602290029934, -106.03433154227451, -86.46150746820047, -52.05766178918811, -33.60786394968197, -42.97586703610157, 34.48073635895992, 13.311534198466202, 5.202933889824269, -10.625988949681984, -19.30341796202761, 11.365222470071085, 35.18568080340454, 6.165776482416579, 2.499174630564883, -6.587448826225142, 25.835083581182207, 71.98634747007094, 92.47707586513273, 33.31261907500923, 21.190023395996885, 32.73969006266355, 23.25505734661413, 45.30288450710806, 60.17096873830903, 87.42865964739974, 75.86770964739983, 91.25425964739983, 110.41493843527877, 124.21933085952105, 124.50713540497566, 99.3674460110363, 63.042576314066636, 54.98446419285454, 42.57456267770309, 6.824592980733307, 10.943932374672617, 11.970042980733346, -6.4714721707819525, -5.59472974653955, -58.80452368593355, -63.133826716236555, -53.40602368593335, -62.83849035260006, -44.26690701926664, -49.42085853441834, -13.280967625327289, 0.6012293443696812, 14.792324798915175, -10.281928231388008, -17.84204641320613, -34.81005853441831, -43.13915095866067, -67.92842065563025, -46.73785550411525, -71.87070095866055, -65.86309186775149, -100.40415561634865, -121.7412296904226, -152.02996580153382, -162.65002290029932, -112.9798315422745, -77.73184080153379, -38.89207845585475, -26.857697283015266, -35.070200369434936, 37.16065302562661, 23.85395086513284, 8.502600556490993, -6.4891556163486275, -18.761834628694245, -2.357027529928917, 19.134597470071228, -9.63264018425006, -19.745908702768443, -27.98369882622518, 5.409833581182145, 56.183514136737614, 85.56640919846602, 30.873535741675802, 16.966440062663448, 27.609106729330158, 25.634224013280736, 57.308217840441344, 68.10188540497563, 90.24432631406634, 91.55254298073311, 110.33434298073314, 123.37043843527877, 135.38049752618767, 127.54371873830897, 95.2336960110363, 60.54824298073332, 55.69879752618788, 41.385146011036404, 14.51309298073334, 11.617599041339336, 16.607376314066748, -3.7763055041152023, -6.629729746539518, -52.674940352600196, -62.860910049569824, -62.85602368593331, -69.17124035260007, -48.92157368593327, -43.109608534418285, -8.644217625327197, -7.744020655630369, 14.805074798915186, -15.653261564721333, -9.672713079872832, -19.81522520108492, -12.338484291993971, -53.557337322296945, -32.07027217078183, -57.646034291993814, -60.82709186775155, -94.28790561634867, -116.62864635708921, -148.9126324682005, -156.6368562336326, -110.24233154227443, -75.6780074682004, -33.71641178918805, -12.764113949681995, -17.598867036101645, 58.53773635895991, 46.93645086513283, 34.221517223157605, 20.273094383651312, 8.044582037972432, 29.641972470070993, 47.11334747007116, 18.87594314908323, 11.372591297231569, 6.418467840441451, 38.35633358118221, 88.68801413673762, 111.39007586513274, 48.109202408342476, 32.0037733959968, 43.79027339599684, 46.87105734661409, 74.62588450710801, 86.79038540497561, 108.743992980733, 100.04720964739974, 111.36242631406645, 121.65518843527877, 126.58308085952103, 110.00071873830893, 83.58544601103631, 46.890326314066684, 39.559630859521256, 30.60381267770311, -8.573823685933327, -5.7929009586606774, 2.3462096474000234, -18.19255550411528, -19.003563079872926, -70.9466070192669, -77.27707671623655, -70.93735701926673, -79.2274903526001, -58.094407019266654, -61.06160853441834, -25.032384291993903, -14.264103988963644, 7.597074798915159, -16.150094898054675, -21.79954641320617, -41.36272520108505, -49.32706762532731, -72.28492065563026, -51.57818883744857, -80.34595095866057, -75.38875853441819, -107.26015561634867, -128.07589635708928, -155.23271580153386, -167.4380229002993, -122.88233154227444, -88.58825746820037, -53.47899512252133, -38.07036394968189, -46.08953370276823, 28.903319692293287, 15.68186753179955, 2.6481838898243133, -13.908822283015299, -19.954251295360947, 2.2512224700711094, 20.858347470071195, -8.058306850916761, -19.805325369435163, -27.919115492891876, 3.3409169145154785, 53.702597470070856, 82.24482586513265, 23.048119075009062, 7.021106729330054, 16.246190062663423, 13.375224013280636, 43.647801173774596, 51.36838540497564, 73.29299298073303, 67.62954298073302, 83.61550964739979, 107.5794384352788, 125.51958085952106, 113.24488540497566, 80.18852934436973, 47.70782631406668, 45.89229752618794, 34.96014601103645, 10.148092980733331, 10.877515708005976, 16.09637631406664, -2.537722170781978, -8.77464641320632, -55.42535701926695, -53.712243382903225, -37.26035701926676, -39.425657019266666, -34.1199903526, -12.324358534418266, 62.93344904133937, 114.16414601103635, 81.76340813224844, 33.9939051019453, 34.31495358679382, 10.083441465581622, -0.6962342919940383, -58.49167065563026, -71.56360550411529, -81.97861762532726, -74.84175853441819, -111.06848894968203, -143.14756302375594, -173.76996580153383, -180.94377290029934, -138.55616487560775, -112.32442413486706, -84.51824512252142, -68.10428061634862, -80.48420036943492, -11.30943030770677, -29.23338246820055, -29.665316110175805, -33.96373894968207, -35.56391796202773, -14.086444196595597, 14.820180803404455, -8.440140184250094, -28.65349203610185, -44.34761549289186, -8.034083085484465, 44.517764136737554, 95.96124253179941, 44.11586907500919, 32.03810672933014, 51.77827339599684, 61.146474013280816, 94.84671784044143, 126.97546873830902, 132.00457631406644, 126.77695964739988, 147.20867631406648, 180.33327176861218, 187.68058085952111, 180.718468738309, 156.107862677703, 118.66440964740003, 100.63554752618793, 78.23106267770316, 49.91267631406668, 52.41051570800599, 62.9474596474001, 32.35302782921805, 1.841436920127129, -53.41294035260025, -58.33241004956993, -47.752607019266605, -56.382157019266614, -35.688240352599806, -34.340941867751624, -1.579050958660499, 0.14756267770304632, 22.49824146558187, -5.056011564721302, -16.221296413206115, -8.676475201084962, -15.763984291993971, -43.88067065563027, -21.00493883744854, -43.22528429199393, -41.85450853441829, -85.22407228301535, -117.77164635708935, -182.6753824682006, -192.66485623363275, -143.61316487560788, -106.54825746820057, -68.14074512252148, -27.532863949682007, -37.989867036101664, 14.213236358959854, 5.678784198466072, 3.1441005564908586, -16.88682228301542, -26.25033462869429, -3.6611941965955346, 5.6525974700712, -26.28389018424998, -35.3857420361017, -46.85944882622505, -15.186083085484338, 39.2354308034044, 64.25224253179947, 21.827702408342596, 7.934190062663557, 11.38360672933026, 9.772390679947442, 36.89080117377476, 51.55988540497572, 77.20257631406636, 68.31037631406647, 90.66759298073308, 115.81185510194535, 140.6067475261878, 132.9956354049756, 107.13427934436976, 79.41074298073336, 79.46463085952124, 70.40831267770307, 57.67292631406672, 57.149599041339314, 53.341126314066706, 18.12669449588476, 13.63543692012717, -39.24410701926697, -40.58507671623663, -34.2344403526001, -40.551490352600226, -17.996323685933433, -24.506025201085052, 0.3903657080059624, -0.26585398896371615, 5.875991465581691, -29.037594898054806, -33.70862974653954, -45.40797520108506, -53.27140095866067, -75.90492065563026, -50.86277217078196, -73.96228429199395, -74.51125853441822, -106.51090561634874, -125.6724796904226, -155.06179913486727, -166.03802290029932, -120.10999820894119, -93.3656741348671, -55.797578455854826, -38.58294728301526, -45.16253370276832, 31.976069692293187, 18.98178419846624, 5.027767223157699, -7.963405616348554, -16.987084628694205, 12.488222470071047, 30.19651413673789, -5.168306850916746, -16.474158702768474, -22.421698826225168, 11.945083581182221, 66.61901413673755, 91.74465919846595, 35.736119075009135, 24.495190062663365, 34.13319006266345, 31.533307346614116, 56.96396784044133, 68.08463540497564, 90.0614096473997, 83.90429298073317, 101.26192631406647, 115.38368843527877, 130.641580859521, 128.71121873830901, 97.9321960110363, 58.39490964739993, 55.65988085952116, 50.175062677703075, 29.546342980733293, 33.67559904133921, 32.0742929807333, 13.85936116255125, 15.922936920127022, -34.25377368593356, -37.294826716236614, -50.263107019266755, -60.602990352600145, -36.15215701926674, -45.12327520108512, -13.282467625327339, -14.406103988963697, 2.95524146558175, -25.61267823138803, -35.42612974653957, -46.718975201085094, -53.99873429199405, -79.62975398896364, -58.92610550411535, -92.80920095866064, -89.68150853441811, -123.35348894968189, -145.178313023756, -179.06571580153388, -193.15410623363266, -155.1068315422745, -125.21592413486701, -92.758911789188, -94.37861394968185, -107.16861703610152, -39.04501364104001, -59.06179913486716, -71.15756611017576, -83.92023894968202, -93.76041796202752, -64.76061086326222, -25.17548586326224, -18.540056850916823, -16.985992036101717, -25.2591988262252, 1.471833581182043, 54.14576413673754, 81.2385758651328, 48.69528574167578, 37.34244006266357, 47.71052339599685, 49.25847401328067, 69.15621784044122, 80.84646873830889, 94.21615964739968, 86.66404298073311, 127.51484298073305, 197.1764384352789, 238.26074752618774, 218.94405207164237, 201.98869601103627, 215.64315964740013, 202.03529752618786, 196.0923126777032, 167.90467631406676, 127.6917657080061, 62.4788763140668, -12.707472170781942, -12.919229746539493, -29.05910701926691, -42.05299338290318, -67.65002368593346, -61.75799035260006, -47.98924035260002, -55.9021918677516, 3.51328237467283, 16.806896011036553, 44.934158132248555, -7.340178231387824, -6.253546413205921, -27.89439186775146, -37.14823429199392, -88.62850398896356, -50.187022170781795, -82.01178429199386, -75.89075853441811, -105.68598894968193, -112.17031302375601, -146.39813246820046, -153.62177290029928, -102.14524820894121, -62.620340801533814, -9.105911789187992, 4.562219383651428, -2.03611703610148, 67.78690302562674, 53.86945086513316, 33.15276722315781, 21.330761050318074, 16.956248704639236, 37.40163913673793, 57.21376413673799, 32.09535981575004, 25.120257963898215, 19.516301173774877, 48.06225024784871, 79.30293080340428, 88.48390919846598, -13.1212975916577, -22.522143270670032, 0.2956900626632475, -0.26769265338609927, 40.90763450710783, 59.79096873830895, 78.98257631406628, 69.11962631406638, 91.47559298073313, 104.39052176861219, 117.2521641928546, 109.38946873830918, 66.908112677703, 28.517076314066813, 33.69913085952148, 21.65206267770322, -3.370490352599809, -2.871734291993871, 3.2584596474001373, -16.625138837448663, -18.127146413206226, -72.1991070192669, -80.57541004956964, -78.16285701926657, -84.51874035259986, -69.56840701926656, -68.69027520108496, -33.582384291993776, -24.87368732229685, -12.213341867751481, -37.619594898054686, -44.81462974653954, -42.9098085344182, -37.32506762532724, -61.311670655630024, -36.395938837448504, -55.83770095866042, -41.79709186775146, -76.01323894968198, -96.44897969042272, -139.825465801534, -155.02727290029924, -107.75166487560773, -73.79192413486709, -38.72499512252137, -24.817030616348642, -33.99778370276841, 40.38981969229324, 25.711284198466213, 6.3437672231576165, -14.079655616348761, -24.88133462869432, 2.413222470070888, 22.022430803404447, -8.165890184250213, -13.901075369435258, -24.467782159558624, 6.225666914515475, 58.037347470070955, 84.40149253179935, 31.32486907500914, 13.328106729330155, 23.083273395996848, 17.99647401328084, 46.59463450710807, 58.110635404975596, 80.87774298073285, 72.72245964739963, 85.32442631406613, 105.06377176861201, 135.4302475261877, 126.54713540497568, 93.55686267770295, 57.94574298073327, 53.86388085952128, 42.86272934436983, 11.378592980733224, 4.409765708006066, -4.011957019266596, -28.0074721707819, -31.186979746539585, -66.79677368593357, -74.81907671623661, -73.97085701926679, -79.55399035260022, -42.331240352600005, -37.8073585344185, 0.09211570800585278, 23.565229344369538, 27.157824798915087, 3.991738435278478, 15.003703586793737, 1.2807747989146279, -43.27623429199419, -67.07683732229705, -42.44810550411534, -65.43836762532725, -64.77259186775159, -92.26073894968204, -105.17806302375588, -144.6823824682005, -159.17402290029946, -126.81716487560789, -95.29892413486715, -54.158745122521516, -31.022363949682084, -14.972950369434905, 56.711403025626375, 46.70536753179937, 31.609683889824115, -3.7733222830155473, -10.081251295361241, 18.455305803404155, 30.430014136737597, -7.1789735175835965, -19.800242036101846, -35.333782159558496, -7.73391641881781, 42.71259747007085, 65.35640919846604, 14.975619075009156, 11.169606729329924, 30.919356729329984, 20.22739067994737, 42.08480117377455, 38.24563540497559, 58.31332631406636, 53.18462631406632, 68.42092631406624, 84.65068843527865, 96.29266419285409, 85.7688854049756, 60.0329460110363, 22.1738263140668, 17.097797526187854, 4.861396011036568, -18.387740352599913, -16.29373429199401, -17.35445701926657, -39.77030550411523, -38.70906307987287, -60.8332736859335, -34.561660049569795, 6.826226314066702, -19.79774035259986, -2.442490352599819, 6.160141465581816, 65.12394904133953, 104.83314601103645, 112.37999146558188, 77.49840510194548, 73.98428692012732, 85.37469146558189, 95.42418237467271, 92.20541267770338, 137.38914449588492, 31.925049041339562, -59.826925201084734, -95.68582228301511, -113.86981302375584, -157.06979913486708, -164.92202290029917, -230.0724148756076, -194.99084080153358, -140.25057845585468, -127.76478061634846, -142.56870036943474, -62.75551364104003, -13.280132468200524, -44.47373277684238, -45.24098894968199, -62.590334628694265, -15.757360863262182, 3.2354308034046397, -38.22014018425012, -70.06657536943521, -83.64078215955863, -36.67008308548455, 18.054764136737532, 41.99890919846608, -23.170130924990865, -34.062143270669765, 9.674690062663494, 26.160307346614125, 79.11221784044135, 96.12813540497575, 126.1322429807332, 97.85104298073324, 121.70525964739986, 157.75127176861224, 168.92316419285441, 84.70030207164251, 57.04369601103633, 31.01124298073354, 14.922047526187747, -6.129520655630067, -29.049907019266648, -37.76598429199416, -11.205790352600083, -16.554805504115098, -20.785813079872817, -83.49469035260032, -66.49257671623683, -20.76627368593327, -25.234323685933575, 37.01700964739989, 46.62347479891507, 53.25253237467291, 74.12939601103632, 105.32332479891504, 79.89757176861195, 98.35320358679377, 113.10277479891485, 132.82293237467277, 91.24699601103643, 114.5845611625515, 96.0763823746728, 64.11607479891525, -49.62173894968191, -45.39097969042227, -98.5876324682003, -107.82793956696588, -21.05899820894092, 27.40232586513281, 69.91533821081214, 92.15021938365116, 16.425299630564943, -4.623846974373599, -125.9108824682009, -111.26223277684261, -109.29132228301535, -55.89558462869415, -102.8331941965955, -88.15715252992841, -197.11472351758312, -213.06907536943493, -205.9387821595585, -117.35608308548481, -52.99415252992932, -32.55467413486748, -92.16613092499085, -72.16855993733674, -49.76022660400333, -43.388525986719266, 28.664051173774666, 34.96280207164193, 41.51257631406614, 79.30245964739967, 98.58384298073256, 99.91327176861193, 127.23724752618773, 117.39855207164243, 86.83377934436976, 38.25424298073348, -10.177952473811935, -25.74202065563002, -60.599407019266614, -67.44848429199371, -66.80254035259978, -80.12430550411516, -104.71306307987255, -146.5796903525999, -161.5884933829028, -172.1637736859333, -200.10190701926632, -202.0861570192664, -210.95010853441823, -174.59846762532698, -154.42127065563, -157.71384186775146, -188.51492823138773, -208.3642130798724, -179.12472520108466, -168.4214842919939, -169.04542065563, -128.1549388374484, -193.94461762532717, -180.06284186775127, -234.9268222830151, -200.54206302375593, -172.36054913486709, -174.92777290029932, -99.56091487560775, -220.14650746820047, -140.4627451225216, -132.98919728301547, -225.612450369435, -149.79059697437347, -110.32871580153409, -71.12464944350921, -38.05340561634887, 12.357332037971972, 13.628722470070908, 114.51984747007104, 185.76385981574992, 329.9545079638981, 224.8767178404413, 55.58733358118215, -41.536485863262186, 65.50182586513243, 99.86153574167531, -3.343559937336696, 97.1431067293301, 180.8224740132803, 258.8420511737739, 314.18796873830877, 313.26565964739893, 442.95454298073287, 628.325176314066, 467.52502176861174, 550.7224141928543, 558.9124687383087, 591.8966126777027, 623.4658263140662, 234.68829752618743, 335.1499793443691, 65.91575964739928, -39.08665095866124, 64.28545964739882, 184.99852782921772, 67.24777025345985, 80.34997631406586, 210.04775661709675, 124.35964298073245, 151.34825964739974, 168.7561763140664, 15.838558132248338, 2.4808657080059255, -118.5105206556302, -7.517758534418661, -4.268428231388896, -28.808213079873266, -116.35630853441833, -195.0587342919941, -144.22283732229735, -69.65493883744887, -59.51920095866113, -33.675091867751846, -89.05223894968253, -211.34714635709003, -197.9347991348672, -255.5473562336329, -382.30858154227485, -402.6765908015347, -297.359745122522, -352.95753061634986, -511.18936703610234, -656.5195969743744, -807.1116324682012, -571.8620661101767, -476.38473894968286, -571.2894179620286, -80.32094419659641, -184.1079858632633, -68.19872351758444, -166.2260753694352, -200.5072821595587, -413.46274975215135, -415.7930691965969, -248.49350746820085, -235.02196425832415, -341.82655993733687, -342.3588099373356, -284.8957759867187, -392.55961549289094, -449.0693645950238, -376.36909035259896, -352.0039570192664, 48.343342980734036, 4.319688435279318, 132.76199752618845, 116.65146873830923, -13.126303988962718, -9.378007019266633, 163.65279752618792, 380.1966460110371, 502.9671763140669, 688.2693490413394, 510.071292980734, 698.6051944958848, 577.4710202534612, 321.87105964740033, 334.7845899504306, 273.2812263140671, 161.31350964740085, 255.5318429807342, 295.13805813224843, 458.1102823746735, 509.09489601103655, 484.54574146558247, 443.99898843527905, 447.1466202534613, 617.1126081322484, 576.0755157080055, 681.885662677702, 844.8343111625517, 472.5939657080054, 455.7954914655814, 63.5919277169844, 187.17577030957676, 324.3083675317985, 320.65789376636707, 28.173001791059733, 22.39432586513277, -9.380578455855023, -45.968447283015124, -129.0530337027676, -387.72193030770666, -963.3389658015333, -610.0024827768419, -645.6392389496815, -666.8094179620276, -307.3872775299292, -465.719735863262, -531.9234735175829, -853.2637420361013, -912.0342821595578, -733.8716664188177, -811.065902529928, -547.3109241348676, -658.2693809249903, -394.3882266040029, -419.95122660400244, -457.483692653386, -269.3404488262251, -256.62878126169073, -244.79425701926672, -377.3663736859328, -498.18882368593324, -424.0103948980544, -420.76275247381113, -416.52594792835765, -310.4583039889635, -213.6319236859332, -245.74495247381125, -188.65985398896277, 299.6225929807343, 429.8600157080073, 524.2587096474007, 333.317277829219, 369.63760358679394, 104.03539298073437, -65.26032671623521, 64.12189298073403, 295.7101763140674, 273.99167631406664, 112.2806414655817, 12.864949041338381, -356.3214373222979, -296.9729252010862, -206.47676156472284, -419.08037974654127, -552.8997252010861, -277.9261509586624, -383.94808732229865, -168.70835550411732, 12.97029904133764, 180.0026581322466, 256.16001105031705, 294.66293697624263, 188.24478419846497, -376.43585623363293, -430.21908154227526, -297.4626741348681, -630.84391178919, -1401.8357806163506, -1840.1103670361035, -2301.1338469743755, -1978.0342991348687, -2036.6212327768458, -1582.0884889496836, -1248.9047512953637, -1563.5151941965978, -1710.1467358632653, -1667.6654735175846, -1666.8830753694367, -1956.6269488262246, -1973.235333085484, -2230.3679858632618, -2182.226174134865, -1860.006047591655, -1447.0893932706679, -1262.7488932706678, -1149.3879426533829, -1394.6905321595552, -1416.8015312616885, -594.2577570192639, -578.2767070192651, -215.4021570192655, -208.86214489805332, -97.55825247381131, 1475.7146354049764, 4055.838279344374, 3297.7196596474, 1990.7147141928563, 2593.205896011037, 4002.3934263140673, 4350.064932374675, 3260.770876314068, 3322.832444495886, 4250.546853586798, 5715.739726314068, 5423.882923283767, 5317.8108096474, 3854.0544263140673, 2782.3149263140654, 1912.1646414655836, 231.67203237467243, 575.6424793443705, 78.67424146558226, -31.36767823138638, 1655.3308702534625, 1367.1013581322502, 356.03618237466964, 304.2346626777022, -1519.1723555041162, -360.5936176253275, -688.1335085344177, 602.86651105032, 1008.3711869762442, 1016.6669508651348, 2815.240477099702, 3196.1535017910574, 2362.041825865132, 1391.123671544144, 977.4950527169847, 1570.2603829638983, 39.55548635896012, 903.5709508651319, 1340.3986005564889, 898.6120110503174, 993.093248704637, -893.7595275299282, -1196.0357358632627, -857.2615568509119, -474.64882536943355, 784.3376345071086, -306.6345830854824, -952.4150691965913, -800.5423408015305, -262.55279759165285, -434.5876432706647, -344.4128099373343, 32.34789067994941, 387.5092178404446, -68.34378126168906, -1185.771757019265, -962.7618736859306, -2059.2094903525976, -2165.39356156472, -1726.6539191404775, -2592.2431145950213, -3751.067553988963, -2930.191007019265, -2918.0042024738113, -2271.3032706556296, -1674.3244070192686, -1840.8200676253273, -2181.933957019268, -1311.6949721707817, -1591.665896413207, -640.5102736859316, 18.085339950426388, 188.48947631406494, 1162.4569263140659, 557.9927596473983, 1363.9375581322467, 1451.5641157080065, 736.3109793443666, 132.78999146557948, 554.9690717686121, 87.68528692012586, 66.05935813224707, 845.7571823746746, 1141.517412677706, 952.0855611625528, 1616.887049041339, 1801.3688247989141, 2198.8936777169847, 2247.679770309576, 2177.7392008651304, 1528.151393766364, 777.6229184577244, 235.86290919846425, 240.2677548774767, -240.86961394968347, 561.7603829638965, 221.64065302562594, 286.2964508651324, -665.3733994435082, -599.7292389496821, -608.1458346286951, -972.7612775299303, -519.1556525299293, -188.91114018424935, 185.53900796389803, 197.2702178404419, 77.68608358118044, 373.3471808034067, 30.713159198466983, -83.85446425832276, -386.61589327066866, -727.826809937336, -572.328109320051, -1370.8109488262264, -1574.3851145950262, -1442.1412570192665, -1561.5220403525993, -1257.253573685932, -851.3879782313901, -1435.1461691404804, -1427.8854479283573, -1608.9633873222979, -1363.1996736859332, -1237.772785807144, -1502.8527706556297, -1473.5451570192654, -1354.4147342919932, -348.81504035260076, -431.91255550411296, -296.66431307987057, -20.911607019266647, -337.092910049569, -493.453440352601, -228.24749035259885, -78.79915701926684, 507.8351414655819, 593.2216157080059, 492.92631267770344, 668.3541581322482, 1368.5580717686103, 564.0290369201259, 992.7190247989136, 660.3916823746711, 1052.3123293443682, 1119.6698944958853, 922.0450490413383, 758.4039081322466, 865.3116777169828, 1288.1556036429097, 1270.5129508651326, 1376.0969770997017, 1207.860501791058, 971.5978258651323, 808.1710882108122, 944.2373860503183, 604.068049630564, 107.18365302562924, 160.93361753180153, 368.3172672231572, 386.1713443836537, 191.67158203797163, 117.43888913673801, -125.7561525299288, 59.6293598157498, 66.46625796389867, 377.98080117377356, 321.6337502478492, 3.9093474700714808, -404.77942413486755, -345.8480475916566, -426.39364327066886, -497.8078932706681, -435.9450259867169, -589.3144488262235, -170.68869792835687, -182.97959035259962, -26.013040352599347, 64.15275964740053, 247.84077176861285, 389.3353308595222, 219.01838540497562, 366.04127934436974, 419.4478263140667, 485.84854752618685, 458.74314601103566, 326.1798429807332, -361.63406762532753, -210.858207019268, -517.4343888374498, -726.2418964132061, -406.59369035259886, -615.4713267162364, -497.05744035259943, -526.9682403526001, -227.53124035259924, -186.67752520108462, -117.65030095866018, -135.65927065563005, -773.1790918677513, -682.2661782313876, -726.8135464132054, -658.6093085344176, -858.9095676253276, -829.9125873222969, -1097.370438837449, -789.1873676253275, -607.2148418677513, -693.8736556163492, -448.0608963570899, -583.0970491348671, -514.6520229003008, -514.2050815422742, -398.68767413486665, -191.80641178918688, -221.0919472830148, -253.93420036943462, -526.8897636410405, -453.5583824682014, -597.1616494435087, -629.5209889496824, -606.2710012953609, -475.99619419659393, -76.59690252992819, 488.3199431490847, 541.3755912972335, 623.681717840442, 526.2600002478513, 655.0470974700731, 679.3919091984689, 944.0139524083453, 1612.0697733959976, 1384.1411067293316, 1130.4738906799496, 1406.5243845071088, 1448.4158020716427, 1422.4369096474015, 1366.422876314067, 933.2033429807333, 817.0279384352785, 746.743164192854, 610.7528854049742, 167.52669601103526, 139.1521596473989, 45.6733808595209, -195.9544373222979, -645.0888236859337, -390.4024842919934, -782.5872903526007, -714.294972170782, -637.1040630798728, -755.5841070192645, -817.9246600495693, -740.1006903525982, -696.6694070192659, -393.0727403525977, -565.379025201083, -422.7008842919929, -629.4937706556282, -378.72975853441545, -508.7935948980516, -324.82621307987193, -150.39014186774992, -90.81981762532652, -118.57958732229545, 137.00031116255366, 308.0182157080077, 299.60865813225, 237.28334438365187, 271.0776869762462, 430.1027008651345, 539.2563104330366, 559.6206684577267, 703.2590758651343, 75.5810048774805, -100.9398639496787, -198.48128370276754, -347.5060969743712, -305.33029913486615, -262.4727327768409, -301.06940561634804, -260.7468346286939, -77.14186086326025, -59.11848586326137, -56.93130685091558, -83.73132536943581, -336.8524488262252, -226.5432497521505, -116.11323586326282, 16.188325865132228, 224.82761907500947, 161.3057733959975, 160.7814400626625, 40.471390679947284, -70.68719882622663, -21.136197928358, 235.4047429807329, 168.53087631406626, 157.45234298073305, 213.52935510194368, 211.0770808595214, 143.75013540497554, 95.31352934436882, 162.76649298073278, 210.35729752618775, 166.11097934436845, 159.13934298073315, 193.17268237467218, 171.48845964740016, 87.12419449588363, -294.42356307987336, -307.16144035260174, -300.20216004957035, -304.92877368593383, -21.055323685933033, 32.0455096473991, 24.175974798915533, 11.38803237467187, 9.051562677702588, 79.34999146558168, 86.94757176861145, 110.45170358679223, 118.14527479891396, 166.10159904133778, 163.4717460110347, 238.55339449588325, 258.1232990413379, 310.22032479891396, 178.91476105031802, 198.13768697624386, 245.48811753180058, 312.73547709970074, 406.8004184577251, 463.8280758651338, 641.5525882108126, 678.5296360503178, 765.0657996305645, 947.0489863589597, 893.0259508651318, 860.9691005564906, 909.4275110503162, 965.3806653713049, 1000.4308058034039, 1011.3248474700704, 373.7952764824157, 390.74567463056405, 370.8342178404413, 450.37833358118235, 593.5281808034044, -145.58042413486703, -565.2037975916572, -324.30172660400257, -562.4969766040027, -488.72810932005154, -920.0611154928918, -719.6766145950247, -868.7290903526, -779.9907070192664, -278.7384903526, -202.48472823138798, -420.071669140478, -205.27019792835648, -242.91730398896243, -504.7783403525997, -392.82228580714536, -562.936437322296, -812.9799070192657, -828.8790676253266, -764.4705403525996, -608.7460555041149, -702.0850630798722, -778.9391903525997, -650.8919933829023, -776.1565236859329, -811.5269070192655, -764.8684070192651, -722.376108534418, -347.13913429199306, -146.0381039889628, -91.18800853441742, 283.6098217686122, 71.65978692012703, 213.1305247989155, 181.0195157080059, 246.16891267770333, 18.09531116255119, 12.729715708006225, -176.08275853441882, 99.55034438365124, -63.423729690423485, 15.591284198465985, -125.89985623363242, 63.05866845772539, 176.64124253180017, 110.46142154414554, 169.20113605031776, 138.77138296389785, 462.08915302562684, 404.88611753179913, 380.1321838898239, 371.9273443836513, -14.993334628694512, 6.987805803404182, 13.034014136737412, -130.17280685091748, 9.885257963898088, -95.88194882622531, -38.85724975215126, 48.61584747007035, 42.62640919846568, 64.10245240834286, -97.54047660400255, -90.42539327066976, -45.14610932005164, -38.654948826225066, -8.750614595023421, -3.065257019266454, -17.019290352600166, -28.59932368593323, -110.8144782313883, -132.68975247381263, -89.18361459502461, -150.26805398896477, -161.09725701926675, -141.09270247381298, -193.5866039889642, -224.6746570192667, -206.3037342919947, -270.8827070192662, -298.42055550411504, -33.64597974653896, -87.40327368593299, -77.89057671623537, -133.66602368593263, -146.32940701926583, -143.5628236859322, -165.3592752010848, -133.17046762532686, -118.72268732229735, -62.42884186775116, 155.07815510194501, 155.30512025346087, 178.86652479891492, 157.953599041339, 149.91557934436887, 305.4342278292178, 37.598049041338655, -4.089591867752162, -62.95732228301563, -108.32464635708952, -107.41896580153428, -137.31727290029954, -105.11291487560834, -109.00784080153443, -154.45482845585514, -72.3221972830158, -73.16361703610164, -18.214596974373215, -76.79746580153386, -53.26781611017526, -101.90757228301447, -184.8984179620267, -192.7858608632614, -195.44331919659447, -250.75464018424884, -243.05640870276716, -171.41661549289086, -191.85324975215, -167.2034025299292, -143.70009080153443, -196.18563092499096, -273.43147660400354, -289.14247660400366, -307.8892759867206, -321.99378215955875, -391.8787812616912, -392.4950070192672, -334.9632070192672, -325.43632368593455, -276.75172823138917, -265.73400247381346, -299.7735312616923, -331.2287206556307, 238.98340964739907, 463.8107141928549, 320.19606267770365, 356.09509298073414, 374.55843237467167, 449.5457096474, 485.4755278292167, 384.6596035867939, 405.0422263140664, 132.19858995043035, 35.05622631406672, -1.1024903526002134, 9.411426314066645, -144.01685853441705, -62.47788429199295, -53.754937322297096, -44.3657585344168, -125.03709489805482, -164.4283797465385, -273.97597520108434, -266.984234291993, -204.8987539889644, -289.29802217078316, -674.745034291995, -693.9719252010842, -808.0220722830152, -858.8927296904244, -1013.1797991348685, -999.0807729003, -962.9194148756094, -888.9367574682026, -691.5514951225219, -654.9091139496834, -718.2417003694363, -740.7350969743724, -679.1587158015334, -660.3908161101748, -524.3623222830134, -380.2439179620257, 319.9665558034076, 318.39118080340637, 829.2815264824193, 1086.3687579639006, 1170.9562178404435, 970.748083581184, 336.2155974700729, 282.0704925318013, 836.7064524083436, 716.9951900626636, 665.6122733959977, 342.6832240132819, 388.829801173775, 504.9595520716424, 496.8304929807341, 871.8621263140674, 1021.3028429807326, 823.6517717686125, 673.9335808595204, 331.9019687383098, 238.58102934436965, 211.02590964739954, 292.07329752618716, -271.8506873222977, -916.0276570192682, -965.2903176253285, -1090.9377903526013, -963.7588888374495, -1111.677063079875, -1503.142523685935, -1383.7034100495723, -1469.4358570192678, -1335.0724070192698, -1276.9066570192688, -963.6556085344172, -736.8528842919948, -558.7625206556284, -328.17384186775195, -559.0732615647189, -490.1925464132044, -308.87247520108326, 218.52334904133912, 761.8994960110346, 962.4860611625489, 955.6008823746721, 1563.4593247989126, 2756.734344383648, 1415.6971869762415, 1849.079534198464, 1705.953060433034, 974.8008351243882, 477.5035758651305, 472.2224215441414, 1583.7667193836485, 1167.677882963896, 905.0464863589583, 1078.1928675317988, 1116.443600556489, 1702.9630943836503, 2061.2458320379733, 1736.7008058034025, 901.6262641367357, 1029.9576098157502, 655.3925079638973, -231.41278215956083, -42.27283308548604, -899.8271525299294, -1085.9224241348695, -437.5394642583259, -315.63514327066895, -62.75005993733664, -254.3386093200522, -454.5503654928909, -825.439697928358, -1006.0516736859313, -817.4812903525992, -880.1983236859306, -1023.7934782313872, -1151.3001691404754, -1055.3224479283544, -991.4551373222953, -622.810090352598, -279.5982024738114, -52.20902065562944, 199.63675964740293, 341.5120990413416, 1092.5823763140677, 1063.1048611625545, 1332.7320202534634, 1325.1258929807373, 1325.206173283768, 931.2268929807354, 951.1142596474022, 942.7120096474002, 546.6493914655831, -190.03121762532624, -258.81252065562944, -140.04142520108468, -195.06926156471985, -119.43629641320405, 329.72277479891704, 330.42126570800775, -223.1510039889612, -372.9933555041108, -123.32903429199028, -298.2637585344143, -341.50498894967745, -88.0568130237521, -294.81979913486515, -652.0186895669631, -895.4423315422716, -784.6875074681973, -680.8472451225194, -485.53853061634544, 63.81913296390211, 509.0394863589605, 562.4643675318014, 580.2934338898264, 499.0614277169874, 578.3089987046418, 610.9694724700712, 585.419930803404, 424.81744314908417, 449.09592463056447, 715.6377178404404, 753.392416914514, 881.7359308034031, 905.2838258651335, 814.5037024083405, 793.5156900626623, 805.884356729331, 831.2118073466147, 938.8481345071066, 820.5545520716418, 859.6110763140682, 650.6701263140665, -321.084823685933, -537.6898948980537, -872.1452524738108, -816.1643645950244, -774.325637322298, -945.8663403526012, -837.9237858071483, -670.3995206556336, -695.2129070192696, -773.2436509586623, -850.6662903526022, -859.5986388374487, -1054.8309797465404, -881.7656070192669, -790.4510767162377, -469.29277368593523, -383.48532368593425, -513.9377403526003, -570.938525201086, -539.618550958661, -468.4031873222982, -554.8507585344192, -733.0545115647205, -683.6013797465373, -761.4529752010824, -724.2551509586576, -525.4072539889634, -404.8067721707786, -535.2940342919932, -1005.5451752010846, -1145.1764889496797, -198.6538130237555, 819.6741175318011, 922.3670604330364, 870.3108351243939, 898.3010758651328, 763.2534215441459, 775.8108860503187, 824.4552996305638, 1001.7374863589627, 914.0472008651334, 1088.85110055649, 1017.9752610503177, 1041.405832037973, 940.3557224700708, 624.366680803405, 556.5711098157516, 761.3687579638988, 551.3274678404417, 590.5188335811819, 662.7779308034044, 596.4402425317993, 422.0166190750107, 391.0068567293318, 445.3152733959982, 177.5863906799489, 109.47938450710971, 134.05471873830936, -242.69625701926586, -664.1302903525996, -637.6346570192665, -877.3128948980542, -804.0793358071444, -644.5206145950242, -416.56705398896383, -337.8150903526008, -78.43978580714608, -162.65427065563193, -350.22099035260084, -420.1989842919947, -373.30620701926654, -349.338305504116, -283.9482297465405, -158.04177368593437, -106.79007671623582, -105.34510701926743, -205.33190701926634, -325.71807368593335, -361.89352520108406, -325.39938429199424, -253.21143732229552, -371.6598418677509, -381.80026156472053, -567.5398797465393, -839.9198918677496, -426.23865095866057, -399.9105873222974, -396.1595221707804, -457.62861762532646, -201.80417520108375, -278.50007228301433, -445.7206463570888, -577.7184658015321, -559.3188562336309, -577.8708315422743, -462.6890908015327, -353.7154951225199, -503.54461394968, -609.1487003694338, -572.6380136410374, -806.2232991348653, -619.4900661101741, -559.5207389496815, -565.0633346286937, -284.2798608632602, 99.19543080340559, 70.46377648241729, -229.12490870276747, -75.17144882622381, -67.75874975215075, -19.972819196594827, -60.856090801532574, 370.27970240834395, 420.7283567293305, 323.5616067293317, 422.57722401328033, 440.13305117377405, 270.6855520716448, 111.13507631406767, 105.90787631406849, 86.32092631406871, -175.64614489805297, -235.94641914047884, -343.096614595026, -232.05422065563153, 15.94807631406674, 424.29054752618686, 426.8142293443689, 494.2734263140665, 392.43734904134004, 395.2672929807348, 290.7005278292207, 289.56510358679645, 49.82180964740119, 359.4607566170995, 532.2590596474014, 592.2600929807325, 660.1702596473981, 904.2138081322474, 751.2127823746689, 1028.8886460110327, 1289.1051581322467, 1223.8391551019454, 1312.5378702534592, 1043.2995247989136, 984.5525990413423, 854.8457460110372, 1283.117727829219, 934.8736323746722, 856.7867414655833, null, null, null, null, null, null, null, null, null, null, null, null, null, null, null, null, null, null, null, null, null, null, null, null, null, null, null, null, null, null]}, {\"line\": {\"color\": \"rgb(66, 134, 244)\", \"width\": 2}, \"mode\": \"lines\", \"name\": \"Observed\", \"type\": \"scatter\", \"x\": [0, 1, 2, 3, 4, 5, 6, 7, 8, 9, 10, 11, 12, 13, 14, 15, 16, 17, 18, 19, 20, 21, 22, 23, 24, 25, 26, 27, 28, 29, 30, 31, 32, 33, 34, 35, 36, 37, 38, 39, 40, 41, 42, 43, 44, 45, 46, 47, 48, 49, 50, 51, 52, 53, 54, 55, 56, 57, 58, 59, 60, 61, 62, 63, 64, 65, 66, 67, 68, 69, 70, 71, 72, 73, 74, 75, 76, 77, 78, 79, 80, 81, 82, 83, 84, 85, 86, 87, 88, 89, 90, 91, 92, 93, 94, 95, 96, 97, 98, 99, 100, 101, 102, 103, 104, 105, 106, 107, 108, 109, 110, 111, 112, 113, 114, 115, 116, 117, 118, 119, 120, 121, 122, 123, 124, 125, 126, 127, 128, 129, 130, 131, 132, 133, 134, 135, 136, 137, 138, 139, 140, 141, 142, 143, 144, 145, 146, 147, 148, 149, 150, 151, 152, 153, 154, 155, 156, 157, 158, 159, 160, 161, 162, 163, 164, 165, 166, 167, 168, 169, 170, 171, 172, 173, 174, 175, 176, 177, 178, 179, 180, 181, 182, 183, 184, 185, 186, 187, 188, 189, 190, 191, 192, 193, 194, 195, 196, 197, 198, 199, 200, 201, 202, 203, 204, 205, 206, 207, 208, 209, 210, 211, 212, 213, 214, 215, 216, 217, 218, 219, 220, 221, 222, 223, 224, 225, 226, 227, 228, 229, 230, 231, 232, 233, 234, 235, 236, 237, 238, 239, 240, 241, 242, 243, 244, 245, 246, 247, 248, 249, 250, 251, 252, 253, 254, 255, 256, 257, 258, 259, 260, 261, 262, 263, 264, 265, 266, 267, 268, 269, 270, 271, 272, 273, 274, 275, 276, 277, 278, 279, 280, 281, 282, 283, 284, 285, 286, 287, 288, 289, 290, 291, 292, 293, 294, 295, 296, 297, 298, 299, 300, 301, 302, 303, 304, 305, 306, 307, 308, 309, 310, 311, 312, 313, 314, 315, 316, 317, 318, 319, 320, 321, 322, 323, 324, 325, 326, 327, 328, 329, 330, 331, 332, 333, 334, 335, 336, 337, 338, 339, 340, 341, 342, 343, 344, 345, 346, 347, 348, 349, 350, 351, 352, 353, 354, 355, 356, 357, 358, 359, 360, 361, 362, 363, 364, 365, 366, 367, 368, 369, 370, 371, 372, 373, 374, 375, 376, 377, 378, 379, 380, 381, 382, 383, 384, 385, 386, 387, 388, 389, 390, 391, 392, 393, 394, 395, 396, 397, 398, 399, 400, 401, 402, 403, 404, 405, 406, 407, 408, 409, 410, 411, 412, 413, 414, 415, 416, 417, 418, 419, 420, 421, 422, 423, 424, 425, 426, 427, 428, 429, 430, 431, 432, 433, 434, 435, 436, 437, 438, 439, 440, 441, 442, 443, 444, 445, 446, 447, 448, 449, 450, 451, 452, 453, 454, 455, 456, 457, 458, 459, 460, 461, 462, 463, 464, 465, 466, 467, 468, 469, 470, 471, 472, 473, 474, 475, 476, 477, 478, 479, 480, 481, 482, 483, 484, 485, 486, 487, 488, 489, 490, 491, 492, 493, 494, 495, 496, 497, 498, 499, 500, 501, 502, 503, 504, 505, 506, 507, 508, 509, 510, 511, 512, 513, 514, 515, 516, 517, 518, 519, 520, 521, 522, 523, 524, 525, 526, 527, 528, 529, 530, 531, 532, 533, 534, 535, 536, 537, 538, 539, 540, 541, 542, 543, 544, 545, 546, 547, 548, 549, 550, 551, 552, 553, 554, 555, 556, 557, 558, 559, 560, 561, 562, 563, 564, 565, 566, 567, 568, 569, 570, 571, 572, 573, 574, 575, 576, 577, 578, 579, 580, 581, 582, 583, 584, 585, 586, 587, 588, 589, 590, 591, 592, 593, 594, 595, 596, 597, 598, 599, 600, 601, 602, 603, 604, 605, 606, 607, 608, 609, 610, 611, 612, 613, 614, 615, 616, 617, 618, 619, 620, 621, 622, 623, 624, 625, 626, 627, 628, 629, 630, 631, 632, 633, 634, 635, 636, 637, 638, 639, 640, 641, 642, 643, 644, 645, 646, 647, 648, 649, 650, 651, 652, 653, 654, 655, 656, 657, 658, 659, 660, 661, 662, 663, 664, 665, 666, 667, 668, 669, 670, 671, 672, 673, 674, 675, 676, 677, 678, 679, 680, 681, 682, 683, 684, 685, 686, 687, 688, 689, 690, 691, 692, 693, 694, 695, 696, 697, 698, 699, 700, 701, 702, 703, 704, 705, 706, 707, 708, 709, 710, 711, 712, 713, 714, 715, 716, 717, 718, 719, 720, 721, 722, 723, 724, 725, 726, 727, 728, 729, 730, 731, 732, 733, 734, 735, 736, 737, 738, 739, 740, 741, 742, 743, 744, 745, 746, 747, 748, 749, 750, 751, 752, 753, 754, 755, 756, 757, 758, 759, 760, 761, 762, 763, 764, 765, 766, 767, 768, 769, 770, 771, 772, 773, 774, 775, 776, 777, 778, 779, 780, 781, 782, 783, 784, 785, 786, 787, 788, 789, 790, 791, 792, 793, 794, 795, 796, 797, 798, 799, 800, 801, 802, 803, 804, 805, 806, 807, 808, 809, 810, 811, 812, 813, 814, 815, 816, 817, 818, 819, 820, 821, 822, 823, 824, 825, 826, 827, 828, 829, 830, 831, 832, 833, 834, 835, 836, 837, 838, 839, 840, 841, 842, 843, 844, 845, 846, 847, 848, 849, 850, 851, 852, 853, 854, 855, 856, 857, 858, 859, 860, 861, 862, 863, 864, 865, 866, 867, 868, 869, 870, 871, 872, 873, 874, 875, 876, 877, 878, 879, 880, 881, 882, 883, 884, 885, 886, 887, 888, 889, 890, 891, 892, 893, 894, 895, 896, 897, 898, 899, 900, 901, 902, 903, 904, 905, 906, 907, 908, 909, 910, 911, 912, 913, 914, 915, 916, 917, 918, 919, 920, 921, 922, 923, 924, 925, 926, 927, 928, 929, 930, 931, 932, 933, 934, 935, 936, 937, 938, 939, 940, 941, 942, 943, 944, 945, 946, 947, 948, 949, 950, 951, 952, 953, 954, 955, 956, 957, 958, 959, 960, 961, 962, 963, 964, 965, 966, 967, 968, 969, 970, 971, 972, 973, 974, 975, 976, 977, 978, 979, 980, 981, 982, 983, 984, 985, 986, 987, 988, 989, 990, 991, 992, 993, 994, 995, 996, 997, 998, 999, 1000, 1001, 1002, 1003, 1004, 1005, 1006, 1007, 1008, 1009, 1010, 1011, 1012, 1013, 1014, 1015, 1016, 1017, 1018, 1019, 1020, 1021, 1022, 1023, 1024, 1025, 1026, 1027, 1028, 1029, 1030, 1031, 1032, 1033, 1034, 1035, 1036, 1037, 1038, 1039, 1040, 1041, 1042, 1043, 1044, 1045, 1046, 1047, 1048, 1049, 1050, 1051, 1052, 1053, 1054, 1055, 1056, 1057, 1058, 1059, 1060, 1061, 1062, 1063, 1064, 1065, 1066, 1067, 1068, 1069, 1070, 1071, 1072, 1073, 1074, 1075, 1076, 1077, 1078, 1079, 1080, 1081, 1082, 1083, 1084, 1085, 1086, 1087, 1088, 1089, 1090, 1091, 1092, 1093, 1094, 1095, 1096, 1097, 1098, 1099, 1100, 1101, 1102, 1103, 1104, 1105, 1106, 1107, 1108, 1109, 1110, 1111, 1112, 1113, 1114, 1115, 1116, 1117, 1118, 1119, 1120, 1121, 1122, 1123, 1124, 1125, 1126, 1127, 1128, 1129, 1130, 1131, 1132, 1133, 1134, 1135, 1136, 1137, 1138, 1139, 1140, 1141, 1142, 1143, 1144, 1145, 1146, 1147, 1148, 1149, 1150, 1151, 1152, 1153, 1154, 1155, 1156, 1157, 1158, 1159, 1160, 1161, 1162, 1163, 1164, 1165, 1166, 1167, 1168, 1169, 1170, 1171, 1172, 1173, 1174, 1175, 1176, 1177, 1178, 1179, 1180, 1181, 1182, 1183, 1184, 1185, 1186, 1187, 1188, 1189, 1190, 1191, 1192, 1193, 1194, 1195, 1196, 1197, 1198, 1199, 1200, 1201, 1202, 1203, 1204, 1205, 1206, 1207, 1208, 1209, 1210, 1211, 1212, 1213, 1214, 1215, 1216, 1217, 1218, 1219, 1220, 1221, 1222, 1223, 1224, 1225, 1226, 1227, 1228, 1229, 1230, 1231, 1232, 1233, 1234, 1235, 1236, 1237, 1238, 1239, 1240, 1241, 1242, 1243, 1244, 1245, 1246, 1247, 1248, 1249, 1250, 1251, 1252, 1253, 1254, 1255, 1256, 1257, 1258, 1259, 1260, 1261, 1262, 1263, 1264, 1265, 1266, 1267, 1268, 1269, 1270, 1271, 1272, 1273, 1274, 1275, 1276, 1277, 1278, 1279, 1280, 1281, 1282, 1283, 1284, 1285, 1286, 1287, 1288, 1289, 1290, 1291, 1292, 1293, 1294, 1295, 1296, 1297, 1298, 1299, 1300, 1301, 1302, 1303, 1304, 1305, 1306, 1307, 1308, 1309, 1310, 1311, 1312, 1313, 1314, 1315, 1316, 1317, 1318, 1319, 1320, 1321, 1322, 1323, 1324, 1325, 1326, 1327, 1328, 1329, 1330, 1331, 1332, 1333, 1334, 1335, 1336, 1337, 1338, 1339, 1340, 1341, 1342, 1343, 1344, 1345, 1346, 1347, 1348, 1349, 1350, 1351, 1352, 1353, 1354, 1355, 1356, 1357, 1358, 1359, 1360, 1361, 1362, 1363, 1364, 1365, 1366, 1367, 1368, 1369, 1370, 1371, 1372, 1373, 1374, 1375, 1376, 1377, 1378, 1379, 1380, 1381, 1382, 1383, 1384, 1385, 1386, 1387, 1388, 1389, 1390, 1391, 1392, 1393, 1394, 1395, 1396, 1397, 1398, 1399, 1400, 1401, 1402, 1403, 1404, 1405, 1406, 1407, 1408, 1409, 1410, 1411, 1412, 1413, 1414, 1415, 1416, 1417, 1418, 1419, 1420, 1421, 1422, 1423, 1424, 1425, 1426, 1427, 1428, 1429, 1430, 1431, 1432, 1433, 1434, 1435, 1436, 1437, 1438, 1439, 1440, 1441, 1442, 1443, 1444, 1445, 1446, 1447, 1448, 1449, 1450, 1451, 1452, 1453, 1454, 1455, 1456, 1457, 1458, 1459, 1460, 1461, 1462, 1463, 1464, 1465, 1466, 1467, 1468, 1469, 1470, 1471, 1472, 1473, 1474, 1475, 1476, 1477, 1478, 1479, 1480, 1481, 1482, 1483, 1484, 1485, 1486, 1487, 1488, 1489, 1490, 1491, 1492, 1493, 1494, 1495, 1496, 1497, 1498, 1499, 1500, 1501, 1502, 1503, 1504, 1505, 1506, 1507, 1508, 1509, 1510, 1511, 1512, 1513, 1514, 1515, 1516, 1517, 1518, 1519, 1520, 1521, 1522, 1523, 1524, 1525, 1526, 1527, 1528, 1529, 1530, 1531, 1532, 1533, 1534, 1535, 1536, 1537, 1538, 1539, 1540, 1541, 1542, 1543, 1544, 1545, 1546, 1547, 1548, 1549, 1550, 1551, 1552, 1553, 1554, 1555, 1556, 1557, 1558, 1559, 1560, 1561, 1562, 1563, 1564, 1565, 1566, 1567, 1568, 1569, 1570, 1571, 1572, 1573, 1574, 1575, 1576, 1577, 1578, 1579, 1580, 1581, 1582, 1583, 1584, 1585, 1586, 1587, 1588, 1589, 1590, 1591, 1592, 1593, 1594, 1595, 1596, 1597, 1598, 1599, 1600, 1601, 1602, 1603, 1604, 1605, 1606, 1607, 1608, 1609, 1610, 1611, 1612, 1613, 1614, 1615, 1616, 1617, 1618, 1619, 1620, 1621, 1622, 1623, 1624, 1625, 1626, 1627, 1628, 1629, 1630, 1631, 1632, 1633, 1634, 1635, 1636, 1637, 1638, 1639, 1640, 1641, 1642, 1643, 1644, 1645, 1646, 1647, 1648, 1649, 1650, 1651, 1652, 1653, 1654, 1655, 1656, 1657, 1658, 1659, 1660, 1661, 1662, 1663, 1664, 1665, 1666, 1667, 1668, 1669, 1670, 1671, 1672, 1673, 1674, 1675, 1676, 1677, 1678, 1679, 1680, 1681, 1682, 1683, 1684, 1685, 1686, 1687, 1688, 1689, 1690, 1691, 1692, 1693, 1694, 1695, 1696, 1697, 1698, 1699, 1700, 1701, 1702, 1703, 1704, 1705, 1706, 1707, 1708, 1709, 1710, 1711, 1712, 1713, 1714, 1715, 1716, 1717, 1718, 1719, 1720, 1721, 1722, 1723, 1724, 1725, 1726, 1727, 1728, 1729, 1730, 1731, 1732, 1733, 1734, 1735, 1736, 1737, 1738, 1739, 1740, 1741, 1742, 1743, 1744, 1745, 1746, 1747, 1748, 1749, 1750, 1751, 1752, 1753, 1754, 1755, 1756, 1757, 1758, 1759, 1760, 1761, 1762, 1763, 1764, 1765, 1766, 1767, 1768, 1769, 1770, 1771, 1772, 1773, 1774, 1775, 1776, 1777, 1778, 1779, 1780, 1781, 1782, 1783, 1784, 1785, 1786, 1787, 1788, 1789, 1790, 1791, 1792, 1793, 1794, 1795, 1796, 1797, 1798, 1799, 1800, 1801, 1802, 1803, 1804, 1805, 1806, 1807, 1808, 1809, 1810, 1811, 1812, 1813, 1814, 1815, 1816, 1817, 1818, 1819, 1820, 1821, 1822, 1823, 1824, 1825, 1826, 1827, 1828, 1829, 1830, 1831, 1832, 1833, 1834, 1835, 1836, 1837, 1838, 1839, 1840, 1841, 1842, 1843, 1844, 1845, 1846, 1847, 1848, 1849, 1850, 1851, 1852, 1853, 1854, 1855, 1856, 1857, 1858, 1859, 1860, 1861, 1862, 1863, 1864, 1865, 1866, 1867, 1868, 1869, 1870, 1871, 1872, 1873, 1874, 1875, 1876, 1877, 1878, 1879, 1880, 1881, 1882, 1883, 1884, 1885, 1886, 1887, 1888, 1889, 1890, 1891, 1892, 1893, 1894, 1895, 1896, 1897, 1898, 1899, 1900, 1901, 1902, 1903, 1904, 1905, 1906, 1907, 1908, 1909, 1910, 1911, 1912, 1913, 1914, 1915, 1916, 1917, 1918, 1919, 1920, 1921, 1922, 1923, 1924, 1925, 1926, 1927, 1928, 1929, 1930, 1931, 1932, 1933, 1934, 1935, 1936, 1937, 1938, 1939, 1940, 1941, 1942, 1943, 1944, 1945, 1946, 1947, 1948, 1949, 1950, 1951, 1952, 1953, 1954, 1955, 1956, 1957, 1958, 1959, 1960, 1961, 1962, 1963, 1964, 1965, 1966, 1967, 1968, 1969, 1970, 1971, 1972, 1973, 1974, 1975, 1976, 1977, 1978, 1979, 1980, 1981, 1982, 1983, 1984, 1985, 1986, 1987, 1988, 1989, 1990, 1991, 1992, 1993, 1994, 1995, 1996, 1997, 1998, 1999, 2000, 2001, 2002, 2003, 2004, 2005, 2006, 2007, 2008, 2009, 2010, 2011, 2012, 2013, 2014, 2015, 2016, 2017, 2018, 2019, 2020, 2021, 2022, 2023, 2024, 2025, 2026, 2027, 2028, 2029, 2030, 2031, 2032, 2033, 2034, 2035, 2036, 2037, 2038, 2039, 2040, 2041, 2042, 2043, 2044, 2045, 2046, 2047, 2048, 2049, 2050, 2051, 2052, 2053, 2054, 2055, 2056, 2057, 2058, 2059, 2060, 2061, 2062, 2063, 2064, 2065, 2066, 2067, 2068, 2069, 2070, 2071, 2072, 2073, 2074, 2075, 2076, 2077, 2078, 2079, 2080, 2081, 2082, 2083, 2084, 2085, 2086, 2087, 2088, 2089, 2090, 2091, 2092, 2093, 2094, 2095, 2096, 2097, 2098, 2099, 2100, 2101, 2102, 2103, 2104, 2105, 2106, 2107, 2108, 2109, 2110, 2111, 2112, 2113, 2114, 2115, 2116, 2117, 2118, 2119, 2120, 2121, 2122, 2123, 2124, 2125, 2126, 2127, 2128, 2129, 2130, 2131, 2132, 2133, 2134, 2135, 2136, 2137, 2138, 2139, 2140, 2141, 2142, 2143, 2144, 2145, 2146, 2147, 2148, 2149, 2150, 2151, 2152, 2153, 2154, 2155, 2156, 2157, 2158, 2159, 2160, 2161, 2162, 2163, 2164, 2165, 2166, 2167, 2168, 2169, 2170, 2171, 2172, 2173, 2174, 2175, 2176, 2177, 2178, 2179, 2180, 2181, 2182, 2183, 2184, 2185, 2186, 2187, 2188, 2189, 2190, 2191, 2192, 2193, 2194, 2195, 2196, 2197, 2198, 2199, 2200, 2201, 2202, 2203, 2204, 2205, 2206, 2207, 2208, 2209, 2210, 2211, 2212, 2213, 2214, 2215, 2216, 2217, 2218, 2219, 2220, 2221, 2222, 2223, 2224, 2225, 2226, 2227, 2228, 2229, 2230, 2231, 2232, 2233, 2234, 2235, 2236, 2237, 2238, 2239, 2240, 2241, 2242, 2243, 2244, 2245, 2246, 2247, 2248, 2249, 2250, 2251, 2252, 2253, 2254, 2255, 2256, 2257, 2258, 2259, 2260, 2261, 2262, 2263, 2264, 2265, 2266, 2267, 2268, 2269, 2270, 2271, 2272, 2273, 2274, 2275, 2276, 2277, 2278, 2279, 2280, 2281, 2282, 2283, 2284, 2285, 2286, 2287, 2288, 2289, 2290, 2291, 2292, 2293, 2294, 2295, 2296, 2297, 2298, 2299, 2300, 2301, 2302, 2303, 2304, 2305, 2306, 2307, 2308, 2309, 2310, 2311, 2312, 2313, 2314, 2315, 2316, 2317, 2318, 2319, 2320, 2321, 2322, 2323, 2324, 2325, 2326, 2327, 2328, 2329, 2330, 2331, 2332, 2333, 2334, 2335, 2336, 2337, 2338, 2339, 2340, 2341, 2342, 2343, 2344, 2345, 2346, 2347, 2348, 2349, 2350, 2351, 2352, 2353, 2354, 2355, 2356, 2357, 2358, 2359, 2360, 2361, 2362, 2363, 2364, 2365, 2366, 2367, 2368, 2369, 2370, 2371, 2372, 2373, 2374, 2375, 2376, 2377, 2378, 2379, 2380, 2381, 2382, 2383, 2384, 2385, 2386, 2387, 2388, 2389, 2390, 2391, 2392, 2393, 2394, 2395, 2396, 2397, 2398, 2399, 2400, 2401, 2402, 2403, 2404, 2405, 2406, 2407, 2408, 2409, 2410, 2411, 2412, 2413, 2414, 2415, 2416, 2417, 2418, 2419, 2420, 2421, 2422, 2423, 2424, 2425, 2426, 2427, 2428, 2429, 2430, 2431, 2432, 2433, 2434, 2435, 2436, 2437, 2438, 2439, 2440, 2441, 2442, 2443, 2444, 2445, 2446, 2447, 2448, 2449, 2450, 2451, 2452, 2453, 2454, 2455, 2456, 2457, 2458, 2459, 2460, 2461, 2462, 2463, 2464, 2465, 2466, 2467, 2468, 2469, 2470, 2471, 2472, 2473, 2474, 2475, 2476, 2477, 2478, 2479, 2480, 2481, 2482, 2483, 2484, 2485, 2486, 2487, 2488, 2489, 2490, 2491, 2492, 2493, 2494, 2495, 2496, 2497, 2498, 2499, 2500, 2501, 2502, 2503, 2504, 2505, 2506, 2507, 2508, 2509, 2510, 2511, 2512, 2513, 2514, 2515, 2516, 2517, 2518, 2519, 2520, 2521, 2522, 2523, 2524, 2525, 2526, 2527, 2528, 2529, 2530, 2531, 2532, 2533, 2534, 2535, 2536, 2537, 2538, 2539, 2540, 2541, 2542, 2543, 2544, 2545, 2546, 2547, 2548, 2549, 2550, 2551, 2552, 2553, 2554, 2555, 2556, 2557, 2558, 2559, 2560, 2561, 2562, 2563, 2564, 2565, 2566, 2567, 2568, 2569, 2570, 2571, 2572, 2573, 2574, 2575, 2576, 2577, 2578, 2579, 2580, 2581, 2582, 2583, 2584, 2585, 2586, 2587, 2588, 2589, 2590, 2591, 2592, 2593, 2594, 2595, 2596, 2597, 2598, 2599, 2600, 2601, 2602, 2603, 2604, 2605, 2606, 2607, 2608, 2609, 2610, 2611, 2612, 2613, 2614, 2615, 2616, 2617, 2618, 2619, 2620, 2621, 2622, 2623, 2624, 2625, 2626, 2627, 2628, 2629, 2630, 2631, 2632, 2633, 2634, 2635, 2636, 2637, 2638, 2639, 2640, 2641, 2642, 2643, 2644, 2645, 2646, 2647, 2648, 2649, 2650, 2651, 2652, 2653, 2654, 2655, 2656, 2657, 2658, 2659, 2660, 2661, 2662, 2663, 2664, 2665, 2666, 2667, 2668, 2669, 2670, 2671, 2672, 2673, 2674, 2675, 2676, 2677, 2678, 2679, 2680, 2681, 2682, 2683, 2684, 2685, 2686, 2687, 2688, 2689, 2690, 2691, 2692, 2693, 2694, 2695, 2696, 2697, 2698, 2699, 2700, 2701, 2702, 2703, 2704, 2705, 2706, 2707, 2708, 2709, 2710, 2711, 2712, 2713, 2714, 2715, 2716, 2717, 2718, 2719, 2720, 2721, 2722, 2723, 2724, 2725, 2726, 2727, 2728, 2729, 2730, 2731, 2732, 2733, 2734, 2735, 2736, 2737, 2738, 2739, 2740, 2741, 2742, 2743, 2744, 2745, 2746, 2747, 2748, 2749, 2750, 2751, 2752, 2753, 2754, 2755, 2756, 2757, 2758, 2759, 2760, 2761, 2762, 2763, 2764, 2765, 2766, 2767, 2768, 2769, 2770, 2771, 2772, 2773, 2774, 2775, 2776, 2777, 2778, 2779, 2780, 2781, 2782, 2783, 2784, 2785, 2786, 2787, 2788, 2789, 2790, 2791, 2792, 2793, 2794, 2795, 2796, 2797, 2798, 2799, 2800, 2801, 2802, 2803, 2804, 2805, 2806, 2807, 2808, 2809, 2810, 2811, 2812, 2813, 2814, 2815, 2816, 2817, 2818, 2819, 2820, 2821, 2822, 2823, 2824, 2825, 2826, 2827, 2828, 2829, 2830, 2831, 2832, 2833, 2834, 2835, 2836, 2837, 2838, 2839, 2840, 2841, 2842, 2843, 2844, 2845, 2846, 2847, 2848, 2849, 2850, 2851, 2852, 2853, 2854, 2855, 2856, 2857, 2858, 2859, 2860, 2861, 2862, 2863, 2864, 2865, 2866, 2867, 2868, 2869, 2870, 2871, 2872, 2873, 2874, 2875, 2876, 2877, 2878, 2879, 2880, 2881, 2882, 2883, 2884, 2885, 2886, 2887, 2888, 2889, 2890, 2891, 2892, 2893, 2894, 2895, 2896, 2897, 2898, 2899, 2900, 2901, 2902, 2903, 2904, 2905, 2906, 2907, 2908, 2909, 2910, 2911, 2912, 2913, 2914, 2915, 2916, 2917, 2918, 2919, 2920, 2921, 2922, 2923, 2924, 2925, 2926, 2927, 2928, 2929, 2930, 2931, 2932, 2933, 2934, 2935, 2936, 2937, 2938, 2939, 2940, 2941, 2942, 2943, 2944, 2945, 2946, 2947, 2948, 2949, 2950, 2951, 2952, 2953, 2954, 2955, 2956, 2957, 2958, 2959, 2960, 2961, 2962, 2963, 2964, 2965, 2966, 2967, 2968, 2969, 2970, 2971, 2972, 2973, 2974, 2975, 2976, 2977, 2978, 2979, 2980, 2981, 2982, 2983, 2984, 2985, 2986, 2987, 2988, 2989, 2990, 2991, 2992, 2993, 2994, 2995, 2996, 2997, 2998, 2999, 3000, 3001, 3002, 3003, 3004, 3005, 3006, 3007, 3008, 3009, 3010, 3011, 3012, 3013, 3014, 3015, 3016, 3017, 3018, 3019, 3020, 3021, 3022, 3023, 3024, 3025, 3026, 3027, 3028, 3029, 3030, 3031, 3032, 3033, 3034, 3035, 3036, 3037, 3038, 3039, 3040, 3041, 3042, 3043, 3044, 3045, 3046, 3047, 3048, 3049, 3050, 3051, 3052, 3053, 3054, 3055, 3056, 3057, 3058, 3059, 3060, 3061, 3062, 3063, 3064, 3065, 3066, 3067, 3068, 3069, 3070, 3071, 3072, 3073, 3074, 3075, 3076, 3077, 3078, 3079, 3080, 3081, 3082, 3083, 3084, 3085, 3086, 3087, 3088, 3089, 3090, 3091, 3092, 3093, 3094, 3095, 3096, 3097, 3098, 3099, 3100, 3101, 3102, 3103, 3104, 3105, 3106, 3107, 3108, 3109, 3110, 3111, 3112, 3113, 3114, 3115, 3116, 3117, 3118, 3119, 3120, 3121, 3122, 3123, 3124, 3125, 3126, 3127, 3128, 3129, 3130, 3131, 3132, 3133, 3134, 3135, 3136, 3137, 3138, 3139, 3140, 3141, 3142, 3143, 3144, 3145, 3146, 3147, 3148, 3149, 3150, 3151, 3152, 3153, 3154, 3155, 3156, 3157, 3158, 3159, 3160, 3161, 3162, 3163, 3164, 3165, 3166, 3167, 3168, 3169, 3170, 3171, 3172, 3173, 3174, 3175, 3176, 3177, 3178, 3179, 3180, 3181, 3182, 3183, 3184, 3185, 3186, 3187, 3188, 3189, 3190, 3191, 3192, 3193, 3194, 3195, 3196, 3197, 3198, 3199, 3200, 3201, 3202, 3203, 3204, 3205, 3206, 3207, 3208, 3209, 3210, 3211, 3212, 3213, 3214, 3215, 3216, 3217, 3218, 3219, 3220, 3221, 3222, 3223, 3224, 3225, 3226, 3227, 3228, 3229, 3230, 3231, 3232, 3233, 3234, 3235, 3236, 3237, 3238, 3239, 3240, 3241, 3242, 3243, 3244, 3245, 3246, 3247, 3248, 3249, 3250, 3251, 3252, 3253, 3254, 3255, 3256, 3257, 3258, 3259, 3260, 3261, 3262, 3263, 3264, 3265, 3266, 3267, 3268, 3269, 3270, 3271, 3272, 3273, 3274, 3275, 3276, 3277, 3278, 3279, 3280, 3281, 3282, 3283, 3284, 3285, 3286, 3287, 3288, 3289, 3290, 3291, 3292, 3293, 3294, 3295, 3296, 3297, 3298, 3299, 3300, 3301, 3302, 3303, 3304, 3305, 3306, 3307, 3308, 3309, 3310, 3311, 3312, 3313, 3314, 3315, 3316, 3317, 3318, 3319, 3320, 3321, 3322, 3323, 3324, 3325, 3326, 3327, 3328, 3329, 3330, 3331, 3332], \"y\": [0.89, 0.89, 0.88, 0.91, 1.03, 0.97, 1.03, 1.07, 1.05, 1.07, 1.05, 1.05, 1.04, 0.9, 0.93, 0.85, 0.84, 0.87, 0.9, 0.98, 0.94, 0.95, 0.91, 0.87, 0.94, 0.93, 0.93, 0.91, 0.9, 0.87, 0.89, 0.87, 0.86, 0.91, 0.89, 0.91, 0.9, 0.89, 0.87, 0.86, 0.84, 0.8, 0.77, 0.76, 0.75, 0.8, 0.84, 0.87, 0.88, 0.87, 0.83, 0.81, 0.79, 0.79, 0.78, 0.78, 0.78, 0.78, 0.69, 0.69, 0.73, 0.75, 0.75, 0.74, 0.74, 0.77, 0.86, 0.93, 0.98, 1.0, 1.05, 1.1, 1.16, 1.19, 1.15, 1.2, 1.35, 1.62, 1.65, 1.57, 1.73, 1.9, 2.12, 2.74, 3.4, 3.09, 3.22, 3.37, 3.43, 3.37, 3.47, 3.63, 3.82, 3.8, 5.28, 5.43, 6.07, 7.84, 7.53, 6.87, 7.9, 7.35, 7.01, 6.88, 5.94, 6.05, 6.58, 7.13, 7.33, 8.19, 8.68, 8.59, 8.38, 8.37, 8.76, 8.81, 9.39, 10.36, 13.69, 17.65, 17.01, 18.51, 21.91, 28.43, 29.25, 24.31, 16.13, 17.38, 19.98, 19.26, 19.59, 17.93, 15.6, 16.46, 17.64, 17.51, 17.51, 17.51, 17.51, 17.51, 17.51, 16.02, 16.88, 16.94, 16.86, 16.31, 15.65, 15.47, 15.46, 14.17, 12.86, 14.79, 14.97, 14.33, 14.39, 14.99, 14.29, 14.08, 13.99, 13.96, 13.85, 13.67, 13.25, 13.26, 13.95, 13.69, 13.64, 13.68, 13.66, 13.92, 14.13, 13.9, 13.95, 13.55, 13.51, 13.53, 13.44, 13.13, 12.22, 9.86, 10.67, 10.04, 7.19, 7.81, 7.77, 9.86, 9.99, 9.47, 9.39, 9.97, 10.71, 11.23, 11.01, 10.92, 10.87, 11.53, 11.47, 11.35, 10.97, 10.99, 10.9, 9.84, 8.42, 8.61, 9.02, 8.95, 8.79, 8.27, 8.22, 8.54, 8.51, 8.18, 7.62, 6.8, 7.11, 6.67, 5.17, 4.9, 5.96, 6.06, 5.8, 5.59, 4.91, 4.82, 4.77, 5.16, 5.36, 6.11, 5.62, 5.46, 5.57, 5.44, 5.33, 4.91, 4.88, 4.76, 4.74, 5.08, 5.04, 5.01, 4.98, 4.93, 4.87, 4.71, 4.28, 4.02, 4.15, 4.1, 3.94, 4.11, 4.07, 4.0, 3.87, 3.6, 2.71, 2.52, 2.28, 2.33, 2.56, 3.09, 3.13, 2.68, 2.76, 2.76, 2.98, 3.15, 3.56, 3.33, 3.22, 3.17, 3.24, 3.18, 3.12, 2.99, 2.96, 3.01, 3.07, 2.98, 2.86, 3.03, 3.05, 3.0, 2.37, 2.32, 2.51, 2.24, 2.09, 2.19, 2.24, 2.26, 2.32, 2.33, 2.43, 2.49, 2.48, 2.47, 2.53, 2.77, 2.94, 3.06, 3.11, 2.86, 2.79, 2.88, 3.01, 3.0, 2.97, 2.98, 3.05, 3.23, 3.16, 3.23, 3.13, 3.19, 3.19, 3.2, 3.2, 3.47, 3.96, 3.91, 3.84, 3.93, 3.93, 4.18, 4.03, 4.05, 4.17, 4.19, 4.22, 4.66, 5.21, 5.22, 4.89, 5.41, 6.48, 6.72, 6.76, 7.08, 6.33, 6.4, 6.85, 6.76, 6.52, 6.7, 6.95, 6.71, 5.99, 5.93, 6.23, 6.47, 6.25, 6.32, 6.32, 6.31, 5.8, 5.51, 5.29, 5.62, 5.42, 5.5, 5.52, 5.85, 6.07, 5.95, 5.83, 5.65, 5.55, 5.67, 5.61, 5.7, 5.89, 5.65, 5.55, 5.34, 4.55, 4.46, 4.23, 4.43, 4.24, 4.44, 4.36, 4.3, 4.45, 4.95, 4.96, 4.82, 4.96, 4.95, 4.86, 4.79, 4.93, 4.7, 4.64, 4.82, 4.94, 4.97, 4.92, 4.9, 4.88, 4.89, 4.89, 4.88, 5.22, 5.37, 5.26, 5.34, 5.29, 5.24, 4.81, 4.77, 4.8, 4.74, 4.69, 4.66, 4.58, 4.63, 4.72, 4.79, 4.77, 4.83, 4.89, 4.79, 4.94, 4.91, 4.89, 4.91, 4.95, 4.74, 4.76, 4.82, 4.81, 4.9, 4.88, 4.89, 4.97, 4.93, 4.91, 4.96, 5.1, 5.14, 5.27, 5.26, 5.18, 5.07, 5.07, 5.12, 5.08, 5.09, 4.96, 4.95, 4.95, 4.97, 5.06, 5.1, 5.08, 5.04, 5.04, 5.05, 5.03, 5.01, 4.92, 4.93, 4.94, 4.94, 5.01, 5.0, 5.08, 5.08, 5.11, 5.09, 5.1, 5.08, 5.08, 5.11, 5.12, 5.11, 5.09, 5.1, 5.12, 5.14, 5.14, 5.16, 5.25, 5.22, 5.26, 5.24, 5.41, 5.44, 5.53, 5.61, 5.56, 5.46, 5.52, 5.67, 5.97, 5.91, 6.25, 6.42, 6.24, 6.36, 6.46, 6.63, 6.66, 6.57, 6.43, 6.35, 6.3, 6.39, 6.58, 6.59, 6.61, 6.67, 6.6, 6.72, 6.53, 6.5, 6.66, 6.65, 6.76, 6.88, 6.88, 7.12, 7.12, 7.43, 7.74, 7.57, 7.57, 8.22, 8.55, 8.97, 9.02, 8.41, 8.86, 8.51, 8.58, 8.61, 8.64, 8.82, 8.88, 8.97, 8.74, 9.01, 9.29, 9.45, 10.36, 10.89, 10.99, 10.64, 10.86, 11.03, 11.04, 11.22, 11.39, 11.5, 11.93, 11.82, 12.07, 12.88, 13.35, 11.97, 11.73, 8.41, 9.75, 10.02, 10.06, 10.05, 10.41, 10.48, 10.57, 10.9, 10.94, 10.86, 10.76, 10.15, 10.1, 10.13, 10.42, 10.34, 10.79, 11.04, 11.08, 11.01, 11.02, 11.1, 11.27, 11.29, 11.36, 11.63, 11.71, 11.94, 11.88, 12.12, 12.5, 12.41, 12.26, 12.21, 12.09, 12.09, 12.13, 12.25, 12.3, 12.35, 12.38, 12.38, 12.41, 12.66, 12.8, 12.84, 12.71, 12.37, 11.88, 11.49, 11.93, 12.07, 11.97, 12.01, 11.85, 11.82, 11.76, 11.78, 11.84, 11.88, 11.72, 11.7, 11.53, 11.67, 11.69, 11.64, 10.91, 10.27, 10.35, 10.58, 10.59, 10.75, 10.95, 10.82, 10.5, 10.54, 10.6, 10.7, 10.82, 10.92, 10.9, 10.81, 10.86, 10.75, 10.96, 10.94, 10.93, 11.23, 11.6, 11.7, 11.67, 11.74, 11.81, 11.72, 12.15, 12.3, 12.38, 12.43, 12.34, 12.13, 12.28, 12.42, 12.59, 12.54, 12.52, 12.58, 13.15, 13.32, 13.41, 13.42, 13.42, 13.3, 13.44, 13.52, 13.64, 13.67, 13.5, 13.47, 13.33, 13.24, 13.24, 13.43, 13.42, 13.46, 13.34, 13.24, 13.37, 13.33, 13.36, 13.35, 13.39, 13.44, 13.41, 13.46, 13.25, 13.28, 13.33, 13.46, 13.4, 13.45, 13.5, 13.71, 13.81, 14.08, 14.14, 14.19, 14.08, 14.44, 14.23, 14.62, 15.34, 15.65, 15.9, 15.66, 16.58, 17.23, 17.36, 17.33, 17.09, 17.42, 17.7, 18.51, 19.52, 19.59, 20.63, 20.67, 19.59, 20.64, 20.37, 20.56, 21.12, 21.88, 22.99, 23.5, 23.64, 24.32, 25.24, 25.5, 26.5, 27.01, 27.17, 26.54, 27.51, 28.96, 29.6, 29.75, 30.42, 29.73, 29.81, 30.25, 31.02, 31.13, 33.56, 34.36, 33.99, 34.2, 35.71, 41.1, 44.04, 41.79, 43.58, 46.05, 46.3, 47.83, 44.23, 46.59, 47.0, 47.95, 46.78, 47.09, 49.64, 57.1, 64.85, 70.31, 70.35, 63.08, 70.32, 77.64, 77.76, 87.1, 88.26, 89.49, 97.38, 92.69, 101.88, 112.04, 130.42, 140.22, 140.78, 141.56, 157.81, 184.48, 198.5, 165.09, 112.62, 95.84, 100.49, 93.41, 86.21, 67.27, 88.87, 100.95, 120.32, 124.55, 118.26, 124.42, 137.42, 146.94, 143.28, 133.92, 128.67, 133.23, 134.83, 138.17, 117.34, 105.81, 93.84, 110.8, 115.28, 115.65, 107.6, 113.15, 112.89, 117.48, 115.26, 114.32, 117.14, 114.07, 111.01, 115.66, 121.59, 121.86, 120.41, 120.86, 121.36, 121.56, 124.69, 130.38, 130.92, 133.39, 128.8, 127.99, 129.27, 128.86, 128.15, 128.54, 121.84, 119.15, 120.85, 121.64, 119.39, 111.63, 107.59, 99.48, 105.19, 107.77, 108.67, 104.43, 100.34, 100.2, 99.85, 101.21, 106.34, 107.36, 110.7, 108.23, 106.33, 103.5, 101.44, 102.97, 102.69, 100.94, 93.1, 94.75, 95.29, 87.39, 88.04, 78.25, 78.38, 68.04, 68.04, 71.14, 77.79, 74.74, 82.19, 88.26, 92.0, 91.74, 92.38, 95.28, 93.63, 92.63, 87.31, 88.99, 87.88, 86.79, 87.26, 89.17, 90.06, 91.57, 92.28, 91.22, 95.32, 96.25, 97.72, 101.28, 99.08, 99.01, 98.75, 99.58, 99.4, 100.61, 98.03, 96.81, 95.37, 95.48, 98.03, 99.54, 101.2, 104.0, 102.32, 101.2, 104.21, 104.52, 108.11, 111.43, 113.84, 112.92, 111.21, 112.55, 113.13, 114.43, 122.06, 121.7, 120.57, 127.83, 134.31, 131.89, 132.11, 132.48, 126.74, 122.25, 120.79, 120.98, 121.07, 124.93, 126.57, 129.0, 130.6, 129.69, 127.37, 128.29, 127.87, 129.67, 129.39, 127.23, 126.31, 125.84, 126.13, 125.16, 125.92, 127.22, 127.68, 129.85, 132.96, 129.74, 129.84, 127.69, 111.32, 122.84, 126.11, 124.17, 125.45, 124.77, 127.2, 127.89, 129.28, 133.07, 132.18, 135.38, 138.33, 141.6, 146.54, 148.02, 158.35, 167.51, 171.37, 183.73, 195.52, 199.84, 185.46, 177.58, 186.44, 188.72, 195.37, 201.5, 198.65, 205.55, 203.25, 204.16, 212.03, 227.65, 260.9, 267.87, 294.77, 333.74, 338.13, 335.45, 340.03, 358.66, 406.2, 413.8, 456.96, 444.98, 504.52, 653.75, 545.07, 644.17, 694.61, 772.31, 768.95, 773.23, 853.12, 901.68, 963.83, 1049.35, 1102.54, 1094.99, 951.58, 1031.68, 1080.61, 1091.44, 992.26, 776.36, 730.1, 817.61, 897.54, 946.85, 873.03, 894.43, 881.59, 859.13, 808.14, 706.87, 623.38, 562.33, 694.1, 626.2, 624.07, 629.45, 663.41, 669.09, 702.13, 760.84, 734.62, 725.49, 742.42, 757.71, 760.91, 771.3, 811.47, 819.23, 864.65, 957.35, 939.27, 842.64, 843.84, 842.98, 888.05, 897.51, 857.75, 845.5, 834.26, 866.23, 845.19, 817.63, 837.4, 855.48, 874.82, 870.64, 853.58, 833.93, 805.12, 854.89, 887.98, 787.18, 825.6, 821.93, 822.31, 827.55, 846.43, 831.2, 809.57, 841.51, 815.39, 785.62, 715.76, 680.58, 687.89, 673.81, 662.36, 653.72, 614.82, 659.26, 648.36, 608.54, 624.95, 614.93, 622.34, 562.62, 568.16, 600.64, 594.46, 547.14, 529.19, 581.0, 579.03, 567.93, 565.62, 557.3, 662.28, 665.0, 655.51, 658.71, 627.36, 616.06, 637.04, 626.45, 629.08, 633.59, 639.1, 627.99, 629.35, 630.53, 622.9, 613.84, 610.04, 583.67, 578.36, 562.2, 564.25, 574.88, 563.9, 581.1, 512.9, 501.32, 497.05, 462.2, 457.6, 478.67, 449.1, 442.61, 447.95, 457.53, 460.37, 449.64, 450.79, 437.47, 386.66, 414.53, 422.03, 413.6, 465.45, 500.99, 518.77, 498.45, 481.16, 496.48, 498.76, 494.62, 489.03, 486.85, 481.38, 461.23, 457.93, 440.41, 439.29, 443.31, 446.22, 455.13, 448.08, 436.12, 434.63, 430.67, 427.55, 438.17, 438.25, 446.24, 451.43, 439.36, 438.87, 437.84, 443.26, 444.92, 446.33, 446.42, 444.9, 460.48, 478.49, 490.43, 517.66, 524.19, 535.36, 566.38, 581.56, 573.32, 571.84, 583.53, 607.55, 619.78, 637.66, 644.3, 660.72, 639.39, 654.25, 650.66, 652.67, 647.99, 649.14, 651.43, 637.21, 605.43, 593.12, 570.85, 576.37, 594.26, 602.02, 603.48, 599.77, 591.11, 591.8, 599.1, 587.56, 584.29, 566.76, 579.23, 596.02, 606.34, 596.2, 631.09, 646.47, 649.16, 638.62, 632.62, 629.67, 633.77, 623.46, 622.52, 623.51, 617.73, 628.09, 632.6, 625.94, 620.97, 621.6, 617.79, 621.45, 624.57, 627.44, 623.25, 620.22, 620.65, 612.94, 602.84, 600.16, 595.1, 592.2, 583.73, 582.82, 571.0, 578.48, 594.19, 587.64, 585.39, 587.23, 584.01, 583.18, 586.43, 590.94, 588.25, 589.48, 578.94, 555.19, 548.18, 515.44, 499.4, 510.15, 496.57, 465.59, 481.54, 504.05, 519.8, 512.16, 500.74, 507.97, 503.12, 510.97, 508.96, 509.12, 508.91, 502.63, 482.43, 478.48, 477.75, 476.97, 487.62, 483.33, 482.07, 482.93, 472.59, 470.93, 480.79, 475.53, 474.44, 478.16, 477.25, 473.9, 455.35, 454.89, 426.72, 398.59, 408.04, 402.66, 399.96, 425.2, 425.22, 410.39, 399.63, 400.86, 384.12, 376.68, 384.7, 373.14, 375.96, 362.11, 334.94, 315.09, 333.68, 331.0, 345.6, 366.31, 359.67, 366.33, 369.74, 383.29, 402.46, 392.54, 381.82, 380.69, 387.64, 388.46, 381.29, 378.31, 381.92, 362.39, 356.69, 348.43, 350.32, 352.32, 353.86, 340.2, 342.12, 336.23, 326.35, 324.45, 326.45, 327.98, 341.03, 346.86, 342.99, 344.23, 357.54, 374.76, 366.74, 413.77, 418.8, 396.8, 379.74, 386.74, 388.9, 376.57, 376.93, 361.7, 351.01, 355.25, 363.06, 378.3, 377.93, 369.61, 369.79, 375.03, 376.28, 377.59, 379.24, 381.39, 377.54, 372.21, 372.56, 375.12, 375.34, 365.7, 352.35, 348.02, 349.98, 352.15, 347.43, 351.11, 340.24, 330.69, 320.79, 312.43, 314.99, 326.96, 322.57, 330.07, 334.74, 325.19, 318.48, 326.1, 316.53, 316.67, 314.42, 309.81, 316.9, 315.23, 315.03, 293.11, 271.68, 271.39, 282.85, 293.46, 287.17, 278.13, 277.14, 268.93, 268.91, 234.63, 192.13, 208.79, 208.81, 200.21, 209.06, 215.72, 211.52, 220.0, 232.36, 232.38, 246.29, 250.55, 273.97, 261.86, 240.7, 232.02, 228.99, 223.65, 223.54, 230.6, 229.09, 226.62, 218.86, 222.08, 227.2, 223.57, 220.59, 219.78, 220.27, 221.35, 236.64, 251.7, 239.64, 234.86, 241.45, 237.79, 239.72, 243.0, 244.41, 237.8, 239.13, 238.4, 237.49, 236.25, 252.63, 257.25, 253.49, 267.96, 279.85, 275.94, 273.65, 273.22, 275.99, 275.01, 286.53, 292.42, 295.09, 294.94, 287.83, 282.82, 282.14, 290.83, 287.38, 265.06, 258.2, 260.33, 259.99, 265.45, 265.95, 250.16, 246.17, 249.6, 247.5, 252.13, 243.86, 247.6, 244.67, 245.31, 251.39, 253.7, 253.04, 257.89, 255.91, 254.27, 246.78, 240.83, 236.57, 236.38, 236.41, 227.79, 220.4, 222.02, 228.26, 223.66, 223.03, 225.62, 224.39, 229.94, 235.37, 235.27, 229.53, 227.86, 218.85, 224.7, 225.68, 228.85, 235.08, 234.19, 235.37, 240.72, 238.75, 236.09, 233.32, 235.98, 242.98, 241.63, 240.85, 242.35, 241.84, 240.56, 238.53, 237.88, 236.94, 237.05, 235.09, 234.29, 234.42, 235.84, 239.64, 239.79, 240.56, 237.99, 237.61, 237.62, 237.88, 235.22, 233.87, 231.75, 224.65, 225.62, 226.09, 225.45, 225.47, 226.07, 224.38, 228.58, 230.18, 229.69, 230.41, 231.01, 234.94, 234.14, 236.98, 246.68, 250.58, 248.16, 246.24, 244.8, 244.19, 246.66, 244.9, 242.2, 243.07, 242.98, 249.0, 251.31, 254.95, 262.37, 259.0, 256.05, 258.58, 259.03, 268.72, 271.16, 266.53, 274.68, 269.38, 285.13, 292.12, 307.26, 289.22, 289.16, 288.1, 279.14, 278.05, 275.93, 273.69, 277.54, 277.66, 276.76, 280.17, 286.01, 288.34, 291.47, 292.7, 291.9, 290.83, 287.88, 285.02, 281.18, 281.43, 282.55, 284.78, 282.66, 279.43, 275.92, 267.89, 264.02, 264.33, 268.01, 266.05, 264.91, 265.8, 263.84, 258.76, 252.11, 241.71, 230.14, 234.01, 233.09, 227.41, 228.45, 215.25, 219.01, 226.32, 226.6, 230.39, 230.08, 228.79, 230.45, 229.36, 229.03, 228.22, 230.52, 234.14, 240.17, 240.43, 243.59, 240.26, 239.02, 238.35, 236.7, 231.66, 230.23, 230.4, 229.78, 233.01, 233.06, 232.09, 231.68, 229.18, 230.49, 230.88, 234.34, 235.38, 235.73, 233.55, 238.39, 237.95, 237.2, 238.9, 237.91, 239.33, 239.55, 240.01, 245.88, 244.84, 243.91, 244.77, 245.82, 249.43, 246.25, 249.49, 253.14, 255.27, 264.73, 269.65, 264.74, 264.43, 270.15, 272.37, 273.89, 277.57, 281.75, 288.55, 293.23, 294.32, 302.13, 311.67, 326.27, 334.23, 320.98, 347.73, 392.01, 438.82, 393.37, 372.47, 384.45, 379.37, 378.42, 346.11, 314.08, 330.86, 334.88, 333.9, 325.14, 327.75, 335.44, 334.99, 329.2, 321.77, 326.15, 323.97, 323.24, 321.26, 335.8, 347.14, 357.35, 356.8, 366.64, 373.97, 364.56, 358.25, 362.24, 362.1, 388.16, 392.95, 394.58, 404.63, 416.85, 423.3, 444.94, 431.9, 436.16, 442.7, 461.23, 455.18, 454.77, 461.99, 461.95, 447.36, 437.06, 437.05, 442.7, 454.47, 446.76, 422.72, 420.68, 422.21, 429.29, 428.74, 428.85, 433.36, 433.36, 428.82, 435.9, 432.62, 430.49, 454.29, 453.71, 447.46, 447.29, 448.09, 442.4, 430.24, 416.78, 380.95, 381.85, 383.97, 384.97, 384.51, 409.94, 406.89, 386.5, 391.01, 400.44, 393.52, 393.96, 392.71, 381.27, 378.36, 378.5, 374.88, 373.13, 374.48, 373.58, 386.49, 384.98, 377.2, 376.51, 374.29, 375.99, 380.99, 379.23, 385.62, 394.46, 404.94, 403.65, 409.41, 418.71, 421.63, 423.68, 437.93, 439.65, 436.45, 423.36, 424.75, 424.8, 429.78, 432.82, 435.08, 437.51, 434.55, 427.17, 420.8, 412.45, 402.65, 407.74, 413.29, 413.25, 413.98, 417.69, 419.3, 413.29, 414.15, 415.69, 416.77, 417.92, 418.18, 409.92, 409.34, 411.86, 412.92, 417.59, 417.98, 416.66, 417.48, 418.81, 424.96, 422.26, 416.09, 414.15, 416.24, 417.55, 419.67, 419.65, 420.1, 422.4, 422.05, 421.8, 419.27, 418.68, 421.14, 423.21, 425.64, 424.27, 425.59, 430.05, 430.95, 428.62, 429.08, 435.11, 441.91, 448.44, 447.37, 451.34, 459.43, 462.29, 465.64, 449.52, 448.45, 454.02, 449.95, 450.76, 445.11, 449.21, 447.35, 449.21, 457.04, 459.48, 459.14, 460.46, 453.25, 452.83, 454.16, 456.0, 456.43, 458.46, 454.84, 454.47, 454.04, 442.93, 443.0, 443.52, 440.85, 444.24, 447.5, 450.46, 458.82, 480.71, 519.5, 533.44, 536.13, 532.91, 536.41, 541.83, 568.92, 574.1, 577.44, 584.11, 578.53, 580.91, 577.38, 580.7, 609.23, 666.1, 695.99, 685.76, 703.27, 756.96, 749.43, 758.16, 760.72, 726.2, 664.82, 615.0, 623.81, 663.66, 659.88, 633.42, 649.79, 644.97, 641.99, 670.4, 678.97, 693.16, 665.83, 675.93, 670.73, 668.43, 639.53, 656.05, 648.43, 648.54, 650.82, 663.68, 657.95, 660.7, 664.16, 665.75, 677.95, 673.77, 671.58, 666.01, 663.35, 653.96, 654.82, 659.19, 654.34, 652.15, 654.89, 655.8, 656.77, 650.56, 627.19, 608.86, 561.26, 563.07, 573.72, 573.62, 585.3, 591.09, 589.47, 586.74, 593.06, 589.23, 586.74, 583.75, 571.4, 568.61, 575.18, 572.87, 573.67, 575.09, 580.42, 581.42, 584.55, 581.99, 578.49, 576.11, 576.8, 570.15, 573.09, 574.39, 576.07, 573.29, 572.76, 575.56, 594.74, 608.02, 607.17, 610.42, 615.4, 623.76, 622.15, 622.29, 609.66, 607.07, 609.27, 609.1, 607.0, 607.16, 606.6, 609.46, 608.92, 602.68, 596.37, 596.34, 600.93, 600.97, 601.05, 606.0, 605.04, 604.29, 605.28, 608.21, 613.11, 610.33, 611.83, 610.27, 611.69, 612.34, 616.53, 617.46, 615.92, 621.1, 638.59, 637.22, 636.96, 639.45, 639.44, 641.09, 638.6, 635.85, 629.88, 630.08, 634.82, 654.05, 654.27, 653.58, 658.22, 676.93, 686.52, 693.55, 712.68, 703.13, 706.55, 729.04, 734.42, 699.55, 700.93, 705.95, 709.35, 706.28, 713.46, 723.19, 716.1, 715.56, 704.13, 702.71, 707.86, 718.43, 744.33, 745.91, 751.72, 751.6, 732.22, 738.53, 746.4, 741.43, 736.84, 737.08, 732.94, 731.0, 732.66, 734.0, 743.7, 756.81, 770.05, 765.82, 764.46, 754.05, 759.35, 765.8, 768.6, 771.74, 771.81, 770.1, 777.76, 778.03, 777.17, 777.63, 782.79, 788.14, 789.11, 790.75, 799.83, 832.92, 867.8, 908.24, 892.53, 891.95, 906.13, 934.96, 971.26, 966.64, 959.17, 967.6, 998.47, 1018.93, 1042.13, 1069.46, 992.45, 898.86, 899.39, 905.82, 897.35, 905.32, 797.6, 801.07, 821.27, 822.58, 818.98, 829.9, 896.46, 881.82, 898.68, 895.04, 921.48, 923.12, 914.3, 895.79, 894.56, 912.27, 917.55, 919.37, 913.77, 919.74, 957.02, 979.44, 1007.74, 1015.85, 1029.74, 1014.3, 1027.61, 1052.05, 1053.24, 979.24, 988.37, 1006.0, 999.5, 996.44, 1007.11, 1005.64, 1035.36, 1053.75, 1057.42, 1050.18, 1075.77, 1119.49, 1124.24, 1166.59, 1180.2, 1155.41, 1171.8, 1189.75, 1190.78, 1220.69, 1254.34, 1283.18, 1266.32, 1269.77, 1277.18, 1241.31, 1162.5, 1189.32, 1168.54, 1174.23, 1218.8, 1235.7, 1243.19, 1253.64, 1188.47, 1097.86, 992.72, 1022.5, 1040.55, 1106.7, 1038.95, 1035.41, 957.65, 952.68, 969.14, 1026.35, 1040.31, 1037.62, 1036.26, 1071.48, 1085.68, 1096.49, 1143.25, 1141.36, 1132.11, 1182.22, 1191.87, 1184.14, 1205.29, 1210.73, 1221.11, 1217.87, 1180.0, 1183.99, 1184.81, 1189.64, 1202.6, 1225.09, 1220.89, 1246.95, 1253.9, 1256.99, 1257.14, 1257.79, 1275.97, 1300.72, 1332.63, 1331.93, 1345.21, 1354.21, 1419.6, 1458.51, 1502.55, 1544.1, 1525.61, 1557.53, 1561.38, 1642.64, 1726.86, 1762.71, 1819.41, 1692.17, 1760.03, 1777.28, 1715.82, 1739.92, 1813.39, 1887.5, 1956.63, 2039.08, 2040.21, 2144.5, 2268.61, 2446.23, 2371.91, 2190.33, 2059.53, 2159.79, 2269.87, 2199.49, 2308.08, 2410.23, 2475.83, 2535.45, 2531.68, 2686.69, 2873.92, 2712.76, 2795.43, 2822.56, 2897.36, 2975.06, 2599.09, 2720.31, 2486.74, 2390.09, 2496.72, 2642.5, 2535.85, 2606.43, 2749.84, 2670.47, 2714.27, 2718.16, 2573.94, 2533.68, 2412.9, 2516.81, 2553.2, 2546.49, 2483.5, 2419.08, 2498.3, 2554.45, 2592.27, 2615.64, 2597.26, 2502.91, 2555.82, 2519.9, 2355.84, 2307.77, 2387.18, 2335.12, 2207.39, 2018.56, 1910.74, 2186.44, 2324.21, 2266.1, 2757.24, 2656.16, 2823.79, 2757.3, 2755.6, 2537.31, 2513.18, 2686.49, 2786.1, 2722.54, 2744.35, 2839.18, 2739.62, 2709.04, 2797.9, 2863.03, 3278.08, 3247.63, 3394.42, 3418.58, 3353.59, 3426.56, 3633.9, 3892.27, 4073.66, 4292.2, 4140.85, 4375.24, 4283.55, 4103.82, 4145.42, 4101.29, 4016.63, 4106.26, 4162.99, 4310.29, 4374.7, 4354.81, 4358.25, 4392.05, 4602.79, 4591.82, 4744.69, 4912.84, 4591.78, 4594.15, 4253.94, 4414.4, 4598.57, 4622.97, 4303.02, 4283.53, 4234.37, 4201.06, 4145.49, 3836.92, 3299.19, 3688.98, 3689.4, 3702.57, 4061.73, 3906.99, 3899.36, 3619.53, 3599.27, 3771.92, 3664.88, 3924.17, 3892.88, 4193.75, 4178.37, 4164.54, 4348.09, 4372.26, 4394.02, 4306.58, 4214.6, 4321.89, 4358.79, 4412.17, 4592.29, 4774.47, 4794.91, 4906.84, 5459.5, 5627.23, 5765.86, 5647.47, 5743.45, 5594.47, 5495.7, 5683.66, 5989.8, 6020.3, 5937.62, 5879.95, 5577.92, 5694.34, 5885.37, 5764.85, 5735.73, 6111.17, 6120.82, 6404.92, 6709.49, 6978.53, 7201.52, 7379.54, 7424.23, 7007.85, 7080.14, 7365.18, 7164.93, 6545.88, 6295.68, 5953.76, 6475.15, 6607.45, 7264.52, 7819.38, 7706.59, 7761.98, 8040.05, 8233.46, 8120.11, 8219.51, 8051.32, 8216.59, 8730.57, 9305.8, 9642.59, 9907.62, 9772.29, 9858.82, 10772.12, 10908.85, 11373.09, 11491.09, 11716.71, 13442.23, 16219.12, 15653.64, 14486.62, 15230.39, 16803.56, 17284.59, 16316.95, 16525.63, 17575.08, 19193.72, 18987.29, 18936.21, 17534.59, 16496.8, 15695.79, 14048.59, 14436.77, 13969.42, 13927.91, 15661.17, 15417.13, 14438.05, 14437.32, 12618.55, 13805.34, 13458.79, 14755.98, 15139.61, 15134.61, 16880.48, 17095.19, 16083.1, 14951.05, 14407.21, 14881.95, 13138.43, 13874.01, 14191.06, 13623.61, 13571.21, 11504.56, 11033.58, 11274.29, 11561.56, 12739.89, 11553.79, 10797.45, 10854.93, 11382.11, 11141.34, 11122.14, 11417.62, 11677.52, 11157.56, 9976.43, 10162.78, 9002.8, 8822.06, 9184.39, 8242.03, 7003.06, 7744.27, 7655.3, 8218.58, 8750.99, 8508.35, 8094.53, 8897.55, 8528.87, 9443.91, 10033.82, 10146.78, 11083.01, 10413.23, 11167.99, 11166.86, 10405.73, 9751.88, 10154.74, 9647.38, 9589.72, 10319.77, 10570.91, 10285.33, 10913.05, 11038.13, 11423.62, 11464.59, 11392.99, 10722.96, 9910.96, 9323.68, 9277.5, 8764.24, 9546.36, 9104.62, 9168.13, 8218.92, 8285.09, 8273.12, 7858.96, 8256.4, 8572.45, 8913.9, 8896.42, 8705.42, 8915.86, 8527.32, 8457.48, 8156.53, 7795.21, 7938.14, 7089.22, 6855.61, 6946.3, 6804.15, 7058.09, 7414.48, 6786.98, 6778.28, 6618.33, 6898.57, 7025.95, 6775.45, 6831.58, 6942.33, 7936.65, 7873.43, 8021.41, 8354.69, 8050.08, 7892.2, 8160.94, 8281.26, 8862.02, 8908.73, 8791.7, 8935.74, 9644.63, 8836.12, 9271.67, 8937.57, 9347.32, 9397.83, 9232.82, 9072.29, 9220.91, 9669.56, 9691.52, 9822.5, 9622.49, 9365.64, 9175.76, 9309.57, 8989.42, 8423.83, 8480.4, 8680.21, 8686.04, 8472.71, 8346.51, 8057.03, 8245.38, 8233.97, 8522.48, 8397.13, 7991.25, 7515.67, 7577.51, 7458.49, 7328.8, 7343.16, 7110.37, 7460.28, 7373.11, 7490.13, 7518.42, 7636.52, 7711.4, 7493.28, 7618.61, 7659.78, 7685.48, 7627.4, 7480.61, 6757.63, 6873.35, 6550.71, 6306.56, 6639.64, 6401.44, 6488.2, 6447.37, 6711.18, 6738.96, 6757.24, 6718.89, 6060.15, 6175.69, 6149.39, 6249.09, 6067.8, 6133.29, 5859.18, 6204.71, 6393.05, 6345.92, 6613.32, 6506.53, 6584.48, 6533.08, 6603.0, 6760.16, 6702.21, 6659.28, 6301.96, 6380.61, 6240.6, 6218.98, 6248.85, 6350.27, 6725.32, 7316.26, 7376.25, 7462.4, 7326.49, 7396.23, 7394.55, 7719.93, 8405.46, 8173.67, 7930.85, 8188.49, 8231.43, 8201.29, 8165.5, 7727.35, 7603.7, 7527.9, 7409.28, 7009.08, 7029.59, 6944.25, 6711.13, 6285.01, 6538.5, 6144.31, 6233.76, 6317.55, 6252.78, 6198.11, 6271.17, 6313.87, 6582.78, 6396.03, 6487.38, 6257.47, 6477.14, 6356.09, 6527.15, 6691.75, 6734.8, 6703.7, 6907.81, 7075.48, 7035.4, 6982.78, 7018.84, 7191.7, 7297.1, 7259.32, 7359.24, 6686.42, 6490.88, 6402.04, 6183.56, 6243.43, 6304.96, 6280.94, 6329.36, 6488.81, 6485.62, 6517.68, 6500.83, 6255.62, 6332.84, 6391.09, 6498.69, 6763.5, 6712.71, 6698.44, 6574.97, 6430.19, 6460.87, 6687.8, 6617.99, 6580.34, 6608.23, 6577.71, 6500.94, 6468.2, 6556.23, 6595.71, 6559.61, 6579.36, 6618.53, 6601.18, 6540.4, 6165.43, 6206.32, 6218.36, 6206.87, 6489.6, 6507.03, 6488.52, 6429.99, 6407.63, 6441.34, 6438.81, 6433.51, 6419.69, 6435.66, 6414.94, 6425.26, 6423.45, 6421.33, 6279.14, 6279.37, 6315.56, 6353.43, 6362.3, 6341.84, 6436.37, 6412.48, 6456.74, 6513.18, 6418.96, 6347.8, 6361.86, 6381.05, 6345.39, 6287.95, 5627.61, 5598.8, 5531.84, 5526.52, 5569.85, 4759.6, 4353.33, 4566.09, 4275.78, 4310.6, 3810.39, 3956.8, 3743.98, 3795.22, 4237.82, 4257.24, 3983.59, 4161.68, 4112.17, 3845.71, 3918.02, 3715.49, 3449.0, 3392.71, 3416.96, 3555.06, 3428.28, 3361.62, 3450.23, 3276.47, 3209.44, 3201.92, 3215.21, 3525.41, 3688.2, 3702.35, 4086.64, 3869.89, 4013.32, 3976.16, 4055.87, 3800.6, 3814.74, 3616.47, 3916.6, 3761.19, 3858.69, 3718.28, 3849.62, 3918.98, 3807.55, 3845.39, 3819.95, 4070.99, 4027.17, 4012.91, 4018.26, 3645.21, 3647.35, 3637.05, 3528.83, 3684.56, 3592.85, 3620.02, 3654.29, 3621.43, 3696.61, 3546.52, 3542.81, 3589.02, 3565.89, 3585.26, 3573.89, 3569.86, 3543.65, 3444.74, 3408.43, 3458.48, 3429.25, 3453.89, 3474.95, 3432.83, 3429.09, 3448.29, 3380.94, 3373.17, 3642.07, 3642.04, 3661.26, 3605.45, 3605.57, 3592.4, 3579.0, 3584.86, 3598.75, 3645.88, 3894.02, 3910.12, 3957.86, 3951.3, 3972.86, 4112.7, 3874.73, 3833.6, 3814.74, 3799.0, 3841.23, 3834.36, 3831.79, 3809.45, 3749.58, 3842.22, 3874.59, 3883.76, 3866.92, 3933.56, 3927.09, 3880.92, 3875.1, 3875.67, 3873.69, 3915.71, 4020.32, 3992.04, 3990.6, 4015.74, 4044.31, 4003.29, 3999.82, 4005.69, 3987.63, 3929.61, 3931.18, 4018.94, 4036.34, 4092.97, 4113.26, 4108.95, 4133.96, 4767.74, 5025.47, 4925.43, 5020.52, 5072.38, 5179.59, 5270.58, 5210.35, 5321.99, 5101.79, 5053.77, 5083.7, 5138.86, 5056.37, 5172.09, 5235.11, 5284.47, 5288.53, 5323.97, 5296.71, 5374.46, 5521.71, 5480.86, 5187.65, 5234.3, 5229.68, 5276.84, 5228.58, 5327.91, 5389.78, 5495.94, 5717.26, 5797.49, 5791.94, 5741.93, 5860.52, 5935.44, 6129.95, 6326.21, 7045.63, 7070.34, 7659.14, 7976.19, 8123.48, 7949.55, 7324.0, 7309.12, 7984.74, 7942.32, 7947.65, 7700.18, 7799.53, 7991.15, 8055.78, 8539.02, 8788.72, 8689.91, 8633.71, 8408.12, 8447.93, 8547.02, 8713.49, 8250.16, 7728.36, 7771.55, 7735.65, 7975.59, 7928.44, 7690.62, 7910.69, 7900.67, 8112.65, 8211.42, 8575.52, 8812.12, 9027.35, 9282.59, 9114.93, 9233.78, 9476.23, 10058.02, 10669.23, 10885.38, 10932.95, 11560.24, 12805.72, 11501.06, 11979.06, 11863.78, 11105.34, 10594.13, 10575.63, 11704.39, 11339.98, 11056.13, 11301.06, 11414.49, 12077.51, 12513.37, 12232.76, 11439.22, 11653.72, 11342.52, 10510.07, 10697.58, 9807.99, 9613.57, 10335.07, 10488.01, 10749.9, 10576.56, 10349.86, 9955.96, 9743.29, 9922.75, 9810.43, 9619.1, 9452.78, 9522.53, 9587.09, 9970.3, 10299.08, 10512.69, 10765.95, 10896.73, 11638.1, 11617.47, 11871.94, 11886.12, 11859.78, 11437.28, 11442.97, 11390.89, 10986.09, 10211.76, 10137.8, 10251.72, 10226.28, 10307.97, 10766.41, 10765.66, 10229.67, 10056.87, 10333.23, 10152.95, 10131.52, 10386.41, 10188.63, 9820.24, 9507.72, 9555.88, 9587.9, 9732.61, 10251.17, 10581.42, 10596.78, 10568.73, 10438.84, 10463.64, 10410.64, 10309.37, 10129.36, 10113.95, 10341.2, 10307.47, 10351.92, 10317.79, 10247.44, 10202.19, 10161.78, 10142.19, 10180.75, 10017.68, 10002.75, 9761.31, 8730.06, 8458.13, 8085.85, 8138.43, 8207.73, 8070.25, 8175.83, 8346.33, 8335.25, 8239.99, 8140.65, 8132.25, 7923.52, 8130.56, 8208.47, 8503.69, 8574.35, 8402.87, 8326.5, 8298.99, 8337.72, 8209.0, 8027.05, 8057.02, 7967.7, 7982.27, 8170.57, 8236.01, 8094.44, 7578.09, 7437.84, 8380.43, 9408.17, 9505.95, 9393.08, 9374.14, 9191.98, 9179.61, 9221.88, 9311.12, 9222.04, 9395.61, 9326.67, 9350.03, 9214.29, 8863.64, 8806.87, 9001.53, 8780.36, 8767.66, 8768.75, 8658.55, 8523.18, 8488.18, 8511.93, 8228.03, 8115.81, 8110.89, 7697.31, 7274.34, 7283.63, 7018.28, 7049.29, 7177.34, 7399.27, 7479.05, 7708.68, 7604.42, 7410.89, 7308.29, 7319.18, 7328.47, 7364.92, 7510.42, 7538.21, 7516.19, 7411.61, 7255.07, 7206.26, 7198.07, 7252.72, 7109.07, 7119.85, 6946.65, 6694.84, 7122.59, 7183.36, 7176.99, 7152.71, 7421.74, 7400.38, 7276.61, 7197.68, 7248.75, 7203.17, 7303.75, 7398.78, 7261.34, 7194.26, 7192.02, 7005.85, 7238.71, 7345.19, 7380.0, 7667.5, 8065.15, 8103.65, 7854.69, 8062.1, 8082.77, 8124.35, 8109.04, 8649.19, 8766.63, 8714.23, 8865.31, 8898.21, 8761.49, 8627.1, 8668.67, 8670.45, 8431.17, 8398.68, 8340.3, 8521.05, 8837.03, 9272.6, 9309.43, 9427.43, 9350.67, 9380.23, 9325.45, 9354.54, 9192.84, 9534.16, 9722.76, 9799.53, 9848.57, 10094.95, 9906.06, 10154.39, 10354.74, 10262.32, 10304.4, 9992.88, 9880.27, 9713.65, 10067.21, 9700.48, 9575.87, 9681.15, 9657.62, 9906.42, 9705.79, 9386.76, 8893.82, 8781.86, 8689.01, 8601.19, 8562.14, 8828.38, 8778.85, 8766.53, 9021.12, 9126.69, 8972.68, 8257.87, 7924.45, 7923.76, 7873.38, 5587.5, 5292.19, 5273.61, 5447.67, 4971.74, 5295.56, 5325.03, 6016.76, 6271.22, 6181.23]}],\n",
              "                        {\"template\": {\"data\": {\"bar\": [{\"error_x\": {\"color\": \"#2a3f5f\"}, \"error_y\": {\"color\": \"#2a3f5f\"}, \"marker\": {\"line\": {\"color\": \"#E5ECF6\", \"width\": 0.5}}, \"type\": \"bar\"}], \"barpolar\": [{\"marker\": {\"line\": {\"color\": \"#E5ECF6\", \"width\": 0.5}}, \"type\": \"barpolar\"}], \"carpet\": [{\"aaxis\": {\"endlinecolor\": \"#2a3f5f\", \"gridcolor\": \"white\", \"linecolor\": \"white\", \"minorgridcolor\": \"white\", \"startlinecolor\": \"#2a3f5f\"}, \"baxis\": {\"endlinecolor\": \"#2a3f5f\", \"gridcolor\": \"white\", \"linecolor\": \"white\", \"minorgridcolor\": \"white\", \"startlinecolor\": \"#2a3f5f\"}, \"type\": \"carpet\"}], \"choropleth\": [{\"colorbar\": {\"outlinewidth\": 0, \"ticks\": \"\"}, \"type\": \"choropleth\"}], \"contour\": [{\"colorbar\": {\"outlinewidth\": 0, \"ticks\": \"\"}, \"colorscale\": [[0.0, \"#0d0887\"], [0.1111111111111111, \"#46039f\"], [0.2222222222222222, \"#7201a8\"], [0.3333333333333333, \"#9c179e\"], [0.4444444444444444, \"#bd3786\"], [0.5555555555555556, \"#d8576b\"], [0.6666666666666666, \"#ed7953\"], [0.7777777777777778, \"#fb9f3a\"], [0.8888888888888888, \"#fdca26\"], [1.0, \"#f0f921\"]], \"type\": \"contour\"}], \"contourcarpet\": [{\"colorbar\": {\"outlinewidth\": 0, \"ticks\": \"\"}, \"type\": \"contourcarpet\"}], \"heatmap\": [{\"colorbar\": {\"outlinewidth\": 0, \"ticks\": \"\"}, \"colorscale\": [[0.0, \"#0d0887\"], [0.1111111111111111, \"#46039f\"], [0.2222222222222222, \"#7201a8\"], [0.3333333333333333, \"#9c179e\"], [0.4444444444444444, \"#bd3786\"], [0.5555555555555556, \"#d8576b\"], [0.6666666666666666, \"#ed7953\"], [0.7777777777777778, \"#fb9f3a\"], [0.8888888888888888, \"#fdca26\"], [1.0, \"#f0f921\"]], \"type\": \"heatmap\"}], \"heatmapgl\": [{\"colorbar\": {\"outlinewidth\": 0, \"ticks\": \"\"}, \"colorscale\": [[0.0, \"#0d0887\"], [0.1111111111111111, \"#46039f\"], [0.2222222222222222, \"#7201a8\"], [0.3333333333333333, \"#9c179e\"], [0.4444444444444444, \"#bd3786\"], [0.5555555555555556, \"#d8576b\"], [0.6666666666666666, \"#ed7953\"], [0.7777777777777778, \"#fb9f3a\"], [0.8888888888888888, \"#fdca26\"], [1.0, \"#f0f921\"]], \"type\": \"heatmapgl\"}], \"histogram\": [{\"marker\": {\"colorbar\": {\"outlinewidth\": 0, \"ticks\": \"\"}}, \"type\": \"histogram\"}], \"histogram2d\": [{\"colorbar\": {\"outlinewidth\": 0, \"ticks\": \"\"}, \"colorscale\": [[0.0, \"#0d0887\"], [0.1111111111111111, \"#46039f\"], [0.2222222222222222, \"#7201a8\"], [0.3333333333333333, \"#9c179e\"], [0.4444444444444444, \"#bd3786\"], [0.5555555555555556, \"#d8576b\"], [0.6666666666666666, \"#ed7953\"], [0.7777777777777778, \"#fb9f3a\"], [0.8888888888888888, \"#fdca26\"], [1.0, \"#f0f921\"]], \"type\": \"histogram2d\"}], \"histogram2dcontour\": [{\"colorbar\": {\"outlinewidth\": 0, \"ticks\": \"\"}, \"colorscale\": [[0.0, \"#0d0887\"], [0.1111111111111111, \"#46039f\"], [0.2222222222222222, \"#7201a8\"], [0.3333333333333333, \"#9c179e\"], [0.4444444444444444, \"#bd3786\"], [0.5555555555555556, \"#d8576b\"], [0.6666666666666666, \"#ed7953\"], [0.7777777777777778, \"#fb9f3a\"], [0.8888888888888888, \"#fdca26\"], [1.0, \"#f0f921\"]], \"type\": \"histogram2dcontour\"}], \"mesh3d\": [{\"colorbar\": {\"outlinewidth\": 0, \"ticks\": \"\"}, \"type\": \"mesh3d\"}], \"parcoords\": [{\"line\": {\"colorbar\": {\"outlinewidth\": 0, \"ticks\": \"\"}}, \"type\": \"parcoords\"}], \"pie\": [{\"automargin\": true, \"type\": \"pie\"}], \"scatter\": [{\"marker\": {\"colorbar\": {\"outlinewidth\": 0, \"ticks\": \"\"}}, \"type\": \"scatter\"}], \"scatter3d\": [{\"line\": {\"colorbar\": {\"outlinewidth\": 0, \"ticks\": \"\"}}, \"marker\": {\"colorbar\": {\"outlinewidth\": 0, \"ticks\": \"\"}}, \"type\": \"scatter3d\"}], \"scattercarpet\": [{\"marker\": {\"colorbar\": {\"outlinewidth\": 0, \"ticks\": \"\"}}, \"type\": \"scattercarpet\"}], \"scattergeo\": [{\"marker\": {\"colorbar\": {\"outlinewidth\": 0, \"ticks\": \"\"}}, \"type\": \"scattergeo\"}], \"scattergl\": [{\"marker\": {\"colorbar\": {\"outlinewidth\": 0, \"ticks\": \"\"}}, \"type\": \"scattergl\"}], \"scattermapbox\": [{\"marker\": {\"colorbar\": {\"outlinewidth\": 0, \"ticks\": \"\"}}, \"type\": \"scattermapbox\"}], \"scatterpolar\": [{\"marker\": {\"colorbar\": {\"outlinewidth\": 0, \"ticks\": \"\"}}, \"type\": \"scatterpolar\"}], \"scatterpolargl\": [{\"marker\": {\"colorbar\": {\"outlinewidth\": 0, \"ticks\": \"\"}}, \"type\": \"scatterpolargl\"}], \"scatterternary\": [{\"marker\": {\"colorbar\": {\"outlinewidth\": 0, \"ticks\": \"\"}}, \"type\": \"scatterternary\"}], \"surface\": [{\"colorbar\": {\"outlinewidth\": 0, \"ticks\": \"\"}, \"colorscale\": [[0.0, \"#0d0887\"], [0.1111111111111111, \"#46039f\"], [0.2222222222222222, \"#7201a8\"], [0.3333333333333333, \"#9c179e\"], [0.4444444444444444, \"#bd3786\"], [0.5555555555555556, \"#d8576b\"], [0.6666666666666666, \"#ed7953\"], [0.7777777777777778, \"#fb9f3a\"], [0.8888888888888888, \"#fdca26\"], [1.0, \"#f0f921\"]], \"type\": \"surface\"}], \"table\": [{\"cells\": {\"fill\": {\"color\": \"#EBF0F8\"}, \"line\": {\"color\": \"white\"}}, \"header\": {\"fill\": {\"color\": \"#C8D4E3\"}, \"line\": {\"color\": \"white\"}}, \"type\": \"table\"}]}, \"layout\": {\"annotationdefaults\": {\"arrowcolor\": \"#2a3f5f\", \"arrowhead\": 0, \"arrowwidth\": 1}, \"coloraxis\": {\"colorbar\": {\"outlinewidth\": 0, \"ticks\": \"\"}}, \"colorscale\": {\"diverging\": [[0, \"#8e0152\"], [0.1, \"#c51b7d\"], [0.2, \"#de77ae\"], [0.3, \"#f1b6da\"], [0.4, \"#fde0ef\"], [0.5, \"#f7f7f7\"], [0.6, \"#e6f5d0\"], [0.7, \"#b8e186\"], [0.8, \"#7fbc41\"], [0.9, \"#4d9221\"], [1, \"#276419\"]], \"sequential\": [[0.0, \"#0d0887\"], [0.1111111111111111, \"#46039f\"], [0.2222222222222222, \"#7201a8\"], [0.3333333333333333, \"#9c179e\"], [0.4444444444444444, \"#bd3786\"], [0.5555555555555556, \"#d8576b\"], [0.6666666666666666, \"#ed7953\"], [0.7777777777777778, \"#fb9f3a\"], [0.8888888888888888, \"#fdca26\"], [1.0, \"#f0f921\"]], \"sequentialminus\": [[0.0, \"#0d0887\"], [0.1111111111111111, \"#46039f\"], [0.2222222222222222, \"#7201a8\"], [0.3333333333333333, \"#9c179e\"], [0.4444444444444444, \"#bd3786\"], [0.5555555555555556, \"#d8576b\"], [0.6666666666666666, \"#ed7953\"], [0.7777777777777778, \"#fb9f3a\"], [0.8888888888888888, \"#fdca26\"], [1.0, \"#f0f921\"]]}, \"colorway\": [\"#636efa\", \"#EF553B\", \"#00cc96\", \"#ab63fa\", \"#FFA15A\", \"#19d3f3\", \"#FF6692\", \"#B6E880\", \"#FF97FF\", \"#FECB52\"], \"font\": {\"color\": \"#2a3f5f\"}, \"geo\": {\"bgcolor\": \"white\", \"lakecolor\": \"white\", \"landcolor\": \"#E5ECF6\", \"showlakes\": true, \"showland\": true, \"subunitcolor\": \"white\"}, \"hoverlabel\": {\"align\": \"left\"}, \"hovermode\": \"closest\", \"mapbox\": {\"style\": \"light\"}, \"paper_bgcolor\": \"white\", \"plot_bgcolor\": \"#E5ECF6\", \"polar\": {\"angularaxis\": {\"gridcolor\": \"white\", \"linecolor\": \"white\", \"ticks\": \"\"}, \"bgcolor\": \"#E5ECF6\", \"radialaxis\": {\"gridcolor\": \"white\", \"linecolor\": \"white\", \"ticks\": \"\"}}, \"scene\": {\"xaxis\": {\"backgroundcolor\": \"#E5ECF6\", \"gridcolor\": \"white\", \"gridwidth\": 2, \"linecolor\": \"white\", \"showbackground\": true, \"ticks\": \"\", \"zerolinecolor\": \"white\"}, \"yaxis\": {\"backgroundcolor\": \"#E5ECF6\", \"gridcolor\": \"white\", \"gridwidth\": 2, \"linecolor\": \"white\", \"showbackground\": true, \"ticks\": \"\", \"zerolinecolor\": \"white\"}, \"zaxis\": {\"backgroundcolor\": \"#E5ECF6\", \"gridcolor\": \"white\", \"gridwidth\": 2, \"linecolor\": \"white\", \"showbackground\": true, \"ticks\": \"\", \"zerolinecolor\": \"white\"}}, \"shapedefaults\": {\"line\": {\"color\": \"#2a3f5f\"}}, \"ternary\": {\"aaxis\": {\"gridcolor\": \"white\", \"linecolor\": \"white\", \"ticks\": \"\"}, \"baxis\": {\"gridcolor\": \"white\", \"linecolor\": \"white\", \"ticks\": \"\"}, \"bgcolor\": \"#E5ECF6\", \"caxis\": {\"gridcolor\": \"white\", \"linecolor\": \"white\", \"ticks\": \"\"}}, \"title\": {\"x\": 0.05}, \"xaxis\": {\"automargin\": true, \"gridcolor\": \"white\", \"linecolor\": \"white\", \"ticks\": \"\", \"title\": {\"standoff\": 15}, \"zerolinecolor\": \"white\", \"zerolinewidth\": 2}, \"yaxis\": {\"automargin\": true, \"gridcolor\": \"white\", \"linecolor\": \"white\", \"ticks\": \"\", \"title\": {\"standoff\": 15}, \"zerolinecolor\": \"white\", \"zerolinewidth\": 2}}}, \"title\": {\"text\": \"Seasonal decomposition\"}, \"xaxis\": {\"title\": {\"text\": \"Time\"}}, \"yaxis\": {\"title\": {\"text\": \"Price, USD\"}}},\n",
              "                        {\"responsive\": true}\n",
              "                    ).then(function(){\n",
              "                            \n",
              "var gd = document.getElementById('e0647bed-7198-44b8-b158-0f0d8d0663db');\n",
              "var x = new MutationObserver(function (mutations, observer) {{\n",
              "        var display = window.getComputedStyle(gd).display;\n",
              "        if (!display || display === 'none') {{\n",
              "            console.log([gd, 'removed!']);\n",
              "            Plotly.purge(gd);\n",
              "            observer.disconnect();\n",
              "        }}\n",
              "}});\n",
              "\n",
              "// Listen for the removal of the full notebook cells\n",
              "var notebookContainer = gd.closest('#notebook-container');\n",
              "if (notebookContainer) {{\n",
              "    x.observe(notebookContainer, {childList: true});\n",
              "}}\n",
              "\n",
              "// Listen for the clearing of the current output cell\n",
              "var outputEl = gd.closest('.output');\n",
              "if (outputEl) {{\n",
              "    x.observe(outputEl, {childList: true});\n",
              "}}\n",
              "\n",
              "                        })\n",
              "                };\n",
              "                \n",
              "            </script>\n",
              "        </div>\n",
              "</body>\n",
              "</html>"
            ]
          },
          "metadata": {
            "tags": []
          }
        }
      ]
    },
    {
      "cell_type": "markdown",
      "metadata": {
        "id": "QW5490ygDayC",
        "colab_type": "text"
      },
      "source": [
        "The next thing we do is the examination of the autocorrelation. It is it is the similarity between observations as a function of the time lag between them. It is important for finding repeating patterns in the data."
      ]
    },
    {
      "cell_type": "code",
      "metadata": {
        "id": "kMLE0NXEDayD",
        "colab_type": "code",
        "outputId": "128dd7a8-9116-4e9f-dc4d-00562ac86979",
        "colab": {
          "base_uri": "https://localhost:8080/",
          "height": 509
        }
      },
      "source": [
        "plt.figure(figsize=(15,7))\n",
        "ax = plt.subplot(211)\n",
        "sm.graphics.tsa.plot_acf(working_data['Bitcoin Core (BTC) Price'].values.squeeze(), lags=60, ax=ax)\n",
        "ax = plt.subplot(212)\n",
        "sm.graphics.tsa.plot_pacf(working_data['Bitcoin Core (BTC) Price'].values.squeeze(), lags=60, ax=ax)\n",
        "plt.tight_layout()\n",
        "plt.show()"
      ],
      "execution_count": 0,
      "outputs": [
        {
          "output_type": "display_data",
          "data": {
            "image/png": "[encoded data removed]",
            "text/plain": [
              "<Figure size 1080x504 with 2 Axes>"
            ]
          },
          "metadata": {
            "tags": []
          }
        }
      ]
    },
    {
      "cell_type": "markdown",
      "metadata": {
        "id": "Vk7hwsIHDayJ",
        "colab_type": "text"
      },
      "source": [
        "# Preprocessing the data"
      ]
    },
    {
      "cell_type": "markdown",
      "metadata": {
        "id": "9yT7xNA8DayK",
        "colab_type": "text"
      },
      "source": [
        "* There are no NaNs to fill. \n",
        "* The feature selection has been done according to the paper and we keep here only the relevant ones\n",
        "* There are no categorical features to do one hot encoding\n",
        "* We will divide our dataset into training and test sets\n",
        "* Training set goes from 06 February 2011 to 30 September 2019\n",
        "* Test set goes from 25 October 2019 au 22 Mars 2020 ie the 4 last months (150 days approx)"
      ]
    },
    {
      "cell_type": "markdown",
      "metadata": {
        "id": "djZ7IMX-DayL",
        "colab_type": "text"
      },
      "source": [
        "We need to prepare our dataset according to the requirements of the model, as well as to split the dataset into train and test parts. In the next cell, we define a function which creates X inputs and Y labels for our model. In the sequential forecasting, we predict the future value based on some previous and current values. So, our Y label is the value from the next (future) point of time while the X inputs are one or several values from the past. The amount of these values we can set by tuning the parameter look_back in our function. We set it to 30, this means that we predict current value  based on the previous 30 days values (t-1),...(t-30)"
      ]
    },
    {
      "cell_type": "markdown",
      "metadata": {
        "id": "Gb8zdvZwUds7",
        "colab_type": "text"
      },
      "source": [
        "Lookback Function"
      ]
    },
    {
      "cell_type": "code",
      "metadata": {
        "id": "KzBAZY5IDayM",
        "colab_type": "code",
        "colab": {}
      },
      "source": [
        "def create_lookback(dataset, look_back=30):\n",
        "    X, Y = [], []\n",
        "    for i in range(len(dataset) - look_back):\n",
        "        a = dataset[i:(i + look_back), 1:8]\n",
        "        X.append(a)\n",
        "        Y.append(dataset[i + look_back, 1])\n",
        "    return np.array(X), np.array(Y)"
      ],
      "execution_count": 0,
      "outputs": []
    },
    {
      "cell_type": "markdown",
      "metadata": {
        "id": "q4km6TV-DayR",
        "colab_type": "text"
      },
      "source": [
        "Now we : \n",
        "* Reshape the train and test datasets according to the requirements of the model.\n",
        "* Scale the dataset by using the MinMaxScaler because LSTM models are scale sensitive.\n",
        "* Apply our create_lookback function."
      ]
    },
    {
      "cell_type": "code",
      "metadata": {
        "id": "dMNus0lGDayS",
        "colab_type": "code",
        "outputId": "40d990c2-061f-4102-f00f-d35e25fd639c",
        "colab": {
          "base_uri": "https://localhost:8080/",
          "height": 35
        }
      },
      "source": [
        "np.shape(working_data)"
      ],
      "execution_count": 0,
      "outputs": [
        {
          "output_type": "execute_result",
          "data": {
            "text/plain": [
              "(3333, 8)"
            ]
          },
          "metadata": {
            "tags": []
          },
          "execution_count": 12
        }
      ]
    },
    {
      "cell_type": "code",
      "metadata": {
        "id": "oCmGGaS2DayW",
        "colab_type": "code",
        "outputId": "fe7527c9-36cf-491d-d273-3dd7d6822a6a",
        "colab": {
          "base_uri": "https://localhost:8080/",
          "height": 87
        }
      },
      "source": [
        "\n",
        "working_data.columns"
      ],
      "execution_count": 0,
      "outputs": [
        {
          "output_type": "execute_result",
          "data": {
            "text/plain": [
              "Index(['index', 'Bitcoin Core (BTC) Price', 'Money Supply', 'Price Volatility',\n",
              "       'Daily Transactions', 'Block Size', 'Transaction Fees',\n",
              "       'Inflation Rate'],\n",
              "      dtype='object')"
            ]
          },
          "metadata": {
            "tags": []
          },
          "execution_count": 13
        }
      ]
    },
    {
      "cell_type": "code",
      "metadata": {
        "id": "SrxNRgtoDaya",
        "colab_type": "code",
        "outputId": "57012de5-e348-429c-b099-5c02b111c4b3",
        "colab": {
          "base_uri": "https://localhost:8080/",
          "height": 69
        }
      },
      "source": [
        "df_train = working_data[:-150]\n",
        "df_test = working_data[-150:]\n",
        "print ( 'len whole dataset : ', len(working_data))\n",
        "print ( 'len training dataset : ', len(df_train))\n",
        "print ( 'len test dataset : ', len(df_test))"
      ],
      "execution_count": 0,
      "outputs": [
        {
          "output_type": "stream",
          "text": [
            "len whole dataset :  3333\n",
            "len training dataset :  3183\n",
            "len test dataset :  150\n"
          ],
          "name": "stdout"
        }
      ]
    },
    {
      "cell_type": "code",
      "metadata": {
        "id": "hsJXrFCKDaye",
        "colab_type": "code",
        "outputId": "c388effd-597b-4315-8b1f-0fe7b090c798",
        "colab": {
          "base_uri": "https://localhost:8080/",
          "height": 87
        }
      },
      "source": [
        "training_set = df_train.values\n",
        "training_set = np.reshape(training_set, (len(training_set), 8))\n",
        "test_set = df_test.values\n",
        "test_set = np.reshape(test_set, (len(test_set), 8))\n",
        "\n",
        "X_train = df_train.drop(columns = 'Bitcoin Core (BTC) Price')\n",
        "Y_train = df_train['Bitcoin Core (BTC) Price']\n",
        "\n",
        "X_test = df_test.drop(columns = 'Bitcoin Core (BTC) Price')\n",
        "Y_test = df_test['Bitcoin Core (BTC) Price']\n",
        "\n",
        "#scale datasets\n",
        "scaler = MinMaxScaler()\n",
        "X_train = pd.DataFrame(scaler.fit_transform(X_train), columns = X_train.columns)\n",
        "X_test = pd.DataFrame(scaler.transform(X_test), columns = X_test.columns)\n",
        "\n",
        "#scale the outputs\n",
        "Y_train = pd.DataFrame(sk.preprocessing.scale(Y_train, axis=0, with_mean=True, with_std=True))\n",
        "Y_test = pd.DataFrame(sk.preprocessing.scale(Y_test, axis=0, with_mean=True, with_std=True))\n",
        "\n",
        "# create datasets which are suitable for time series forecasting\n",
        "look_back = 30\n",
        "X_train.insert(value = Y_train.values, column = 'Bitcoin Core (BTC) Price', loc = 1  )\n",
        "X_test.insert(value = Y_test.values, column = 'Bitcoin Core (BTC) Price', loc = 1  )\n",
        "\n",
        "training_set_2 = X_train\n",
        "test_set_2 = X_test\n",
        "\n",
        "X_train, Y_train = create_lookback(training_set_2.values, look_back)\n",
        "X_test, Y_test = create_lookback(test_set_2.values, look_back)\n",
        "\n",
        "\n",
        " # reshape datasets so that they will be ok for the requirements of the  models in Keras\n",
        "X_train = np.reshape(X_train, (len(X_train), look_back, X_train.shape[2]))\n",
        "X_test = np.reshape(X_test, (len(X_test), look_back, X_test.shape[2]))\n",
        "Y_test = np.reshape(Y_test, (len(Y_test),1))\n",
        "Y_train = np.reshape(Y_train, (len(Y_train),1))\n",
        "print(X_train.shape)\n",
        "print(X_test.shape)\n",
        "print(Y_train.shape)\n",
        "print(Y_test.shape)\n",
        "\n"
      ],
      "execution_count": 0,
      "outputs": [
        {
          "output_type": "stream",
          "text": [
            "(3153, 30, 7)\n",
            "(120, 30, 7)\n",
            "(3153, 1)\n",
            "(120, 1)\n"
          ],
          "name": "stdout"
        }
      ]
    },
    {
      "cell_type": "code",
      "metadata": {
        "id": "hYrpFpJPDayj",
        "colab_type": "code",
        "outputId": "5e85cd67-abb2-4030-a22f-05ac7eda9eb1",
        "colab": {
          "base_uri": "https://localhost:8080/",
          "height": 277
        }
      },
      "source": [
        "df_train.info()"
      ],
      "execution_count": 0,
      "outputs": [
        {
          "output_type": "stream",
          "text": [
            "<class 'pandas.core.frame.DataFrame'>\n",
            "DatetimeIndex: 3183 entries, 2011-06-02 to 2019-10-24\n",
            "Data columns (total 8 columns):\n",
            " #   Column                    Non-Null Count  Dtype  \n",
            "---  ------                    --------------  -----  \n",
            " 0   index                     3183 non-null   int64  \n",
            " 1   Bitcoin Core (BTC) Price  3183 non-null   float64\n",
            " 2   Money Supply              3183 non-null   float64\n",
            " 3   Price Volatility          3183 non-null   float64\n",
            " 4   Daily Transactions        3183 non-null   int64  \n",
            " 5   Block Size                3183 non-null   int64  \n",
            " 6   Transaction Fees          3183 non-null   float64\n",
            " 7   Inflation Rate            3183 non-null   float64\n",
            "dtypes: float64(5), int64(3)\n",
            "memory usage: 223.8 KB\n"
          ],
          "name": "stdout"
        }
      ]
    },
    {
      "cell_type": "code",
      "metadata": {
        "id": "zdH4ImHMDayo",
        "colab_type": "code",
        "outputId": "84536199-a7c7-4cc6-e65c-d4f37c07daf3",
        "colab": {
          "base_uri": "https://localhost:8080/",
          "height": 277
        }
      },
      "source": [
        "df_test.info()"
      ],
      "execution_count": 0,
      "outputs": [
        {
          "output_type": "stream",
          "text": [
            "<class 'pandas.core.frame.DataFrame'>\n",
            "DatetimeIndex: 150 entries, 2019-10-25 to 2020-03-22\n",
            "Data columns (total 8 columns):\n",
            " #   Column                    Non-Null Count  Dtype  \n",
            "---  ------                    --------------  -----  \n",
            " 0   index                     150 non-null    int64  \n",
            " 1   Bitcoin Core (BTC) Price  150 non-null    float64\n",
            " 2   Money Supply              150 non-null    float64\n",
            " 3   Price Volatility          150 non-null    float64\n",
            " 4   Daily Transactions        150 non-null    int64  \n",
            " 5   Block Size                150 non-null    int64  \n",
            " 6   Transaction Fees          150 non-null    float64\n",
            " 7   Inflation Rate            150 non-null    float64\n",
            "dtypes: float64(5), int64(3)\n",
            "memory usage: 10.5 KB\n"
          ],
          "name": "stdout"
        }
      ]
    },
    {
      "cell_type": "code",
      "metadata": {
        "id": "U4jaMta4Dayt",
        "colab_type": "code",
        "outputId": "06e41761-1f18-4482-df35-0d13b93dc98b",
        "colab": {
          "base_uri": "https://localhost:8080/",
          "height": 87
        }
      },
      "source": [
        "#check the normalisation and the shapes\n",
        "print(X_train.shape, X_train.mean(), X_train.var())\n",
        "print(Y_train.shape, Y_train.mean(), Y_train.var())\n",
        "print(X_test.shape, X_test.mean(), X_test.var())\n",
        "print(Y_test.shape, Y_test.mean(), Y_test.var())"
      ],
      "execution_count": 0,
      "outputs": [
        {
          "output_type": "stream",
          "text": [
            "(3153, 30, 7) 0.2452624400755091 0.22726342299102853\n",
            "(3153, 1) 0.006013631350452138 1.0056777727049913\n",
            "(120, 30, 7) 0.37836575139390544 0.2685960800150949\n",
            "(120, 1) -0.11605416822378466 1.1187571228481417\n"
          ],
          "name": "stdout"
        }
      ]
    },
    {
      "cell_type": "markdown",
      "metadata": {
        "id": "guzHScIKDayw",
        "colab_type": "text"
      },
      "source": [
        "We use Keras/scikit learn frameworks for deep learning. Our first model consists of MultiLayer Perceptron. \n",
        "I will first use the MLP Regressor of scikit learn and then the MLP from Keras. \n",
        "\n",
        "The research paper suggest to take 2 hidden layers, of 25 nodes each. They've also taken a tanh activation function, the Adam optimize solver, a batch size of 125, a default adaptive learning rate. \n",
        "\n",
        "I will use a gridsearch to determine the optimal parameters because the learning hyper parameters are of extreme importance for efficiency. They have to be optimal. We'll use cross validation because it's a robust method to find optimal hyperparameters. \n",
        "\n",
        "Some important points here : \n",
        "\n",
        "\n",
        "* For max_iter, which is the number of training epochs, rather than optimizing it, i prefer to take a large number of epochs (500) and activate the early stopping. If the number of epochs is large, we can fear overfitting, if it's too small, it can not converge. I recall that 1 epoch means that all the training set has been seen once. Iterations means the number of batchs to complete the epoch. \n",
        "\n",
        "* The gridsearch will concern the hidden layer number, the hidden layer size, the learing rate init, the momentum and the alpha. \n",
        "\n",
        "* The batch size is chosen equal to 125. Shuffing is denied since we work with time series. \n",
        "\n",
        "* If the number of hidden layers is too high, we risk overfitting. Generally, one hidden layer is sufficient (Cybenko Theorem)\n",
        "\n",
        "* For the activation function, I wanted to use the ReLu function because it avoids the gradient vanishing. BUT, the research paper suggests to use tanH because, even if it suffers from gradient vanishing, the second derivative can sustain for a long time before converging to zero, unlike ReLu, which improves the model prediction.\n",
        "\n",
        "* The initial learning rate always impacts the outcome of the training (too small = training can be stuck in a local minima, too big = may not converge)\n",
        "\n",
        "* The learning rate is adaptive : ‘adaptive’ keeps the learning rate constant to ‘learning_rate_init’ as long as training loss keeps decreasing. Each time two consecutive epochs fail to decrease training loss by at least tol, or fail to increase validation score by at least tol if ‘early_stopping’ is on, the current learning rate is divided by 5.\n",
        "\n",
        "\n",
        "\n",
        "* To avoid this staying stuck in a local minimum, we use a momentum term in the objective function, which is a value between 0 and 1 that increases the size of the steps taken towards the minimum by trying to jump from a local minima. If the momentum term is large then the learning rate should be kept smaller. A large value of momentum also means that the convergence will happen fast. But if both the momentum and learning rate are kept at large values, then you might skip the minimum with a huge step. A small value of momentum cannot reliably avoid local minima, and can also slow down the training of the system. Momentum also helps in smoothing out the variations, if the gradient keeps changing direction. A right value of momentum can be either learned by hit and trial or through cross-validation.\n",
        "\n",
        "* Alpha corresponds to the L2 regularization of weights.It's a way to avoid overfitting. \n",
        "\n"
      ]
    },
    {
      "cell_type": "markdown",
      "metadata": {
        "id": "IjSzm7NgDayw",
        "colab_type": "text"
      },
      "source": [
        "# MLP from Scikit Learn"
      ]
    },
    {
      "cell_type": "code",
      "metadata": {
        "id": "QC_KhfHfDayx",
        "colab_type": "code",
        "outputId": "8199f63e-ffe6-4e2c-bf91-73082071f326",
        "colab": {
          "base_uri": "https://localhost:8080/",
          "height": 55
        }
      },
      "source": [
        "from sklearn.neural_network import MLPRegressor\n",
        "\n",
        "#pour les hidden layer, ca me dira combien de neurones dans chaque hidden layer\n",
        "#La gridsearch a pris tellement de temps que j'ai décidé de réduire le nombre de possibilités pour chaque paramètre  à optimiser sinon cela prend trop de temps\n",
        "#une premiere gridsearch a été faite avec param_grid : elle etait très chronophage.voir les resultats plus bas\n",
        "# Je prend un nombre de fold égale à 5 pour la cross validation\n",
        "param_grid = [\n",
        "  {'hidden_layer_sizes': [ (10,10), (20,20), (25,25), (50,50), (100,100), (256,256)], \n",
        "   'learning_rate_init':[0.0001, 0.001, 0.01, 0.1],\n",
        "   'alpha': [0.00001, 0.0001, 0.001, 0.01, 0.1],\n",
        "    'momentum': [0.1, 0.5, 0.99]\n",
        " }]\n",
        "\n",
        "\n",
        "print(param_grid)\n",
        "\n"
      ],
      "execution_count": 0,
      "outputs": [
        {
          "output_type": "stream",
          "text": [
            "[{'hidden_layer_sizes': [(10, 10), (20, 20), (25, 25), (50, 50), (100, 100), (256, 256)], 'learning_rate_init': [0.0001, 0.001, 0.01, 0.1], 'alpha': [1e-05, 0.0001, 0.001, 0.01, 0.1], 'momentum': [0.1, 0.5, 0.99]}]\n"
          ],
          "name": "stdout"
        }
      ]
    },
    {
      "cell_type": "code",
      "metadata": {
        "id": "6Bl44lXBDay0",
        "colab_type": "code",
        "outputId": "814a1bbb-5905-47af-c289-4ac7e855d60f",
        "colab": {
          "base_uri": "https://localhost:8080/",
          "height": 381
        }
      },
      "source": [
        "# Cross-validation (3 folds) grid-search (the scoring is taken to be the root mean squared error)\n",
        "\n",
        "from sklearn.model_selection import GridSearchCV\n",
        "mlp = GridSearchCV(MLPRegressor(hidden_layer_sizes=(1, ), activation='tanh', solver='adam', \n",
        "                    alpha=0.0001, batch_size=125, learning_rate='adaptive', learning_rate_init=0.005, \n",
        "                    power_t=0.5, max_iter=5000, shuffle=False, random_state=11, tol=0.000001, \n",
        "                    verbose=True, warm_start=False, momentum=0.5, nesterovs_momentum=True, \n",
        "                    early_stopping=True, validation_fraction=0.2, \n",
        "                    beta_1=0.9, beta_2=0.999, epsilon=1e-08), param_grid, cv=5, scoring='neg_root_mean_squared_error')\n",
        "print(mlp)"
      ],
      "execution_count": 0,
      "outputs": [
        {
          "output_type": "stream",
          "text": [
            "GridSearchCV(cv=5, error_score=nan,\n",
            "             estimator=MLPRegressor(activation='tanh', alpha=0.0001,\n",
            "                                    batch_size=125, beta_1=0.9, beta_2=0.999,\n",
            "                                    early_stopping=True, epsilon=1e-08,\n",
            "                                    hidden_layer_sizes=(1,),\n",
            "                                    learning_rate='adaptive',\n",
            "                                    learning_rate_init=0.005, max_fun=15000,\n",
            "                                    max_iter=5000, momentum=0.5,\n",
            "                                    n_iter_no_change=10,\n",
            "                                    nesterovs_momentum=True, power_t=0.5,\n",
            "                                    random_state=11, sh...\n",
            "                                    warm_start=False),\n",
            "             iid='deprecated', n_jobs=None,\n",
            "             param_grid=[{'alpha': [1e-05, 0.0001, 0.001, 0.01, 0.1],\n",
            "                          'hidden_layer_sizes': [(10, 10), (20, 20), (25, 25),\n",
            "                                                 (50, 50), (100, 100),\n",
            "                                                 (256, 256)],\n",
            "                          'learning_rate_init': [0.0001, 0.001, 0.01, 0.1],\n",
            "                          'momentum': [0.1, 0.5, 0.99]}],\n",
            "             pre_dispatch='2*n_jobs', refit=True, return_train_score=False,\n",
            "             scoring='neg_root_mean_squared_error', verbose=0)\n"
          ],
          "name": "stdout"
        }
      ]
    },
    {
      "cell_type": "markdown",
      "metadata": {
        "id": "_xMGY0wRDay3",
        "colab_type": "text"
      },
      "source": [
        "Important : The Gridsearch took so much time that I will not run it here, i did it separately, I will show only the optimal parameters given by the gridsearch (which are basically according to those of the research paper). \n",
        "The codes for the gridsearch are available here, but i don't run them. "
      ]
    },
    {
      "cell_type": "code",
      "metadata": {
        "id": "b-zddJ-GDay4",
        "colab_type": "code",
        "colab": {}
      },
      "source": [
        "#mlp.fit(x_train, y_train)\n",
        "#print(\"Best parameters set found on development set:\")\n",
        "#print()\n",
        "#print(mlp.best_params_)\n",
        "#print()"
      ],
      "execution_count": 0,
      "outputs": []
    },
    {
      "cell_type": "code",
      "metadata": {
        "id": "183ArV5nDay8",
        "colab_type": "code",
        "colab": {}
      },
      "source": [
        "#mlp.best_estimator_"
      ],
      "execution_count": 0,
      "outputs": []
    },
    {
      "cell_type": "code",
      "metadata": {
        "id": "syXjTxVRDazB",
        "colab_type": "code",
        "outputId": "bd42ba0e-691c-4850-f1df-ba7a0316d5e0",
        "colab": {
          "base_uri": "https://localhost:8080/",
          "height": 156
        }
      },
      "source": [
        "mlp_optimal = MLPRegressor(hidden_layer_sizes=(25,1), activation='tanh', solver='adam', \n",
        "                    alpha =1e-02, batch_size=100, learning_rate='adaptive', learning_rate_init=0.001, \n",
        "                    power_t=0.5, max_iter=5000, shuffle=True, random_state=11, tol=0.000001, \n",
        "                    verbose=True, warm_start=False, momentum=0.9, nesterovs_momentum=True, \n",
        "                    early_stopping=True,  validation_fraction=0.05, \n",
        "                    beta_1=0.9, beta_2=0.999, epsilon=1e-08)\n",
        "print(mlp_optimal)"
      ],
      "execution_count": 0,
      "outputs": [
        {
          "output_type": "stream",
          "text": [
            "MLPRegressor(activation='tanh', alpha=0.01, batch_size=100, beta_1=0.9,\n",
            "             beta_2=0.999, early_stopping=True, epsilon=1e-08,\n",
            "             hidden_layer_sizes=(25, 1), learning_rate='adaptive',\n",
            "             learning_rate_init=0.001, max_fun=15000, max_iter=5000,\n",
            "             momentum=0.9, n_iter_no_change=10, nesterovs_momentum=True,\n",
            "             power_t=0.5, random_state=11, shuffle=True, solver='adam',\n",
            "             tol=1e-06, validation_fraction=0.05, verbose=True,\n",
            "             warm_start=False)\n"
          ],
          "name": "stdout"
        }
      ]
    },
    {
      "cell_type": "markdown",
      "metadata": {
        "id": "tMSe2CWEDazF",
        "colab_type": "text"
      },
      "source": [
        "The X_train and Y_train defined above are in a shape according to keras input. \n",
        "I will here redo the work (preprocess) with x_train and y_train to use them for the MLP of scikit learn"
      ]
    },
    {
      "cell_type": "code",
      "metadata": {
        "id": "LUJ6kPj5DazG",
        "colab_type": "code",
        "outputId": "e7933fce-bed5-4101-ae48-1e0fb6810d68",
        "colab": {
          "base_uri": "https://localhost:8080/",
          "height": 87
        }
      },
      "source": [
        "x_train = df_train.drop(columns = 'Bitcoin Core (BTC) Price')\n",
        "y_train = df_train['Bitcoin Core (BTC) Price']\n",
        "\n",
        "x_test = df_test.drop(columns = 'Bitcoin Core (BTC) Price')\n",
        "y_test = df_test['Bitcoin Core (BTC) Price']\n",
        "\n",
        "#scale datasets\n",
        "scaler = MinMaxScaler()\n",
        "x_train = pd.DataFrame(scaler.fit_transform(x_train), columns = x_train.columns)\n",
        "x_test = pd.DataFrame(scaler.transform(x_test), columns = x_test.columns)\n",
        "\n",
        "#scale the outputs\n",
        "y_train = pd.DataFrame(sk.preprocessing.scale(y_train, axis=0, with_mean=True, with_std=True))\n",
        "y_test = pd.DataFrame(sk.preprocessing.scale(y_test, axis=0, with_mean=True, with_std=True))\n",
        "\n",
        "# create datasets which are suitable for time series forecasting\n",
        "look_back = 30\n",
        "x_train.insert(value = y_train.values, column = 'Bitcoin Core (BTC) Price', loc = 1  )\n",
        "x_test.insert(value = y_test.values, column = 'Bitcoin Core (BTC) Price', loc = 1  )\n",
        "\n",
        "training_set_3 = x_train\n",
        "test_set_3 = x_test\n",
        "\n",
        "\n",
        "x_train,y_train_ = create_lookback(training_set_3.values, look_back)\n",
        "x_test, y_test_ = create_lookback(test_set_3.values, look_back)\n",
        "\n",
        "y_test = np.reshape(y_test_, (len(y_test_),1))\n",
        "y_train = np.reshape(y_train_, (len(y_train_),1))\n",
        "\n",
        "\n",
        "x_train = x_train.reshape(x_train.shape[0],-1)\n",
        "x_test = x_test.reshape(x_test.shape[0],-1)\n",
        "\n",
        "\n",
        "\n",
        "print(x_train.shape)\n",
        "print(x_test.shape)\n",
        "print(y_train.shape)\n",
        "print(y_test.shape)"
      ],
      "execution_count": 0,
      "outputs": [
        {
          "output_type": "stream",
          "text": [
            "(3153, 210)\n",
            "(120, 210)\n",
            "(3153, 1)\n",
            "(120, 1)\n"
          ],
          "name": "stdout"
        }
      ]
    },
    {
      "cell_type": "code",
      "metadata": {
        "id": "-tIyn4zmDazK",
        "colab_type": "code",
        "outputId": "7dd33bf7-2794-499f-95db-890c14b9adb2",
        "colab": {
          "base_uri": "https://localhost:8080/",
          "height": 1000
        }
      },
      "source": [
        "start = time.time()\n",
        "mlp_optimal.fit(x_train, y_train)\n",
        "end = time.time()"
      ],
      "execution_count": 0,
      "outputs": [
        {
          "output_type": "stream",
          "text": [
            "/usr/local/lib/python3.6/dist-packages/sklearn/neural_network/_multilayer_perceptron.py:1342: DataConversionWarning:\n",
            "\n",
            "A column-vector y was passed when a 1d array was expected. Please change the shape of y to (n_samples, ), for example using ravel().\n",
            "\n"
          ],
          "name": "stderr"
        },
        {
          "output_type": "stream",
          "text": [
            "Iteration 1, loss = 0.45134483\n",
            "Validation score: 0.080911\n",
            "Iteration 2, loss = 0.41434398\n",
            "Validation score: 0.139479\n",
            "Iteration 3, loss = 0.38887093\n",
            "Validation score: 0.190272\n",
            "Iteration 4, loss = 0.36681624\n",
            "Validation score: 0.236928\n",
            "Iteration 5, loss = 0.34614885\n",
            "Validation score: 0.279886\n",
            "Iteration 6, loss = 0.32721040\n",
            "Validation score: 0.320946\n",
            "Iteration 7, loss = 0.30921854\n",
            "Validation score: 0.358596\n",
            "Iteration 8, loss = 0.29268784\n",
            "Validation score: 0.394840\n",
            "Iteration 9, loss = 0.27688669\n",
            "Validation score: 0.428116\n",
            "Iteration 10, loss = 0.26236595\n",
            "Validation score: 0.460212\n",
            "Iteration 11, loss = 0.24860477\n",
            "Validation score: 0.489467\n",
            "Iteration 12, loss = 0.23585766\n",
            "Validation score: 0.516821\n",
            "Iteration 13, loss = 0.22383192\n",
            "Validation score: 0.543146\n",
            "Iteration 14, loss = 0.21265514\n",
            "Validation score: 0.567662\n",
            "Iteration 15, loss = 0.20211991\n",
            "Validation score: 0.590541\n",
            "Iteration 16, loss = 0.19202759\n",
            "Validation score: 0.611562\n",
            "Iteration 17, loss = 0.18273545\n",
            "Validation score: 0.632464\n",
            "Iteration 18, loss = 0.17372204\n",
            "Validation score: 0.651858\n",
            "Iteration 19, loss = 0.16529041\n",
            "Validation score: 0.670268\n",
            "Iteration 20, loss = 0.15724707\n",
            "Validation score: 0.687459\n",
            "Iteration 21, loss = 0.14969110\n",
            "Validation score: 0.703896\n",
            "Iteration 22, loss = 0.14260811\n",
            "Validation score: 0.718968\n",
            "Iteration 23, loss = 0.13592450\n",
            "Validation score: 0.733970\n",
            "Iteration 24, loss = 0.12956340\n",
            "Validation score: 0.747045\n",
            "Iteration 25, loss = 0.12365116\n",
            "Validation score: 0.761016\n",
            "Iteration 26, loss = 0.11793499\n",
            "Validation score: 0.772944\n",
            "Iteration 27, loss = 0.11281175\n",
            "Validation score: 0.784759\n",
            "Iteration 28, loss = 0.10781641\n",
            "Validation score: 0.794238\n",
            "Iteration 29, loss = 0.10319871\n",
            "Validation score: 0.805839\n",
            "Iteration 30, loss = 0.09878498\n",
            "Validation score: 0.814777\n",
            "Iteration 31, loss = 0.09484631\n",
            "Validation score: 0.823831\n",
            "Iteration 32, loss = 0.09092434\n",
            "Validation score: 0.832662\n",
            "Iteration 33, loss = 0.08731529\n",
            "Validation score: 0.840182\n",
            "Iteration 34, loss = 0.08402196\n",
            "Validation score: 0.847119\n",
            "Iteration 35, loss = 0.08112312\n",
            "Validation score: 0.854160\n",
            "Iteration 36, loss = 0.07795009\n",
            "Validation score: 0.861040\n",
            "Iteration 37, loss = 0.07504306\n",
            "Validation score: 0.866874\n",
            "Iteration 38, loss = 0.07238226\n",
            "Validation score: 0.872677\n",
            "Iteration 39, loss = 0.06988031\n",
            "Validation score: 0.878437\n",
            "Iteration 40, loss = 0.06747363\n",
            "Validation score: 0.883752\n",
            "Iteration 41, loss = 0.06520949\n",
            "Validation score: 0.888417\n",
            "Iteration 42, loss = 0.06296229\n",
            "Validation score: 0.893659\n",
            "Iteration 43, loss = 0.06074292\n",
            "Validation score: 0.898584\n",
            "Iteration 44, loss = 0.05871597\n",
            "Validation score: 0.902858\n",
            "Iteration 45, loss = 0.05681892\n",
            "Validation score: 0.906952\n",
            "Iteration 46, loss = 0.05494940\n",
            "Validation score: 0.911392\n",
            "Iteration 47, loss = 0.05342942\n",
            "Validation score: 0.915025\n",
            "Iteration 48, loss = 0.05167926\n",
            "Validation score: 0.919103\n",
            "Iteration 49, loss = 0.04990585\n",
            "Validation score: 0.922938\n",
            "Iteration 50, loss = 0.04824990\n",
            "Validation score: 0.925998\n",
            "Iteration 51, loss = 0.04681256\n",
            "Validation score: 0.929334\n",
            "Iteration 52, loss = 0.04539784\n",
            "Validation score: 0.931234\n",
            "Iteration 53, loss = 0.04406491\n",
            "Validation score: 0.935704\n",
            "Iteration 54, loss = 0.04272393\n",
            "Validation score: 0.938006\n",
            "Iteration 55, loss = 0.04147480\n",
            "Validation score: 0.940663\n",
            "Iteration 56, loss = 0.04015808\n",
            "Validation score: 0.943492\n",
            "Iteration 57, loss = 0.03914065\n",
            "Validation score: 0.945676\n",
            "Iteration 58, loss = 0.03800474\n",
            "Validation score: 0.948109\n",
            "Iteration 59, loss = 0.03702475\n",
            "Validation score: 0.950244\n",
            "Iteration 60, loss = 0.03612585\n",
            "Validation score: 0.952419\n",
            "Iteration 61, loss = 0.03501138\n",
            "Validation score: 0.954477\n",
            "Iteration 62, loss = 0.03416840\n",
            "Validation score: 0.956017\n",
            "Iteration 63, loss = 0.03320853\n",
            "Validation score: 0.958245\n",
            "Iteration 64, loss = 0.03239784\n",
            "Validation score: 0.959458\n",
            "Iteration 65, loss = 0.03150802\n",
            "Validation score: 0.961136\n",
            "Iteration 66, loss = 0.03074277\n",
            "Validation score: 0.962791\n",
            "Iteration 67, loss = 0.02996638\n",
            "Validation score: 0.964549\n",
            "Iteration 68, loss = 0.02960777\n",
            "Validation score: 0.965950\n",
            "Iteration 69, loss = 0.02865556\n",
            "Validation score: 0.966389\n",
            "Iteration 70, loss = 0.02805481\n",
            "Validation score: 0.967495\n",
            "Iteration 71, loss = 0.02731960\n",
            "Validation score: 0.969769\n",
            "Iteration 72, loss = 0.02693361\n",
            "Validation score: 0.970354\n",
            "Iteration 73, loss = 0.02631229\n",
            "Validation score: 0.971772\n",
            "Iteration 74, loss = 0.02559766\n",
            "Validation score: 0.972658\n",
            "Iteration 75, loss = 0.02498022\n",
            "Validation score: 0.973787\n",
            "Iteration 76, loss = 0.02433464\n",
            "Validation score: 0.974690\n",
            "Iteration 77, loss = 0.02412628\n",
            "Validation score: 0.975978\n",
            "Iteration 78, loss = 0.02354335\n",
            "Validation score: 0.976553\n",
            "Iteration 79, loss = 0.02280883\n",
            "Validation score: 0.977746\n",
            "Iteration 80, loss = 0.02250724\n",
            "Validation score: 0.978346\n",
            "Iteration 81, loss = 0.02192209\n",
            "Validation score: 0.979243\n",
            "Iteration 82, loss = 0.02146571\n",
            "Validation score: 0.980012\n",
            "Iteration 83, loss = 0.02132494\n",
            "Validation score: 0.980571\n",
            "Iteration 84, loss = 0.02075864\n",
            "Validation score: 0.980558\n",
            "Iteration 85, loss = 0.02029121\n",
            "Validation score: 0.981037\n",
            "Iteration 86, loss = 0.01986966\n",
            "Validation score: 0.981711\n",
            "Iteration 87, loss = 0.01950086\n",
            "Validation score: 0.983071\n",
            "Iteration 88, loss = 0.01893047\n",
            "Validation score: 0.983635\n",
            "Iteration 89, loss = 0.01862681\n",
            "Validation score: 0.983746\n",
            "Iteration 90, loss = 0.01828214\n",
            "Validation score: 0.984493\n",
            "Iteration 91, loss = 0.01787332\n",
            "Validation score: 0.984494\n",
            "Iteration 92, loss = 0.01778618\n",
            "Validation score: 0.983440\n",
            "Iteration 93, loss = 0.01776938\n",
            "Validation score: 0.985701\n",
            "Iteration 94, loss = 0.01704041\n",
            "Validation score: 0.986033\n",
            "Iteration 95, loss = 0.01681321\n",
            "Validation score: 0.986446\n",
            "Iteration 96, loss = 0.01660059\n",
            "Validation score: 0.986563\n",
            "Iteration 97, loss = 0.01611382\n",
            "Validation score: 0.987415\n",
            "Iteration 98, loss = 0.01574740\n",
            "Validation score: 0.987719\n",
            "Iteration 99, loss = 0.01565188\n",
            "Validation score: 0.986254\n",
            "Iteration 100, loss = 0.01560657\n",
            "Validation score: 0.988579\n",
            "Iteration 101, loss = 0.01500831\n",
            "Validation score: 0.988409\n",
            "Iteration 102, loss = 0.01486230\n",
            "Validation score: 0.988490\n",
            "Iteration 103, loss = 0.01462251\n",
            "Validation score: 0.989625\n",
            "Iteration 104, loss = 0.01419694\n",
            "Validation score: 0.989683\n",
            "Iteration 105, loss = 0.01404973\n",
            "Validation score: 0.989927\n",
            "Iteration 106, loss = 0.01366799\n",
            "Validation score: 0.990359\n",
            "Iteration 107, loss = 0.01337808\n",
            "Validation score: 0.989961\n",
            "Iteration 108, loss = 0.01331493\n",
            "Validation score: 0.990636\n",
            "Iteration 109, loss = 0.01305405\n",
            "Validation score: 0.990606\n",
            "Iteration 110, loss = 0.01310480\n",
            "Validation score: 0.990100\n",
            "Iteration 111, loss = 0.01269470\n",
            "Validation score: 0.990910\n",
            "Iteration 112, loss = 0.01243867\n",
            "Validation score: 0.991899\n",
            "Iteration 113, loss = 0.01251182\n",
            "Validation score: 0.991306\n",
            "Iteration 114, loss = 0.01234079\n",
            "Validation score: 0.991188\n",
            "Iteration 115, loss = 0.01199525\n",
            "Validation score: 0.992566\n",
            "Iteration 116, loss = 0.01190387\n",
            "Validation score: 0.992091\n",
            "Iteration 117, loss = 0.01169656\n",
            "Validation score: 0.992370\n",
            "Iteration 118, loss = 0.01134481\n",
            "Validation score: 0.992267\n",
            "Iteration 119, loss = 0.01159807\n",
            "Validation score: 0.991710\n",
            "Iteration 120, loss = 0.01102085\n",
            "Validation score: 0.991936\n",
            "Iteration 121, loss = 0.01081063\n",
            "Validation score: 0.993386\n",
            "Iteration 122, loss = 0.01058204\n",
            "Validation score: 0.993174\n",
            "Iteration 123, loss = 0.01053245\n",
            "Validation score: 0.992900\n",
            "Iteration 124, loss = 0.01037172\n",
            "Validation score: 0.993806\n",
            "Iteration 125, loss = 0.01004168\n",
            "Validation score: 0.994139\n",
            "Iteration 126, loss = 0.00985604\n",
            "Validation score: 0.994159\n",
            "Iteration 127, loss = 0.00976448\n",
            "Validation score: 0.994258\n",
            "Iteration 128, loss = 0.00954725\n",
            "Validation score: 0.994281\n",
            "Iteration 129, loss = 0.00945364\n",
            "Validation score: 0.994102\n",
            "Iteration 130, loss = 0.00943702\n",
            "Validation score: 0.993917\n",
            "Iteration 131, loss = 0.00931318\n",
            "Validation score: 0.993197\n",
            "Iteration 132, loss = 0.00908320\n",
            "Validation score: 0.994955\n",
            "Iteration 133, loss = 0.00908652\n",
            "Validation score: 0.995113\n",
            "Iteration 134, loss = 0.00872332\n",
            "Validation score: 0.994731\n",
            "Iteration 135, loss = 0.00899001\n",
            "Validation score: 0.994932\n",
            "Iteration 136, loss = 0.00864156\n",
            "Validation score: 0.995113\n",
            "Iteration 137, loss = 0.00846649\n",
            "Validation score: 0.994692\n",
            "Iteration 138, loss = 0.00825967\n",
            "Validation score: 0.995608\n",
            "Iteration 139, loss = 0.00815152\n",
            "Validation score: 0.995629\n",
            "Iteration 140, loss = 0.00801515\n",
            "Validation score: 0.995591\n",
            "Iteration 141, loss = 0.00773032\n",
            "Validation score: 0.994867\n",
            "Iteration 142, loss = 0.00778616\n",
            "Validation score: 0.995715\n",
            "Iteration 143, loss = 0.00764416\n",
            "Validation score: 0.996190\n",
            "Iteration 144, loss = 0.00736975\n",
            "Validation score: 0.996134\n",
            "Iteration 145, loss = 0.00767586\n",
            "Validation score: 0.996047\n",
            "Iteration 146, loss = 0.00730383\n",
            "Validation score: 0.996164\n",
            "Iteration 147, loss = 0.00717075\n",
            "Validation score: 0.996335\n",
            "Iteration 148, loss = 0.00744089\n",
            "Validation score: 0.995945\n",
            "Iteration 149, loss = 0.00709825\n",
            "Validation score: 0.995776\n",
            "Iteration 150, loss = 0.00683424\n",
            "Validation score: 0.995907\n",
            "Iteration 151, loss = 0.00676296\n",
            "Validation score: 0.996052\n",
            "Iteration 152, loss = 0.00663949\n",
            "Validation score: 0.996170\n",
            "Iteration 153, loss = 0.00680551\n",
            "Validation score: 0.995121\n",
            "Iteration 154, loss = 0.00678670\n",
            "Validation score: 0.996084\n",
            "Iteration 155, loss = 0.00654307\n",
            "Validation score: 0.995662\n",
            "Iteration 156, loss = 0.00632911\n",
            "Validation score: 0.995819\n",
            "Iteration 157, loss = 0.00636556\n",
            "Validation score: 0.995820\n",
            "Iteration 158, loss = 0.00632043\n",
            "Validation score: 0.996572\n",
            "Iteration 159, loss = 0.00600191\n",
            "Validation score: 0.996711\n",
            "Iteration 160, loss = 0.00589915\n",
            "Validation score: 0.996762\n",
            "Iteration 161, loss = 0.00585648\n",
            "Validation score: 0.996656\n",
            "Iteration 162, loss = 0.00571549\n",
            "Validation score: 0.995845\n",
            "Iteration 163, loss = 0.00606108\n",
            "Validation score: 0.996328\n",
            "Iteration 164, loss = 0.00596474\n",
            "Validation score: 0.995578\n",
            "Iteration 165, loss = 0.00575608\n",
            "Validation score: 0.997047\n",
            "Iteration 166, loss = 0.00548629\n",
            "Validation score: 0.996707\n",
            "Iteration 167, loss = 0.00554219\n",
            "Validation score: 0.995858\n",
            "Iteration 168, loss = 0.00531784\n",
            "Validation score: 0.996549\n",
            "Iteration 169, loss = 0.00551120\n",
            "Validation score: 0.996233\n",
            "Iteration 170, loss = 0.00543307\n",
            "Validation score: 0.995800\n",
            "Iteration 171, loss = 0.00523368\n",
            "Validation score: 0.996952\n",
            "Iteration 172, loss = 0.00503253\n",
            "Validation score: 0.996127\n",
            "Iteration 173, loss = 0.00499776\n",
            "Validation score: 0.996552\n",
            "Iteration 174, loss = 0.00524075\n",
            "Validation score: 0.994387\n",
            "Iteration 175, loss = 0.00522612\n",
            "Validation score: 0.995884\n",
            "Iteration 176, loss = 0.00508091\n",
            "Validation score: 0.996135\n",
            "Validation score did not improve more than tol=0.000001 for 10 consecutive epochs. Stopping.\n"
          ],
          "name": "stdout"
        }
      ]
    },
    {
      "cell_type": "code",
      "metadata": {
        "id": "TFlog2WqDazN",
        "colab_type": "code",
        "outputId": "dca33ee0-1fef-4a0d-fb7c-b67d1c140243",
        "colab": {
          "base_uri": "https://localhost:8080/",
          "height": 336
        }
      },
      "source": [
        "# Plot the LEARNING CURVE\n",
        "plt.title(\"Evolution of TRAINING ERROR during training\")\n",
        "plt.xlabel(\"Iterations (epochs)\")\n",
        "plt.ylabel(\"TRAINING ERROR\")\n",
        "plt.plot( mlp_optimal.loss_curve_)\n",
        "plt.show()\n",
        "\n",
        "# Evaluate acuracy on validation data\n",
        "score_mlp = mlp_optimal.score(x_test,y_test)\n",
        "y_pred_mlp = mlp_optimal.predict(x_test)\n",
        "from sklearn.metrics import mean_squared_error\n",
        "mse_mlp = mean_squared_error(y_test, y_pred_mlp)\n",
        "#print(\" Score R^2 (on test set) = \", score_mlp)\n",
        "print(\" MSE MLP (on test set) = \", mse_mlp)\n",
        "time_mlp_skl = end - start\n",
        "print(\"time_mlp_skl : %f sec \" %(time_mlp_skl))"
      ],
      "execution_count": 0,
      "outputs": [
        {
          "output_type": "display_data",
          "data": {
            "image/png": "[encoded data removed]",
            "text/plain": [
              "<Figure size 432x288 with 1 Axes>"
            ]
          },
          "metadata": {
            "tags": []
          }
        },
        {
          "output_type": "stream",
          "text": [
            " MSE MLP (on test set) =  0.21265707009349819\n",
            "time_mlp_skl : 5.048307 sec \n"
          ],
          "name": "stdout"
        }
      ]
    },
    {
      "cell_type": "code",
      "metadata": {
        "id": "YADEQjM6tbb6",
        "colab_type": "code",
        "outputId": "c9aac4a5-7cf5-4974-d169-6aac43babc1e",
        "colab": {
          "base_uri": "https://localhost:8080/",
          "height": 542
        }
      },
      "source": [
        "trace1 = go.Scatter(\n",
        "    x = np.arange(0, len(y_pred_mlp), 1),\n",
        "    y = y_pred_mlp[1:,],\n",
        "    mode = 'lines',\n",
        "    name = 'Predicted labels',\n",
        "    line = dict(color=('rgb(244, 146, 65)'), width=2)\n",
        ")\n",
        "trace2 = go.Scatter(\n",
        "    x = np.arange(0, len(y_test), 1),\n",
        "    y = y_test[:,0],\n",
        "    mode = 'lines',\n",
        "    name = 'True labels',\n",
        "    line = dict(color=('rgb(66, 244, 155)'), width=2)\n",
        ")\n",
        "\n",
        "d = [trace1, trace2]\n",
        "layout = dict(title = 'Comparison of true prices (on the test dataset) with prices our model predicted',\n",
        "             xaxis = dict(title = 'Day number'), yaxis = dict(title = 'Price, USD'))\n",
        "fig = dict(data=d, layout=layout)\n",
        "py.iplot(fig, filename='results_demonstrating0')"
      ],
      "execution_count": 0,
      "outputs": [
        {
          "output_type": "display_data",
          "data": {
            "text/html": [
              "<html>\n",
              "<head><meta charset=\"utf-8\" /></head>\n",
              "<body>\n",
              "    <div>\n",
              "            <script src=\"https://cdnjs.cloudflare.com/ajax/libs/mathjax/2.7.5/MathJax.js?config=TeX-AMS-MML_SVG\"></script><script type=\"text/javascript\">if (window.MathJax) {MathJax.Hub.Config({SVG: {font: \"STIX-Web\"}});}</script>\n",
              "                <script type=\"text/javascript\">window.PlotlyConfig = {MathJaxConfig: 'local'};</script>\n",
              "        <script src=\"https://cdn.plot.ly/plotly-latest.min.js\"></script>    \n",
              "            <div id=\"e2d940e8-eb6e-4b5d-931c-fa12fd2bf8fb\" class=\"plotly-graph-div\" style=\"height:525px; width:100%;\"></div>\n",
              "            <script type=\"text/javascript\">\n",
              "                \n",
              "                    window.PLOTLYENV=window.PLOTLYENV || {};\n",
              "                    \n",
              "                if (document.getElementById(\"e2d940e8-eb6e-4b5d-931c-fa12fd2bf8fb\")) {\n",
              "                    Plotly.newPlot(\n",
              "                        'e2d940e8-eb6e-4b5d-931c-fa12fd2bf8fb',\n",
              "                        [{\"line\": {\"color\": \"rgb(244, 146, 65)\", \"width\": 2}, \"mode\": \"lines\", \"name\": \"Predicted labels\", \"type\": \"scatter\", \"x\": [0, 1, 2, 3, 4, 5, 6, 7, 8, 9, 10, 11, 12, 13, 14, 15, 16, 17, 18, 19, 20, 21, 22, 23, 24, 25, 26, 27, 28, 29, 30, 31, 32, 33, 34, 35, 36, 37, 38, 39, 40, 41, 42, 43, 44, 45, 46, 47, 48, 49, 50, 51, 52, 53, 54, 55, 56, 57, 58, 59, 60, 61, 62, 63, 64, 65, 66, 67, 68, 69, 70, 71, 72, 73, 74, 75, 76, 77, 78, 79, 80, 81, 82, 83, 84, 85, 86, 87, 88, 89, 90, 91, 92, 93, 94, 95, 96, 97, 98, 99, 100, 101, 102, 103, 104, 105, 106, 107, 108, 109, 110, 111, 112, 113, 114, 115, 116, 117, 118, 119], \"y\": [-0.45720999581921695, -0.5986507681330947, -0.5726987114340173, -0.5359124550205966, -0.42545545429769127, -0.4012178555430207, -0.32298462985651766, -0.39252260170267605, -0.4511111772121962, -0.5206586887063592, -0.5578481803537515, -0.5690320037546753, -0.5564597406018884, -0.5469476025102725, -0.5523109635037443, -0.5189818024280454, -0.6167783664655561, -0.6788741633258736, -0.691298722086202, -0.6632495931195569, -0.6613576704024388, -0.6750892718189195, -0.6781094143348846, -0.7377000331102309, -0.8238483303281429, -0.7417550035923605, -0.7336358744271524, -0.697540557112068, -0.6488542801269969, -0.6060177516478223, -0.6669561372440654, -0.649900801225516, -0.6954245693575073, -0.7318301179038497, -0.7183816636843176, -0.66099844630569, -0.6581270881329991, -0.6891535098252203, -0.692244726007638, -0.7417669536022341, -0.7957820714897356, -0.7276074267199487, -0.643308218315538, -0.6153039999933251, -0.5486714290466211, -0.4687860067744284, -0.4077231929861155, -0.4253864595058571, -0.4054018648853205, -0.4123614570591151, -0.3501360973960651, -0.3051854821160098, -0.12804856143219467, -0.007375046426694398, 0.03478997532175365, 0.06756539213226498, 0.12407323682338833, 0.1038340328022398, 0.054730722583885005, 0.1202531253343565, 0.12978638707109214, 0.0536600928780252, 0.006356041067533846, -0.014175606209271385, -0.00683256259813092, 0.15353002403437277, 0.4792698073320667, 0.6480138232658887, 0.8080871806477679, 0.7995681816213365, 0.8469888525371897, 0.8269841884876178, 0.8287380933794755, 0.7358705480464387, 0.9027785419798373, 1.019555549945057, 1.1497091686812266, 1.286188796170836, 1.4287563731429411, 1.3851383757904474, 1.5464052776837967, 1.7280391516301332, 1.71625075118591, 1.7547466758603778, 1.561141913441114, 1.381071695616231, 1.2062208169830488, 1.375251916726655, 1.1355643902011867, 1.0634264846547157, 1.1531085158471701, 1.167933407655688, 1.320392978873786, 1.2514404258060494, 0.9858198648657741, 0.631845664051209, 0.5343611492532795, 0.3574935261357372, 0.35826892188186, 0.2855933901083674, 0.3897722526682302, 0.3794074330917932, 0.4865311549395273, 0.557528303641379, 0.6334682811230103, 0.6101075951756838, 0.1965954992792442, -0.03775842872935997, -0.23059977975809653, -0.20340294160822503, -1.1039586067431357, -1.2585961508885726, -1.3678070222923413, -1.1118273818237325, -1.0928001871096877, -0.9890751840125479, -1.1085391897058212, -0.9084535174279448, -0.8077324608356967]}, {\"line\": {\"color\": \"rgb(66, 244, 155)\", \"width\": 2}, \"mode\": \"lines\", \"name\": \"True labels\", \"type\": \"scatter\", \"x\": [0, 1, 2, 3, 4, 5, 6, 7, 8, 9, 10, 11, 12, 13, 14, 15, 16, 17, 18, 19, 20, 21, 22, 23, 24, 25, 26, 27, 28, 29, 30, 31, 32, 33, 34, 35, 36, 37, 38, 39, 40, 41, 42, 43, 44, 45, 46, 47, 48, 49, 50, 51, 52, 53, 54, 55, 56, 57, 58, 59, 60, 61, 62, 63, 64, 65, 66, 67, 68, 69, 70, 71, 72, 73, 74, 75, 76, 77, 78, 79, 80, 81, 82, 83, 84, 85, 86, 87, 88, 89, 90, 91, 92, 93, 94, 95, 96, 97, 98, 99, 100, 101, 102, 103, 104, 105, 106, 107, 108, 109, 110, 111, 112, 113, 114, 115, 116, 117, 118, 119], \"y\": [-0.8037194170905599, -1.0280124766475254, -1.0018005762259632, -0.8935634317892968, -0.7059721044575563, -0.6385362639018578, -0.44443633827130974, -0.5325644497821793, -0.6961500379339011, -0.7828749970842486, -0.7736699794902202, -0.7658173979063341, -0.7350072150502898, -0.6120200653780139, -0.5885299424268624, -0.6071428430164402, -0.6955414417293379, -0.8278603998715927, -0.8691181509059824, -0.8760409327328966, -0.829846790261488, -0.9512701857970378, -0.9421581481787065, -1.0885593462765641, -1.3014074160977032, -0.9398421015113387, -0.8884748913011384, -0.8938592771665156, -0.9143824936204182, -0.686978831240127, -0.7050338519755207, -0.8096532300850577, -0.8763705890103681, -0.8332025221116527, -0.8717300429505691, -0.7867125342630261, -0.7063862879856628, -0.8225605412568487, -0.8792614209820464, -0.8811548313962448, -1.0385192139013144, -0.8416890580752929, -0.7516844416003521, -0.7222605056547028, -0.4792446600823363, -0.143122047936766, -0.11057905644272735, -0.3210180996208017, -0.1457001290810983, -0.12822834637507802, -0.09308191556151635, -0.10602303763356166, 0.35055090666526934, 0.44981970980968117, 0.40552743047753537, 0.5332312007351809, 0.5610406661937228, 0.4454750091271009, 0.33187883700024806, 0.3670168150887462, 0.36852140015002954, 0.16626459483331296, 0.13880169110236987, 0.08945468218231768, 0.24223768770303158, 0.5093268942559245, 0.877502239841857, 0.9086336262503101, 1.0083757819982726, 0.9434926644117164, 0.9684789196990871, 0.9221748918018559, 0.9467638690112478, 0.8100833047362849, 1.098591716599798, 1.2580101112952708, 1.3229016816068906, 1.364353845317738, 1.5726120854294594, 1.4129485617071478, 1.6228550832062287, 1.7922054298511807, 1.7140853448153612, 1.7496544118820923, 1.4863351207074704, 1.3911489837686744, 1.2503096787625252, 1.5491642261036236, 1.239177439854045, 1.1338480328391847, 1.2228383223065185, 1.2029490602323707, 1.4132528598094303, 1.2436658368627043, 0.973998549165479, 0.5573299198908965, 0.4626932100812202, 0.38420965786767475, 0.30997782636101334, 0.2769699349884875, 0.5020152870760938, 0.46014893983714067, 0.44973518255904854, 0.6649331099478096, 0.7541685284419823, 0.6239881097407642, 0.019778869484822725, -0.2620518895786162, -0.2626351276079895, -0.3052199564773316, -2.237411473266762, -2.4870288971136336, -2.502734060281406, -2.3556059278280976, -2.7578964717698593, -2.484180328767272, -2.459270148005472, -1.874569797195826, -1.6594817552328889, -1.7355478280783059]}],\n",
              "                        {\"template\": {\"data\": {\"bar\": [{\"error_x\": {\"color\": \"#2a3f5f\"}, \"error_y\": {\"color\": \"#2a3f5f\"}, \"marker\": {\"line\": {\"color\": \"#E5ECF6\", \"width\": 0.5}}, \"type\": \"bar\"}], \"barpolar\": [{\"marker\": {\"line\": {\"color\": \"#E5ECF6\", \"width\": 0.5}}, \"type\": \"barpolar\"}], \"carpet\": [{\"aaxis\": {\"endlinecolor\": \"#2a3f5f\", \"gridcolor\": \"white\", \"linecolor\": \"white\", \"minorgridcolor\": \"white\", \"startlinecolor\": \"#2a3f5f\"}, \"baxis\": {\"endlinecolor\": \"#2a3f5f\", \"gridcolor\": \"white\", \"linecolor\": \"white\", \"minorgridcolor\": \"white\", \"startlinecolor\": \"#2a3f5f\"}, \"type\": \"carpet\"}], \"choropleth\": [{\"colorbar\": {\"outlinewidth\": 0, \"ticks\": \"\"}, \"type\": \"choropleth\"}], \"contour\": [{\"colorbar\": {\"outlinewidth\": 0, \"ticks\": \"\"}, \"colorscale\": [[0.0, \"#0d0887\"], [0.1111111111111111, \"#46039f\"], [0.2222222222222222, \"#7201a8\"], [0.3333333333333333, \"#9c179e\"], [0.4444444444444444, \"#bd3786\"], [0.5555555555555556, \"#d8576b\"], [0.6666666666666666, \"#ed7953\"], [0.7777777777777778, \"#fb9f3a\"], [0.8888888888888888, \"#fdca26\"], [1.0, \"#f0f921\"]], \"type\": \"contour\"}], \"contourcarpet\": [{\"colorbar\": {\"outlinewidth\": 0, \"ticks\": \"\"}, \"type\": \"contourcarpet\"}], \"heatmap\": [{\"colorbar\": {\"outlinewidth\": 0, \"ticks\": \"\"}, \"colorscale\": [[0.0, \"#0d0887\"], [0.1111111111111111, \"#46039f\"], [0.2222222222222222, \"#7201a8\"], [0.3333333333333333, \"#9c179e\"], [0.4444444444444444, \"#bd3786\"], [0.5555555555555556, \"#d8576b\"], [0.6666666666666666, \"#ed7953\"], [0.7777777777777778, \"#fb9f3a\"], [0.8888888888888888, \"#fdca26\"], [1.0, \"#f0f921\"]], \"type\": \"heatmap\"}], \"heatmapgl\": [{\"colorbar\": {\"outlinewidth\": 0, \"ticks\": \"\"}, \"colorscale\": [[0.0, \"#0d0887\"], [0.1111111111111111, \"#46039f\"], [0.2222222222222222, \"#7201a8\"], [0.3333333333333333, \"#9c179e\"], [0.4444444444444444, \"#bd3786\"], [0.5555555555555556, \"#d8576b\"], [0.6666666666666666, \"#ed7953\"], [0.7777777777777778, \"#fb9f3a\"], [0.8888888888888888, \"#fdca26\"], [1.0, \"#f0f921\"]], \"type\": \"heatmapgl\"}], \"histogram\": [{\"marker\": {\"colorbar\": {\"outlinewidth\": 0, \"ticks\": \"\"}}, \"type\": \"histogram\"}], \"histogram2d\": [{\"colorbar\": {\"outlinewidth\": 0, \"ticks\": \"\"}, \"colorscale\": [[0.0, \"#0d0887\"], [0.1111111111111111, \"#46039f\"], [0.2222222222222222, \"#7201a8\"], [0.3333333333333333, \"#9c179e\"], [0.4444444444444444, \"#bd3786\"], [0.5555555555555556, \"#d8576b\"], [0.6666666666666666, \"#ed7953\"], [0.7777777777777778, \"#fb9f3a\"], [0.8888888888888888, \"#fdca26\"], [1.0, \"#f0f921\"]], \"type\": \"histogram2d\"}], \"histogram2dcontour\": [{\"colorbar\": {\"outlinewidth\": 0, \"ticks\": \"\"}, \"colorscale\": [[0.0, \"#0d0887\"], [0.1111111111111111, \"#46039f\"], [0.2222222222222222, \"#7201a8\"], [0.3333333333333333, \"#9c179e\"], [0.4444444444444444, \"#bd3786\"], [0.5555555555555556, \"#d8576b\"], [0.6666666666666666, \"#ed7953\"], [0.7777777777777778, \"#fb9f3a\"], [0.8888888888888888, \"#fdca26\"], [1.0, \"#f0f921\"]], \"type\": \"histogram2dcontour\"}], \"mesh3d\": [{\"colorbar\": {\"outlinewidth\": 0, \"ticks\": \"\"}, \"type\": \"mesh3d\"}], \"parcoords\": [{\"line\": {\"colorbar\": {\"outlinewidth\": 0, \"ticks\": \"\"}}, \"type\": \"parcoords\"}], \"pie\": [{\"automargin\": true, \"type\": \"pie\"}], \"scatter\": [{\"marker\": {\"colorbar\": {\"outlinewidth\": 0, \"ticks\": \"\"}}, \"type\": \"scatter\"}], \"scatter3d\": [{\"line\": {\"colorbar\": {\"outlinewidth\": 0, \"ticks\": \"\"}}, \"marker\": {\"colorbar\": {\"outlinewidth\": 0, \"ticks\": \"\"}}, \"type\": \"scatter3d\"}], \"scattercarpet\": [{\"marker\": {\"colorbar\": {\"outlinewidth\": 0, \"ticks\": \"\"}}, \"type\": \"scattercarpet\"}], \"scattergeo\": [{\"marker\": {\"colorbar\": {\"outlinewidth\": 0, \"ticks\": \"\"}}, \"type\": \"scattergeo\"}], \"scattergl\": [{\"marker\": {\"colorbar\": {\"outlinewidth\": 0, \"ticks\": \"\"}}, \"type\": \"scattergl\"}], \"scattermapbox\": [{\"marker\": {\"colorbar\": {\"outlinewidth\": 0, \"ticks\": \"\"}}, \"type\": \"scattermapbox\"}], \"scatterpolar\": [{\"marker\": {\"colorbar\": {\"outlinewidth\": 0, \"ticks\": \"\"}}, \"type\": \"scatterpolar\"}], \"scatterpolargl\": [{\"marker\": {\"colorbar\": {\"outlinewidth\": 0, \"ticks\": \"\"}}, \"type\": \"scatterpolargl\"}], \"scatterternary\": [{\"marker\": {\"colorbar\": {\"outlinewidth\": 0, \"ticks\": \"\"}}, \"type\": \"scatterternary\"}], \"surface\": [{\"colorbar\": {\"outlinewidth\": 0, \"ticks\": \"\"}, \"colorscale\": [[0.0, \"#0d0887\"], [0.1111111111111111, \"#46039f\"], [0.2222222222222222, \"#7201a8\"], [0.3333333333333333, \"#9c179e\"], [0.4444444444444444, \"#bd3786\"], [0.5555555555555556, \"#d8576b\"], [0.6666666666666666, \"#ed7953\"], [0.7777777777777778, \"#fb9f3a\"], [0.8888888888888888, \"#fdca26\"], [1.0, \"#f0f921\"]], \"type\": \"surface\"}], \"table\": [{\"cells\": {\"fill\": {\"color\": \"#EBF0F8\"}, \"line\": {\"color\": \"white\"}}, \"header\": {\"fill\": {\"color\": \"#C8D4E3\"}, \"line\": {\"color\": \"white\"}}, \"type\": \"table\"}]}, \"layout\": {\"annotationdefaults\": {\"arrowcolor\": \"#2a3f5f\", \"arrowhead\": 0, \"arrowwidth\": 1}, \"coloraxis\": {\"colorbar\": {\"outlinewidth\": 0, \"ticks\": \"\"}}, \"colorscale\": {\"diverging\": [[0, \"#8e0152\"], [0.1, \"#c51b7d\"], [0.2, \"#de77ae\"], [0.3, \"#f1b6da\"], [0.4, \"#fde0ef\"], [0.5, \"#f7f7f7\"], [0.6, \"#e6f5d0\"], [0.7, \"#b8e186\"], [0.8, \"#7fbc41\"], [0.9, \"#4d9221\"], [1, \"#276419\"]], \"sequential\": [[0.0, \"#0d0887\"], [0.1111111111111111, \"#46039f\"], [0.2222222222222222, \"#7201a8\"], [0.3333333333333333, \"#9c179e\"], [0.4444444444444444, \"#bd3786\"], [0.5555555555555556, \"#d8576b\"], [0.6666666666666666, \"#ed7953\"], [0.7777777777777778, \"#fb9f3a\"], [0.8888888888888888, \"#fdca26\"], [1.0, \"#f0f921\"]], \"sequentialminus\": [[0.0, \"#0d0887\"], [0.1111111111111111, \"#46039f\"], [0.2222222222222222, \"#7201a8\"], [0.3333333333333333, \"#9c179e\"], [0.4444444444444444, \"#bd3786\"], [0.5555555555555556, \"#d8576b\"], [0.6666666666666666, \"#ed7953\"], [0.7777777777777778, \"#fb9f3a\"], [0.8888888888888888, \"#fdca26\"], [1.0, \"#f0f921\"]]}, \"colorway\": [\"#636efa\", \"#EF553B\", \"#00cc96\", \"#ab63fa\", \"#FFA15A\", \"#19d3f3\", \"#FF6692\", \"#B6E880\", \"#FF97FF\", \"#FECB52\"], \"font\": {\"color\": \"#2a3f5f\"}, \"geo\": {\"bgcolor\": \"white\", \"lakecolor\": \"white\", \"landcolor\": \"#E5ECF6\", \"showlakes\": true, \"showland\": true, \"subunitcolor\": \"white\"}, \"hoverlabel\": {\"align\": \"left\"}, \"hovermode\": \"closest\", \"mapbox\": {\"style\": \"light\"}, \"paper_bgcolor\": \"white\", \"plot_bgcolor\": \"#E5ECF6\", \"polar\": {\"angularaxis\": {\"gridcolor\": \"white\", \"linecolor\": \"white\", \"ticks\": \"\"}, \"bgcolor\": \"#E5ECF6\", \"radialaxis\": {\"gridcolor\": \"white\", \"linecolor\": \"white\", \"ticks\": \"\"}}, \"scene\": {\"xaxis\": {\"backgroundcolor\": \"#E5ECF6\", \"gridcolor\": \"white\", \"gridwidth\": 2, \"linecolor\": \"white\", \"showbackground\": true, \"ticks\": \"\", \"zerolinecolor\": \"white\"}, \"yaxis\": {\"backgroundcolor\": \"#E5ECF6\", \"gridcolor\": \"white\", \"gridwidth\": 2, \"linecolor\": \"white\", \"showbackground\": true, \"ticks\": \"\", \"zerolinecolor\": \"white\"}, \"zaxis\": {\"backgroundcolor\": \"#E5ECF6\", \"gridcolor\": \"white\", \"gridwidth\": 2, \"linecolor\": \"white\", \"showbackground\": true, \"ticks\": \"\", \"zerolinecolor\": \"white\"}}, \"shapedefaults\": {\"line\": {\"color\": \"#2a3f5f\"}}, \"ternary\": {\"aaxis\": {\"gridcolor\": \"white\", \"linecolor\": \"white\", \"ticks\": \"\"}, \"baxis\": {\"gridcolor\": \"white\", \"linecolor\": \"white\", \"ticks\": \"\"}, \"bgcolor\": \"#E5ECF6\", \"caxis\": {\"gridcolor\": \"white\", \"linecolor\": \"white\", \"ticks\": \"\"}}, \"title\": {\"x\": 0.05}, \"xaxis\": {\"automargin\": true, \"gridcolor\": \"white\", \"linecolor\": \"white\", \"ticks\": \"\", \"title\": {\"standoff\": 15}, \"zerolinecolor\": \"white\", \"zerolinewidth\": 2}, \"yaxis\": {\"automargin\": true, \"gridcolor\": \"white\", \"linecolor\": \"white\", \"ticks\": \"\", \"title\": {\"standoff\": 15}, \"zerolinecolor\": \"white\", \"zerolinewidth\": 2}}}, \"title\": {\"text\": \"Comparison of true prices (on the test dataset) with prices our model predicted\"}, \"xaxis\": {\"title\": {\"text\": \"Day number\"}}, \"yaxis\": {\"title\": {\"text\": \"Price, USD\"}}},\n",
              "                        {\"responsive\": true}\n",
              "                    ).then(function(){\n",
              "                            \n",
              "var gd = document.getElementById('e2d940e8-eb6e-4b5d-931c-fa12fd2bf8fb');\n",
              "var x = new MutationObserver(function (mutations, observer) {{\n",
              "        var display = window.getComputedStyle(gd).display;\n",
              "        if (!display || display === 'none') {{\n",
              "            console.log([gd, 'removed!']);\n",
              "            Plotly.purge(gd);\n",
              "            observer.disconnect();\n",
              "        }}\n",
              "}});\n",
              "\n",
              "// Listen for the removal of the full notebook cells\n",
              "var notebookContainer = gd.closest('#notebook-container');\n",
              "if (notebookContainer) {{\n",
              "    x.observe(notebookContainer, {childList: true});\n",
              "}}\n",
              "\n",
              "// Listen for the clearing of the current output cell\n",
              "var outputEl = gd.closest('.output');\n",
              "if (outputEl) {{\n",
              "    x.observe(outputEl, {childList: true});\n",
              "}}\n",
              "\n",
              "                        })\n",
              "                };\n",
              "                \n",
              "            </script>\n",
              "        </div>\n",
              "</body>\n",
              "</html>"
            ]
          },
          "metadata": {
            "tags": []
          }
        }
      ]
    },
    {
      "cell_type": "markdown",
      "metadata": {
        "id": "F0eg6rmjDazR",
        "colab_type": "text"
      },
      "source": [
        "# MLP on Keras "
      ]
    },
    {
      "cell_type": "markdown",
      "metadata": {
        "id": "av-XCkAbw4B_",
        "colab_type": "text"
      },
      "source": [
        "How to Tune Batch Size, number of neurons, the optimizer, the dropout_rate, activation function, learn_rate, momentum and Number of Epochs? \n",
        "\n",
        "\n",
        "Gridsearch for all. \n",
        "Epochs : I choose a big Epochs number and do early stopping. \n"
      ]
    },
    {
      "cell_type": "code",
      "metadata": {
        "id": "h4lQe0CPw1gz",
        "colab_type": "code",
        "outputId": "c739bd65-e66c-4efc-b0c2-74f662190e05",
        "colab": {
          "base_uri": "https://localhost:8080/",
          "height": 55
        }
      },
      "source": [
        "'''# Use scikit-learn to grid search the batch size \n",
        "import numpy\n",
        "from sklearn.model_selection import GridSearchCV\n",
        "from keras.wrappers.scikit_learn import KerasRegressor\n",
        "# Function to create model, required for KerasRegressor\n",
        "def create_model(neurons=1, neurons_2 = 1, dropout_rate=0.0, activation='relu', learn_rate=0.01, momentum=0, optimizer='adam'):\n",
        "  # create model\n",
        "  model = Sequential()\n",
        "  model.add(Dense(neurons, activation=activation,  input_shape = (mlp_train[0].shape)))\n",
        "  model.add(Dropout(dropout_rate))\n",
        "  model.add(Dense(neurons_2, activation=activation))\n",
        "  model.add(Dropout(dropout_rate))\n",
        "  model.add(Dense(hidden_size,kernel_regularizer= regularizers.l2(weight_penalty)))\n",
        "  # Compile model\n",
        "  optimizer = optimizer (lr=learn_rate, momentum=momentum)\n",
        "  model.compile(loss='mean_squared_error', optimizer=optimizer)\n",
        "  return model\n",
        "# fix random seed for reproducibility\n",
        "seed = 7\n",
        "numpy.random.seed(seed)\n",
        "# create model\n",
        "model_mlp_grid = KerasRegressor(build_fn=create_model, epochs=2, verbose=0)\n",
        "# define the grid search parameters\n",
        "neurons = [10,  25, 50, 100, 256]\n",
        "neurons_2 = [10,  25, 50, 100, 256]\n",
        "batch_size = [100,125,150,200]\n",
        "dropout_rate = [0.0, 0.1, 0.2, 0.3, 0.4, 0.5, 0.6, 0.7, 0.8, 0.9]\n",
        "learn_rate = [0.001, 0.01, 0.1, 0.2, 0.3]\n",
        "momentum = [0.1, 0.5, 0.9]\n",
        "activation = ['softmax', 'softplus', 'softsign', 'relu', 'tanh', 'sigmoid', 'hard_sigmoid', 'linear']\n",
        "optimizer = ['SGD', 'RMSprop', 'Adagrad', 'Adadelta', 'Adam', 'Adamax', 'Nadam']\n",
        "param_grid = dict(batch_size=batch_size, neurons=neurons, neurons_2 = neurons_2, optimizer=optimizer,dropout_rate=dropout_rate, activation=activation, learn_rate=learn_rate, momentum=momentum)\n",
        "grid = GridSearchCV(estimator=model_mlp_grid, param_grid=param_grid, n_jobs=-1, cv=3)\n",
        "grid_result = grid.fit(mlp_train, Y_train)\n",
        "# summarize results\n",
        "print(\"Best: %f using %s\" % (grid_result.best_score_, grid_result.best_params_))'''"
      ],
      "execution_count": 0,
      "outputs": [
        {
          "output_type": "execute_result",
          "data": {
            "text/plain": [
              "'# Use scikit-learn to grid search the batch size \\nimport numpy\\nfrom sklearn.model_selection import GridSearchCV\\nfrom keras.wrappers.scikit_learn import KerasRegressor\\n# Function to create model, required for KerasRegressor\\ndef create_model(neurons=1, neurons_2 = 1, dropout_rate=0.0, activation=\\'relu\\', learn_rate=0.01, momentum=0, optimizer=\\'adam\\'):\\n  # create model\\n  model = Sequential()\\n  model.add(Dense(neurons, activation=activation,  input_shape = (mlp_train[0].shape)))\\n  model.add(Dropout(dropout_rate))\\n  model.add(Dense(neurons_2, activation=activation))\\n  model.add(Dropout(dropout_rate))\\n  model.add(Dense(hidden_size,kernel_regularizer= regularizers.l2(weight_penalty)))\\n  # Compile model\\n  optimizer = optimizer (lr=learn_rate, momentum=momentum)\\n  model.compile(loss=\\'mean_squared_error\\', optimizer=optimizer)\\n  return model\\n# fix random seed for reproducibility\\nseed = 7\\nnumpy.random.seed(seed)\\n# create model\\nmodel_mlp_grid = KerasRegressor(build_fn=create_model, epochs=2, verbose=0)\\n# define the grid search parameters\\nneurons = [10,  25, 50, 100, 256]\\nneurons_2 = [10,  25, 50, 100, 256]\\nbatch_size = [100,125,150,200]\\ndropout_rate = [0.0, 0.1, 0.2, 0.3, 0.4, 0.5, 0.6, 0.7, 0.8, 0.9]\\nlearn_rate = [0.001, 0.01, 0.1, 0.2, 0.3]\\nmomentum = [0.1, 0.5, 0.9]\\nactivation = [\\'softmax\\', \\'softplus\\', \\'softsign\\', \\'relu\\', \\'tanh\\', \\'sigmoid\\', \\'hard_sigmoid\\', \\'linear\\']\\noptimizer = [\\'SGD\\', \\'RMSprop\\', \\'Adagrad\\', \\'Adadelta\\', \\'Adam\\', \\'Adamax\\', \\'Nadam\\']\\nparam_grid = dict(batch_size=batch_size, neurons=neurons, neurons_2 = neurons_2, optimizer=optimizer,dropout_rate=dropout_rate, activation=activation, learn_rate=learn_rate, momentum=momentum)\\ngrid = GridSearchCV(estimator=model_mlp_grid, param_grid=param_grid, n_jobs=-1, cv=3)\\ngrid_result = grid.fit(mlp_train, Y_train)\\n# summarize results\\nprint(\"Best: %f using %s\" % (grid_result.best_score_, grid_result.best_params_))'"
            ]
          },
          "metadata": {
            "tags": []
          },
          "execution_count": 28
        }
      ]
    },
    {
      "cell_type": "code",
      "metadata": {
        "id": "MmyygUavDazS",
        "colab_type": "code",
        "colab": {}
      },
      "source": [
        "# --------------------------------------\n",
        "# Network params\n",
        "# --------------------------------------\n",
        "# Network params\n",
        "batch = 125   # in each iteration, we consider 125 training examples at once\n",
        "epochs = 500    # we iterate 500 times maximum over the entire training set\n",
        "drop_prob = 0.1 # dropout with probability 0.1\n",
        "hidden_size = 1  # the Fully connected layer will have 1 neuron\n",
        "weight_penalty = 0.1 # Factor for weights penalty\n",
        "learning_rate = 0.001 \n"
      ],
      "execution_count": 0,
      "outputs": []
    },
    {
      "cell_type": "code",
      "metadata": {
        "id": "ltIc_vq1DazW",
        "colab_type": "code",
        "colab": {}
      },
      "source": [
        "mlp_train = X_train.reshape(X_train.shape[0],-1)\n",
        "mlp_test = X_test.reshape(X_test.shape[0],-1)\n"
      ],
      "execution_count": 0,
      "outputs": []
    },
    {
      "cell_type": "code",
      "metadata": {
        "id": "cXQIdhkdDaze",
        "colab_type": "code",
        "outputId": "30f43747-02a3-480b-fe25-05c63e00214b",
        "colab": {
          "base_uri": "https://localhost:8080/",
          "height": 277
        }
      },
      "source": [
        "# --------------------------------------\n",
        "# MLP network definition\n",
        "# --------------------------------------\n",
        "\n",
        "# initialize sequential model, add 2 stacked dense layers and densely connected output neuron\n",
        "model = Sequential()\n",
        "\n",
        "\n",
        "# Dense [25]  (with dropout)\n",
        "model.add(Dense(25, activation='tanh', kernel_regularizer= regularizers.l2(weight_penalty), input_shape = (mlp_train[0].shape)))\n",
        "model.add(Dropout(drop_prob))\n",
        "\n",
        "# Dense [1] (with dropout)\n",
        "model.add(Dense(hidden_size))\n",
        "\n",
        "\n",
        "        \n",
        "print(model.summary())\n"
      ],
      "execution_count": 0,
      "outputs": [
        {
          "output_type": "stream",
          "text": [
            "Model: \"sequential_1\"\n",
            "_________________________________________________________________\n",
            "Layer (type)                 Output Shape              Param #   \n",
            "=================================================================\n",
            "dense_1 (Dense)              (None, 25)                5275      \n",
            "_________________________________________________________________\n",
            "dropout_1 (Dropout)          (None, 25)                0         \n",
            "_________________________________________________________________\n",
            "dense_2 (Dense)              (None, 1)                 26        \n",
            "=================================================================\n",
            "Total params: 5,301\n",
            "Trainable params: 5,301\n",
            "Non-trainable params: 0\n",
            "_________________________________________________________________\n",
            "None\n"
          ],
          "name": "stdout"
        }
      ]
    },
    {
      "cell_type": "code",
      "metadata": {
        "id": "MvBjk3KmDazh",
        "colab_type": "code",
        "outputId": "1aa561b2-094a-44d8-ec8c-4126997c4496",
        "colab": {
          "base_uri": "https://localhost:8080/",
          "height": 1000
        }
      },
      "source": [
        "# --------------------------------------\n",
        "# Loss function and Optimizer\n",
        "# --------------------------------------\n",
        "from keras.optimizers import Adam\n",
        "optimizer = Adam(lr=learning_rate)\n",
        "model.compile(loss='mean_squared_error', # using MSE\n",
        "              optimizer=optimizer, # using the Adam optimiser\n",
        "              ) \n",
        "\n",
        "# --------------------------------------\n",
        "# Training\n",
        "# --------------------------------------\n",
        "start = time.time()\n",
        "history = model.fit(x_train, y_train, \n",
        "                    batch_size=batch, nb_epoch=epochs,\n",
        "                    shuffle=True, \n",
        "                    validation_split = 0.05,#validate on 5 months approx\n",
        "                   callbacks = [EarlyStopping(monitor='val_loss',  patience=20, verbose = 1)])\n",
        "end = time.time()\n",
        "                    \n"
      ],
      "execution_count": 0,
      "outputs": [
        {
          "output_type": "stream",
          "text": [
            "/usr/local/lib/python3.6/dist-packages/ipykernel_launcher.py:15: UserWarning:\n",
            "\n",
            "The `nb_epoch` argument in `fit` has been renamed `epochs`.\n",
            "\n"
          ],
          "name": "stderr"
        },
        {
          "output_type": "stream",
          "text": [
            "WARNING:tensorflow:From /usr/local/lib/python3.6/dist-packages/keras/backend/tensorflow_backend.py:422: The name tf.global_variables is deprecated. Please use tf.compat.v1.global_variables instead.\n",
            "\n",
            "Train on 2995 samples, validate on 158 samples\n",
            "Epoch 1/500\n",
            "2995/2995 [==============================] - 1s 472us/step - loss: 4.7057 - val_loss: 3.6615\n",
            "Epoch 2/500\n",
            "2995/2995 [==============================] - 0s 22us/step - loss: 3.1776 - val_loss: 2.7032\n",
            "Epoch 3/500\n",
            "2995/2995 [==============================] - 0s 24us/step - loss: 2.3004 - val_loss: 1.9652\n",
            "Epoch 4/500\n",
            "2995/2995 [==============================] - 0s 21us/step - loss: 1.6471 - val_loss: 1.3938\n",
            "Epoch 5/500\n",
            "2995/2995 [==============================] - 0s 22us/step - loss: 1.1805 - val_loss: 1.0189\n",
            "Epoch 6/500\n",
            "2995/2995 [==============================] - 0s 22us/step - loss: 0.8456 - val_loss: 0.7421\n",
            "Epoch 7/500\n",
            "2995/2995 [==============================] - 0s 24us/step - loss: 0.6186 - val_loss: 0.5555\n",
            "Epoch 8/500\n",
            "2995/2995 [==============================] - 0s 23us/step - loss: 0.4566 - val_loss: 0.4276\n",
            "Epoch 9/500\n",
            "2995/2995 [==============================] - 0s 22us/step - loss: 0.3432 - val_loss: 0.3190\n",
            "Epoch 10/500\n",
            "2995/2995 [==============================] - 0s 23us/step - loss: 0.2646 - val_loss: 0.2534\n",
            "Epoch 11/500\n",
            "2995/2995 [==============================] - 0s 25us/step - loss: 0.2080 - val_loss: 0.2059\n",
            "Epoch 12/500\n",
            "2995/2995 [==============================] - 0s 23us/step - loss: 0.1656 - val_loss: 0.1745\n",
            "Epoch 13/500\n",
            "2995/2995 [==============================] - 0s 23us/step - loss: 0.1376 - val_loss: 0.1442\n",
            "Epoch 14/500\n",
            "2995/2995 [==============================] - 0s 23us/step - loss: 0.1153 - val_loss: 0.1246\n",
            "Epoch 15/500\n",
            "2995/2995 [==============================] - 0s 24us/step - loss: 0.0964 - val_loss: 0.1113\n",
            "Epoch 16/500\n",
            "2995/2995 [==============================] - 0s 22us/step - loss: 0.0849 - val_loss: 0.0996\n",
            "Epoch 17/500\n",
            "2995/2995 [==============================] - 0s 21us/step - loss: 0.0748 - val_loss: 0.0898\n",
            "Epoch 18/500\n",
            "2995/2995 [==============================] - 0s 25us/step - loss: 0.0674 - val_loss: 0.0814\n",
            "Epoch 19/500\n",
            "2995/2995 [==============================] - 0s 23us/step - loss: 0.0570 - val_loss: 0.0836\n",
            "Epoch 20/500\n",
            "2995/2995 [==============================] - 0s 29us/step - loss: 0.0525 - val_loss: 0.0730\n",
            "Epoch 21/500\n",
            "2995/2995 [==============================] - 0s 22us/step - loss: 0.0477 - val_loss: 0.0652\n",
            "Epoch 22/500\n",
            "2995/2995 [==============================] - 0s 23us/step - loss: 0.0421 - val_loss: 0.0606\n",
            "Epoch 23/500\n",
            "2995/2995 [==============================] - 0s 22us/step - loss: 0.0388 - val_loss: 0.0588\n",
            "Epoch 24/500\n",
            "2995/2995 [==============================] - 0s 21us/step - loss: 0.0365 - val_loss: 0.0562\n",
            "Epoch 25/500\n",
            "2995/2995 [==============================] - 0s 21us/step - loss: 0.0354 - val_loss: 0.0682\n",
            "Epoch 26/500\n",
            "2995/2995 [==============================] - 0s 26us/step - loss: 0.0338 - val_loss: 0.0512\n",
            "Epoch 27/500\n",
            "2995/2995 [==============================] - 0s 23us/step - loss: 0.0327 - val_loss: 0.0528\n",
            "Epoch 28/500\n",
            "2995/2995 [==============================] - 0s 22us/step - loss: 0.0328 - val_loss: 0.0537\n",
            "Epoch 29/500\n",
            "2995/2995 [==============================] - 0s 24us/step - loss: 0.0283 - val_loss: 0.0515\n",
            "Epoch 30/500\n",
            "2995/2995 [==============================] - 0s 23us/step - loss: 0.0267 - val_loss: 0.0543\n",
            "Epoch 31/500\n",
            "2995/2995 [==============================] - 0s 25us/step - loss: 0.0273 - val_loss: 0.0464\n",
            "Epoch 32/500\n",
            "2995/2995 [==============================] - 0s 24us/step - loss: 0.0246 - val_loss: 0.0498\n",
            "Epoch 33/500\n",
            "2995/2995 [==============================] - 0s 23us/step - loss: 0.0259 - val_loss: 0.0899\n",
            "Epoch 34/500\n",
            "2995/2995 [==============================] - 0s 21us/step - loss: 0.0249 - val_loss: 0.0440\n",
            "Epoch 35/500\n",
            "2995/2995 [==============================] - 0s 21us/step - loss: 0.0244 - val_loss: 0.0426\n",
            "Epoch 36/500\n",
            "2995/2995 [==============================] - 0s 22us/step - loss: 0.0226 - val_loss: 0.0490\n",
            "Epoch 37/500\n",
            "2995/2995 [==============================] - 0s 22us/step - loss: 0.0231 - val_loss: 0.0508\n",
            "Epoch 38/500\n",
            "2995/2995 [==============================] - 0s 24us/step - loss: 0.0221 - val_loss: 0.0517\n",
            "Epoch 39/500\n",
            "2995/2995 [==============================] - 0s 22us/step - loss: 0.0236 - val_loss: 0.0411\n",
            "Epoch 40/500\n",
            "2995/2995 [==============================] - 0s 22us/step - loss: 0.0223 - val_loss: 0.0390\n",
            "Epoch 41/500\n",
            "2995/2995 [==============================] - 0s 24us/step - loss: 0.0213 - val_loss: 0.0401\n",
            "Epoch 42/500\n",
            "2995/2995 [==============================] - 0s 23us/step - loss: 0.0220 - val_loss: 0.0423\n",
            "Epoch 43/500\n",
            "2995/2995 [==============================] - 0s 22us/step - loss: 0.0236 - val_loss: 0.0419\n",
            "Epoch 44/500\n",
            "2995/2995 [==============================] - 0s 25us/step - loss: 0.0238 - val_loss: 0.0549\n",
            "Epoch 45/500\n",
            "2995/2995 [==============================] - 0s 22us/step - loss: 0.0211 - val_loss: 0.0385\n",
            "Epoch 46/500\n",
            "2995/2995 [==============================] - 0s 23us/step - loss: 0.0218 - val_loss: 0.0396\n",
            "Epoch 47/500\n",
            "2995/2995 [==============================] - 0s 25us/step - loss: 0.0215 - val_loss: 0.0638\n",
            "Epoch 48/500\n",
            "2995/2995 [==============================] - 0s 24us/step - loss: 0.0232 - val_loss: 0.0385\n",
            "Epoch 49/500\n",
            "2995/2995 [==============================] - 0s 24us/step - loss: 0.0197 - val_loss: 0.0385\n",
            "Epoch 50/500\n",
            "2995/2995 [==============================] - 0s 23us/step - loss: 0.0191 - val_loss: 0.0453\n",
            "Epoch 51/500\n",
            "2995/2995 [==============================] - 0s 25us/step - loss: 0.0193 - val_loss: 0.0408\n",
            "Epoch 52/500\n",
            "2995/2995 [==============================] - 0s 24us/step - loss: 0.0208 - val_loss: 0.0419\n",
            "Epoch 53/500\n",
            "2995/2995 [==============================] - 0s 25us/step - loss: 0.0193 - val_loss: 0.0397\n",
            "Epoch 54/500\n",
            "2995/2995 [==============================] - 0s 22us/step - loss: 0.0204 - val_loss: 0.0421\n",
            "Epoch 55/500\n",
            "2995/2995 [==============================] - 0s 23us/step - loss: 0.0205 - val_loss: 0.0374\n",
            "Epoch 56/500\n",
            "2995/2995 [==============================] - 0s 23us/step - loss: 0.0210 - val_loss: 0.0386\n",
            "Epoch 57/500\n",
            "2995/2995 [==============================] - 0s 25us/step - loss: 0.0225 - val_loss: 0.0376\n",
            "Epoch 58/500\n",
            "2995/2995 [==============================] - 0s 23us/step - loss: 0.0198 - val_loss: 0.0368\n",
            "Epoch 59/500\n",
            "2995/2995 [==============================] - 0s 23us/step - loss: 0.0218 - val_loss: 0.0378\n",
            "Epoch 60/500\n",
            "2995/2995 [==============================] - 0s 25us/step - loss: 0.0216 - val_loss: 0.0398\n",
            "Epoch 61/500\n",
            "2995/2995 [==============================] - 0s 28us/step - loss: 0.0230 - val_loss: 0.0445\n",
            "Epoch 62/500\n",
            "2995/2995 [==============================] - 0s 23us/step - loss: 0.0227 - val_loss: 0.0358\n",
            "Epoch 63/500\n",
            "2995/2995 [==============================] - 0s 23us/step - loss: 0.0222 - val_loss: 0.0812\n",
            "Epoch 64/500\n",
            "2995/2995 [==============================] - 0s 22us/step - loss: 0.0231 - val_loss: 0.0354\n",
            "Epoch 65/500\n",
            "2995/2995 [==============================] - 0s 22us/step - loss: 0.0199 - val_loss: 0.0461\n",
            "Epoch 66/500\n",
            "2995/2995 [==============================] - 0s 22us/step - loss: 0.0216 - val_loss: 0.0368\n",
            "Epoch 67/500\n",
            "2995/2995 [==============================] - 0s 24us/step - loss: 0.0224 - val_loss: 0.0503\n",
            "Epoch 68/500\n",
            "2995/2995 [==============================] - 0s 25us/step - loss: 0.0225 - val_loss: 0.0425\n",
            "Epoch 69/500\n",
            "2995/2995 [==============================] - 0s 22us/step - loss: 0.0209 - val_loss: 0.0510\n",
            "Epoch 70/500\n",
            "2995/2995 [==============================] - 0s 23us/step - loss: 0.0196 - val_loss: 0.0435\n",
            "Epoch 71/500\n",
            "2995/2995 [==============================] - 0s 22us/step - loss: 0.0208 - val_loss: 0.0985\n",
            "Epoch 72/500\n",
            "2995/2995 [==============================] - 0s 23us/step - loss: 0.0219 - val_loss: 0.0369\n",
            "Epoch 73/500\n",
            "2995/2995 [==============================] - 0s 23us/step - loss: 0.0235 - val_loss: 0.0806\n",
            "Epoch 74/500\n",
            "2995/2995 [==============================] - 0s 23us/step - loss: 0.0255 - val_loss: 0.0363\n",
            "Epoch 75/500\n",
            "2995/2995 [==============================] - 0s 22us/step - loss: 0.0185 - val_loss: 0.0371\n",
            "Epoch 76/500\n",
            "2995/2995 [==============================] - 0s 26us/step - loss: 0.0192 - val_loss: 0.0664\n",
            "Epoch 77/500\n",
            "2995/2995 [==============================] - 0s 23us/step - loss: 0.0220 - val_loss: 0.0376\n",
            "Epoch 78/500\n",
            "2995/2995 [==============================] - 0s 22us/step - loss: 0.0190 - val_loss: 0.0389\n",
            "Epoch 79/500\n",
            "2995/2995 [==============================] - 0s 25us/step - loss: 0.0205 - val_loss: 0.0340\n",
            "Epoch 80/500\n",
            "2995/2995 [==============================] - 0s 22us/step - loss: 0.0192 - val_loss: 0.0412\n",
            "Epoch 81/500\n",
            "2995/2995 [==============================] - 0s 23us/step - loss: 0.0195 - val_loss: 0.0392\n",
            "Epoch 82/500\n",
            "2995/2995 [==============================] - 0s 23us/step - loss: 0.0225 - val_loss: 0.0350\n",
            "Epoch 83/500\n",
            "2995/2995 [==============================] - 0s 22us/step - loss: 0.0227 - val_loss: 0.0472\n",
            "Epoch 84/500\n",
            "2995/2995 [==============================] - 0s 23us/step - loss: 0.0171 - val_loss: 0.0458\n",
            "Epoch 85/500\n",
            "2995/2995 [==============================] - 0s 22us/step - loss: 0.0187 - val_loss: 0.0359\n",
            "Epoch 86/500\n",
            "2995/2995 [==============================] - 0s 23us/step - loss: 0.0190 - val_loss: 0.0361\n",
            "Epoch 87/500\n",
            "2995/2995 [==============================] - 0s 24us/step - loss: 0.0204 - val_loss: 0.0352\n",
            "Epoch 88/500\n",
            "2995/2995 [==============================] - 0s 24us/step - loss: 0.0218 - val_loss: 0.0620\n",
            "Epoch 89/500\n",
            "2995/2995 [==============================] - 0s 22us/step - loss: 0.0214 - val_loss: 0.0335\n",
            "Epoch 90/500\n",
            "2995/2995 [==============================] - 0s 26us/step - loss: 0.0193 - val_loss: 0.0324\n",
            "Epoch 91/500\n",
            "2995/2995 [==============================] - 0s 22us/step - loss: 0.0229 - val_loss: 0.0695\n",
            "Epoch 92/500\n",
            "2995/2995 [==============================] - 0s 22us/step - loss: 0.0234 - val_loss: 0.0649\n",
            "Epoch 93/500\n",
            "2995/2995 [==============================] - 0s 23us/step - loss: 0.0229 - val_loss: 0.0374\n",
            "Epoch 94/500\n",
            "2995/2995 [==============================] - 0s 26us/step - loss: 0.0195 - val_loss: 0.0340\n",
            "Epoch 95/500\n",
            "2995/2995 [==============================] - 0s 24us/step - loss: 0.0181 - val_loss: 0.0375\n",
            "Epoch 96/500\n",
            "2995/2995 [==============================] - 0s 21us/step - loss: 0.0194 - val_loss: 0.0521\n",
            "Epoch 97/500\n",
            "2995/2995 [==============================] - 0s 22us/step - loss: 0.0200 - val_loss: 0.0346\n",
            "Epoch 98/500\n",
            "2995/2995 [==============================] - 0s 22us/step - loss: 0.0208 - val_loss: 0.0348\n",
            "Epoch 99/500\n",
            "2995/2995 [==============================] - 0s 24us/step - loss: 0.0197 - val_loss: 0.0649\n",
            "Epoch 100/500\n",
            "2995/2995 [==============================] - 0s 25us/step - loss: 0.0213 - val_loss: 0.0328\n",
            "Epoch 101/500\n",
            "2995/2995 [==============================] - 0s 27us/step - loss: 0.0206 - val_loss: 0.0488\n",
            "Epoch 102/500\n",
            "2995/2995 [==============================] - 0s 22us/step - loss: 0.0190 - val_loss: 0.0331\n",
            "Epoch 103/500\n",
            "2995/2995 [==============================] - 0s 23us/step - loss: 0.0215 - val_loss: 0.0492\n",
            "Epoch 104/500\n",
            "2995/2995 [==============================] - 0s 23us/step - loss: 0.0202 - val_loss: 0.0338\n",
            "Epoch 105/500\n",
            "2995/2995 [==============================] - 0s 24us/step - loss: 0.0201 - val_loss: 0.0340\n",
            "Epoch 106/500\n",
            "2995/2995 [==============================] - 0s 21us/step - loss: 0.0203 - val_loss: 0.0319\n",
            "Epoch 107/500\n",
            "2995/2995 [==============================] - 0s 23us/step - loss: 0.0185 - val_loss: 0.0422\n",
            "Epoch 108/500\n",
            "2995/2995 [==============================] - 0s 24us/step - loss: 0.0219 - val_loss: 0.0333\n",
            "Epoch 109/500\n",
            "2995/2995 [==============================] - 0s 23us/step - loss: 0.0185 - val_loss: 0.0497\n",
            "Epoch 110/500\n",
            "2995/2995 [==============================] - 0s 22us/step - loss: 0.0193 - val_loss: 0.0325\n",
            "Epoch 111/500\n",
            "2995/2995 [==============================] - 0s 23us/step - loss: 0.0182 - val_loss: 0.0366\n",
            "Epoch 112/500\n",
            "2995/2995 [==============================] - 0s 22us/step - loss: 0.0200 - val_loss: 0.0329\n",
            "Epoch 113/500\n",
            "2995/2995 [==============================] - 0s 22us/step - loss: 0.0213 - val_loss: 0.0558\n",
            "Epoch 114/500\n",
            "2995/2995 [==============================] - 0s 26us/step - loss: 0.0185 - val_loss: 0.0395\n",
            "Epoch 115/500\n",
            "2995/2995 [==============================] - 0s 22us/step - loss: 0.0178 - val_loss: 0.0336\n",
            "Epoch 116/500\n",
            "2995/2995 [==============================] - 0s 24us/step - loss: 0.0195 - val_loss: 0.0354\n",
            "Epoch 117/500\n",
            "2995/2995 [==============================] - 0s 22us/step - loss: 0.0194 - val_loss: 0.0407\n",
            "Epoch 118/500\n",
            "2995/2995 [==============================] - 0s 21us/step - loss: 0.0178 - val_loss: 0.0391\n",
            "Epoch 119/500\n",
            "2995/2995 [==============================] - 0s 25us/step - loss: 0.0173 - val_loss: 0.0314\n",
            "Epoch 120/500\n",
            "2995/2995 [==============================] - 0s 22us/step - loss: 0.0188 - val_loss: 0.0328\n",
            "Epoch 121/500\n",
            "2995/2995 [==============================] - 0s 25us/step - loss: 0.0196 - val_loss: 0.0331\n",
            "Epoch 122/500\n",
            "2995/2995 [==============================] - 0s 23us/step - loss: 0.0176 - val_loss: 0.0461\n",
            "Epoch 123/500\n",
            "2995/2995 [==============================] - 0s 22us/step - loss: 0.0199 - val_loss: 0.0305\n",
            "Epoch 124/500\n",
            "2995/2995 [==============================] - 0s 24us/step - loss: 0.0252 - val_loss: 0.0633\n",
            "Epoch 125/500\n",
            "2995/2995 [==============================] - 0s 23us/step - loss: 0.0188 - val_loss: 0.0474\n",
            "Epoch 126/500\n",
            "2995/2995 [==============================] - 0s 22us/step - loss: 0.0232 - val_loss: 0.0811\n",
            "Epoch 127/500\n",
            "2995/2995 [==============================] - 0s 23us/step - loss: 0.0247 - val_loss: 0.0357\n",
            "Epoch 128/500\n",
            "2995/2995 [==============================] - 0s 24us/step - loss: 0.0186 - val_loss: 0.0345\n",
            "Epoch 129/500\n",
            "2995/2995 [==============================] - 0s 21us/step - loss: 0.0213 - val_loss: 0.0328\n",
            "Epoch 130/500\n",
            "2995/2995 [==============================] - 0s 23us/step - loss: 0.0199 - val_loss: 0.0743\n",
            "Epoch 131/500\n",
            "2995/2995 [==============================] - 0s 22us/step - loss: 0.0207 - val_loss: 0.0306\n",
            "Epoch 132/500\n",
            "2995/2995 [==============================] - 0s 23us/step - loss: 0.0193 - val_loss: 0.0303\n",
            "Epoch 133/500\n",
            "2995/2995 [==============================] - 0s 26us/step - loss: 0.0185 - val_loss: 0.0352\n",
            "Epoch 134/500\n",
            "2995/2995 [==============================] - 0s 26us/step - loss: 0.0178 - val_loss: 0.0342\n",
            "Epoch 135/500\n",
            "2995/2995 [==============================] - 0s 22us/step - loss: 0.0167 - val_loss: 0.0424\n",
            "Epoch 136/500\n",
            "2995/2995 [==============================] - 0s 22us/step - loss: 0.0180 - val_loss: 0.0443\n",
            "Epoch 137/500\n",
            "2995/2995 [==============================] - 0s 23us/step - loss: 0.0197 - val_loss: 0.0422\n",
            "Epoch 138/500\n",
            "2995/2995 [==============================] - 0s 23us/step - loss: 0.0194 - val_loss: 0.0514\n",
            "Epoch 139/500\n",
            "2995/2995 [==============================] - 0s 21us/step - loss: 0.0179 - val_loss: 0.0382\n",
            "Epoch 140/500\n",
            "2995/2995 [==============================] - 0s 24us/step - loss: 0.0181 - val_loss: 0.0307\n",
            "Epoch 141/500\n",
            "2995/2995 [==============================] - 0s 22us/step - loss: 0.0174 - val_loss: 0.0454\n",
            "Epoch 142/500\n",
            "2995/2995 [==============================] - 0s 22us/step - loss: 0.0170 - val_loss: 0.0370\n",
            "Epoch 143/500\n",
            "2995/2995 [==============================] - 0s 24us/step - loss: 0.0165 - val_loss: 0.0408\n",
            "Epoch 144/500\n",
            "2995/2995 [==============================] - 0s 23us/step - loss: 0.0186 - val_loss: 0.0854\n",
            "Epoch 145/500\n",
            "2995/2995 [==============================] - 0s 23us/step - loss: 0.0238 - val_loss: 0.0507\n",
            "Epoch 146/500\n",
            "2995/2995 [==============================] - 0s 24us/step - loss: 0.0203 - val_loss: 0.0382\n",
            "Epoch 147/500\n",
            "2995/2995 [==============================] - 0s 23us/step - loss: 0.0180 - val_loss: 0.0659\n",
            "Epoch 148/500\n",
            "2995/2995 [==============================] - 0s 22us/step - loss: 0.0186 - val_loss: 0.0349\n",
            "Epoch 149/500\n",
            "2995/2995 [==============================] - 0s 27us/step - loss: 0.0229 - val_loss: 0.0349\n",
            "Epoch 150/500\n",
            "2995/2995 [==============================] - 0s 24us/step - loss: 0.0191 - val_loss: 0.0331\n",
            "Epoch 151/500\n",
            "2995/2995 [==============================] - 0s 23us/step - loss: 0.0193 - val_loss: 0.0323\n",
            "Epoch 152/500\n",
            "2995/2995 [==============================] - 0s 24us/step - loss: 0.0190 - val_loss: 0.0324\n",
            "Epoch 00152: early stopping\n"
          ],
          "name": "stdout"
        }
      ]
    },
    {
      "cell_type": "code",
      "metadata": {
        "id": "jNwuOGGwDazr",
        "colab_type": "code",
        "outputId": "f3927c50-40bc-4796-b2a9-eacd089930a4",
        "colab": {
          "base_uri": "https://localhost:8080/",
          "height": 52
        }
      },
      "source": [
        "# get predictions and then make some transformations to be able to calculate MSE properly in USD\n",
        "prediction = model.predict(x_test)\n",
        "print(prediction.shape)\n",
        "print(y_test.shape)\n"
      ],
      "execution_count": 0,
      "outputs": [
        {
          "output_type": "stream",
          "text": [
            "(120, 1)\n",
            "(120, 1)\n"
          ],
          "name": "stdout"
        }
      ]
    },
    {
      "cell_type": "code",
      "metadata": {
        "id": "HDJjgYU4Dazu",
        "colab_type": "code",
        "outputId": "92006cc2-5ef0-4de5-8218-93f0e63e604e",
        "colab": {
          "base_uri": "https://localhost:8080/",
          "height": 542
        }
      },
      "source": [
        "trace1 = go.Scatter(\n",
        "    x = np.arange(0, len(prediction), 1),\n",
        "    y = prediction[1:,0],\n",
        "    mode = 'lines',\n",
        "    name = 'Predicted labels',\n",
        "    line = dict(color=('rgb(244, 146, 65)'), width=2)\n",
        ")\n",
        "trace2 = go.Scatter(\n",
        "    x = np.arange(0, len(y_test), 1),\n",
        "    y = y_test[:,0],\n",
        "    mode = 'lines',\n",
        "    name = 'True labels',\n",
        "    line = dict(color=('rgb(66, 244, 155)'), width=2)\n",
        ")\n",
        "\n",
        "d = [trace1, trace2]\n",
        "layout = dict(title = 'Comparison of true prices (on the test dataset) with prices our model predicted',\n",
        "             xaxis = dict(title = 'Day number'), yaxis = dict(title = 'Price, USD'))\n",
        "fig = dict(data=d, layout=layout)\n",
        "py.iplot(fig, filename='results_demonstrating0')"
      ],
      "execution_count": 0,
      "outputs": [
        {
          "output_type": "display_data",
          "data": {
            "text/html": [
              "<html>\n",
              "<head><meta charset=\"utf-8\" /></head>\n",
              "<body>\n",
              "    <div>\n",
              "            <script src=\"https://cdnjs.cloudflare.com/ajax/libs/mathjax/2.7.5/MathJax.js?config=TeX-AMS-MML_SVG\"></script><script type=\"text/javascript\">if (window.MathJax) {MathJax.Hub.Config({SVG: {font: \"STIX-Web\"}});}</script>\n",
              "                <script type=\"text/javascript\">window.PlotlyConfig = {MathJaxConfig: 'local'};</script>\n",
              "        <script src=\"https://cdn.plot.ly/plotly-latest.min.js\"></script>    \n",
              "            <div id=\"55fd28f0-61ea-4eca-84e8-64e8d2594089\" class=\"plotly-graph-div\" style=\"height:525px; width:100%;\"></div>\n",
              "            <script type=\"text/javascript\">\n",
              "                \n",
              "                    window.PLOTLYENV=window.PLOTLYENV || {};\n",
              "                    \n",
              "                if (document.getElementById(\"55fd28f0-61ea-4eca-84e8-64e8d2594089\")) {\n",
              "                    Plotly.newPlot(\n",
              "                        '55fd28f0-61ea-4eca-84e8-64e8d2594089',\n",
              "                        [{\"line\": {\"color\": \"rgb(244, 146, 65)\", \"width\": 2}, \"mode\": \"lines\", \"name\": \"Predicted labels\", \"type\": \"scatter\", \"x\": [0, 1, 2, 3, 4, 5, 6, 7, 8, 9, 10, 11, 12, 13, 14, 15, 16, 17, 18, 19, 20, 21, 22, 23, 24, 25, 26, 27, 28, 29, 30, 31, 32, 33, 34, 35, 36, 37, 38, 39, 40, 41, 42, 43, 44, 45, 46, 47, 48, 49, 50, 51, 52, 53, 54, 55, 56, 57, 58, 59, 60, 61, 62, 63, 64, 65, 66, 67, 68, 69, 70, 71, 72, 73, 74, 75, 76, 77, 78, 79, 80, 81, 82, 83, 84, 85, 86, 87, 88, 89, 90, 91, 92, 93, 94, 95, 96, 97, 98, 99, 100, 101, 102, 103, 104, 105, 106, 107, 108, 109, 110, 111, 112, 113, 114, 115, 116, 117, 118, 119], \"y\": [-0.38050323724746704, -0.560484766960144, -0.6861851215362549, -0.7464180588722229, -0.7383705973625183, -0.7123715281486511, -0.6371345520019531, -0.603267252445221, -0.6218823194503784, -0.6567409038543701, -0.6733905076980591, -0.6753389835357666, -0.6706350445747375, -0.6333257555961609, -0.6067653894424438, -0.6045536398887634, -0.6351160407066345, -0.6964810490608215, -0.7500389218330383, -0.7824051976203918, -0.775504469871521, -0.7910690903663635, -0.7909665107727051, -0.8271759748458862, -0.9108495116233826, -0.8775091171264648, -0.841848611831665, -0.8191338777542114, -0.8089037537574768, -0.7373349070549011, -0.6936478614807129, -0.6929662823677063, -0.7106685638427734, -0.7075058221817017, -0.7134416699409485, -0.6956361532211304, -0.6642093062400818, -0.6770825982093811, -0.7056328654289246, -0.730688750743866, -0.7954553961753845, -0.7855884432792664, -0.7449535131454468, -0.6981082558631897, -0.5913827419281006, -0.4150329530239105, -0.2754826247692108, -0.2368903011083603, -0.15882353484630585, -0.09929434955120087, -0.04906481131911278, -0.022197604179382324, 0.12754671275615692, 0.2661327123641968, 0.35141435265541077, 0.44218167662620544, 0.5093982219696045, 0.5247441530227661, 0.504885733127594, 0.5101639628410339, 0.5214095711708069, 0.47966915369033813, 0.44489988684654236, 0.4025028645992279, 0.40451154112815857, 0.47391223907470703, 0.6286290884017944, 0.7473161816596985, 0.8635396957397461, 0.9359907507896423, 0.9951629638671875, 1.0222837924957275, 1.050048589706421, 1.0317926406860352, 1.0958551168441772, 1.1742359399795532, 1.2430810928344727, 1.2896100282669067, 1.3731313943862915, 1.3858600854873657, 1.457105040550232, 1.5641307830810547, 1.6360071897506714, 1.7108572721481323, 1.7025715112686157, 1.6650612354278564, 1.5905791521072388, 1.609001874923706, 1.5307263135910034, 1.4393094778060913, 1.3962050676345825, 1.3527376651763916, 1.3740335702896118, 1.347126841545105, 1.2631863355636597, 1.090578556060791, 0.943364679813385, 0.8106696605682373, 0.6918608546257019, 0.5960665345191956, 0.5818522572517395, 0.5500155091285706, 0.5149660110473633, 0.5397787094116211, 0.5870122313499451, 0.5891671180725098, 0.43197670578956604, 0.24078898131847382, 0.10536864399909973, -0.00491141714155674, -0.6181948184967041, -1.1334069967269897, -1.521875023841858, -1.777243733406067, -2.0766425132751465, -2.210095167160034, -2.288546562194824, -2.186879873275757, -2.043612241744995]}, {\"line\": {\"color\": \"rgb(66, 244, 155)\", \"width\": 2}, \"mode\": \"lines\", \"name\": \"True labels\", \"type\": \"scatter\", \"x\": [0, 1, 2, 3, 4, 5, 6, 7, 8, 9, 10, 11, 12, 13, 14, 15, 16, 17, 18, 19, 20, 21, 22, 23, 24, 25, 26, 27, 28, 29, 30, 31, 32, 33, 34, 35, 36, 37, 38, 39, 40, 41, 42, 43, 44, 45, 46, 47, 48, 49, 50, 51, 52, 53, 54, 55, 56, 57, 58, 59, 60, 61, 62, 63, 64, 65, 66, 67, 68, 69, 70, 71, 72, 73, 74, 75, 76, 77, 78, 79, 80, 81, 82, 83, 84, 85, 86, 87, 88, 89, 90, 91, 92, 93, 94, 95, 96, 97, 98, 99, 100, 101, 102, 103, 104, 105, 106, 107, 108, 109, 110, 111, 112, 113, 114, 115, 116, 117, 118, 119], \"y\": [-0.8037194170905599, -1.0280124766475254, -1.0018005762259632, -0.8935634317892968, -0.7059721044575563, -0.6385362639018578, -0.44443633827130974, -0.5325644497821793, -0.6961500379339011, -0.7828749970842486, -0.7736699794902202, -0.7658173979063341, -0.7350072150502898, -0.6120200653780139, -0.5885299424268624, -0.6071428430164402, -0.6955414417293379, -0.8278603998715927, -0.8691181509059824, -0.8760409327328966, -0.829846790261488, -0.9512701857970378, -0.9421581481787065, -1.0885593462765641, -1.3014074160977032, -0.9398421015113387, -0.8884748913011384, -0.8938592771665156, -0.9143824936204182, -0.686978831240127, -0.7050338519755207, -0.8096532300850577, -0.8763705890103681, -0.8332025221116527, -0.8717300429505691, -0.7867125342630261, -0.7063862879856628, -0.8225605412568487, -0.8792614209820464, -0.8811548313962448, -1.0385192139013144, -0.8416890580752929, -0.7516844416003521, -0.7222605056547028, -0.4792446600823363, -0.143122047936766, -0.11057905644272735, -0.3210180996208017, -0.1457001290810983, -0.12822834637507802, -0.09308191556151635, -0.10602303763356166, 0.35055090666526934, 0.44981970980968117, 0.40552743047753537, 0.5332312007351809, 0.5610406661937228, 0.4454750091271009, 0.33187883700024806, 0.3670168150887462, 0.36852140015002954, 0.16626459483331296, 0.13880169110236987, 0.08945468218231768, 0.24223768770303158, 0.5093268942559245, 0.877502239841857, 0.9086336262503101, 1.0083757819982726, 0.9434926644117164, 0.9684789196990871, 0.9221748918018559, 0.9467638690112478, 0.8100833047362849, 1.098591716599798, 1.2580101112952708, 1.3229016816068906, 1.364353845317738, 1.5726120854294594, 1.4129485617071478, 1.6228550832062287, 1.7922054298511807, 1.7140853448153612, 1.7496544118820923, 1.4863351207074704, 1.3911489837686744, 1.2503096787625252, 1.5491642261036236, 1.239177439854045, 1.1338480328391847, 1.2228383223065185, 1.2029490602323707, 1.4132528598094303, 1.2436658368627043, 0.973998549165479, 0.5573299198908965, 0.4626932100812202, 0.38420965786767475, 0.30997782636101334, 0.2769699349884875, 0.5020152870760938, 0.46014893983714067, 0.44973518255904854, 0.6649331099478096, 0.7541685284419823, 0.6239881097407642, 0.019778869484822725, -0.2620518895786162, -0.2626351276079895, -0.3052199564773316, -2.237411473266762, -2.4870288971136336, -2.502734060281406, -2.3556059278280976, -2.7578964717698593, -2.484180328767272, -2.459270148005472, -1.874569797195826, -1.6594817552328889, -1.7355478280783059]}],\n",
              "                        {\"template\": {\"data\": {\"bar\": [{\"error_x\": {\"color\": \"#2a3f5f\"}, \"error_y\": {\"color\": \"#2a3f5f\"}, \"marker\": {\"line\": {\"color\": \"#E5ECF6\", \"width\": 0.5}}, \"type\": \"bar\"}], \"barpolar\": [{\"marker\": {\"line\": {\"color\": \"#E5ECF6\", \"width\": 0.5}}, \"type\": \"barpolar\"}], \"carpet\": [{\"aaxis\": {\"endlinecolor\": \"#2a3f5f\", \"gridcolor\": \"white\", \"linecolor\": \"white\", \"minorgridcolor\": \"white\", \"startlinecolor\": \"#2a3f5f\"}, \"baxis\": {\"endlinecolor\": \"#2a3f5f\", \"gridcolor\": \"white\", \"linecolor\": \"white\", \"minorgridcolor\": \"white\", \"startlinecolor\": \"#2a3f5f\"}, \"type\": \"carpet\"}], \"choropleth\": [{\"colorbar\": {\"outlinewidth\": 0, \"ticks\": \"\"}, \"type\": \"choropleth\"}], \"contour\": [{\"colorbar\": {\"outlinewidth\": 0, \"ticks\": \"\"}, \"colorscale\": [[0.0, \"#0d0887\"], [0.1111111111111111, \"#46039f\"], [0.2222222222222222, \"#7201a8\"], [0.3333333333333333, \"#9c179e\"], [0.4444444444444444, \"#bd3786\"], [0.5555555555555556, \"#d8576b\"], [0.6666666666666666, \"#ed7953\"], [0.7777777777777778, \"#fb9f3a\"], [0.8888888888888888, \"#fdca26\"], [1.0, \"#f0f921\"]], \"type\": \"contour\"}], \"contourcarpet\": [{\"colorbar\": {\"outlinewidth\": 0, \"ticks\": \"\"}, \"type\": \"contourcarpet\"}], \"heatmap\": [{\"colorbar\": {\"outlinewidth\": 0, \"ticks\": \"\"}, \"colorscale\": [[0.0, \"#0d0887\"], [0.1111111111111111, \"#46039f\"], [0.2222222222222222, \"#7201a8\"], [0.3333333333333333, \"#9c179e\"], [0.4444444444444444, \"#bd3786\"], [0.5555555555555556, \"#d8576b\"], [0.6666666666666666, \"#ed7953\"], [0.7777777777777778, \"#fb9f3a\"], [0.8888888888888888, \"#fdca26\"], [1.0, \"#f0f921\"]], \"type\": \"heatmap\"}], \"heatmapgl\": [{\"colorbar\": {\"outlinewidth\": 0, \"ticks\": \"\"}, \"colorscale\": [[0.0, \"#0d0887\"], [0.1111111111111111, \"#46039f\"], [0.2222222222222222, \"#7201a8\"], [0.3333333333333333, \"#9c179e\"], [0.4444444444444444, \"#bd3786\"], [0.5555555555555556, \"#d8576b\"], [0.6666666666666666, \"#ed7953\"], [0.7777777777777778, \"#fb9f3a\"], [0.8888888888888888, \"#fdca26\"], [1.0, \"#f0f921\"]], \"type\": \"heatmapgl\"}], \"histogram\": [{\"marker\": {\"colorbar\": {\"outlinewidth\": 0, \"ticks\": \"\"}}, \"type\": \"histogram\"}], \"histogram2d\": [{\"colorbar\": {\"outlinewidth\": 0, \"ticks\": \"\"}, \"colorscale\": [[0.0, \"#0d0887\"], [0.1111111111111111, \"#46039f\"], [0.2222222222222222, \"#7201a8\"], [0.3333333333333333, \"#9c179e\"], [0.4444444444444444, \"#bd3786\"], [0.5555555555555556, \"#d8576b\"], [0.6666666666666666, \"#ed7953\"], [0.7777777777777778, \"#fb9f3a\"], [0.8888888888888888, \"#fdca26\"], [1.0, \"#f0f921\"]], \"type\": \"histogram2d\"}], \"histogram2dcontour\": [{\"colorbar\": {\"outlinewidth\": 0, \"ticks\": \"\"}, \"colorscale\": [[0.0, \"#0d0887\"], [0.1111111111111111, \"#46039f\"], [0.2222222222222222, \"#7201a8\"], [0.3333333333333333, \"#9c179e\"], [0.4444444444444444, \"#bd3786\"], [0.5555555555555556, \"#d8576b\"], [0.6666666666666666, \"#ed7953\"], [0.7777777777777778, \"#fb9f3a\"], [0.8888888888888888, \"#fdca26\"], [1.0, \"#f0f921\"]], \"type\": \"histogram2dcontour\"}], \"mesh3d\": [{\"colorbar\": {\"outlinewidth\": 0, \"ticks\": \"\"}, \"type\": \"mesh3d\"}], \"parcoords\": [{\"line\": {\"colorbar\": {\"outlinewidth\": 0, \"ticks\": \"\"}}, \"type\": \"parcoords\"}], \"pie\": [{\"automargin\": true, \"type\": \"pie\"}], \"scatter\": [{\"marker\": {\"colorbar\": {\"outlinewidth\": 0, \"ticks\": \"\"}}, \"type\": \"scatter\"}], \"scatter3d\": [{\"line\": {\"colorbar\": {\"outlinewidth\": 0, \"ticks\": \"\"}}, \"marker\": {\"colorbar\": {\"outlinewidth\": 0, \"ticks\": \"\"}}, \"type\": \"scatter3d\"}], \"scattercarpet\": [{\"marker\": {\"colorbar\": {\"outlinewidth\": 0, \"ticks\": \"\"}}, \"type\": \"scattercarpet\"}], \"scattergeo\": [{\"marker\": {\"colorbar\": {\"outlinewidth\": 0, \"ticks\": \"\"}}, \"type\": \"scattergeo\"}], \"scattergl\": [{\"marker\": {\"colorbar\": {\"outlinewidth\": 0, \"ticks\": \"\"}}, \"type\": \"scattergl\"}], \"scattermapbox\": [{\"marker\": {\"colorbar\": {\"outlinewidth\": 0, \"ticks\": \"\"}}, \"type\": \"scattermapbox\"}], \"scatterpolar\": [{\"marker\": {\"colorbar\": {\"outlinewidth\": 0, \"ticks\": \"\"}}, \"type\": \"scatterpolar\"}], \"scatterpolargl\": [{\"marker\": {\"colorbar\": {\"outlinewidth\": 0, \"ticks\": \"\"}}, \"type\": \"scatterpolargl\"}], \"scatterternary\": [{\"marker\": {\"colorbar\": {\"outlinewidth\": 0, \"ticks\": \"\"}}, \"type\": \"scatterternary\"}], \"surface\": [{\"colorbar\": {\"outlinewidth\": 0, \"ticks\": \"\"}, \"colorscale\": [[0.0, \"#0d0887\"], [0.1111111111111111, \"#46039f\"], [0.2222222222222222, \"#7201a8\"], [0.3333333333333333, \"#9c179e\"], [0.4444444444444444, \"#bd3786\"], [0.5555555555555556, \"#d8576b\"], [0.6666666666666666, \"#ed7953\"], [0.7777777777777778, \"#fb9f3a\"], [0.8888888888888888, \"#fdca26\"], [1.0, \"#f0f921\"]], \"type\": \"surface\"}], \"table\": [{\"cells\": {\"fill\": {\"color\": \"#EBF0F8\"}, \"line\": {\"color\": \"white\"}}, \"header\": {\"fill\": {\"color\": \"#C8D4E3\"}, \"line\": {\"color\": \"white\"}}, \"type\": \"table\"}]}, \"layout\": {\"annotationdefaults\": {\"arrowcolor\": \"#2a3f5f\", \"arrowhead\": 0, \"arrowwidth\": 1}, \"coloraxis\": {\"colorbar\": {\"outlinewidth\": 0, \"ticks\": \"\"}}, \"colorscale\": {\"diverging\": [[0, \"#8e0152\"], [0.1, \"#c51b7d\"], [0.2, \"#de77ae\"], [0.3, \"#f1b6da\"], [0.4, \"#fde0ef\"], [0.5, \"#f7f7f7\"], [0.6, \"#e6f5d0\"], [0.7, \"#b8e186\"], [0.8, \"#7fbc41\"], [0.9, \"#4d9221\"], [1, \"#276419\"]], \"sequential\": [[0.0, \"#0d0887\"], [0.1111111111111111, \"#46039f\"], [0.2222222222222222, \"#7201a8\"], [0.3333333333333333, \"#9c179e\"], [0.4444444444444444, \"#bd3786\"], [0.5555555555555556, \"#d8576b\"], [0.6666666666666666, \"#ed7953\"], [0.7777777777777778, \"#fb9f3a\"], [0.8888888888888888, \"#fdca26\"], [1.0, \"#f0f921\"]], \"sequentialminus\": [[0.0, \"#0d0887\"], [0.1111111111111111, \"#46039f\"], [0.2222222222222222, \"#7201a8\"], [0.3333333333333333, \"#9c179e\"], [0.4444444444444444, \"#bd3786\"], [0.5555555555555556, \"#d8576b\"], [0.6666666666666666, \"#ed7953\"], [0.7777777777777778, \"#fb9f3a\"], [0.8888888888888888, \"#fdca26\"], [1.0, \"#f0f921\"]]}, \"colorway\": [\"#636efa\", \"#EF553B\", \"#00cc96\", \"#ab63fa\", \"#FFA15A\", \"#19d3f3\", \"#FF6692\", \"#B6E880\", \"#FF97FF\", \"#FECB52\"], \"font\": {\"color\": \"#2a3f5f\"}, \"geo\": {\"bgcolor\": \"white\", \"lakecolor\": \"white\", \"landcolor\": \"#E5ECF6\", \"showlakes\": true, \"showland\": true, \"subunitcolor\": \"white\"}, \"hoverlabel\": {\"align\": \"left\"}, \"hovermode\": \"closest\", \"mapbox\": {\"style\": \"light\"}, \"paper_bgcolor\": \"white\", \"plot_bgcolor\": \"#E5ECF6\", \"polar\": {\"angularaxis\": {\"gridcolor\": \"white\", \"linecolor\": \"white\", \"ticks\": \"\"}, \"bgcolor\": \"#E5ECF6\", \"radialaxis\": {\"gridcolor\": \"white\", \"linecolor\": \"white\", \"ticks\": \"\"}}, \"scene\": {\"xaxis\": {\"backgroundcolor\": \"#E5ECF6\", \"gridcolor\": \"white\", \"gridwidth\": 2, \"linecolor\": \"white\", \"showbackground\": true, \"ticks\": \"\", \"zerolinecolor\": \"white\"}, \"yaxis\": {\"backgroundcolor\": \"#E5ECF6\", \"gridcolor\": \"white\", \"gridwidth\": 2, \"linecolor\": \"white\", \"showbackground\": true, \"ticks\": \"\", \"zerolinecolor\": \"white\"}, \"zaxis\": {\"backgroundcolor\": \"#E5ECF6\", \"gridcolor\": \"white\", \"gridwidth\": 2, \"linecolor\": \"white\", \"showbackground\": true, \"ticks\": \"\", \"zerolinecolor\": \"white\"}}, \"shapedefaults\": {\"line\": {\"color\": \"#2a3f5f\"}}, \"ternary\": {\"aaxis\": {\"gridcolor\": \"white\", \"linecolor\": \"white\", \"ticks\": \"\"}, \"baxis\": {\"gridcolor\": \"white\", \"linecolor\": \"white\", \"ticks\": \"\"}, \"bgcolor\": \"#E5ECF6\", \"caxis\": {\"gridcolor\": \"white\", \"linecolor\": \"white\", \"ticks\": \"\"}}, \"title\": {\"x\": 0.05}, \"xaxis\": {\"automargin\": true, \"gridcolor\": \"white\", \"linecolor\": \"white\", \"ticks\": \"\", \"title\": {\"standoff\": 15}, \"zerolinecolor\": \"white\", \"zerolinewidth\": 2}, \"yaxis\": {\"automargin\": true, \"gridcolor\": \"white\", \"linecolor\": \"white\", \"ticks\": \"\", \"title\": {\"standoff\": 15}, \"zerolinecolor\": \"white\", \"zerolinewidth\": 2}}}, \"title\": {\"text\": \"Comparison of true prices (on the test dataset) with prices our model predicted\"}, \"xaxis\": {\"title\": {\"text\": \"Day number\"}}, \"yaxis\": {\"title\": {\"text\": \"Price, USD\"}}},\n",
              "                        {\"responsive\": true}\n",
              "                    ).then(function(){\n",
              "                            \n",
              "var gd = document.getElementById('55fd28f0-61ea-4eca-84e8-64e8d2594089');\n",
              "var x = new MutationObserver(function (mutations, observer) {{\n",
              "        var display = window.getComputedStyle(gd).display;\n",
              "        if (!display || display === 'none') {{\n",
              "            console.log([gd, 'removed!']);\n",
              "            Plotly.purge(gd);\n",
              "            observer.disconnect();\n",
              "        }}\n",
              "}});\n",
              "\n",
              "// Listen for the removal of the full notebook cells\n",
              "var notebookContainer = gd.closest('#notebook-container');\n",
              "if (notebookContainer) {{\n",
              "    x.observe(notebookContainer, {childList: true});\n",
              "}}\n",
              "\n",
              "// Listen for the clearing of the current output cell\n",
              "var outputEl = gd.closest('.output');\n",
              "if (outputEl) {{\n",
              "    x.observe(outputEl, {childList: true});\n",
              "}}\n",
              "\n",
              "                        })\n",
              "                };\n",
              "                \n",
              "            </script>\n",
              "        </div>\n",
              "</body>\n",
              "</html>"
            ]
          },
          "metadata": {
            "tags": []
          }
        }
      ]
    },
    {
      "cell_type": "code",
      "metadata": {
        "id": "GIizwH6HRpvX",
        "colab_type": "code",
        "outputId": "a236d990-3d85-4145-8896-d7e802f9c34d",
        "colab": {
          "base_uri": "https://localhost:8080/",
          "height": 35
        }
      },
      "source": [
        "history.history.keys()"
      ],
      "execution_count": 0,
      "outputs": [
        {
          "output_type": "execute_result",
          "data": {
            "text/plain": [
              "dict_keys(['val_loss', 'loss'])"
            ]
          },
          "metadata": {
            "tags": []
          },
          "execution_count": 35
        }
      ]
    },
    {
      "cell_type": "code",
      "metadata": {
        "id": "nllGrivUm3x3",
        "colab_type": "code",
        "outputId": "6591ddad-be4e-484a-bbda-0472474aa2ba",
        "colab": {
          "base_uri": "https://localhost:8080/",
          "height": 52
        }
      },
      "source": [
        "mse_mlp_keras = mean_squared_error(y_test, prediction)\n",
        "print(\" MSE MLP Keras (on test set) = \", mse_mlp_keras)\n",
        "time_mlp_keras = end - start\n",
        "print(\"time_mlp_keras : %f sec \" %(time_mlp_keras))"
      ],
      "execution_count": 0,
      "outputs": [
        {
          "output_type": "stream",
          "text": [
            " MSE MLP Keras (on test set) =  0.1702090687134538\n",
            "time_mlp_keras : 13.805968 sec \n"
          ],
          "name": "stdout"
        }
      ]
    },
    {
      "cell_type": "code",
      "metadata": {
        "id": "TIVUQ_50Dazx",
        "colab_type": "code",
        "outputId": "7dc0d53b-6889-4ea4-e286-8cbfcf63e512",
        "colab": {
          "base_uri": "https://localhost:8080/",
          "height": 542
        }
      },
      "source": [
        "trace1 = go.Scatter(\n",
        "    x = np.arange(0, len(history.history['loss']), 1),\n",
        "    y = history.history['loss'],\n",
        "    mode = 'lines',\n",
        "    name = 'Train loss',\n",
        "    line = dict(color=('rgb(66, 244, 155)'), width=2, dash='dash')\n",
        ")\n",
        "trace2 = go.Scatter(\n",
        "    x = np.arange(0, len(history.history['val_loss']), 1),\n",
        "    y = history.history['val_loss'],\n",
        "    mode = 'lines',\n",
        "    name = 'Test loss',\n",
        "    line = dict(color=('rgb(244, 146, 65)'), width=2)\n",
        ")\n",
        "\n",
        "d = [trace1, trace2]\n",
        "layout = dict(title = 'Train and Test Loss during training',\n",
        "              xaxis = dict(title = 'Epoch number'), yaxis = dict(title = 'Loss'))\n",
        "fig = dict(data=d, layout=layout)\n",
        "py.iplot(fig, filename='training_process')"
      ],
      "execution_count": 0,
      "outputs": [
        {
          "output_type": "display_data",
          "data": {
            "text/html": [
              "<html>\n",
              "<head><meta charset=\"utf-8\" /></head>\n",
              "<body>\n",
              "    <div>\n",
              "            <script src=\"https://cdnjs.cloudflare.com/ajax/libs/mathjax/2.7.5/MathJax.js?config=TeX-AMS-MML_SVG\"></script><script type=\"text/javascript\">if (window.MathJax) {MathJax.Hub.Config({SVG: {font: \"STIX-Web\"}});}</script>\n",
              "                <script type=\"text/javascript\">window.PlotlyConfig = {MathJaxConfig: 'local'};</script>\n",
              "        <script src=\"https://cdn.plot.ly/plotly-latest.min.js\"></script>    \n",
              "            <div id=\"870f438a-c571-432b-93ad-fda90b4466dd\" class=\"plotly-graph-div\" style=\"height:525px; width:100%;\"></div>\n",
              "            <script type=\"text/javascript\">\n",
              "                \n",
              "                    window.PLOTLYENV=window.PLOTLYENV || {};\n",
              "                    \n",
              "                if (document.getElementById(\"870f438a-c571-432b-93ad-fda90b4466dd\")) {\n",
              "                    Plotly.newPlot(\n",
              "                        '870f438a-c571-432b-93ad-fda90b4466dd',\n",
              "                        [{\"line\": {\"color\": \"rgb(66, 244, 155)\", \"dash\": \"dash\", \"width\": 2}, \"mode\": \"lines\", \"name\": \"Train loss\", \"type\": \"scatter\", \"x\": [0, 1, 2, 3, 4, 5, 6, 7, 8, 9, 10, 11, 12, 13, 14, 15, 16, 17, 18, 19, 20, 21, 22, 23, 24, 25, 26, 27, 28, 29, 30, 31, 32, 33, 34, 35, 36, 37, 38, 39, 40, 41, 42, 43, 44, 45, 46, 47, 48, 49, 50, 51, 52, 53, 54, 55, 56, 57, 58, 59, 60, 61, 62, 63, 64, 65, 66, 67, 68, 69, 70, 71, 72, 73, 74, 75, 76, 77, 78, 79, 80, 81, 82, 83, 84, 85, 86, 87, 88, 89, 90, 91, 92, 93, 94, 95, 96, 97, 98, 99, 100, 101, 102, 103, 104, 105, 106, 107, 108, 109, 110, 111, 112, 113, 114, 115, 116, 117, 118, 119, 120, 121, 122, 123, 124, 125, 126, 127, 128, 129, 130, 131, 132, 133, 134, 135, 136, 137, 138, 139, 140, 141, 142, 143, 144, 145, 146, 147, 148, 149, 150, 151], \"y\": [4.705687187748879, 3.1776306290857383, 2.3004001213831575, 1.6471283015902334, 1.180501935378538, 0.8456333070645149, 0.6186463688570192, 0.4565786578022379, 0.3432323356502641, 0.26464940110013163, 0.20800742260701272, 0.1656486246243542, 0.13763742412569527, 0.1152957186401388, 0.09637124386176044, 0.08491941485460693, 0.0748333214146267, 0.06743241567320139, 0.05698735139430664, 0.0525143277615259, 0.047677983295091604, 0.04208043157332927, 0.03882137879119791, 0.03646997149679219, 0.035370718187128565, 0.0338413696145275, 0.03267018616398507, 0.03277622052283339, 0.028283924719502213, 0.02666526254832446, 0.027345236428144182, 0.02455259156172383, 0.02594728454114101, 0.024868338273990532, 0.02443128217552759, 0.022627972349375237, 0.02309424903100739, 0.022129965479639614, 0.02357036098589085, 0.022273748323246714, 0.021267245470768522, 0.02200236734009048, 0.02358926707670366, 0.023766763051209942, 0.02110533777294752, 0.021838238246689158, 0.021529013776097554, 0.023197125980882395, 0.019711402848126593, 0.01906858856956131, 0.01931433585816015, 0.020766629134685747, 0.019273355469505656, 0.02036731505614141, 0.020497725639050713, 0.02099956958267048, 0.022461399369140798, 0.019760571546131162, 0.021792298803208567, 0.02163228011676087, 0.023012309611925796, 0.02269067646988445, 0.02222027502742554, 0.023100054370416623, 0.019902681157565077, 0.02162206180872573, 0.022401577746417864, 0.022517386519152652, 0.020905154468009685, 0.019552968765837522, 0.020803526406159286, 0.021881418325977155, 0.023542827688692407, 0.025496491170387235, 0.018503027839060618, 0.019246350970734936, 0.02198222292764408, 0.01900310199458979, 0.020500957183788634, 0.019214531032054474, 0.019451256846085514, 0.022541103663796774, 0.02273478770693873, 0.01714248815940099, 0.018743271393723202, 0.018960715243546214, 0.020440434219194375, 0.0218454956299375, 0.021385998855374493, 0.01933699756555993, 0.022863843296351338, 0.02337590491831402, 0.022855771952720736, 0.01947264849225398, 0.018094702815024403, 0.019425718314348656, 0.02001247159943905, 0.020848505113441777, 0.019656368060183643, 0.021301917145603984, 0.020619813977851096, 0.01902627230517703, 0.02146052518775547, 0.020237904185046736, 0.02010121855897229, 0.020322033819837344, 0.01849374057062729, 0.021929660686081858, 0.018450001316869597, 0.019279789025638757, 0.01822209964119184, 0.019965538828134635, 0.021262164784281303, 0.01850513045758457, 0.01776219338632635, 0.01953737498051137, 0.019362164367431888, 0.0178466089946748, 0.017262498882345743, 0.01879892021088001, 0.01961464842374068, 0.01761806280801511, 0.019943344479858974, 0.025197872881138565, 0.018809907315594326, 0.02324728246075482, 0.02466942958738997, 0.01856843821038935, 0.021256968267075408, 0.019938490418826102, 0.020681766755816733, 0.019281831824956134, 0.018458127535456708, 0.017788073058879136, 0.016665834104813298, 0.017989170879050966, 0.01974096240939103, 0.019415465203768422, 0.017916970404303432, 0.018062682456969716, 0.01740286102322535, 0.016978841791168875, 0.016462869491297535, 0.01863992970766428, 0.023796015851299136, 0.020273463701042587, 0.01797436653498019, 0.01862264192275989, 0.022852422335248857, 0.01905773753278542, 0.019288352799472806, 0.019016019737220467]}, {\"line\": {\"color\": \"rgb(244, 146, 65)\", \"width\": 2}, \"mode\": \"lines\", \"name\": \"Test loss\", \"type\": \"scatter\", \"x\": [0, 1, 2, 3, 4, 5, 6, 7, 8, 9, 10, 11, 12, 13, 14, 15, 16, 17, 18, 19, 20, 21, 22, 23, 24, 25, 26, 27, 28, 29, 30, 31, 32, 33, 34, 35, 36, 37, 38, 39, 40, 41, 42, 43, 44, 45, 46, 47, 48, 49, 50, 51, 52, 53, 54, 55, 56, 57, 58, 59, 60, 61, 62, 63, 64, 65, 66, 67, 68, 69, 70, 71, 72, 73, 74, 75, 76, 77, 78, 79, 80, 81, 82, 83, 84, 85, 86, 87, 88, 89, 90, 91, 92, 93, 94, 95, 96, 97, 98, 99, 100, 101, 102, 103, 104, 105, 106, 107, 108, 109, 110, 111, 112, 113, 114, 115, 116, 117, 118, 119, 120, 121, 122, 123, 124, 125, 126, 127, 128, 129, 130, 131, 132, 133, 134, 135, 136, 137, 138, 139, 140, 141, 142, 143, 144, 145, 146, 147, 148, 149, 150, 151], \"y\": [3.661473995522608, 2.7031746348248253, 1.9651651005201702, 1.393819108794007, 1.0189201733734035, 0.7420821008802969, 0.5554643409161628, 0.42760710154153125, 0.31895587979992734, 0.2534312843521939, 0.20588483020097395, 0.17448227965756308, 0.14416121653740918, 0.12462964323879797, 0.11131552220145359, 0.09957361193020133, 0.08979650402936755, 0.08139524231605892, 0.08361983700077745, 0.0730111517389364, 0.0651739844227139, 0.06062815248777595, 0.058750467139142976, 0.05624858773301674, 0.068198599581477, 0.05120108385063425, 0.052813232793838163, 0.053664340814457666, 0.051537494446280634, 0.0542552926212172, 0.0463667652699389, 0.049784510820821117, 0.08993352562943592, 0.043958337340928334, 0.042618631656411325, 0.04904245068849642, 0.05078898615474942, 0.0517044240207989, 0.041080352307969255, 0.03901072638698771, 0.04011614575887783, 0.042270991102426866, 0.041919868180080304, 0.05494088974274412, 0.03854449746446519, 0.03960781817949271, 0.06384675269592789, 0.03845587273753142, 0.03850602613219732, 0.04527565276933999, 0.040794310431125795, 0.041881491158959235, 0.03969635672961609, 0.04206730563287871, 0.0373819732119011, 0.03862902739002735, 0.03760803582830519, 0.036796214412662044, 0.03779533335679694, 0.03984511136725734, 0.044515667671832855, 0.03580103005883815, 0.08115974884433082, 0.03537903643578668, 0.04613230856064754, 0.036832918660550176, 0.0503410146442018, 0.042491661644057384, 0.050955544968571846, 0.04352070292151427, 0.09849064092187187, 0.036890376665735546, 0.08064692347204383, 0.0362604969664465, 0.037139089754487896, 0.06643237408156259, 0.03764460237013011, 0.03888304967763303, 0.034015492689383184, 0.04118396392492931, 0.039227578058084356, 0.03502721505687584, 0.04724828066610837, 0.04577348845763297, 0.03592945849876615, 0.036120018556336814, 0.0351508088480634, 0.06198382155993317, 0.033506660557151596, 0.032413012348115444, 0.06947549300480492, 0.06486413288342802, 0.03735241697087318, 0.03397202423384672, 0.03748817470726333, 0.05211122461323497, 0.034557890842515454, 0.03475284442022632, 0.06486638003512274, 0.032822149829302406, 0.04882690602842765, 0.033063593414859684, 0.04918134257291691, 0.03376499579960032, 0.034020484095038495, 0.03185008857635003, 0.042241376942565925, 0.033276741793732856, 0.049678442905409424, 0.03254149748083157, 0.03656778784020792, 0.03294727396031347, 0.055819977039494845, 0.03949187844520128, 0.033622484795654876, 0.03544111167894134, 0.04074432420296759, 0.03906803841030673, 0.031425080038135565, 0.03281853324438952, 0.033072577235347865, 0.04611989556328405, 0.030506263545985464, 0.0632780745059629, 0.047390199525729766, 0.08109071791832205, 0.035667942459636094, 0.03448086128204684, 0.032836426662493354, 0.07432939786511132, 0.03062104398408268, 0.03032356471153377, 0.03519319649785757, 0.03416443939167488, 0.04237868405784233, 0.04431768595182066, 0.0422242363514025, 0.05139283681453406, 0.03824049981806097, 0.03070230686541977, 0.04538717436828191, 0.03701577111607111, 0.04084645277714428, 0.08537195535683179, 0.05072166637482145, 0.0382405867965161, 0.06588462339360503, 0.034882695567381536, 0.03485878578186789, 0.03308328189238717, 0.032304920845582515, 0.03235847625551345]}],\n",
              "                        {\"template\": {\"data\": {\"bar\": [{\"error_x\": {\"color\": \"#2a3f5f\"}, \"error_y\": {\"color\": \"#2a3f5f\"}, \"marker\": {\"line\": {\"color\": \"#E5ECF6\", \"width\": 0.5}}, \"type\": \"bar\"}], \"barpolar\": [{\"marker\": {\"line\": {\"color\": \"#E5ECF6\", \"width\": 0.5}}, \"type\": \"barpolar\"}], \"carpet\": [{\"aaxis\": {\"endlinecolor\": \"#2a3f5f\", \"gridcolor\": \"white\", \"linecolor\": \"white\", \"minorgridcolor\": \"white\", \"startlinecolor\": \"#2a3f5f\"}, \"baxis\": {\"endlinecolor\": \"#2a3f5f\", \"gridcolor\": \"white\", \"linecolor\": \"white\", \"minorgridcolor\": \"white\", \"startlinecolor\": \"#2a3f5f\"}, \"type\": \"carpet\"}], \"choropleth\": [{\"colorbar\": {\"outlinewidth\": 0, \"ticks\": \"\"}, \"type\": \"choropleth\"}], \"contour\": [{\"colorbar\": {\"outlinewidth\": 0, \"ticks\": \"\"}, \"colorscale\": [[0.0, \"#0d0887\"], [0.1111111111111111, \"#46039f\"], [0.2222222222222222, \"#7201a8\"], [0.3333333333333333, \"#9c179e\"], [0.4444444444444444, \"#bd3786\"], [0.5555555555555556, \"#d8576b\"], [0.6666666666666666, \"#ed7953\"], [0.7777777777777778, \"#fb9f3a\"], [0.8888888888888888, \"#fdca26\"], [1.0, \"#f0f921\"]], \"type\": \"contour\"}], \"contourcarpet\": [{\"colorbar\": {\"outlinewidth\": 0, \"ticks\": \"\"}, \"type\": \"contourcarpet\"}], \"heatmap\": [{\"colorbar\": {\"outlinewidth\": 0, \"ticks\": \"\"}, \"colorscale\": [[0.0, \"#0d0887\"], [0.1111111111111111, \"#46039f\"], [0.2222222222222222, \"#7201a8\"], [0.3333333333333333, \"#9c179e\"], [0.4444444444444444, \"#bd3786\"], [0.5555555555555556, \"#d8576b\"], [0.6666666666666666, \"#ed7953\"], [0.7777777777777778, \"#fb9f3a\"], [0.8888888888888888, \"#fdca26\"], [1.0, \"#f0f921\"]], \"type\": \"heatmap\"}], \"heatmapgl\": [{\"colorbar\": {\"outlinewidth\": 0, \"ticks\": \"\"}, \"colorscale\": [[0.0, \"#0d0887\"], [0.1111111111111111, \"#46039f\"], [0.2222222222222222, \"#7201a8\"], [0.3333333333333333, \"#9c179e\"], [0.4444444444444444, \"#bd3786\"], [0.5555555555555556, \"#d8576b\"], [0.6666666666666666, \"#ed7953\"], [0.7777777777777778, \"#fb9f3a\"], [0.8888888888888888, \"#fdca26\"], [1.0, \"#f0f921\"]], \"type\": \"heatmapgl\"}], \"histogram\": [{\"marker\": {\"colorbar\": {\"outlinewidth\": 0, \"ticks\": \"\"}}, \"type\": \"histogram\"}], \"histogram2d\": [{\"colorbar\": {\"outlinewidth\": 0, \"ticks\": \"\"}, \"colorscale\": [[0.0, \"#0d0887\"], [0.1111111111111111, \"#46039f\"], [0.2222222222222222, \"#7201a8\"], [0.3333333333333333, \"#9c179e\"], [0.4444444444444444, \"#bd3786\"], [0.5555555555555556, \"#d8576b\"], [0.6666666666666666, \"#ed7953\"], [0.7777777777777778, \"#fb9f3a\"], [0.8888888888888888, \"#fdca26\"], [1.0, \"#f0f921\"]], \"type\": \"histogram2d\"}], \"histogram2dcontour\": [{\"colorbar\": {\"outlinewidth\": 0, \"ticks\": \"\"}, \"colorscale\": [[0.0, \"#0d0887\"], [0.1111111111111111, \"#46039f\"], [0.2222222222222222, \"#7201a8\"], [0.3333333333333333, \"#9c179e\"], [0.4444444444444444, \"#bd3786\"], [0.5555555555555556, \"#d8576b\"], [0.6666666666666666, \"#ed7953\"], [0.7777777777777778, \"#fb9f3a\"], [0.8888888888888888, \"#fdca26\"], [1.0, \"#f0f921\"]], \"type\": \"histogram2dcontour\"}], \"mesh3d\": [{\"colorbar\": {\"outlinewidth\": 0, \"ticks\": \"\"}, \"type\": \"mesh3d\"}], \"parcoords\": [{\"line\": {\"colorbar\": {\"outlinewidth\": 0, \"ticks\": \"\"}}, \"type\": \"parcoords\"}], \"pie\": [{\"automargin\": true, \"type\": \"pie\"}], \"scatter\": [{\"marker\": {\"colorbar\": {\"outlinewidth\": 0, \"ticks\": \"\"}}, \"type\": \"scatter\"}], \"scatter3d\": [{\"line\": {\"colorbar\": {\"outlinewidth\": 0, \"ticks\": \"\"}}, \"marker\": {\"colorbar\": {\"outlinewidth\": 0, \"ticks\": \"\"}}, \"type\": \"scatter3d\"}], \"scattercarpet\": [{\"marker\": {\"colorbar\": {\"outlinewidth\": 0, \"ticks\": \"\"}}, \"type\": \"scattercarpet\"}], \"scattergeo\": [{\"marker\": {\"colorbar\": {\"outlinewidth\": 0, \"ticks\": \"\"}}, \"type\": \"scattergeo\"}], \"scattergl\": [{\"marker\": {\"colorbar\": {\"outlinewidth\": 0, \"ticks\": \"\"}}, \"type\": \"scattergl\"}], \"scattermapbox\": [{\"marker\": {\"colorbar\": {\"outlinewidth\": 0, \"ticks\": \"\"}}, \"type\": \"scattermapbox\"}], \"scatterpolar\": [{\"marker\": {\"colorbar\": {\"outlinewidth\": 0, \"ticks\": \"\"}}, \"type\": \"scatterpolar\"}], \"scatterpolargl\": [{\"marker\": {\"colorbar\": {\"outlinewidth\": 0, \"ticks\": \"\"}}, \"type\": \"scatterpolargl\"}], \"scatterternary\": [{\"marker\": {\"colorbar\": {\"outlinewidth\": 0, \"ticks\": \"\"}}, \"type\": \"scatterternary\"}], \"surface\": [{\"colorbar\": {\"outlinewidth\": 0, \"ticks\": \"\"}, \"colorscale\": [[0.0, \"#0d0887\"], [0.1111111111111111, \"#46039f\"], [0.2222222222222222, \"#7201a8\"], [0.3333333333333333, \"#9c179e\"], [0.4444444444444444, \"#bd3786\"], [0.5555555555555556, \"#d8576b\"], [0.6666666666666666, \"#ed7953\"], [0.7777777777777778, \"#fb9f3a\"], [0.8888888888888888, \"#fdca26\"], [1.0, \"#f0f921\"]], \"type\": \"surface\"}], \"table\": [{\"cells\": {\"fill\": {\"color\": \"#EBF0F8\"}, \"line\": {\"color\": \"white\"}}, \"header\": {\"fill\": {\"color\": \"#C8D4E3\"}, \"line\": {\"color\": \"white\"}}, \"type\": \"table\"}]}, \"layout\": {\"annotationdefaults\": {\"arrowcolor\": \"#2a3f5f\", \"arrowhead\": 0, \"arrowwidth\": 1}, \"coloraxis\": {\"colorbar\": {\"outlinewidth\": 0, \"ticks\": \"\"}}, \"colorscale\": {\"diverging\": [[0, \"#8e0152\"], [0.1, \"#c51b7d\"], [0.2, \"#de77ae\"], [0.3, \"#f1b6da\"], [0.4, \"#fde0ef\"], [0.5, \"#f7f7f7\"], [0.6, \"#e6f5d0\"], [0.7, \"#b8e186\"], [0.8, \"#7fbc41\"], [0.9, \"#4d9221\"], [1, \"#276419\"]], \"sequential\": [[0.0, \"#0d0887\"], [0.1111111111111111, \"#46039f\"], [0.2222222222222222, \"#7201a8\"], [0.3333333333333333, \"#9c179e\"], [0.4444444444444444, \"#bd3786\"], [0.5555555555555556, \"#d8576b\"], [0.6666666666666666, \"#ed7953\"], [0.7777777777777778, \"#fb9f3a\"], [0.8888888888888888, \"#fdca26\"], [1.0, \"#f0f921\"]], \"sequentialminus\": [[0.0, \"#0d0887\"], [0.1111111111111111, \"#46039f\"], [0.2222222222222222, \"#7201a8\"], [0.3333333333333333, \"#9c179e\"], [0.4444444444444444, \"#bd3786\"], [0.5555555555555556, \"#d8576b\"], [0.6666666666666666, \"#ed7953\"], [0.7777777777777778, \"#fb9f3a\"], [0.8888888888888888, \"#fdca26\"], [1.0, \"#f0f921\"]]}, \"colorway\": [\"#636efa\", \"#EF553B\", \"#00cc96\", \"#ab63fa\", \"#FFA15A\", \"#19d3f3\", \"#FF6692\", \"#B6E880\", \"#FF97FF\", \"#FECB52\"], \"font\": {\"color\": \"#2a3f5f\"}, \"geo\": {\"bgcolor\": \"white\", \"lakecolor\": \"white\", \"landcolor\": \"#E5ECF6\", \"showlakes\": true, \"showland\": true, \"subunitcolor\": \"white\"}, \"hoverlabel\": {\"align\": \"left\"}, \"hovermode\": \"closest\", \"mapbox\": {\"style\": \"light\"}, \"paper_bgcolor\": \"white\", \"plot_bgcolor\": \"#E5ECF6\", \"polar\": {\"angularaxis\": {\"gridcolor\": \"white\", \"linecolor\": \"white\", \"ticks\": \"\"}, \"bgcolor\": \"#E5ECF6\", \"radialaxis\": {\"gridcolor\": \"white\", \"linecolor\": \"white\", \"ticks\": \"\"}}, \"scene\": {\"xaxis\": {\"backgroundcolor\": \"#E5ECF6\", \"gridcolor\": \"white\", \"gridwidth\": 2, \"linecolor\": \"white\", \"showbackground\": true, \"ticks\": \"\", \"zerolinecolor\": \"white\"}, \"yaxis\": {\"backgroundcolor\": \"#E5ECF6\", \"gridcolor\": \"white\", \"gridwidth\": 2, \"linecolor\": \"white\", \"showbackground\": true, \"ticks\": \"\", \"zerolinecolor\": \"white\"}, \"zaxis\": {\"backgroundcolor\": \"#E5ECF6\", \"gridcolor\": \"white\", \"gridwidth\": 2, \"linecolor\": \"white\", \"showbackground\": true, \"ticks\": \"\", \"zerolinecolor\": \"white\"}}, \"shapedefaults\": {\"line\": {\"color\": \"#2a3f5f\"}}, \"ternary\": {\"aaxis\": {\"gridcolor\": \"white\", \"linecolor\": \"white\", \"ticks\": \"\"}, \"baxis\": {\"gridcolor\": \"white\", \"linecolor\": \"white\", \"ticks\": \"\"}, \"bgcolor\": \"#E5ECF6\", \"caxis\": {\"gridcolor\": \"white\", \"linecolor\": \"white\", \"ticks\": \"\"}}, \"title\": {\"x\": 0.05}, \"xaxis\": {\"automargin\": true, \"gridcolor\": \"white\", \"linecolor\": \"white\", \"ticks\": \"\", \"title\": {\"standoff\": 15}, \"zerolinecolor\": \"white\", \"zerolinewidth\": 2}, \"yaxis\": {\"automargin\": true, \"gridcolor\": \"white\", \"linecolor\": \"white\", \"ticks\": \"\", \"title\": {\"standoff\": 15}, \"zerolinecolor\": \"white\", \"zerolinewidth\": 2}}}, \"title\": {\"text\": \"Train and Test Loss during training\"}, \"xaxis\": {\"title\": {\"text\": \"Epoch number\"}}, \"yaxis\": {\"title\": {\"text\": \"Loss\"}}},\n",
              "                        {\"responsive\": true}\n",
              "                    ).then(function(){\n",
              "                            \n",
              "var gd = document.getElementById('870f438a-c571-432b-93ad-fda90b4466dd');\n",
              "var x = new MutationObserver(function (mutations, observer) {{\n",
              "        var display = window.getComputedStyle(gd).display;\n",
              "        if (!display || display === 'none') {{\n",
              "            console.log([gd, 'removed!']);\n",
              "            Plotly.purge(gd);\n",
              "            observer.disconnect();\n",
              "        }}\n",
              "}});\n",
              "\n",
              "// Listen for the removal of the full notebook cells\n",
              "var notebookContainer = gd.closest('#notebook-container');\n",
              "if (notebookContainer) {{\n",
              "    x.observe(notebookContainer, {childList: true});\n",
              "}}\n",
              "\n",
              "// Listen for the clearing of the current output cell\n",
              "var outputEl = gd.closest('.output');\n",
              "if (outputEl) {{\n",
              "    x.observe(outputEl, {childList: true});\n",
              "}}\n",
              "\n",
              "                        })\n",
              "                };\n",
              "                \n",
              "            </script>\n",
              "        </div>\n",
              "</body>\n",
              "</html>"
            ]
          },
          "metadata": {
            "tags": []
          }
        }
      ]
    },
    {
      "cell_type": "markdown",
      "metadata": {
        "id": "tyViB32VTiKA",
        "colab_type": "text"
      },
      "source": [
        "LSTM Neural Network"
      ]
    },
    {
      "cell_type": "code",
      "metadata": {
        "id": "9bEBirPWDaz1",
        "colab_type": "code",
        "colab": {}
      },
      "source": [
        "# --------------------------------------\n",
        "# Network params\n",
        "# --------------------------------------\n",
        "# Network params\n",
        "batch = 100   # in each iteration, we consider 125 training examples at once\n",
        "epochs = 500    # we iterate 20 times over the entire training set\n",
        "drop_prob = 0 # dropout with probability 0.1\n",
        "hidden_size = 1  # the Fully connected layer will have 1 neuron\n",
        "weight_penalty = 0.0001 # Factor for weights penalty\n",
        "learning_rate = 0.001"
      ],
      "execution_count": 0,
      "outputs": []
    },
    {
      "cell_type": "code",
      "metadata": {
        "id": "VobYRhdMDa0C",
        "colab_type": "code",
        "outputId": "df0dc5d9-0312-43af-8d5c-cce2819ba154",
        "colab": {
          "base_uri": "https://localhost:8080/",
          "height": 243
        }
      },
      "source": [
        "# --------------------------------------\n",
        "# LSTM network definition\n",
        "# --------------------------------------\n",
        "\n",
        "# initialize sequential model, add 2 stacked dense layers and densely connected output neuron\n",
        "model = Sequential()\n",
        "\n",
        "# LSTM [50]  (with dropout)\n",
        "model.add(LSTM(50, activation='tanh', return_sequences=False,dropout= drop_prob, input_shape = (X_train.shape[1], X_train.shape[2])))\n",
        "\n",
        "# Dense [1] \n",
        "model.add(Dense(hidden_size,kernel_regularizer= regularizers.l2(weight_penalty)))\n",
        "\n",
        "          \n",
        "print(model.summary())\n"
      ],
      "execution_count": 0,
      "outputs": [
        {
          "output_type": "stream",
          "text": [
            "Model: \"sequential_2\"\n",
            "_________________________________________________________________\n",
            "Layer (type)                 Output Shape              Param #   \n",
            "=================================================================\n",
            "lstm_1 (LSTM)                (None, 50)                11600     \n",
            "_________________________________________________________________\n",
            "dense_3 (Dense)              (None, 1)                 51        \n",
            "=================================================================\n",
            "Total params: 11,651\n",
            "Trainable params: 11,651\n",
            "Non-trainable params: 0\n",
            "_________________________________________________________________\n",
            "None\n"
          ],
          "name": "stdout"
        }
      ]
    },
    {
      "cell_type": "code",
      "metadata": {
        "id": "alc8_f4nDa0F",
        "colab_type": "code",
        "outputId": "28e4e02c-00fa-4347-8320-410be3e672d2",
        "colab": {
          "base_uri": "https://localhost:8080/",
          "height": 1000
        }
      },
      "source": [
        "# --------------------------------------\n",
        "# Loss function and Optimizer\n",
        "# --------------------------------------\n",
        "from keras.optimizers import Adam\n",
        "optimizer = Adam(lr=learning_rate)\n",
        "model.compile(loss='mean_squared_error', # using MSE\n",
        "              optimizer=optimizer, # using the Adam optimiser\n",
        "              ) \n",
        "\n",
        "# --------------------------------------\n",
        "# Training\n",
        "# --------------------------------------\n",
        "start = time.time()\n",
        "history = model.fit(X_train, Y_train, \n",
        "                    batch_size=batch, nb_epoch=epochs,\n",
        "                    shuffle=False, \n",
        "                    validation_split = 0.05,\n",
        "                    use_multiprocessing = True,\n",
        "                   callbacks = [EarlyStopping(monitor='val_loss', patience=20, verbose = 1)])\n",
        "end = time.time()\n",
        "                    \n"
      ],
      "execution_count": 0,
      "outputs": [
        {
          "output_type": "stream",
          "text": [
            "/usr/local/lib/python3.6/dist-packages/ipykernel_launcher.py:16: UserWarning:\n",
            "\n",
            "The `nb_epoch` argument in `fit` has been renamed `epochs`.\n",
            "\n"
          ],
          "name": "stderr"
        },
        {
          "output_type": "stream",
          "text": [
            "Train on 2995 samples, validate on 158 samples\n",
            "Epoch 1/500\n",
            "2995/2995 [==============================] - 1s 368us/step - loss: 0.4750 - val_loss: 1.6404\n",
            "Epoch 2/500\n",
            "2995/2995 [==============================] - 1s 272us/step - loss: 0.1194 - val_loss: 0.1533\n",
            "Epoch 3/500\n",
            "2995/2995 [==============================] - 1s 264us/step - loss: 0.1452 - val_loss: 0.0741\n",
            "Epoch 4/500\n",
            "2995/2995 [==============================] - 1s 268us/step - loss: 0.1239 - val_loss: 0.0922\n",
            "Epoch 5/500\n",
            "2995/2995 [==============================] - 1s 278us/step - loss: 0.1788 - val_loss: 0.7536\n",
            "Epoch 6/500\n",
            "2995/2995 [==============================] - 1s 274us/step - loss: 0.0538 - val_loss: 0.1019\n",
            "Epoch 7/500\n",
            "2995/2995 [==============================] - 1s 276us/step - loss: 0.0328 - val_loss: 0.0520\n",
            "Epoch 8/500\n",
            "2995/2995 [==============================] - 1s 273us/step - loss: 0.0233 - val_loss: 0.0422\n",
            "Epoch 9/500\n",
            "2995/2995 [==============================] - 1s 269us/step - loss: 0.0178 - val_loss: 0.0411\n",
            "Epoch 10/500\n",
            "2995/2995 [==============================] - 1s 271us/step - loss: 0.0157 - val_loss: 0.0392\n",
            "Epoch 11/500\n",
            "2995/2995 [==============================] - 1s 272us/step - loss: 0.0140 - val_loss: 0.0347\n",
            "Epoch 12/500\n",
            "2995/2995 [==============================] - 1s 277us/step - loss: 0.0167 - val_loss: 0.0364\n",
            "Epoch 13/500\n",
            "2995/2995 [==============================] - 1s 277us/step - loss: 0.0197 - val_loss: 0.0324\n",
            "Epoch 14/500\n",
            "2995/2995 [==============================] - 1s 273us/step - loss: 0.0380 - val_loss: 0.0432\n",
            "Epoch 15/500\n",
            "2995/2995 [==============================] - 1s 272us/step - loss: 0.0303 - val_loss: 0.0314\n",
            "Epoch 16/500\n",
            "2995/2995 [==============================] - 1s 259us/step - loss: 0.0527 - val_loss: 0.0904\n",
            "Epoch 17/500\n",
            "2995/2995 [==============================] - 1s 275us/step - loss: 0.0243 - val_loss: 0.0355\n",
            "Epoch 18/500\n",
            "2995/2995 [==============================] - 1s 271us/step - loss: 0.0294 - val_loss: 0.0438\n",
            "Epoch 19/500\n",
            "2995/2995 [==============================] - 1s 267us/step - loss: 0.0174 - val_loss: 0.0333\n",
            "Epoch 20/500\n",
            "2995/2995 [==============================] - 1s 267us/step - loss: 0.0206 - val_loss: 0.0324\n",
            "Epoch 21/500\n",
            "2995/2995 [==============================] - 1s 265us/step - loss: 0.0147 - val_loss: 0.0308\n",
            "Epoch 22/500\n",
            "2995/2995 [==============================] - 1s 272us/step - loss: 0.0182 - val_loss: 0.0298\n",
            "Epoch 23/500\n",
            "2995/2995 [==============================] - 1s 272us/step - loss: 0.0140 - val_loss: 0.0291\n",
            "Epoch 24/500\n",
            "2995/2995 [==============================] - 1s 262us/step - loss: 0.0180 - val_loss: 0.0293\n",
            "Epoch 25/500\n",
            "2995/2995 [==============================] - 1s 277us/step - loss: 0.0141 - val_loss: 0.0278\n",
            "Epoch 26/500\n",
            "2995/2995 [==============================] - 1s 268us/step - loss: 0.0188 - val_loss: 0.0300\n",
            "Epoch 27/500\n",
            "2995/2995 [==============================] - 1s 267us/step - loss: 0.0144 - val_loss: 0.0270\n",
            "Epoch 28/500\n",
            "2995/2995 [==============================] - 1s 267us/step - loss: 0.0196 - val_loss: 0.0310\n",
            "Epoch 29/500\n",
            "2995/2995 [==============================] - 1s 269us/step - loss: 0.0146 - val_loss: 0.0264\n",
            "Epoch 30/500\n",
            "2995/2995 [==============================] - 1s 263us/step - loss: 0.0199 - val_loss: 0.0315\n",
            "Epoch 31/500\n",
            "2995/2995 [==============================] - 1s 273us/step - loss: 0.0144 - val_loss: 0.0259\n",
            "Epoch 32/500\n",
            "2995/2995 [==============================] - 1s 264us/step - loss: 0.0194 - val_loss: 0.0311\n",
            "Epoch 33/500\n",
            "2995/2995 [==============================] - 1s 267us/step - loss: 0.0139 - val_loss: 0.0254\n",
            "Epoch 34/500\n",
            "2995/2995 [==============================] - 1s 267us/step - loss: 0.0185 - val_loss: 0.0301\n",
            "Epoch 35/500\n",
            "2995/2995 [==============================] - 1s 266us/step - loss: 0.0134 - val_loss: 0.0249\n",
            "Epoch 36/500\n",
            "2995/2995 [==============================] - 1s 270us/step - loss: 0.0176 - val_loss: 0.0290\n",
            "Epoch 37/500\n",
            "2995/2995 [==============================] - 1s 265us/step - loss: 0.0129 - val_loss: 0.0243\n",
            "Epoch 38/500\n",
            "2995/2995 [==============================] - 1s 274us/step - loss: 0.0169 - val_loss: 0.0280\n",
            "Epoch 39/500\n",
            "2995/2995 [==============================] - 1s 271us/step - loss: 0.0125 - val_loss: 0.0238\n",
            "Epoch 40/500\n",
            "2995/2995 [==============================] - 1s 266us/step - loss: 0.0164 - val_loss: 0.0272\n",
            "Epoch 41/500\n",
            "2995/2995 [==============================] - 1s 267us/step - loss: 0.0122 - val_loss: 0.0232\n",
            "Epoch 42/500\n",
            "2995/2995 [==============================] - 1s 272us/step - loss: 0.0160 - val_loss: 0.0265\n",
            "Epoch 43/500\n",
            "2995/2995 [==============================] - 1s 267us/step - loss: 0.0120 - val_loss: 0.0228\n",
            "Epoch 44/500\n",
            "2995/2995 [==============================] - 1s 273us/step - loss: 0.0160 - val_loss: 0.0258\n",
            "Epoch 45/500\n",
            "2995/2995 [==============================] - 1s 276us/step - loss: 0.0119 - val_loss: 0.0220\n",
            "Epoch 46/500\n",
            "2995/2995 [==============================] - 1s 273us/step - loss: 0.0163 - val_loss: 0.0249\n",
            "Epoch 47/500\n",
            "2995/2995 [==============================] - 1s 275us/step - loss: 0.0121 - val_loss: 0.0214\n",
            "Epoch 48/500\n",
            "2995/2995 [==============================] - 1s 278us/step - loss: 0.0171 - val_loss: 0.0241\n",
            "Epoch 49/500\n",
            "2995/2995 [==============================] - 1s 268us/step - loss: 0.0129 - val_loss: 0.0212\n",
            "Epoch 50/500\n",
            "2995/2995 [==============================] - 1s 270us/step - loss: 0.0183 - val_loss: 0.0260\n",
            "Epoch 51/500\n",
            "2995/2995 [==============================] - 1s 274us/step - loss: 0.0131 - val_loss: 0.0211\n",
            "Epoch 52/500\n",
            "2995/2995 [==============================] - 1s 265us/step - loss: 0.0175 - val_loss: 0.0270\n",
            "Epoch 53/500\n",
            "2995/2995 [==============================] - 1s 265us/step - loss: 0.0122 - val_loss: 0.0216\n",
            "Epoch 54/500\n",
            "2995/2995 [==============================] - 1s 271us/step - loss: 0.0151 - val_loss: 0.0249\n",
            "Epoch 55/500\n",
            "2995/2995 [==============================] - 1s 262us/step - loss: 0.0109 - val_loss: 0.0210\n",
            "Epoch 56/500\n",
            "2995/2995 [==============================] - 1s 263us/step - loss: 0.0132 - val_loss: 0.0230\n",
            "Epoch 57/500\n",
            "2995/2995 [==============================] - 1s 270us/step - loss: 0.0099 - val_loss: 0.0208\n",
            "Epoch 58/500\n",
            "2995/2995 [==============================] - 1s 263us/step - loss: 0.0117 - val_loss: 0.0213\n",
            "Epoch 59/500\n",
            "2995/2995 [==============================] - 1s 267us/step - loss: 0.0094 - val_loss: 0.0202\n",
            "Epoch 60/500\n",
            "2995/2995 [==============================] - 1s 264us/step - loss: 0.0113 - val_loss: 0.0207\n",
            "Epoch 61/500\n",
            "2995/2995 [==============================] - 1s 266us/step - loss: 0.0092 - val_loss: 0.0198\n",
            "Epoch 62/500\n",
            "2995/2995 [==============================] - 1s 264us/step - loss: 0.0113 - val_loss: 0.0204\n",
            "Epoch 63/500\n",
            "2995/2995 [==============================] - 1s 278us/step - loss: 0.0094 - val_loss: 0.0194\n",
            "Epoch 64/500\n",
            "2995/2995 [==============================] - 1s 280us/step - loss: 0.0117 - val_loss: 0.0205\n",
            "Epoch 65/500\n",
            "2995/2995 [==============================] - 1s 269us/step - loss: 0.0097 - val_loss: 0.0191\n",
            "Epoch 66/500\n",
            "2995/2995 [==============================] - 1s 273us/step - loss: 0.0123 - val_loss: 0.0209\n",
            "Epoch 67/500\n",
            "2995/2995 [==============================] - 1s 264us/step - loss: 0.0100 - val_loss: 0.0188\n",
            "Epoch 68/500\n",
            "2995/2995 [==============================] - 1s 270us/step - loss: 0.0129 - val_loss: 0.0213\n",
            "Epoch 69/500\n",
            "2995/2995 [==============================] - 1s 271us/step - loss: 0.0103 - val_loss: 0.0186\n",
            "Epoch 70/500\n",
            "2995/2995 [==============================] - 1s 269us/step - loss: 0.0133 - val_loss: 0.0217\n",
            "Epoch 71/500\n",
            "2995/2995 [==============================] - 1s 282us/step - loss: 0.0105 - val_loss: 0.0185\n",
            "Epoch 72/500\n",
            "2995/2995 [==============================] - 1s 286us/step - loss: 0.0136 - val_loss: 0.0219\n",
            "Epoch 73/500\n",
            "2995/2995 [==============================] - 1s 286us/step - loss: 0.0105 - val_loss: 0.0182\n",
            "Epoch 74/500\n",
            "2995/2995 [==============================] - 1s 290us/step - loss: 0.0133 - val_loss: 0.0217\n",
            "Epoch 75/500\n",
            "2995/2995 [==============================] - 1s 277us/step - loss: 0.0104 - val_loss: 0.0181\n",
            "Epoch 76/500\n",
            "2995/2995 [==============================] - 1s 291us/step - loss: 0.0135 - val_loss: 0.0213\n",
            "Epoch 77/500\n",
            "2995/2995 [==============================] - 1s 287us/step - loss: 0.0102 - val_loss: 0.0174\n",
            "Epoch 78/500\n",
            "2995/2995 [==============================] - 1s 275us/step - loss: 0.0126 - val_loss: 0.0200\n",
            "Epoch 79/500\n",
            "2995/2995 [==============================] - 1s 286us/step - loss: 0.0104 - val_loss: 0.0167\n",
            "Epoch 80/500\n",
            "2995/2995 [==============================] - 1s 287us/step - loss: 0.0149 - val_loss: 0.0174\n",
            "Epoch 81/500\n",
            "2995/2995 [==============================] - 1s 274us/step - loss: 0.0145 - val_loss: 0.0181\n",
            "Epoch 82/500\n",
            "2995/2995 [==============================] - 1s 275us/step - loss: 0.0203 - val_loss: 0.0235\n",
            "Epoch 83/500\n",
            "2995/2995 [==============================] - 1s 262us/step - loss: 0.0174 - val_loss: 0.0216\n",
            "Epoch 84/500\n",
            "2995/2995 [==============================] - 1s 276us/step - loss: 0.0317 - val_loss: 0.0524\n",
            "Epoch 85/500\n",
            "2995/2995 [==============================] - 1s 263us/step - loss: 0.0138 - val_loss: 0.0154\n",
            "Epoch 86/500\n",
            "2995/2995 [==============================] - 1s 273us/step - loss: 0.0207 - val_loss: 0.0268\n",
            "Epoch 87/500\n",
            "2995/2995 [==============================] - 1s 281us/step - loss: 0.0125 - val_loss: 0.0181\n",
            "Epoch 88/500\n",
            "2995/2995 [==============================] - 1s 285us/step - loss: 0.0135 - val_loss: 0.0227\n",
            "Epoch 89/500\n",
            "2995/2995 [==============================] - 1s 278us/step - loss: 0.0087 - val_loss: 0.0176\n",
            "Epoch 90/500\n",
            "2995/2995 [==============================] - 1s 274us/step - loss: 0.0086 - val_loss: 0.0175\n",
            "Epoch 91/500\n",
            "2995/2995 [==============================] - 1s 278us/step - loss: 0.0066 - val_loss: 0.0163\n",
            "Epoch 92/500\n",
            "2995/2995 [==============================] - 1s 276us/step - loss: 0.0066 - val_loss: 0.0155\n",
            "Epoch 93/500\n",
            "2995/2995 [==============================] - 1s 276us/step - loss: 0.0057 - val_loss: 0.0156\n",
            "Epoch 94/500\n",
            "2995/2995 [==============================] - 1s 280us/step - loss: 0.0058 - val_loss: 0.0149\n",
            "Epoch 95/500\n",
            "2995/2995 [==============================] - 1s 274us/step - loss: 0.0054 - val_loss: 0.0152\n",
            "Epoch 96/500\n",
            "2995/2995 [==============================] - 1s 270us/step - loss: 0.0056 - val_loss: 0.0146\n",
            "Epoch 97/500\n",
            "2995/2995 [==============================] - 1s 274us/step - loss: 0.0053 - val_loss: 0.0149\n",
            "Epoch 98/500\n",
            "2995/2995 [==============================] - 1s 278us/step - loss: 0.0056 - val_loss: 0.0145\n",
            "Epoch 99/500\n",
            "2995/2995 [==============================] - 1s 271us/step - loss: 0.0054 - val_loss: 0.0147\n",
            "Epoch 100/500\n",
            "2995/2995 [==============================] - 1s 270us/step - loss: 0.0058 - val_loss: 0.0144\n",
            "Epoch 101/500\n",
            "2995/2995 [==============================] - 1s 279us/step - loss: 0.0057 - val_loss: 0.0146\n",
            "Epoch 102/500\n",
            "2995/2995 [==============================] - 1s 270us/step - loss: 0.0064 - val_loss: 0.0145\n",
            "Epoch 103/500\n",
            "2995/2995 [==============================] - 1s 267us/step - loss: 0.0063 - val_loss: 0.0144\n",
            "Epoch 104/500\n",
            "2995/2995 [==============================] - 1s 274us/step - loss: 0.0075 - val_loss: 0.0148\n",
            "Epoch 105/500\n",
            "2995/2995 [==============================] - 1s 271us/step - loss: 0.0072 - val_loss: 0.0143\n",
            "Epoch 106/500\n",
            "2995/2995 [==============================] - 1s 266us/step - loss: 0.0093 - val_loss: 0.0158\n",
            "Epoch 107/500\n",
            "2995/2995 [==============================] - 1s 269us/step - loss: 0.0085 - val_loss: 0.0142\n",
            "Epoch 108/500\n",
            "2995/2995 [==============================] - 1s 263us/step - loss: 0.0115 - val_loss: 0.0177\n",
            "Epoch 109/500\n",
            "2995/2995 [==============================] - 1s 266us/step - loss: 0.0098 - val_loss: 0.0142\n",
            "Epoch 110/500\n",
            "2995/2995 [==============================] - 1s 267us/step - loss: 0.0135 - val_loss: 0.0201\n",
            "Epoch 111/500\n",
            "2995/2995 [==============================] - 1s 264us/step - loss: 0.0106 - val_loss: 0.0144\n",
            "Epoch 112/500\n",
            "2995/2995 [==============================] - 1s 263us/step - loss: 0.0142 - val_loss: 0.0214\n",
            "Epoch 113/500\n",
            "2995/2995 [==============================] - 1s 264us/step - loss: 0.0105 - val_loss: 0.0146\n",
            "Epoch 114/500\n",
            "2995/2995 [==============================] - 1s 274us/step - loss: 0.0135 - val_loss: 0.0209\n",
            "Epoch 115/500\n",
            "2995/2995 [==============================] - 1s 269us/step - loss: 0.0099 - val_loss: 0.0146\n",
            "Epoch 116/500\n",
            "2995/2995 [==============================] - 1s 265us/step - loss: 0.0122 - val_loss: 0.0195\n",
            "Epoch 117/500\n",
            "2995/2995 [==============================] - 1s 264us/step - loss: 0.0090 - val_loss: 0.0145\n",
            "Epoch 118/500\n",
            "2995/2995 [==============================] - 1s 269us/step - loss: 0.0109 - val_loss: 0.0180\n",
            "Epoch 119/500\n",
            "2995/2995 [==============================] - 1s 268us/step - loss: 0.0084 - val_loss: 0.0143\n",
            "Epoch 120/500\n",
            "2995/2995 [==============================] - 1s 258us/step - loss: 0.0100 - val_loss: 0.0170\n",
            "Epoch 121/500\n",
            "2995/2995 [==============================] - 1s 266us/step - loss: 0.0079 - val_loss: 0.0141\n",
            "Epoch 122/500\n",
            "2995/2995 [==============================] - 1s 274us/step - loss: 0.0093 - val_loss: 0.0163\n",
            "Epoch 123/500\n",
            "2995/2995 [==============================] - 1s 266us/step - loss: 0.0076 - val_loss: 0.0139\n",
            "Epoch 124/500\n",
            "2995/2995 [==============================] - 1s 275us/step - loss: 0.0091 - val_loss: 0.0159\n",
            "Epoch 125/500\n",
            "2995/2995 [==============================] - 1s 260us/step - loss: 0.0074 - val_loss: 0.0137\n",
            "Epoch 126/500\n",
            "2995/2995 [==============================] - 1s 277us/step - loss: 0.0088 - val_loss: 0.0156\n",
            "Epoch 127/500\n",
            "2995/2995 [==============================] - 1s 269us/step - loss: 0.0078 - val_loss: 0.0132\n",
            "Epoch 128/500\n",
            "2995/2995 [==============================] - 1s 271us/step - loss: 0.0097 - val_loss: 0.0150\n",
            "Epoch 129/500\n",
            "2995/2995 [==============================] - 1s 264us/step - loss: 0.0083 - val_loss: 0.0126\n",
            "Epoch 130/500\n",
            "2995/2995 [==============================] - 1s 265us/step - loss: 0.0109 - val_loss: 0.0173\n",
            "Epoch 131/500\n",
            "2995/2995 [==============================] - 1s 273us/step - loss: 0.0089 - val_loss: 0.0133\n",
            "Epoch 132/500\n",
            "2995/2995 [==============================] - 1s 268us/step - loss: 0.0116 - val_loss: 0.0187\n",
            "Epoch 133/500\n",
            "2995/2995 [==============================] - 1s 264us/step - loss: 0.0087 - val_loss: 0.0134\n",
            "Epoch 134/500\n",
            "2995/2995 [==============================] - 1s 265us/step - loss: 0.0104 - val_loss: 0.0174\n",
            "Epoch 135/500\n",
            "2995/2995 [==============================] - 1s 266us/step - loss: 0.0081 - val_loss: 0.0137\n",
            "Epoch 136/500\n",
            "2995/2995 [==============================] - 1s 268us/step - loss: 0.0096 - val_loss: 0.0163\n",
            "Epoch 137/500\n",
            "2995/2995 [==============================] - 1s 269us/step - loss: 0.0075 - val_loss: 0.0131\n",
            "Epoch 138/500\n",
            "2995/2995 [==============================] - 1s 269us/step - loss: 0.0088 - val_loss: 0.0155\n",
            "Epoch 139/500\n",
            "2995/2995 [==============================] - 1s 268us/step - loss: 0.0073 - val_loss: 0.0135\n",
            "Epoch 140/500\n",
            "2995/2995 [==============================] - 1s 260us/step - loss: 0.0087 - val_loss: 0.0148\n",
            "Epoch 141/500\n",
            "2995/2995 [==============================] - 1s 271us/step - loss: 0.0071 - val_loss: 0.0126\n",
            "Epoch 142/500\n",
            "2995/2995 [==============================] - 1s 268us/step - loss: 0.0085 - val_loss: 0.0146\n",
            "Epoch 143/500\n",
            "2995/2995 [==============================] - 1s 260us/step - loss: 0.0074 - val_loss: 0.0133\n",
            "Epoch 144/500\n",
            "2995/2995 [==============================] - 1s 261us/step - loss: 0.0094 - val_loss: 0.0140\n",
            "Epoch 145/500\n",
            "2995/2995 [==============================] - 1s 270us/step - loss: 0.0076 - val_loss: 0.0121\n",
            "Epoch 146/500\n",
            "2995/2995 [==============================] - 1s 266us/step - loss: 0.0097 - val_loss: 0.0141\n",
            "Epoch 147/500\n",
            "2995/2995 [==============================] - 1s 265us/step - loss: 0.0086 - val_loss: 0.0123\n",
            "Epoch 148/500\n",
            "2995/2995 [==============================] - 1s 269us/step - loss: 0.0120 - val_loss: 0.0125\n",
            "Epoch 149/500\n",
            "2995/2995 [==============================] - 1s 265us/step - loss: 0.0114 - val_loss: 0.0128\n",
            "Epoch 150/500\n",
            "2995/2995 [==============================] - 1s 264us/step - loss: 0.0171 - val_loss: 0.0176\n",
            "Epoch 151/500\n",
            "2995/2995 [==============================] - 1s 266us/step - loss: 0.0143 - val_loss: 0.0139\n",
            "Epoch 152/500\n",
            "2995/2995 [==============================] - 1s 266us/step - loss: 0.0226 - val_loss: 0.0213\n",
            "Epoch 153/500\n",
            "2995/2995 [==============================] - 1s 267us/step - loss: 0.0148 - val_loss: 0.0136\n",
            "Epoch 154/500\n",
            "2995/2995 [==============================] - 1s 267us/step - loss: 0.0243 - val_loss: 0.0338\n",
            "Epoch 155/500\n",
            "2995/2995 [==============================] - 1s 286us/step - loss: 0.0123 - val_loss: 0.0125\n",
            "Epoch 156/500\n",
            "2995/2995 [==============================] - 1s 279us/step - loss: 0.0135 - val_loss: 0.0211\n",
            "Epoch 157/500\n",
            "2995/2995 [==============================] - 1s 277us/step - loss: 0.0089 - val_loss: 0.0156\n",
            "Epoch 158/500\n",
            "2995/2995 [==============================] - 1s 273us/step - loss: 0.0078 - val_loss: 0.0154\n",
            "Epoch 159/500\n",
            "2995/2995 [==============================] - 1s 287us/step - loss: 0.0052 - val_loss: 0.0131\n",
            "Epoch 160/500\n",
            "2995/2995 [==============================] - 1s 276us/step - loss: 0.0048 - val_loss: 0.0122\n",
            "Epoch 161/500\n",
            "2995/2995 [==============================] - 1s 285us/step - loss: 0.0042 - val_loss: 0.0121\n",
            "Epoch 162/500\n",
            "2995/2995 [==============================] - 1s 270us/step - loss: 0.0040 - val_loss: 0.0116\n",
            "Epoch 163/500\n",
            "2995/2995 [==============================] - 1s 264us/step - loss: 0.0038 - val_loss: 0.0117\n",
            "Epoch 164/500\n",
            "2995/2995 [==============================] - 1s 272us/step - loss: 0.0038 - val_loss: 0.0114\n",
            "Epoch 165/500\n",
            "2995/2995 [==============================] - 1s 273us/step - loss: 0.0036 - val_loss: 0.0116\n",
            "Epoch 166/500\n",
            "2995/2995 [==============================] - 1s 271us/step - loss: 0.0036 - val_loss: 0.0113\n",
            "Epoch 167/500\n",
            "2995/2995 [==============================] - 1s 271us/step - loss: 0.0036 - val_loss: 0.0115\n",
            "Epoch 168/500\n",
            "2995/2995 [==============================] - 1s 267us/step - loss: 0.0036 - val_loss: 0.0113\n",
            "Epoch 169/500\n",
            "2995/2995 [==============================] - 1s 276us/step - loss: 0.0036 - val_loss: 0.0115\n",
            "Epoch 170/500\n",
            "2995/2995 [==============================] - 1s 265us/step - loss: 0.0036 - val_loss: 0.0112\n",
            "Epoch 171/500\n",
            "2995/2995 [==============================] - 1s 263us/step - loss: 0.0036 - val_loss: 0.0114\n",
            "Epoch 172/500\n",
            "2995/2995 [==============================] - 1s 266us/step - loss: 0.0037 - val_loss: 0.0112\n",
            "Epoch 173/500\n",
            "2995/2995 [==============================] - 1s 269us/step - loss: 0.0038 - val_loss: 0.0114\n",
            "Epoch 174/500\n",
            "2995/2995 [==============================] - 1s 269us/step - loss: 0.0040 - val_loss: 0.0112\n",
            "Epoch 175/500\n",
            "2995/2995 [==============================] - 1s 272us/step - loss: 0.0041 - val_loss: 0.0114\n",
            "Epoch 176/500\n",
            "2995/2995 [==============================] - 1s 271us/step - loss: 0.0047 - val_loss: 0.0112\n",
            "Epoch 177/500\n",
            "2995/2995 [==============================] - 1s 265us/step - loss: 0.0048 - val_loss: 0.0114\n",
            "Epoch 178/500\n",
            "2995/2995 [==============================] - 1s 273us/step - loss: 0.0060 - val_loss: 0.0116\n",
            "Epoch 179/500\n",
            "2995/2995 [==============================] - 1s 265us/step - loss: 0.0061 - val_loss: 0.0114\n",
            "Epoch 180/500\n",
            "2995/2995 [==============================] - 1s 263us/step - loss: 0.0082 - val_loss: 0.0130\n",
            "Epoch 181/500\n",
            "2995/2995 [==============================] - 1s 266us/step - loss: 0.0078 - val_loss: 0.0116\n",
            "Epoch 182/500\n",
            "2995/2995 [==============================] - 1s 265us/step - loss: 0.0110 - val_loss: 0.0159\n",
            "Epoch 183/500\n",
            "2995/2995 [==============================] - 1s 270us/step - loss: 0.0093 - val_loss: 0.0119\n",
            "Epoch 184/500\n",
            "2995/2995 [==============================] - 1s 263us/step - loss: 0.0128 - val_loss: 0.0190\n",
            "Epoch 185/500\n",
            "2995/2995 [==============================] - 1s 267us/step - loss: 0.0096 - val_loss: 0.0123\n",
            "Epoch 186/500\n",
            "2995/2995 [==============================] - 1s 273us/step - loss: 0.0120 - val_loss: 0.0179\n",
            "Epoch 187/500\n",
            "2995/2995 [==============================] - 1s 272us/step - loss: 0.0115 - val_loss: 0.0112\n",
            "Epoch 188/500\n",
            "2995/2995 [==============================] - 1s 273us/step - loss: 0.0142 - val_loss: 0.0198\n",
            "Epoch 189/500\n",
            "2995/2995 [==============================] - 1s 278us/step - loss: 0.0108 - val_loss: 0.0107\n",
            "Epoch 190/500\n",
            "2995/2995 [==============================] - 1s 272us/step - loss: 0.0159 - val_loss: 0.0272\n",
            "Epoch 191/500\n",
            "2995/2995 [==============================] - 1s 271us/step - loss: 0.0097 - val_loss: 0.0120\n",
            "Epoch 192/500\n",
            "2995/2995 [==============================] - 1s 275us/step - loss: 0.0114 - val_loss: 0.0196\n",
            "Epoch 193/500\n",
            "2995/2995 [==============================] - 1s 268us/step - loss: 0.0077 - val_loss: 0.0122\n",
            "Epoch 194/500\n",
            "2995/2995 [==============================] - 1s 273us/step - loss: 0.0076 - val_loss: 0.0152\n",
            "Epoch 195/500\n",
            "2995/2995 [==============================] - 1s 272us/step - loss: 0.0055 - val_loss: 0.0117\n",
            "Epoch 196/500\n",
            "2995/2995 [==============================] - 1s 271us/step - loss: 0.0055 - val_loss: 0.0125\n",
            "Epoch 197/500\n",
            "2995/2995 [==============================] - 1s 272us/step - loss: 0.0046 - val_loss: 0.0113\n",
            "Epoch 198/500\n",
            "2995/2995 [==============================] - 1s 271us/step - loss: 0.0046 - val_loss: 0.0116\n",
            "Epoch 199/500\n",
            "2995/2995 [==============================] - 1s 267us/step - loss: 0.0042 - val_loss: 0.0111\n",
            "Epoch 200/500\n",
            "2995/2995 [==============================] - 1s 259us/step - loss: 0.0043 - val_loss: 0.0112\n",
            "Epoch 201/500\n",
            "2995/2995 [==============================] - 1s 266us/step - loss: 0.0040 - val_loss: 0.0110\n",
            "Epoch 202/500\n",
            "2995/2995 [==============================] - 1s 269us/step - loss: 0.0042 - val_loss: 0.0111\n",
            "Epoch 203/500\n",
            "2995/2995 [==============================] - 1s 263us/step - loss: 0.0040 - val_loss: 0.0109\n",
            "Epoch 204/500\n",
            "2995/2995 [==============================] - 1s 260us/step - loss: 0.0043 - val_loss: 0.0110\n",
            "Epoch 205/500\n",
            "2995/2995 [==============================] - 1s 262us/step - loss: 0.0042 - val_loss: 0.0109\n",
            "Epoch 206/500\n",
            "2995/2995 [==============================] - 1s 259us/step - loss: 0.0046 - val_loss: 0.0111\n",
            "Epoch 207/500\n",
            "2995/2995 [==============================] - 1s 262us/step - loss: 0.0045 - val_loss: 0.0109\n",
            "Epoch 208/500\n",
            "2995/2995 [==============================] - 1s 265us/step - loss: 0.0051 - val_loss: 0.0113\n",
            "Epoch 209/500\n",
            "2995/2995 [==============================] - 1s 266us/step - loss: 0.0050 - val_loss: 0.0109\n",
            "Epoch 00209: early stopping\n"
          ],
          "name": "stdout"
        }
      ]
    },
    {
      "cell_type": "code",
      "metadata": {
        "id": "767yUVouDa0K",
        "colab_type": "code",
        "outputId": "60c25568-596b-4b3f-f0e1-1dfa3ffa2faa",
        "colab": {
          "base_uri": "https://localhost:8080/",
          "height": 52
        }
      },
      "source": [
        "# get predictions and then make some transformations to be able to calculate MSE properly in USD\n",
        "prediction = model.predict(X_test)\n",
        "print(prediction.shape)\n",
        "print(Y_test.shape)\n"
      ],
      "execution_count": 0,
      "outputs": [
        {
          "output_type": "stream",
          "text": [
            "(120, 1)\n",
            "(120, 1)\n"
          ],
          "name": "stdout"
        }
      ]
    },
    {
      "cell_type": "code",
      "metadata": {
        "id": "shuA__QUDa0N",
        "colab_type": "code",
        "outputId": "f96f2913-9aaa-46f8-8163-ebb9e63c177b",
        "colab": {
          "base_uri": "https://localhost:8080/",
          "height": 542
        }
      },
      "source": [
        "trace1 = go.Scatter(\n",
        "    x = np.arange(0, len(prediction), 1),\n",
        "    y = prediction[1:,0],\n",
        "    mode = 'lines',\n",
        "    name = 'Predicted labels',\n",
        "    line = dict(color=('rgb(244, 146, 65)'), width=2)\n",
        ")\n",
        "trace2 = go.Scatter(\n",
        "    x = np.arange(0, len(Y_test), 1),\n",
        "    y = Y_test[:,0],\n",
        "    mode = 'lines',\n",
        "    name = 'True labels',\n",
        "    line = dict(color=('rgb(66, 244, 155)'), width=2)\n",
        ")\n",
        "\n",
        "d = [trace1, trace2]\n",
        "layout = dict(title = 'Comparison of true prices (on the test dataset) with prices our model predicted',\n",
        "             xaxis = dict(title = 'Day number'), yaxis = dict(title = 'Price, USD'))\n",
        "fig = dict(data=d, layout=layout)\n",
        "py.iplot(fig, filename='results_demonstrating0')"
      ],
      "execution_count": 0,
      "outputs": [
        {
          "output_type": "display_data",
          "data": {
            "text/html": [
              "<html>\n",
              "<head><meta charset=\"utf-8\" /></head>\n",
              "<body>\n",
              "    <div>\n",
              "            <script src=\"https://cdnjs.cloudflare.com/ajax/libs/mathjax/2.7.5/MathJax.js?config=TeX-AMS-MML_SVG\"></script><script type=\"text/javascript\">if (window.MathJax) {MathJax.Hub.Config({SVG: {font: \"STIX-Web\"}});}</script>\n",
              "                <script type=\"text/javascript\">window.PlotlyConfig = {MathJaxConfig: 'local'};</script>\n",
              "        <script src=\"https://cdn.plot.ly/plotly-latest.min.js\"></script>    \n",
              "            <div id=\"993a5fd7-c01f-437f-9028-caf3af6bc385\" class=\"plotly-graph-div\" style=\"height:525px; width:100%;\"></div>\n",
              "            <script type=\"text/javascript\">\n",
              "                \n",
              "                    window.PLOTLYENV=window.PLOTLYENV || {};\n",
              "                    \n",
              "                if (document.getElementById(\"993a5fd7-c01f-437f-9028-caf3af6bc385\")) {\n",
              "                    Plotly.newPlot(\n",
              "                        '993a5fd7-c01f-437f-9028-caf3af6bc385',\n",
              "                        [{\"line\": {\"color\": \"rgb(244, 146, 65)\", \"width\": 2}, \"mode\": \"lines\", \"name\": \"Predicted labels\", \"type\": \"scatter\", \"x\": [0, 1, 2, 3, 4, 5, 6, 7, 8, 9, 10, 11, 12, 13, 14, 15, 16, 17, 18, 19, 20, 21, 22, 23, 24, 25, 26, 27, 28, 29, 30, 31, 32, 33, 34, 35, 36, 37, 38, 39, 40, 41, 42, 43, 44, 45, 46, 47, 48, 49, 50, 51, 52, 53, 54, 55, 56, 57, 58, 59, 60, 61, 62, 63, 64, 65, 66, 67, 68, 69, 70, 71, 72, 73, 74, 75, 76, 77, 78, 79, 80, 81, 82, 83, 84, 85, 86, 87, 88, 89, 90, 91, 92, 93, 94, 95, 96, 97, 98, 99, 100, 101, 102, 103, 104, 105, 106, 107, 108, 109, 110, 111, 112, 113, 114, 115, 116, 117, 118, 119], \"y\": [-0.6831451654434204, -0.820600152015686, -0.9087076783180237, -0.9273093342781067, -0.8692559003829956, -0.775560200214386, -0.6480913758277893, -0.570923388004303, -0.5756862759590149, -0.6284114122390747, -0.6718595027923584, -0.7017365097999573, -0.7174348831176758, -0.6894850134849548, -0.6472517251968384, -0.6204496026039124, -0.6317034959793091, -0.6804848909378052, -0.7403725981712341, -0.7803025245666504, -0.7914056181907654, -0.8196529746055603, -0.8547985553741455, -0.8912636041641235, -0.9711998105049133, -0.9760330319404602, -0.9309462904930115, -0.8861085772514343, -0.8551743626594543, -0.7928550243377686, -0.7379849553108215, -0.7302619814872742, -0.7526827454566956, -0.7644001841545105, -0.7839726209640503, -0.7787743210792542, -0.7489975690841675, -0.746440052986145, -0.7702704668045044, -0.7890294194221497, -0.8447737097740173, -0.8466100096702576, -0.8108863234519958, -0.7660894989967346, -0.6711357831954956, -0.4581739008426666, -0.275261789560318, -0.236572265625, -0.1813110113143921, -0.14181464910507202, -0.11812420934438705, -0.11913127452135086, 0.08832556009292603, 0.30878952145576477, 0.4250604212284088, 0.5387784838676453, 0.5925052762031555, 0.5365599989891052, 0.4181768298149109, 0.3668525516986847, 0.34707027673721313, 0.23507121205329895, 0.154383584856987, 0.08855059742927551, 0.12812146544456482, 0.3071972131729126, 0.6659936904907227, 0.919570803642273, 1.0859967470169067, 1.0745950937271118, 1.0474745035171509, 0.9788377285003662, 0.9529150128364563, 0.8542615175247192, 1.0240308046340942, 1.21616792678833, 1.3397347927093506, 1.4131654500961304, 1.5831853151321411, 1.4883302450180054, 1.6069872379302979, 1.7934406995773315, 1.7755887508392334, 1.7816258668899536, 1.5601582527160645, 1.413980484008789, 1.265849232673645, 1.4482215642929077, 1.2996413707733154, 1.1618363857269287, 1.199631690979004, 1.2126600742340088, 1.364316463470459, 1.2944270372390747, 1.0775227546691895, 0.7090717554092407, 0.5162414312362671, 0.4017123878002167, 0.3131090998649597, 0.2654203176498413, 0.36955904960632324, 0.42671269178390503, 0.45302796363830566, 0.6020405292510986, 0.7335183620452881, 0.7117611765861511, 0.3201243281364441, -0.04423145204782486, -0.24127042293548584, -0.35484644770622253, -0.8481991291046143, -1.154124140739441, -1.3561899662017822, -1.4870635271072388, -1.5375112295150757, -1.6297638416290283, -1.6561532020568848, -1.7082394361495972, -1.655292272567749]}, {\"line\": {\"color\": \"rgb(66, 244, 155)\", \"width\": 2}, \"mode\": \"lines\", \"name\": \"True labels\", \"type\": \"scatter\", \"x\": [0, 1, 2, 3, 4, 5, 6, 7, 8, 9, 10, 11, 12, 13, 14, 15, 16, 17, 18, 19, 20, 21, 22, 23, 24, 25, 26, 27, 28, 29, 30, 31, 32, 33, 34, 35, 36, 37, 38, 39, 40, 41, 42, 43, 44, 45, 46, 47, 48, 49, 50, 51, 52, 53, 54, 55, 56, 57, 58, 59, 60, 61, 62, 63, 64, 65, 66, 67, 68, 69, 70, 71, 72, 73, 74, 75, 76, 77, 78, 79, 80, 81, 82, 83, 84, 85, 86, 87, 88, 89, 90, 91, 92, 93, 94, 95, 96, 97, 98, 99, 100, 101, 102, 103, 104, 105, 106, 107, 108, 109, 110, 111, 112, 113, 114, 115, 116, 117, 118, 119], \"y\": [-0.8037194170905599, -1.0280124766475254, -1.0018005762259632, -0.8935634317892968, -0.7059721044575563, -0.6385362639018578, -0.44443633827130974, -0.5325644497821793, -0.6961500379339011, -0.7828749970842486, -0.7736699794902202, -0.7658173979063341, -0.7350072150502898, -0.6120200653780139, -0.5885299424268624, -0.6071428430164402, -0.6955414417293379, -0.8278603998715927, -0.8691181509059824, -0.8760409327328966, -0.829846790261488, -0.9512701857970378, -0.9421581481787065, -1.0885593462765641, -1.3014074160977032, -0.9398421015113387, -0.8884748913011384, -0.8938592771665156, -0.9143824936204182, -0.686978831240127, -0.7050338519755207, -0.8096532300850577, -0.8763705890103681, -0.8332025221116527, -0.8717300429505691, -0.7867125342630261, -0.7063862879856628, -0.8225605412568487, -0.8792614209820464, -0.8811548313962448, -1.0385192139013144, -0.8416890580752929, -0.7516844416003521, -0.7222605056547028, -0.4792446600823363, -0.143122047936766, -0.11057905644272735, -0.3210180996208017, -0.1457001290810983, -0.12822834637507802, -0.09308191556151635, -0.10602303763356166, 0.35055090666526934, 0.44981970980968117, 0.40552743047753537, 0.5332312007351809, 0.5610406661937228, 0.4454750091271009, 0.33187883700024806, 0.3670168150887462, 0.36852140015002954, 0.16626459483331296, 0.13880169110236987, 0.08945468218231768, 0.24223768770303158, 0.5093268942559245, 0.877502239841857, 0.9086336262503101, 1.0083757819982726, 0.9434926644117164, 0.9684789196990871, 0.9221748918018559, 0.9467638690112478, 0.8100833047362849, 1.098591716599798, 1.2580101112952708, 1.3229016816068906, 1.364353845317738, 1.5726120854294594, 1.4129485617071478, 1.6228550832062287, 1.7922054298511807, 1.7140853448153612, 1.7496544118820923, 1.4863351207074704, 1.3911489837686744, 1.2503096787625252, 1.5491642261036236, 1.239177439854045, 1.1338480328391847, 1.2228383223065185, 1.2029490602323707, 1.4132528598094303, 1.2436658368627043, 0.973998549165479, 0.5573299198908965, 0.4626932100812202, 0.38420965786767475, 0.30997782636101334, 0.2769699349884875, 0.5020152870760938, 0.46014893983714067, 0.44973518255904854, 0.6649331099478096, 0.7541685284419823, 0.6239881097407642, 0.019778869484822725, -0.2620518895786162, -0.2626351276079895, -0.3052199564773316, -2.237411473266762, -2.4870288971136336, -2.502734060281406, -2.3556059278280976, -2.7578964717698593, -2.484180328767272, -2.459270148005472, -1.874569797195826, -1.6594817552328889, -1.7355478280783059]}],\n",
              "                        {\"template\": {\"data\": {\"bar\": [{\"error_x\": {\"color\": \"#2a3f5f\"}, \"error_y\": {\"color\": \"#2a3f5f\"}, \"marker\": {\"line\": {\"color\": \"#E5ECF6\", \"width\": 0.5}}, \"type\": \"bar\"}], \"barpolar\": [{\"marker\": {\"line\": {\"color\": \"#E5ECF6\", \"width\": 0.5}}, \"type\": \"barpolar\"}], \"carpet\": [{\"aaxis\": {\"endlinecolor\": \"#2a3f5f\", \"gridcolor\": \"white\", \"linecolor\": \"white\", \"minorgridcolor\": \"white\", \"startlinecolor\": \"#2a3f5f\"}, \"baxis\": {\"endlinecolor\": \"#2a3f5f\", \"gridcolor\": \"white\", \"linecolor\": \"white\", \"minorgridcolor\": \"white\", \"startlinecolor\": \"#2a3f5f\"}, \"type\": \"carpet\"}], \"choropleth\": [{\"colorbar\": {\"outlinewidth\": 0, \"ticks\": \"\"}, \"type\": \"choropleth\"}], \"contour\": [{\"colorbar\": {\"outlinewidth\": 0, \"ticks\": \"\"}, \"colorscale\": [[0.0, \"#0d0887\"], [0.1111111111111111, \"#46039f\"], [0.2222222222222222, \"#7201a8\"], [0.3333333333333333, \"#9c179e\"], [0.4444444444444444, \"#bd3786\"], [0.5555555555555556, \"#d8576b\"], [0.6666666666666666, \"#ed7953\"], [0.7777777777777778, \"#fb9f3a\"], [0.8888888888888888, \"#fdca26\"], [1.0, \"#f0f921\"]], \"type\": \"contour\"}], \"contourcarpet\": [{\"colorbar\": {\"outlinewidth\": 0, \"ticks\": \"\"}, \"type\": \"contourcarpet\"}], \"heatmap\": [{\"colorbar\": {\"outlinewidth\": 0, \"ticks\": \"\"}, \"colorscale\": [[0.0, \"#0d0887\"], [0.1111111111111111, \"#46039f\"], [0.2222222222222222, \"#7201a8\"], [0.3333333333333333, \"#9c179e\"], [0.4444444444444444, \"#bd3786\"], [0.5555555555555556, \"#d8576b\"], [0.6666666666666666, \"#ed7953\"], [0.7777777777777778, \"#fb9f3a\"], [0.8888888888888888, \"#fdca26\"], [1.0, \"#f0f921\"]], \"type\": \"heatmap\"}], \"heatmapgl\": [{\"colorbar\": {\"outlinewidth\": 0, \"ticks\": \"\"}, \"colorscale\": [[0.0, \"#0d0887\"], [0.1111111111111111, \"#46039f\"], [0.2222222222222222, \"#7201a8\"], [0.3333333333333333, \"#9c179e\"], [0.4444444444444444, \"#bd3786\"], [0.5555555555555556, \"#d8576b\"], [0.6666666666666666, \"#ed7953\"], [0.7777777777777778, \"#fb9f3a\"], [0.8888888888888888, \"#fdca26\"], [1.0, \"#f0f921\"]], \"type\": \"heatmapgl\"}], \"histogram\": [{\"marker\": {\"colorbar\": {\"outlinewidth\": 0, \"ticks\": \"\"}}, \"type\": \"histogram\"}], \"histogram2d\": [{\"colorbar\": {\"outlinewidth\": 0, \"ticks\": \"\"}, \"colorscale\": [[0.0, \"#0d0887\"], [0.1111111111111111, \"#46039f\"], [0.2222222222222222, \"#7201a8\"], [0.3333333333333333, \"#9c179e\"], [0.4444444444444444, \"#bd3786\"], [0.5555555555555556, \"#d8576b\"], [0.6666666666666666, \"#ed7953\"], [0.7777777777777778, \"#fb9f3a\"], [0.8888888888888888, \"#fdca26\"], [1.0, \"#f0f921\"]], \"type\": \"histogram2d\"}], \"histogram2dcontour\": [{\"colorbar\": {\"outlinewidth\": 0, \"ticks\": \"\"}, \"colorscale\": [[0.0, \"#0d0887\"], [0.1111111111111111, \"#46039f\"], [0.2222222222222222, \"#7201a8\"], [0.3333333333333333, \"#9c179e\"], [0.4444444444444444, \"#bd3786\"], [0.5555555555555556, \"#d8576b\"], [0.6666666666666666, \"#ed7953\"], [0.7777777777777778, \"#fb9f3a\"], [0.8888888888888888, \"#fdca26\"], [1.0, \"#f0f921\"]], \"type\": \"histogram2dcontour\"}], \"mesh3d\": [{\"colorbar\": {\"outlinewidth\": 0, \"ticks\": \"\"}, \"type\": \"mesh3d\"}], \"parcoords\": [{\"line\": {\"colorbar\": {\"outlinewidth\": 0, \"ticks\": \"\"}}, \"type\": \"parcoords\"}], \"pie\": [{\"automargin\": true, \"type\": \"pie\"}], \"scatter\": [{\"marker\": {\"colorbar\": {\"outlinewidth\": 0, \"ticks\": \"\"}}, \"type\": \"scatter\"}], \"scatter3d\": [{\"line\": {\"colorbar\": {\"outlinewidth\": 0, \"ticks\": \"\"}}, \"marker\": {\"colorbar\": {\"outlinewidth\": 0, \"ticks\": \"\"}}, \"type\": \"scatter3d\"}], \"scattercarpet\": [{\"marker\": {\"colorbar\": {\"outlinewidth\": 0, \"ticks\": \"\"}}, \"type\": \"scattercarpet\"}], \"scattergeo\": [{\"marker\": {\"colorbar\": {\"outlinewidth\": 0, \"ticks\": \"\"}}, \"type\": \"scattergeo\"}], \"scattergl\": [{\"marker\": {\"colorbar\": {\"outlinewidth\": 0, \"ticks\": \"\"}}, \"type\": \"scattergl\"}], \"scattermapbox\": [{\"marker\": {\"colorbar\": {\"outlinewidth\": 0, \"ticks\": \"\"}}, \"type\": \"scattermapbox\"}], \"scatterpolar\": [{\"marker\": {\"colorbar\": {\"outlinewidth\": 0, \"ticks\": \"\"}}, \"type\": \"scatterpolar\"}], \"scatterpolargl\": [{\"marker\": {\"colorbar\": {\"outlinewidth\": 0, \"ticks\": \"\"}}, \"type\": \"scatterpolargl\"}], \"scatterternary\": [{\"marker\": {\"colorbar\": {\"outlinewidth\": 0, \"ticks\": \"\"}}, \"type\": \"scatterternary\"}], \"surface\": [{\"colorbar\": {\"outlinewidth\": 0, \"ticks\": \"\"}, \"colorscale\": [[0.0, \"#0d0887\"], [0.1111111111111111, \"#46039f\"], [0.2222222222222222, \"#7201a8\"], [0.3333333333333333, \"#9c179e\"], [0.4444444444444444, \"#bd3786\"], [0.5555555555555556, \"#d8576b\"], [0.6666666666666666, \"#ed7953\"], [0.7777777777777778, \"#fb9f3a\"], [0.8888888888888888, \"#fdca26\"], [1.0, \"#f0f921\"]], \"type\": \"surface\"}], \"table\": [{\"cells\": {\"fill\": {\"color\": \"#EBF0F8\"}, \"line\": {\"color\": \"white\"}}, \"header\": {\"fill\": {\"color\": \"#C8D4E3\"}, \"line\": {\"color\": \"white\"}}, \"type\": \"table\"}]}, \"layout\": {\"annotationdefaults\": {\"arrowcolor\": \"#2a3f5f\", \"arrowhead\": 0, \"arrowwidth\": 1}, \"coloraxis\": {\"colorbar\": {\"outlinewidth\": 0, \"ticks\": \"\"}}, \"colorscale\": {\"diverging\": [[0, \"#8e0152\"], [0.1, \"#c51b7d\"], [0.2, \"#de77ae\"], [0.3, \"#f1b6da\"], [0.4, \"#fde0ef\"], [0.5, \"#f7f7f7\"], [0.6, \"#e6f5d0\"], [0.7, \"#b8e186\"], [0.8, \"#7fbc41\"], [0.9, \"#4d9221\"], [1, \"#276419\"]], \"sequential\": [[0.0, \"#0d0887\"], [0.1111111111111111, \"#46039f\"], [0.2222222222222222, \"#7201a8\"], [0.3333333333333333, \"#9c179e\"], [0.4444444444444444, \"#bd3786\"], [0.5555555555555556, \"#d8576b\"], [0.6666666666666666, \"#ed7953\"], [0.7777777777777778, \"#fb9f3a\"], [0.8888888888888888, \"#fdca26\"], [1.0, \"#f0f921\"]], \"sequentialminus\": [[0.0, \"#0d0887\"], [0.1111111111111111, \"#46039f\"], [0.2222222222222222, \"#7201a8\"], [0.3333333333333333, \"#9c179e\"], [0.4444444444444444, \"#bd3786\"], [0.5555555555555556, \"#d8576b\"], [0.6666666666666666, \"#ed7953\"], [0.7777777777777778, \"#fb9f3a\"], [0.8888888888888888, \"#fdca26\"], [1.0, \"#f0f921\"]]}, \"colorway\": [\"#636efa\", \"#EF553B\", \"#00cc96\", \"#ab63fa\", \"#FFA15A\", \"#19d3f3\", \"#FF6692\", \"#B6E880\", \"#FF97FF\", \"#FECB52\"], \"font\": {\"color\": \"#2a3f5f\"}, \"geo\": {\"bgcolor\": \"white\", \"lakecolor\": \"white\", \"landcolor\": \"#E5ECF6\", \"showlakes\": true, \"showland\": true, \"subunitcolor\": \"white\"}, \"hoverlabel\": {\"align\": \"left\"}, \"hovermode\": \"closest\", \"mapbox\": {\"style\": \"light\"}, \"paper_bgcolor\": \"white\", \"plot_bgcolor\": \"#E5ECF6\", \"polar\": {\"angularaxis\": {\"gridcolor\": \"white\", \"linecolor\": \"white\", \"ticks\": \"\"}, \"bgcolor\": \"#E5ECF6\", \"radialaxis\": {\"gridcolor\": \"white\", \"linecolor\": \"white\", \"ticks\": \"\"}}, \"scene\": {\"xaxis\": {\"backgroundcolor\": \"#E5ECF6\", \"gridcolor\": \"white\", \"gridwidth\": 2, \"linecolor\": \"white\", \"showbackground\": true, \"ticks\": \"\", \"zerolinecolor\": \"white\"}, \"yaxis\": {\"backgroundcolor\": \"#E5ECF6\", \"gridcolor\": \"white\", \"gridwidth\": 2, \"linecolor\": \"white\", \"showbackground\": true, \"ticks\": \"\", \"zerolinecolor\": \"white\"}, \"zaxis\": {\"backgroundcolor\": \"#E5ECF6\", \"gridcolor\": \"white\", \"gridwidth\": 2, \"linecolor\": \"white\", \"showbackground\": true, \"ticks\": \"\", \"zerolinecolor\": \"white\"}}, \"shapedefaults\": {\"line\": {\"color\": \"#2a3f5f\"}}, \"ternary\": {\"aaxis\": {\"gridcolor\": \"white\", \"linecolor\": \"white\", \"ticks\": \"\"}, \"baxis\": {\"gridcolor\": \"white\", \"linecolor\": \"white\", \"ticks\": \"\"}, \"bgcolor\": \"#E5ECF6\", \"caxis\": {\"gridcolor\": \"white\", \"linecolor\": \"white\", \"ticks\": \"\"}}, \"title\": {\"x\": 0.05}, \"xaxis\": {\"automargin\": true, \"gridcolor\": \"white\", \"linecolor\": \"white\", \"ticks\": \"\", \"title\": {\"standoff\": 15}, \"zerolinecolor\": \"white\", \"zerolinewidth\": 2}, \"yaxis\": {\"automargin\": true, \"gridcolor\": \"white\", \"linecolor\": \"white\", \"ticks\": \"\", \"title\": {\"standoff\": 15}, \"zerolinecolor\": \"white\", \"zerolinewidth\": 2}}}, \"title\": {\"text\": \"Comparison of true prices (on the test dataset) with prices our model predicted\"}, \"xaxis\": {\"title\": {\"text\": \"Day number\"}}, \"yaxis\": {\"title\": {\"text\": \"Price, USD\"}}},\n",
              "                        {\"responsive\": true}\n",
              "                    ).then(function(){\n",
              "                            \n",
              "var gd = document.getElementById('993a5fd7-c01f-437f-9028-caf3af6bc385');\n",
              "var x = new MutationObserver(function (mutations, observer) {{\n",
              "        var display = window.getComputedStyle(gd).display;\n",
              "        if (!display || display === 'none') {{\n",
              "            console.log([gd, 'removed!']);\n",
              "            Plotly.purge(gd);\n",
              "            observer.disconnect();\n",
              "        }}\n",
              "}});\n",
              "\n",
              "// Listen for the removal of the full notebook cells\n",
              "var notebookContainer = gd.closest('#notebook-container');\n",
              "if (notebookContainer) {{\n",
              "    x.observe(notebookContainer, {childList: true});\n",
              "}}\n",
              "\n",
              "// Listen for the clearing of the current output cell\n",
              "var outputEl = gd.closest('.output');\n",
              "if (outputEl) {{\n",
              "    x.observe(outputEl, {childList: true});\n",
              "}}\n",
              "\n",
              "                        })\n",
              "                };\n",
              "                \n",
              "            </script>\n",
              "        </div>\n",
              "</body>\n",
              "</html>"
            ]
          },
          "metadata": {
            "tags": []
          }
        }
      ]
    },
    {
      "cell_type": "code",
      "metadata": {
        "id": "yR2gGrbamiDM",
        "colab_type": "code",
        "outputId": "ae2bc858-5ce4-4021-d8e8-7a35ba66e3cc",
        "colab": {
          "base_uri": "https://localhost:8080/",
          "height": 52
        }
      },
      "source": [
        "mse_lstm = mean_squared_error(Y_test, prediction)\n",
        "print(\" MSE LSTM (on test set) = \", mse_lstm)\n",
        "time_lstm = end - start\n",
        "print(\"time_lstm : %f sec \" %(time_lstm))"
      ],
      "execution_count": 0,
      "outputs": [
        {
          "output_type": "stream",
          "text": [
            " MSE LSTM (on test set) =  0.14261934988836966\n",
            "time_lstm : 170.219450 sec \n"
          ],
          "name": "stdout"
        }
      ]
    },
    {
      "cell_type": "code",
      "metadata": {
        "id": "PPINfzmODa0R",
        "colab_type": "code",
        "outputId": "1b105431-7f8a-400c-e647-a6c9ef287d37",
        "colab": {
          "base_uri": "https://localhost:8080/",
          "height": 542
        }
      },
      "source": [
        "\n",
        "trace1 = go.Scatter(\n",
        "    x = np.arange(0, len(history.history['loss']), 1),\n",
        "    y = history.history['loss'],\n",
        "    mode = 'lines',\n",
        "    name = 'Train loss',\n",
        "    line = dict(color=('rgb(66, 244, 155)'), width=2, dash='dash')\n",
        ")\n",
        "trace2 = go.Scatter(\n",
        "    x = np.arange(0, len(history.history['val_loss']), 1),\n",
        "    y = history.history['val_loss'],\n",
        "    mode = 'lines',\n",
        "    name = 'Test loss',\n",
        "    line = dict(color=('rgb(244, 146, 65)'), width=2)\n",
        ")\n",
        "\n",
        "d = [trace1, trace2]\n",
        "layout = dict(title = 'Train and Test Loss during training',\n",
        "              xaxis = dict(title = 'Epoch number'), yaxis = dict(title = 'Loss'))\n",
        "fig = dict(data=d, layout=layout)\n",
        "py.iplot(fig, filename='training_process')"
      ],
      "execution_count": 0,
      "outputs": [
        {
          "output_type": "display_data",
          "data": {
            "text/html": [
              "<html>\n",
              "<head><meta charset=\"utf-8\" /></head>\n",
              "<body>\n",
              "    <div>\n",
              "            <script src=\"https://cdnjs.cloudflare.com/ajax/libs/mathjax/2.7.5/MathJax.js?config=TeX-AMS-MML_SVG\"></script><script type=\"text/javascript\">if (window.MathJax) {MathJax.Hub.Config({SVG: {font: \"STIX-Web\"}});}</script>\n",
              "                <script type=\"text/javascript\">window.PlotlyConfig = {MathJaxConfig: 'local'};</script>\n",
              "        <script src=\"https://cdn.plot.ly/plotly-latest.min.js\"></script>    \n",
              "            <div id=\"e0883965-cdd8-43a6-9975-d08e44d78f8c\" class=\"plotly-graph-div\" style=\"height:525px; width:100%;\"></div>\n",
              "            <script type=\"text/javascript\">\n",
              "                \n",
              "                    window.PLOTLYENV=window.PLOTLYENV || {};\n",
              "                    \n",
              "                if (document.getElementById(\"e0883965-cdd8-43a6-9975-d08e44d78f8c\")) {\n",
              "                    Plotly.newPlot(\n",
              "                        'e0883965-cdd8-43a6-9975-d08e44d78f8c',\n",
              "                        [{\"line\": {\"color\": \"rgb(66, 244, 155)\", \"dash\": \"dash\", \"width\": 2}, \"mode\": \"lines\", \"name\": \"Train loss\", \"type\": \"scatter\", \"x\": [0, 1, 2, 3, 4, 5, 6, 7, 8, 9, 10, 11, 12, 13, 14, 15, 16, 17, 18, 19, 20, 21, 22, 23, 24, 25, 26, 27, 28, 29, 30, 31, 32, 33, 34, 35, 36, 37, 38, 39, 40, 41, 42, 43, 44, 45, 46, 47, 48, 49, 50, 51, 52, 53, 54, 55, 56, 57, 58, 59, 60, 61, 62, 63, 64, 65, 66, 67, 68, 69, 70, 71, 72, 73, 74, 75, 76, 77, 78, 79, 80, 81, 82, 83, 84, 85, 86, 87, 88, 89, 90, 91, 92, 93, 94, 95, 96, 97, 98, 99, 100, 101, 102, 103, 104, 105, 106, 107, 108, 109, 110, 111, 112, 113, 114, 115, 116, 117, 118, 119, 120, 121, 122, 123, 124, 125, 126, 127, 128, 129, 130, 131, 132, 133, 134, 135, 136, 137, 138, 139, 140, 141, 142, 143, 144, 145, 146, 147, 148, 149, 150, 151, 152, 153, 154, 155, 156, 157, 158, 159, 160, 161, 162, 163, 164, 165, 166, 167, 168, 169, 170, 171, 172, 173, 174, 175, 176, 177, 178, 179, 180, 181, 182, 183, 184, 185, 186, 187, 188, 189, 190, 191, 192, 193, 194, 195, 196, 197, 198, 199, 200, 201, 202, 203, 204, 205, 206, 207, 208], \"y\": [0.47500687015619136, 0.11943366832546082, 0.14522313805785222, 0.12385784433486068, 0.17878459417785927, 0.05384023285211252, 0.03279528190993637, 0.023252482184921024, 0.017833168270106805, 0.015703195092254294, 0.014031494368265736, 0.01669127835665918, 0.019664024369198774, 0.037963785137437, 0.030307436832428935, 0.0527036475606157, 0.024301854962753583, 0.029425081419906206, 0.017371314869282492, 0.02058146221742799, 0.014724793468636208, 0.018181729115482003, 0.014022618882787198, 0.018026314639075905, 0.014108876639414262, 0.018795284039717173, 0.014448800334319759, 0.019641822662852852, 0.01460764432001007, 0.019886058882323525, 0.014409220254068917, 0.01939921946912376, 0.013931156827202175, 0.018513521921583054, 0.013386324226066396, 0.01761694156715587, 0.012877604210491172, 0.016882438140723835, 0.012506199534010696, 0.01637143811085829, 0.01218756583351362, 0.016041387443334325, 0.012031214033799224, 0.015978664324388766, 0.011919247442063486, 0.016326862304954975, 0.012061456018959317, 0.017119832259357187, 0.01289865398508977, 0.01827657332982812, 0.01306774640395205, 0.017511052910537027, 0.012151899857552278, 0.01510789589909759, 0.010859601865856845, 0.013195043641961925, 0.009851059659877062, 0.011705951514080142, 0.009353873903749631, 0.01131414981789806, 0.009222077433554726, 0.01127903000568234, 0.009358070129979532, 0.011722758320822552, 0.009652058866212397, 0.012278676209878022, 0.010006556925651475, 0.012941732184645815, 0.010305535978014162, 0.013342300552380379, 0.01047807765342544, 0.013618192743923584, 0.010462301602324343, 0.013337850298978177, 0.010374715242523992, 0.01345769940674902, 0.010197392687977343, 0.012585254855615667, 0.01042708442608619, 0.014892017499905994, 0.0144888106754939, 0.02025733796435755, 0.017440200755326, 0.031670657246185466, 0.013808551102951294, 0.020689781934399163, 0.012492082569940957, 0.01345955368359954, 0.008673264912270532, 0.008638851858056672, 0.006553251337289549, 0.0065562181246275695, 0.0056957945955267335, 0.005821108726126909, 0.005365069331531296, 0.005574880004199673, 0.005277590472243403, 0.005589587941224716, 0.005368525308295649, 0.005849076102632339, 0.0056663368611311994, 0.006443858194671795, 0.006253555466036914, 0.007539781234545854, 0.00721611425405732, 0.009278528023050951, 0.0085144563720333, 0.011504057661291268, 0.009819727055557408, 0.013474706616734647, 0.010581850993893232, 0.014203243800679935, 0.010511667899303885, 0.013511846194942428, 0.009856384979461464, 0.012183490695543774, 0.009042892317040412, 0.010872950837854141, 0.008368733903596827, 0.009955686644164345, 0.007867127936411158, 0.009269787148667347, 0.007618311290607441, 0.009099080288924203, 0.007442486794076188, 0.00875715292054998, 0.00778690200802001, 0.009693009974178431, 0.008287364685206747, 0.01085621654580756, 0.008853747325565337, 0.011643698059243207, 0.008698321637333696, 0.01043891590764942, 0.00807735941820593, 0.009638494828277468, 0.007519825065869197, 0.00883210678829754, 0.007296252987178071, 0.008743935169804474, 0.007055008525840428, 0.008482034030123202, 0.007355324567555261, 0.009385921166376375, 0.007571517426103901, 0.009741295970010824, 0.008629074934147024, 0.01196706020008953, 0.011357189917576208, 0.017095409681397073, 0.014335095750258145, 0.022612701085604453, 0.014789969183213835, 0.024295769509811185, 0.012281658114299477, 0.013460606347477198, 0.008866223897660565, 0.007787402781256737, 0.005229165716538321, 0.004824449852978086, 0.004168794997649047, 0.004032700642273265, 0.0037942679188072755, 0.0037602765962966595, 0.0036422996119034783, 0.0036462137476775875, 0.003575762803977253, 0.0036069652190407076, 0.003562344308322193, 0.0036302933958009234, 0.0036084762728152693, 0.0037452110461735216, 0.0037557566637571324, 0.004035914830050317, 0.004098857198888513, 0.004675418897827337, 0.004807315318058486, 0.005964624214076277, 0.006076201659904012, 0.008207433916688997, 0.007822339513762006, 0.01099204201832762, 0.009335171325771273, 0.012827091872107505, 0.009614565622726943, 0.011982047563233726, 0.011519643409490176, 0.014172450353613805, 0.01075471247910197, 0.015939062414224412, 0.00973992959735371, 0.011429430298096748, 0.0076503796520050555, 0.00762144784530149, 0.005508585219840536, 0.0054936487058982976, 0.004578128984145111, 0.004649772048727275, 0.004194839389330842, 0.004318331455141741, 0.004045490381107331, 0.004226725176520931, 0.004043366421070043, 0.004309827016584128, 0.004176109514777582, 0.00458281315596485, 0.004473571822230699, 0.005113547827421885, 0.004988806768637679]}, {\"line\": {\"color\": \"rgb(244, 146, 65)\", \"width\": 2}, \"mode\": \"lines\", \"name\": \"Test loss\", \"type\": \"scatter\", \"x\": [0, 1, 2, 3, 4, 5, 6, 7, 8, 9, 10, 11, 12, 13, 14, 15, 16, 17, 18, 19, 20, 21, 22, 23, 24, 25, 26, 27, 28, 29, 30, 31, 32, 33, 34, 35, 36, 37, 38, 39, 40, 41, 42, 43, 44, 45, 46, 47, 48, 49, 50, 51, 52, 53, 54, 55, 56, 57, 58, 59, 60, 61, 62, 63, 64, 65, 66, 67, 68, 69, 70, 71, 72, 73, 74, 75, 76, 77, 78, 79, 80, 81, 82, 83, 84, 85, 86, 87, 88, 89, 90, 91, 92, 93, 94, 95, 96, 97, 98, 99, 100, 101, 102, 103, 104, 105, 106, 107, 108, 109, 110, 111, 112, 113, 114, 115, 116, 117, 118, 119, 120, 121, 122, 123, 124, 125, 126, 127, 128, 129, 130, 131, 132, 133, 134, 135, 136, 137, 138, 139, 140, 141, 142, 143, 144, 145, 146, 147, 148, 149, 150, 151, 152, 153, 154, 155, 156, 157, 158, 159, 160, 161, 162, 163, 164, 165, 166, 167, 168, 169, 170, 171, 172, 173, 174, 175, 176, 177, 178, 179, 180, 181, 182, 183, 184, 185, 186, 187, 188, 189, 190, 191, 192, 193, 194, 195, 196, 197, 198, 199, 200, 201, 202, 203, 204, 205, 206, 207, 208], \"y\": [1.6403966085820259, 0.15332258247499225, 0.07414496213763574, 0.09219947296984587, 0.7536423108245753, 0.10193496404946605, 0.05197667896370344, 0.042206996886790554, 0.04113832894193975, 0.039196089098725136, 0.034683135514961015, 0.03638059259215488, 0.0323576727952761, 0.043194418584432785, 0.03142633383409887, 0.09040846284243124, 0.03549496009002758, 0.04379835979470724, 0.03327373924511898, 0.03242577640693399, 0.03076238010691691, 0.029838740861019755, 0.029095502876782718, 0.029347902281752117, 0.027845104283924345, 0.029971814407860932, 0.02699091983369634, 0.031002854126729543, 0.026379585714091228, 0.03153662647627577, 0.025905429208769076, 0.031120486227394658, 0.02539768487309353, 0.03010455660427673, 0.024893335573658158, 0.028990243950599355, 0.02431141370553759, 0.028015813637006132, 0.023823262062631075, 0.027236122626198244, 0.02321361033599588, 0.026523540421282944, 0.022752649421933332, 0.025766133083195628, 0.02201344991173548, 0.02494490242126999, 0.02136021388010888, 0.024145046083987515, 0.021180069015090223, 0.02604408449010004, 0.021121829182286805, 0.02703040172169103, 0.021616693350333203, 0.024925615178727652, 0.02097587843861761, 0.02304646766544143, 0.020767440701115737, 0.021315654999093166, 0.020176999695316146, 0.02069666574980262, 0.019776521957939185, 0.0204339251040092, 0.01939238321413345, 0.02054871657651059, 0.019072903897849065, 0.02086814281919712, 0.018818813034250766, 0.021337996732113482, 0.018599801626103588, 0.021699370403738715, 0.018450253926028934, 0.021908388767815843, 0.01823840738285946, 0.021656020320480383, 0.01811605782684269, 0.02134896362129646, 0.017444688638177098, 0.0199777295199942, 0.016661792722400984, 0.017405924752731866, 0.018072897863067403, 0.023478888611816153, 0.021616118806826918, 0.05235875482800641, 0.015434873832649068, 0.026832108114716372, 0.0181329612608386, 0.022682159490694728, 0.017571651777606223, 0.01752720500896626, 0.016322319325106808, 0.015484434635012964, 0.015615627511486978, 0.014886350194110146, 0.015210776837377609, 0.014620909573439556, 0.014939860134279425, 0.01446794285851566, 0.014733835925124113, 0.014394937896558756, 0.014560531129282487, 0.0144521468849499, 0.014405847892542428, 0.014805568452877334, 0.014276252929828589, 0.015787863703090932, 0.014206528911202014, 0.017694546900029424, 0.014244739367048951, 0.020061599845184557, 0.014391800376904917, 0.02140371831534784, 0.014553629368826558, 0.02092147313199843, 0.014579502735994284, 0.019495191288333904, 0.014482635415241689, 0.018033306302997886, 0.014289411904785452, 0.016998605755499645, 0.01411753964810809, 0.016266142029928255, 0.01389126522065718, 0.015872186238441287, 0.013731307314732407, 0.015578721201966834, 0.013157969211004202, 0.014988785868958581, 0.012628874010583269, 0.017255710343582722, 0.013291120599908165, 0.018722394669923603, 0.013422382182052618, 0.01744725318224747, 0.013713341536401193, 0.016263826927052267, 0.013085752607712263, 0.015536681336315371, 0.013517518633905845, 0.014754572588525996, 0.012585539347197435, 0.014551556775275665, 0.013258585187641881, 0.013992068027676661, 0.012083227911233148, 0.014087719371235824, 0.012272868688583752, 0.012489553181383806, 0.0128371981974644, 0.01755885360173032, 0.013945823152184109, 0.021254306222913386, 0.01359994738963963, 0.03380143279327622, 0.012453218633191118, 0.021093302948659735, 0.015551469123721877, 0.015373570762008806, 0.01310776188215123, 0.012168218263813967, 0.01208845013163135, 0.011559094261095117, 0.011736438167576172, 0.011380619923525218, 0.01158538922266681, 0.011302815007540998, 0.011509455068484891, 0.011256803286886668, 0.011469729881309256, 0.011222826010441478, 0.011449954755415645, 0.011195048224180937, 0.011438646477564603, 0.011180899306377279, 0.011426419833132738, 0.011243207268181104, 0.011414201535237364, 0.011633314687428595, 0.011445574362208194, 0.013005722408430486, 0.011622036406416682, 0.015902759354042856, 0.011920887181134541, 0.018950615785544432, 0.0123167574535348, 0.017886639501946636, 0.011189803263007463, 0.019799704580933233, 0.010656130052159858, 0.027160222818957098, 0.012024924577555702, 0.019639629033641724, 0.012157011794845891, 0.015188455192631558, 0.01171662588898517, 0.012499505718816308, 0.011286625850804245, 0.011580157895348494, 0.011074208984552305, 0.011226509703629756, 0.010965058226374131, 0.011080959517084345, 0.010909002698674987, 0.011046423765394506, 0.010883199304483736, 0.011111791770245079, 0.010878266743089579, 0.011327155217339721, 0.010895862874775371]}],\n",
              "                        {\"template\": {\"data\": {\"bar\": [{\"error_x\": {\"color\": \"#2a3f5f\"}, \"error_y\": {\"color\": \"#2a3f5f\"}, \"marker\": {\"line\": {\"color\": \"#E5ECF6\", \"width\": 0.5}}, \"type\": \"bar\"}], \"barpolar\": [{\"marker\": {\"line\": {\"color\": \"#E5ECF6\", \"width\": 0.5}}, \"type\": \"barpolar\"}], \"carpet\": [{\"aaxis\": {\"endlinecolor\": \"#2a3f5f\", \"gridcolor\": \"white\", \"linecolor\": \"white\", \"minorgridcolor\": \"white\", \"startlinecolor\": \"#2a3f5f\"}, \"baxis\": {\"endlinecolor\": \"#2a3f5f\", \"gridcolor\": \"white\", \"linecolor\": \"white\", \"minorgridcolor\": \"white\", \"startlinecolor\": \"#2a3f5f\"}, \"type\": \"carpet\"}], \"choropleth\": [{\"colorbar\": {\"outlinewidth\": 0, \"ticks\": \"\"}, \"type\": \"choropleth\"}], \"contour\": [{\"colorbar\": {\"outlinewidth\": 0, \"ticks\": \"\"}, \"colorscale\": [[0.0, \"#0d0887\"], [0.1111111111111111, \"#46039f\"], [0.2222222222222222, \"#7201a8\"], [0.3333333333333333, \"#9c179e\"], [0.4444444444444444, \"#bd3786\"], [0.5555555555555556, \"#d8576b\"], [0.6666666666666666, \"#ed7953\"], [0.7777777777777778, \"#fb9f3a\"], [0.8888888888888888, \"#fdca26\"], [1.0, \"#f0f921\"]], \"type\": \"contour\"}], \"contourcarpet\": [{\"colorbar\": {\"outlinewidth\": 0, \"ticks\": \"\"}, \"type\": \"contourcarpet\"}], \"heatmap\": [{\"colorbar\": {\"outlinewidth\": 0, \"ticks\": \"\"}, \"colorscale\": [[0.0, \"#0d0887\"], [0.1111111111111111, \"#46039f\"], [0.2222222222222222, \"#7201a8\"], [0.3333333333333333, \"#9c179e\"], [0.4444444444444444, \"#bd3786\"], [0.5555555555555556, \"#d8576b\"], [0.6666666666666666, \"#ed7953\"], [0.7777777777777778, \"#fb9f3a\"], [0.8888888888888888, \"#fdca26\"], [1.0, \"#f0f921\"]], \"type\": \"heatmap\"}], \"heatmapgl\": [{\"colorbar\": {\"outlinewidth\": 0, \"ticks\": \"\"}, \"colorscale\": [[0.0, \"#0d0887\"], [0.1111111111111111, \"#46039f\"], [0.2222222222222222, \"#7201a8\"], [0.3333333333333333, \"#9c179e\"], [0.4444444444444444, \"#bd3786\"], [0.5555555555555556, \"#d8576b\"], [0.6666666666666666, \"#ed7953\"], [0.7777777777777778, \"#fb9f3a\"], [0.8888888888888888, \"#fdca26\"], [1.0, \"#f0f921\"]], \"type\": \"heatmapgl\"}], \"histogram\": [{\"marker\": {\"colorbar\": {\"outlinewidth\": 0, \"ticks\": \"\"}}, \"type\": \"histogram\"}], \"histogram2d\": [{\"colorbar\": {\"outlinewidth\": 0, \"ticks\": \"\"}, \"colorscale\": [[0.0, \"#0d0887\"], [0.1111111111111111, \"#46039f\"], [0.2222222222222222, \"#7201a8\"], [0.3333333333333333, \"#9c179e\"], [0.4444444444444444, \"#bd3786\"], [0.5555555555555556, \"#d8576b\"], [0.6666666666666666, \"#ed7953\"], [0.7777777777777778, \"#fb9f3a\"], [0.8888888888888888, \"#fdca26\"], [1.0, \"#f0f921\"]], \"type\": \"histogram2d\"}], \"histogram2dcontour\": [{\"colorbar\": {\"outlinewidth\": 0, \"ticks\": \"\"}, \"colorscale\": [[0.0, \"#0d0887\"], [0.1111111111111111, \"#46039f\"], [0.2222222222222222, \"#7201a8\"], [0.3333333333333333, \"#9c179e\"], [0.4444444444444444, \"#bd3786\"], [0.5555555555555556, \"#d8576b\"], [0.6666666666666666, \"#ed7953\"], [0.7777777777777778, \"#fb9f3a\"], [0.8888888888888888, \"#fdca26\"], [1.0, \"#f0f921\"]], \"type\": \"histogram2dcontour\"}], \"mesh3d\": [{\"colorbar\": {\"outlinewidth\": 0, \"ticks\": \"\"}, \"type\": \"mesh3d\"}], \"parcoords\": [{\"line\": {\"colorbar\": {\"outlinewidth\": 0, \"ticks\": \"\"}}, \"type\": \"parcoords\"}], \"pie\": [{\"automargin\": true, \"type\": \"pie\"}], \"scatter\": [{\"marker\": {\"colorbar\": {\"outlinewidth\": 0, \"ticks\": \"\"}}, \"type\": \"scatter\"}], \"scatter3d\": [{\"line\": {\"colorbar\": {\"outlinewidth\": 0, \"ticks\": \"\"}}, \"marker\": {\"colorbar\": {\"outlinewidth\": 0, \"ticks\": \"\"}}, \"type\": \"scatter3d\"}], \"scattercarpet\": [{\"marker\": {\"colorbar\": {\"outlinewidth\": 0, \"ticks\": \"\"}}, \"type\": \"scattercarpet\"}], \"scattergeo\": [{\"marker\": {\"colorbar\": {\"outlinewidth\": 0, \"ticks\": \"\"}}, \"type\": \"scattergeo\"}], \"scattergl\": [{\"marker\": {\"colorbar\": {\"outlinewidth\": 0, \"ticks\": \"\"}}, \"type\": \"scattergl\"}], \"scattermapbox\": [{\"marker\": {\"colorbar\": {\"outlinewidth\": 0, \"ticks\": \"\"}}, \"type\": \"scattermapbox\"}], \"scatterpolar\": [{\"marker\": {\"colorbar\": {\"outlinewidth\": 0, \"ticks\": \"\"}}, \"type\": \"scatterpolar\"}], \"scatterpolargl\": [{\"marker\": {\"colorbar\": {\"outlinewidth\": 0, \"ticks\": \"\"}}, \"type\": \"scatterpolargl\"}], \"scatterternary\": [{\"marker\": {\"colorbar\": {\"outlinewidth\": 0, \"ticks\": \"\"}}, \"type\": \"scatterternary\"}], \"surface\": [{\"colorbar\": {\"outlinewidth\": 0, \"ticks\": \"\"}, \"colorscale\": [[0.0, \"#0d0887\"], [0.1111111111111111, \"#46039f\"], [0.2222222222222222, \"#7201a8\"], [0.3333333333333333, \"#9c179e\"], [0.4444444444444444, \"#bd3786\"], [0.5555555555555556, \"#d8576b\"], [0.6666666666666666, \"#ed7953\"], [0.7777777777777778, \"#fb9f3a\"], [0.8888888888888888, \"#fdca26\"], [1.0, \"#f0f921\"]], \"type\": \"surface\"}], \"table\": [{\"cells\": {\"fill\": {\"color\": \"#EBF0F8\"}, \"line\": {\"color\": \"white\"}}, \"header\": {\"fill\": {\"color\": \"#C8D4E3\"}, \"line\": {\"color\": \"white\"}}, \"type\": \"table\"}]}, \"layout\": {\"annotationdefaults\": {\"arrowcolor\": \"#2a3f5f\", \"arrowhead\": 0, \"arrowwidth\": 1}, \"coloraxis\": {\"colorbar\": {\"outlinewidth\": 0, \"ticks\": \"\"}}, \"colorscale\": {\"diverging\": [[0, \"#8e0152\"], [0.1, \"#c51b7d\"], [0.2, \"#de77ae\"], [0.3, \"#f1b6da\"], [0.4, \"#fde0ef\"], [0.5, \"#f7f7f7\"], [0.6, \"#e6f5d0\"], [0.7, \"#b8e186\"], [0.8, \"#7fbc41\"], [0.9, \"#4d9221\"], [1, \"#276419\"]], \"sequential\": [[0.0, \"#0d0887\"], [0.1111111111111111, \"#46039f\"], [0.2222222222222222, \"#7201a8\"], [0.3333333333333333, \"#9c179e\"], [0.4444444444444444, \"#bd3786\"], [0.5555555555555556, \"#d8576b\"], [0.6666666666666666, \"#ed7953\"], [0.7777777777777778, \"#fb9f3a\"], [0.8888888888888888, \"#fdca26\"], [1.0, \"#f0f921\"]], \"sequentialminus\": [[0.0, \"#0d0887\"], [0.1111111111111111, \"#46039f\"], [0.2222222222222222, \"#7201a8\"], [0.3333333333333333, \"#9c179e\"], [0.4444444444444444, \"#bd3786\"], [0.5555555555555556, \"#d8576b\"], [0.6666666666666666, \"#ed7953\"], [0.7777777777777778, \"#fb9f3a\"], [0.8888888888888888, \"#fdca26\"], [1.0, \"#f0f921\"]]}, \"colorway\": [\"#636efa\", \"#EF553B\", \"#00cc96\", \"#ab63fa\", \"#FFA15A\", \"#19d3f3\", \"#FF6692\", \"#B6E880\", \"#FF97FF\", \"#FECB52\"], \"font\": {\"color\": \"#2a3f5f\"}, \"geo\": {\"bgcolor\": \"white\", \"lakecolor\": \"white\", \"landcolor\": \"#E5ECF6\", \"showlakes\": true, \"showland\": true, \"subunitcolor\": \"white\"}, \"hoverlabel\": {\"align\": \"left\"}, \"hovermode\": \"closest\", \"mapbox\": {\"style\": \"light\"}, \"paper_bgcolor\": \"white\", \"plot_bgcolor\": \"#E5ECF6\", \"polar\": {\"angularaxis\": {\"gridcolor\": \"white\", \"linecolor\": \"white\", \"ticks\": \"\"}, \"bgcolor\": \"#E5ECF6\", \"radialaxis\": {\"gridcolor\": \"white\", \"linecolor\": \"white\", \"ticks\": \"\"}}, \"scene\": {\"xaxis\": {\"backgroundcolor\": \"#E5ECF6\", \"gridcolor\": \"white\", \"gridwidth\": 2, \"linecolor\": \"white\", \"showbackground\": true, \"ticks\": \"\", \"zerolinecolor\": \"white\"}, \"yaxis\": {\"backgroundcolor\": \"#E5ECF6\", \"gridcolor\": \"white\", \"gridwidth\": 2, \"linecolor\": \"white\", \"showbackground\": true, \"ticks\": \"\", \"zerolinecolor\": \"white\"}, \"zaxis\": {\"backgroundcolor\": \"#E5ECF6\", \"gridcolor\": \"white\", \"gridwidth\": 2, \"linecolor\": \"white\", \"showbackground\": true, \"ticks\": \"\", \"zerolinecolor\": \"white\"}}, \"shapedefaults\": {\"line\": {\"color\": \"#2a3f5f\"}}, \"ternary\": {\"aaxis\": {\"gridcolor\": \"white\", \"linecolor\": \"white\", \"ticks\": \"\"}, \"baxis\": {\"gridcolor\": \"white\", \"linecolor\": \"white\", \"ticks\": \"\"}, \"bgcolor\": \"#E5ECF6\", \"caxis\": {\"gridcolor\": \"white\", \"linecolor\": \"white\", \"ticks\": \"\"}}, \"title\": {\"x\": 0.05}, \"xaxis\": {\"automargin\": true, \"gridcolor\": \"white\", \"linecolor\": \"white\", \"ticks\": \"\", \"title\": {\"standoff\": 15}, \"zerolinecolor\": \"white\", \"zerolinewidth\": 2}, \"yaxis\": {\"automargin\": true, \"gridcolor\": \"white\", \"linecolor\": \"white\", \"ticks\": \"\", \"title\": {\"standoff\": 15}, \"zerolinecolor\": \"white\", \"zerolinewidth\": 2}}}, \"title\": {\"text\": \"Train and Test Loss during training\"}, \"xaxis\": {\"title\": {\"text\": \"Epoch number\"}}, \"yaxis\": {\"title\": {\"text\": \"Loss\"}}},\n",
              "                        {\"responsive\": true}\n",
              "                    ).then(function(){\n",
              "                            \n",
              "var gd = document.getElementById('e0883965-cdd8-43a6-9975-d08e44d78f8c');\n",
              "var x = new MutationObserver(function (mutations, observer) {{\n",
              "        var display = window.getComputedStyle(gd).display;\n",
              "        if (!display || display === 'none') {{\n",
              "            console.log([gd, 'removed!']);\n",
              "            Plotly.purge(gd);\n",
              "            observer.disconnect();\n",
              "        }}\n",
              "}});\n",
              "\n",
              "// Listen for the removal of the full notebook cells\n",
              "var notebookContainer = gd.closest('#notebook-container');\n",
              "if (notebookContainer) {{\n",
              "    x.observe(notebookContainer, {childList: true});\n",
              "}}\n",
              "\n",
              "// Listen for the clearing of the current output cell\n",
              "var outputEl = gd.closest('.output');\n",
              "if (outputEl) {{\n",
              "    x.observe(outputEl, {childList: true});\n",
              "}}\n",
              "\n",
              "                        })\n",
              "                };\n",
              "                \n",
              "            </script>\n",
              "        </div>\n",
              "</body>\n",
              "</html>"
            ]
          },
          "metadata": {
            "tags": []
          }
        }
      ]
    },
    {
      "cell_type": "markdown",
      "metadata": {
        "id": "moLTRMK-uF2v",
        "colab_type": "text"
      },
      "source": [
        "GRU with reccurent dropout Neural Network"
      ]
    },
    {
      "cell_type": "code",
      "metadata": {
        "id": "O5ie180mDa0Y",
        "colab_type": "code",
        "colab": {}
      },
      "source": [
        "# --------------------------------------\n",
        "# Network params\n",
        "# --------------------------------------\n",
        "# Network params\n",
        "batch = 100   # in each iteration, we consider 125 training examples at once\n",
        "epochs = 500    # we iterate 20 times over the entire training set\n",
        "drop_prob = 0.01 # dropout with probability 0.01 #approx 1 months ( knowing that 2 years are really relevant (2017-2019))\n",
        "hidden_size = 1  # the Fully connected layer will have 1 neuron\n",
        "weight_penalty = 0.0001 # Factor for weights penalty"
      ],
      "execution_count": 0,
      "outputs": []
    },
    {
      "cell_type": "code",
      "metadata": {
        "id": "ff8eZPiUDa0a",
        "colab_type": "code",
        "outputId": "31dfb50f-ce3f-471c-d45e-02df79dbae30",
        "colab": {
          "base_uri": "https://localhost:8080/",
          "height": 243
        }
      },
      "source": [
        "# --------------------------------------\n",
        "# GRU network definition\n",
        "# --------------------------------------\n",
        "\n",
        "# initialize sequential model, add 2 stacked dense layers and densely connected output neuron\n",
        "model = Sequential()\n",
        "\n",
        "\n",
        "# GRU [50]  (with dropout)\n",
        "model.add(GRU(50, activation='tanh', return_sequences=False, dropout= drop_prob, recurrent_dropout=drop_prob  ,input_shape = (X_train.shape[1], X_train.shape[2]), kernel_regularizer= regularizers.l2(weight_penalty)))\n",
        "\n",
        "# Dense [1] \n",
        "model.add(Dense(hidden_size,kernel_regularizer= regularizers.l2(weight_penalty)))\n",
        "\n",
        "          \n",
        "print(model.summary())\n"
      ],
      "execution_count": 0,
      "outputs": [
        {
          "output_type": "stream",
          "text": [
            "Model: \"sequential_3\"\n",
            "_________________________________________________________________\n",
            "Layer (type)                 Output Shape              Param #   \n",
            "=================================================================\n",
            "gru_1 (GRU)                  (None, 50)                8700      \n",
            "_________________________________________________________________\n",
            "dense_4 (Dense)              (None, 1)                 51        \n",
            "=================================================================\n",
            "Total params: 8,751\n",
            "Trainable params: 8,751\n",
            "Non-trainable params: 0\n",
            "_________________________________________________________________\n",
            "None\n"
          ],
          "name": "stdout"
        }
      ]
    },
    {
      "cell_type": "code",
      "metadata": {
        "id": "8h4xgoRgDa0d",
        "colab_type": "code",
        "outputId": "c351fdc3-e415-471a-fb53-aa962d314846",
        "colab": {
          "base_uri": "https://localhost:8080/",
          "height": 1000
        }
      },
      "source": [
        "# --------------------------------------\n",
        "# Loss function and Optimizer\n",
        "# --------------------------------------\n",
        "from keras.optimizers import Adam\n",
        "optimizer = Adam(lr=learning_rate)\n",
        "model.compile(loss='mean_squared_error', # using MSE\n",
        "              optimizer=optimizer, # using the Adam optimiser\n",
        "              ) \n",
        "# --------------------------------------\n",
        "# Training\n",
        "# --------------------------------------\n",
        "start = time.time()\n",
        "history = model.fit(X_train, Y_train, \n",
        "                    batch_size=batch, nb_epoch=epochs,\n",
        "                    shuffle=True, \n",
        "                    validation_split = 0.05,\n",
        "                   callbacks = [EarlyStopping(monitor='val_loss', patience=20, verbose = 1)])\n",
        "end = time.time()         \n"
      ],
      "execution_count": 0,
      "outputs": [
        {
          "output_type": "stream",
          "text": [
            "/usr/local/lib/python3.6/dist-packages/ipykernel_launcher.py:14: UserWarning:\n",
            "\n",
            "The `nb_epoch` argument in `fit` has been renamed `epochs`.\n",
            "\n"
          ],
          "name": "stderr"
        },
        {
          "output_type": "stream",
          "text": [
            "Train on 2995 samples, validate on 158 samples\n",
            "Epoch 1/500\n",
            "2995/2995 [==============================] - 1s 466us/step - loss: 0.1733 - val_loss: 0.0450\n",
            "Epoch 2/500\n",
            "2995/2995 [==============================] - 1s 324us/step - loss: 0.0270 - val_loss: 0.0270\n",
            "Epoch 3/500\n",
            "2995/2995 [==============================] - 1s 329us/step - loss: 0.0187 - val_loss: 0.0240\n",
            "Epoch 4/500\n",
            "2995/2995 [==============================] - 1s 329us/step - loss: 0.0217 - val_loss: 0.0257\n",
            "Epoch 5/500\n",
            "2995/2995 [==============================] - 1s 327us/step - loss: 0.0121 - val_loss: 0.0235\n",
            "Epoch 6/500\n",
            "2995/2995 [==============================] - 1s 324us/step - loss: 0.0174 - val_loss: 0.0193\n",
            "Epoch 7/500\n",
            "2995/2995 [==============================] - 1s 323us/step - loss: 0.0159 - val_loss: 0.0193\n",
            "Epoch 8/500\n",
            "2995/2995 [==============================] - 1s 327us/step - loss: 0.0130 - val_loss: 0.0216\n",
            "Epoch 9/500\n",
            "2995/2995 [==============================] - 1s 320us/step - loss: 0.0096 - val_loss: 0.0263\n",
            "Epoch 10/500\n",
            "2995/2995 [==============================] - 1s 317us/step - loss: 0.0146 - val_loss: 0.0162\n",
            "Epoch 11/500\n",
            "2995/2995 [==============================] - 1s 321us/step - loss: 0.0124 - val_loss: 0.0253\n",
            "Epoch 12/500\n",
            "2995/2995 [==============================] - 1s 329us/step - loss: 0.0131 - val_loss: 0.0171\n",
            "Epoch 13/500\n",
            "2995/2995 [==============================] - 1s 338us/step - loss: 0.0250 - val_loss: 0.0152\n",
            "Epoch 14/500\n",
            "2995/2995 [==============================] - 1s 336us/step - loss: 0.0140 - val_loss: 0.0155\n",
            "Epoch 15/500\n",
            "2995/2995 [==============================] - 1s 325us/step - loss: 0.0088 - val_loss: 0.0156\n",
            "Epoch 16/500\n",
            "2995/2995 [==============================] - 1s 342us/step - loss: 0.0152 - val_loss: 0.0140\n",
            "Epoch 17/500\n",
            "2995/2995 [==============================] - 1s 325us/step - loss: 0.0090 - val_loss: 0.0149\n",
            "Epoch 18/500\n",
            "2995/2995 [==============================] - 1s 328us/step - loss: 0.0250 - val_loss: 0.0180\n",
            "Epoch 19/500\n",
            "2995/2995 [==============================] - 1s 328us/step - loss: 0.0138 - val_loss: 0.0135\n",
            "Epoch 20/500\n",
            "2995/2995 [==============================] - 1s 330us/step - loss: 0.0070 - val_loss: 0.0167\n",
            "Epoch 21/500\n",
            "2995/2995 [==============================] - 1s 323us/step - loss: 0.0111 - val_loss: 0.0134\n",
            "Epoch 22/500\n",
            "2995/2995 [==============================] - 1s 328us/step - loss: 0.0065 - val_loss: 0.0134\n",
            "Epoch 23/500\n",
            "2995/2995 [==============================] - 1s 327us/step - loss: 0.0117 - val_loss: 0.0130\n",
            "Epoch 24/500\n",
            "2995/2995 [==============================] - 1s 333us/step - loss: 0.0161 - val_loss: 0.0162\n",
            "Epoch 25/500\n",
            "2995/2995 [==============================] - 1s 328us/step - loss: 0.0089 - val_loss: 0.0137\n",
            "Epoch 26/500\n",
            "2995/2995 [==============================] - 1s 326us/step - loss: 0.0149 - val_loss: 0.0150\n",
            "Epoch 27/500\n",
            "2995/2995 [==============================] - 1s 326us/step - loss: 0.0087 - val_loss: 0.0134\n",
            "Epoch 28/500\n",
            "2995/2995 [==============================] - 1s 328us/step - loss: 0.0085 - val_loss: 0.0143\n",
            "Epoch 29/500\n",
            "2995/2995 [==============================] - 1s 340us/step - loss: 0.0147 - val_loss: 0.0128\n",
            "Epoch 30/500\n",
            "2995/2995 [==============================] - 1s 325us/step - loss: 0.0185 - val_loss: 0.0163\n",
            "Epoch 31/500\n",
            "2995/2995 [==============================] - 1s 332us/step - loss: 0.0173 - val_loss: 0.0136\n",
            "Epoch 32/500\n",
            "2995/2995 [==============================] - 1s 328us/step - loss: 0.0129 - val_loss: 0.0136\n",
            "Epoch 33/500\n",
            "2995/2995 [==============================] - 1s 325us/step - loss: 0.0157 - val_loss: 0.0125\n",
            "Epoch 34/500\n",
            "2995/2995 [==============================] - 1s 327us/step - loss: 0.0127 - val_loss: 0.0177\n",
            "Epoch 35/500\n",
            "2995/2995 [==============================] - 1s 326us/step - loss: 0.0090 - val_loss: 0.0123\n",
            "Epoch 36/500\n",
            "2995/2995 [==============================] - 1s 324us/step - loss: 0.0128 - val_loss: 0.0122\n",
            "Epoch 37/500\n",
            "2995/2995 [==============================] - 1s 327us/step - loss: 0.0082 - val_loss: 0.0145\n",
            "Epoch 38/500\n",
            "2995/2995 [==============================] - 1s 323us/step - loss: 0.0099 - val_loss: 0.0128\n",
            "Epoch 39/500\n",
            "2995/2995 [==============================] - 1s 320us/step - loss: 0.0130 - val_loss: 0.0121\n",
            "Epoch 40/500\n",
            "2995/2995 [==============================] - 1s 329us/step - loss: 0.0199 - val_loss: 0.0126\n",
            "Epoch 41/500\n",
            "2995/2995 [==============================] - 1s 326us/step - loss: 0.0124 - val_loss: 0.0146\n",
            "Epoch 42/500\n",
            "2995/2995 [==============================] - 1s 327us/step - loss: 0.0097 - val_loss: 0.0118\n",
            "Epoch 43/500\n",
            "2995/2995 [==============================] - 1s 326us/step - loss: 0.0200 - val_loss: 0.0124\n",
            "Epoch 44/500\n",
            "2995/2995 [==============================] - 1s 323us/step - loss: 0.0086 - val_loss: 0.0123\n",
            "Epoch 45/500\n",
            "2995/2995 [==============================] - 1s 327us/step - loss: 0.0126 - val_loss: 0.0136\n",
            "Epoch 46/500\n",
            "2995/2995 [==============================] - 1s 332us/step - loss: 0.0075 - val_loss: 0.0120\n",
            "Epoch 47/500\n",
            "2995/2995 [==============================] - 1s 327us/step - loss: 0.0115 - val_loss: 0.0124\n",
            "Epoch 48/500\n",
            "2995/2995 [==============================] - 1s 333us/step - loss: 0.0077 - val_loss: 0.0132\n",
            "Epoch 49/500\n",
            "2995/2995 [==============================] - 1s 332us/step - loss: 0.0063 - val_loss: 0.0116\n",
            "Epoch 50/500\n",
            "2995/2995 [==============================] - 1s 338us/step - loss: 0.0133 - val_loss: 0.0115\n",
            "Epoch 51/500\n",
            "2995/2995 [==============================] - 1s 332us/step - loss: 0.0212 - val_loss: 0.0120\n",
            "Epoch 52/500\n",
            "2995/2995 [==============================] - 1s 327us/step - loss: 0.0079 - val_loss: 0.0120\n",
            "Epoch 53/500\n",
            "2995/2995 [==============================] - 1s 329us/step - loss: 0.0091 - val_loss: 0.0125\n",
            "Epoch 54/500\n",
            "2995/2995 [==============================] - 1s 329us/step - loss: 0.0133 - val_loss: 0.0162\n",
            "Epoch 55/500\n",
            "2995/2995 [==============================] - 1s 329us/step - loss: 0.0110 - val_loss: 0.0140\n",
            "Epoch 56/500\n",
            "2995/2995 [==============================] - 1s 332us/step - loss: 0.0087 - val_loss: 0.0115\n",
            "Epoch 57/500\n",
            "2995/2995 [==============================] - 1s 332us/step - loss: 0.0134 - val_loss: 0.0114\n",
            "Epoch 58/500\n",
            "2995/2995 [==============================] - 1s 330us/step - loss: 0.0134 - val_loss: 0.0274\n",
            "Epoch 59/500\n",
            "2995/2995 [==============================] - 1s 334us/step - loss: 0.0153 - val_loss: 0.0119\n",
            "Epoch 60/500\n",
            "2995/2995 [==============================] - 1s 338us/step - loss: 0.0070 - val_loss: 0.0133\n",
            "Epoch 61/500\n",
            "2995/2995 [==============================] - 1s 337us/step - loss: 0.0144 - val_loss: 0.0130\n",
            "Epoch 62/500\n",
            "2995/2995 [==============================] - 1s 332us/step - loss: 0.0071 - val_loss: 0.0113\n",
            "Epoch 63/500\n",
            "2995/2995 [==============================] - 1s 339us/step - loss: 0.0104 - val_loss: 0.0129\n",
            "Epoch 64/500\n",
            "2995/2995 [==============================] - 1s 332us/step - loss: 0.0078 - val_loss: 0.0127\n",
            "Epoch 65/500\n",
            "2995/2995 [==============================] - 1s 329us/step - loss: 0.0093 - val_loss: 0.0112\n",
            "Epoch 66/500\n",
            "2995/2995 [==============================] - 1s 327us/step - loss: 0.0059 - val_loss: 0.0113\n",
            "Epoch 67/500\n",
            "2995/2995 [==============================] - 1s 347us/step - loss: 0.0108 - val_loss: 0.0177\n",
            "Epoch 68/500\n",
            "2995/2995 [==============================] - 1s 327us/step - loss: 0.0061 - val_loss: 0.0116\n",
            "Epoch 69/500\n",
            "2995/2995 [==============================] - 1s 330us/step - loss: 0.0075 - val_loss: 0.0113\n",
            "Epoch 70/500\n",
            "2995/2995 [==============================] - 1s 334us/step - loss: 0.0111 - val_loss: 0.0111\n",
            "Epoch 71/500\n",
            "2995/2995 [==============================] - 1s 328us/step - loss: 0.0058 - val_loss: 0.0113\n",
            "Epoch 72/500\n",
            "2995/2995 [==============================] - 1s 328us/step - loss: 0.0094 - val_loss: 0.0128\n",
            "Epoch 73/500\n",
            "2995/2995 [==============================] - 1s 328us/step - loss: 0.0066 - val_loss: 0.0120\n",
            "Epoch 74/500\n",
            "2995/2995 [==============================] - 1s 348us/step - loss: 0.0079 - val_loss: 0.0121\n",
            "Epoch 75/500\n",
            "2995/2995 [==============================] - 1s 337us/step - loss: 0.0190 - val_loss: 0.0135\n",
            "Epoch 76/500\n",
            "2995/2995 [==============================] - 1s 329us/step - loss: 0.0152 - val_loss: 0.0200\n",
            "Epoch 77/500\n",
            "2995/2995 [==============================] - 1s 324us/step - loss: 0.0072 - val_loss: 0.0172\n",
            "Epoch 78/500\n",
            "2995/2995 [==============================] - 1s 330us/step - loss: 0.0095 - val_loss: 0.0139\n",
            "Epoch 79/500\n",
            "2995/2995 [==============================] - 1s 327us/step - loss: 0.0147 - val_loss: 0.0108\n",
            "Epoch 80/500\n",
            "2995/2995 [==============================] - 1s 325us/step - loss: 0.0155 - val_loss: 0.0109\n",
            "Epoch 81/500\n",
            "2995/2995 [==============================] - 1s 323us/step - loss: 0.0197 - val_loss: 0.0144\n",
            "Epoch 82/500\n",
            "2995/2995 [==============================] - 1s 327us/step - loss: 0.0134 - val_loss: 0.0144\n",
            "Epoch 83/500\n",
            "2995/2995 [==============================] - 1s 329us/step - loss: 0.0142 - val_loss: 0.0109\n",
            "Epoch 84/500\n",
            "2995/2995 [==============================] - 1s 329us/step - loss: 0.0150 - val_loss: 0.0118\n",
            "Epoch 85/500\n",
            "2995/2995 [==============================] - 1s 318us/step - loss: 0.0055 - val_loss: 0.0116\n",
            "Epoch 86/500\n",
            "2995/2995 [==============================] - 1s 323us/step - loss: 0.0062 - val_loss: 0.0114\n",
            "Epoch 87/500\n",
            "2995/2995 [==============================] - 1s 326us/step - loss: 0.0098 - val_loss: 0.0112\n",
            "Epoch 88/500\n",
            "2995/2995 [==============================] - 1s 332us/step - loss: 0.0068 - val_loss: 0.0109\n",
            "Epoch 89/500\n",
            "2995/2995 [==============================] - 1s 322us/step - loss: 0.0146 - val_loss: 0.0111\n",
            "Epoch 90/500\n",
            "2995/2995 [==============================] - 1s 323us/step - loss: 0.0101 - val_loss: 0.0139\n",
            "Epoch 91/500\n",
            "2995/2995 [==============================] - 1s 342us/step - loss: 0.0109 - val_loss: 0.0109\n",
            "Epoch 92/500\n",
            "2995/2995 [==============================] - 1s 341us/step - loss: 0.0077 - val_loss: 0.0112\n",
            "Epoch 93/500\n",
            "2995/2995 [==============================] - 1s 348us/step - loss: 0.0116 - val_loss: 0.0123\n",
            "Epoch 94/500\n",
            "2995/2995 [==============================] - 1s 342us/step - loss: 0.0083 - val_loss: 0.0109\n",
            "Epoch 95/500\n",
            "2995/2995 [==============================] - 1s 338us/step - loss: 0.0100 - val_loss: 0.0110\n",
            "Epoch 96/500\n",
            "2995/2995 [==============================] - 1s 334us/step - loss: 0.0095 - val_loss: 0.0121\n",
            "Epoch 97/500\n",
            "2995/2995 [==============================] - 1s 340us/step - loss: 0.0133 - val_loss: 0.0107\n",
            "Epoch 98/500\n",
            "2995/2995 [==============================] - 1s 348us/step - loss: 0.0129 - val_loss: 0.0122\n",
            "Epoch 99/500\n",
            "2995/2995 [==============================] - 1s 335us/step - loss: 0.0166 - val_loss: 0.0109\n",
            "Epoch 100/500\n",
            "2995/2995 [==============================] - 1s 337us/step - loss: 0.0116 - val_loss: 0.0109\n",
            "Epoch 101/500\n",
            "2995/2995 [==============================] - 1s 337us/step - loss: 0.0121 - val_loss: 0.0142\n",
            "Epoch 102/500\n",
            "2995/2995 [==============================] - 1s 329us/step - loss: 0.0129 - val_loss: 0.0184\n",
            "Epoch 103/500\n",
            "2995/2995 [==============================] - 1s 328us/step - loss: 0.0149 - val_loss: 0.0109\n",
            "Epoch 104/500\n",
            "2995/2995 [==============================] - 1s 323us/step - loss: 0.0065 - val_loss: 0.0117\n",
            "Epoch 105/500\n",
            "2995/2995 [==============================] - 1s 328us/step - loss: 0.0088 - val_loss: 0.0139\n",
            "Epoch 106/500\n",
            "2995/2995 [==============================] - 1s 327us/step - loss: 0.0163 - val_loss: 0.0123\n",
            "Epoch 107/500\n",
            "2995/2995 [==============================] - 1s 323us/step - loss: 0.0091 - val_loss: 0.0107\n",
            "Epoch 108/500\n",
            "2995/2995 [==============================] - 1s 331us/step - loss: 0.0185 - val_loss: 0.0148\n",
            "Epoch 109/500\n",
            "2995/2995 [==============================] - 1s 331us/step - loss: 0.0081 - val_loss: 0.0132\n",
            "Epoch 110/500\n",
            "2995/2995 [==============================] - 1s 322us/step - loss: 0.0103 - val_loss: 0.0132\n",
            "Epoch 111/500\n",
            "2995/2995 [==============================] - 1s 323us/step - loss: 0.0096 - val_loss: 0.0106\n",
            "Epoch 112/500\n",
            "2995/2995 [==============================] - 1s 323us/step - loss: 0.0164 - val_loss: 0.0108\n",
            "Epoch 113/500\n",
            "2995/2995 [==============================] - 1s 326us/step - loss: 0.0113 - val_loss: 0.0162\n",
            "Epoch 114/500\n",
            "2995/2995 [==============================] - 1s 326us/step - loss: 0.0066 - val_loss: 0.0106\n",
            "Epoch 115/500\n",
            "2995/2995 [==============================] - 1s 333us/step - loss: 0.0068 - val_loss: 0.0105\n",
            "Epoch 116/500\n",
            "2995/2995 [==============================] - 1s 325us/step - loss: 0.0089 - val_loss: 0.0108\n",
            "Epoch 117/500\n",
            "2995/2995 [==============================] - 1s 326us/step - loss: 0.0095 - val_loss: 0.0107\n",
            "Epoch 118/500\n",
            "2995/2995 [==============================] - 1s 326us/step - loss: 0.0139 - val_loss: 0.0141\n",
            "Epoch 119/500\n",
            "2995/2995 [==============================] - 1s 336us/step - loss: 0.0115 - val_loss: 0.0108\n",
            "Epoch 120/500\n",
            "2995/2995 [==============================] - 1s 323us/step - loss: 0.0087 - val_loss: 0.0106\n",
            "Epoch 121/500\n",
            "2995/2995 [==============================] - 1s 326us/step - loss: 0.0083 - val_loss: 0.0106\n",
            "Epoch 122/500\n",
            "2995/2995 [==============================] - 1s 337us/step - loss: 0.0105 - val_loss: 0.0106\n",
            "Epoch 123/500\n",
            "2995/2995 [==============================] - 1s 326us/step - loss: 0.0076 - val_loss: 0.0108\n",
            "Epoch 124/500\n",
            "2995/2995 [==============================] - 1s 323us/step - loss: 0.0118 - val_loss: 0.0107\n",
            "Epoch 125/500\n",
            "2995/2995 [==============================] - 1s 328us/step - loss: 0.0083 - val_loss: 0.0126\n",
            "Epoch 126/500\n",
            "2995/2995 [==============================] - 1s 330us/step - loss: 0.0066 - val_loss: 0.0118\n",
            "Epoch 127/500\n",
            "2995/2995 [==============================] - 1s 321us/step - loss: 0.0069 - val_loss: 0.0119\n",
            "Epoch 128/500\n",
            "2995/2995 [==============================] - 1s 328us/step - loss: 0.0084 - val_loss: 0.0134\n",
            "Epoch 129/500\n",
            "2995/2995 [==============================] - 1s 331us/step - loss: 0.0120 - val_loss: 0.0119\n",
            "Epoch 130/500\n",
            "2995/2995 [==============================] - 1s 319us/step - loss: 0.0104 - val_loss: 0.0109\n",
            "Epoch 131/500\n",
            "2995/2995 [==============================] - 1s 322us/step - loss: 0.0126 - val_loss: 0.0110\n",
            "Epoch 132/500\n",
            "2995/2995 [==============================] - 1s 335us/step - loss: 0.0086 - val_loss: 0.0114\n",
            "Epoch 133/500\n",
            "2995/2995 [==============================] - 1s 329us/step - loss: 0.0110 - val_loss: 0.0119\n",
            "Epoch 134/500\n",
            "2995/2995 [==============================] - 1s 339us/step - loss: 0.0141 - val_loss: 0.0110\n",
            "Epoch 135/500\n",
            "2995/2995 [==============================] - 1s 333us/step - loss: 0.0246 - val_loss: 0.0164\n",
            "Epoch 00135: early stopping\n"
          ],
          "name": "stdout"
        }
      ]
    },
    {
      "cell_type": "code",
      "metadata": {
        "id": "VRepTzbRDa0f",
        "colab_type": "code",
        "outputId": "e4ce3cc9-6dbb-4d15-bed8-9b7a2144628b",
        "colab": {
          "base_uri": "https://localhost:8080/",
          "height": 52
        }
      },
      "source": [
        "# get predictions and then make some transformations to be able to calculate MSE properly in USD\n",
        "prediction = model.predict(X_test)\n",
        "print(prediction.shape)\n",
        "print(Y_test.shape)\n"
      ],
      "execution_count": 0,
      "outputs": [
        {
          "output_type": "stream",
          "text": [
            "(120, 1)\n",
            "(120, 1)\n"
          ],
          "name": "stdout"
        }
      ]
    },
    {
      "cell_type": "code",
      "metadata": {
        "id": "FbnSUuoCDa0g",
        "colab_type": "code",
        "outputId": "aef537df-26b0-48b3-c4ab-17535d5282bb",
        "colab": {
          "base_uri": "https://localhost:8080/",
          "height": 542
        }
      },
      "source": [
        "trace1 = go.Scatter(\n",
        "    x = np.arange(0, len(prediction), 1),\n",
        "    y = prediction[1:,0],\n",
        "    mode = 'lines',\n",
        "    name = 'Predicted labels',\n",
        "    line = dict(color=('rgb(244, 146, 65)'), width=2)\n",
        ")\n",
        "trace2 = go.Scatter(\n",
        "    x = np.arange(0, len(Y_test), 1),\n",
        "    y = Y_test[:,0],\n",
        "    mode = 'lines',\n",
        "    name = 'True labels',\n",
        "    line = dict(color=('rgb(66, 244, 155)'), width=2)\n",
        ")\n",
        "\n",
        "d = [trace1, trace2]\n",
        "layout = dict(title = 'Comparison of true prices (on the test dataset) with prices our model predicted',\n",
        "             xaxis = dict(title = 'Day number'), yaxis = dict(title = 'Price, USD'))\n",
        "fig = dict(data=d, layout=layout)\n",
        "py.iplot(fig, filename='results_demonstrating0')"
      ],
      "execution_count": 0,
      "outputs": [
        {
          "output_type": "display_data",
          "data": {
            "text/html": [
              "<html>\n",
              "<head><meta charset=\"utf-8\" /></head>\n",
              "<body>\n",
              "    <div>\n",
              "            <script src=\"https://cdnjs.cloudflare.com/ajax/libs/mathjax/2.7.5/MathJax.js?config=TeX-AMS-MML_SVG\"></script><script type=\"text/javascript\">if (window.MathJax) {MathJax.Hub.Config({SVG: {font: \"STIX-Web\"}});}</script>\n",
              "                <script type=\"text/javascript\">window.PlotlyConfig = {MathJaxConfig: 'local'};</script>\n",
              "        <script src=\"https://cdn.plot.ly/plotly-latest.min.js\"></script>    \n",
              "            <div id=\"f7a87c7d-f2ed-425e-afdd-c659961b215e\" class=\"plotly-graph-div\" style=\"height:525px; width:100%;\"></div>\n",
              "            <script type=\"text/javascript\">\n",
              "                \n",
              "                    window.PLOTLYENV=window.PLOTLYENV || {};\n",
              "                    \n",
              "                if (document.getElementById(\"f7a87c7d-f2ed-425e-afdd-c659961b215e\")) {\n",
              "                    Plotly.newPlot(\n",
              "                        'f7a87c7d-f2ed-425e-afdd-c659961b215e',\n",
              "                        [{\"line\": {\"color\": \"rgb(244, 146, 65)\", \"width\": 2}, \"mode\": \"lines\", \"name\": \"Predicted labels\", \"type\": \"scatter\", \"x\": [0, 1, 2, 3, 4, 5, 6, 7, 8, 9, 10, 11, 12, 13, 14, 15, 16, 17, 18, 19, 20, 21, 22, 23, 24, 25, 26, 27, 28, 29, 30, 31, 32, 33, 34, 35, 36, 37, 38, 39, 40, 41, 42, 43, 44, 45, 46, 47, 48, 49, 50, 51, 52, 53, 54, 55, 56, 57, 58, 59, 60, 61, 62, 63, 64, 65, 66, 67, 68, 69, 70, 71, 72, 73, 74, 75, 76, 77, 78, 79, 80, 81, 82, 83, 84, 85, 86, 87, 88, 89, 90, 91, 92, 93, 94, 95, 96, 97, 98, 99, 100, 101, 102, 103, 104, 105, 106, 107, 108, 109, 110, 111, 112, 113, 114, 115, 116, 117, 118, 119], \"y\": [-0.6866981983184814, -0.8141943216323853, -0.835067868232727, -0.7729049921035767, -0.6439782977104187, -0.5509674549102783, -0.41153237223625183, -0.4250220060348511, -0.5510790348052979, -0.6431733965873718, -0.6645370125770569, -0.6565951704978943, -0.6301208734512329, -0.5490167140960693, -0.5066768527030945, -0.5088129639625549, -0.565396249294281, -0.6695154905319214, -0.7276366353034973, -0.7382000088691711, -0.7075477838516235, -0.7603926658630371, -0.7768206596374512, -0.8496477007865906, -0.9838004112243652, -0.8685530424118042, -0.7634103298187256, -0.7201341986656189, -0.7302824854850769, -0.6242420673370361, -0.5825865268707275, -0.6444748640060425, -0.7167957425117493, -0.7093442678451538, -0.7189951539039612, -0.683807909488678, -0.6211837530136108, -0.6555954217910767, -0.7166755795478821, -0.7441675662994385, -0.8178214430809021, -0.7508646249771118, -0.6676925420761108, -0.6138481497764587, -0.4642676115036011, -0.2049497365951538, -0.0934794619679451, -0.22964179515838623, -0.15832656621932983, -0.11719857901334763, -0.08647655695676804, -0.0926683321595192, 0.24341967701911926, 0.4246807396411896, 0.4069351851940155, 0.4917455315589905, 0.525193989276886, 0.4239470064640045, 0.3108658790588379, 0.33192023634910583, 0.35093188285827637, 0.18658429384231567, 0.13346436619758606, 0.09216589480638504, 0.20359551906585693, 0.44183722138404846, 0.7996367812156677, 0.8870908617973328, 0.9654583930969238, 0.9074429273605347, 0.9218013882637024, 0.8829670548439026, 0.901793360710144, 0.7834504842758179, 1.0505203008651733, 1.2316457033157349, 1.2832871675491333, 1.3162508010864258, 1.5175247192382812, 1.3631786108016968, 1.5479447841644287, 1.752518892288208, 1.6696548461914062, 1.6818393468856812, 1.433568000793457, 1.3276867866516113, 1.2077902555465698, 1.4938206672668457, 1.222515344619751, 1.0803619623184204, 1.1885385513305664, 1.186774492263794, 1.3627252578735352, 1.2058600187301636, 0.9341673851013184, 0.5413819551467896, 0.44877001643180847, 0.4017092287540436, 0.3271600306034088, 0.2846345901489258, 0.4659682810306549, 0.46640005707740784, 0.44801175594329834, 0.6355506181716919, 0.7426970601081848, 0.6216917634010315, 0.05611602962017059, -0.23067688941955566, -0.2406037449836731, -0.24548327922821045, -1.500439167022705, -1.8383985757827759, -1.8614115715026855, -1.7774794101715088, -1.7733620405197144, -1.7353930473327637, -1.6949126720428467, -1.5358107089996338, -1.3541467189788818]}, {\"line\": {\"color\": \"rgb(66, 244, 155)\", \"width\": 2}, \"mode\": \"lines\", \"name\": \"True labels\", \"type\": \"scatter\", \"x\": [0, 1, 2, 3, 4, 5, 6, 7, 8, 9, 10, 11, 12, 13, 14, 15, 16, 17, 18, 19, 20, 21, 22, 23, 24, 25, 26, 27, 28, 29, 30, 31, 32, 33, 34, 35, 36, 37, 38, 39, 40, 41, 42, 43, 44, 45, 46, 47, 48, 49, 50, 51, 52, 53, 54, 55, 56, 57, 58, 59, 60, 61, 62, 63, 64, 65, 66, 67, 68, 69, 70, 71, 72, 73, 74, 75, 76, 77, 78, 79, 80, 81, 82, 83, 84, 85, 86, 87, 88, 89, 90, 91, 92, 93, 94, 95, 96, 97, 98, 99, 100, 101, 102, 103, 104, 105, 106, 107, 108, 109, 110, 111, 112, 113, 114, 115, 116, 117, 118, 119], \"y\": [-0.8037194170905599, -1.0280124766475254, -1.0018005762259632, -0.8935634317892968, -0.7059721044575563, -0.6385362639018578, -0.44443633827130974, -0.5325644497821793, -0.6961500379339011, -0.7828749970842486, -0.7736699794902202, -0.7658173979063341, -0.7350072150502898, -0.6120200653780139, -0.5885299424268624, -0.6071428430164402, -0.6955414417293379, -0.8278603998715927, -0.8691181509059824, -0.8760409327328966, -0.829846790261488, -0.9512701857970378, -0.9421581481787065, -1.0885593462765641, -1.3014074160977032, -0.9398421015113387, -0.8884748913011384, -0.8938592771665156, -0.9143824936204182, -0.686978831240127, -0.7050338519755207, -0.8096532300850577, -0.8763705890103681, -0.8332025221116527, -0.8717300429505691, -0.7867125342630261, -0.7063862879856628, -0.8225605412568487, -0.8792614209820464, -0.8811548313962448, -1.0385192139013144, -0.8416890580752929, -0.7516844416003521, -0.7222605056547028, -0.4792446600823363, -0.143122047936766, -0.11057905644272735, -0.3210180996208017, -0.1457001290810983, -0.12822834637507802, -0.09308191556151635, -0.10602303763356166, 0.35055090666526934, 0.44981970980968117, 0.40552743047753537, 0.5332312007351809, 0.5610406661937228, 0.4454750091271009, 0.33187883700024806, 0.3670168150887462, 0.36852140015002954, 0.16626459483331296, 0.13880169110236987, 0.08945468218231768, 0.24223768770303158, 0.5093268942559245, 0.877502239841857, 0.9086336262503101, 1.0083757819982726, 0.9434926644117164, 0.9684789196990871, 0.9221748918018559, 0.9467638690112478, 0.8100833047362849, 1.098591716599798, 1.2580101112952708, 1.3229016816068906, 1.364353845317738, 1.5726120854294594, 1.4129485617071478, 1.6228550832062287, 1.7922054298511807, 1.7140853448153612, 1.7496544118820923, 1.4863351207074704, 1.3911489837686744, 1.2503096787625252, 1.5491642261036236, 1.239177439854045, 1.1338480328391847, 1.2228383223065185, 1.2029490602323707, 1.4132528598094303, 1.2436658368627043, 0.973998549165479, 0.5573299198908965, 0.4626932100812202, 0.38420965786767475, 0.30997782636101334, 0.2769699349884875, 0.5020152870760938, 0.46014893983714067, 0.44973518255904854, 0.6649331099478096, 0.7541685284419823, 0.6239881097407642, 0.019778869484822725, -0.2620518895786162, -0.2626351276079895, -0.3052199564773316, -2.237411473266762, -2.4870288971136336, -2.502734060281406, -2.3556059278280976, -2.7578964717698593, -2.484180328767272, -2.459270148005472, -1.874569797195826, -1.6594817552328889, -1.7355478280783059]}],\n",
              "                        {\"template\": {\"data\": {\"bar\": [{\"error_x\": {\"color\": \"#2a3f5f\"}, \"error_y\": {\"color\": \"#2a3f5f\"}, \"marker\": {\"line\": {\"color\": \"#E5ECF6\", \"width\": 0.5}}, \"type\": \"bar\"}], \"barpolar\": [{\"marker\": {\"line\": {\"color\": \"#E5ECF6\", \"width\": 0.5}}, \"type\": \"barpolar\"}], \"carpet\": [{\"aaxis\": {\"endlinecolor\": \"#2a3f5f\", \"gridcolor\": \"white\", \"linecolor\": \"white\", \"minorgridcolor\": \"white\", \"startlinecolor\": \"#2a3f5f\"}, \"baxis\": {\"endlinecolor\": \"#2a3f5f\", \"gridcolor\": \"white\", \"linecolor\": \"white\", \"minorgridcolor\": \"white\", \"startlinecolor\": \"#2a3f5f\"}, \"type\": \"carpet\"}], \"choropleth\": [{\"colorbar\": {\"outlinewidth\": 0, \"ticks\": \"\"}, \"type\": \"choropleth\"}], \"contour\": [{\"colorbar\": {\"outlinewidth\": 0, \"ticks\": \"\"}, \"colorscale\": [[0.0, \"#0d0887\"], [0.1111111111111111, \"#46039f\"], [0.2222222222222222, \"#7201a8\"], [0.3333333333333333, \"#9c179e\"], [0.4444444444444444, \"#bd3786\"], [0.5555555555555556, \"#d8576b\"], [0.6666666666666666, \"#ed7953\"], [0.7777777777777778, \"#fb9f3a\"], [0.8888888888888888, \"#fdca26\"], [1.0, \"#f0f921\"]], \"type\": \"contour\"}], \"contourcarpet\": [{\"colorbar\": {\"outlinewidth\": 0, \"ticks\": \"\"}, \"type\": \"contourcarpet\"}], \"heatmap\": [{\"colorbar\": {\"outlinewidth\": 0, \"ticks\": \"\"}, \"colorscale\": [[0.0, \"#0d0887\"], [0.1111111111111111, \"#46039f\"], [0.2222222222222222, \"#7201a8\"], [0.3333333333333333, \"#9c179e\"], [0.4444444444444444, \"#bd3786\"], [0.5555555555555556, \"#d8576b\"], [0.6666666666666666, \"#ed7953\"], [0.7777777777777778, \"#fb9f3a\"], [0.8888888888888888, \"#fdca26\"], [1.0, \"#f0f921\"]], \"type\": \"heatmap\"}], \"heatmapgl\": [{\"colorbar\": {\"outlinewidth\": 0, \"ticks\": \"\"}, \"colorscale\": [[0.0, \"#0d0887\"], [0.1111111111111111, \"#46039f\"], [0.2222222222222222, \"#7201a8\"], [0.3333333333333333, \"#9c179e\"], [0.4444444444444444, \"#bd3786\"], [0.5555555555555556, \"#d8576b\"], [0.6666666666666666, \"#ed7953\"], [0.7777777777777778, \"#fb9f3a\"], [0.8888888888888888, \"#fdca26\"], [1.0, \"#f0f921\"]], \"type\": \"heatmapgl\"}], \"histogram\": [{\"marker\": {\"colorbar\": {\"outlinewidth\": 0, \"ticks\": \"\"}}, \"type\": \"histogram\"}], \"histogram2d\": [{\"colorbar\": {\"outlinewidth\": 0, \"ticks\": \"\"}, \"colorscale\": [[0.0, \"#0d0887\"], [0.1111111111111111, \"#46039f\"], [0.2222222222222222, \"#7201a8\"], [0.3333333333333333, \"#9c179e\"], [0.4444444444444444, \"#bd3786\"], [0.5555555555555556, \"#d8576b\"], [0.6666666666666666, \"#ed7953\"], [0.7777777777777778, \"#fb9f3a\"], [0.8888888888888888, \"#fdca26\"], [1.0, \"#f0f921\"]], \"type\": \"histogram2d\"}], \"histogram2dcontour\": [{\"colorbar\": {\"outlinewidth\": 0, \"ticks\": \"\"}, \"colorscale\": [[0.0, \"#0d0887\"], [0.1111111111111111, \"#46039f\"], [0.2222222222222222, \"#7201a8\"], [0.3333333333333333, \"#9c179e\"], [0.4444444444444444, \"#bd3786\"], [0.5555555555555556, \"#d8576b\"], [0.6666666666666666, \"#ed7953\"], [0.7777777777777778, \"#fb9f3a\"], [0.8888888888888888, \"#fdca26\"], [1.0, \"#f0f921\"]], \"type\": \"histogram2dcontour\"}], \"mesh3d\": [{\"colorbar\": {\"outlinewidth\": 0, \"ticks\": \"\"}, \"type\": \"mesh3d\"}], \"parcoords\": [{\"line\": {\"colorbar\": {\"outlinewidth\": 0, \"ticks\": \"\"}}, \"type\": \"parcoords\"}], \"pie\": [{\"automargin\": true, \"type\": \"pie\"}], \"scatter\": [{\"marker\": {\"colorbar\": {\"outlinewidth\": 0, \"ticks\": \"\"}}, \"type\": \"scatter\"}], \"scatter3d\": [{\"line\": {\"colorbar\": {\"outlinewidth\": 0, \"ticks\": \"\"}}, \"marker\": {\"colorbar\": {\"outlinewidth\": 0, \"ticks\": \"\"}}, \"type\": \"scatter3d\"}], \"scattercarpet\": [{\"marker\": {\"colorbar\": {\"outlinewidth\": 0, \"ticks\": \"\"}}, \"type\": \"scattercarpet\"}], \"scattergeo\": [{\"marker\": {\"colorbar\": {\"outlinewidth\": 0, \"ticks\": \"\"}}, \"type\": \"scattergeo\"}], \"scattergl\": [{\"marker\": {\"colorbar\": {\"outlinewidth\": 0, \"ticks\": \"\"}}, \"type\": \"scattergl\"}], \"scattermapbox\": [{\"marker\": {\"colorbar\": {\"outlinewidth\": 0, \"ticks\": \"\"}}, \"type\": \"scattermapbox\"}], \"scatterpolar\": [{\"marker\": {\"colorbar\": {\"outlinewidth\": 0, \"ticks\": \"\"}}, \"type\": \"scatterpolar\"}], \"scatterpolargl\": [{\"marker\": {\"colorbar\": {\"outlinewidth\": 0, \"ticks\": \"\"}}, \"type\": \"scatterpolargl\"}], \"scatterternary\": [{\"marker\": {\"colorbar\": {\"outlinewidth\": 0, \"ticks\": \"\"}}, \"type\": \"scatterternary\"}], \"surface\": [{\"colorbar\": {\"outlinewidth\": 0, \"ticks\": \"\"}, \"colorscale\": [[0.0, \"#0d0887\"], [0.1111111111111111, \"#46039f\"], [0.2222222222222222, \"#7201a8\"], [0.3333333333333333, \"#9c179e\"], [0.4444444444444444, \"#bd3786\"], [0.5555555555555556, \"#d8576b\"], [0.6666666666666666, \"#ed7953\"], [0.7777777777777778, \"#fb9f3a\"], [0.8888888888888888, \"#fdca26\"], [1.0, \"#f0f921\"]], \"type\": \"surface\"}], \"table\": [{\"cells\": {\"fill\": {\"color\": \"#EBF0F8\"}, \"line\": {\"color\": \"white\"}}, \"header\": {\"fill\": {\"color\": \"#C8D4E3\"}, \"line\": {\"color\": \"white\"}}, \"type\": \"table\"}]}, \"layout\": {\"annotationdefaults\": {\"arrowcolor\": \"#2a3f5f\", \"arrowhead\": 0, \"arrowwidth\": 1}, \"coloraxis\": {\"colorbar\": {\"outlinewidth\": 0, \"ticks\": \"\"}}, \"colorscale\": {\"diverging\": [[0, \"#8e0152\"], [0.1, \"#c51b7d\"], [0.2, \"#de77ae\"], [0.3, \"#f1b6da\"], [0.4, \"#fde0ef\"], [0.5, \"#f7f7f7\"], [0.6, \"#e6f5d0\"], [0.7, \"#b8e186\"], [0.8, \"#7fbc41\"], [0.9, \"#4d9221\"], [1, \"#276419\"]], \"sequential\": [[0.0, \"#0d0887\"], [0.1111111111111111, \"#46039f\"], [0.2222222222222222, \"#7201a8\"], [0.3333333333333333, \"#9c179e\"], [0.4444444444444444, \"#bd3786\"], [0.5555555555555556, \"#d8576b\"], [0.6666666666666666, \"#ed7953\"], [0.7777777777777778, \"#fb9f3a\"], [0.8888888888888888, \"#fdca26\"], [1.0, \"#f0f921\"]], \"sequentialminus\": [[0.0, \"#0d0887\"], [0.1111111111111111, \"#46039f\"], [0.2222222222222222, \"#7201a8\"], [0.3333333333333333, \"#9c179e\"], [0.4444444444444444, \"#bd3786\"], [0.5555555555555556, \"#d8576b\"], [0.6666666666666666, \"#ed7953\"], [0.7777777777777778, \"#fb9f3a\"], [0.8888888888888888, \"#fdca26\"], [1.0, \"#f0f921\"]]}, \"colorway\": [\"#636efa\", \"#EF553B\", \"#00cc96\", \"#ab63fa\", \"#FFA15A\", \"#19d3f3\", \"#FF6692\", \"#B6E880\", \"#FF97FF\", \"#FECB52\"], \"font\": {\"color\": \"#2a3f5f\"}, \"geo\": {\"bgcolor\": \"white\", \"lakecolor\": \"white\", \"landcolor\": \"#E5ECF6\", \"showlakes\": true, \"showland\": true, \"subunitcolor\": \"white\"}, \"hoverlabel\": {\"align\": \"left\"}, \"hovermode\": \"closest\", \"mapbox\": {\"style\": \"light\"}, \"paper_bgcolor\": \"white\", \"plot_bgcolor\": \"#E5ECF6\", \"polar\": {\"angularaxis\": {\"gridcolor\": \"white\", \"linecolor\": \"white\", \"ticks\": \"\"}, \"bgcolor\": \"#E5ECF6\", \"radialaxis\": {\"gridcolor\": \"white\", \"linecolor\": \"white\", \"ticks\": \"\"}}, \"scene\": {\"xaxis\": {\"backgroundcolor\": \"#E5ECF6\", \"gridcolor\": \"white\", \"gridwidth\": 2, \"linecolor\": \"white\", \"showbackground\": true, \"ticks\": \"\", \"zerolinecolor\": \"white\"}, \"yaxis\": {\"backgroundcolor\": \"#E5ECF6\", \"gridcolor\": \"white\", \"gridwidth\": 2, \"linecolor\": \"white\", \"showbackground\": true, \"ticks\": \"\", \"zerolinecolor\": \"white\"}, \"zaxis\": {\"backgroundcolor\": \"#E5ECF6\", \"gridcolor\": \"white\", \"gridwidth\": 2, \"linecolor\": \"white\", \"showbackground\": true, \"ticks\": \"\", \"zerolinecolor\": \"white\"}}, \"shapedefaults\": {\"line\": {\"color\": \"#2a3f5f\"}}, \"ternary\": {\"aaxis\": {\"gridcolor\": \"white\", \"linecolor\": \"white\", \"ticks\": \"\"}, \"baxis\": {\"gridcolor\": \"white\", \"linecolor\": \"white\", \"ticks\": \"\"}, \"bgcolor\": \"#E5ECF6\", \"caxis\": {\"gridcolor\": \"white\", \"linecolor\": \"white\", \"ticks\": \"\"}}, \"title\": {\"x\": 0.05}, \"xaxis\": {\"automargin\": true, \"gridcolor\": \"white\", \"linecolor\": \"white\", \"ticks\": \"\", \"title\": {\"standoff\": 15}, \"zerolinecolor\": \"white\", \"zerolinewidth\": 2}, \"yaxis\": {\"automargin\": true, \"gridcolor\": \"white\", \"linecolor\": \"white\", \"ticks\": \"\", \"title\": {\"standoff\": 15}, \"zerolinecolor\": \"white\", \"zerolinewidth\": 2}}}, \"title\": {\"text\": \"Comparison of true prices (on the test dataset) with prices our model predicted\"}, \"xaxis\": {\"title\": {\"text\": \"Day number\"}}, \"yaxis\": {\"title\": {\"text\": \"Price, USD\"}}},\n",
              "                        {\"responsive\": true}\n",
              "                    ).then(function(){\n",
              "                            \n",
              "var gd = document.getElementById('f7a87c7d-f2ed-425e-afdd-c659961b215e');\n",
              "var x = new MutationObserver(function (mutations, observer) {{\n",
              "        var display = window.getComputedStyle(gd).display;\n",
              "        if (!display || display === 'none') {{\n",
              "            console.log([gd, 'removed!']);\n",
              "            Plotly.purge(gd);\n",
              "            observer.disconnect();\n",
              "        }}\n",
              "}});\n",
              "\n",
              "// Listen for the removal of the full notebook cells\n",
              "var notebookContainer = gd.closest('#notebook-container');\n",
              "if (notebookContainer) {{\n",
              "    x.observe(notebookContainer, {childList: true});\n",
              "}}\n",
              "\n",
              "// Listen for the clearing of the current output cell\n",
              "var outputEl = gd.closest('.output');\n",
              "if (outputEl) {{\n",
              "    x.observe(outputEl, {childList: true});\n",
              "}}\n",
              "\n",
              "                        })\n",
              "                };\n",
              "                \n",
              "            </script>\n",
              "        </div>\n",
              "</body>\n",
              "</html>"
            ]
          },
          "metadata": {
            "tags": []
          }
        }
      ]
    },
    {
      "cell_type": "code",
      "metadata": {
        "id": "0ciaoP_QDa0l",
        "colab_type": "code",
        "outputId": "f790762c-2cab-48ce-fca6-d274c3991ece",
        "colab": {
          "base_uri": "https://localhost:8080/",
          "height": 52
        }
      },
      "source": [
        "mse_gru_reccurent_dropout = mean_squared_error(Y_test, prediction)\n",
        "print(\" MSE GRU with recurrent Dropout (on test set) = \", mse_gru_reccurent_dropout)\n",
        "time_gru_rec_drop = end - start\n",
        "print(\"time GRU with recurrent Dropout : %f sec \" %(time_gru_rec_drop))"
      ],
      "execution_count": 0,
      "outputs": [
        {
          "output_type": "stream",
          "text": [
            " MSE GRU with recurrent Dropout (on test set) =  0.09621839944904095\n",
            "time GRU with recurrent Dropout : 134.438140 sec \n"
          ],
          "name": "stdout"
        }
      ]
    },
    {
      "cell_type": "code",
      "metadata": {
        "id": "XrCFQ7l7Da0o",
        "colab_type": "code",
        "outputId": "73f1da8a-6030-451b-d356-f887863ea787",
        "colab": {
          "base_uri": "https://localhost:8080/",
          "height": 542
        }
      },
      "source": [
        "trace1 = go.Scatter(\n",
        "    x = np.arange(0, len(history.history['loss']), 1),\n",
        "    y = history.history['loss'],\n",
        "    mode = 'lines',\n",
        "    name = 'Train loss',\n",
        "    line = dict(color=('rgb(66, 244, 155)'), width=2, dash='dash')\n",
        ")\n",
        "trace2 = go.Scatter(\n",
        "    x = np.arange(0, len(history.history['val_loss']), 1),\n",
        "    y = history.history['val_loss'],\n",
        "    mode = 'lines',\n",
        "    name = 'Test loss',\n",
        "    line = dict(color=('rgb(244, 146, 65)'), width=2)\n",
        ")\n",
        "\n",
        "d = [trace1, trace2]\n",
        "layout = dict(title = 'Train and Test Loss during training',\n",
        "              xaxis = dict(title = 'Epoch number'), yaxis = dict(title = 'Loss'))\n",
        "fig = dict(data=d, layout=layout)\n",
        "py.iplot(fig, filename='training_process')"
      ],
      "execution_count": 0,
      "outputs": [
        {
          "output_type": "display_data",
          "data": {
            "text/html": [
              "<html>\n",
              "<head><meta charset=\"utf-8\" /></head>\n",
              "<body>\n",
              "    <div>\n",
              "            <script src=\"https://cdnjs.cloudflare.com/ajax/libs/mathjax/2.7.5/MathJax.js?config=TeX-AMS-MML_SVG\"></script><script type=\"text/javascript\">if (window.MathJax) {MathJax.Hub.Config({SVG: {font: \"STIX-Web\"}});}</script>\n",
              "                <script type=\"text/javascript\">window.PlotlyConfig = {MathJaxConfig: 'local'};</script>\n",
              "        <script src=\"https://cdn.plot.ly/plotly-latest.min.js\"></script>    \n",
              "            <div id=\"7f269a1b-d8a0-42a7-adbc-5dff17db8344\" class=\"plotly-graph-div\" style=\"height:525px; width:100%;\"></div>\n",
              "            <script type=\"text/javascript\">\n",
              "                \n",
              "                    window.PLOTLYENV=window.PLOTLYENV || {};\n",
              "                    \n",
              "                if (document.getElementById(\"7f269a1b-d8a0-42a7-adbc-5dff17db8344\")) {\n",
              "                    Plotly.newPlot(\n",
              "                        '7f269a1b-d8a0-42a7-adbc-5dff17db8344',\n",
              "                        [{\"line\": {\"color\": \"rgb(66, 244, 155)\", \"dash\": \"dash\", \"width\": 2}, \"mode\": \"lines\", \"name\": \"Train loss\", \"type\": \"scatter\", \"x\": [0, 1, 2, 3, 4, 5, 6, 7, 8, 9, 10, 11, 12, 13, 14, 15, 16, 17, 18, 19, 20, 21, 22, 23, 24, 25, 26, 27, 28, 29, 30, 31, 32, 33, 34, 35, 36, 37, 38, 39, 40, 41, 42, 43, 44, 45, 46, 47, 48, 49, 50, 51, 52, 53, 54, 55, 56, 57, 58, 59, 60, 61, 62, 63, 64, 65, 66, 67, 68, 69, 70, 71, 72, 73, 74, 75, 76, 77, 78, 79, 80, 81, 82, 83, 84, 85, 86, 87, 88, 89, 90, 91, 92, 93, 94, 95, 96, 97, 98, 99, 100, 101, 102, 103, 104, 105, 106, 107, 108, 109, 110, 111, 112, 113, 114, 115, 116, 117, 118, 119, 120, 121, 122, 123, 124, 125, 126, 127, 128, 129, 130, 131, 132, 133, 134], \"y\": [0.17328666784926527, 0.02703156514258088, 0.01866393337159951, 0.021727244307493825, 0.012104046351442702, 0.01736823551338135, 0.01588595480983066, 0.012952020177260066, 0.009588150354179995, 0.014564080255180722, 0.012448288903778453, 0.013066355238524025, 0.02500379604764768, 0.014017089156166515, 0.008756986472488246, 0.015193125965362897, 0.008950512189237722, 0.02498839124850618, 0.013776307474691203, 0.006998422146714192, 0.011055783793106302, 0.006548014405698132, 0.011693727192414523, 0.016149902752039327, 0.00887161069230887, 0.01490445494906781, 0.008687888730771354, 0.008528292850001975, 0.01466606114369091, 0.01849867052978561, 0.01728356540053834, 0.012916469649926375, 0.015708050246697188, 0.012687436636157944, 0.008974128756485568, 0.012757670701806355, 0.008166312816893319, 0.00985892655837889, 0.013023802906411617, 0.019940213162688313, 0.012440078030456983, 0.009733137763641738, 0.01999169416128594, 0.008593249084188515, 0.012575634611375593, 0.0074502621879972185, 0.011473718803618508, 0.007720401177092616, 0.006260473917833901, 0.013324247914924595, 0.021232314419486437, 0.007926597955709755, 0.009106694099544633, 0.01330629633957262, 0.010990477523895505, 0.00866599308672005, 0.013360690133481323, 0.013351503391136013, 0.015346853723298628, 0.006980635651786857, 0.014423904468605484, 0.0070991563246910385, 0.010444178912968985, 0.007848902694097345, 0.009321560032155757, 0.005913780340209653, 0.010833670064505307, 0.006121556996018043, 0.007502260746959852, 0.011121683659961756, 0.005828246444724935, 0.009367206393552941, 0.006581357223928622, 0.007927925067834046, 0.019040417943759286, 0.015187385356759587, 0.007228092099221203, 0.009548825154295549, 0.014670332967582002, 0.015518050296434228, 0.019660043502957227, 0.013430450063428915, 0.014210631192439486, 0.015023977732058857, 0.005486608008684619, 0.006150298012585344, 0.009795241662688267, 0.006758626659271713, 0.014649088199845887, 0.010084238842453104, 0.010855089132215374, 0.007685203336098407, 0.011555590063958539, 0.008319895929083203, 0.010038969817513815, 0.009486428772539324, 0.013264707103060661, 0.01288541997759564, 0.016574071091327674, 0.011605534407905675, 0.012077315304683325, 0.012899088096464416, 0.014872755930729472, 0.006525816307255442, 0.008752243453403545, 0.016343153248586147, 0.00912620495881991, 0.01850638122846666, 0.008104410011613607, 0.010273760319912872, 0.009613778254791523, 0.016408815761120098, 0.011273195871458279, 0.006558597562850169, 0.006830433232768848, 0.008942039538865196, 0.009459740273928105, 0.01393480144226566, 0.011535420721530517, 0.00869475048150438, 0.008251100798792054, 0.010486432854148353, 0.007584204485263669, 0.011777883381559474, 0.008263945464473933, 0.0066408985146696065, 0.006939447344978883, 0.008418052272252329, 0.012008737316759357, 0.010403040698566202, 0.012561276328838578, 0.008636760264199744, 0.011030284946750171, 0.014137515856515933, 0.02461227506573292]}, {\"line\": {\"color\": \"rgb(244, 146, 65)\", \"width\": 2}, \"mode\": \"lines\", \"name\": \"Test loss\", \"type\": \"scatter\", \"x\": [0, 1, 2, 3, 4, 5, 6, 7, 8, 9, 10, 11, 12, 13, 14, 15, 16, 17, 18, 19, 20, 21, 22, 23, 24, 25, 26, 27, 28, 29, 30, 31, 32, 33, 34, 35, 36, 37, 38, 39, 40, 41, 42, 43, 44, 45, 46, 47, 48, 49, 50, 51, 52, 53, 54, 55, 56, 57, 58, 59, 60, 61, 62, 63, 64, 65, 66, 67, 68, 69, 70, 71, 72, 73, 74, 75, 76, 77, 78, 79, 80, 81, 82, 83, 84, 85, 86, 87, 88, 89, 90, 91, 92, 93, 94, 95, 96, 97, 98, 99, 100, 101, 102, 103, 104, 105, 106, 107, 108, 109, 110, 111, 112, 113, 114, 115, 116, 117, 118, 119, 120, 121, 122, 123, 124, 125, 126, 127, 128, 129, 130, 131, 132, 133, 134], \"y\": [0.045032245873273175, 0.027031909202850316, 0.023994017628174793, 0.025707437597875353, 0.02346110098724124, 0.019330334000855307, 0.019257035165364984, 0.021623449235022824, 0.02633457703963865, 0.016193562305143364, 0.025270087785924537, 0.017134854735075672, 0.015203835171517691, 0.01551306066162224, 0.015625240941402278, 0.014012697588982461, 0.014912749770321424, 0.01799573736336035, 0.013465522788465023, 0.016676340311105493, 0.013364658125122136, 0.013429181538286466, 0.012982284756306606, 0.016177190644548662, 0.013718238465865201, 0.015014655640513836, 0.013426918860619204, 0.014308861963733842, 0.01280068812443863, 0.01627248367648336, 0.013580081554106142, 0.013598737306892872, 0.012504135612162608, 0.017736604849843286, 0.012260746865097103, 0.012227593243263567, 0.014519859871626654, 0.012846188996977445, 0.012121921912118604, 0.012588584990110955, 0.014584061170963548, 0.011792985775472619, 0.012399938871164489, 0.012331358605076241, 0.01364305890106325, 0.012036529074929938, 0.012394552048342892, 0.013216898770696378, 0.01160290457685537, 0.01154414249018212, 0.01197249516019527, 0.012016083803499424, 0.012524960757103524, 0.016219650666359105, 0.013971513420154777, 0.011485772690723968, 0.011429927288259886, 0.02735007582586023, 0.011872901427972166, 0.013260280330299953, 0.012968459726558834, 0.01127969570269313, 0.012897477107994918, 0.012674188712918305, 0.011238158833754213, 0.011256833761175977, 0.017683662957500054, 0.011645388276658104, 0.011332290789371804, 0.01109419857399373, 0.011340570229376797, 0.012826124713107755, 0.012002459450188694, 0.01209593347945734, 0.013537518974818006, 0.020009880213514915, 0.01715064718376232, 0.013895541995386534, 0.010817278836724124, 0.010866568641902148, 0.014427104711391126, 0.014386072766648817, 0.01093642075864386, 0.011832067436432536, 0.011637935756788224, 0.011405728091308964, 0.011248403128613776, 0.010948510787485145, 0.011107540371108659, 0.013905116928670603, 0.010906764718739293, 0.011152276215202447, 0.01231082132722758, 0.010909484935146345, 0.010990794677334496, 0.012144014380777939, 0.010681561795593817, 0.01220599040271172, 0.010920729116784244, 0.010923777771760014, 0.014238719350976658, 0.018361332437282878, 0.010885675944670846, 0.011742707430326108, 0.013882591271230692, 0.012274036502253406, 0.010738623263668033, 0.014779265828524964, 0.013183205677314272, 0.013190097305216367, 0.010609570625414955, 0.010766983633460124, 0.016192281347569785, 0.010580061380810376, 0.010534168828184469, 0.01084221512833728, 0.010655122278611871, 0.01413511280913519, 0.010799784908849227, 0.010561337311386684, 0.01062428697212776, 0.010620153962952805, 0.010815099347382784, 0.010670458137564644, 0.012611124251933791, 0.011847234938199384, 0.011911180141511598, 0.013438257294459433, 0.011923733355972585, 0.010915850636938328, 0.010993169272860771, 0.011410470763103494, 0.011906142794538903, 0.010995530417259735, 0.016383321354566497]}],\n",
              "                        {\"template\": {\"data\": {\"bar\": [{\"error_x\": {\"color\": \"#2a3f5f\"}, \"error_y\": {\"color\": \"#2a3f5f\"}, \"marker\": {\"line\": {\"color\": \"#E5ECF6\", \"width\": 0.5}}, \"type\": \"bar\"}], \"barpolar\": [{\"marker\": {\"line\": {\"color\": \"#E5ECF6\", \"width\": 0.5}}, \"type\": \"barpolar\"}], \"carpet\": [{\"aaxis\": {\"endlinecolor\": \"#2a3f5f\", \"gridcolor\": \"white\", \"linecolor\": \"white\", \"minorgridcolor\": \"white\", \"startlinecolor\": \"#2a3f5f\"}, \"baxis\": {\"endlinecolor\": \"#2a3f5f\", \"gridcolor\": \"white\", \"linecolor\": \"white\", \"minorgridcolor\": \"white\", \"startlinecolor\": \"#2a3f5f\"}, \"type\": \"carpet\"}], \"choropleth\": [{\"colorbar\": {\"outlinewidth\": 0, \"ticks\": \"\"}, \"type\": \"choropleth\"}], \"contour\": [{\"colorbar\": {\"outlinewidth\": 0, \"ticks\": \"\"}, \"colorscale\": [[0.0, \"#0d0887\"], [0.1111111111111111, \"#46039f\"], [0.2222222222222222, \"#7201a8\"], [0.3333333333333333, \"#9c179e\"], [0.4444444444444444, \"#bd3786\"], [0.5555555555555556, \"#d8576b\"], [0.6666666666666666, \"#ed7953\"], [0.7777777777777778, \"#fb9f3a\"], [0.8888888888888888, \"#fdca26\"], [1.0, \"#f0f921\"]], \"type\": \"contour\"}], \"contourcarpet\": [{\"colorbar\": {\"outlinewidth\": 0, \"ticks\": \"\"}, \"type\": \"contourcarpet\"}], \"heatmap\": [{\"colorbar\": {\"outlinewidth\": 0, \"ticks\": \"\"}, \"colorscale\": [[0.0, \"#0d0887\"], [0.1111111111111111, \"#46039f\"], [0.2222222222222222, \"#7201a8\"], [0.3333333333333333, \"#9c179e\"], [0.4444444444444444, \"#bd3786\"], [0.5555555555555556, \"#d8576b\"], [0.6666666666666666, \"#ed7953\"], [0.7777777777777778, \"#fb9f3a\"], [0.8888888888888888, \"#fdca26\"], [1.0, \"#f0f921\"]], \"type\": \"heatmap\"}], \"heatmapgl\": [{\"colorbar\": {\"outlinewidth\": 0, \"ticks\": \"\"}, \"colorscale\": [[0.0, \"#0d0887\"], [0.1111111111111111, \"#46039f\"], [0.2222222222222222, \"#7201a8\"], [0.3333333333333333, \"#9c179e\"], [0.4444444444444444, \"#bd3786\"], [0.5555555555555556, \"#d8576b\"], [0.6666666666666666, \"#ed7953\"], [0.7777777777777778, \"#fb9f3a\"], [0.8888888888888888, \"#fdca26\"], [1.0, \"#f0f921\"]], \"type\": \"heatmapgl\"}], \"histogram\": [{\"marker\": {\"colorbar\": {\"outlinewidth\": 0, \"ticks\": \"\"}}, \"type\": \"histogram\"}], \"histogram2d\": [{\"colorbar\": {\"outlinewidth\": 0, \"ticks\": \"\"}, \"colorscale\": [[0.0, \"#0d0887\"], [0.1111111111111111, \"#46039f\"], [0.2222222222222222, \"#7201a8\"], [0.3333333333333333, \"#9c179e\"], [0.4444444444444444, \"#bd3786\"], [0.5555555555555556, \"#d8576b\"], [0.6666666666666666, \"#ed7953\"], [0.7777777777777778, \"#fb9f3a\"], [0.8888888888888888, \"#fdca26\"], [1.0, \"#f0f921\"]], \"type\": \"histogram2d\"}], \"histogram2dcontour\": [{\"colorbar\": {\"outlinewidth\": 0, \"ticks\": \"\"}, \"colorscale\": [[0.0, \"#0d0887\"], [0.1111111111111111, \"#46039f\"], [0.2222222222222222, \"#7201a8\"], [0.3333333333333333, \"#9c179e\"], [0.4444444444444444, \"#bd3786\"], [0.5555555555555556, \"#d8576b\"], [0.6666666666666666, \"#ed7953\"], [0.7777777777777778, \"#fb9f3a\"], [0.8888888888888888, \"#fdca26\"], [1.0, \"#f0f921\"]], \"type\": \"histogram2dcontour\"}], \"mesh3d\": [{\"colorbar\": {\"outlinewidth\": 0, \"ticks\": \"\"}, \"type\": \"mesh3d\"}], \"parcoords\": [{\"line\": {\"colorbar\": {\"outlinewidth\": 0, \"ticks\": \"\"}}, \"type\": \"parcoords\"}], \"pie\": [{\"automargin\": true, \"type\": \"pie\"}], \"scatter\": [{\"marker\": {\"colorbar\": {\"outlinewidth\": 0, \"ticks\": \"\"}}, \"type\": \"scatter\"}], \"scatter3d\": [{\"line\": {\"colorbar\": {\"outlinewidth\": 0, \"ticks\": \"\"}}, \"marker\": {\"colorbar\": {\"outlinewidth\": 0, \"ticks\": \"\"}}, \"type\": \"scatter3d\"}], \"scattercarpet\": [{\"marker\": {\"colorbar\": {\"outlinewidth\": 0, \"ticks\": \"\"}}, \"type\": \"scattercarpet\"}], \"scattergeo\": [{\"marker\": {\"colorbar\": {\"outlinewidth\": 0, \"ticks\": \"\"}}, \"type\": \"scattergeo\"}], \"scattergl\": [{\"marker\": {\"colorbar\": {\"outlinewidth\": 0, \"ticks\": \"\"}}, \"type\": \"scattergl\"}], \"scattermapbox\": [{\"marker\": {\"colorbar\": {\"outlinewidth\": 0, \"ticks\": \"\"}}, \"type\": \"scattermapbox\"}], \"scatterpolar\": [{\"marker\": {\"colorbar\": {\"outlinewidth\": 0, \"ticks\": \"\"}}, \"type\": \"scatterpolar\"}], \"scatterpolargl\": [{\"marker\": {\"colorbar\": {\"outlinewidth\": 0, \"ticks\": \"\"}}, \"type\": \"scatterpolargl\"}], \"scatterternary\": [{\"marker\": {\"colorbar\": {\"outlinewidth\": 0, \"ticks\": \"\"}}, \"type\": \"scatterternary\"}], \"surface\": [{\"colorbar\": {\"outlinewidth\": 0, \"ticks\": \"\"}, \"colorscale\": [[0.0, \"#0d0887\"], [0.1111111111111111, \"#46039f\"], [0.2222222222222222, \"#7201a8\"], [0.3333333333333333, \"#9c179e\"], [0.4444444444444444, \"#bd3786\"], [0.5555555555555556, \"#d8576b\"], [0.6666666666666666, \"#ed7953\"], [0.7777777777777778, \"#fb9f3a\"], [0.8888888888888888, \"#fdca26\"], [1.0, \"#f0f921\"]], \"type\": \"surface\"}], \"table\": [{\"cells\": {\"fill\": {\"color\": \"#EBF0F8\"}, \"line\": {\"color\": \"white\"}}, \"header\": {\"fill\": {\"color\": \"#C8D4E3\"}, \"line\": {\"color\": \"white\"}}, \"type\": \"table\"}]}, \"layout\": {\"annotationdefaults\": {\"arrowcolor\": \"#2a3f5f\", \"arrowhead\": 0, \"arrowwidth\": 1}, \"coloraxis\": {\"colorbar\": {\"outlinewidth\": 0, \"ticks\": \"\"}}, \"colorscale\": {\"diverging\": [[0, \"#8e0152\"], [0.1, \"#c51b7d\"], [0.2, \"#de77ae\"], [0.3, \"#f1b6da\"], [0.4, \"#fde0ef\"], [0.5, \"#f7f7f7\"], [0.6, \"#e6f5d0\"], [0.7, \"#b8e186\"], [0.8, \"#7fbc41\"], [0.9, \"#4d9221\"], [1, \"#276419\"]], \"sequential\": [[0.0, \"#0d0887\"], [0.1111111111111111, \"#46039f\"], [0.2222222222222222, \"#7201a8\"], [0.3333333333333333, \"#9c179e\"], [0.4444444444444444, \"#bd3786\"], [0.5555555555555556, \"#d8576b\"], [0.6666666666666666, \"#ed7953\"], [0.7777777777777778, \"#fb9f3a\"], [0.8888888888888888, \"#fdca26\"], [1.0, \"#f0f921\"]], \"sequentialminus\": [[0.0, \"#0d0887\"], [0.1111111111111111, \"#46039f\"], [0.2222222222222222, \"#7201a8\"], [0.3333333333333333, \"#9c179e\"], [0.4444444444444444, \"#bd3786\"], [0.5555555555555556, \"#d8576b\"], [0.6666666666666666, \"#ed7953\"], [0.7777777777777778, \"#fb9f3a\"], [0.8888888888888888, \"#fdca26\"], [1.0, \"#f0f921\"]]}, \"colorway\": [\"#636efa\", \"#EF553B\", \"#00cc96\", \"#ab63fa\", \"#FFA15A\", \"#19d3f3\", \"#FF6692\", \"#B6E880\", \"#FF97FF\", \"#FECB52\"], \"font\": {\"color\": \"#2a3f5f\"}, \"geo\": {\"bgcolor\": \"white\", \"lakecolor\": \"white\", \"landcolor\": \"#E5ECF6\", \"showlakes\": true, \"showland\": true, \"subunitcolor\": \"white\"}, \"hoverlabel\": {\"align\": \"left\"}, \"hovermode\": \"closest\", \"mapbox\": {\"style\": \"light\"}, \"paper_bgcolor\": \"white\", \"plot_bgcolor\": \"#E5ECF6\", \"polar\": {\"angularaxis\": {\"gridcolor\": \"white\", \"linecolor\": \"white\", \"ticks\": \"\"}, \"bgcolor\": \"#E5ECF6\", \"radialaxis\": {\"gridcolor\": \"white\", \"linecolor\": \"white\", \"ticks\": \"\"}}, \"scene\": {\"xaxis\": {\"backgroundcolor\": \"#E5ECF6\", \"gridcolor\": \"white\", \"gridwidth\": 2, \"linecolor\": \"white\", \"showbackground\": true, \"ticks\": \"\", \"zerolinecolor\": \"white\"}, \"yaxis\": {\"backgroundcolor\": \"#E5ECF6\", \"gridcolor\": \"white\", \"gridwidth\": 2, \"linecolor\": \"white\", \"showbackground\": true, \"ticks\": \"\", \"zerolinecolor\": \"white\"}, \"zaxis\": {\"backgroundcolor\": \"#E5ECF6\", \"gridcolor\": \"white\", \"gridwidth\": 2, \"linecolor\": \"white\", \"showbackground\": true, \"ticks\": \"\", \"zerolinecolor\": \"white\"}}, \"shapedefaults\": {\"line\": {\"color\": \"#2a3f5f\"}}, \"ternary\": {\"aaxis\": {\"gridcolor\": \"white\", \"linecolor\": \"white\", \"ticks\": \"\"}, \"baxis\": {\"gridcolor\": \"white\", \"linecolor\": \"white\", \"ticks\": \"\"}, \"bgcolor\": \"#E5ECF6\", \"caxis\": {\"gridcolor\": \"white\", \"linecolor\": \"white\", \"ticks\": \"\"}}, \"title\": {\"x\": 0.05}, \"xaxis\": {\"automargin\": true, \"gridcolor\": \"white\", \"linecolor\": \"white\", \"ticks\": \"\", \"title\": {\"standoff\": 15}, \"zerolinecolor\": \"white\", \"zerolinewidth\": 2}, \"yaxis\": {\"automargin\": true, \"gridcolor\": \"white\", \"linecolor\": \"white\", \"ticks\": \"\", \"title\": {\"standoff\": 15}, \"zerolinecolor\": \"white\", \"zerolinewidth\": 2}}}, \"title\": {\"text\": \"Train and Test Loss during training\"}, \"xaxis\": {\"title\": {\"text\": \"Epoch number\"}}, \"yaxis\": {\"title\": {\"text\": \"Loss\"}}},\n",
              "                        {\"responsive\": true}\n",
              "                    ).then(function(){\n",
              "                            \n",
              "var gd = document.getElementById('7f269a1b-d8a0-42a7-adbc-5dff17db8344');\n",
              "var x = new MutationObserver(function (mutations, observer) {{\n",
              "        var display = window.getComputedStyle(gd).display;\n",
              "        if (!display || display === 'none') {{\n",
              "            console.log([gd, 'removed!']);\n",
              "            Plotly.purge(gd);\n",
              "            observer.disconnect();\n",
              "        }}\n",
              "}});\n",
              "\n",
              "// Listen for the removal of the full notebook cells\n",
              "var notebookContainer = gd.closest('#notebook-container');\n",
              "if (notebookContainer) {{\n",
              "    x.observe(notebookContainer, {childList: true});\n",
              "}}\n",
              "\n",
              "// Listen for the clearing of the current output cell\n",
              "var outputEl = gd.closest('.output');\n",
              "if (outputEl) {{\n",
              "    x.observe(outputEl, {childList: true});\n",
              "}}\n",
              "\n",
              "                        })\n",
              "                };\n",
              "                \n",
              "            </script>\n",
              "        </div>\n",
              "</body>\n",
              "</html>"
            ]
          },
          "metadata": {
            "tags": []
          }
        }
      ]
    },
    {
      "cell_type": "markdown",
      "metadata": {
        "id": "Q7X2fAjcuwVR",
        "colab_type": "text"
      },
      "source": [
        "2-Layer GRU Neural Network"
      ]
    },
    {
      "cell_type": "code",
      "metadata": {
        "id": "hukp3GzdDa0v",
        "colab_type": "code",
        "colab": {}
      },
      "source": [
        "# --------------------------------------\n",
        "# Network params\n",
        "# --------------------------------------\n",
        "# Network params\n",
        "batch = 100   # in each iteration, we consider 125 training examples at once\n",
        "epochs = 500    # we iterate 20 times over the entire training set\n",
        "drop_prob = 0.01 # dropout with probability 0.01 (1 month)\n",
        "hidden_size = 1  # the Fully connected layer will have 1 neuron\n",
        "weight_penalty = 0.0001 # Factor for weights penalty"
      ],
      "execution_count": 0,
      "outputs": []
    },
    {
      "cell_type": "code",
      "metadata": {
        "id": "T2Ljqc0iDa0y",
        "colab_type": "code",
        "outputId": "69c6cf07-d54c-4653-b666-51efc5a6137e",
        "colab": {
          "base_uri": "https://localhost:8080/",
          "height": 277
        }
      },
      "source": [
        "# --------------------------------------\n",
        "# 2-GRU network definition\n",
        "# --------------------------------------\n",
        "\n",
        "# initialize sequential model, add 2 stacked dense layers and densely connected output neuron\n",
        "model = Sequential()\n",
        "\n",
        "\n",
        "# GRU [50]  (with dropout & recurrent dropout)\n",
        "model.add(GRU(50, activation='tanh', return_sequences=True, dropout= drop_prob, recurrent_dropout=drop_prob, input_shape = (X_train.shape[1], X_train.shape[2])))\n",
        "# GRU [10]  (with dropout & recurrent dropout)\n",
        "model.add(GRU(10, activation='tanh', return_sequences=False, dropout= drop_prob, recurrent_dropout=drop_prob, input_shape = (X_train.shape[1], X_train.shape[2])))\n",
        "#Dense [1]\n",
        "model.add(Dense(hidden_size, kernel_regularizer= regularizers.l2(weight_penalty)))\n",
        "          \n",
        "print(model.summary())"
      ],
      "execution_count": 0,
      "outputs": [
        {
          "output_type": "stream",
          "text": [
            "Model: \"sequential_4\"\n",
            "_________________________________________________________________\n",
            "Layer (type)                 Output Shape              Param #   \n",
            "=================================================================\n",
            "gru_2 (GRU)                  (None, 30, 50)            8700      \n",
            "_________________________________________________________________\n",
            "gru_3 (GRU)                  (None, 10)                1830      \n",
            "_________________________________________________________________\n",
            "dense_5 (Dense)              (None, 1)                 11        \n",
            "=================================================================\n",
            "Total params: 10,541\n",
            "Trainable params: 10,541\n",
            "Non-trainable params: 0\n",
            "_________________________________________________________________\n",
            "None\n"
          ],
          "name": "stdout"
        }
      ]
    },
    {
      "cell_type": "code",
      "metadata": {
        "id": "4l5fEw30Da02",
        "colab_type": "code",
        "outputId": "2b141755-b88e-4e13-aa86-eea5380fcf9c",
        "colab": {
          "base_uri": "https://localhost:8080/",
          "height": 1000
        }
      },
      "source": [
        "# --------------------------------------\n",
        "# Loss function and Optimizer\n",
        "# --------------------------------------\n",
        "from keras.optimizers import Adam\n",
        "optimizer = Adam(lr=learning_rate)\n",
        "model.compile(loss='mean_squared_error', # using MSE\n",
        "              optimizer=optimizer, # using the Adam optimiser\n",
        "              ) \n",
        "# --------------------------------------\n",
        "# Training\n",
        "# --------------------------------------\n",
        "start = time.time()\n",
        "history = model.fit(X_train, Y_train, \n",
        "                    batch_size=batch, nb_epoch=epochs,\n",
        "                    shuffle=True, \n",
        "                    validation_split = 0.05,\n",
        "                   callbacks = [EarlyStopping(monitor='val_loss',  patience=20, verbose = 1)])\n",
        "end = time.time()            \n"
      ],
      "execution_count": 0,
      "outputs": [
        {
          "output_type": "stream",
          "text": [
            "/usr/local/lib/python3.6/dist-packages/ipykernel_launcher.py:14: UserWarning:\n",
            "\n",
            "The `nb_epoch` argument in `fit` has been renamed `epochs`.\n",
            "\n"
          ],
          "name": "stderr"
        },
        {
          "output_type": "stream",
          "text": [
            "Train on 2995 samples, validate on 158 samples\n",
            "Epoch 1/500\n",
            "2995/2995 [==============================] - 3s 922us/step - loss: 0.3373 - val_loss: 0.1461\n",
            "Epoch 2/500\n",
            "2995/2995 [==============================] - 2s 638us/step - loss: 0.0619 - val_loss: 0.1175\n",
            "Epoch 3/500\n",
            "2995/2995 [==============================] - 2s 639us/step - loss: 0.0426 - val_loss: 0.0828\n",
            "Epoch 4/500\n",
            "2995/2995 [==============================] - 2s 635us/step - loss: 0.0377 - val_loss: 0.0519\n",
            "Epoch 5/500\n",
            "2995/2995 [==============================] - 2s 630us/step - loss: 0.0308 - val_loss: 0.0429\n",
            "Epoch 6/500\n",
            "2995/2995 [==============================] - 2s 654us/step - loss: 0.0358 - val_loss: 0.0302\n",
            "Epoch 7/500\n",
            "2995/2995 [==============================] - 2s 646us/step - loss: 0.0242 - val_loss: 0.0261\n",
            "Epoch 8/500\n",
            "2995/2995 [==============================] - 2s 646us/step - loss: 0.0311 - val_loss: 0.0364\n",
            "Epoch 9/500\n",
            "2995/2995 [==============================] - 2s 652us/step - loss: 0.0213 - val_loss: 0.0223\n",
            "Epoch 10/500\n",
            "2995/2995 [==============================] - 2s 634us/step - loss: 0.0220 - val_loss: 0.0242\n",
            "Epoch 11/500\n",
            "2995/2995 [==============================] - 2s 629us/step - loss: 0.0172 - val_loss: 0.0221\n",
            "Epoch 12/500\n",
            "2995/2995 [==============================] - 2s 628us/step - loss: 0.0150 - val_loss: 0.0207\n",
            "Epoch 13/500\n",
            "2995/2995 [==============================] - 2s 636us/step - loss: 0.0147 - val_loss: 0.0241\n",
            "Epoch 14/500\n",
            "2995/2995 [==============================] - 2s 630us/step - loss: 0.0148 - val_loss: 0.0199\n",
            "Epoch 15/500\n",
            "2995/2995 [==============================] - 2s 629us/step - loss: 0.0151 - val_loss: 0.0202\n",
            "Epoch 16/500\n",
            "2995/2995 [==============================] - 2s 635us/step - loss: 0.0155 - val_loss: 0.0178\n",
            "Epoch 17/500\n",
            "2995/2995 [==============================] - 2s 641us/step - loss: 0.0163 - val_loss: 0.0184\n",
            "Epoch 18/500\n",
            "2995/2995 [==============================] - 2s 625us/step - loss: 0.0209 - val_loss: 0.0179\n",
            "Epoch 19/500\n",
            "2995/2995 [==============================] - 2s 628us/step - loss: 0.0102 - val_loss: 0.0175\n",
            "Epoch 20/500\n",
            "2995/2995 [==============================] - 2s 636us/step - loss: 0.0183 - val_loss: 0.0205\n",
            "Epoch 21/500\n",
            "2995/2995 [==============================] - 2s 632us/step - loss: 0.0141 - val_loss: 0.0185\n",
            "Epoch 22/500\n",
            "2995/2995 [==============================] - 2s 634us/step - loss: 0.0152 - val_loss: 0.0209\n",
            "Epoch 23/500\n",
            "2995/2995 [==============================] - 2s 638us/step - loss: 0.0091 - val_loss: 0.0187\n",
            "Epoch 24/500\n",
            "2995/2995 [==============================] - 2s 645us/step - loss: 0.0103 - val_loss: 0.0185\n",
            "Epoch 25/500\n",
            "2995/2995 [==============================] - 2s 632us/step - loss: 0.0141 - val_loss: 0.0168\n",
            "Epoch 26/500\n",
            "2995/2995 [==============================] - 2s 628us/step - loss: 0.0188 - val_loss: 0.0213\n",
            "Epoch 27/500\n",
            "2995/2995 [==============================] - 2s 632us/step - loss: 0.0146 - val_loss: 0.0191\n",
            "Epoch 28/500\n",
            "2995/2995 [==============================] - 2s 640us/step - loss: 0.0099 - val_loss: 0.0162\n",
            "Epoch 29/500\n",
            "2995/2995 [==============================] - 2s 639us/step - loss: 0.0101 - val_loss: 0.0152\n",
            "Epoch 30/500\n",
            "2995/2995 [==============================] - 2s 634us/step - loss: 0.0114 - val_loss: 0.0169\n",
            "Epoch 31/500\n",
            "2995/2995 [==============================] - 2s 630us/step - loss: 0.0193 - val_loss: 0.0271\n",
            "Epoch 32/500\n",
            "2995/2995 [==============================] - 2s 635us/step - loss: 0.0098 - val_loss: 0.0167\n",
            "Epoch 33/500\n",
            "2995/2995 [==============================] - 2s 638us/step - loss: 0.0117 - val_loss: 0.0163\n",
            "Epoch 34/500\n",
            "2995/2995 [==============================] - 2s 631us/step - loss: 0.0120 - val_loss: 0.0150\n",
            "Epoch 35/500\n",
            "2995/2995 [==============================] - 2s 631us/step - loss: 0.0187 - val_loss: 0.0152\n",
            "Epoch 36/500\n",
            "2995/2995 [==============================] - 2s 630us/step - loss: 0.0160 - val_loss: 0.0187\n",
            "Epoch 37/500\n",
            "2995/2995 [==============================] - 2s 621us/step - loss: 0.0199 - val_loss: 0.0172\n",
            "Epoch 38/500\n",
            "2995/2995 [==============================] - 2s 624us/step - loss: 0.0140 - val_loss: 0.0370\n",
            "Epoch 39/500\n",
            "2995/2995 [==============================] - 2s 647us/step - loss: 0.0118 - val_loss: 0.0160\n",
            "Epoch 40/500\n",
            "2995/2995 [==============================] - 2s 646us/step - loss: 0.0160 - val_loss: 0.0148\n",
            "Epoch 41/500\n",
            "2995/2995 [==============================] - 2s 633us/step - loss: 0.0089 - val_loss: 0.0150\n",
            "Epoch 42/500\n",
            "2995/2995 [==============================] - 2s 637us/step - loss: 0.0147 - val_loss: 0.0167\n",
            "Epoch 43/500\n",
            "2995/2995 [==============================] - 2s 631us/step - loss: 0.0231 - val_loss: 0.0203\n",
            "Epoch 44/500\n",
            "2995/2995 [==============================] - 2s 637us/step - loss: 0.0144 - val_loss: 0.0132\n",
            "Epoch 45/500\n",
            "2995/2995 [==============================] - 2s 639us/step - loss: 0.0140 - val_loss: 0.0155\n",
            "Epoch 46/500\n",
            "2995/2995 [==============================] - 2s 635us/step - loss: 0.0092 - val_loss: 0.0213\n",
            "Epoch 47/500\n",
            "2995/2995 [==============================] - 2s 642us/step - loss: 0.0085 - val_loss: 0.0141\n",
            "Epoch 48/500\n",
            "2995/2995 [==============================] - 2s 633us/step - loss: 0.0105 - val_loss: 0.0258\n",
            "Epoch 49/500\n",
            "2995/2995 [==============================] - 2s 638us/step - loss: 0.0146 - val_loss: 0.0143\n",
            "Epoch 50/500\n",
            "2995/2995 [==============================] - 2s 624us/step - loss: 0.0097 - val_loss: 0.0135\n",
            "Epoch 51/500\n",
            "2995/2995 [==============================] - 2s 629us/step - loss: 0.0133 - val_loss: 0.0157\n",
            "Epoch 52/500\n",
            "2995/2995 [==============================] - 2s 625us/step - loss: 0.0092 - val_loss: 0.0229\n",
            "Epoch 53/500\n",
            "2995/2995 [==============================] - 2s 628us/step - loss: 0.0115 - val_loss: 0.0304\n",
            "Epoch 54/500\n",
            "2995/2995 [==============================] - 2s 624us/step - loss: 0.0076 - val_loss: 0.0155\n",
            "Epoch 55/500\n",
            "2995/2995 [==============================] - 2s 641us/step - loss: 0.0076 - val_loss: 0.0194\n",
            "Epoch 56/500\n",
            "2995/2995 [==============================] - 2s 647us/step - loss: 0.0087 - val_loss: 0.0251\n",
            "Epoch 57/500\n",
            "2995/2995 [==============================] - 2s 635us/step - loss: 0.0102 - val_loss: 0.0144\n",
            "Epoch 58/500\n",
            "2995/2995 [==============================] - 2s 631us/step - loss: 0.0103 - val_loss: 0.0141\n",
            "Epoch 59/500\n",
            "2995/2995 [==============================] - 2s 623us/step - loss: 0.0135 - val_loss: 0.0182\n",
            "Epoch 60/500\n",
            "2995/2995 [==============================] - 2s 637us/step - loss: 0.0081 - val_loss: 0.0144\n",
            "Epoch 61/500\n",
            "2995/2995 [==============================] - 2s 644us/step - loss: 0.0086 - val_loss: 0.0149\n",
            "Epoch 62/500\n",
            "2995/2995 [==============================] - 2s 634us/step - loss: 0.0122 - val_loss: 0.0157\n",
            "Epoch 63/500\n",
            "2995/2995 [==============================] - 2s 630us/step - loss: 0.0124 - val_loss: 0.0133\n",
            "Epoch 64/500\n",
            "2995/2995 [==============================] - 2s 632us/step - loss: 0.0123 - val_loss: 0.0183\n",
            "Epoch 00064: early stopping\n"
          ],
          "name": "stdout"
        }
      ]
    },
    {
      "cell_type": "code",
      "metadata": {
        "id": "tn0XMNgButek",
        "colab_type": "code",
        "outputId": "d29cd64f-f519-4b1f-ebbf-f689811c91af",
        "colab": {
          "base_uri": "https://localhost:8080/",
          "height": 52
        }
      },
      "source": [
        "# get predictions and then make some transformations to be able to calculate RMSE properly in USD\n",
        "prediction = model.predict(X_test)\n",
        "print(prediction.shape)\n",
        "print(Y_test.shape)\n"
      ],
      "execution_count": 0,
      "outputs": [
        {
          "output_type": "stream",
          "text": [
            "(120, 1)\n",
            "(120, 1)\n"
          ],
          "name": "stdout"
        }
      ]
    },
    {
      "cell_type": "code",
      "metadata": {
        "id": "N2w7EwWrutmd",
        "colab_type": "code",
        "outputId": "a9054f82-4683-485b-e31e-052204e284d6",
        "colab": {
          "base_uri": "https://localhost:8080/",
          "height": 542
        }
      },
      "source": [
        "trace1 = go.Scatter(\n",
        "    x = np.arange(0, len(prediction), 1),\n",
        "    y = prediction[1:,0],\n",
        "    mode = 'lines',\n",
        "    name = 'Predicted labels',\n",
        "    line = dict(color=('rgb(244, 146, 65)'), width=2)\n",
        ")\n",
        "trace2 = go.Scatter(\n",
        "    x = np.arange(0, len(Y_test), 1),\n",
        "    y = Y_test[:,0],\n",
        "    mode = 'lines',\n",
        "    name = 'True labels',\n",
        "    line = dict(color=('rgb(66, 244, 155)'), width=2)\n",
        ")\n",
        "\n",
        "d = [trace1, trace2]\n",
        "layout = dict(title = 'Comparison of true prices (on the test dataset) with prices our model predicted',\n",
        "             xaxis = dict(title = 'Day number'), yaxis = dict(title = 'Price, USD'))\n",
        "fig = dict(data=d, layout=layout)\n",
        "py.iplot(fig, filename='results_demonstrating0')"
      ],
      "execution_count": 0,
      "outputs": [
        {
          "output_type": "display_data",
          "data": {
            "text/html": [
              "<html>\n",
              "<head><meta charset=\"utf-8\" /></head>\n",
              "<body>\n",
              "    <div>\n",
              "            <script src=\"https://cdnjs.cloudflare.com/ajax/libs/mathjax/2.7.5/MathJax.js?config=TeX-AMS-MML_SVG\"></script><script type=\"text/javascript\">if (window.MathJax) {MathJax.Hub.Config({SVG: {font: \"STIX-Web\"}});}</script>\n",
              "                <script type=\"text/javascript\">window.PlotlyConfig = {MathJaxConfig: 'local'};</script>\n",
              "        <script src=\"https://cdn.plot.ly/plotly-latest.min.js\"></script>    \n",
              "            <div id=\"db159217-9575-423c-8a18-cc71d6923bf5\" class=\"plotly-graph-div\" style=\"height:525px; width:100%;\"></div>\n",
              "            <script type=\"text/javascript\">\n",
              "                \n",
              "                    window.PLOTLYENV=window.PLOTLYENV || {};\n",
              "                    \n",
              "                if (document.getElementById(\"db159217-9575-423c-8a18-cc71d6923bf5\")) {\n",
              "                    Plotly.newPlot(\n",
              "                        'db159217-9575-423c-8a18-cc71d6923bf5',\n",
              "                        [{\"line\": {\"color\": \"rgb(244, 146, 65)\", \"width\": 2}, \"mode\": \"lines\", \"name\": \"Predicted labels\", \"type\": \"scatter\", \"x\": [0, 1, 2, 3, 4, 5, 6, 7, 8, 9, 10, 11, 12, 13, 14, 15, 16, 17, 18, 19, 20, 21, 22, 23, 24, 25, 26, 27, 28, 29, 30, 31, 32, 33, 34, 35, 36, 37, 38, 39, 40, 41, 42, 43, 44, 45, 46, 47, 48, 49, 50, 51, 52, 53, 54, 55, 56, 57, 58, 59, 60, 61, 62, 63, 64, 65, 66, 67, 68, 69, 70, 71, 72, 73, 74, 75, 76, 77, 78, 79, 80, 81, 82, 83, 84, 85, 86, 87, 88, 89, 90, 91, 92, 93, 94, 95, 96, 97, 98, 99, 100, 101, 102, 103, 104, 105, 106, 107, 108, 109, 110, 111, 112, 113, 114, 115, 116, 117, 118, 119], \"y\": [-0.6760525107383728, -0.8109623193740845, -0.8486362099647522, -0.8024311661720276, -0.6866157054901123, -0.580459713935852, -0.4384870231151581, -0.4017353057861328, -0.4808432161808014, -0.5729024410247803, -0.620985209941864, -0.63405841588974, -0.6214312314987183, -0.5583192110061646, -0.5091413259506226, -0.4922339618206024, -0.5252758264541626, -0.6115507483482361, -0.6819601058959961, -0.7113855481147766, -0.6960657238960266, -0.7326300144195557, -0.7552616000175476, -0.8107424378395081, -0.9175769686698914, -0.8568311929702759, -0.770392894744873, -0.7133004069328308, -0.6999766826629639, -0.621886134147644, -0.5684078335762024, -0.5938928127288818, -0.6555607318878174, -0.6693993210792542, -0.6829128861427307, -0.6660686135292053, -0.6183958053588867, -0.6247437596321106, -0.6695913076400757, -0.7072576284408569, -0.7712373733520508, -0.7414746284484863, -0.6780895590782166, -0.6186718344688416, -0.4901120364665985, -0.2544422447681427, -0.0862957313656807, -0.12498205155134201, -0.0992252454161644, -0.07472234219312668, -0.05234595388174057, -0.05780266970396042, 0.20750240981578827, 0.43333739042282104, 0.48813769221305847, 0.5554121732711792, 0.5901309251785278, 0.5077876448631287, 0.3856658935546875, 0.3641505539417267, 0.3810606896877289, 0.2572243809700012, 0.17370499670505524, 0.11537164449691772, 0.19230243563652039, 0.41701677441596985, 0.7762231230735779, 0.9619832634925842, 1.0613799095153809, 1.015704870223999, 0.9942440390586853, 0.9618789553642273, 0.9617673754692078, 0.8681911826133728, 1.0589118003845215, 1.2876511812210083, 1.3644391298294067, 1.393768548965454, 1.5792039632797241, 1.500122308731079, 1.5811779499053955, 1.815871000289917, 1.8107173442840576, 1.7776867151260376, 1.570564866065979, 1.416040062904358, 1.3006080389022827, 1.5052529573440552, 1.3678317070007324, 1.1704727411270142, 1.217181921005249, 1.2740113735198975, 1.4207165241241455, 1.3238555192947388, 1.056384563446045, 0.7000649571418762, 0.5351970195770264, 0.4779750406742096, 0.4039667546749115, 0.3372485339641571, 0.476474404335022, 0.5117492079734802, 0.5023887157440186, 0.6520564556121826, 0.7907443642616272, 0.7161858677864075, 0.24405363202095032, -0.11116185039281845, -0.20941194891929626, -0.2433507740497589, -1.1299076080322266, -1.58018958568573, -1.7225496768951416, -1.7138619422912598, -1.7416471242904663, -1.7053014039993286, -1.66362726688385, -1.522112488746643, -1.3596853017807007]}, {\"line\": {\"color\": \"rgb(66, 244, 155)\", \"width\": 2}, \"mode\": \"lines\", \"name\": \"True labels\", \"type\": \"scatter\", \"x\": [0, 1, 2, 3, 4, 5, 6, 7, 8, 9, 10, 11, 12, 13, 14, 15, 16, 17, 18, 19, 20, 21, 22, 23, 24, 25, 26, 27, 28, 29, 30, 31, 32, 33, 34, 35, 36, 37, 38, 39, 40, 41, 42, 43, 44, 45, 46, 47, 48, 49, 50, 51, 52, 53, 54, 55, 56, 57, 58, 59, 60, 61, 62, 63, 64, 65, 66, 67, 68, 69, 70, 71, 72, 73, 74, 75, 76, 77, 78, 79, 80, 81, 82, 83, 84, 85, 86, 87, 88, 89, 90, 91, 92, 93, 94, 95, 96, 97, 98, 99, 100, 101, 102, 103, 104, 105, 106, 107, 108, 109, 110, 111, 112, 113, 114, 115, 116, 117, 118, 119], \"y\": [-0.8037194170905599, -1.0280124766475254, -1.0018005762259632, -0.8935634317892968, -0.7059721044575563, -0.6385362639018578, -0.44443633827130974, -0.5325644497821793, -0.6961500379339011, -0.7828749970842486, -0.7736699794902202, -0.7658173979063341, -0.7350072150502898, -0.6120200653780139, -0.5885299424268624, -0.6071428430164402, -0.6955414417293379, -0.8278603998715927, -0.8691181509059824, -0.8760409327328966, -0.829846790261488, -0.9512701857970378, -0.9421581481787065, -1.0885593462765641, -1.3014074160977032, -0.9398421015113387, -0.8884748913011384, -0.8938592771665156, -0.9143824936204182, -0.686978831240127, -0.7050338519755207, -0.8096532300850577, -0.8763705890103681, -0.8332025221116527, -0.8717300429505691, -0.7867125342630261, -0.7063862879856628, -0.8225605412568487, -0.8792614209820464, -0.8811548313962448, -1.0385192139013144, -0.8416890580752929, -0.7516844416003521, -0.7222605056547028, -0.4792446600823363, -0.143122047936766, -0.11057905644272735, -0.3210180996208017, -0.1457001290810983, -0.12822834637507802, -0.09308191556151635, -0.10602303763356166, 0.35055090666526934, 0.44981970980968117, 0.40552743047753537, 0.5332312007351809, 0.5610406661937228, 0.4454750091271009, 0.33187883700024806, 0.3670168150887462, 0.36852140015002954, 0.16626459483331296, 0.13880169110236987, 0.08945468218231768, 0.24223768770303158, 0.5093268942559245, 0.877502239841857, 0.9086336262503101, 1.0083757819982726, 0.9434926644117164, 0.9684789196990871, 0.9221748918018559, 0.9467638690112478, 0.8100833047362849, 1.098591716599798, 1.2580101112952708, 1.3229016816068906, 1.364353845317738, 1.5726120854294594, 1.4129485617071478, 1.6228550832062287, 1.7922054298511807, 1.7140853448153612, 1.7496544118820923, 1.4863351207074704, 1.3911489837686744, 1.2503096787625252, 1.5491642261036236, 1.239177439854045, 1.1338480328391847, 1.2228383223065185, 1.2029490602323707, 1.4132528598094303, 1.2436658368627043, 0.973998549165479, 0.5573299198908965, 0.4626932100812202, 0.38420965786767475, 0.30997782636101334, 0.2769699349884875, 0.5020152870760938, 0.46014893983714067, 0.44973518255904854, 0.6649331099478096, 0.7541685284419823, 0.6239881097407642, 0.019778869484822725, -0.2620518895786162, -0.2626351276079895, -0.3052199564773316, -2.237411473266762, -2.4870288971136336, -2.502734060281406, -2.3556059278280976, -2.7578964717698593, -2.484180328767272, -2.459270148005472, -1.874569797195826, -1.6594817552328889, -1.7355478280783059]}],\n",
              "                        {\"template\": {\"data\": {\"bar\": [{\"error_x\": {\"color\": \"#2a3f5f\"}, \"error_y\": {\"color\": \"#2a3f5f\"}, \"marker\": {\"line\": {\"color\": \"#E5ECF6\", \"width\": 0.5}}, \"type\": \"bar\"}], \"barpolar\": [{\"marker\": {\"line\": {\"color\": \"#E5ECF6\", \"width\": 0.5}}, \"type\": \"barpolar\"}], \"carpet\": [{\"aaxis\": {\"endlinecolor\": \"#2a3f5f\", \"gridcolor\": \"white\", \"linecolor\": \"white\", \"minorgridcolor\": \"white\", \"startlinecolor\": \"#2a3f5f\"}, \"baxis\": {\"endlinecolor\": \"#2a3f5f\", \"gridcolor\": \"white\", \"linecolor\": \"white\", \"minorgridcolor\": \"white\", \"startlinecolor\": \"#2a3f5f\"}, \"type\": \"carpet\"}], \"choropleth\": [{\"colorbar\": {\"outlinewidth\": 0, \"ticks\": \"\"}, \"type\": \"choropleth\"}], \"contour\": [{\"colorbar\": {\"outlinewidth\": 0, \"ticks\": \"\"}, \"colorscale\": [[0.0, \"#0d0887\"], [0.1111111111111111, \"#46039f\"], [0.2222222222222222, \"#7201a8\"], [0.3333333333333333, \"#9c179e\"], [0.4444444444444444, \"#bd3786\"], [0.5555555555555556, \"#d8576b\"], [0.6666666666666666, \"#ed7953\"], [0.7777777777777778, \"#fb9f3a\"], [0.8888888888888888, \"#fdca26\"], [1.0, \"#f0f921\"]], \"type\": \"contour\"}], \"contourcarpet\": [{\"colorbar\": {\"outlinewidth\": 0, \"ticks\": \"\"}, \"type\": \"contourcarpet\"}], \"heatmap\": [{\"colorbar\": {\"outlinewidth\": 0, \"ticks\": \"\"}, \"colorscale\": [[0.0, \"#0d0887\"], [0.1111111111111111, \"#46039f\"], [0.2222222222222222, \"#7201a8\"], [0.3333333333333333, \"#9c179e\"], [0.4444444444444444, \"#bd3786\"], [0.5555555555555556, \"#d8576b\"], [0.6666666666666666, \"#ed7953\"], [0.7777777777777778, \"#fb9f3a\"], [0.8888888888888888, \"#fdca26\"], [1.0, \"#f0f921\"]], \"type\": \"heatmap\"}], \"heatmapgl\": [{\"colorbar\": {\"outlinewidth\": 0, \"ticks\": \"\"}, \"colorscale\": [[0.0, \"#0d0887\"], [0.1111111111111111, \"#46039f\"], [0.2222222222222222, \"#7201a8\"], [0.3333333333333333, \"#9c179e\"], [0.4444444444444444, \"#bd3786\"], [0.5555555555555556, \"#d8576b\"], [0.6666666666666666, \"#ed7953\"], [0.7777777777777778, \"#fb9f3a\"], [0.8888888888888888, \"#fdca26\"], [1.0, \"#f0f921\"]], \"type\": \"heatmapgl\"}], \"histogram\": [{\"marker\": {\"colorbar\": {\"outlinewidth\": 0, \"ticks\": \"\"}}, \"type\": \"histogram\"}], \"histogram2d\": [{\"colorbar\": {\"outlinewidth\": 0, \"ticks\": \"\"}, \"colorscale\": [[0.0, \"#0d0887\"], [0.1111111111111111, \"#46039f\"], [0.2222222222222222, \"#7201a8\"], [0.3333333333333333, \"#9c179e\"], [0.4444444444444444, \"#bd3786\"], [0.5555555555555556, \"#d8576b\"], [0.6666666666666666, \"#ed7953\"], [0.7777777777777778, \"#fb9f3a\"], [0.8888888888888888, \"#fdca26\"], [1.0, \"#f0f921\"]], \"type\": \"histogram2d\"}], \"histogram2dcontour\": [{\"colorbar\": {\"outlinewidth\": 0, \"ticks\": \"\"}, \"colorscale\": [[0.0, \"#0d0887\"], [0.1111111111111111, \"#46039f\"], [0.2222222222222222, \"#7201a8\"], [0.3333333333333333, \"#9c179e\"], [0.4444444444444444, \"#bd3786\"], [0.5555555555555556, \"#d8576b\"], [0.6666666666666666, \"#ed7953\"], [0.7777777777777778, \"#fb9f3a\"], [0.8888888888888888, \"#fdca26\"], [1.0, \"#f0f921\"]], \"type\": \"histogram2dcontour\"}], \"mesh3d\": [{\"colorbar\": {\"outlinewidth\": 0, \"ticks\": \"\"}, \"type\": \"mesh3d\"}], \"parcoords\": [{\"line\": {\"colorbar\": {\"outlinewidth\": 0, \"ticks\": \"\"}}, \"type\": \"parcoords\"}], \"pie\": [{\"automargin\": true, \"type\": \"pie\"}], \"scatter\": [{\"marker\": {\"colorbar\": {\"outlinewidth\": 0, \"ticks\": \"\"}}, \"type\": \"scatter\"}], \"scatter3d\": [{\"line\": {\"colorbar\": {\"outlinewidth\": 0, \"ticks\": \"\"}}, \"marker\": {\"colorbar\": {\"outlinewidth\": 0, \"ticks\": \"\"}}, \"type\": \"scatter3d\"}], \"scattercarpet\": [{\"marker\": {\"colorbar\": {\"outlinewidth\": 0, \"ticks\": \"\"}}, \"type\": \"scattercarpet\"}], \"scattergeo\": [{\"marker\": {\"colorbar\": {\"outlinewidth\": 0, \"ticks\": \"\"}}, \"type\": \"scattergeo\"}], \"scattergl\": [{\"marker\": {\"colorbar\": {\"outlinewidth\": 0, \"ticks\": \"\"}}, \"type\": \"scattergl\"}], \"scattermapbox\": [{\"marker\": {\"colorbar\": {\"outlinewidth\": 0, \"ticks\": \"\"}}, \"type\": \"scattermapbox\"}], \"scatterpolar\": [{\"marker\": {\"colorbar\": {\"outlinewidth\": 0, \"ticks\": \"\"}}, \"type\": \"scatterpolar\"}], \"scatterpolargl\": [{\"marker\": {\"colorbar\": {\"outlinewidth\": 0, \"ticks\": \"\"}}, \"type\": \"scatterpolargl\"}], \"scatterternary\": [{\"marker\": {\"colorbar\": {\"outlinewidth\": 0, \"ticks\": \"\"}}, \"type\": \"scatterternary\"}], \"surface\": [{\"colorbar\": {\"outlinewidth\": 0, \"ticks\": \"\"}, \"colorscale\": [[0.0, \"#0d0887\"], [0.1111111111111111, \"#46039f\"], [0.2222222222222222, \"#7201a8\"], [0.3333333333333333, \"#9c179e\"], [0.4444444444444444, \"#bd3786\"], [0.5555555555555556, \"#d8576b\"], [0.6666666666666666, \"#ed7953\"], [0.7777777777777778, \"#fb9f3a\"], [0.8888888888888888, \"#fdca26\"], [1.0, \"#f0f921\"]], \"type\": \"surface\"}], \"table\": [{\"cells\": {\"fill\": {\"color\": \"#EBF0F8\"}, \"line\": {\"color\": \"white\"}}, \"header\": {\"fill\": {\"color\": \"#C8D4E3\"}, \"line\": {\"color\": \"white\"}}, \"type\": \"table\"}]}, \"layout\": {\"annotationdefaults\": {\"arrowcolor\": \"#2a3f5f\", \"arrowhead\": 0, \"arrowwidth\": 1}, \"coloraxis\": {\"colorbar\": {\"outlinewidth\": 0, \"ticks\": \"\"}}, \"colorscale\": {\"diverging\": [[0, \"#8e0152\"], [0.1, \"#c51b7d\"], [0.2, \"#de77ae\"], [0.3, \"#f1b6da\"], [0.4, \"#fde0ef\"], [0.5, \"#f7f7f7\"], [0.6, \"#e6f5d0\"], [0.7, \"#b8e186\"], [0.8, \"#7fbc41\"], [0.9, \"#4d9221\"], [1, \"#276419\"]], \"sequential\": [[0.0, \"#0d0887\"], [0.1111111111111111, \"#46039f\"], [0.2222222222222222, \"#7201a8\"], [0.3333333333333333, \"#9c179e\"], [0.4444444444444444, \"#bd3786\"], [0.5555555555555556, \"#d8576b\"], [0.6666666666666666, \"#ed7953\"], [0.7777777777777778, \"#fb9f3a\"], [0.8888888888888888, \"#fdca26\"], [1.0, \"#f0f921\"]], \"sequentialminus\": [[0.0, \"#0d0887\"], [0.1111111111111111, \"#46039f\"], [0.2222222222222222, \"#7201a8\"], [0.3333333333333333, \"#9c179e\"], [0.4444444444444444, \"#bd3786\"], [0.5555555555555556, \"#d8576b\"], [0.6666666666666666, \"#ed7953\"], [0.7777777777777778, \"#fb9f3a\"], [0.8888888888888888, \"#fdca26\"], [1.0, \"#f0f921\"]]}, \"colorway\": [\"#636efa\", \"#EF553B\", \"#00cc96\", \"#ab63fa\", \"#FFA15A\", \"#19d3f3\", \"#FF6692\", \"#B6E880\", \"#FF97FF\", \"#FECB52\"], \"font\": {\"color\": \"#2a3f5f\"}, \"geo\": {\"bgcolor\": \"white\", \"lakecolor\": \"white\", \"landcolor\": \"#E5ECF6\", \"showlakes\": true, \"showland\": true, \"subunitcolor\": \"white\"}, \"hoverlabel\": {\"align\": \"left\"}, \"hovermode\": \"closest\", \"mapbox\": {\"style\": \"light\"}, \"paper_bgcolor\": \"white\", \"plot_bgcolor\": \"#E5ECF6\", \"polar\": {\"angularaxis\": {\"gridcolor\": \"white\", \"linecolor\": \"white\", \"ticks\": \"\"}, \"bgcolor\": \"#E5ECF6\", \"radialaxis\": {\"gridcolor\": \"white\", \"linecolor\": \"white\", \"ticks\": \"\"}}, \"scene\": {\"xaxis\": {\"backgroundcolor\": \"#E5ECF6\", \"gridcolor\": \"white\", \"gridwidth\": 2, \"linecolor\": \"white\", \"showbackground\": true, \"ticks\": \"\", \"zerolinecolor\": \"white\"}, \"yaxis\": {\"backgroundcolor\": \"#E5ECF6\", \"gridcolor\": \"white\", \"gridwidth\": 2, \"linecolor\": \"white\", \"showbackground\": true, \"ticks\": \"\", \"zerolinecolor\": \"white\"}, \"zaxis\": {\"backgroundcolor\": \"#E5ECF6\", \"gridcolor\": \"white\", \"gridwidth\": 2, \"linecolor\": \"white\", \"showbackground\": true, \"ticks\": \"\", \"zerolinecolor\": \"white\"}}, \"shapedefaults\": {\"line\": {\"color\": \"#2a3f5f\"}}, \"ternary\": {\"aaxis\": {\"gridcolor\": \"white\", \"linecolor\": \"white\", \"ticks\": \"\"}, \"baxis\": {\"gridcolor\": \"white\", \"linecolor\": \"white\", \"ticks\": \"\"}, \"bgcolor\": \"#E5ECF6\", \"caxis\": {\"gridcolor\": \"white\", \"linecolor\": \"white\", \"ticks\": \"\"}}, \"title\": {\"x\": 0.05}, \"xaxis\": {\"automargin\": true, \"gridcolor\": \"white\", \"linecolor\": \"white\", \"ticks\": \"\", \"title\": {\"standoff\": 15}, \"zerolinecolor\": \"white\", \"zerolinewidth\": 2}, \"yaxis\": {\"automargin\": true, \"gridcolor\": \"white\", \"linecolor\": \"white\", \"ticks\": \"\", \"title\": {\"standoff\": 15}, \"zerolinecolor\": \"white\", \"zerolinewidth\": 2}}}, \"title\": {\"text\": \"Comparison of true prices (on the test dataset) with prices our model predicted\"}, \"xaxis\": {\"title\": {\"text\": \"Day number\"}}, \"yaxis\": {\"title\": {\"text\": \"Price, USD\"}}},\n",
              "                        {\"responsive\": true}\n",
              "                    ).then(function(){\n",
              "                            \n",
              "var gd = document.getElementById('db159217-9575-423c-8a18-cc71d6923bf5');\n",
              "var x = new MutationObserver(function (mutations, observer) {{\n",
              "        var display = window.getComputedStyle(gd).display;\n",
              "        if (!display || display === 'none') {{\n",
              "            console.log([gd, 'removed!']);\n",
              "            Plotly.purge(gd);\n",
              "            observer.disconnect();\n",
              "        }}\n",
              "}});\n",
              "\n",
              "// Listen for the removal of the full notebook cells\n",
              "var notebookContainer = gd.closest('#notebook-container');\n",
              "if (notebookContainer) {{\n",
              "    x.observe(notebookContainer, {childList: true});\n",
              "}}\n",
              "\n",
              "// Listen for the clearing of the current output cell\n",
              "var outputEl = gd.closest('.output');\n",
              "if (outputEl) {{\n",
              "    x.observe(outputEl, {childList: true});\n",
              "}}\n",
              "\n",
              "                        })\n",
              "                };\n",
              "                \n",
              "            </script>\n",
              "        </div>\n",
              "</body>\n",
              "</html>"
            ]
          },
          "metadata": {
            "tags": []
          }
        }
      ]
    },
    {
      "cell_type": "code",
      "metadata": {
        "id": "TcfeH1o-utpr",
        "colab_type": "code",
        "outputId": "9079adf2-6b67-49a6-caa7-fc9edb0afab6",
        "colab": {
          "base_uri": "https://localhost:8080/",
          "height": 52
        }
      },
      "source": [
        "mse_2_GRU = mean_squared_error(Y_test, prediction)\n",
        "print(\" MSE GRU with 2 layers (on test set) = \", mse_2_GRU)\n",
        "time_2_gru = end - start\n",
        "print(\"time GRU with 2 layers : %f sec \" %(time_2_gru))"
      ],
      "execution_count": 0,
      "outputs": [
        {
          "output_type": "stream",
          "text": [
            " MSE GRU with 2 layers (on test set) =  0.11845985683808437\n",
            "time GRU with 2 layers : 124.030419 sec \n"
          ],
          "name": "stdout"
        }
      ]
    },
    {
      "cell_type": "code",
      "metadata": {
        "id": "PUJCxslcutrx",
        "colab_type": "code",
        "outputId": "265e0de3-acb1-4b00-b22d-bfc1a4d8251f",
        "colab": {
          "base_uri": "https://localhost:8080/",
          "height": 542
        }
      },
      "source": [
        "trace1 = go.Scatter(\n",
        "    x = np.arange(0, len(history.history['loss']), 1),\n",
        "    y = history.history['loss'],\n",
        "    mode = 'lines',\n",
        "    name = 'Train loss',\n",
        "    line = dict(color=('rgb(66, 244, 155)'), width=2, dash='dash')\n",
        ")\n",
        "trace2 = go.Scatter(\n",
        "    x = np.arange(0, len(history.history['val_loss']), 1),\n",
        "    y = history.history['val_loss'],\n",
        "    mode = 'lines',\n",
        "    name = 'Test loss',\n",
        "    line = dict(color=('rgb(244, 146, 65)'), width=2)\n",
        ")\n",
        "\n",
        "d = [trace1, trace2]\n",
        "layout = dict(title = 'Train and Test Loss during training',\n",
        "              xaxis = dict(title = 'Epoch number'), yaxis = dict(title = 'Loss'))\n",
        "fig = dict(data=d, layout=layout)\n",
        "py.iplot(fig, filename='training_process')"
      ],
      "execution_count": 0,
      "outputs": [
        {
          "output_type": "display_data",
          "data": {
            "text/html": [
              "<html>\n",
              "<head><meta charset=\"utf-8\" /></head>\n",
              "<body>\n",
              "    <div>\n",
              "            <script src=\"https://cdnjs.cloudflare.com/ajax/libs/mathjax/2.7.5/MathJax.js?config=TeX-AMS-MML_SVG\"></script><script type=\"text/javascript\">if (window.MathJax) {MathJax.Hub.Config({SVG: {font: \"STIX-Web\"}});}</script>\n",
              "                <script type=\"text/javascript\">window.PlotlyConfig = {MathJaxConfig: 'local'};</script>\n",
              "        <script src=\"https://cdn.plot.ly/plotly-latest.min.js\"></script>    \n",
              "            <div id=\"13624de9-c064-4e91-b8d5-0349d334f53d\" class=\"plotly-graph-div\" style=\"height:525px; width:100%;\"></div>\n",
              "            <script type=\"text/javascript\">\n",
              "                \n",
              "                    window.PLOTLYENV=window.PLOTLYENV || {};\n",
              "                    \n",
              "                if (document.getElementById(\"13624de9-c064-4e91-b8d5-0349d334f53d\")) {\n",
              "                    Plotly.newPlot(\n",
              "                        '13624de9-c064-4e91-b8d5-0349d334f53d',\n",
              "                        [{\"line\": {\"color\": \"rgb(66, 244, 155)\", \"dash\": \"dash\", \"width\": 2}, \"mode\": \"lines\", \"name\": \"Train loss\", \"type\": \"scatter\", \"x\": [0, 1, 2, 3, 4, 5, 6, 7, 8, 9, 10, 11, 12, 13, 14, 15, 16, 17, 18, 19, 20, 21, 22, 23, 24, 25, 26, 27, 28, 29, 30, 31, 32, 33, 34, 35, 36, 37, 38, 39, 40, 41, 42, 43, 44, 45, 46, 47, 48, 49, 50, 51, 52, 53, 54, 55, 56, 57, 58, 59, 60, 61, 62, 63], \"y\": [0.33726510363250023, 0.061870650285683906, 0.042597783800177216, 0.037686866980189075, 0.030794980296731393, 0.035849790522620356, 0.024238338703305176, 0.031130283424173653, 0.021302609650017026, 0.022032621570043452, 0.0171876639168156, 0.015025134032004464, 0.01474175107694901, 0.014812690504392817, 0.015123468139620875, 0.015475888702340537, 0.01629263678027662, 0.020912611704686647, 0.010249828036644423, 0.018331593521349818, 0.014086438328935726, 0.015158632938098628, 0.009146682922736134, 0.010322561581620638, 0.01407238466040121, 0.018817316614812823, 0.014566084481962336, 0.009921866071057538, 0.010132837403124083, 0.011376632273333995, 0.019334406151944688, 0.00977981616377532, 0.011709924971914924, 0.012013809494238864, 0.018717777736497444, 0.01603912786955328, 0.01994916222342764, 0.013989237525837748, 0.011846007210185413, 0.01604611232320161, 0.008862725455152222, 0.014659991805038986, 0.02308611755099191, 0.014439811437190177, 0.014028149936814638, 0.009191919974858355, 0.00849087220789221, 0.010517415862673511, 0.01461670969539821, 0.009698004101889708, 0.013252148302878332, 0.009180272915377242, 0.011496061805903115, 0.007643069980202712, 0.007600994846738489, 0.008740507402085701, 0.010217375255723131, 0.010255144061660627, 0.013498899351202187, 0.008097156668890373, 0.008630202048829754, 0.012178941988207412, 0.012417494479523278, 0.012292016555286184]}, {\"line\": {\"color\": \"rgb(244, 146, 65)\", \"width\": 2}, \"mode\": \"lines\", \"name\": \"Test loss\", \"type\": \"scatter\", \"x\": [0, 1, 2, 3, 4, 5, 6, 7, 8, 9, 10, 11, 12, 13, 14, 15, 16, 17, 18, 19, 20, 21, 22, 23, 24, 25, 26, 27, 28, 29, 30, 31, 32, 33, 34, 35, 36, 37, 38, 39, 40, 41, 42, 43, 44, 45, 46, 47, 48, 49, 50, 51, 52, 53, 54, 55, 56, 57, 58, 59, 60, 61, 62, 63], \"y\": [0.1461314220877388, 0.1174513817399363, 0.08276188581050196, 0.051927742937320394, 0.04293933899813815, 0.030246542247978948, 0.026069278887744192, 0.036441678534957424, 0.022271641589041, 0.024200757187378557, 0.02212646136744113, 0.020673356773449652, 0.024145320718046984, 0.01987511908659075, 0.020174451691063144, 0.01777556288657309, 0.01842632401687435, 0.017920055756746215, 0.01747951011727505, 0.02045115032763798, 0.01852101054561289, 0.020942619942788836, 0.018663193158145193, 0.018518491990015477, 0.01675682386406992, 0.021256457483749602, 0.019120701223234587, 0.016167571043147692, 0.015214521172633277, 0.016948837580607286, 0.027091961471906192, 0.016685237636483167, 0.01626266390556776, 0.015023270863568104, 0.015173661805500713, 0.018679307891598232, 0.017246740316099757, 0.03702336139505422, 0.015976099674648876, 0.01483689216731847, 0.014976488998089033, 0.01671159700077923, 0.020271937905138808, 0.013181541209356695, 0.01547428592450068, 0.02132867514804194, 0.014143837073558494, 0.02575679821304128, 0.01432578763158261, 0.013499199683907667, 0.01573336264707997, 0.022879891309745704, 0.030382902514708193, 0.015526222642746907, 0.01940179846096265, 0.02511505220274005, 0.014445194709291564, 0.014111462391064138, 0.018244973749299592, 0.014436644160106211, 0.014860917112636792, 0.015684867360263685, 0.013253215134521074, 0.018312812865346292]}],\n",
              "                        {\"template\": {\"data\": {\"bar\": [{\"error_x\": {\"color\": \"#2a3f5f\"}, \"error_y\": {\"color\": \"#2a3f5f\"}, \"marker\": {\"line\": {\"color\": \"#E5ECF6\", \"width\": 0.5}}, \"type\": \"bar\"}], \"barpolar\": [{\"marker\": {\"line\": {\"color\": \"#E5ECF6\", \"width\": 0.5}}, \"type\": \"barpolar\"}], \"carpet\": [{\"aaxis\": {\"endlinecolor\": \"#2a3f5f\", \"gridcolor\": \"white\", \"linecolor\": \"white\", \"minorgridcolor\": \"white\", \"startlinecolor\": \"#2a3f5f\"}, \"baxis\": {\"endlinecolor\": \"#2a3f5f\", \"gridcolor\": \"white\", \"linecolor\": \"white\", \"minorgridcolor\": \"white\", \"startlinecolor\": \"#2a3f5f\"}, \"type\": \"carpet\"}], \"choropleth\": [{\"colorbar\": {\"outlinewidth\": 0, \"ticks\": \"\"}, \"type\": \"choropleth\"}], \"contour\": [{\"colorbar\": {\"outlinewidth\": 0, \"ticks\": \"\"}, \"colorscale\": [[0.0, \"#0d0887\"], [0.1111111111111111, \"#46039f\"], [0.2222222222222222, \"#7201a8\"], [0.3333333333333333, \"#9c179e\"], [0.4444444444444444, \"#bd3786\"], [0.5555555555555556, \"#d8576b\"], [0.6666666666666666, \"#ed7953\"], [0.7777777777777778, \"#fb9f3a\"], [0.8888888888888888, \"#fdca26\"], [1.0, \"#f0f921\"]], \"type\": \"contour\"}], \"contourcarpet\": [{\"colorbar\": {\"outlinewidth\": 0, \"ticks\": \"\"}, \"type\": \"contourcarpet\"}], \"heatmap\": [{\"colorbar\": {\"outlinewidth\": 0, \"ticks\": \"\"}, \"colorscale\": [[0.0, \"#0d0887\"], [0.1111111111111111, \"#46039f\"], [0.2222222222222222, \"#7201a8\"], [0.3333333333333333, \"#9c179e\"], [0.4444444444444444, \"#bd3786\"], [0.5555555555555556, \"#d8576b\"], [0.6666666666666666, \"#ed7953\"], [0.7777777777777778, \"#fb9f3a\"], [0.8888888888888888, \"#fdca26\"], [1.0, \"#f0f921\"]], \"type\": \"heatmap\"}], \"heatmapgl\": [{\"colorbar\": {\"outlinewidth\": 0, \"ticks\": \"\"}, \"colorscale\": [[0.0, \"#0d0887\"], [0.1111111111111111, \"#46039f\"], [0.2222222222222222, \"#7201a8\"], [0.3333333333333333, \"#9c179e\"], [0.4444444444444444, \"#bd3786\"], [0.5555555555555556, \"#d8576b\"], [0.6666666666666666, \"#ed7953\"], [0.7777777777777778, \"#fb9f3a\"], [0.8888888888888888, \"#fdca26\"], [1.0, \"#f0f921\"]], \"type\": \"heatmapgl\"}], \"histogram\": [{\"marker\": {\"colorbar\": {\"outlinewidth\": 0, \"ticks\": \"\"}}, \"type\": \"histogram\"}], \"histogram2d\": [{\"colorbar\": {\"outlinewidth\": 0, \"ticks\": \"\"}, \"colorscale\": [[0.0, \"#0d0887\"], [0.1111111111111111, \"#46039f\"], [0.2222222222222222, \"#7201a8\"], [0.3333333333333333, \"#9c179e\"], [0.4444444444444444, \"#bd3786\"], [0.5555555555555556, \"#d8576b\"], [0.6666666666666666, \"#ed7953\"], [0.7777777777777778, \"#fb9f3a\"], [0.8888888888888888, \"#fdca26\"], [1.0, \"#f0f921\"]], \"type\": \"histogram2d\"}], \"histogram2dcontour\": [{\"colorbar\": {\"outlinewidth\": 0, \"ticks\": \"\"}, \"colorscale\": [[0.0, \"#0d0887\"], [0.1111111111111111, \"#46039f\"], [0.2222222222222222, \"#7201a8\"], [0.3333333333333333, \"#9c179e\"], [0.4444444444444444, \"#bd3786\"], [0.5555555555555556, \"#d8576b\"], [0.6666666666666666, \"#ed7953\"], [0.7777777777777778, \"#fb9f3a\"], [0.8888888888888888, \"#fdca26\"], [1.0, \"#f0f921\"]], \"type\": \"histogram2dcontour\"}], \"mesh3d\": [{\"colorbar\": {\"outlinewidth\": 0, \"ticks\": \"\"}, \"type\": \"mesh3d\"}], \"parcoords\": [{\"line\": {\"colorbar\": {\"outlinewidth\": 0, \"ticks\": \"\"}}, \"type\": \"parcoords\"}], \"pie\": [{\"automargin\": true, \"type\": \"pie\"}], \"scatter\": [{\"marker\": {\"colorbar\": {\"outlinewidth\": 0, \"ticks\": \"\"}}, \"type\": \"scatter\"}], \"scatter3d\": [{\"line\": {\"colorbar\": {\"outlinewidth\": 0, \"ticks\": \"\"}}, \"marker\": {\"colorbar\": {\"outlinewidth\": 0, \"ticks\": \"\"}}, \"type\": \"scatter3d\"}], \"scattercarpet\": [{\"marker\": {\"colorbar\": {\"outlinewidth\": 0, \"ticks\": \"\"}}, \"type\": \"scattercarpet\"}], \"scattergeo\": [{\"marker\": {\"colorbar\": {\"outlinewidth\": 0, \"ticks\": \"\"}}, \"type\": \"scattergeo\"}], \"scattergl\": [{\"marker\": {\"colorbar\": {\"outlinewidth\": 0, \"ticks\": \"\"}}, \"type\": \"scattergl\"}], \"scattermapbox\": [{\"marker\": {\"colorbar\": {\"outlinewidth\": 0, \"ticks\": \"\"}}, \"type\": \"scattermapbox\"}], \"scatterpolar\": [{\"marker\": {\"colorbar\": {\"outlinewidth\": 0, \"ticks\": \"\"}}, \"type\": \"scatterpolar\"}], \"scatterpolargl\": [{\"marker\": {\"colorbar\": {\"outlinewidth\": 0, \"ticks\": \"\"}}, \"type\": \"scatterpolargl\"}], \"scatterternary\": [{\"marker\": {\"colorbar\": {\"outlinewidth\": 0, \"ticks\": \"\"}}, \"type\": \"scatterternary\"}], \"surface\": [{\"colorbar\": {\"outlinewidth\": 0, \"ticks\": \"\"}, \"colorscale\": [[0.0, \"#0d0887\"], [0.1111111111111111, \"#46039f\"], [0.2222222222222222, \"#7201a8\"], [0.3333333333333333, \"#9c179e\"], [0.4444444444444444, \"#bd3786\"], [0.5555555555555556, \"#d8576b\"], [0.6666666666666666, \"#ed7953\"], [0.7777777777777778, \"#fb9f3a\"], [0.8888888888888888, \"#fdca26\"], [1.0, \"#f0f921\"]], \"type\": \"surface\"}], \"table\": [{\"cells\": {\"fill\": {\"color\": \"#EBF0F8\"}, \"line\": {\"color\": \"white\"}}, \"header\": {\"fill\": {\"color\": \"#C8D4E3\"}, \"line\": {\"color\": \"white\"}}, \"type\": \"table\"}]}, \"layout\": {\"annotationdefaults\": {\"arrowcolor\": \"#2a3f5f\", \"arrowhead\": 0, \"arrowwidth\": 1}, \"coloraxis\": {\"colorbar\": {\"outlinewidth\": 0, \"ticks\": \"\"}}, \"colorscale\": {\"diverging\": [[0, \"#8e0152\"], [0.1, \"#c51b7d\"], [0.2, \"#de77ae\"], [0.3, \"#f1b6da\"], [0.4, \"#fde0ef\"], [0.5, \"#f7f7f7\"], [0.6, \"#e6f5d0\"], [0.7, \"#b8e186\"], [0.8, \"#7fbc41\"], [0.9, \"#4d9221\"], [1, \"#276419\"]], \"sequential\": [[0.0, \"#0d0887\"], [0.1111111111111111, \"#46039f\"], [0.2222222222222222, \"#7201a8\"], [0.3333333333333333, \"#9c179e\"], [0.4444444444444444, \"#bd3786\"], [0.5555555555555556, \"#d8576b\"], [0.6666666666666666, \"#ed7953\"], [0.7777777777777778, \"#fb9f3a\"], [0.8888888888888888, \"#fdca26\"], [1.0, \"#f0f921\"]], \"sequentialminus\": [[0.0, \"#0d0887\"], [0.1111111111111111, \"#46039f\"], [0.2222222222222222, \"#7201a8\"], [0.3333333333333333, \"#9c179e\"], [0.4444444444444444, \"#bd3786\"], [0.5555555555555556, \"#d8576b\"], [0.6666666666666666, \"#ed7953\"], [0.7777777777777778, \"#fb9f3a\"], [0.8888888888888888, \"#fdca26\"], [1.0, \"#f0f921\"]]}, \"colorway\": [\"#636efa\", \"#EF553B\", \"#00cc96\", \"#ab63fa\", \"#FFA15A\", \"#19d3f3\", \"#FF6692\", \"#B6E880\", \"#FF97FF\", \"#FECB52\"], \"font\": {\"color\": \"#2a3f5f\"}, \"geo\": {\"bgcolor\": \"white\", \"lakecolor\": \"white\", \"landcolor\": \"#E5ECF6\", \"showlakes\": true, \"showland\": true, \"subunitcolor\": \"white\"}, \"hoverlabel\": {\"align\": \"left\"}, \"hovermode\": \"closest\", \"mapbox\": {\"style\": \"light\"}, \"paper_bgcolor\": \"white\", \"plot_bgcolor\": \"#E5ECF6\", \"polar\": {\"angularaxis\": {\"gridcolor\": \"white\", \"linecolor\": \"white\", \"ticks\": \"\"}, \"bgcolor\": \"#E5ECF6\", \"radialaxis\": {\"gridcolor\": \"white\", \"linecolor\": \"white\", \"ticks\": \"\"}}, \"scene\": {\"xaxis\": {\"backgroundcolor\": \"#E5ECF6\", \"gridcolor\": \"white\", \"gridwidth\": 2, \"linecolor\": \"white\", \"showbackground\": true, \"ticks\": \"\", \"zerolinecolor\": \"white\"}, \"yaxis\": {\"backgroundcolor\": \"#E5ECF6\", \"gridcolor\": \"white\", \"gridwidth\": 2, \"linecolor\": \"white\", \"showbackground\": true, \"ticks\": \"\", \"zerolinecolor\": \"white\"}, \"zaxis\": {\"backgroundcolor\": \"#E5ECF6\", \"gridcolor\": \"white\", \"gridwidth\": 2, \"linecolor\": \"white\", \"showbackground\": true, \"ticks\": \"\", \"zerolinecolor\": \"white\"}}, \"shapedefaults\": {\"line\": {\"color\": \"#2a3f5f\"}}, \"ternary\": {\"aaxis\": {\"gridcolor\": \"white\", \"linecolor\": \"white\", \"ticks\": \"\"}, \"baxis\": {\"gridcolor\": \"white\", \"linecolor\": \"white\", \"ticks\": \"\"}, \"bgcolor\": \"#E5ECF6\", \"caxis\": {\"gridcolor\": \"white\", \"linecolor\": \"white\", \"ticks\": \"\"}}, \"title\": {\"x\": 0.05}, \"xaxis\": {\"automargin\": true, \"gridcolor\": \"white\", \"linecolor\": \"white\", \"ticks\": \"\", \"title\": {\"standoff\": 15}, \"zerolinecolor\": \"white\", \"zerolinewidth\": 2}, \"yaxis\": {\"automargin\": true, \"gridcolor\": \"white\", \"linecolor\": \"white\", \"ticks\": \"\", \"title\": {\"standoff\": 15}, \"zerolinecolor\": \"white\", \"zerolinewidth\": 2}}}, \"title\": {\"text\": \"Train and Test Loss during training\"}, \"xaxis\": {\"title\": {\"text\": \"Epoch number\"}}, \"yaxis\": {\"title\": {\"text\": \"Loss\"}}},\n",
              "                        {\"responsive\": true}\n",
              "                    ).then(function(){\n",
              "                            \n",
              "var gd = document.getElementById('13624de9-c064-4e91-b8d5-0349d334f53d');\n",
              "var x = new MutationObserver(function (mutations, observer) {{\n",
              "        var display = window.getComputedStyle(gd).display;\n",
              "        if (!display || display === 'none') {{\n",
              "            console.log([gd, 'removed!']);\n",
              "            Plotly.purge(gd);\n",
              "            observer.disconnect();\n",
              "        }}\n",
              "}});\n",
              "\n",
              "// Listen for the removal of the full notebook cells\n",
              "var notebookContainer = gd.closest('#notebook-container');\n",
              "if (notebookContainer) {{\n",
              "    x.observe(notebookContainer, {childList: true});\n",
              "}}\n",
              "\n",
              "// Listen for the clearing of the current output cell\n",
              "var outputEl = gd.closest('.output');\n",
              "if (outputEl) {{\n",
              "    x.observe(outputEl, {childList: true});\n",
              "}}\n",
              "\n",
              "                        })\n",
              "                };\n",
              "                \n",
              "            </script>\n",
              "        </div>\n",
              "</body>\n",
              "</html>"
            ]
          },
          "metadata": {
            "tags": []
          }
        }
      ]
    },
    {
      "cell_type": "code",
      "metadata": {
        "id": "AX3JKkgwutt9",
        "colab_type": "code",
        "colab": {}
      },
      "source": [
        "from keras.layers import  Conv1D, MaxPooling1D, Flatten\n"
      ],
      "execution_count": 0,
      "outputs": []
    },
    {
      "cell_type": "code",
      "metadata": {
        "id": "Vkb9tWyVutyo",
        "colab_type": "code",
        "outputId": "66ab1010-7200-4db5-cb8c-9c156012262b",
        "colab": {
          "base_uri": "https://localhost:8080/",
          "height": 644
        }
      },
      "source": [
        "# --------------------------------------\n",
        "# Network params\n",
        "# --------------------------------------\n",
        "\n",
        "batch_size = 100    # in each iteration, we consider 32 training examples at once\n",
        "num_epochs = 500    # we iterate 500 times MAXIMUM over the entire training set\n",
        "kernel_size = 10    # we will use 10x10 kernels throughout\n",
        "pool_size =  1     # we will use 1x1 pooling throughout\n",
        "conv_depth = 16    # we will initially have 16 kernels in first conv. layer...\n",
        "conv_depth_2  = 32  # we will initially have 32 kernels in second conv. layer...\n",
        "\n",
        "drop_prob = 0.01   # dropout after pooling with probability 0.01\n",
        "hidden_size = 1  # the FC layer will have 1neurons\n",
        "weight_penalty = 0.001 # Factor for weights penalty\n",
        "\n",
        "# --------------------------------------\n",
        "# CNN network definition\n",
        "# --------------------------------------\n",
        "\n",
        "\n",
        "model = Sequential()\n",
        "# Conv [8] -> Pool (with dropout on the pooling layer)\n",
        "\n",
        "model.add( Conv1D(conv_depth, kernel_size, border_mode='same', activation='tanh', data_format=\"channels_first\", input_shape=(X_train.shape[1], X_train.shape[2])) )\n",
        "model.add( MaxPooling1D(pool_size=pool_size))\n",
        "model.add( Dropout(drop_prob) )\n",
        "\n",
        "# Conv [16] -> Pool (with dropout on the pooling layer)\n",
        "model.add( Conv1D(conv_depth_2, kernel_size, border_mode='same', activation='tanh') )\n",
        "model.add( MaxPooling1D(pool_size= pool_size) )\n",
        "model.add( Dropout(drop_prob) )\n",
        "\n",
        "# Now flatten to 1D, apply FC \n",
        "model.add( Flatten() )\n",
        "model.add( Dense(hidden_size, kernel_regularizer=regularizers.l2(weight_penalty)) )\n",
        "\n",
        "\n",
        "print(model.summary())"
      ],
      "execution_count": 0,
      "outputs": [
        {
          "output_type": "stream",
          "text": [
            "/usr/local/lib/python3.6/dist-packages/ipykernel_launcher.py:21: UserWarning:\n",
            "\n",
            "Update your `Conv1D` call to the Keras 2 API: `Conv1D(16, 10, activation=\"tanh\", data_format=\"channels_first\", input_shape=(30, 7), padding=\"same\")`\n",
            "\n"
          ],
          "name": "stderr"
        },
        {
          "output_type": "stream",
          "text": [
            "WARNING:tensorflow:From /usr/local/lib/python3.6/dist-packages/keras/backend/tensorflow_backend.py:4070: The name tf.nn.max_pool is deprecated. Please use tf.nn.max_pool2d instead.\n",
            "\n",
            "Model: \"sequential_5\"\n",
            "_________________________________________________________________\n",
            "Layer (type)                 Output Shape              Param #   \n",
            "=================================================================\n",
            "conv1d_1 (Conv1D)            (None, 16, 7)             4816      \n",
            "_________________________________________________________________\n",
            "max_pooling1d_1 (MaxPooling1 (None, 16, 7)             0         \n",
            "_________________________________________________________________\n",
            "dropout_2 (Dropout)          (None, 16, 7)             0         \n",
            "_________________________________________________________________\n",
            "conv1d_2 (Conv1D)            (None, 16, 32)            2272      \n",
            "_________________________________________________________________\n",
            "max_pooling1d_2 (MaxPooling1 (None, 16, 32)            0         \n",
            "_________________________________________________________________\n",
            "dropout_3 (Dropout)          (None, 16, 32)            0         \n",
            "_________________________________________________________________\n",
            "flatten_1 (Flatten)          (None, 512)               0         \n",
            "_________________________________________________________________\n",
            "dense_6 (Dense)              (None, 1)                 513       \n",
            "=================================================================\n",
            "Total params: 7,601\n",
            "Trainable params: 7,601\n",
            "Non-trainable params: 0\n",
            "_________________________________________________________________\n",
            "None\n"
          ],
          "name": "stdout"
        },
        {
          "output_type": "stream",
          "text": [
            "/usr/local/lib/python3.6/dist-packages/ipykernel_launcher.py:26: UserWarning:\n",
            "\n",
            "Update your `Conv1D` call to the Keras 2 API: `Conv1D(32, 10, activation=\"tanh\", padding=\"same\")`\n",
            "\n"
          ],
          "name": "stderr"
        }
      ]
    },
    {
      "cell_type": "code",
      "metadata": {
        "id": "_UfkrsDfut5q",
        "colab_type": "code",
        "outputId": "fa3afe48-a761-4ed4-eed9-6ab6b8a6e54c",
        "colab": {
          "base_uri": "https://localhost:8080/",
          "height": 1000
        }
      },
      "source": [
        "# --------------------------------------\n",
        "# Loss function and Optimizer\n",
        "# --------------------------------------\n",
        "from keras.optimizers import Adam\n",
        "optimizer = Adam(lr=learning_rate)\n",
        "model.compile(loss='mean_squared_error', # using MSE\n",
        "              optimizer=optimizer, # using the Adam optimiser\n",
        "              ) \n",
        "# --------------------------------------\n",
        "# Training\n",
        "# --------------------------------------\n",
        "start = time.time()\n",
        "history = model.fit(X_train, Y_train, \n",
        "                    batch_size=batch, nb_epoch=epochs,\n",
        "                    shuffle=True, \n",
        "                    validation_split = 0.05,\n",
        "                   callbacks = [EarlyStopping(monitor='val_loss', patience=10, verbose = 1)])\n",
        "end = time.time()  \n"
      ],
      "execution_count": 0,
      "outputs": [
        {
          "output_type": "stream",
          "text": [
            "/usr/local/lib/python3.6/dist-packages/ipykernel_launcher.py:14: UserWarning:\n",
            "\n",
            "The `nb_epoch` argument in `fit` has been renamed `epochs`.\n",
            "\n"
          ],
          "name": "stderr"
        },
        {
          "output_type": "stream",
          "text": [
            "Train on 2995 samples, validate on 158 samples\n",
            "Epoch 1/500\n",
            "2995/2995 [==============================] - 5s 2ms/step - loss: 0.0962 - val_loss: 0.0823\n",
            "Epoch 2/500\n",
            "2995/2995 [==============================] - 0s 39us/step - loss: 0.0248 - val_loss: 0.0547\n",
            "Epoch 3/500\n",
            "2995/2995 [==============================] - 0s 40us/step - loss: 0.0164 - val_loss: 0.0455\n",
            "Epoch 4/500\n",
            "2995/2995 [==============================] - 0s 43us/step - loss: 0.0136 - val_loss: 0.0397\n",
            "Epoch 5/500\n",
            "2995/2995 [==============================] - 0s 36us/step - loss: 0.0126 - val_loss: 0.0466\n",
            "Epoch 6/500\n",
            "2995/2995 [==============================] - 0s 36us/step - loss: 0.0120 - val_loss: 0.0324\n",
            "Epoch 7/500\n",
            "2995/2995 [==============================] - 0s 38us/step - loss: 0.0111 - val_loss: 0.0295\n",
            "Epoch 8/500\n",
            "2995/2995 [==============================] - 0s 37us/step - loss: 0.0111 - val_loss: 0.0290\n",
            "Epoch 9/500\n",
            "2995/2995 [==============================] - 0s 38us/step - loss: 0.0096 - val_loss: 0.0308\n",
            "Epoch 10/500\n",
            "2995/2995 [==============================] - 0s 37us/step - loss: 0.0088 - val_loss: 0.0255\n",
            "Epoch 11/500\n",
            "2995/2995 [==============================] - 0s 38us/step - loss: 0.0096 - val_loss: 0.0301\n",
            "Epoch 12/500\n",
            "2995/2995 [==============================] - 0s 39us/step - loss: 0.0093 - val_loss: 0.0305\n",
            "Epoch 13/500\n",
            "2995/2995 [==============================] - 0s 38us/step - loss: 0.0101 - val_loss: 0.0333\n",
            "Epoch 14/500\n",
            "2995/2995 [==============================] - 0s 36us/step - loss: 0.0096 - val_loss: 0.0235\n",
            "Epoch 15/500\n",
            "2995/2995 [==============================] - 0s 37us/step - loss: 0.0084 - val_loss: 0.0229\n",
            "Epoch 16/500\n",
            "2995/2995 [==============================] - 0s 38us/step - loss: 0.0085 - val_loss: 0.0265\n",
            "Epoch 17/500\n",
            "2995/2995 [==============================] - 0s 39us/step - loss: 0.0078 - val_loss: 0.0212\n",
            "Epoch 18/500\n",
            "2995/2995 [==============================] - 0s 36us/step - loss: 0.0081 - val_loss: 0.0307\n",
            "Epoch 19/500\n",
            "2995/2995 [==============================] - 0s 36us/step - loss: 0.0083 - val_loss: 0.0232\n",
            "Epoch 20/500\n",
            "2995/2995 [==============================] - 0s 36us/step - loss: 0.0071 - val_loss: 0.0227\n",
            "Epoch 21/500\n",
            "2995/2995 [==============================] - 0s 43us/step - loss: 0.0070 - val_loss: 0.0218\n",
            "Epoch 22/500\n",
            "2995/2995 [==============================] - 0s 39us/step - loss: 0.0068 - val_loss: 0.0251\n",
            "Epoch 23/500\n",
            "2995/2995 [==============================] - 0s 35us/step - loss: 0.0079 - val_loss: 0.0280\n",
            "Epoch 24/500\n",
            "2995/2995 [==============================] - 0s 36us/step - loss: 0.0066 - val_loss: 0.0192\n",
            "Epoch 25/500\n",
            "2995/2995 [==============================] - 0s 36us/step - loss: 0.0068 - val_loss: 0.0200\n",
            "Epoch 26/500\n",
            "2995/2995 [==============================] - 0s 41us/step - loss: 0.0067 - val_loss: 0.0194\n",
            "Epoch 27/500\n",
            "2995/2995 [==============================] - 0s 36us/step - loss: 0.0067 - val_loss: 0.0188\n",
            "Epoch 28/500\n",
            "2995/2995 [==============================] - 0s 40us/step - loss: 0.0064 - val_loss: 0.0240\n",
            "Epoch 29/500\n",
            "2995/2995 [==============================] - 0s 36us/step - loss: 0.0071 - val_loss: 0.0201\n",
            "Epoch 30/500\n",
            "2995/2995 [==============================] - 0s 40us/step - loss: 0.0065 - val_loss: 0.0190\n",
            "Epoch 31/500\n",
            "2995/2995 [==============================] - 0s 38us/step - loss: 0.0064 - val_loss: 0.0192\n",
            "Epoch 32/500\n",
            "2995/2995 [==============================] - 0s 36us/step - loss: 0.0068 - val_loss: 0.0190\n",
            "Epoch 33/500\n",
            "2995/2995 [==============================] - 0s 36us/step - loss: 0.0067 - val_loss: 0.0187\n",
            "Epoch 34/500\n",
            "2995/2995 [==============================] - 0s 36us/step - loss: 0.0060 - val_loss: 0.0208\n",
            "Epoch 35/500\n",
            "2995/2995 [==============================] - 0s 38us/step - loss: 0.0061 - val_loss: 0.0205\n",
            "Epoch 36/500\n",
            "2995/2995 [==============================] - 0s 40us/step - loss: 0.0060 - val_loss: 0.0169\n",
            "Epoch 37/500\n",
            "2995/2995 [==============================] - 0s 39us/step - loss: 0.0061 - val_loss: 0.0348\n",
            "Epoch 38/500\n",
            "2995/2995 [==============================] - 0s 41us/step - loss: 0.0062 - val_loss: 0.0179\n",
            "Epoch 39/500\n",
            "2995/2995 [==============================] - 0s 37us/step - loss: 0.0057 - val_loss: 0.0193\n",
            "Epoch 40/500\n",
            "2995/2995 [==============================] - 0s 45us/step - loss: 0.0054 - val_loss: 0.0187\n",
            "Epoch 41/500\n",
            "2995/2995 [==============================] - 0s 36us/step - loss: 0.0058 - val_loss: 0.0161\n",
            "Epoch 42/500\n",
            "2995/2995 [==============================] - 0s 35us/step - loss: 0.0065 - val_loss: 0.0462\n",
            "Epoch 43/500\n",
            "2995/2995 [==============================] - 0s 37us/step - loss: 0.0061 - val_loss: 0.0258\n",
            "Epoch 44/500\n",
            "2995/2995 [==============================] - 0s 38us/step - loss: 0.0054 - val_loss: 0.0237\n",
            "Epoch 45/500\n",
            "2995/2995 [==============================] - 0s 37us/step - loss: 0.0057 - val_loss: 0.0169\n",
            "Epoch 46/500\n",
            "2995/2995 [==============================] - 0s 37us/step - loss: 0.0056 - val_loss: 0.0230\n",
            "Epoch 47/500\n",
            "2995/2995 [==============================] - 0s 43us/step - loss: 0.0056 - val_loss: 0.0190\n",
            "Epoch 48/500\n",
            "2995/2995 [==============================] - 0s 36us/step - loss: 0.0070 - val_loss: 0.0199\n",
            "Epoch 49/500\n",
            "2995/2995 [==============================] - 0s 42us/step - loss: 0.0058 - val_loss: 0.0161\n",
            "Epoch 50/500\n",
            "2995/2995 [==============================] - 0s 35us/step - loss: 0.0066 - val_loss: 0.0388\n",
            "Epoch 51/500\n",
            "2995/2995 [==============================] - 0s 37us/step - loss: 0.0069 - val_loss: 0.0218\n",
            "Epoch 00051: early stopping\n"
          ],
          "name": "stdout"
        }
      ]
    },
    {
      "cell_type": "code",
      "metadata": {
        "id": "oUQDGpZgut8n",
        "colab_type": "code",
        "outputId": "d2682050-2803-4beb-fcb4-e6cd64157b34",
        "colab": {
          "base_uri": "https://localhost:8080/",
          "height": 52
        }
      },
      "source": [
        "# get predictions and then make some transformations to be able to calculate RMSE properly in USD\n",
        "prediction = model.predict(X_test)\n",
        "print(prediction.shape)\n",
        "print(Y_test.shape)\n"
      ],
      "execution_count": 0,
      "outputs": [
        {
          "output_type": "stream",
          "text": [
            "(120, 1)\n",
            "(120, 1)\n"
          ],
          "name": "stdout"
        }
      ]
    },
    {
      "cell_type": "code",
      "metadata": {
        "id": "3GAdIE2cut_L",
        "colab_type": "code",
        "outputId": "787c5b3f-d13f-4794-cc6a-a9d85eb13715",
        "colab": {
          "base_uri": "https://localhost:8080/",
          "height": 542
        }
      },
      "source": [
        "trace1 = go.Scatter(\n",
        "    x = np.arange(0, len(prediction), 1),\n",
        "    y = prediction[1:,0],\n",
        "    mode = 'lines',\n",
        "    name = 'Predicted labels',\n",
        "    line = dict(color=('rgb(244, 146, 65)'), width=2)\n",
        ")\n",
        "trace2 = go.Scatter(\n",
        "    x = np.arange(0, len(Y_test), 1),\n",
        "    y = Y_test[:,0],\n",
        "    mode = 'lines',\n",
        "    name = 'True labels',\n",
        "    line = dict(color=('rgb(66, 244, 155)'), width=2)\n",
        ")\n",
        "\n",
        "d = [trace1, trace2]\n",
        "layout = dict(title = 'Comparison of true prices (on the test dataset) with prices our model predicted',\n",
        "             xaxis = dict(title = 'Day number'), yaxis = dict(title = 'Price, USD'))\n",
        "fig = dict(data=d, layout=layout)\n",
        "py.iplot(fig, filename='results_demonstrating0')"
      ],
      "execution_count": 0,
      "outputs": [
        {
          "output_type": "display_data",
          "data": {
            "text/html": [
              "<html>\n",
              "<head><meta charset=\"utf-8\" /></head>\n",
              "<body>\n",
              "    <div>\n",
              "            <script src=\"https://cdnjs.cloudflare.com/ajax/libs/mathjax/2.7.5/MathJax.js?config=TeX-AMS-MML_SVG\"></script><script type=\"text/javascript\">if (window.MathJax) {MathJax.Hub.Config({SVG: {font: \"STIX-Web\"}});}</script>\n",
              "                <script type=\"text/javascript\">window.PlotlyConfig = {MathJaxConfig: 'local'};</script>\n",
              "        <script src=\"https://cdn.plot.ly/plotly-latest.min.js\"></script>    \n",
              "            <div id=\"87610363-2bfe-45c8-a8f1-9601a06ccd91\" class=\"plotly-graph-div\" style=\"height:525px; width:100%;\"></div>\n",
              "            <script type=\"text/javascript\">\n",
              "                \n",
              "                    window.PLOTLYENV=window.PLOTLYENV || {};\n",
              "                    \n",
              "                if (document.getElementById(\"87610363-2bfe-45c8-a8f1-9601a06ccd91\")) {\n",
              "                    Plotly.newPlot(\n",
              "                        '87610363-2bfe-45c8-a8f1-9601a06ccd91',\n",
              "                        [{\"line\": {\"color\": \"rgb(244, 146, 65)\", \"width\": 2}, \"mode\": \"lines\", \"name\": \"Predicted labels\", \"type\": \"scatter\", \"x\": [0, 1, 2, 3, 4, 5, 6, 7, 8, 9, 10, 11, 12, 13, 14, 15, 16, 17, 18, 19, 20, 21, 22, 23, 24, 25, 26, 27, 28, 29, 30, 31, 32, 33, 34, 35, 36, 37, 38, 39, 40, 41, 42, 43, 44, 45, 46, 47, 48, 49, 50, 51, 52, 53, 54, 55, 56, 57, 58, 59, 60, 61, 62, 63, 64, 65, 66, 67, 68, 69, 70, 71, 72, 73, 74, 75, 76, 77, 78, 79, 80, 81, 82, 83, 84, 85, 86, 87, 88, 89, 90, 91, 92, 93, 94, 95, 96, 97, 98, 99, 100, 101, 102, 103, 104, 105, 106, 107, 108, 109, 110, 111, 112, 113, 114, 115, 116, 117, 118, 119], \"y\": [-0.7871010303497314, -0.9385105967521667, -0.9944559931755066, -0.9562820196151733, -0.8362653255462646, -0.6589062213897705, -0.5036830306053162, -0.5736238956451416, -0.6231920123100281, -0.7106556296348572, -0.7332431674003601, -0.6394310593605042, -0.6224476099014282, -0.5439432263374329, -0.5299670696258545, -0.5407137274742126, -0.6694238781929016, -0.8332058191299438, -0.8810432553291321, -0.9109330177307129, -0.8279860019683838, -0.8114774823188782, -0.865946352481842, -0.9851530194282532, -1.1522401571273804, -0.9828340411186218, -0.878948450088501, -0.9278847575187683, -0.9307489395141602, -0.7123091816902161, -0.715431272983551, -0.7197912335395813, -0.8268248438835144, -0.8458789587020874, -0.805687427520752, -0.7370132803916931, -0.7127530574798584, -0.7533525824546814, -0.8167659044265747, -0.8319137692451477, -1.0237512588500977, -0.90934818983078, -0.821034848690033, -0.7062351107597351, -0.46241602301597595, -0.24763080477714539, -0.1128867045044899, -0.20393848419189453, -0.1723335087299347, -0.12583482265472412, -0.04016838222742081, -0.05765652656555176, 0.20930224657058716, 0.43148481845855713, 0.5336419939994812, 0.522477388381958, 0.4706951677799225, 0.48338666558265686, 0.33165720105171204, 0.3561234176158905, 0.37288784980773926, 0.2467406988143921, 0.20060712099075317, 0.17378923296928406, 0.19765931367874146, 0.3413238823413849, 0.6661936640739441, 0.8053255677223206, 0.9082868099212646, 0.914203405380249, 0.9699006676673889, 0.980587363243103, 0.9353182911872864, 0.8658108115196228, 1.1037887334823608, 1.203650712966919, 1.2546193599700928, 1.3223341703414917, 1.4646223783493042, 1.3455297946929932, 1.4702845811843872, 1.6390985250473022, 1.6781779527664185, 1.8133513927459717, 1.6616824865341187, 1.5017868280410767, 1.3265962600708008, 1.4819459915161133, 1.253218412399292, 1.1227186918258667, 1.110689640045166, 1.0771195888519287, 1.2529674768447876, 1.1750930547714233, 0.9553792476654053, 0.6057785749435425, 0.4733242988586426, 0.31125345826148987, 0.2311159074306488, 0.2939853370189667, 0.36638641357421875, 0.339266836643219, 0.31791064143180847, 0.42373010516166687, 0.5544589757919312, 0.5169686079025269, 0.16495493054389954, -0.1953180432319641, -0.28038209676742554, -0.25443553924560547, -1.4820626974105835, -1.8934286832809448, -2.1174733638763428, -2.0352306365966797, -2.221889019012451, -2.134904146194458, -2.08642578125, -1.7057998180389404, -1.5152620077133179]}, {\"line\": {\"color\": \"rgb(66, 244, 155)\", \"width\": 2}, \"mode\": \"lines\", \"name\": \"True labels\", \"type\": \"scatter\", \"x\": [0, 1, 2, 3, 4, 5, 6, 7, 8, 9, 10, 11, 12, 13, 14, 15, 16, 17, 18, 19, 20, 21, 22, 23, 24, 25, 26, 27, 28, 29, 30, 31, 32, 33, 34, 35, 36, 37, 38, 39, 40, 41, 42, 43, 44, 45, 46, 47, 48, 49, 50, 51, 52, 53, 54, 55, 56, 57, 58, 59, 60, 61, 62, 63, 64, 65, 66, 67, 68, 69, 70, 71, 72, 73, 74, 75, 76, 77, 78, 79, 80, 81, 82, 83, 84, 85, 86, 87, 88, 89, 90, 91, 92, 93, 94, 95, 96, 97, 98, 99, 100, 101, 102, 103, 104, 105, 106, 107, 108, 109, 110, 111, 112, 113, 114, 115, 116, 117, 118, 119], \"y\": [-0.8037194170905599, -1.0280124766475254, -1.0018005762259632, -0.8935634317892968, -0.7059721044575563, -0.6385362639018578, -0.44443633827130974, -0.5325644497821793, -0.6961500379339011, -0.7828749970842486, -0.7736699794902202, -0.7658173979063341, -0.7350072150502898, -0.6120200653780139, -0.5885299424268624, -0.6071428430164402, -0.6955414417293379, -0.8278603998715927, -0.8691181509059824, -0.8760409327328966, -0.829846790261488, -0.9512701857970378, -0.9421581481787065, -1.0885593462765641, -1.3014074160977032, -0.9398421015113387, -0.8884748913011384, -0.8938592771665156, -0.9143824936204182, -0.686978831240127, -0.7050338519755207, -0.8096532300850577, -0.8763705890103681, -0.8332025221116527, -0.8717300429505691, -0.7867125342630261, -0.7063862879856628, -0.8225605412568487, -0.8792614209820464, -0.8811548313962448, -1.0385192139013144, -0.8416890580752929, -0.7516844416003521, -0.7222605056547028, -0.4792446600823363, -0.143122047936766, -0.11057905644272735, -0.3210180996208017, -0.1457001290810983, -0.12822834637507802, -0.09308191556151635, -0.10602303763356166, 0.35055090666526934, 0.44981970980968117, 0.40552743047753537, 0.5332312007351809, 0.5610406661937228, 0.4454750091271009, 0.33187883700024806, 0.3670168150887462, 0.36852140015002954, 0.16626459483331296, 0.13880169110236987, 0.08945468218231768, 0.24223768770303158, 0.5093268942559245, 0.877502239841857, 0.9086336262503101, 1.0083757819982726, 0.9434926644117164, 0.9684789196990871, 0.9221748918018559, 0.9467638690112478, 0.8100833047362849, 1.098591716599798, 1.2580101112952708, 1.3229016816068906, 1.364353845317738, 1.5726120854294594, 1.4129485617071478, 1.6228550832062287, 1.7922054298511807, 1.7140853448153612, 1.7496544118820923, 1.4863351207074704, 1.3911489837686744, 1.2503096787625252, 1.5491642261036236, 1.239177439854045, 1.1338480328391847, 1.2228383223065185, 1.2029490602323707, 1.4132528598094303, 1.2436658368627043, 0.973998549165479, 0.5573299198908965, 0.4626932100812202, 0.38420965786767475, 0.30997782636101334, 0.2769699349884875, 0.5020152870760938, 0.46014893983714067, 0.44973518255904854, 0.6649331099478096, 0.7541685284419823, 0.6239881097407642, 0.019778869484822725, -0.2620518895786162, -0.2626351276079895, -0.3052199564773316, -2.237411473266762, -2.4870288971136336, -2.502734060281406, -2.3556059278280976, -2.7578964717698593, -2.484180328767272, -2.459270148005472, -1.874569797195826, -1.6594817552328889, -1.7355478280783059]}],\n",
              "                        {\"template\": {\"data\": {\"bar\": [{\"error_x\": {\"color\": \"#2a3f5f\"}, \"error_y\": {\"color\": \"#2a3f5f\"}, \"marker\": {\"line\": {\"color\": \"#E5ECF6\", \"width\": 0.5}}, \"type\": \"bar\"}], \"barpolar\": [{\"marker\": {\"line\": {\"color\": \"#E5ECF6\", \"width\": 0.5}}, \"type\": \"barpolar\"}], \"carpet\": [{\"aaxis\": {\"endlinecolor\": \"#2a3f5f\", \"gridcolor\": \"white\", \"linecolor\": \"white\", \"minorgridcolor\": \"white\", \"startlinecolor\": \"#2a3f5f\"}, \"baxis\": {\"endlinecolor\": \"#2a3f5f\", \"gridcolor\": \"white\", \"linecolor\": \"white\", \"minorgridcolor\": \"white\", \"startlinecolor\": \"#2a3f5f\"}, \"type\": \"carpet\"}], \"choropleth\": [{\"colorbar\": {\"outlinewidth\": 0, \"ticks\": \"\"}, \"type\": \"choropleth\"}], \"contour\": [{\"colorbar\": {\"outlinewidth\": 0, \"ticks\": \"\"}, \"colorscale\": [[0.0, \"#0d0887\"], [0.1111111111111111, \"#46039f\"], [0.2222222222222222, \"#7201a8\"], [0.3333333333333333, \"#9c179e\"], [0.4444444444444444, \"#bd3786\"], [0.5555555555555556, \"#d8576b\"], [0.6666666666666666, \"#ed7953\"], [0.7777777777777778, \"#fb9f3a\"], [0.8888888888888888, \"#fdca26\"], [1.0, \"#f0f921\"]], \"type\": \"contour\"}], \"contourcarpet\": [{\"colorbar\": {\"outlinewidth\": 0, \"ticks\": \"\"}, \"type\": \"contourcarpet\"}], \"heatmap\": [{\"colorbar\": {\"outlinewidth\": 0, \"ticks\": \"\"}, \"colorscale\": [[0.0, \"#0d0887\"], [0.1111111111111111, \"#46039f\"], [0.2222222222222222, \"#7201a8\"], [0.3333333333333333, \"#9c179e\"], [0.4444444444444444, \"#bd3786\"], [0.5555555555555556, \"#d8576b\"], [0.6666666666666666, \"#ed7953\"], [0.7777777777777778, \"#fb9f3a\"], [0.8888888888888888, \"#fdca26\"], [1.0, \"#f0f921\"]], \"type\": \"heatmap\"}], \"heatmapgl\": [{\"colorbar\": {\"outlinewidth\": 0, \"ticks\": \"\"}, \"colorscale\": [[0.0, \"#0d0887\"], [0.1111111111111111, \"#46039f\"], [0.2222222222222222, \"#7201a8\"], [0.3333333333333333, \"#9c179e\"], [0.4444444444444444, \"#bd3786\"], [0.5555555555555556, \"#d8576b\"], [0.6666666666666666, \"#ed7953\"], [0.7777777777777778, \"#fb9f3a\"], [0.8888888888888888, \"#fdca26\"], [1.0, \"#f0f921\"]], \"type\": \"heatmapgl\"}], \"histogram\": [{\"marker\": {\"colorbar\": {\"outlinewidth\": 0, \"ticks\": \"\"}}, \"type\": \"histogram\"}], \"histogram2d\": [{\"colorbar\": {\"outlinewidth\": 0, \"ticks\": \"\"}, \"colorscale\": [[0.0, \"#0d0887\"], [0.1111111111111111, \"#46039f\"], [0.2222222222222222, \"#7201a8\"], [0.3333333333333333, \"#9c179e\"], [0.4444444444444444, \"#bd3786\"], [0.5555555555555556, \"#d8576b\"], [0.6666666666666666, \"#ed7953\"], [0.7777777777777778, \"#fb9f3a\"], [0.8888888888888888, \"#fdca26\"], [1.0, \"#f0f921\"]], \"type\": \"histogram2d\"}], \"histogram2dcontour\": [{\"colorbar\": {\"outlinewidth\": 0, \"ticks\": \"\"}, \"colorscale\": [[0.0, \"#0d0887\"], [0.1111111111111111, \"#46039f\"], [0.2222222222222222, \"#7201a8\"], [0.3333333333333333, \"#9c179e\"], [0.4444444444444444, \"#bd3786\"], [0.5555555555555556, \"#d8576b\"], [0.6666666666666666, \"#ed7953\"], [0.7777777777777778, \"#fb9f3a\"], [0.8888888888888888, \"#fdca26\"], [1.0, \"#f0f921\"]], \"type\": \"histogram2dcontour\"}], \"mesh3d\": [{\"colorbar\": {\"outlinewidth\": 0, \"ticks\": \"\"}, \"type\": \"mesh3d\"}], \"parcoords\": [{\"line\": {\"colorbar\": {\"outlinewidth\": 0, \"ticks\": \"\"}}, \"type\": \"parcoords\"}], \"pie\": [{\"automargin\": true, \"type\": \"pie\"}], \"scatter\": [{\"marker\": {\"colorbar\": {\"outlinewidth\": 0, \"ticks\": \"\"}}, \"type\": \"scatter\"}], \"scatter3d\": [{\"line\": {\"colorbar\": {\"outlinewidth\": 0, \"ticks\": \"\"}}, \"marker\": {\"colorbar\": {\"outlinewidth\": 0, \"ticks\": \"\"}}, \"type\": \"scatter3d\"}], \"scattercarpet\": [{\"marker\": {\"colorbar\": {\"outlinewidth\": 0, \"ticks\": \"\"}}, \"type\": \"scattercarpet\"}], \"scattergeo\": [{\"marker\": {\"colorbar\": {\"outlinewidth\": 0, \"ticks\": \"\"}}, \"type\": \"scattergeo\"}], \"scattergl\": [{\"marker\": {\"colorbar\": {\"outlinewidth\": 0, \"ticks\": \"\"}}, \"type\": \"scattergl\"}], \"scattermapbox\": [{\"marker\": {\"colorbar\": {\"outlinewidth\": 0, \"ticks\": \"\"}}, \"type\": \"scattermapbox\"}], \"scatterpolar\": [{\"marker\": {\"colorbar\": {\"outlinewidth\": 0, \"ticks\": \"\"}}, \"type\": \"scatterpolar\"}], \"scatterpolargl\": [{\"marker\": {\"colorbar\": {\"outlinewidth\": 0, \"ticks\": \"\"}}, \"type\": \"scatterpolargl\"}], \"scatterternary\": [{\"marker\": {\"colorbar\": {\"outlinewidth\": 0, \"ticks\": \"\"}}, \"type\": \"scatterternary\"}], \"surface\": [{\"colorbar\": {\"outlinewidth\": 0, \"ticks\": \"\"}, \"colorscale\": [[0.0, \"#0d0887\"], [0.1111111111111111, \"#46039f\"], [0.2222222222222222, \"#7201a8\"], [0.3333333333333333, \"#9c179e\"], [0.4444444444444444, \"#bd3786\"], [0.5555555555555556, \"#d8576b\"], [0.6666666666666666, \"#ed7953\"], [0.7777777777777778, \"#fb9f3a\"], [0.8888888888888888, \"#fdca26\"], [1.0, \"#f0f921\"]], \"type\": \"surface\"}], \"table\": [{\"cells\": {\"fill\": {\"color\": \"#EBF0F8\"}, \"line\": {\"color\": \"white\"}}, \"header\": {\"fill\": {\"color\": \"#C8D4E3\"}, \"line\": {\"color\": \"white\"}}, \"type\": \"table\"}]}, \"layout\": {\"annotationdefaults\": {\"arrowcolor\": \"#2a3f5f\", \"arrowhead\": 0, \"arrowwidth\": 1}, \"coloraxis\": {\"colorbar\": {\"outlinewidth\": 0, \"ticks\": \"\"}}, \"colorscale\": {\"diverging\": [[0, \"#8e0152\"], [0.1, \"#c51b7d\"], [0.2, \"#de77ae\"], [0.3, \"#f1b6da\"], [0.4, \"#fde0ef\"], [0.5, \"#f7f7f7\"], [0.6, \"#e6f5d0\"], [0.7, \"#b8e186\"], [0.8, \"#7fbc41\"], [0.9, \"#4d9221\"], [1, \"#276419\"]], \"sequential\": [[0.0, \"#0d0887\"], [0.1111111111111111, \"#46039f\"], [0.2222222222222222, \"#7201a8\"], [0.3333333333333333, \"#9c179e\"], [0.4444444444444444, \"#bd3786\"], [0.5555555555555556, \"#d8576b\"], [0.6666666666666666, \"#ed7953\"], [0.7777777777777778, \"#fb9f3a\"], [0.8888888888888888, \"#fdca26\"], [1.0, \"#f0f921\"]], \"sequentialminus\": [[0.0, \"#0d0887\"], [0.1111111111111111, \"#46039f\"], [0.2222222222222222, \"#7201a8\"], [0.3333333333333333, \"#9c179e\"], [0.4444444444444444, \"#bd3786\"], [0.5555555555555556, \"#d8576b\"], [0.6666666666666666, \"#ed7953\"], [0.7777777777777778, \"#fb9f3a\"], [0.8888888888888888, \"#fdca26\"], [1.0, \"#f0f921\"]]}, \"colorway\": [\"#636efa\", \"#EF553B\", \"#00cc96\", \"#ab63fa\", \"#FFA15A\", \"#19d3f3\", \"#FF6692\", \"#B6E880\", \"#FF97FF\", \"#FECB52\"], \"font\": {\"color\": \"#2a3f5f\"}, \"geo\": {\"bgcolor\": \"white\", \"lakecolor\": \"white\", \"landcolor\": \"#E5ECF6\", \"showlakes\": true, \"showland\": true, \"subunitcolor\": \"white\"}, \"hoverlabel\": {\"align\": \"left\"}, \"hovermode\": \"closest\", \"mapbox\": {\"style\": \"light\"}, \"paper_bgcolor\": \"white\", \"plot_bgcolor\": \"#E5ECF6\", \"polar\": {\"angularaxis\": {\"gridcolor\": \"white\", \"linecolor\": \"white\", \"ticks\": \"\"}, \"bgcolor\": \"#E5ECF6\", \"radialaxis\": {\"gridcolor\": \"white\", \"linecolor\": \"white\", \"ticks\": \"\"}}, \"scene\": {\"xaxis\": {\"backgroundcolor\": \"#E5ECF6\", \"gridcolor\": \"white\", \"gridwidth\": 2, \"linecolor\": \"white\", \"showbackground\": true, \"ticks\": \"\", \"zerolinecolor\": \"white\"}, \"yaxis\": {\"backgroundcolor\": \"#E5ECF6\", \"gridcolor\": \"white\", \"gridwidth\": 2, \"linecolor\": \"white\", \"showbackground\": true, \"ticks\": \"\", \"zerolinecolor\": \"white\"}, \"zaxis\": {\"backgroundcolor\": \"#E5ECF6\", \"gridcolor\": \"white\", \"gridwidth\": 2, \"linecolor\": \"white\", \"showbackground\": true, \"ticks\": \"\", \"zerolinecolor\": \"white\"}}, \"shapedefaults\": {\"line\": {\"color\": \"#2a3f5f\"}}, \"ternary\": {\"aaxis\": {\"gridcolor\": \"white\", \"linecolor\": \"white\", \"ticks\": \"\"}, \"baxis\": {\"gridcolor\": \"white\", \"linecolor\": \"white\", \"ticks\": \"\"}, \"bgcolor\": \"#E5ECF6\", \"caxis\": {\"gridcolor\": \"white\", \"linecolor\": \"white\", \"ticks\": \"\"}}, \"title\": {\"x\": 0.05}, \"xaxis\": {\"automargin\": true, \"gridcolor\": \"white\", \"linecolor\": \"white\", \"ticks\": \"\", \"title\": {\"standoff\": 15}, \"zerolinecolor\": \"white\", \"zerolinewidth\": 2}, \"yaxis\": {\"automargin\": true, \"gridcolor\": \"white\", \"linecolor\": \"white\", \"ticks\": \"\", \"title\": {\"standoff\": 15}, \"zerolinecolor\": \"white\", \"zerolinewidth\": 2}}}, \"title\": {\"text\": \"Comparison of true prices (on the test dataset) with prices our model predicted\"}, \"xaxis\": {\"title\": {\"text\": \"Day number\"}}, \"yaxis\": {\"title\": {\"text\": \"Price, USD\"}}},\n",
              "                        {\"responsive\": true}\n",
              "                    ).then(function(){\n",
              "                            \n",
              "var gd = document.getElementById('87610363-2bfe-45c8-a8f1-9601a06ccd91');\n",
              "var x = new MutationObserver(function (mutations, observer) {{\n",
              "        var display = window.getComputedStyle(gd).display;\n",
              "        if (!display || display === 'none') {{\n",
              "            console.log([gd, 'removed!']);\n",
              "            Plotly.purge(gd);\n",
              "            observer.disconnect();\n",
              "        }}\n",
              "}});\n",
              "\n",
              "// Listen for the removal of the full notebook cells\n",
              "var notebookContainer = gd.closest('#notebook-container');\n",
              "if (notebookContainer) {{\n",
              "    x.observe(notebookContainer, {childList: true});\n",
              "}}\n",
              "\n",
              "// Listen for the clearing of the current output cell\n",
              "var outputEl = gd.closest('.output');\n",
              "if (outputEl) {{\n",
              "    x.observe(outputEl, {childList: true});\n",
              "}}\n",
              "\n",
              "                        })\n",
              "                };\n",
              "                \n",
              "            </script>\n",
              "        </div>\n",
              "</body>\n",
              "</html>"
            ]
          },
          "metadata": {
            "tags": []
          }
        }
      ]
    },
    {
      "cell_type": "code",
      "metadata": {
        "id": "958aCqG9uuBn",
        "colab_type": "code",
        "outputId": "db6076be-5b62-4fe6-883d-e03316afe4a9",
        "colab": {
          "base_uri": "https://localhost:8080/",
          "height": 52
        }
      },
      "source": [
        "mse_cnn = mean_squared_error(Y_test, prediction)\n",
        "print(\" MSE CNN (on test set) = \", mse_cnn)\n",
        "time_cnn = end - start\n",
        "print(\"time CNN : %f sec \" %(time_cnn))"
      ],
      "execution_count": 0,
      "outputs": [
        {
          "output_type": "stream",
          "text": [
            " MSE CNN (on test set) =  0.08212293028235658\n",
            "time CNN : 11.119387 sec \n"
          ],
          "name": "stdout"
        }
      ]
    },
    {
      "cell_type": "code",
      "metadata": {
        "id": "fiZfV2WbuuD4",
        "colab_type": "code",
        "outputId": "3c3524ca-e9bb-472a-f8c0-12fd32d6b500",
        "colab": {
          "base_uri": "https://localhost:8080/",
          "height": 542
        }
      },
      "source": [
        "trace1 = go.Scatter(\n",
        "    x = np.arange(0, len(history.history['loss']), 1),\n",
        "    y = history.history['loss'],\n",
        "    mode = 'lines',\n",
        "    name = 'Train loss',\n",
        "    line = dict(color=('rgb(66, 244, 155)'), width=2, dash='dash')\n",
        ")\n",
        "trace2 = go.Scatter(\n",
        "    x = np.arange(0, len(history.history['val_loss']), 1),\n",
        "    y = history.history['val_loss'],\n",
        "    mode = 'lines',\n",
        "    name = 'Test loss',\n",
        "    line = dict(color=('rgb(244, 146, 65)'), width=2)\n",
        ")\n",
        "\n",
        "d = [trace1, trace2]\n",
        "layout = dict(title = 'Train and Test Loss during training ',\n",
        "              xaxis = dict(title = 'Epoch number'), yaxis = dict(title = 'Loss'))\n",
        "fig = dict(data=d, layout=layout)\n",
        "py.iplot(fig, filename='training_process')"
      ],
      "execution_count": 0,
      "outputs": [
        {
          "output_type": "display_data",
          "data": {
            "text/html": [
              "<html>\n",
              "<head><meta charset=\"utf-8\" /></head>\n",
              "<body>\n",
              "    <div>\n",
              "            <script src=\"https://cdnjs.cloudflare.com/ajax/libs/mathjax/2.7.5/MathJax.js?config=TeX-AMS-MML_SVG\"></script><script type=\"text/javascript\">if (window.MathJax) {MathJax.Hub.Config({SVG: {font: \"STIX-Web\"}});}</script>\n",
              "                <script type=\"text/javascript\">window.PlotlyConfig = {MathJaxConfig: 'local'};</script>\n",
              "        <script src=\"https://cdn.plot.ly/plotly-latest.min.js\"></script>    \n",
              "            <div id=\"218506d5-17c8-4e71-ba76-207d775a8015\" class=\"plotly-graph-div\" style=\"height:525px; width:100%;\"></div>\n",
              "            <script type=\"text/javascript\">\n",
              "                \n",
              "                    window.PLOTLYENV=window.PLOTLYENV || {};\n",
              "                    \n",
              "                if (document.getElementById(\"218506d5-17c8-4e71-ba76-207d775a8015\")) {\n",
              "                    Plotly.newPlot(\n",
              "                        '218506d5-17c8-4e71-ba76-207d775a8015',\n",
              "                        [{\"line\": {\"color\": \"rgb(66, 244, 155)\", \"dash\": \"dash\", \"width\": 2}, \"mode\": \"lines\", \"name\": \"Train loss\", \"type\": \"scatter\", \"x\": [0, 1, 2, 3, 4, 5, 6, 7, 8, 9, 10, 11, 12, 13, 14, 15, 16, 17, 18, 19, 20, 21, 22, 23, 24, 25, 26, 27, 28, 29, 30, 31, 32, 33, 34, 35, 36, 37, 38, 39, 40, 41, 42, 43, 44, 45, 46, 47, 48, 49, 50], \"y\": [0.0962425449704487, 0.024780001895555074, 0.016388041208278952, 0.013581025385405116, 0.012587642410648785, 0.012040430763876299, 0.011135755280943864, 0.011070060134804707, 0.009589721203061794, 0.008750999906101887, 0.00960945106035282, 0.009341333369306213, 0.010111860128645109, 0.009629407498009118, 0.008435943381602756, 0.008470295102822163, 0.00783218011782444, 0.00811397557369183, 0.008274154076803606, 0.007148904923368276, 0.007002461885097429, 0.006769865444194345, 0.007852761193842492, 0.0066326936483010026, 0.006821911970156561, 0.006686140942497673, 0.006664137856627446, 0.006351072076111037, 0.007056930641144613, 0.006544608140802741, 0.006404569801658342, 0.006797861513092442, 0.00671843410732352, 0.005954490490615343, 0.006106274146493369, 0.006022897050661565, 0.006069976307423739, 0.00616392395295862, 0.005745362133589979, 0.005381811853694124, 0.0057736749819888794, 0.0065368181739767425, 0.00608905373982314, 0.005446936202877651, 0.005663161546937213, 0.0056265432065747715, 0.005599849596184263, 0.007021658564101476, 0.005826695598288748, 0.006550893688944475, 0.006867826247715293]}, {\"line\": {\"color\": \"rgb(244, 146, 65)\", \"width\": 2}, \"mode\": \"lines\", \"name\": \"Test loss\", \"type\": \"scatter\", \"x\": [0, 1, 2, 3, 4, 5, 6, 7, 8, 9, 10, 11, 12, 13, 14, 15, 16, 17, 18, 19, 20, 21, 22, 23, 24, 25, 26, 27, 28, 29, 30, 31, 32, 33, 34, 35, 36, 37, 38, 39, 40, 41, 42, 43, 44, 45, 46, 47, 48, 49, 50], \"y\": [0.08229271883640109, 0.05474549161765394, 0.04551704756066769, 0.03965270217460922, 0.04656678136390976, 0.03237147579747665, 0.029457217247425754, 0.028958989024350915, 0.030790449061159846, 0.02552709544572649, 0.03006289882844762, 0.03045175950738448, 0.0333316619449024, 0.023510777721582336, 0.02294896049071339, 0.026544927584030962, 0.021152079022854944, 0.030690055576306354, 0.02317972633327487, 0.022700027456577822, 0.021793236130777792, 0.025074647715951824, 0.028016664559328105, 0.019246725059008297, 0.019951655765217315, 0.019379998321491707, 0.018780298424955412, 0.024006284290005134, 0.02006933308807732, 0.01898854862474188, 0.019233530186871184, 0.01903997123524358, 0.018707265935932534, 0.020798684015304228, 0.020517747035792358, 0.01694579262144958, 0.03482021205127239, 0.017934010599893104, 0.019300577761251714, 0.01868718657406825, 0.016061247621155992, 0.04623902136389213, 0.025846176910438116, 0.02368509842530836, 0.016893507629821572, 0.023013612373342998, 0.019037727726316903, 0.019911388736925547, 0.01610366496717251, 0.0388413520553444, 0.0217848358840882]}],\n",
              "                        {\"template\": {\"data\": {\"bar\": [{\"error_x\": {\"color\": \"#2a3f5f\"}, \"error_y\": {\"color\": \"#2a3f5f\"}, \"marker\": {\"line\": {\"color\": \"#E5ECF6\", \"width\": 0.5}}, \"type\": \"bar\"}], \"barpolar\": [{\"marker\": {\"line\": {\"color\": \"#E5ECF6\", \"width\": 0.5}}, \"type\": \"barpolar\"}], \"carpet\": [{\"aaxis\": {\"endlinecolor\": \"#2a3f5f\", \"gridcolor\": \"white\", \"linecolor\": \"white\", \"minorgridcolor\": \"white\", \"startlinecolor\": \"#2a3f5f\"}, \"baxis\": {\"endlinecolor\": \"#2a3f5f\", \"gridcolor\": \"white\", \"linecolor\": \"white\", \"minorgridcolor\": \"white\", \"startlinecolor\": \"#2a3f5f\"}, \"type\": \"carpet\"}], \"choropleth\": [{\"colorbar\": {\"outlinewidth\": 0, \"ticks\": \"\"}, \"type\": \"choropleth\"}], \"contour\": [{\"colorbar\": {\"outlinewidth\": 0, \"ticks\": \"\"}, \"colorscale\": [[0.0, \"#0d0887\"], [0.1111111111111111, \"#46039f\"], [0.2222222222222222, \"#7201a8\"], [0.3333333333333333, \"#9c179e\"], [0.4444444444444444, \"#bd3786\"], [0.5555555555555556, \"#d8576b\"], [0.6666666666666666, \"#ed7953\"], [0.7777777777777778, \"#fb9f3a\"], [0.8888888888888888, \"#fdca26\"], [1.0, \"#f0f921\"]], \"type\": \"contour\"}], \"contourcarpet\": [{\"colorbar\": {\"outlinewidth\": 0, \"ticks\": \"\"}, \"type\": \"contourcarpet\"}], \"heatmap\": [{\"colorbar\": {\"outlinewidth\": 0, \"ticks\": \"\"}, \"colorscale\": [[0.0, \"#0d0887\"], [0.1111111111111111, \"#46039f\"], [0.2222222222222222, \"#7201a8\"], [0.3333333333333333, \"#9c179e\"], [0.4444444444444444, \"#bd3786\"], [0.5555555555555556, \"#d8576b\"], [0.6666666666666666, \"#ed7953\"], [0.7777777777777778, \"#fb9f3a\"], [0.8888888888888888, \"#fdca26\"], [1.0, \"#f0f921\"]], \"type\": \"heatmap\"}], \"heatmapgl\": [{\"colorbar\": {\"outlinewidth\": 0, \"ticks\": \"\"}, \"colorscale\": [[0.0, \"#0d0887\"], [0.1111111111111111, \"#46039f\"], [0.2222222222222222, \"#7201a8\"], [0.3333333333333333, \"#9c179e\"], [0.4444444444444444, \"#bd3786\"], [0.5555555555555556, \"#d8576b\"], [0.6666666666666666, \"#ed7953\"], [0.7777777777777778, \"#fb9f3a\"], [0.8888888888888888, \"#fdca26\"], [1.0, \"#f0f921\"]], \"type\": \"heatmapgl\"}], \"histogram\": [{\"marker\": {\"colorbar\": {\"outlinewidth\": 0, \"ticks\": \"\"}}, \"type\": \"histogram\"}], \"histogram2d\": [{\"colorbar\": {\"outlinewidth\": 0, \"ticks\": \"\"}, \"colorscale\": [[0.0, \"#0d0887\"], [0.1111111111111111, \"#46039f\"], [0.2222222222222222, \"#7201a8\"], [0.3333333333333333, \"#9c179e\"], [0.4444444444444444, \"#bd3786\"], [0.5555555555555556, \"#d8576b\"], [0.6666666666666666, \"#ed7953\"], [0.7777777777777778, \"#fb9f3a\"], [0.8888888888888888, \"#fdca26\"], [1.0, \"#f0f921\"]], \"type\": \"histogram2d\"}], \"histogram2dcontour\": [{\"colorbar\": {\"outlinewidth\": 0, \"ticks\": \"\"}, \"colorscale\": [[0.0, \"#0d0887\"], [0.1111111111111111, \"#46039f\"], [0.2222222222222222, \"#7201a8\"], [0.3333333333333333, \"#9c179e\"], [0.4444444444444444, \"#bd3786\"], [0.5555555555555556, \"#d8576b\"], [0.6666666666666666, \"#ed7953\"], [0.7777777777777778, \"#fb9f3a\"], [0.8888888888888888, \"#fdca26\"], [1.0, \"#f0f921\"]], \"type\": \"histogram2dcontour\"}], \"mesh3d\": [{\"colorbar\": {\"outlinewidth\": 0, \"ticks\": \"\"}, \"type\": \"mesh3d\"}], \"parcoords\": [{\"line\": {\"colorbar\": {\"outlinewidth\": 0, \"ticks\": \"\"}}, \"type\": \"parcoords\"}], \"pie\": [{\"automargin\": true, \"type\": \"pie\"}], \"scatter\": [{\"marker\": {\"colorbar\": {\"outlinewidth\": 0, \"ticks\": \"\"}}, \"type\": \"scatter\"}], \"scatter3d\": [{\"line\": {\"colorbar\": {\"outlinewidth\": 0, \"ticks\": \"\"}}, \"marker\": {\"colorbar\": {\"outlinewidth\": 0, \"ticks\": \"\"}}, \"type\": \"scatter3d\"}], \"scattercarpet\": [{\"marker\": {\"colorbar\": {\"outlinewidth\": 0, \"ticks\": \"\"}}, \"type\": \"scattercarpet\"}], \"scattergeo\": [{\"marker\": {\"colorbar\": {\"outlinewidth\": 0, \"ticks\": \"\"}}, \"type\": \"scattergeo\"}], \"scattergl\": [{\"marker\": {\"colorbar\": {\"outlinewidth\": 0, \"ticks\": \"\"}}, \"type\": \"scattergl\"}], \"scattermapbox\": [{\"marker\": {\"colorbar\": {\"outlinewidth\": 0, \"ticks\": \"\"}}, \"type\": \"scattermapbox\"}], \"scatterpolar\": [{\"marker\": {\"colorbar\": {\"outlinewidth\": 0, \"ticks\": \"\"}}, \"type\": \"scatterpolar\"}], \"scatterpolargl\": [{\"marker\": {\"colorbar\": {\"outlinewidth\": 0, \"ticks\": \"\"}}, \"type\": \"scatterpolargl\"}], \"scatterternary\": [{\"marker\": {\"colorbar\": {\"outlinewidth\": 0, \"ticks\": \"\"}}, \"type\": \"scatterternary\"}], \"surface\": [{\"colorbar\": {\"outlinewidth\": 0, \"ticks\": \"\"}, \"colorscale\": [[0.0, \"#0d0887\"], [0.1111111111111111, \"#46039f\"], [0.2222222222222222, \"#7201a8\"], [0.3333333333333333, \"#9c179e\"], [0.4444444444444444, \"#bd3786\"], [0.5555555555555556, \"#d8576b\"], [0.6666666666666666, \"#ed7953\"], [0.7777777777777778, \"#fb9f3a\"], [0.8888888888888888, \"#fdca26\"], [1.0, \"#f0f921\"]], \"type\": \"surface\"}], \"table\": [{\"cells\": {\"fill\": {\"color\": \"#EBF0F8\"}, \"line\": {\"color\": \"white\"}}, \"header\": {\"fill\": {\"color\": \"#C8D4E3\"}, \"line\": {\"color\": \"white\"}}, \"type\": \"table\"}]}, \"layout\": {\"annotationdefaults\": {\"arrowcolor\": \"#2a3f5f\", \"arrowhead\": 0, \"arrowwidth\": 1}, \"coloraxis\": {\"colorbar\": {\"outlinewidth\": 0, \"ticks\": \"\"}}, \"colorscale\": {\"diverging\": [[0, \"#8e0152\"], [0.1, \"#c51b7d\"], [0.2, \"#de77ae\"], [0.3, \"#f1b6da\"], [0.4, \"#fde0ef\"], [0.5, \"#f7f7f7\"], [0.6, \"#e6f5d0\"], [0.7, \"#b8e186\"], [0.8, \"#7fbc41\"], [0.9, \"#4d9221\"], [1, \"#276419\"]], \"sequential\": [[0.0, \"#0d0887\"], [0.1111111111111111, \"#46039f\"], [0.2222222222222222, \"#7201a8\"], [0.3333333333333333, \"#9c179e\"], [0.4444444444444444, \"#bd3786\"], [0.5555555555555556, \"#d8576b\"], [0.6666666666666666, \"#ed7953\"], [0.7777777777777778, \"#fb9f3a\"], [0.8888888888888888, \"#fdca26\"], [1.0, \"#f0f921\"]], \"sequentialminus\": [[0.0, \"#0d0887\"], [0.1111111111111111, \"#46039f\"], [0.2222222222222222, \"#7201a8\"], [0.3333333333333333, \"#9c179e\"], [0.4444444444444444, \"#bd3786\"], [0.5555555555555556, \"#d8576b\"], [0.6666666666666666, \"#ed7953\"], [0.7777777777777778, \"#fb9f3a\"], [0.8888888888888888, \"#fdca26\"], [1.0, \"#f0f921\"]]}, \"colorway\": [\"#636efa\", \"#EF553B\", \"#00cc96\", \"#ab63fa\", \"#FFA15A\", \"#19d3f3\", \"#FF6692\", \"#B6E880\", \"#FF97FF\", \"#FECB52\"], \"font\": {\"color\": \"#2a3f5f\"}, \"geo\": {\"bgcolor\": \"white\", \"lakecolor\": \"white\", \"landcolor\": \"#E5ECF6\", \"showlakes\": true, \"showland\": true, \"subunitcolor\": \"white\"}, \"hoverlabel\": {\"align\": \"left\"}, \"hovermode\": \"closest\", \"mapbox\": {\"style\": \"light\"}, \"paper_bgcolor\": \"white\", \"plot_bgcolor\": \"#E5ECF6\", \"polar\": {\"angularaxis\": {\"gridcolor\": \"white\", \"linecolor\": \"white\", \"ticks\": \"\"}, \"bgcolor\": \"#E5ECF6\", \"radialaxis\": {\"gridcolor\": \"white\", \"linecolor\": \"white\", \"ticks\": \"\"}}, \"scene\": {\"xaxis\": {\"backgroundcolor\": \"#E5ECF6\", \"gridcolor\": \"white\", \"gridwidth\": 2, \"linecolor\": \"white\", \"showbackground\": true, \"ticks\": \"\", \"zerolinecolor\": \"white\"}, \"yaxis\": {\"backgroundcolor\": \"#E5ECF6\", \"gridcolor\": \"white\", \"gridwidth\": 2, \"linecolor\": \"white\", \"showbackground\": true, \"ticks\": \"\", \"zerolinecolor\": \"white\"}, \"zaxis\": {\"backgroundcolor\": \"#E5ECF6\", \"gridcolor\": \"white\", \"gridwidth\": 2, \"linecolor\": \"white\", \"showbackground\": true, \"ticks\": \"\", \"zerolinecolor\": \"white\"}}, \"shapedefaults\": {\"line\": {\"color\": \"#2a3f5f\"}}, \"ternary\": {\"aaxis\": {\"gridcolor\": \"white\", \"linecolor\": \"white\", \"ticks\": \"\"}, \"baxis\": {\"gridcolor\": \"white\", \"linecolor\": \"white\", \"ticks\": \"\"}, \"bgcolor\": \"#E5ECF6\", \"caxis\": {\"gridcolor\": \"white\", \"linecolor\": \"white\", \"ticks\": \"\"}}, \"title\": {\"x\": 0.05}, \"xaxis\": {\"automargin\": true, \"gridcolor\": \"white\", \"linecolor\": \"white\", \"ticks\": \"\", \"title\": {\"standoff\": 15}, \"zerolinecolor\": \"white\", \"zerolinewidth\": 2}, \"yaxis\": {\"automargin\": true, \"gridcolor\": \"white\", \"linecolor\": \"white\", \"ticks\": \"\", \"title\": {\"standoff\": 15}, \"zerolinecolor\": \"white\", \"zerolinewidth\": 2}}}, \"title\": {\"text\": \"Train and Test Loss during training \"}, \"xaxis\": {\"title\": {\"text\": \"Epoch number\"}}, \"yaxis\": {\"title\": {\"text\": \"Loss\"}}},\n",
              "                        {\"responsive\": true}\n",
              "                    ).then(function(){\n",
              "                            \n",
              "var gd = document.getElementById('218506d5-17c8-4e71-ba76-207d775a8015');\n",
              "var x = new MutationObserver(function (mutations, observer) {{\n",
              "        var display = window.getComputedStyle(gd).display;\n",
              "        if (!display || display === 'none') {{\n",
              "            console.log([gd, 'removed!']);\n",
              "            Plotly.purge(gd);\n",
              "            observer.disconnect();\n",
              "        }}\n",
              "}});\n",
              "\n",
              "// Listen for the removal of the full notebook cells\n",
              "var notebookContainer = gd.closest('#notebook-container');\n",
              "if (notebookContainer) {{\n",
              "    x.observe(notebookContainer, {childList: true});\n",
              "}}\n",
              "\n",
              "// Listen for the clearing of the current output cell\n",
              "var outputEl = gd.closest('.output');\n",
              "if (outputEl) {{\n",
              "    x.observe(outputEl, {childList: true});\n",
              "}}\n",
              "\n",
              "                        })\n",
              "                };\n",
              "                \n",
              "            </script>\n",
              "        </div>\n",
              "</body>\n",
              "</html>"
            ]
          },
          "metadata": {
            "tags": []
          }
        }
      ]
    },
    {
      "cell_type": "markdown",
      "metadata": {
        "id": "r6eU0IFItR36",
        "colab_type": "text"
      },
      "source": [
        "ARIMA Time Series Model as Prediction reference"
      ]
    },
    {
      "cell_type": "markdown",
      "metadata": {
        "id": "r1_E0saADU5j",
        "colab_type": "text"
      },
      "source": [
        "The Bitcoin price\n",
        " appears to be non-stationary with an element of seasonality and trend, hence a SARIMA\n",
        "model is considered as one of the baseline models (Paulo Cortez, 2004). "
      ]
    },
    {
      "cell_type": "markdown",
      "metadata": {
        "id": "aPQexD6IBbvn",
        "colab_type": "text"
      },
      "source": [
        "One of the most common methods used in time series forecasting is known as the ARIMA model, which stands for AutoregRessive Integrated Moving Average. ARIMA is a model that can be fitted to time series data in order to better understand or predict future points in the series.\n",
        "\n",
        "There are three distinct integers (p, d, q) that are used to parametrize ARIMA models. Because of that, ARIMA models are denoted with the notation ARIMA(p, d, q). Together these three parameters account for seasonality, trend, and noise in datasets:\n",
        "\n",
        "* p is the auto-regressive part of the model. It allows us to incorporate the effect of past values into our model. Intuitively, this would be similar to stating that it is likely to be warm tomorrow if it has been warm the past 3 days.\n",
        "* d is the integrated part of the model. This includes terms in the model that incorporate the amount of differencing (i.e. the number of past time points to subtract from the current value) to apply to the time series. Intuitively, this would be similar to stating that it is likely to be same temperature tomorrow if the difference in temperature in the last three days has been very small.\n",
        "* q is the moving average part of the model. This allows us to set the error of our model as a linear combination of the error values observed at previous time points in the past."
      ]
    },
    {
      "cell_type": "code",
      "metadata": {
        "id": "6YhDeldZtPDM",
        "colab_type": "code",
        "colab": {}
      },
      "source": [
        "from statsmodels.tsa.arima_model import ARIMA\n"
      ],
      "execution_count": 0,
      "outputs": []
    },
    {
      "cell_type": "code",
      "metadata": {
        "id": "iIOTiUo3tO74",
        "colab_type": "code",
        "outputId": "738224f8-3196-49dc-d7d8-d7d429817c38",
        "colab": {
          "base_uri": "https://localhost:8080/",
          "height": 572
        }
      },
      "source": [
        "model = ARIMA(working_data['Bitcoin Core (BTC) Price'],\n",
        "            order=(2, 1, 1))\n",
        "results = model.fit()\n",
        "print(results.summary())\n",
        "\n"
      ],
      "execution_count": 0,
      "outputs": [
        {
          "output_type": "stream",
          "text": [
            "/usr/local/lib/python3.6/dist-packages/statsmodels/tsa/base/tsa_model.py:219: ValueWarning:\n",
            "\n",
            "A date index has been provided, but it has no associated frequency information and so will be ignored when e.g. forecasting.\n",
            "\n",
            "/usr/local/lib/python3.6/dist-packages/statsmodels/tsa/base/tsa_model.py:219: ValueWarning:\n",
            "\n",
            "A date index has been provided, but it has no associated frequency information and so will be ignored when e.g. forecasting.\n",
            "\n"
          ],
          "name": "stderr"
        },
        {
          "output_type": "stream",
          "text": [
            "                                 ARIMA Model Results                                  \n",
            "======================================================================================\n",
            "Dep. Variable:     D.Bitcoin Core (BTC) Price   No. Observations:                 3332\n",
            "Model:                         ARIMA(2, 1, 1)   Log Likelihood              -22368.206\n",
            "Method:                               css-mle   S.D. of innovations            199.179\n",
            "Date:                        Sat, 11 Apr 2020   AIC                          44746.412\n",
            "Time:                                17:15:58   BIC                          44776.969\n",
            "Sample:                                     1   HQIC                         44757.345\n",
            "                                                                                      \n",
            "====================================================================================================\n",
            "                                       coef    std err          z      P>|z|      [0.025      0.975]\n",
            "----------------------------------------------------------------------------------------------------\n",
            "const                                1.8547      3.735      0.497      0.620      -5.466       9.175\n",
            "ar.L1.D.Bitcoin Core (BTC) Price    -0.6685      0.081     -8.292      0.000      -0.827      -0.511\n",
            "ar.L2.D.Bitcoin Core (BTC) Price     0.0357      0.021      1.674      0.094      -0.006       0.077\n",
            "ma.L1.D.Bitcoin Core (BTC) Price     0.7675      0.079      9.777      0.000       0.614       0.921\n",
            "                                    Roots                                    \n",
            "=============================================================================\n",
            "                  Real          Imaginary           Modulus         Frequency\n",
            "-----------------------------------------------------------------------------\n",
            "AR.1           -1.3924           +0.0000j            1.3924            0.5000\n",
            "AR.2           20.1340           +0.0000j           20.1340            0.0000\n",
            "MA.1           -1.3029           +0.0000j            1.3029            0.5000\n",
            "-----------------------------------------------------------------------------\n"
          ],
          "name": "stdout"
        }
      ]
    },
    {
      "cell_type": "code",
      "metadata": {
        "id": "hOwD6_ueHg5X",
        "colab_type": "code",
        "colab": {}
      },
      "source": [
        "predictions = list()\n",
        "history = [x for x in y_train]\n",
        "start = time.time()\n",
        "for t in range(len(y_test)):\n",
        "  model = ARIMA(history, order=(2,1,1))\n",
        "  model_fit = model.fit(disp=0)\n",
        "  output = model_fit.forecast()\n",
        "  yhat = output[0]\n",
        "  predictions.append(yhat)\n",
        "  obs = y_test[t]\n",
        "  history.append(obs)\n",
        "#  print('predicted=%f, expected=%f' % (yhat, obs))\n",
        "end = time.time()\n",
        "\n",
        "\n"
      ],
      "execution_count": 0,
      "outputs": []
    },
    {
      "cell_type": "code",
      "metadata": {
        "id": "hkyYjFN5tOva",
        "colab_type": "code",
        "outputId": "cb9a0c88-dbf7-4214-9994-50337f4431b4",
        "colab": {
          "base_uri": "https://localhost:8080/",
          "height": 52
        }
      },
      "source": [
        "mse_arima = mean_squared_error(y_test, predictions)\n",
        "print('Test MSE ARIMA : %.3f' % mse_arima)\n",
        "time_arima = end - start\n",
        "print('Time ARIMA : %.3f' % time_arima)"
      ],
      "execution_count": 0,
      "outputs": [
        {
          "output_type": "stream",
          "text": [
            "Test MSE ARIMA : 0.107\n",
            "Time ARIMA : 74.111\n"
          ],
          "name": "stdout"
        }
      ]
    },
    {
      "cell_type": "markdown",
      "metadata": {
        "id": "kdDHhvpvK6_I",
        "colab_type": "text"
      },
      "source": [
        "Conclusion : "
      ]
    },
    {
      "cell_type": "code",
      "metadata": {
        "id": "hNhJbbbwJSYa",
        "colab_type": "code",
        "colab": {}
      },
      "source": [
        "ar = np.array([[mse_arima, mse_mlp, mse_mlp_keras, mse_lstm, mse_gru_reccurent_dropout, mse_2_GRU, mse_cnn], [time_arima, time_mlp_skl, time_mlp_keras, time_lstm,time_gru_rec_drop,time_2_gru,time_cnn]])\n",
        "df = pd.DataFrame(np.transpose(ar), index = ['ARIMA', 'MLP Scikit Learn', 'MLP Keras', 'LSTM', 'GRU with recurrent Dropout', 'GRU with 2 layers', 'CNN with multiple Conv1D'], columns = ['Mean Squared Error', 'Time'])"
      ],
      "execution_count": 0,
      "outputs": []
    },
    {
      "cell_type": "code",
      "metadata": {
        "id": "_leEMM5XJSWa",
        "colab_type": "code",
        "outputId": "97d931ef-df63-4832-c254-af5327da0e50",
        "colab": {
          "base_uri": "https://localhost:8080/",
          "height": 263
        }
      },
      "source": [
        "df"
      ],
      "execution_count": 0,
      "outputs": [
        {
          "output_type": "execute_result",
          "data": {
            "text/html": [
              "<div>\n",
              "<style scoped>\n",
              "    .dataframe tbody tr th:only-of-type {\n",
              "        vertical-align: middle;\n",
              "    }\n",
              "\n",
              "    .dataframe tbody tr th {\n",
              "        vertical-align: top;\n",
              "    }\n",
              "\n",
              "    .dataframe thead th {\n",
              "        text-align: right;\n",
              "    }\n",
              "</style>\n",
              "<table border=\"1\" class=\"dataframe\">\n",
              "  <thead>\n",
              "    <tr style=\"text-align: right;\">\n",
              "      <th></th>\n",
              "      <th>Mean Squared Error</th>\n",
              "      <th>Time</th>\n",
              "    </tr>\n",
              "  </thead>\n",
              "  <tbody>\n",
              "    <tr>\n",
              "      <th>ARIMA</th>\n",
              "      <td>0.107162</td>\n",
              "      <td>74.110532</td>\n",
              "    </tr>\n",
              "    <tr>\n",
              "      <th>MLP Scikit Learn</th>\n",
              "      <td>0.212657</td>\n",
              "      <td>5.048307</td>\n",
              "    </tr>\n",
              "    <tr>\n",
              "      <th>MLP Keras</th>\n",
              "      <td>0.170209</td>\n",
              "      <td>13.805968</td>\n",
              "    </tr>\n",
              "    <tr>\n",
              "      <th>LSTM</th>\n",
              "      <td>0.142619</td>\n",
              "      <td>170.219450</td>\n",
              "    </tr>\n",
              "    <tr>\n",
              "      <th>GRU with recurrent Dropout</th>\n",
              "      <td>0.096218</td>\n",
              "      <td>134.438140</td>\n",
              "    </tr>\n",
              "    <tr>\n",
              "      <th>GRU with 2 layers</th>\n",
              "      <td>0.118460</td>\n",
              "      <td>124.030419</td>\n",
              "    </tr>\n",
              "    <tr>\n",
              "      <th>CNN with multiple Conv1D</th>\n",
              "      <td>0.082123</td>\n",
              "      <td>11.119387</td>\n",
              "    </tr>\n",
              "  </tbody>\n",
              "</table>\n",
              "</div>"
            ],
            "text/plain": [
              "                            Mean Squared Error        Time\n",
              "ARIMA                                 0.107162   74.110532\n",
              "MLP Scikit Learn                      0.212657    5.048307\n",
              "MLP Keras                             0.170209   13.805968\n",
              "LSTM                                  0.142619  170.219450\n",
              "GRU with recurrent Dropout            0.096218  134.438140\n",
              "GRU with 2 layers                     0.118460  124.030419\n",
              "CNN with multiple Conv1D              0.082123   11.119387"
            ]
          },
          "metadata": {
            "tags": []
          },
          "execution_count": 72
        }
      ]
    },
    {
      "cell_type": "code",
      "metadata": {
        "id": "LdhsKBuHJSS6",
        "colab_type": "code",
        "colab": {}
      },
      "source": [
        ""
      ],
      "execution_count": 0,
      "outputs": []
    },
    {
      "cell_type": "code",
      "metadata": {
        "id": "DcQuZaVBJSMg",
        "colab_type": "code",
        "colab": {}
      },
      "source": [
        ""
      ],
      "execution_count": 0,
      "outputs": []
    },
    {
      "cell_type": "code",
      "metadata": {
        "id": "TAErB3gfJSJO",
        "colab_type": "code",
        "colab": {}
      },
      "source": [
        ""
      ],
      "execution_count": 0,
      "outputs": []
    },
    {
      "cell_type": "code",
      "metadata": {
        "id": "KIVZDUVMtOri",
        "colab_type": "code",
        "colab": {}
      },
      "source": [
        ""
      ],
      "execution_count": 0,
      "outputs": []
    }
  ]
}